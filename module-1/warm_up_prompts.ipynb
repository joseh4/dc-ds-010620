{
 "cells": [
  {
   "cell_type": "markdown",
   "metadata": {},
   "source": [
    "# warmup answers can be found on slack, my answers as well as classmates answers"
   ]
  },
  {
   "cell_type": "markdown",
   "metadata": {},
   "source": [
    "WARM UP 1.8 QUESTION:\n",
    "   \n",
    "1. Create a list containing the names of 5 friends called friends.\n",
    "2. Create a second list that only contains the names of friends 2-4 from the list friends and name this new list friends2. Don't just rewrite the list with strings, but instead use list indexing."
   ]
  },
  {
   "cell_type": "markdown",
   "metadata": {},
   "source": [
    "WARM UP 1.9 QUESTION: \n",
    "\n",
    "    Question:\n",
    "1. Create a dictionary named people where each object contains a list of one float (Age) and one string (Family name) (at least 5 objects)\n",
    "<br>Example: {Charles: [23.4, \"Darwin\"], Alan: [42.5, \"Turing\"]}\n",
    "2. Delete one object from the dictionary named people"
   ]
  },
  {
   "cell_type": "markdown",
   "metadata": {},
   "source": [
    "WARM UP 1.10\n",
    "Question:\n",
    "1. Using the dictionary named people you used yesterday, replace the float number of one of your objects - we are changing a list entry inside a dictionary record! look at Darwin's new age\n",
    "Example: {Charles: [99.73, \"Darwin\"], Alan: [42.5, \"Turing\"]}\n",
    "2. Write a for loop that goes through all records in the dictionary, and assigns the float numbers into one merged list named ages (see ages)\n",
    "ages = [23.4, 22.9, 552.9]\n",
    "3. BONUS:  Calculate with a for loop the median and mean of the ages list."
   ]
  },
  {
   "cell_type": "markdown",
   "metadata": {},
   "source": [
    " WARM UP 1.13 QUESTION:\n",
    " \n",
    "Question:\n",
    "Take the following 2 lists of actors and write a program that returns a list that contains only the elements that are common across both Thor 2 and Ragnarok (without duplicates) called both_casts.\n",
    "\n",
    "thor2 = ['Chris Hemsworth', 'Natalie Portman', 'Tom Hiddleston', 'Kat Dennings', 'Anthony Hopkins', 'Jaimie Alexander', 'Idris Elba']\n",
    "               \n",
    "ragnarok = ['Chris Hemsworth', 'Tessa Thompson', 'Cate Blanchett', 'Tom Hiddleston', 'Mark Ruffalo', 'Jeff Goldblum', 'Karl Urban', 'Idris Elba', 'Anthony Hopkins']"
   ]
  },
  {
   "cell_type": "markdown",
   "metadata": {},
   "source": [
    "WWARM UP 1.14 QUESTION:\n",
    "\n",
    "Question:\n",
    "Write a function called cylinder_vol that calculates the volume of a cylinder. The formula is the cylinders height multiplied\n",
    "by pi(3.14159) multiplied by the radius squared. The function should take in 2 arguments, the height and radius.\n",
    "Do not forget to define pi within the functions scope. Call the function for a cylinder with a height of 12 and a\n",
    "radius of 3.5"
   ]
  },
  {
   "cell_type": "markdown",
   "metadata": {},
   "source": [
    "WARM UP 1.15\n",
    "\n",
    "Question:\n",
    "Take this list names and write a function is_short that selects the names from that list that are 8 characters long.  Then use the filter() method and your function to create a new list, short_names, that contains names that are fewer than 8 characters long.\n",
    "\n",
    "names = [\"Benjamin\", \"Bernadette\", \"Brian\", \"Betty\", \"Bella\", \"Brunhilda\", \"Bruno\"]"
   ]
  },
  {
   "cell_type": "markdown",
   "metadata": {},
   "source": [
    "WARM UP 1.16\n",
    "\n",
    "Question:\n",
    "Lambda expressions are functions that do not have a name. They are useful if you want to write a quick 'throw away'function that will not be of use later on in your code.  Using the name list you created yesterday, write a lambda expression within the filter() method that creates the same list, short_names, as you  did yesterday.\n",
    "\n"
   ]
  },
  {
   "cell_type": "markdown",
   "metadata": {},
   "source": [
    "WARM UP 1.17\n",
    "\n",
    "Question:\n",
    "**NOTE**: This question needs the exam_data.pkl file\n",
    "Given the pickled dictionary exam_data.pkl do the following:\n",
    "1. Reads data into a Pandas dataframe named df\n",
    "2. Sort the data frame first by 'name' in descending order, then by 'score' in ascending order and name that sorted dataframe df_sorted"
   ]
  },
  {
   "cell_type": "code",
   "execution_count": 15,
   "metadata": {},
   "outputs": [
    {
     "ename": "FileNotFoundError",
     "evalue": "[Errno 2] No such file or directory: 'exam_data.pkl'",
     "output_type": "error",
     "traceback": [
      "\u001b[0;31m---------------------------------------------------------------------------\u001b[0m",
      "\u001b[0;31mFileNotFoundError\u001b[0m                         Traceback (most recent call last)",
      "\u001b[0;32m<ipython-input-15-891e253d3491>\u001b[0m in \u001b[0;36m<module>\u001b[0;34m\u001b[0m\n\u001b[1;32m      1\u001b[0m \u001b[0;32mimport\u001b[0m \u001b[0mpandas\u001b[0m \u001b[0;32mas\u001b[0m \u001b[0mpd\u001b[0m\u001b[0;34m\u001b[0m\u001b[0;34m\u001b[0m\u001b[0m\n\u001b[0;32m----> 2\u001b[0;31m \u001b[0mdf\u001b[0m \u001b[0;34m=\u001b[0m \u001b[0mpd\u001b[0m\u001b[0;34m.\u001b[0m\u001b[0mread_pickle\u001b[0m\u001b[0;34m(\u001b[0m\u001b[0;34m'exam_data.pkl'\u001b[0m\u001b[0;34m)\u001b[0m\u001b[0;34m\u001b[0m\u001b[0;34m\u001b[0m\u001b[0m\n\u001b[0m",
      "\u001b[0;32m~/opt/anaconda3/lib/python3.7/site-packages/pandas/io/pickle.py\u001b[0m in \u001b[0;36mread_pickle\u001b[0;34m(path, compression)\u001b[0m\n\u001b[1;32m    143\u001b[0m     \"\"\"\n\u001b[1;32m    144\u001b[0m     \u001b[0mpath\u001b[0m \u001b[0;34m=\u001b[0m \u001b[0m_stringify_path\u001b[0m\u001b[0;34m(\u001b[0m\u001b[0mpath\u001b[0m\u001b[0;34m)\u001b[0m\u001b[0;34m\u001b[0m\u001b[0;34m\u001b[0m\u001b[0m\n\u001b[0;32m--> 145\u001b[0;31m     \u001b[0mf\u001b[0m\u001b[0;34m,\u001b[0m \u001b[0mfh\u001b[0m \u001b[0;34m=\u001b[0m \u001b[0m_get_handle\u001b[0m\u001b[0;34m(\u001b[0m\u001b[0mpath\u001b[0m\u001b[0;34m,\u001b[0m \u001b[0;34m\"rb\"\u001b[0m\u001b[0;34m,\u001b[0m \u001b[0mcompression\u001b[0m\u001b[0;34m=\u001b[0m\u001b[0mcompression\u001b[0m\u001b[0;34m,\u001b[0m \u001b[0mis_text\u001b[0m\u001b[0;34m=\u001b[0m\u001b[0;32mFalse\u001b[0m\u001b[0;34m)\u001b[0m\u001b[0;34m\u001b[0m\u001b[0;34m\u001b[0m\u001b[0m\n\u001b[0m\u001b[1;32m    146\u001b[0m \u001b[0;34m\u001b[0m\u001b[0m\n\u001b[1;32m    147\u001b[0m     \u001b[0;31m# 1) try standard libary Pickle\u001b[0m\u001b[0;34m\u001b[0m\u001b[0;34m\u001b[0m\u001b[0;34m\u001b[0m\u001b[0m\n",
      "\u001b[0;32m~/opt/anaconda3/lib/python3.7/site-packages/pandas/io/common.py\u001b[0m in \u001b[0;36m_get_handle\u001b[0;34m(path_or_buf, mode, encoding, compression, memory_map, is_text)\u001b[0m\n\u001b[1;32m    403\u001b[0m         \u001b[0;32melse\u001b[0m\u001b[0;34m:\u001b[0m\u001b[0;34m\u001b[0m\u001b[0;34m\u001b[0m\u001b[0m\n\u001b[1;32m    404\u001b[0m             \u001b[0;31m# Binary mode\u001b[0m\u001b[0;34m\u001b[0m\u001b[0;34m\u001b[0m\u001b[0;34m\u001b[0m\u001b[0m\n\u001b[0;32m--> 405\u001b[0;31m             \u001b[0mf\u001b[0m \u001b[0;34m=\u001b[0m \u001b[0mopen\u001b[0m\u001b[0;34m(\u001b[0m\u001b[0mpath_or_buf\u001b[0m\u001b[0;34m,\u001b[0m \u001b[0mmode\u001b[0m\u001b[0;34m)\u001b[0m\u001b[0;34m\u001b[0m\u001b[0;34m\u001b[0m\u001b[0m\n\u001b[0m\u001b[1;32m    406\u001b[0m         \u001b[0mhandles\u001b[0m\u001b[0;34m.\u001b[0m\u001b[0mappend\u001b[0m\u001b[0;34m(\u001b[0m\u001b[0mf\u001b[0m\u001b[0;34m)\u001b[0m\u001b[0;34m\u001b[0m\u001b[0;34m\u001b[0m\u001b[0m\n\u001b[1;32m    407\u001b[0m \u001b[0;34m\u001b[0m\u001b[0m\n",
      "\u001b[0;31mFileNotFoundError\u001b[0m: [Errno 2] No such file or directory: 'exam_data.pkl'"
     ]
    }
   ],
   "source": [
    "import pandas as pd\n",
    "df = pd.read_pickle('exam_data.pkl')"
   ]
  },
  {
   "cell_type": "code",
   "execution_count": null,
   "metadata": {},
   "outputs": [],
   "source": []
  }
 ],
 "metadata": {
  "kernelspec": {
   "display_name": "Python 3",
   "language": "python",
   "name": "python3"
  },
  "language_info": {
   "codemirror_mode": {
    "name": "ipython",
    "version": 3
   },
   "file_extension": ".py",
   "mimetype": "text/x-python",
   "name": "python",
   "nbconvert_exporter": "python",
   "pygments_lexer": "ipython3",
   "version": "3.7.4"
  }
 },
 "nbformat": 4,
 "nbformat_minor": 4
}
