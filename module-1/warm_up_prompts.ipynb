{
 "cells": [
  {
   "cell_type": "markdown",
   "metadata": {},
   "source": [
    "# warmup answers can be found on slack, my answers as well as classmates answers"
   ]
  },
  {
   "cell_type": "markdown",
   "metadata": {},
   "source": [
    "WARM UP 1.8 QUESTION:\n",
    "   \n",
    "1. Create a list containing the names of 5 friends called friends.\n",
    "2. Create a second list that only contains the names of friends 2-4 from the list friends and name this new list friends2. Don't just rewrite the list with strings, but instead use list indexing."
   ]
  },
  {
   "cell_type": "code",
   "execution_count": 5,
   "metadata": {},
   "outputs": [],
   "source": [
    "friends = ['robbie', 'david', 'daisy', 'frank', 'steve']"
   ]
  },
  {
   "cell_type": "code",
   "execution_count": 7,
   "metadata": {},
   "outputs": [
    {
     "data": {
      "text/plain": [
       "['david', 'daisy', 'frank']"
      ]
     },
     "execution_count": 7,
     "metadata": {},
     "output_type": "execute_result"
    }
   ],
   "source": [
    "friends2 = friends[1:4]\n",
    "friends2"
   ]
  },
  {
   "cell_type": "markdown",
   "metadata": {},
   "source": [
    "WARM UP 1.9 QUESTION: \n",
    "\n",
    "    Question:\n",
    "1. Create a dictionary named people where each object contains a list of one float (Age) and one string (Family name) (at least 5 objects)\n",
    "<br>Example: {Charles: [23.4, \"Darwin\"], Alan: [42.5, \"Turing\"]}\n",
    "2. Delete one object from the dictionary named people"
   ]
  },
  {
   "cell_type": "code",
   "execution_count": 54,
   "metadata": {},
   "outputs": [],
   "source": [
    "people = {'Steve': [15.2, \"Irwin\"], 'Tim': [45.1, \"Alan\"], 'Frank':[70.6, \"Jobs\"]}\n",
    "# Example: {'Charles': [23.4, \"Darwin\"], 'Alan': [42.5, \"Turing\"]}"
   ]
  },
  {
   "cell_type": "code",
   "execution_count": 53,
   "metadata": {},
   "outputs": [
    {
     "data": {
      "text/plain": [
       "{'Tim': [45.1, 'Alan'], 'Frank': [70.6, 'Jobs']}"
      ]
     },
     "execution_count": 53,
     "metadata": {},
     "output_type": "execute_result"
    }
   ],
   "source": [
    "del people['Steve']\n",
    "people"
   ]
  },
  {
   "cell_type": "markdown",
   "metadata": {},
   "source": [
    "WARM UP 1.10\n",
    "Question:\n",
    "1. Using the dictionary named people you used yesterday, replace the float number of one of your objects - we are changing a list entry inside a dictionary record! look at Darwin's new age\n",
    "Example: {Charles: [99.73, \"Darwin\"], Alan: [42.5, \"Turing\"]}\n",
    "2. Write a for loop that goes through all records in the dictionary, and assigns the float numbers into one merged list named ages (see ages)\n",
    "ages = [23.4, 22.9, 552.9]\n",
    "3. BONUS:  Calculate with a for loop the median and mean of the ages list."
   ]
  },
  {
   "cell_type": "code",
   "execution_count": 80,
   "metadata": {},
   "outputs": [
    {
     "ename": "AttributeError",
     "evalue": "'str' object has no attribute 'values'",
     "output_type": "error",
     "traceback": [
      "\u001b[0;31m---------------------------------------------------------------------------\u001b[0m",
      "\u001b[0;31mAttributeError\u001b[0m                            Traceback (most recent call last)",
      "\u001b[0;32m<ipython-input-80-8d23c46df6ac>\u001b[0m in \u001b[0;36m<module>\u001b[0;34m\u001b[0m\n\u001b[1;32m      3\u001b[0m \u001b[0;32mfor\u001b[0m \u001b[0mperson\u001b[0m \u001b[0;32min\u001b[0m \u001b[0mpeople\u001b[0m\u001b[0;34m:\u001b[0m\u001b[0;34m\u001b[0m\u001b[0;34m\u001b[0m\u001b[0m\n\u001b[1;32m      4\u001b[0m     \u001b[0mages\u001b[0m\u001b[0;34m=\u001b[0m\u001b[0;34m[\u001b[0m\u001b[0;34m]\u001b[0m\u001b[0;34m\u001b[0m\u001b[0;34m\u001b[0m\u001b[0m\n\u001b[0;32m----> 5\u001b[0;31m     \u001b[0;32mfor\u001b[0m \u001b[0mage\u001b[0m \u001b[0;32min\u001b[0m \u001b[0mperson\u001b[0m\u001b[0;34m.\u001b[0m\u001b[0mvalues\u001b[0m\u001b[0;34m(\u001b[0m\u001b[0;34m)\u001b[0m\u001b[0;34m:\u001b[0m\u001b[0;34m\u001b[0m\u001b[0;34m\u001b[0m\u001b[0m\n\u001b[0m\u001b[1;32m      6\u001b[0m         \u001b[0mages\u001b[0m\u001b[0;34m.\u001b[0m\u001b[0mappend\u001b[0m\u001b[0;34m(\u001b[0m\u001b[0mage\u001b[0m\u001b[0;34m[\u001b[0m\u001b[0;36m0\u001b[0m\u001b[0;34m]\u001b[0m\u001b[0;34m)\u001b[0m\u001b[0;34m\u001b[0m\u001b[0;34m\u001b[0m\u001b[0m\n\u001b[1;32m      7\u001b[0m \u001b[0;34m\u001b[0m\u001b[0m\n",
      "\u001b[0;31mAttributeError\u001b[0m: 'str' object has no attribute 'values'"
     ]
    }
   ],
   "source": [
    "people['Steve'] = [15.2, 'Jobs']\n",
    "people\n",
    "for person in people:\n",
    "    ages=[]\n",
    "    for age in person.values():\n",
    "        ages.append(age[0])\n",
    "    "
   ]
  },
  {
   "cell_type": "markdown",
   "metadata": {},
   "source": [
    " WARM UP 1.13 QUESTION:\n",
    " \n",
    "Question:\n",
    "Take the following 2 lists of actors and write a program that returns a list that contains only the elements that are common across both Thor 2 and Ragnarok (without duplicates) called both_casts.\n",
    "\n",
    "thor2 = ['Chris Hemsworth', 'Natalie Portman', 'Tom Hiddleston', 'Kat Dennings', 'Anthony Hopkins', 'Jaimie Alexander', 'Idris Elba']\n",
    "               \n",
    "ragnarok = ['Chris Hemsworth', 'Tessa Thompson', 'Cate Blanchett', 'Tom Hiddleston', 'Mark Ruffalo', 'Jeff Goldblum', 'Karl Urban', 'Idris Elba', 'Anthony Hopkins']"
   ]
  },
  {
   "cell_type": "markdown",
   "metadata": {},
   "source": [
    "WWARM UP 1.14 QUESTION:\n",
    "\n",
    "Question:\n",
    "Write a function called cylinder_vol that calculates the volume of a cylinder. The formula is the cylinders height multiplied\n",
    "by pi(3.14159) multiplied by the radius squared. The function should take in 2 arguments, the height and radius.\n",
    "Do not forget to define pi within the functions scope. Call the function for a cylinder with a height of 12 and a\n",
    "radius of 3.5"
   ]
  },
  {
   "cell_type": "markdown",
   "metadata": {},
   "source": [
    "WARM UP 1.15\n",
    "\n",
    "Question:\n",
    "Take this list names and write a function is_short that selects the names from that list that are 8 characters long.  Then use the filter() method and your function to create a new list, short_names, that contains names that are fewer than 8 characters long.\n",
    "\n",
    "names = [\"Benjamin\", \"Bernadette\", \"Brian\", \"Betty\", \"Bella\", \"Brunhilda\", \"Bruno\"]"
   ]
  },
  {
   "cell_type": "markdown",
   "metadata": {},
   "source": [
    "WARM UP 1.16\n",
    "\n",
    "Question:\n",
    "Lambda expressions are functions that do not have a name. They are useful if you want to write a quick 'throw away'function that will not be of use later on in your code.  Using the name list you created yesterday, write a lambda expression within the filter() method that creates the same list, short_names, as you  did yesterday.\n",
    "\n"
   ]
  },
  {
   "cell_type": "markdown",
   "metadata": {},
   "source": [
    "WARM UP 1.17\n",
    "\n",
    "Question:\n",
    "**NOTE**: This question needs the exam_data.pkl file\n",
    "Given the pickled dictionary exam_data.pkl do the following:\n",
    "1. Reads data into a Pandas dataframe named df\n",
    "2. Sort the data frame first by 'name' in descending order, then by 'score' in ascending order and name that sorted dataframe df_sorted"
   ]
  },
  {
   "cell_type": "markdown",
   "metadata": {},
   "source": [
    "import pandas as pd\n",
    "df = pd.read_pickle('exam_data.pkl')"
   ]
  },
  {
   "cell_type": "markdown",
   "metadata": {},
   "source": [
    "WARMUP 1.24 \n",
    "\n",
    "Question:\n",
    "Write a function reverse_the_strings that takes in one argument, a list of strings, and will reverse the order of each string. \"Example\" becomes \"elpmaxE\". (edited) "
   ]
  },
  {
   "cell_type": "code",
   "execution_count": 2,
   "metadata": {},
   "outputs": [],
   "source": [
    "def reverse_the_strings(string):\n",
    "    return string[::-1]"
   ]
  },
  {
   "cell_type": "code",
   "execution_count": 4,
   "metadata": {},
   "outputs": [
    {
     "data": {
      "text/plain": [
       "'roloC'"
      ]
     },
     "execution_count": 4,
     "metadata": {},
     "output_type": "execute_result"
    }
   ],
   "source": [
    "string = ('Color')\n",
    "reverse_the_strings(string)"
   ]
  },
  {
   "cell_type": "code",
   "execution_count": null,
   "metadata": {},
   "outputs": [],
   "source": []
  }
 ],
 "metadata": {
  "kernelspec": {
   "display_name": "Python 3",
   "language": "python",
   "name": "python3"
  },
  "language_info": {
   "codemirror_mode": {
    "name": "ipython",
    "version": 3
   },
   "file_extension": ".py",
   "mimetype": "text/x-python",
   "name": "python",
   "nbconvert_exporter": "python",
   "pygments_lexer": "ipython3",
   "version": "3.7.4"
  }
 },
 "nbformat": 4,
 "nbformat_minor": 4
}
