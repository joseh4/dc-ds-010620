{
 "cells": [
  {
   "cell_type": "code",
   "execution_count": 2,
   "metadata": {},
   "outputs": [
    {
     "name": "stdout",
     "output_type": "stream",
     "text": [
      "Let's talk about git!\n"
     ]
    }
   ],
   "source": [
    "print(\"\"\"Let's talk about git!\"\"\")"
   ]
  },
  {
   "cell_type": "code",
<<<<<<< HEAD
   "execution_count": 3,
=======
   "execution_count": 1,
>>>>>>> 442eb4995312ad73fdbddb60fa469f2718e80ecc
   "metadata": {},
   "outputs": [
    {
     "name": "stdout",
     "output_type": "stream",
     "text": [
<<<<<<< HEAD
      "Add this to the cloud\n"
=======
      "I want to add this.\n"
>>>>>>> 442eb4995312ad73fdbddb60fa469f2718e80ecc
     ]
    }
   ],
   "source": [
<<<<<<< HEAD
    "print(\"Add this to the cloud\")"
=======
    "print('I want to add this.')"
>>>>>>> 442eb4995312ad73fdbddb60fa469f2718e80ecc
   ]
  },
  {
   "cell_type": "code",
   "execution_count": null,
   "metadata": {},
   "outputs": [],
   "source": [
    "print('new change')"
   ]
  }
 ],
 "metadata": {
  "kernelspec": {
   "display_name": "Python 3",
   "language": "python",
   "name": "python3"
  },
  "language_info": {
   "codemirror_mode": {
    "name": "ipython",
    "version": 3
   },
   "file_extension": ".py",
   "mimetype": "text/x-python",
   "name": "python",
   "nbconvert_exporter": "python",
   "pygments_lexer": "ipython3",
   "version": "3.7.4"
  }
 },
 "nbformat": 4,
 "nbformat_minor": 4
}
