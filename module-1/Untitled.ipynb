{
 "cells": [
  {
   "cell_type": "markdown",
   "metadata": {},
   "source": [
    "WARM UP 1.8 QUESTION:\n",
    "   \n",
    "1. Create a list containing the names of 5 friends called friends.\n",
    "2. Create a second list that only contains the names of friends 2-4 from the list friends and name this new list friends2. Don't just rewrite the list with strings, but instead use list indexing."
   ]
  },
  {
   "cell_type": "code",
   "execution_count": null,
   "metadata": {},
   "outputs": [],
   "source": [
    "WARM UP 1.9 QUESTION: "
   ]
  },
  {
   "cell_type": "markdown",
   "metadata": {},
   "source": [
    "WARM UP 1.10\n",
    "Question:\n",
    "1. Using the dictionary named people you used yesterday, replace the float number of one of your objects - we are changing a list entry inside a dictionary record! look at Darwin's new age\n",
    "Example: {Charles: [99.73, \"Darwin\"], Alan: [42.5, \"Turing\"]}\n",
    "2. Write a for loop that goes through all records in the dictionary, and assigns the float numbers into one merged list named ages (see ages)\n",
    "ages = [23.4, 22.9, 552.9]\n",
    "3. BONUS:  Calculate with a for loop the median and mean of the ages list."
   ]
  },
  {
   "cell_type": "code",
   "execution_count": null,
   "metadata": {},
   "outputs": [],
   "source": []
  },
  {
   "cell_type": "code",
   "execution_count": null,
   "metadata": {},
   "outputs": [],
   "source": []
  }
 ],
 "metadata": {
  "kernelspec": {
   "display_name": "Python 3",
   "language": "python",
   "name": "python3"
  },
  "language_info": {
   "codemirror_mode": {
    "name": "ipython",
    "version": 3
   },
   "file_extension": ".py",
   "mimetype": "text/x-python",
   "name": "python",
   "nbconvert_exporter": "python",
   "pygments_lexer": "ipython3",
   "version": "3.7.4"
  }
 },
 "nbformat": 4,
 "nbformat_minor": 4
}
