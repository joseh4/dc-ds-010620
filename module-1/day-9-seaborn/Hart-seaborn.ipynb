{
 "cells": [
  {
   "cell_type": "markdown",
   "metadata": {},
   "source": [
    "![seaborn](https://d2h0cx97tjks2p.cloudfront.net/blogs/wp-content/uploads/sites/2/2018/07/seaborn.png) \n",
    "# The good, the bad, the seaborn\n",
    "\n",
    "\n",
    "#### Whats wrong with this data visualization? (hint: so many things)\n",
    "\n",
    "<img src=\"https://pbs.twimg.com/media/DNTFhGaXcAEbrMO.jpg\" width=800>\n",
    "\n",
    "Learning goals:\n",
    "- Create a list of best practices for data visualization\n",
    "- Identify the differences between matplotlib and seaborn\n",
    "- Create a visualization with seaborn, applying best practices"
   ]
  },
  {
   "cell_type": "markdown",
   "metadata": {},
   "source": [
    "## Goal 1: Create a list of best practices for data visualization\n",
    "\n",
    "Documenting best practices:\n",
    "\n",
    "In groups:\n",
    "- Group 1: [article 1](https://www.jackhagley.com/What-s-the-difference-between-an-Infographic-and-a-Data-Visualisation)\n",
    "- Group 2: [article 2](https://thoughtbot.com/blog/analyzing-minards-visualization-of-napoleons-1812-march)\n",
    "- Group 3: [article 3](http://dataremixed.com/2016/04/the-design-of-everyday-visualizations/)\n",
    "- Group 4: [article 4](https://visme.co/blog/data-storytelling-tips/)\n",
    "- Group 5: [article 5](files/VisualizationsThatReallyWork.pdf)\n",
    "\n",
    "To fill in: [Best practices deck](https://docs.google.com/presentation/d/1KTeUKLNSap_NgTheLqhbZ7HRKi9173vqisVdVNqmE9E/edit?usp=sharing) "
   ]
  },
  {
   "cell_type": "markdown",
   "metadata": {},
   "source": [
    "## Goal 2:  Identify differences between seaborn & matplotlib\n",
    "\n",
    "\n",
    "### Two code examples to accomplish the same plot:\n",
    "\n",
    "**Resources:**\n",
    "- [python graph gallery on seaborn](https://python-graph-gallery.com/seaborn/)\n",
    "- [seaborn](https://seaborn.pydata.org/)\n"
   ]
  },
  {
   "cell_type": "code",
   "execution_count": 1,
   "metadata": {},
   "outputs": [],
   "source": [
    "import matplotlib.pyplot as plt\n",
    "import pandas as pd\n",
    "import seaborn as sns\n",
    "%matplotlib inline\n",
    "\n",
    "# Load in data\n",
    "tips = pd.read_csv(\"https://raw.githubusercontent.com/mwaskom/seaborn-data/master/tips.csv\")\n"
   ]
  },
  {
   "cell_type": "code",
   "execution_count": 2,
   "metadata": {},
   "outputs": [
    {
     "data": {
      "image/png": "[encoded data removed]",
      "text/plain": [
       "<Figure size 432x288 with 1 Axes>"
      ]
     },
     "metadata": {
      "needs_background": "light"
     },
     "output_type": "display_data"
    }
   ],
   "source": [
    "# Matplotlib:\n",
    "\n",
    "# Initialize Figure and Axes object\n",
    "fig, ax = plt.subplots()\n",
    "\n",
    "# Create violinplot\n",
    "ax.violinplot(tips[\"total_bill\"], vert=False)\n",
    "\n",
    "# Show the plot\n",
    "plt.show()"
   ]
  },
  {
   "cell_type": "code",
   "execution_count": 3,
   "metadata": {},
   "outputs": [
    {
     "data": {
      "image/png": "[encoded data removed]",
      "text/plain": [
       "<Figure size 432x288 with 1 Axes>"
      ]
     },
     "metadata": {
      "needs_background": "light"
     },
     "output_type": "display_data"
    }
   ],
   "source": [
    "# Seaborn:\n",
    "\n",
    "import matplotlib.pyplot as plt\n",
    "import seaborn as sns\n",
    "\n",
    "# Load the data\n",
    "tips = sns.load_dataset(\"tips\")\n",
    "# tips = pd.read_csv(\"https://raw.githubusercontent.com/mwaskom/seaborn-data/master/tips.csv\")\n",
    "\n",
    "# Create violinplot\n",
    "# sns.violinplot(x = \"total_bill\", data=tips)\n",
    "sns.violinplot(x = \"total_bill\", data=tips)\n",
    "\n",
    "# Show the plot\n",
    "plt.show()"
   ]
  },
  {
   "cell_type": "markdown",
   "metadata": {},
   "source": [
    "## Goal 3: Create a visualization with seaborn, applying best practices\n",
    "\n",
    "[exercise from data world](https://data.world/makeovermonday/2018w37-paying-the-president)\n"
   ]
  },
  {
   "cell_type": "code",
   "execution_count": 4,
   "metadata": {},
   "outputs": [],
   "source": [
    "import pandas as pd\n",
    "df = pd.read_excel('https://query.data.world/s/5qxp2ldwsel3ow2pq5mkvfas2rfaup')\n"
   ]
  },
  {
   "cell_type": "code",
   "execution_count": 5,
   "metadata": {},
   "outputs": [
    {
     "data": {
      "text/html": [
       "<div>\n",
       "<style scoped>\n",
       "    .dataframe tbody tr th:only-of-type {\n",
       "        vertical-align: middle;\n",
       "    }\n",
       "\n",
       "    .dataframe tbody tr th {\n",
       "        vertical-align: top;\n",
       "    }\n",
       "\n",
       "    .dataframe thead th {\n",
       "        text-align: right;\n",
       "    }\n",
       "</style>\n",
       "<table border=\"1\" class=\"dataframe\">\n",
       "  <thead>\n",
       "    <tr style=\"text-align: right;\">\n",
       "      <th></th>\n",
       "      <th>type</th>\n",
       "      <th>source</th>\n",
       "      <th>date</th>\n",
       "      <th>amount</th>\n",
       "      <th>purpose_scrubbed</th>\n",
       "      <th>property_scrubbed</th>\n",
       "      <th>purpose</th>\n",
       "      <th>property</th>\n",
       "      <th>city</th>\n",
       "      <th>state</th>\n",
       "    </tr>\n",
       "  </thead>\n",
       "  <tbody>\n",
       "    <tr>\n",
       "      <td>0</td>\n",
       "      <td>FEC</td>\n",
       "      <td>Donald J. Trump for President, Inc.</td>\n",
       "      <td>Apr 1, 2016</td>\n",
       "      <td>9000.00</td>\n",
       "      <td>Rent</td>\n",
       "      <td>Trump Plaza LLC</td>\n",
       "      <td>RENT</td>\n",
       "      <td>TRUMP PLAZA LLC</td>\n",
       "      <td>New York</td>\n",
       "      <td>NY</td>\n",
       "    </tr>\n",
       "    <tr>\n",
       "      <td>1</td>\n",
       "      <td>FEC</td>\n",
       "      <td>Donald J. Trump for President, Inc.</td>\n",
       "      <td>Apr 1, 2016</td>\n",
       "      <td>6000.00</td>\n",
       "      <td>Rent</td>\n",
       "      <td>Trump CPS LLC</td>\n",
       "      <td>RENT</td>\n",
       "      <td>TRUMP CPS LLC</td>\n",
       "      <td>New York</td>\n",
       "      <td>NY</td>\n",
       "    </tr>\n",
       "    <tr>\n",
       "      <td>2</td>\n",
       "      <td>FEC</td>\n",
       "      <td>Donald J. Trump for President, Inc.</td>\n",
       "      <td>Apr 1, 2017</td>\n",
       "      <td>39816.67</td>\n",
       "      <td>Rent</td>\n",
       "      <td>Trump Tower Commercial LLC</td>\n",
       "      <td>RENT</td>\n",
       "      <td>TRUMP TOWER COMMERCIAL LLC</td>\n",
       "      <td>Hicksville</td>\n",
       "      <td>NY</td>\n",
       "    </tr>\n",
       "    <tr>\n",
       "      <td>3</td>\n",
       "      <td>FEC</td>\n",
       "      <td>Donald J. Trump for President, Inc.</td>\n",
       "      <td>Apr 1, 2017</td>\n",
       "      <td>1000.00</td>\n",
       "      <td>Rent</td>\n",
       "      <td>Trump Restaurants LLC</td>\n",
       "      <td>RENT</td>\n",
       "      <td>TRUMP RESTAURANTS LLC</td>\n",
       "      <td>New York</td>\n",
       "      <td>NY</td>\n",
       "    </tr>\n",
       "    <tr>\n",
       "      <td>4</td>\n",
       "      <td>government</td>\n",
       "      <td>Department of Defense</td>\n",
       "      <td>Apr 10, 2017</td>\n",
       "      <td>1422.00</td>\n",
       "      <td>Lodging</td>\n",
       "      <td>Trump Hotel Panama</td>\n",
       "      <td>Hotels-Lodging</td>\n",
       "      <td>Trump International Hotel &amp; Tower Panama</td>\n",
       "      <td>Panama City</td>\n",
       "      <td>Panama</td>\n",
       "    </tr>\n",
       "    <tr>\n",
       "      <td>...</td>\n",
       "      <td>...</td>\n",
       "      <td>...</td>\n",
       "      <td>...</td>\n",
       "      <td>...</td>\n",
       "      <td>...</td>\n",
       "      <td>...</td>\n",
       "      <td>...</td>\n",
       "      <td>...</td>\n",
       "      <td>...</td>\n",
       "      <td>...</td>\n",
       "    </tr>\n",
       "    <tr>\n",
       "      <td>1188</td>\n",
       "      <td>government</td>\n",
       "      <td>Department of State</td>\n",
       "      <td>NaN</td>\n",
       "      <td>10398.33</td>\n",
       "      <td>Other</td>\n",
       "      <td>Trump Golf Club Doonberg</td>\n",
       "      <td>NaN</td>\n",
       "      <td>Trump International Golf Links and Hotel Ireland</td>\n",
       "      <td>Doonberg</td>\n",
       "      <td>Ireland</td>\n",
       "    </tr>\n",
       "    <tr>\n",
       "      <td>1189</td>\n",
       "      <td>government</td>\n",
       "      <td>Department of State</td>\n",
       "      <td>NaN</td>\n",
       "      <td>7724.72</td>\n",
       "      <td>Other</td>\n",
       "      <td>Trump Golf Resort Scotland</td>\n",
       "      <td>NaN</td>\n",
       "      <td>Trump Turnberry</td>\n",
       "      <td>Turnberry</td>\n",
       "      <td>Scotland</td>\n",
       "    </tr>\n",
       "    <tr>\n",
       "      <td>1190</td>\n",
       "      <td>government</td>\n",
       "      <td>Department of State</td>\n",
       "      <td>NaN</td>\n",
       "      <td>5583.13</td>\n",
       "      <td>Other</td>\n",
       "      <td>Trump Golf Resort Scotland</td>\n",
       "      <td>NaN</td>\n",
       "      <td>Trump Turnberry</td>\n",
       "      <td>Turnberry</td>\n",
       "      <td>Scotland</td>\n",
       "    </tr>\n",
       "    <tr>\n",
       "      <td>1191</td>\n",
       "      <td>government</td>\n",
       "      <td>Department of State</td>\n",
       "      <td>NaN</td>\n",
       "      <td>4853.29</td>\n",
       "      <td>Other</td>\n",
       "      <td>Trump Hotel Vancouver</td>\n",
       "      <td>NaN</td>\n",
       "      <td>Trump International Hotel &amp; Tower Vancouver</td>\n",
       "      <td>Vancouver</td>\n",
       "      <td>British Columbia</td>\n",
       "    </tr>\n",
       "    <tr>\n",
       "      <td>1192</td>\n",
       "      <td>government</td>\n",
       "      <td>Department of State</td>\n",
       "      <td>NaN</td>\n",
       "      <td>592.13</td>\n",
       "      <td>Other</td>\n",
       "      <td>Trump Golf Club Doonberg</td>\n",
       "      <td>NaN</td>\n",
       "      <td>Trump International Golf Links and Hotel Ireland</td>\n",
       "      <td>Doonberg</td>\n",
       "      <td>Ireland</td>\n",
       "    </tr>\n",
       "  </tbody>\n",
       "</table>\n",
       "<p>1193 rows × 10 columns</p>\n",
       "</div>"
      ],
      "text/plain": [
       "            type                               source          date    amount  \\\n",
       "0            FEC  Donald J. Trump for President, Inc.   Apr 1, 2016   9000.00   \n",
       "1            FEC  Donald J. Trump for President, Inc.   Apr 1, 2016   6000.00   \n",
       "2            FEC  Donald J. Trump for President, Inc.   Apr 1, 2017  39816.67   \n",
       "3            FEC  Donald J. Trump for President, Inc.   Apr 1, 2017   1000.00   \n",
       "4     government                Department of Defense  Apr 10, 2017   1422.00   \n",
       "...          ...                                  ...           ...       ...   \n",
       "1188  government                  Department of State           NaN  10398.33   \n",
       "1189  government                  Department of State           NaN   7724.72   \n",
       "1190  government                  Department of State           NaN   5583.13   \n",
       "1191  government                  Department of State           NaN   4853.29   \n",
       "1192  government                  Department of State           NaN    592.13   \n",
       "\n",
       "     purpose_scrubbed           property_scrubbed         purpose  \\\n",
       "0                Rent             Trump Plaza LLC            RENT   \n",
       "1                Rent               Trump CPS LLC            RENT   \n",
       "2                Rent  Trump Tower Commercial LLC            RENT   \n",
       "3                Rent       Trump Restaurants LLC            RENT   \n",
       "4             Lodging          Trump Hotel Panama  Hotels-Lodging   \n",
       "...               ...                         ...             ...   \n",
       "1188            Other    Trump Golf Club Doonberg             NaN   \n",
       "1189            Other  Trump Golf Resort Scotland             NaN   \n",
       "1190            Other  Trump Golf Resort Scotland             NaN   \n",
       "1191            Other       Trump Hotel Vancouver             NaN   \n",
       "1192            Other    Trump Golf Club Doonberg             NaN   \n",
       "\n",
       "                                              property         city  \\\n",
       "0                                      TRUMP PLAZA LLC     New York   \n",
       "1                                        TRUMP CPS LLC     New York   \n",
       "2                           TRUMP TOWER COMMERCIAL LLC   Hicksville   \n",
       "3                                TRUMP RESTAURANTS LLC     New York   \n",
       "4             Trump International Hotel & Tower Panama  Panama City   \n",
       "...                                                ...          ...   \n",
       "1188  Trump International Golf Links and Hotel Ireland     Doonberg   \n",
       "1189                                   Trump Turnberry    Turnberry   \n",
       "1190                                   Trump Turnberry    Turnberry   \n",
       "1191       Trump International Hotel & Tower Vancouver    Vancouver   \n",
       "1192  Trump International Golf Links and Hotel Ireland     Doonberg   \n",
       "\n",
       "                 state  \n",
       "0                   NY  \n",
       "1                   NY  \n",
       "2                   NY  \n",
       "3                   NY  \n",
       "4               Panama  \n",
       "...                ...  \n",
       "1188           Ireland  \n",
       "1189          Scotland  \n",
       "1190          Scotland  \n",
       "1191  British Columbia  \n",
       "1192           Ireland  \n",
       "\n",
       "[1193 rows x 10 columns]"
      ]
     },
     "execution_count": 5,
     "metadata": {},
     "output_type": "execute_result"
    }
   ],
   "source": [
    "df"
   ]
  },
  {
   "cell_type": "code",
   "execution_count": 104,
   "metadata": {
    "scrolled": true
   },
   "outputs": [
    {
     "data": {
      "text/plain": [
       "Washington             350\n",
       "New York               290\n",
       "Las Vegas              158\n",
       "Hicksville             103\n",
       "Panama City             45\n",
       "West Palm Beach         38\n",
       "Palm Beach              25\n",
       "San Francisco           25\n",
       "Chicago                 23\n",
       "Miami                   16\n",
       "Potomac Falls           14\n",
       "Doral                   13\n",
       "Charlottesville         11\n",
       "Honolulu                 9\n",
       "Rancho Palos Verdes      7\n",
       "Bedminster               6\n",
       "Vancouver                5\n",
       "Jupiter                  4\n",
       "Doonberg                 4\n",
       "561-8322600              2\n",
       "Turnberry                2\n",
       "Bedminister              1\n",
       "Moorseville              1\n",
       "Mooresville              1\n",
       "Lafayette                1\n",
       "Bradenton                1\n",
       "Rancho Palos             1\n",
       "S61-8322600              1\n",
       "Briarcliff Manor         1\n",
       "Las Veagas               1\n",
       "Sterling                 1\n",
       "Name: city, dtype: int64"
      ]
     },
     "execution_count": 104,
     "metadata": {},
     "output_type": "execute_result"
    }
   ],
   "source": [
    "df.city.value_counts()"
   ]
  },
  {
   "cell_type": "code",
   "execution_count": 105,
   "metadata": {},
   "outputs": [
    {
     "data": {
      "text/plain": [
       "<matplotlib.axes._subplots.AxesSubplot at 0x1a2e79b490>"
      ]
     },
     "execution_count": 105,
     "metadata": {},
     "output_type": "execute_result"
    },
    {
     "data": {
      "image/png": "[encoded data removed]",
      "text/plain": [
       "<Figure size 936x1440 with 6 Axes>"
      ]
     },
     "metadata": {
      "needs_background": "light"
     },
     "output_type": "display_data"
    }
   ],
   "source": [
    "fig, ax = plt.subplots(2,3, figsize=(13,20))\n",
    "sns.boxplot(x='amount', y='purpose_scrubbed',\n",
    "            data=df.loc[df.purpose_scrubbed != 'Travel'], # took out all travel expenses\n",
    "            color ='red', ax=ax[0][1])\n",
    "sns.boxplot(x='amount', y='purpose_scrubbed',\n",
    "            data=df.loc[df.purpose_scrubbed == 'Travel'], # graph is exactly travel\n",
    "            color ='red', ax=ax[0][2])\n",
    "sns.barplot(x = 'amount', y = 'city', color = 'blue',\n",
    "            data=df,\n",
    "            ax=ax[1][0])"
   ]
  },
  {
   "cell_type": "markdown",
   "metadata": {},
   "source": [
    "## Reflection:\n",
    "\n",
    "- What worked from this training? \n",
    "- What can you apply moving forward?\n",
    "- What's one concept you would like to practice more?"
   ]
  },
  {
   "cell_type": "code",
   "execution_count": null,
   "metadata": {},
   "outputs": [],
   "source": []
  },
  {
   "cell_type": "markdown",
   "metadata": {},
   "source": [
    "#### For extra fun:\n",
    "[visualization challenges](http://www.storytellingwithdata.com/blog/2019/3/1/swdchallenge-visualize-this-data)\n",
    "\n",
    "[seaborn cheatsheet](https://s3.amazonaws.com/assets.datacamp.com/blog_assets/Python_Seaborn_Cheat_Sheet.pdf)"
   ]
  }
 ],
 "metadata": {
  "kernelspec": {
   "display_name": "Python 3",
   "language": "python",
   "name": "python3"
  },
  "language_info": {
   "codemirror_mode": {
    "name": "ipython",
    "version": 3
   },
   "file_extension": ".py",
   "mimetype": "text/x-python",
   "name": "python",
   "nbconvert_exporter": "python",
   "pygments_lexer": "ipython3",
   "version": "3.7.4"
  }
 },
 "nbformat": 4,
 "nbformat_minor": 2
}
