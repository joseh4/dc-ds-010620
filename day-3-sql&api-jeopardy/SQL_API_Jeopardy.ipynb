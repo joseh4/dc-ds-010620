{
 "cells": [
  {
   "cell_type": "markdown",
   "metadata": {},
   "source": [
    "# Welcome to SQL and API JEOPARDY\n",
    "\n",
    "<img width=500, src=\"jeopardy.gif\">"
   ]
  },
  {
   "cell_type": "markdown",
   "metadata": {},
   "source": [
    "# SQL Setup\n",
    "\n",
    "For the SQL questions you will be using the **Pets** database.  You may answer these questions using sqlite in this notebook or in a GUI of your choice.  The below cells will set up your connection to the database."
   ]
  },
  {
   "cell_type": "code",
   "execution_count": null,
   "metadata": {
    "slideshow": {
     "slide_type": "fragment"
    }
   },
   "outputs": [],
   "source": [
    "import sqlite3\n",
    "\n",
    "#connecting to the sql server\n",
    "con = sqlite3.connect('pets.db')\n",
    "cursor = con.cursor()"
   ]
  },
  {
   "cell_type": "code",
   "execution_count": null,
   "metadata": {},
   "outputs": [],
   "source": [
    "#examine all tables in the database\n",
    "cursor.execute(\"\"\"SELECT name FROM sqlite_master WHERE type='table';\"\"\")\n",
    "print(cursor.fetchall())"
   ]
  },
  {
   "cell_type": "code",
   "execution_count": null,
   "metadata": {},
   "outputs": [],
   "source": []
  },
  {
   "cell_type": "markdown",
   "metadata": {},
   "source": [
    "# API Setup\n",
    "\n",
    "For the API questions we will be using the **SPACEX API**.  You can find additional information about this API [here](https://github.com/r-spacex/SpaceX-API).  The below code will set you up with the response from the API."
   ]
  },
  {
   "cell_type": "code",
   "execution_count": 1,
   "metadata": {},
   "outputs": [],
   "source": [
    "import requests\n",
    "\n",
    "#saving the response from the API\n",
    "response = requests.get(\"https://api.spacexdata.com/v3/launches\")\n"
   ]
  },
  {
   "cell_type": "raw",
   "metadata": {},
   "source": []
  },
  {
   "cell_type": "code",
   "execution_count": 7,
   "metadata": {},
   "outputs": [
    {
     "data": {
      "text/plain": [
       "{'flight_number': 1,\n",
       " 'mission_name': 'FalconSat',\n",
       " 'mission_id': [],\n",
       " 'upcoming': False,\n",
       " 'launch_year': '2006',\n",
       " 'launch_date_unix': 1143239400,\n",
       " 'launch_date_utc': '2006-03-24T22:30:00.000Z',\n",
       " 'launch_date_local': '2006-03-25T10:30:00+12:00',\n",
       " 'is_tentative': False,\n",
       " 'tentative_max_precision': 'hour',\n",
       " 'tbd': False,\n",
       " 'launch_window': 0,\n",
       " 'rocket': {'rocket_id': 'falcon1',\n",
       "  'rocket_name': 'Falcon 1',\n",
       "  'rocket_type': 'Merlin A',\n",
       "  'first_stage': {'cores': [{'core_serial': 'Merlin1A',\n",
       "     'flight': 1,\n",
       "     'block': None,\n",
       "     'gridfins': False,\n",
       "     'legs': False,\n",
       "     'reused': False,\n",
       "     'land_success': None,\n",
       "     'landing_intent': False,\n",
       "     'landing_type': None,\n",
       "     'landing_vehicle': None}]},\n",
       "  'second_stage': {'block': 1,\n",
       "   'payloads': [{'payload_id': 'FalconSAT-2',\n",
       "     'norad_id': [],\n",
       "     'reused': False,\n",
       "     'customers': ['DARPA'],\n",
       "     'nationality': 'United States',\n",
       "     'manufacturer': 'SSTL',\n",
       "     'payload_type': 'Satellite',\n",
       "     'payload_mass_kg': 20,\n",
       "     'payload_mass_lbs': 43,\n",
       "     'orbit': 'LEO',\n",
       "     'orbit_params': {'reference_system': 'geocentric',\n",
       "      'regime': 'low-earth',\n",
       "      'longitude': None,\n",
       "      'semi_major_axis_km': None,\n",
       "      'eccentricity': None,\n",
       "      'periapsis_km': 400,\n",
       "      'apoapsis_km': 500,\n",
       "      'inclination_deg': 39,\n",
       "      'period_min': None,\n",
       "      'lifespan_years': None,\n",
       "      'epoch': None,\n",
       "      'mean_motion': None,\n",
       "      'raan': None,\n",
       "      'arg_of_pericenter': None,\n",
       "      'mean_anomaly': None},\n",
       "     'uid': 'UerI6qmZTU2Fx2efDFm3QQ=='}]},\n",
       "  'fairings': {'reused': False,\n",
       "   'recovery_attempt': False,\n",
       "   'recovered': False,\n",
       "   'ship': None}},\n",
       " 'ships': [],\n",
       " 'telemetry': {'flight_club': None},\n",
       " 'launch_site': {'site_id': 'kwajalein_atoll',\n",
       "  'site_name': 'Kwajalein Atoll',\n",
       "  'site_name_long': 'Kwajalein Atoll Omelek Island'},\n",
       " 'launch_success': False,\n",
       " 'launch_failure_details': {'time': 33,\n",
       "  'altitude': None,\n",
       "  'reason': 'merlin engine failure'},\n",
       " 'links': {'mission_patch': 'https://images2.imgbox.com/40/e3/GypSkayF_o.png',\n",
       "  'mission_patch_small': 'https://images2.imgbox.com/3c/0e/T8iJcSN3_o.png',\n",
       "  'reddit_campaign': None,\n",
       "  'reddit_launch': None,\n",
       "  'reddit_recovery': None,\n",
       "  'reddit_media': None,\n",
       "  'presskit': None,\n",
       "  'article_link': 'https://www.space.com/2196-spacex-inaugural-falcon-1-rocket-lost-launch.html',\n",
       "  'wikipedia': 'https://en.wikipedia.org/wiki/DemoSat',\n",
       "  'video_link': 'https://www.youtube.com/watch?v=0a_00nJ_Y88',\n",
       "  'youtube_id': '0a_00nJ_Y88',\n",
       "  'flickr_images': []},\n",
       " 'details': 'Engine failure at 33 seconds and loss of vehicle',\n",
       " 'static_fire_date_utc': '2006-03-17T00:00:00.000Z',\n",
       " 'static_fire_date_unix': 1142553600,\n",
       " 'timeline': {'webcast_liftoff': 54},\n",
       " 'crew': None}"
      ]
     },
     "execution_count": 7,
     "metadata": {},
     "output_type": "execute_result"
    }
   ],
   "source": [
    "response.json()[0]"
   ]
  },
  {
   "cell_type": "code",
   "execution_count": null,
   "metadata": {},
   "outputs": [],
   "source": []
  }
 ],
 "metadata": {
  "kernelspec": {
   "display_name": "Python 3",
   "language": "python",
   "name": "python3"
  },
  "language_info": {
   "codemirror_mode": {
    "name": "ipython",
    "version": 3
   },
   "file_extension": ".py",
   "mimetype": "text/x-python",
   "name": "python",
   "nbconvert_exporter": "python",
   "pygments_lexer": "ipython3",
   "version": "3.7.4"
  }
 },
 "nbformat": 4,
 "nbformat_minor": 4
}
