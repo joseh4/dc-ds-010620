{
 "cells": [
  {
   "cell_type": "markdown",
   "metadata": {
    "slideshow": {
     "slide_type": "slide"
    }
   },
   "source": [
    "![sql](img/sql-logo.jpg)\n",
    "\n",
    "# A beginner's guide to databases, SQL, & using them with `pandas`"
   ]
  },
  {
   "cell_type": "markdown",
   "metadata": {
    "slideshow": {
     "slide_type": "slide"
    }
   },
   "source": [
    "**Scenario:** You are a data analyst for the Homeland Security, trying to create reports on the active airports world wide. The data you need to access is in a SQL database. YOu need to be able to query for the data in a database!"
   ]
  },
  {
   "cell_type": "markdown",
   "metadata": {
    "slideshow": {
     "slide_type": "slide"
    }
   },
   "source": [
    "## Learning goals:\n",
    "- Goal 1: Summarize the use case for sql in the data science skill set\n",
    "- Goal 2: Define key sql terminology\n",
    "- Goal 3: Get information about DB schema and table structure\n",
    "- Goal 4: Use basic SQL commands:\n",
    "    - Construct SQL queries\n",
    "    - Use JOIN to merge tables along logical columns\n",
    "    - Grouping Data with SQL\n",
    "- Goal 5: Query data from pandas dataframes using SQL\n",
    "- Goal 6: Convert SQL to pandas"
   ]
  },
  {
   "cell_type": "markdown",
   "metadata": {
    "slideshow": {
     "slide_type": "slide"
    }
   },
   "source": [
    "## Goal 1: Summarize\n",
    "\n",
    "[Netflix has a great article](https://medium.com/netflix-techblog/notebook-innovation-591ee3221233) describing three different data roles at their company, their different needs, and their toolsets.\n",
    "\n",
    "![netflix](img/netflix-data-roles.jpeg)\n",
    "\n",
    "Examining that graphic, SQL shows up as one of the tools of the _Data Engineer_ "
   ]
  },
  {
   "cell_type": "markdown",
   "metadata": {
    "slideshow": {
     "slide_type": "slide"
    }
   },
   "source": [
    "Data Engineers provide the essential data architecture services that make data science possible.\n",
    "\n",
    "![hierarchy](img/ai-hierachy.png)\n",
    "\n",
    "[Source: Monica Rogati’s fantastic Medium post “The AI Hierarchy of Needs”\n",
    "](https://hackernoon.com/the-ai-hierarchy-of-needs-18f111fcc007)"
   ]
  },
  {
   "cell_type": "markdown",
   "metadata": {
    "slideshow": {
     "slide_type": "slide"
    }
   },
   "source": [
    "![etl](img/etl.png)\n",
    "\n",
    "[img source: Jeff Hammerbacher’s slide from UC Berkeley CS 194 course ](https://bcourses.berkeley.edu/courses/1377158/pages/cs-194-16-introduction-to-data-science-fall-2015)"
   ]
  },
  {
   "cell_type": "markdown",
   "metadata": {
    "slideshow": {
     "slide_type": "slide"
    }
   },
   "source": [
    "### What is a Relational Database? \n",
    "\n",
    "![rdb](img/relational-dbms-model.png)\n",
    "[reference for image ](https://www.studytonight.com/dbms/database-model.php)"
   ]
  },
  {
   "cell_type": "markdown",
   "metadata": {
    "slideshow": {
     "slide_type": "slide"
    }
   },
   "source": [
    "### POPULAR RDBMS\n",
    "\n",
    "- SQLite\n",
    "- MySQL\n",
    "- PostgreSql\n",
    "- Oracle DB\n",
    "- SQL Server"
   ]
  },
  {
   "cell_type": "markdown",
   "metadata": {
    "slideshow": {
     "slide_type": "slide"
    }
   },
   "source": [
    "***\n",
    "## Goal 2: Database terminology\n",
    "\n",
    "### Relational Database Schema\n",
    "\n",
    "![schema](img/MySQL_Schema_Music_Example.png)\n",
    "\n",
    "[source of image](https://database.guide/what-is-a-database-schema/)"
   ]
  },
  {
   "cell_type": "markdown",
   "metadata": {
    "slideshow": {
     "slide_type": "slide"
    }
   },
   "source": [
    "### Table columns view\n",
    "<img src=\"img/columns.png\" width=650>"
   ]
  },
  {
   "cell_type": "markdown",
   "metadata": {
    "slideshow": {
     "slide_type": "slide"
    }
   },
   "source": [
    "### Terminology\n",
    "\n",
    "- Database\n",
    "- Schema\n",
    "- Queries\n",
    "- Tables\n",
    "- Views\n",
    "- Primary Keys\n",
    "- Foreign Keys\n",
    "- Indexes\n",
    "- Functions & User Defined Functions (UDFs)"
   ]
  },
  {
   "cell_type": "markdown",
   "metadata": {
    "slideshow": {
     "slide_type": "slide"
    }
   },
   "source": [
    "***\n",
    "### SQLite\n",
    "\n",
    "<img src=\"img/SQLite-Python.jpg\" width=650>\n",
    "\n",
    "\"SQLite is a C library that provides a lightweight disk-based database that doesn’t require a separate server process and allows accessing the database using a nonstandard variant of the SQL query language. Some applications can use SQLite for internal data storage. It’s also possible to prototype an application using SQLite and then port the code to a larger database such as PostgreSQL or Oracle.\" - [sqlite documentation](https://docs.python.org/2/library/sqlite3.html)\n",
    "\n"
   ]
  },
  {
   "cell_type": "markdown",
   "metadata": {
    "slideshow": {
     "slide_type": "slide"
    }
   },
   "source": [
    "## But what about connecting to database servers?\n",
    "\n",
    "To connect to other database types there are many different libraries:\n",
    "- Oracle: [cx_Oracle](https://oracle.github.io/python-cx_Oracle/)\n",
    "- MySQL: [MySQL-python](https://github.com/farcepest/MySQLdb1)\n",
    "- PostgreSQL: [Psycopg2](http://initd.org/psycopg/docs/)\n",
    "- Microsoft SQL Server: [pymssql](http://www.pymssql.org/en/stable/)\n",
    "\n",
    "These all implement [PEP 249: DB API v2](https://www.python.org/dev/peps/pep-0249/)"
   ]
  },
  {
   "cell_type": "markdown",
   "metadata": {
    "slideshow": {
     "slide_type": "slide"
    }
   },
   "source": [
    "***\n",
    "## Goal 3: Get going with sqlite!"
   ]
  },
  {
   "cell_type": "code",
   "execution_count": 8,
   "metadata": {
    "slideshow": {
     "slide_type": "fragment"
    }
   },
   "outputs": [],
   "source": [
    "import sqlite3\n",
    "import pandas as pd"
   ]
  },
  {
   "cell_type": "markdown",
   "metadata": {
    "slideshow": {
     "slide_type": "slide"
    }
   },
   "source": [
    "#### Load a DB object with `connect` and `cursor`"
   ]
  },
  {
   "cell_type": "code",
   "execution_count": 2,
   "metadata": {
    "slideshow": {
     "slide_type": "fragment"
    }
   },
   "outputs": [],
   "source": [
    "con = sqlite3.connect('data/flights.db')\n",
    "cursor = con.cursor()"
   ]
  },
  {
   "cell_type": "markdown",
   "metadata": {
    "slideshow": {
     "slide_type": "slide"
    }
   },
   "source": [
    "#### Use sqlite_master to find all the tables in the schema\n",
    "Get the schema of a database from a db in sqlite"
   ]
  },
  {
   "cell_type": "code",
   "execution_count": 3,
   "metadata": {},
   "outputs": [
    {
     "name": "stdout",
     "output_type": "stream",
     "text": [
      "[('airports',), ('airlines',), ('routes',)]\n"
     ]
    }
   ],
   "source": [
    "cursor.execute(\"SELECT name FROM sqlite_master WHERE type='table';\")\n",
    "print(cursor.fetchall())"
   ]
  },
  {
   "cell_type": "code",
   "execution_count": 4,
   "metadata": {},
   "outputs": [
    {
     "data": {
      "text/plain": [
       "(('name', None, None, None, None, None, None),)"
      ]
     },
     "execution_count": 4,
     "metadata": {},
     "output_type": "execute_result"
    }
   ],
   "source": [
    "cursor.description"
   ]
  },
  {
   "cell_type": "code",
   "execution_count": 5,
   "metadata": {},
   "outputs": [
    {
     "name": "stdout",
     "output_type": "stream",
     "text": [
      "[('airports', 'table'), ('ix_airports_index', 'index'), ('airlines', 'table'), ('ix_airlines_index', 'index'), ('routes', 'table'), ('ix_routes_index', 'index')]\n"
     ]
    }
   ],
   "source": [
    "cursor.execute(\"SELECT name, type FROM sqlite_master;\")\n",
    "print(cursor.fetchall())"
   ]
  },
  {
   "cell_type": "code",
   "execution_count": 6,
   "metadata": {},
   "outputs": [
    {
     "name": "stdout",
     "output_type": "stream",
     "text": [
      "('table', 'airports', 'airports', 2, 'CREATE TABLE airports (\\n[index] INTEGER,\\n  [id] TEXT,\\n  [name] TEXT,\\n  [city] TEXT,\\n  [country] TEXT,\\n  [code] TEXT,\\n  [icao] TEXT,\\n  [latitude] TEXT,\\n  [longitude] TEXT,\\n  [altitude] TEXT,\\n  [offset] TEXT,\\n  [dst] TEXT,\\n  [timezone] TEXT\\n)')\n",
      "('index', 'ix_airports_index', 'airports', 3, 'CREATE INDEX ix_airports_index ON airports ([index])')\n",
      "('table', 'airlines', 'airlines', 945, 'CREATE TABLE airlines (\\n[index] INTEGER,\\n  [id] TEXT,\\n  [name] TEXT,\\n  [alias] TEXT,\\n  [iata] TEXT,\\n  [icao] TEXT,\\n  [callsign] TEXT,\\n  [country] TEXT,\\n  [active] TEXT\\n)')\n",
      "('index', 'ix_airlines_index', 'airlines', 946, 'CREATE INDEX ix_airlines_index ON airlines ([index])')\n",
      "('table', 'routes', 'routes', 1393, 'CREATE TABLE routes (\\n[index] INTEGER,\\n  [airline] TEXT,\\n  [airline_id] TEXT,\\n  [source] TEXT,\\n  [source_id] TEXT,\\n  [dest] TEXT,\\n  [dest_id] TEXT,\\n  [codeshare] TEXT,\\n  [stops] TEXT,\\n  [equipment] TEXT\\n)')\n",
      "('index', 'ix_routes_index', 'routes', 1394, 'CREATE INDEX ix_routes_index ON routes ([index])')\n"
     ]
    }
   ],
   "source": [
    "cursor.execute(\"SELECT * FROM sqlite_master;\")\n",
    "results = cursor.fetchall()\n",
    "for res in results:\n",
    "    print(res)"
   ]
  },
  {
   "cell_type": "markdown",
   "metadata": {
    "slideshow": {
     "slide_type": "slide"
    }
   },
   "source": [
    "#### Get information about one table\n",
    "\n",
    "**A note about** `execute`<br>\n",
    "Each time you use it, you reset the value of cursor"
   ]
  },
  {
   "cell_type": "code",
   "execution_count": null,
   "metadata": {},
   "outputs": [],
   "source": [
    "cursor.execute(\"SELECT * FROM airports as a\").fetchone()"
   ]
  },
  {
   "cell_type": "code",
   "execution_count": null,
   "metadata": {},
   "outputs": [],
   "source": [
    "cursor.fetchone()"
   ]
  },
  {
   "cell_type": "code",
   "execution_count": null,
   "metadata": {},
   "outputs": [],
   "source": [
    "cursor.fetchmany(4)"
   ]
  },
  {
   "cell_type": "markdown",
   "metadata": {
    "slideshow": {
     "slide_type": "slide"
    }
   },
   "source": [
    "#### Use description"
   ]
  },
  {
   "cell_type": "code",
   "execution_count": null,
   "metadata": {
    "slideshow": {
     "slide_type": "fragment"
    }
   },
   "outputs": [],
   "source": [
    "cursor.description"
   ]
  },
  {
   "cell_type": "markdown",
   "metadata": {
    "slideshow": {
     "slide_type": "slide"
    }
   },
   "source": [
    "#### Or use `Pragma`\n",
    "`Pragma` tool [link here](https://www.sqlite.org/pragma.html#pragma_table_info)\n",
    "\n",
    "**output**<br>\n",
    "`(column id, column name, data type, whether or not the column can be NULL, and the default value for the column)`"
   ]
  },
  {
   "cell_type": "code",
   "execution_count": null,
   "metadata": {
    "slideshow": {
     "slide_type": "slide"
    }
   },
   "outputs": [],
   "source": [
    "cursor.execute(\"PRAGMA table_info(airports)\")\n",
    "info = cursor.fetchall()\n",
    "print(*info, sep = \"\\n\") "
   ]
  },
  {
   "cell_type": "markdown",
   "metadata": {
    "slideshow": {
     "slide_type": "slide"
    }
   },
   "source": [
    "#### Making fetch happen\n",
    "\n",
    "`.fetchall()` is how you get the query results out of the object.\n",
    "\n",
    "You can also `.fetchone()` or `.fetchmany()`"
   ]
  },
  {
   "cell_type": "markdown",
   "metadata": {
    "slideshow": {
     "slide_type": "slide"
    }
   },
   "source": [
    "**Task:** Get the descriptive data for airlines and routes tables"
   ]
  },
  {
   "cell_type": "code",
   "execution_count": null,
   "metadata": {},
   "outputs": [],
   "source": [
    "cursor.execute(\"PRAGMA table_info(airlines)\")\n",
    "info = cursor.fetchall()\n",
    "print(*info, sep = \"\\n\")"
   ]
  },
  {
   "cell_type": "code",
   "execution_count": null,
   "metadata": {},
   "outputs": [],
   "source": [
    "cursor.execute(\"PRAGMA table_info(routes)\")\n",
    "info = cursor.fetchall()\n",
    "print(*info, sep = \"\\n\")"
   ]
  },
  {
   "cell_type": "markdown",
   "metadata": {
    "slideshow": {
     "slide_type": "slide"
    }
   },
   "source": [
    "***\n",
    "## Goal 4: Use basic SQL commands \n",
    "- Construct SQL queries\n",
    "- Use JOIN to merge tables along logical columns\n",
    "- Grouping Data with SQL"
   ]
  },
  {
   "cell_type": "markdown",
   "metadata": {
    "slideshow": {
     "slide_type": "slide"
    }
   },
   "source": [
    "### Construct SQL queries"
   ]
  },
  {
   "cell_type": "markdown",
   "metadata": {
    "slideshow": {
     "slide_type": "fragment"
    }
   },
   "source": [
    "**Select**"
   ]
  },
  {
   "cell_type": "markdown",
   "metadata": {
    "slideshow": {
     "slide_type": "fragment"
    }
   },
   "source": [
    "**From**"
   ]
  },
  {
   "cell_type": "markdown",
   "metadata": {
    "slideshow": {
     "slide_type": "fragment"
    }
   },
   "source": [
    "**Where**"
   ]
  },
  {
   "cell_type": "markdown",
   "metadata": {
    "slideshow": {
     "slide_type": "fragment"
    }
   },
   "source": [
    "**Order by**"
   ]
  },
  {
   "cell_type": "markdown",
   "metadata": {
    "slideshow": {
     "slide_type": "fragment"
    }
   },
   "source": [
    "**Limit**"
   ]
  },
  {
   "cell_type": "markdown",
   "metadata": {
    "slideshow": {
     "slide_type": "slide"
    }
   },
   "source": [
    "#### Options for each:"
   ]
  },
  {
   "cell_type": "markdown",
   "metadata": {
    "slideshow": {
     "slide_type": "fragment"
    }
   },
   "source": [
    "**Select**:  `distinct`, using `as` to rename columns, single number aggregates"
   ]
  },
  {
   "cell_type": "markdown",
   "metadata": {
    "slideshow": {
     "slide_type": "fragment"
    }
   },
   "source": [
    "**From:** also uses aliasing with `as`"
   ]
  },
  {
   "cell_type": "markdown",
   "metadata": {
    "slideshow": {
     "slide_type": "fragment"
    }
   },
   "source": [
    "**Where**: equals is only one `=`, `between`, `in`, wildcards `%`, `AND`, `OR`, `NOT`"
   ]
  },
  {
   "cell_type": "markdown",
   "metadata": {
    "slideshow": {
     "slide_type": "fragment"
    }
   },
   "source": [
    "**Order by**: `asc` and `desc`"
   ]
  },
  {
   "cell_type": "markdown",
   "metadata": {
    "slideshow": {
     "slide_type": "fragment"
    }
   },
   "source": [
    "**Limit**:  #"
   ]
  },
  {
   "cell_type": "markdown",
   "metadata": {
    "slideshow": {
     "slide_type": "slide"
    }
   },
   "source": [
    "**Task**: \n",
    "- Select only active airlines in the UK from the airlines table\n",
    "- Select the unique list of countries with airports"
   ]
  },
  {
   "cell_type": "code",
   "execution_count": null,
   "metadata": {},
   "outputs": [],
   "source": [
    "cursor.execute(\"\"\"\n",
    "SELECT name\n",
    "FROM airlines\n",
    "WHERE active = 'Y'\n",
    "  AND country = 'United Kingdom';\n",
    "\"\"\")\n",
    "cursor.fetchmany(5)"
   ]
  },
  {
   "cell_type": "markdown",
   "metadata": {
    "slideshow": {
     "slide_type": "slide"
    }
   },
   "source": [
    "### SQL Joins"
   ]
  },
  {
   "cell_type": "markdown",
   "metadata": {
    "slideshow": {
     "slide_type": "fragment"
    }
   },
   "source": [
    "SQL joins can be used to both **add** data to a table and **remove** data from a table. "
   ]
  },
  {
   "cell_type": "markdown",
   "metadata": {
    "slideshow": {
     "slide_type": "fragment"
    }
   },
   "source": [
    "<img src=\"img/venn.png\" width=550>"
   ]
  },
  {
   "cell_type": "markdown",
   "metadata": {
    "slideshow": {
     "slide_type": "slide"
    }
   },
   "source": [
    "**Task** Write a query that will join the latitude and longitude data from the airports table to the information on the routes table"
   ]
  },
  {
   "cell_type": "code",
   "execution_count": null,
   "metadata": {
    "slideshow": {
     "slide_type": "skip"
    }
   },
   "outputs": [],
   "source": [
    "cursor.execute(\"\"\"\n",
    "SELECT *\n",
    "FROM airports\n",
    "\"\"\")\n",
    "print(*cursor.description, sep='\\n')"
   ]
  },
  {
   "cell_type": "markdown",
   "metadata": {
    "slideshow": {
     "slide_type": "slide"
    }
   },
   "source": [
    "### Grouping statements\n",
    "\n",
    "Combines `select` and `group by` when you want aggregates by values"
   ]
  },
  {
   "cell_type": "markdown",
   "metadata": {
    "slideshow": {
     "slide_type": "fragment"
    }
   },
   "source": [
    "`select` `min(x)` ... `max()`, `sum()`, etc"
   ]
  },
  {
   "cell_type": "markdown",
   "metadata": {
    "slideshow": {
     "slide_type": "fragment"
    }
   },
   "source": [
    "`group by x`"
   ]
  },
  {
   "cell_type": "markdown",
   "metadata": {
    "slideshow": {
     "slide_type": "slide"
    }
   },
   "source": [
    "**Task**<br>\n",
    "- Which countries have the highest amount of active airlines?\n",
    "- Which countries have the highest amount of inactive airlines?\n",
    "- What about airports by timezones?"
   ]
  },
  {
   "cell_type": "code",
   "execution_count": 12,
   "metadata": {
    "slideshow": {
     "slide_type": "skip"
    }
   },
   "outputs": [
    {
     "name": "stdout",
     "output_type": "stream",
     "text": [
      "(1168, '1190', 'Tirana Rinas', 'Tirana', 'Albania', 'TIA', 'LATI', '41.414742', '19.720561', '126', '1', 'E', 'Europe/Tirane', 4450, 'A3', '96', 'TIA', '1190', 'ATH', '3941', None, '0', 'DH4')\n",
      "(1168, '1190', 'Tirana Rinas', 'Tirana', 'Albania', 'TIA', 'LATI', '41.414742', '19.720561', '126', '1', 'E', 'Europe/Tirane', 11341, 'AP', '240', 'TIA', '1190', 'BLQ', '1538', None, '0', '320')\n",
      "(1168, '1190', 'Tirana Rinas', 'Tirana', 'Albania', 'TIA', 'LATI', '41.414742', '19.720561', '126', '1', 'E', 'Europe/Tirane', 11342, 'AP', '240', 'TIA', '1190', 'GOA', '1528', None, '0', '320')\n",
      "(1168, '1190', 'Tirana Rinas', 'Tirana', 'Albania', 'TIA', 'LATI', '41.414742', '19.720561', '126', '1', 'E', 'Europe/Tirane', 11343, 'AP', '240', 'TIA', '1190', 'MXP', '1524', None, '0', '320')\n",
      "(1168, '1190', 'Tirana Rinas', 'Tirana', 'Albania', 'TIA', 'LATI', '41.414742', '19.720561', '126', '1', 'E', 'Europe/Tirane', 11344, 'AP', '240', 'TIA', '1190', 'PSA', '1562', None, '0', '320')\n",
      "(1168, '1190', 'Tirana Rinas', 'Tirana', 'Albania', 'TIA', 'LATI', '41.414742', '19.720561', '126', '1', 'E', 'Europe/Tirane', 11345, 'AP', '240', 'TIA', '1190', 'VCE', '1551', None, '0', '320')\n",
      "(1168, '1190', 'Tirana Rinas', 'Tirana', 'Albania', 'TIA', 'LATI', '41.414742', '19.720561', '126', '1', 'E', 'Europe/Tirane', 11346, 'AP', '240', 'TIA', '1190', 'VRN', '1550', None, '0', '320')\n",
      "(1168, '1190', 'Tirana Rinas', 'Tirana', 'Albania', 'TIA', 'LATI', '41.414742', '19.720561', '126', '1', 'E', 'Europe/Tirane', 13704, 'AZ', '596', 'TIA', '1190', 'BLQ', '1538', 'Y', '0', '320')\n",
      "(1168, '1190', 'Tirana Rinas', 'Tirana', 'Albania', 'TIA', 'LATI', '41.414742', '19.720561', '126', '1', 'E', 'Europe/Tirane', 13705, 'AZ', '596', 'TIA', '1190', 'BRI', '1501', None, '0', '32S 319')\n",
      "(1168, '1190', 'Tirana Rinas', 'Tirana', 'Albania', 'TIA', 'LATI', '41.414742', '19.720561', '126', '1', 'E', 'Europe/Tirane', 13706, 'AZ', '596', 'TIA', '1190', 'FCO', '1555', None, '0', '32S 319 E90 E75')\n",
      "(1168, '1190', 'Tirana Rinas', 'Tirana', 'Albania', 'TIA', 'LATI', '41.414742', '19.720561', '126', '1', 'E', 'Europe/Tirane', 13707, 'AZ', '596', 'TIA', '1190', 'GOA', '1528', 'Y', '0', '320')\n",
      "(1168, '1190', 'Tirana Rinas', 'Tirana', 'Albania', 'TIA', 'LATI', '41.414742', '19.720561', '126', '1', 'E', 'Europe/Tirane', 13708, 'AZ', '596', 'TIA', '1190', 'MXP', '1524', 'Y', '0', '320')\n",
      "(1168, '1190', 'Tirana Rinas', 'Tirana', 'Albania', 'TIA', 'LATI', '41.414742', '19.720561', '126', '1', 'E', 'Europe/Tirane', 13709, 'AZ', '596', 'TIA', '1190', 'PSA', '1562', 'Y', '0', '320')\n",
      "(1168, '1190', 'Tirana Rinas', 'Tirana', 'Albania', 'TIA', 'LATI', '41.414742', '19.720561', '126', '1', 'E', 'Europe/Tirane', 13710, 'AZ', '596', 'TIA', '1190', 'TRN', '1526', None, '0', '319 320 32S')\n",
      "(1168, '1190', 'Tirana Rinas', 'Tirana', 'Albania', 'TIA', 'LATI', '41.414742', '19.720561', '126', '1', 'E', 'Europe/Tirane', 13711, 'AZ', '596', 'TIA', '1190', 'VCE', '1551', 'Y', '0', '320')\n",
      "(1168, '1190', 'Tirana Rinas', 'Tirana', 'Albania', 'TIA', 'LATI', '41.414742', '19.720561', '126', '1', 'E', 'Europe/Tirane', 13712, 'AZ', '596', 'TIA', '1190', 'VRN', '1550', 'Y', '0', '320')\n",
      "(1168, '1190', 'Tirana Rinas', 'Tirana', 'Albania', 'TIA', 'LATI', '41.414742', '19.720561', '126', '1', 'E', 'Europe/Tirane', 14910, 'BA', '1355', 'TIA', '1190', 'LGW', '502', None, '0', '734')\n",
      "(1168, '1190', 'Tirana Rinas', 'Tirana', 'Albania', 'TIA', 'LATI', '41.414742', '19.720561', '126', '1', 'E', 'Europe/Tirane', 15914, 'BV', '1463', 'TIA', '1190', 'BGY', '1525', None, '0', '737')\n",
      "(1168, '1190', 'Tirana Rinas', 'Tirana', 'Albania', 'TIA', 'LATI', '41.414742', '19.720561', '126', '1', 'E', 'Europe/Tirane', 15915, 'BV', '1463', 'TIA', '1190', 'BLQ', '1538', None, '0', '737')\n",
      "(1168, '1190', 'Tirana Rinas', 'Tirana', 'Albania', 'TIA', 'LATI', '41.414742', '19.720561', '126', '1', 'E', 'Europe/Tirane', 15916, 'BV', '1463', 'TIA', '1190', 'FCO', '1555', None, '0', '737')\n",
      "(1168, '1190', 'Tirana Rinas', 'Tirana', 'Albania', 'TIA', 'LATI', '41.414742', '19.720561', '126', '1', 'E', 'Europe/Tirane', 15917, 'BV', '1463', 'TIA', '1190', 'MXP', '1524', None, '0', '737')\n",
      "(1168, '1190', 'Tirana Rinas', 'Tirana', 'Albania', 'TIA', 'LATI', '41.414742', '19.720561', '126', '1', 'E', 'Europe/Tirane', 15918, 'BV', '1463', 'TIA', '1190', 'PSA', '1562', None, '0', '737')\n",
      "(1168, '1190', 'Tirana Rinas', 'Tirana', 'Albania', 'TIA', 'LATI', '41.414742', '19.720561', '126', '1', 'E', 'Europe/Tirane', 15919, 'BV', '1463', 'TIA', '1190', 'VCE', '1551', None, '0', '737')\n",
      "(1168, '1190', 'Tirana Rinas', 'Tirana', 'Albania', 'TIA', 'LATI', '41.414742', '19.720561', '126', '1', 'E', 'Europe/Tirane', 15920, 'BV', '1463', 'TIA', '1190', 'VRN', '1550', None, '0', '737')\n",
      "(1168, '1190', 'Tirana Rinas', 'Tirana', 'Albania', 'TIA', 'LATI', '41.414742', '19.720561', '126', '1', 'E', 'Europe/Tirane', 33225, 'IG', '3463', 'TIA', '1190', 'MXP', '1524', None, '0', '320')\n",
      "(1168, '1190', 'Tirana Rinas', 'Tirana', 'Albania', 'TIA', 'LATI', '41.414742', '19.720561', '126', '1', 'E', 'Europe/Tirane', 33226, 'IG', '3463', 'TIA', '1190', 'VRN', '1550', None, '0', '320')\n",
      "(1168, '1190', 'Tirana Rinas', 'Tirana', 'Albania', 'TIA', 'LATI', '41.414742', '19.720561', '126', '1', 'E', 'Europe/Tirane', 34858, 'JN', '2264', 'TIA', '1190', 'BLQ', '1538', None, '0', '320')\n",
      "(1168, '1190', 'Tirana Rinas', 'Tirana', 'Albania', 'TIA', 'LATI', '41.414742', '19.720561', '126', '1', 'E', 'Europe/Tirane', 34859, 'JN', '2264', 'TIA', '1190', 'MXP', '1524', None, '0', '320')\n",
      "(1168, '1190', 'Tirana Rinas', 'Tirana', 'Albania', 'TIA', 'LATI', '41.414742', '19.720561', '126', '1', 'E', 'Europe/Tirane', 34860, 'JN', '2264', 'TIA', '1190', 'VRN', '1550', None, '0', '320')\n",
      "(1168, '1190', 'Tirana Rinas', 'Tirana', 'Albania', 'TIA', 'LATI', '41.414742', '19.720561', '126', '1', 'E', 'Europe/Tirane', 34897, 'JP', '83', 'TIA', '1190', 'FRA', '340', None, '0', '319')\n",
      "(1168, '1190', 'Tirana Rinas', 'Tirana', 'Albania', 'TIA', 'LATI', '41.414742', '19.720561', '126', '1', 'E', 'Europe/Tirane', 34898, 'JP', '83', 'TIA', '1190', 'LJU', '1569', None, '0', 'CR9 CR2')\n",
      "(1168, '1190', 'Tirana Rinas', 'Tirana', 'Albania', 'TIA', 'LATI', '41.414742', '19.720561', '126', '1', 'E', 'Europe/Tirane', 38785, 'LH', '3320', 'TIA', '1190', 'MUC', '346', 'Y', '0', 'E95')\n",
      "(1168, '1190', 'Tirana Rinas', 'Tirana', 'Albania', 'TIA', 'LATI', '41.414742', '19.720561', '126', '1', 'E', 'Europe/Tirane', 44299, 'OA', '3776', 'TIA', '1190', 'ATH', '3941', None, '0', 'DH4')\n",
      "(1168, '1190', 'Tirana Rinas', 'Tirana', 'Albania', 'TIA', 'LATI', '41.414742', '19.720561', '126', '1', 'E', 'Europe/Tirane', 44665, 'OS', '491', 'TIA', '1190', 'VIE', '1613', 'Y', '0', '100 320')\n",
      "(1168, '1190', 'Tirana Rinas', 'Tirana', 'Albania', 'TIA', 'LATI', '41.414742', '19.720561', '126', '1', 'E', 'Europe/Tirane', 45591, 'PC', '3926', 'TIA', '1190', 'SAW', '4317', None, '0', '320 738')\n",
      "(1168, '1190', 'Tirana Rinas', 'Tirana', 'Albania', 'TIA', 'LATI', '41.414742', '19.720561', '126', '1', 'E', 'Europe/Tirane', 52839, 'TK', '4951', 'TIA', '1190', 'IST', '1701', None, '0', '319')\n",
      "(214, '216', 'Tamanrasset', 'Tamanrasset', 'Algeria', 'TMR', 'DAAT', '22.811461', '5.451075', '4518', '1', 'N', 'Africa/Algiers', 10266, 'AH', '794', 'TMR', '216', 'ALG', '210', None, '0', '738')\n",
      "(214, '216', 'Tamanrasset', 'Tamanrasset', 'Algeria', 'TMR', 'DAAT', '22.811461', '5.451075', '4518', '1', 'N', 'Africa/Algiers', 10267, 'AH', '794', 'TMR', '216', 'ELG', '236', None, '0', 'ATR')\n",
      "(214, '216', 'Tamanrasset', 'Tamanrasset', 'Algeria', 'TMR', 'DAAT', '22.811461', '5.451075', '4518', '1', 'N', 'Africa/Algiers', 10268, 'AH', '794', 'TMR', '216', 'GHA', '237', None, '0', 'ATR')\n",
      "(214, '216', 'Tamanrasset', 'Tamanrasset', 'Algeria', 'TMR', 'DAAT', '22.811461', '5.451075', '4518', '1', 'N', 'Africa/Algiers', 10269, 'AH', '794', 'TMR', '216', 'INZ', '239', None, '0', 'ATR')\n",
      "(220, '222', 'Cheikh Larbi Tebessi', 'Tebessa', 'Algeria', 'TEE', 'DABS', '35.431611', '8.120717', '2661', '1', 'N', 'Africa/Algiers', 10256, 'AH', '794', 'TEE', '222', 'ALG', '210', None, '0', 'ATR')\n",
      "(222, '225', 'Bou Chekif', 'Tiaret', 'Algeria', 'TID', 'DAOB', '35.341136', '1.463147', '3245', '1', 'N', 'Africa/Algiers', 10258, 'AH', '794', 'TID', '225', 'ALG', '210', None, '0', 'ATR')\n",
      "(221, '224', 'Hassi R Mel', 'Tilrempt', 'Algeria', 'HRM', 'DAFH', '32.930431', '3.311542', '2540', '1', 'N', 'Africa/Algiers', 10175, 'AH', '794', 'HRM', '224', 'ALG', '210', None, '0', 'ATR')\n",
      "(221, '224', 'Hassi R Mel', 'Tilrempt', 'Algeria', 'HRM', 'DAFH', '32.930431', '3.311542', '2540', '1', 'N', 'Africa/Algiers', 10176, 'AH', '794', 'HRM', '224', 'HME', '238', None, '0', 'ATR')\n",
      "(227, '230', 'Zenata', 'Tlemcen', 'Algeria', 'TLM', 'DAON', '35.016667', '-1.45', '814', '1', 'N', 'Africa/Algiers', 10260, 'AH', '794', 'TLM', '230', 'ALG', '210', None, '0', '738 ATR')\n",
      "(227, '230', 'Zenata', 'Tlemcen', 'Algeria', 'TLM', 'DAON', '35.016667', '-1.45', '814', '1', 'N', 'Africa/Algiers', 10261, 'AH', '794', 'TLM', '230', 'LYS', '1335', None, '0', '738')\n",
      "(227, '230', 'Zenata', 'Tlemcen', 'Algeria', 'TLM', 'DAON', '35.016667', '-1.45', '814', '1', 'N', 'Africa/Algiers', 10262, 'AH', '794', 'TLM', '230', 'MRS', '1353', None, '0', '738')\n",
      "(227, '230', 'Zenata', 'Tlemcen', 'Algeria', 'TLM', 'DAON', '35.016667', '-1.45', '814', '1', 'N', 'Africa/Algiers', 10263, 'AH', '794', 'TLM', '230', 'ORY', '1386', None, '0', '738')\n",
      "(227, '230', 'Zenata', 'Tlemcen', 'Algeria', 'TLM', 'DAON', '35.016667', '-1.45', '814', '1', 'N', 'Africa/Algiers', 67505, 'ZI', '21', 'TLM', '230', 'MRS', '1353', None, '0', '319')\n",
      "(227, '230', 'Zenata', 'Tlemcen', 'Algeria', 'TLM', 'DAON', '35.016667', '-1.45', '814', '1', 'N', 'Africa/Algiers', 67506, 'ZI', '21', 'TLM', '230', 'ORY', '1386', None, '0', '320 319')\n",
      "(237, '240', 'Sidi Mahdi', 'Touggourt', 'Algeria', 'TGR', 'DAUK', '33.067803', '6.088672', '279', '1', 'N', 'Africa/Algiers', 10257, 'AH', '794', 'TGR', '240', 'ALG', '210', None, '0', 'ATR')\n",
      "(2825, '2900', 'Wallblake', 'The Valley', 'Anguilla', 'AXA', 'TQPF', '18.204834', '-63.055084', '127', '-4', 'U', 'America/Anguilla', 3613, '9K', '1629', 'AXA', '2900', 'SJU', '2890', None, '0', 'CNA')\n",
      "(2825, '2900', 'Wallblake', 'The Valley', 'Anguilla', 'AXA', 'TQPF', '18.204834', '-63.055084', '127', '-4', 'U', 'America/Anguilla', 38893, 'LI', '3251', 'AXA', '2900', 'ANU', '2874', None, '0', 'DH3')\n",
      "(2825, '2900', 'Wallblake', 'The Valley', 'Anguilla', 'AXA', 'TQPF', '18.204834', '-63.055084', '127', '-4', 'U', 'America/Anguilla', 38894, 'LI', '3251', 'AXA', '2900', 'STT', '2883', None, '0', 'AT7 AT4')\n",
      "(2825, '2900', 'Wallblake', 'The Valley', 'Anguilla', 'AXA', 'TQPF', '18.204834', '-63.055084', '127', '-4', 'U', 'America/Anguilla', 46582, 'Q3', '18700', 'AXA', '2900', 'SXM', '2899', None, '0', 'BNI')\n",
      "(2825, '2900', 'Wallblake', 'The Valley', 'Anguilla', 'AXA', 'TQPF', '18.204834', '-63.055084', '127', '-4', 'U', 'America/Anguilla', 52210, 'TJ', '18529', 'AXA', '2900', 'SJU', '2890', None, '0', 'PL2')\n",
      "(2825, '2900', 'Wallblake', 'The Valley', 'Anguilla', 'AXA', 'TQPF', '18.204834', '-63.055084', '127', '-4', 'U', 'America/Anguilla', 63391, 'WM', '16149', 'AXA', '2900', 'SXM', '2899', None, '0', 'DHT')\n",
      "(2421, '2490', 'Almirante Zar', 'Trelew', 'Argentina', 'REL', 'SAVT', '-43.2105', '-65.270319', '141', '-3', 'N', 'America/Cordoba', 3298, '8R', '5188', 'REL', '2490', 'BHI', '2501', None, '0', 'SF3')\n",
      "(2421, '2490', 'Almirante Zar', 'Trelew', 'Argentina', 'REL', 'SAVT', '-43.2105', '-65.270319', '141', '-3', 'N', 'America/Cordoba', 3299, '8R', '5188', 'REL', '2490', 'BRC', '2513', None, '0', 'SF3')\n",
      "(2421, '2490', 'Almirante Zar', 'Trelew', 'Argentina', 'REL', 'SAVT', '-43.2105', '-65.270319', '141', '-3', 'N', 'America/Cordoba', 3300, '8R', '5188', 'REL', '2490', 'CRD', '2487', None, '0', 'SF3')\n"
     ]
    }
   ],
   "source": [
    "# Which countries have the highest amount of active airports?\n",
    "cursor.execute(\"\"\"Select *\n",
    "\n",
    "From airports\n",
    "JOIN routes ON airports.id = routes.source_id\n",
    "\n",
    "Where city like 't%'\n",
    "\n",
    "Order by  country,city\n",
    "\n",
    "Limit 60\n",
    "-- your code here;\n",
    "\"\"\")\n",
    "print(*cursor.fetchall(), sep='\\n')"
   ]
  },
  {
   "cell_type": "code",
   "execution_count": 10,
   "metadata": {},
   "outputs": [
    {
     "ename": "SyntaxError",
     "evalue": "invalid syntax (<ipython-input-10-37f135e42717>, line 1)",
     "output_type": "error",
     "traceback": [
      "\u001b[0;36m  File \u001b[0;32m\"<ipython-input-10-37f135e42717>\"\u001b[0;36m, line \u001b[0;32m1\u001b[0m\n\u001b[0;31m    Select *\u001b[0m\n\u001b[0m            ^\u001b[0m\n\u001b[0;31mSyntaxError\u001b[0m\u001b[0;31m:\u001b[0m invalid syntax\n"
     ]
    }
   ],
   "source": []
  },
  {
   "cell_type": "code",
   "execution_count": null,
   "metadata": {
    "slideshow": {
     "slide_type": "skip"
    }
   },
   "outputs": [],
   "source": [
    "# Which countries have the highest amount of inactive airports?\n",
    "cursor.execute(\"\"\"\n",
    "-- your code here;\n",
    "\"\"\")\n",
    "print(*cursor.fetchall(), sep='\\n')"
   ]
  },
  {
   "cell_type": "code",
   "execution_count": null,
   "metadata": {
    "slideshow": {
     "slide_type": "skip"
    }
   },
   "outputs": [],
   "source": [
    "# What about airports by timezones?\n",
    "cursor.execute(\"\"\"\n",
    "-- your code here;\"\"\")\n",
    "print(*cursor.fetchall(), sep='\\n')"
   ]
  },
  {
   "cell_type": "code",
   "execution_count": null,
   "metadata": {},
   "outputs": [],
   "source": [
    "# It's always a good idea to close our connections when we're done\n",
    "cursor.close()\n",
    "con.close()"
   ]
  },
  {
   "cell_type": "markdown",
   "metadata": {
    "slideshow": {
     "slide_type": "slide"
    }
   },
   "source": [
    "## Goal 5: Using sql within pandas to filter\n",
    "\n",
    "`.query()`\n",
    "\n",
    "[query documentation](https://pandas.pydata.org/pandas-docs/stable/reference/api/pandas.DataFrame.query.html)"
   ]
  },
  {
   "cell_type": "code",
   "execution_count": 13,
   "metadata": {
    "slideshow": {
     "slide_type": "slide"
    }
   },
   "outputs": [
    {
     "data": {
      "text/plain": [
       "Animal ID           object\n",
       "Name                object\n",
       "DateTime            object\n",
       "MonthYear           object\n",
       "Date of Birth       object\n",
       "Outcome Type        object\n",
       "Outcome Subtype     object\n",
       "Animal Type         object\n",
       "Sex upon Outcome    object\n",
       "Age upon Outcome    object\n",
       "Breed               object\n",
       "Color               object\n",
       "dtype: object"
      ]
     },
     "execution_count": 13,
     "metadata": {},
     "output_type": "execute_result"
    }
   ],
   "source": [
    "# Get data for an example\n",
    "import pandas as pd\n",
    "shelter_data=pd.read_csv('https://data.austintexas.gov/api/views/9t4d-g238/rows.csv?accessType=DOWNLOAD')\n",
    "shelter_data.dtypes"
   ]
  },
  {
   "cell_type": "code",
   "execution_count": null,
   "metadata": {
    "slideshow": {
     "slide_type": "slide"
    }
   },
   "outputs": [],
   "source": [
    "max_data = shelter_data.query('Name == \"Max\"')\n",
    "max_data.head()\n",
    "#vs\n",
    "shelter_data[shelter_data['Name']==\"Max\"]"
   ]
  },
  {
   "cell_type": "code",
   "execution_count": null,
   "metadata": {
    "slideshow": {
     "slide_type": "slide"
    }
   },
   "outputs": [],
   "source": [
    "shelter_data.rename(index=str, columns={\"Animal Type\": \"animal_type\"}, inplace = True)\n",
    "test = shelter_data.query('animal_type == \"Dog\"')\n",
    "test.head()"
   ]
  },
  {
   "cell_type": "markdown",
   "metadata": {
    "slideshow": {
     "slide_type": "slide"
    }
   },
   "source": [
    "## Goal 6: Transfering from sqlite to pandas"
   ]
  },
  {
   "cell_type": "code",
   "execution_count": 9,
   "metadata": {
    "slideshow": {
     "slide_type": "fragment"
    }
   },
   "outputs": [
    {
     "data": {
      "text/html": [
       "<div>\n",
       "<style scoped>\n",
       "    .dataframe tbody tr th:only-of-type {\n",
       "        vertical-align: middle;\n",
       "    }\n",
       "\n",
       "    .dataframe tbody tr th {\n",
       "        vertical-align: top;\n",
       "    }\n",
       "\n",
       "    .dataframe thead th {\n",
       "        text-align: right;\n",
       "    }\n",
       "</style>\n",
       "<table border=\"1\" class=\"dataframe\">\n",
       "  <thead>\n",
       "    <tr style=\"text-align: right;\">\n",
       "      <th></th>\n",
       "      <th>index</th>\n",
       "      <th>id</th>\n",
       "      <th>name</th>\n",
       "      <th>city</th>\n",
       "      <th>country</th>\n",
       "      <th>code</th>\n",
       "      <th>icao</th>\n",
       "      <th>latitude</th>\n",
       "      <th>longitude</th>\n",
       "      <th>altitude</th>\n",
       "      <th>offset</th>\n",
       "      <th>dst</th>\n",
       "      <th>timezone</th>\n",
       "    </tr>\n",
       "  </thead>\n",
       "  <tbody>\n",
       "    <tr>\n",
       "      <td>0</td>\n",
       "      <td>0</td>\n",
       "      <td>1</td>\n",
       "      <td>Goroka</td>\n",
       "      <td>Goroka</td>\n",
       "      <td>Papua New Guinea</td>\n",
       "      <td>GKA</td>\n",
       "      <td>AYGA</td>\n",
       "      <td>-6.081689</td>\n",
       "      <td>145.391881</td>\n",
       "      <td>5282</td>\n",
       "      <td>10</td>\n",
       "      <td>U</td>\n",
       "      <td>Pacific/Port_Moresby</td>\n",
       "    </tr>\n",
       "    <tr>\n",
       "      <td>1</td>\n",
       "      <td>1</td>\n",
       "      <td>2</td>\n",
       "      <td>Madang</td>\n",
       "      <td>Madang</td>\n",
       "      <td>Papua New Guinea</td>\n",
       "      <td>MAG</td>\n",
       "      <td>AYMD</td>\n",
       "      <td>-5.207083</td>\n",
       "      <td>145.7887</td>\n",
       "      <td>20</td>\n",
       "      <td>10</td>\n",
       "      <td>U</td>\n",
       "      <td>Pacific/Port_Moresby</td>\n",
       "    </tr>\n",
       "    <tr>\n",
       "      <td>2</td>\n",
       "      <td>2</td>\n",
       "      <td>3</td>\n",
       "      <td>Mount Hagen</td>\n",
       "      <td>Mount Hagen</td>\n",
       "      <td>Papua New Guinea</td>\n",
       "      <td>HGU</td>\n",
       "      <td>AYMH</td>\n",
       "      <td>-5.826789</td>\n",
       "      <td>144.295861</td>\n",
       "      <td>5388</td>\n",
       "      <td>10</td>\n",
       "      <td>U</td>\n",
       "      <td>Pacific/Port_Moresby</td>\n",
       "    </tr>\n",
       "    <tr>\n",
       "      <td>3</td>\n",
       "      <td>3</td>\n",
       "      <td>4</td>\n",
       "      <td>Nadzab</td>\n",
       "      <td>Nadzab</td>\n",
       "      <td>Papua New Guinea</td>\n",
       "      <td>LAE</td>\n",
       "      <td>AYNZ</td>\n",
       "      <td>-6.569828</td>\n",
       "      <td>146.726242</td>\n",
       "      <td>239</td>\n",
       "      <td>10</td>\n",
       "      <td>U</td>\n",
       "      <td>Pacific/Port_Moresby</td>\n",
       "    </tr>\n",
       "    <tr>\n",
       "      <td>4</td>\n",
       "      <td>4</td>\n",
       "      <td>5</td>\n",
       "      <td>Port Moresby Jacksons Intl</td>\n",
       "      <td>Port Moresby</td>\n",
       "      <td>Papua New Guinea</td>\n",
       "      <td>POM</td>\n",
       "      <td>AYPY</td>\n",
       "      <td>-9.443383</td>\n",
       "      <td>147.22005</td>\n",
       "      <td>146</td>\n",
       "      <td>10</td>\n",
       "      <td>U</td>\n",
       "      <td>Pacific/Port_Moresby</td>\n",
       "    </tr>\n",
       "  </tbody>\n",
       "</table>\n",
       "</div>"
      ],
      "text/plain": [
       "   index id                        name          city           country code  \\\n",
       "0      0  1                      Goroka        Goroka  Papua New Guinea  GKA   \n",
       "1      1  2                      Madang        Madang  Papua New Guinea  MAG   \n",
       "2      2  3                 Mount Hagen   Mount Hagen  Papua New Guinea  HGU   \n",
       "3      3  4                      Nadzab        Nadzab  Papua New Guinea  LAE   \n",
       "4      4  5  Port Moresby Jacksons Intl  Port Moresby  Papua New Guinea  POM   \n",
       "\n",
       "   icao   latitude   longitude altitude offset dst              timezone  \n",
       "0  AYGA  -6.081689  145.391881     5282     10   U  Pacific/Port_Moresby  \n",
       "1  AYMD  -5.207083    145.7887       20     10   U  Pacific/Port_Moresby  \n",
       "2  AYMH  -5.826789  144.295861     5388     10   U  Pacific/Port_Moresby  \n",
       "3  AYNZ  -6.569828  146.726242      239     10   U  Pacific/Port_Moresby  \n",
       "4  AYPY  -9.443383   147.22005      146     10   U  Pacific/Port_Moresby  "
      ]
     },
     "execution_count": 9,
     "metadata": {},
     "output_type": "execute_result"
    }
   ],
   "source": [
    "pd_con = sqlite3.connect(\"data/flights.db\")\n",
    "df = pd.read_sql_query(\"select * from airports limit 5;\", pd_con)\n",
    "df"
   ]
  },
  {
   "cell_type": "markdown",
   "metadata": {
    "slideshow": {
     "slide_type": "slide"
    }
   },
   "source": [
    "**Task**: \n",
    "Convert one of the earlier queries in the lesson to a pandas data frame"
   ]
  },
  {
   "cell_type": "code",
   "execution_count": null,
   "metadata": {},
   "outputs": [],
   "source": [
    "# Which countries have the highest amount of active airports?\n",
    "df = pd.read_sql_query(\"\"\"\n",
    "-- your code here;\n",
    "\"\"\", pd_con)\n",
    "df"
   ]
  },
  {
   "cell_type": "code",
   "execution_count": null,
   "metadata": {},
   "outputs": [],
   "source": [
    "pd_con.close()"
   ]
  },
  {
   "cell_type": "markdown",
   "metadata": {
    "slideshow": {
     "slide_type": "slide"
    }
   },
   "source": [
    "## Integration\n",
    "\n",
    "The [Chinook database](https://github.com/lerocha/chinook-database) is a sample database, representing a digital media store.\n",
    "\n",
    "You need to create a query that can rank tracks in term of popularity.\n",
    "\n",
    "The name of the database is `Chinook_Sqlite.sqlite`"
   ]
  },
  {
   "cell_type": "markdown",
   "metadata": {
    "slideshow": {
     "slide_type": "slide"
    }
   },
   "source": [
    "Database information:<br>\n",
    "- How many tables are in the database?\n",
    "- What's the primary key of each table?\n",
    "- What foreign keys join the tables together?\n",
    "- If you had to draw a schema of how the tables are connected, what would it look like?"
   ]
  },
  {
   "cell_type": "markdown",
   "metadata": {
    "slideshow": {
     "slide_type": "slide"
    }
   },
   "source": [
    "To answer the question:<br>\n",
    "- What are the max and min dates in the Invoice table?\n",
    "- What tables would you need to answer \"what is your most popular track?\"\n",
    "- What values from each table?"
   ]
  },
  {
   "cell_type": "code",
   "execution_count": null,
   "metadata": {
    "slideshow": {
     "slide_type": "skip"
    }
   },
   "outputs": [],
   "source": [
    "conn = sqlite3.connect('data/Chinook_Sqlite.sqlite')\n",
    "cur = conn.cursor()"
   ]
  },
  {
   "cell_type": "code",
   "execution_count": null,
   "metadata": {},
   "outputs": [],
   "source": [
    "# How many tables are in the database?\n",
    "\n",
    "# your code here"
   ]
  },
  {
   "cell_type": "code",
   "execution_count": null,
   "metadata": {},
   "outputs": [],
   "source": [
    "# What's the primary key of each table?\n",
    "\n",
    "# your code here"
   ]
  },
  {
   "cell_type": "code",
   "execution_count": null,
   "metadata": {},
   "outputs": [],
   "source": [
    "# What foreign keys join the tables together?\n",
    "\n",
    "# your code here\n",
    "# hint: use \"PRAGMA foreign_key_list()\"\n"
   ]
  },
  {
   "cell_type": "code",
   "execution_count": null,
   "metadata": {},
   "outputs": [],
   "source": [
    "# What are the max and min dates in the Invoice table?\n",
    "cur.execute(\"\"\"\n",
    "-- your code here;\n",
    "\"\"\").fetchall()"
   ]
  },
  {
   "cell_type": "code",
   "execution_count": null,
   "metadata": {},
   "outputs": [],
   "source": [
    "# What tables would you need to answer \"what is your most popular track?\"\n"
   ]
  },
  {
   "cell_type": "code",
   "execution_count": null,
   "metadata": {},
   "outputs": [],
   "source": [
    "# What values from each table?\n"
   ]
  },
  {
   "cell_type": "code",
   "execution_count": null,
   "metadata": {},
   "outputs": [],
   "source": [
    "# Put it all together:\n",
    "# You need to create a query that can rank tracks in term of popularity.\n",
    "\n",
    "results = cur.execute(\"\"\"\n",
    "-- your code here;\n",
    "\"\"\").fetchall()\n",
    "\n",
    "print(*results, sep='\\n')"
   ]
  },
  {
   "cell_type": "code",
   "execution_count": null,
   "metadata": {},
   "outputs": [],
   "source": [
    "# Advanced: get the artist who sang the song!\n",
    "results = cur.execute(\"\"\"\n",
    "-- your code here;\n",
    "\"\"\").fetchall()\n",
    "\n",
    "print(*results, sep='\\n')"
   ]
  },
  {
   "cell_type": "markdown",
   "metadata": {
    "slideshow": {
     "slide_type": "slide"
    }
   },
   "source": [
    "## Reflection\n",
    "\n",
    "Please fill out today's Exit Ticket!"
   ]
  },
  {
   "cell_type": "code",
   "execution_count": null,
   "metadata": {},
   "outputs": [],
   "source": []
  }
 ],
 "metadata": {
  "kernelspec": {
   "display_name": "Python 3",
   "language": "python",
   "name": "python3"
  },
  "language_info": {
   "codemirror_mode": {
    "name": "ipython",
    "version": 3
   },
   "file_extension": ".py",
   "mimetype": "text/x-python",
   "name": "python",
   "nbconvert_exporter": "python",
   "pygments_lexer": "ipython3",
   "version": "3.7.4"
  }
 },
 "nbformat": 4,
 "nbformat_minor": 4
}
