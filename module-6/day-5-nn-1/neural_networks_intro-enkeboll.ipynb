{
 "cells": [
  {
   "cell_type": "markdown",
   "metadata": {
    "slideshow": {
     "slide_type": "slide"
    }
   },
   "source": [
    "# Intro to Neural Networks\n"
   ]
  },
  {
   "cell_type": "code",
   "execution_count": null,
   "metadata": {
    "slideshow": {
     "slide_type": "skip"
    }
   },
   "outputs": [],
   "source": [
    "import numpy as np\n",
    "from matplotlib import pyplot as plt"
   ]
  },
  {
   "cell_type": "markdown",
   "metadata": {},
   "source": [
    "<img src=\"img/move_on.jpg\" width=400>"
   ]
  },
  {
   "cell_type": "markdown",
   "metadata": {
    "slideshow": {
     "slide_type": "slide"
    }
   },
   "source": [
    "### Remember when we went from linear to logistic regression?"
   ]
  },
  {
   "cell_type": "markdown",
   "metadata": {
    "slideshow": {
     "slide_type": "fragment"
    }
   },
   "source": [
    "<img src=\"img/linear_vs_logistic_regression.jpg\" width=650>"
   ]
  },
  {
   "cell_type": "markdown",
   "metadata": {
    "slideshow": {
     "slide_type": "slide"
    }
   },
   "source": [
    "### Use a linear combination of variables\n",
    "\n",
    "$$ \\hat y = \\hat\\beta_0 + \\hat\\beta_1 x_1 + \\hat\\beta_2, x_2 +\\ldots + \\beta_n x_n $$"
   ]
  },
  {
   "cell_type": "markdown",
   "metadata": {
    "slideshow": {
     "slide_type": "slide"
    }
   },
   "source": [
    "### And passed the sum product of those variables and coefficients through a sigmoid function.\n",
    "\n",
    "$$ P(y) = \\displaystyle \\frac{1}{1+e^{-(\\hat y)}}$$\n",
    "\n",
    "![sig](img/SigmoidFunction_701.gif)"
   ]
  },
  {
   "cell_type": "markdown",
   "metadata": {
    "slideshow": {
     "slide_type": "slide"
    }
   },
   "source": [
    "### Another way of writing this:\n",
    "\n",
    "<img src=\"img/log_reg_deriv.png\" width=500>"
   ]
  },
  {
   "cell_type": "markdown",
   "metadata": {
    "slideshow": {
     "slide_type": "slide"
    }
   },
   "source": [
    "### If we change the orientation of the first part, we get a new diagram:\n",
    "<img src=\"img/log_reg.png\" width=500>"
   ]
  },
  {
   "cell_type": "markdown",
   "metadata": {
    "slideshow": {
     "slide_type": "slide"
    }
   },
   "source": [
    "### _Logistic Regression_ was our first introduction to a Neural Network(NN):\n",
    "<img src=\"img/log_reg.png\" width=500>"
   ]
  },
  {
   "cell_type": "markdown",
   "metadata": {},
   "source": [
    "<img src=\"img/dogcat.gif\" width=500>"
   ]
  },
  {
   "cell_type": "markdown",
   "metadata": {
    "slideshow": {
     "slide_type": "slide"
    }
   },
   "source": [
    "### A more general notation for a single layer NN:\n",
    "![fnn](img/First_network.jpg)"
   ]
  },
  {
   "cell_type": "markdown",
   "metadata": {
    "slideshow": {
     "slide_type": "slide"
    }
   },
   "source": [
    "### New vocabulary!\n",
    "\n",
    "- input layer\n",
    "- weights\n",
    "- hidden layer\n",
    "- summation function\n",
    "- activation function\n",
    "- output"
   ]
  },
  {
   "cell_type": "markdown",
   "metadata": {
    "slideshow": {
     "slide_type": "slide"
    }
   },
   "source": [
    "## Input layer\n",
    "\n",
    "The input layer of a neural network is the list of variables we are using in our model.\n",
    "\n",
    "<img src=\"img/log-reg-nn-ex-i.png\" width=500>"
   ]
  },
  {
   "cell_type": "markdown",
   "metadata": {
    "slideshow": {
     "slide_type": "slide"
    }
   },
   "source": [
    "## Weights\n",
    "\n",
    "In the case of logistic regression, the weights here are the coefficients we are adjusting to fit our model. In other Neural Networks, the weights are a combination of scalar transformations and matrix multiplication on any of the input variables.\n",
    "\n",
    "<img src=\"img/log-reg-nn-ex-w.png\" width=500>"
   ]
  },
  {
   "cell_type": "markdown",
   "metadata": {
    "slideshow": {
     "slide_type": "slide"
    }
   },
   "source": [
    "## Summation function\n",
    "\n",
    "<img src=\"img/log-reg-nn-ex-sum.png\" width=500>"
   ]
  },
  {
   "cell_type": "markdown",
   "metadata": {
    "slideshow": {
     "slide_type": "slide"
    }
   },
   "source": [
    "## Activation function\n",
    "\n",
    "In logistic regression we use a **sigmoid** activation function. Other options you might see are **linear**, **Tanh** and **ReLU**.<br>\n",
    "[Loss functions for neural networks](https://ml-cheatsheet.readthedocs.io/en/latest/loss_functions.html)\n",
    "<img src=\"img/log-reg-nn-ex-a.png\" width=500>"
   ]
  },
  {
   "cell_type": "markdown",
   "metadata": {
    "slideshow": {
     "slide_type": "slide"
    }
   },
   "source": [
    "## Deeper networks = more hidden layers\n",
    "\n",
    "![dnn](img/Deeper_network.jpg)"
   ]
  },
  {
   "cell_type": "markdown",
   "metadata": {
    "slideshow": {
     "slide_type": "slide"
    }
   },
   "source": [
    "## Why _hidden_ layers?\n",
    "\n",
    "They are hidden because we do not specify them. They could represent latent factors (as with matrix decomposition), or a combination of the existing variables into new features.\n",
    "\n",
    "![ic-nn](img/Ice_cream_network.jpg)"
   ]
  },
  {
   "cell_type": "markdown",
   "metadata": {
    "slideshow": {
     "slide_type": "slide"
    }
   },
   "source": [
    "## But why _neural_ ?\n",
    "\n",
    "![neuron-bio](img/neuron.png)"
   ]
  },
  {
   "cell_type": "markdown",
   "metadata": {
    "slideshow": {
     "slide_type": "slide"
    }
   },
   "source": [
    "## Inspiration from Actual Neurons"
   ]
  },
  {
   "cell_type": "markdown",
   "metadata": {
    "slideshow": {
     "slide_type": "fragment"
    }
   },
   "source": [
    "\"The signaling process is partly electrical and partly chemical. Neurons are electrically excitable, due to maintenance of voltage gradients across their membranes. If the voltage changes by a large enough amount over a short interval, the neuron generates an all-or-nothing electrochemical pulse called an action potential. This potential travels rapidly along the axon, and activates synaptic connections as it reaches them. Synaptic signals may be excitatory or inhibitory, increasing or reducing the net voltage that reaches the soma.\" (https://en.wikipedia.org/wiki/Neuron)\n",
    "\n",
    "Another important idea from neurology is the \"all-or-none\" principle: <br/> (https://en.wikipedia.org/wiki/Neuron#All-or-none_principle)"
   ]
  },
  {
   "cell_type": "markdown",
   "metadata": {
    "slideshow": {
     "slide_type": "slide"
    }
   },
   "source": [
    "### The biology comparison \n",
    "\n",
    "Neural networks draw their inspiration from the biology of our own brains, which are of course also accurately described as 'neural networks'. A human brain contains around $10^{11}$ neurons, connected very densely.\n",
    "\n",
    "One of the distinctive features of a neuron is that it has a kind of activation potential: If the electric signal reaching a neuron is strong enough, the neuron will fire, sending electrical signals further along the network. Thus  there is a kind of input-output structure to neurons that the artificial networks will be mimicking."
   ]
  },
  {
   "cell_type": "markdown",
   "metadata": {
    "slideshow": {
     "slide_type": "slide"
    }
   },
   "source": [
    "## Important differences \n",
    "\n",
    "Having input, output, and bias: This should so far sound _**much**_ like _**linear regression**_.\n",
    "Have the computer choose weights on the various input parameters so as to optimize the predictions on outputs.\n",
    "\n",
    "But there are, of course, **important** differences, how the model trains on the data and how it adjusts for error."
   ]
  },
  {
   "cell_type": "markdown",
   "metadata": {
    "slideshow": {
     "slide_type": "slide"
    }
   },
   "source": [
    "## Model Training - batches\n",
    "\n",
    "![toomuch](img/much-data-too-much-data.jpg)\n",
    "\n",
    "Unlike other models that can take all the data in the trianing set, Neural nets generally don't accept the entire dataset all at once. Thus we often want to specify a *batch size*, which will break our data up into chunks of that size.\n",
    "\n",
    "Example: $ 1,000$ data points, _batch size_ **500**"
   ]
  },
  {
   "cell_type": "markdown",
   "metadata": {
    "slideshow": {
     "slide_type": "slide"
    }
   },
   "source": [
    "## Model Training - epochs\n",
    "![epock](img/2014-10-28_anthropocene.png)\n",
    "\n",
    "When all four batches of 500 observations go through the NN, one **epoch** is completed. \n",
    "\n",
    "\n",
    "Generally speaking, one epoch is NOT enough to see significant error reduction. But, because of the power of gradient descent, there are often very significant strides  made after a few tens or hundreds of epochs."
   ]
  },
  {
   "cell_type": "markdown",
   "metadata": {
    "slideshow": {
     "slide_type": "slide"
    }
   },
   "source": [
    "## Back propagation - adjusting weights\n",
    "Moreover, neural nets are dynamic in the sense that, after a certain number of data points have been passed through the model, the weights will be *updated* with an eye toward optimizing our loss function. (Thinking back to biological neurons, this is like revising their activation potentials.) Typically, this is  done  by using some version of gradient descent, but [other approaches have been attempted](https://arxiv.org/abs/1605.02026).\n",
    "\n",
    "![bprop](img/BackProp_web.png)"
   ]
  },
  {
   "cell_type": "markdown",
   "metadata": {
    "slideshow": {
     "slide_type": "slide"
    }
   },
   "source": [
    "## Back propagation - visualized\n",
    "\n",
    "![bb](img/ff-bb.gif)"
   ]
  },
  {
   "cell_type": "markdown",
   "metadata": {
    "slideshow": {
     "slide_type": "slide"
    }
   },
   "source": [
    "## Details of Back Propagation\n",
    "One of the most popular optimizers these days is called 'Adam', which generalizes from ordinary gradient descent by having individual and dynamic learning rates. [This article](https://machinelearningmastery.com/adam-optimization-algorithm-for-deep-learning/) has a nice discussion of Adam.\n",
    "\n",
    "For the mathematical details, check out [this post](https://mattmazur.com/2015/03/17/a-step-by-step-backpropagation-example/).\n",
    "\n",
    "Given that we are only passing *some* data points through at any one time, the question of *when* to update the weights becomes pressing. Standardly, we'd wait until we've passed all the data through before updating, but we might try updating after each batch (\"batch gradient descent\") or even after each point (\"stochastic gradient descent\"). [This post](https://datascience.stackexchange.com/questions/27421/when-are-weights-updated-in-cnn) has more details."
   ]
  },
  {
   "cell_type": "markdown",
   "metadata": {
    "slideshow": {
     "slide_type": "slide"
    }
   },
   "source": [
    "## Who Cares?\n",
    "\n",
    "Remember graph theory? [Neural networks are much like computational graphs](https://medium.com/tebs-lab/deep-neural-networks-as-computational-graphs-867fcaa56c9). (This is why Tensorflow is useful for constructing neural networks! More on this tomorrow.)\n",
    "\n",
    "And computational graphs can be used [to approximate *any* function](http://neuralnetworksanddeeplearning.com/chap4.html)."
   ]
  },
  {
   "cell_type": "markdown",
   "metadata": {
    "slideshow": {
     "slide_type": "skip"
    }
   },
   "source": [
    "## Activation Functions\n",
    "\n",
    "Some common activation functions:\n",
    "\n",
    "**binary step**: $f(x) = 0$ if $x\\leq 0$; $f(x) = 1$ otherwise"
   ]
  },
  {
   "cell_type": "code",
   "execution_count": 2,
   "metadata": {},
   "outputs": [],
   "source": [
    "import numpy as np\n",
    "import matplotlib.pyplot as plt\n",
    "%matplotlib inline"
   ]
  },
  {
   "cell_type": "code",
   "execution_count": 3,
   "metadata": {
    "slideshow": {
     "slide_type": "skip"
    }
   },
   "outputs": [
    {
     "data": {
      "image/png": "[encoded data removed]",
      "text/plain": [
       "<Figure size 432x288 with 1 Axes>"
      ]
     },
     "metadata": {
      "needs_background": "light"
     },
     "output_type": "display_data"
    }
   ],
   "source": [
    "# Coding binary step:\n",
    "\n",
    "X = np.linspace(-10, 10, 200)\n",
    "y_bs = list(np.zeros(100))\n",
    "y_bs.extend(list(np.ones(100)))\n",
    "\n",
    "plt.plot(X, y_bs);"
   ]
  },
  {
   "cell_type": "markdown",
   "metadata": {
    "slideshow": {
     "slide_type": "skip"
    }
   },
   "source": [
    "**ReLU**: $f(x) = 0$ if $x\\leq 0$; $f(x) = x$ otherwise"
   ]
  },
  {
   "cell_type": "code",
   "execution_count": 4,
   "metadata": {
    "slideshow": {
     "slide_type": "skip"
    }
   },
   "outputs": [
    {
     "data": {
      "image/png": "[encoded data removed]",
      "text/plain": [
       "<Figure size 432x288 with 1 Axes>"
      ]
     },
     "metadata": {
      "needs_background": "light"
     },
     "output_type": "display_data"
    }
   ],
   "source": [
    "# Coding ReLU:\n",
    "\n",
    "y_relu = list(np.zeros(100))\n",
    "y_relu.extend(np.linspace(0, 10, 100))\n",
    "\n",
    "plt.plot(X, y_relu);"
   ]
  },
  {
   "cell_type": "markdown",
   "metadata": {
    "slideshow": {
     "slide_type": "skip"
    }
   },
   "source": [
    "**Sigmoid**: $f(x) = \\frac{1}{1 + e^{-x}}$"
   ]
  },
  {
   "cell_type": "code",
   "execution_count": 5,
   "metadata": {
    "slideshow": {
     "slide_type": "skip"
    }
   },
   "outputs": [
    {
     "data": {
      "image/png": "[encoded data removed]",
      "text/plain": [
       "<Figure size 432x288 with 1 Axes>"
      ]
     },
     "metadata": {
      "needs_background": "light"
     },
     "output_type": "display_data"
    }
   ],
   "source": [
    "# Coding Sigmoid:\n",
    "\n",
    "y_sig = 1 / (1 + np.exp(-X))\n",
    "\n",
    "plt.plot(X, y_sig);"
   ]
  },
  {
   "cell_type": "markdown",
   "metadata": {
    "slideshow": {
     "slide_type": "skip"
    }
   },
   "source": [
    "**tanh**: $f(x) = tanh(x) = \\frac{e^x - e^{-x}}{e^x + e^{-x}}$"
   ]
  },
  {
   "cell_type": "code",
   "execution_count": 6,
   "metadata": {
    "slideshow": {
     "slide_type": "skip"
    }
   },
   "outputs": [
    {
     "data": {
      "image/png": "[encoded data removed]",
      "text/plain": [
       "<Figure size 432x288 with 1 Axes>"
      ]
     },
     "metadata": {
      "needs_background": "light"
     },
     "output_type": "display_data"
    }
   ],
   "source": [
    "# Coding tanh:\n",
    "\n",
    "y_tanh = (np.exp(X) - np.exp(-X)) / (np.exp(X) + np.exp(-X))\n",
    "\n",
    "plt.plot(X, y_tanh);"
   ]
  },
  {
   "cell_type": "markdown",
   "metadata": {
    "slideshow": {
     "slide_type": "skip"
    }
   },
   "source": [
    "**Softsign**: $f(x) = \\frac{x}{1 + |x|}$"
   ]
  },
  {
   "cell_type": "code",
   "execution_count": 7,
   "metadata": {
    "slideshow": {
     "slide_type": "skip"
    }
   },
   "outputs": [
    {
     "data": {
      "image/png": "[encoded data removed]",
      "text/plain": [
       "<Figure size 432x288 with 1 Axes>"
      ]
     },
     "metadata": {
      "needs_background": "light"
     },
     "output_type": "display_data"
    }
   ],
   "source": [
    "# Coding Softsign:\n",
    "\n",
    "y_ss = X / (1 + np.abs(X))\n",
    "\n",
    "plt.plot(X, y_ss);"
   ]
  },
  {
   "cell_type": "markdown",
   "metadata": {
    "slideshow": {
     "slide_type": "skip"
    }
   },
   "source": [
    "Notice that ReLU (\"Rectified Linear Unit\") increases without bound as $x\\rightarrow\\infty$. The advantages and drawbacks of this are discussed on [this page on stackexchange](https://stats.stackexchange.com/questions/126238/what-are-the-advantages-of-relu-over-sigmoid-function-in-deep-neural-networks)"
   ]
  },
  {
   "cell_type": "markdown",
   "metadata": {},
   "source": [
    "#### Softmax"
   ]
  },
  {
   "cell_type": "markdown",
   "metadata": {
    "slideshow": {
     "slide_type": "slide"
    }
   },
   "source": [
    "## GUI!\n",
    "\n",
    "[Tinker with a neural network online](https://playground.tensorflow.org)"
   ]
  },
  {
   "cell_type": "code",
   "execution_count": 15,
   "metadata": {},
   "outputs": [
    {
     "name": "stdout",
     "output_type": "stream",
     "text": [
      "Requirement already satisfied: keras in /opt/anaconda3/lib/python3.7/site-packages (2.3.1)\n",
      "Requirement already satisfied: scipy>=0.14 in /opt/anaconda3/lib/python3.7/site-packages (from keras) (1.4.1)\n",
      "Requirement already satisfied: pyyaml in /opt/anaconda3/lib/python3.7/site-packages (from keras) (5.1.2)\n",
      "Requirement already satisfied: keras-preprocessing>=1.0.5 in /opt/anaconda3/lib/python3.7/site-packages (from keras) (1.1.0)\n",
      "Requirement already satisfied: numpy>=1.9.1 in /opt/anaconda3/lib/python3.7/site-packages (from keras) (1.17.2)\n",
      "Requirement already satisfied: keras-applications>=1.0.6 in /opt/anaconda3/lib/python3.7/site-packages (from keras) (1.0.8)\n",
      "Requirement already satisfied: h5py in /opt/anaconda3/lib/python3.7/site-packages (from keras) (2.9.0)\n",
      "Requirement already satisfied: six>=1.9.0 in /opt/anaconda3/lib/python3.7/site-packages (from keras) (1.12.0)\n",
      "Requirement already satisfied: tensorflow in /opt/anaconda3/lib/python3.7/site-packages (2.1.0)\n",
      "Requirement already satisfied: grpcio>=1.8.6 in /opt/anaconda3/lib/python3.7/site-packages (from tensorflow) (1.27.2)\n",
      "Requirement already satisfied: keras-preprocessing>=1.1.0 in /opt/anaconda3/lib/python3.7/site-packages (from tensorflow) (1.1.0)\n",
      "Requirement already satisfied: six>=1.12.0 in /opt/anaconda3/lib/python3.7/site-packages (from tensorflow) (1.12.0)\n",
      "Requirement already satisfied: tensorboard<2.2.0,>=2.1.0 in /opt/anaconda3/lib/python3.7/site-packages (from tensorflow) (2.1.0)\n",
      "Requirement already satisfied: tensorflow-estimator<2.2.0,>=2.1.0rc0 in /opt/anaconda3/lib/python3.7/site-packages (from tensorflow) (2.1.0)\n",
      "Requirement already satisfied: scipy==1.4.1; python_version >= \"3\" in /opt/anaconda3/lib/python3.7/site-packages (from tensorflow) (1.4.1)\n",
      "Requirement already satisfied: wrapt>=1.11.1 in /opt/anaconda3/lib/python3.7/site-packages (from tensorflow) (1.11.2)\n",
      "Requirement already satisfied: gast==0.2.2 in /opt/anaconda3/lib/python3.7/site-packages (from tensorflow) (0.2.2)\n",
      "Requirement already satisfied: keras-applications>=1.0.8 in /opt/anaconda3/lib/python3.7/site-packages (from tensorflow) (1.0.8)\n",
      "Requirement already satisfied: termcolor>=1.1.0 in /opt/anaconda3/lib/python3.7/site-packages (from tensorflow) (1.1.0)\n",
      "Requirement already satisfied: wheel>=0.26; python_version >= \"3\" in /opt/anaconda3/lib/python3.7/site-packages (from tensorflow) (0.33.6)\n",
      "Requirement already satisfied: opt-einsum>=2.3.2 in /opt/anaconda3/lib/python3.7/site-packages (from tensorflow) (3.1.0)\n",
      "Requirement already satisfied: google-pasta>=0.1.6 in /opt/anaconda3/lib/python3.7/site-packages (from tensorflow) (0.1.8)\n",
      "Requirement already satisfied: absl-py>=0.7.0 in /opt/anaconda3/lib/python3.7/site-packages (from tensorflow) (0.9.0)\n",
      "Requirement already satisfied: protobuf>=3.8.0 in /opt/anaconda3/lib/python3.7/site-packages (from tensorflow) (3.11.3)\n",
      "Requirement already satisfied: numpy<2.0,>=1.16.0 in /opt/anaconda3/lib/python3.7/site-packages (from tensorflow) (1.17.2)\n",
      "Requirement already satisfied: astor>=0.6.0 in /opt/anaconda3/lib/python3.7/site-packages (from tensorflow) (0.8.1)\n",
      "Requirement already satisfied: setuptools>=41.0.0 in /opt/anaconda3/lib/python3.7/site-packages (from tensorboard<2.2.0,>=2.1.0->tensorflow) (41.4.0)\n",
      "Requirement already satisfied: markdown>=2.6.8 in /opt/anaconda3/lib/python3.7/site-packages (from tensorboard<2.2.0,>=2.1.0->tensorflow) (3.2.1)\n",
      "Requirement already satisfied: google-auth-oauthlib<0.5,>=0.4.1 in /opt/anaconda3/lib/python3.7/site-packages (from tensorboard<2.2.0,>=2.1.0->tensorflow) (0.4.1)\n",
      "Requirement already satisfied: werkzeug>=0.11.15 in /opt/anaconda3/lib/python3.7/site-packages (from tensorboard<2.2.0,>=2.1.0->tensorflow) (0.16.0)\n",
      "Requirement already satisfied: requests<3,>=2.21.0 in /opt/anaconda3/lib/python3.7/site-packages (from tensorboard<2.2.0,>=2.1.0->tensorflow) (2.22.0)\n",
      "Requirement already satisfied: google-auth<2,>=1.6.3 in /opt/anaconda3/lib/python3.7/site-packages (from tensorboard<2.2.0,>=2.1.0->tensorflow) (1.11.2)\n",
      "Requirement already satisfied: h5py in /opt/anaconda3/lib/python3.7/site-packages (from keras-applications>=1.0.8->tensorflow) (2.9.0)\n",
      "Requirement already satisfied: requests-oauthlib>=0.7.0 in /opt/anaconda3/lib/python3.7/site-packages (from google-auth-oauthlib<0.5,>=0.4.1->tensorboard<2.2.0,>=2.1.0->tensorflow) (1.3.0)\n",
      "Requirement already satisfied: chardet<3.1.0,>=3.0.2 in /opt/anaconda3/lib/python3.7/site-packages (from requests<3,>=2.21.0->tensorboard<2.2.0,>=2.1.0->tensorflow) (3.0.4)\n",
      "Requirement already satisfied: certifi>=2017.4.17 in /opt/anaconda3/lib/python3.7/site-packages (from requests<3,>=2.21.0->tensorboard<2.2.0,>=2.1.0->tensorflow) (2019.9.11)\n",
      "Requirement already satisfied: idna<2.9,>=2.5 in /opt/anaconda3/lib/python3.7/site-packages (from requests<3,>=2.21.0->tensorboard<2.2.0,>=2.1.0->tensorflow) (2.8)\n",
      "Requirement already satisfied: urllib3!=1.25.0,!=1.25.1,<1.26,>=1.21.1 in /opt/anaconda3/lib/python3.7/site-packages (from requests<3,>=2.21.0->tensorboard<2.2.0,>=2.1.0->tensorflow) (1.24.2)\n",
      "Requirement already satisfied: cachetools<5.0,>=2.0.0 in /opt/anaconda3/lib/python3.7/site-packages (from google-auth<2,>=1.6.3->tensorboard<2.2.0,>=2.1.0->tensorflow) (4.0.0)\n",
      "Requirement already satisfied: pyasn1-modules>=0.2.1 in /opt/anaconda3/lib/python3.7/site-packages (from google-auth<2,>=1.6.3->tensorboard<2.2.0,>=2.1.0->tensorflow) (0.2.8)\n",
      "Requirement already satisfied: rsa<4.1,>=3.1.4 in /opt/anaconda3/lib/python3.7/site-packages (from google-auth<2,>=1.6.3->tensorboard<2.2.0,>=2.1.0->tensorflow) (4.0)\n",
      "Requirement already satisfied: oauthlib>=3.0.0 in /opt/anaconda3/lib/python3.7/site-packages (from requests-oauthlib>=0.7.0->google-auth-oauthlib<0.5,>=0.4.1->tensorboard<2.2.0,>=2.1.0->tensorflow) (3.1.0)\n",
      "Requirement already satisfied: pyasn1<0.5.0,>=0.4.6 in /opt/anaconda3/lib/python3.7/site-packages (from pyasn1-modules>=0.2.1->google-auth<2,>=1.6.3->tensorboard<2.2.0,>=2.1.0->tensorflow) (0.4.8)\n"
     ]
    }
   ],
   "source": [
    "!pip install keras\n",
    "!pip install tensorflow"
   ]
  },
  {
   "cell_type": "code",
   "execution_count": 12,
   "metadata": {},
   "outputs": [],
   "source": [
    "import tensorflow as tf\n",
    "import keras"
   ]
  },
  {
   "cell_type": "code",
   "execution_count": 16,
   "metadata": {},
   "outputs": [],
   "source": [
    "import seaborn as sns"
   ]
  },
  {
   "cell_type": "code",
   "execution_count": 17,
   "metadata": {},
   "outputs": [],
   "source": [
    "df = sns.load_dataset('titanic')"
   ]
  },
  {
   "cell_type": "code",
   "execution_count": 55,
   "metadata": {},
   "outputs": [
    {
     "data": {
      "text/html": [
       "<div>\n",
       "<style scoped>\n",
       "    .dataframe tbody tr th:only-of-type {\n",
       "        vertical-align: middle;\n",
       "    }\n",
       "\n",
       "    .dataframe tbody tr th {\n",
       "        vertical-align: top;\n",
       "    }\n",
       "\n",
       "    .dataframe thead th {\n",
       "        text-align: right;\n",
       "    }\n",
       "</style>\n",
       "<table border=\"1\" class=\"dataframe\">\n",
       "  <thead>\n",
       "    <tr style=\"text-align: right;\">\n",
       "      <th></th>\n",
       "      <th>survived</th>\n",
       "      <th>pclass</th>\n",
       "      <th>sex</th>\n",
       "      <th>age</th>\n",
       "      <th>sibsp</th>\n",
       "      <th>parch</th>\n",
       "      <th>fare</th>\n",
       "      <th>embarked</th>\n",
       "      <th>class</th>\n",
       "      <th>who</th>\n",
       "      <th>adult_male</th>\n",
       "      <th>deck</th>\n",
       "      <th>embark_town</th>\n",
       "      <th>alive</th>\n",
       "      <th>alone</th>\n",
       "    </tr>\n",
       "  </thead>\n",
       "  <tbody>\n",
       "    <tr>\n",
       "      <td>0</td>\n",
       "      <td>0</td>\n",
       "      <td>3</td>\n",
       "      <td>male</td>\n",
       "      <td>22.0</td>\n",
       "      <td>1</td>\n",
       "      <td>0</td>\n",
       "      <td>7.2500</td>\n",
       "      <td>S</td>\n",
       "      <td>Third</td>\n",
       "      <td>man</td>\n",
       "      <td>True</td>\n",
       "      <td>NaN</td>\n",
       "      <td>Southampton</td>\n",
       "      <td>no</td>\n",
       "      <td>False</td>\n",
       "    </tr>\n",
       "    <tr>\n",
       "      <td>1</td>\n",
       "      <td>1</td>\n",
       "      <td>1</td>\n",
       "      <td>female</td>\n",
       "      <td>38.0</td>\n",
       "      <td>1</td>\n",
       "      <td>0</td>\n",
       "      <td>71.2833</td>\n",
       "      <td>C</td>\n",
       "      <td>First</td>\n",
       "      <td>woman</td>\n",
       "      <td>False</td>\n",
       "      <td>C</td>\n",
       "      <td>Cherbourg</td>\n",
       "      <td>yes</td>\n",
       "      <td>False</td>\n",
       "    </tr>\n",
       "    <tr>\n",
       "      <td>2</td>\n",
       "      <td>1</td>\n",
       "      <td>3</td>\n",
       "      <td>female</td>\n",
       "      <td>26.0</td>\n",
       "      <td>0</td>\n",
       "      <td>0</td>\n",
       "      <td>7.9250</td>\n",
       "      <td>S</td>\n",
       "      <td>Third</td>\n",
       "      <td>woman</td>\n",
       "      <td>False</td>\n",
       "      <td>NaN</td>\n",
       "      <td>Southampton</td>\n",
       "      <td>yes</td>\n",
       "      <td>True</td>\n",
       "    </tr>\n",
       "    <tr>\n",
       "      <td>3</td>\n",
       "      <td>1</td>\n",
       "      <td>1</td>\n",
       "      <td>female</td>\n",
       "      <td>35.0</td>\n",
       "      <td>1</td>\n",
       "      <td>0</td>\n",
       "      <td>53.1000</td>\n",
       "      <td>S</td>\n",
       "      <td>First</td>\n",
       "      <td>woman</td>\n",
       "      <td>False</td>\n",
       "      <td>C</td>\n",
       "      <td>Southampton</td>\n",
       "      <td>yes</td>\n",
       "      <td>False</td>\n",
       "    </tr>\n",
       "    <tr>\n",
       "      <td>4</td>\n",
       "      <td>0</td>\n",
       "      <td>3</td>\n",
       "      <td>male</td>\n",
       "      <td>35.0</td>\n",
       "      <td>0</td>\n",
       "      <td>0</td>\n",
       "      <td>8.0500</td>\n",
       "      <td>S</td>\n",
       "      <td>Third</td>\n",
       "      <td>man</td>\n",
       "      <td>True</td>\n",
       "      <td>NaN</td>\n",
       "      <td>Southampton</td>\n",
       "      <td>no</td>\n",
       "      <td>True</td>\n",
       "    </tr>\n",
       "    <tr>\n",
       "      <td>...</td>\n",
       "      <td>...</td>\n",
       "      <td>...</td>\n",
       "      <td>...</td>\n",
       "      <td>...</td>\n",
       "      <td>...</td>\n",
       "      <td>...</td>\n",
       "      <td>...</td>\n",
       "      <td>...</td>\n",
       "      <td>...</td>\n",
       "      <td>...</td>\n",
       "      <td>...</td>\n",
       "      <td>...</td>\n",
       "      <td>...</td>\n",
       "      <td>...</td>\n",
       "      <td>...</td>\n",
       "    </tr>\n",
       "    <tr>\n",
       "      <td>886</td>\n",
       "      <td>0</td>\n",
       "      <td>2</td>\n",
       "      <td>male</td>\n",
       "      <td>27.0</td>\n",
       "      <td>0</td>\n",
       "      <td>0</td>\n",
       "      <td>13.0000</td>\n",
       "      <td>S</td>\n",
       "      <td>Second</td>\n",
       "      <td>man</td>\n",
       "      <td>True</td>\n",
       "      <td>NaN</td>\n",
       "      <td>Southampton</td>\n",
       "      <td>no</td>\n",
       "      <td>True</td>\n",
       "    </tr>\n",
       "    <tr>\n",
       "      <td>887</td>\n",
       "      <td>1</td>\n",
       "      <td>1</td>\n",
       "      <td>female</td>\n",
       "      <td>19.0</td>\n",
       "      <td>0</td>\n",
       "      <td>0</td>\n",
       "      <td>30.0000</td>\n",
       "      <td>S</td>\n",
       "      <td>First</td>\n",
       "      <td>woman</td>\n",
       "      <td>False</td>\n",
       "      <td>B</td>\n",
       "      <td>Southampton</td>\n",
       "      <td>yes</td>\n",
       "      <td>True</td>\n",
       "    </tr>\n",
       "    <tr>\n",
       "      <td>888</td>\n",
       "      <td>0</td>\n",
       "      <td>3</td>\n",
       "      <td>female</td>\n",
       "      <td>NaN</td>\n",
       "      <td>1</td>\n",
       "      <td>2</td>\n",
       "      <td>23.4500</td>\n",
       "      <td>S</td>\n",
       "      <td>Third</td>\n",
       "      <td>woman</td>\n",
       "      <td>False</td>\n",
       "      <td>NaN</td>\n",
       "      <td>Southampton</td>\n",
       "      <td>no</td>\n",
       "      <td>False</td>\n",
       "    </tr>\n",
       "    <tr>\n",
       "      <td>889</td>\n",
       "      <td>1</td>\n",
       "      <td>1</td>\n",
       "      <td>male</td>\n",
       "      <td>26.0</td>\n",
       "      <td>0</td>\n",
       "      <td>0</td>\n",
       "      <td>30.0000</td>\n",
       "      <td>C</td>\n",
       "      <td>First</td>\n",
       "      <td>man</td>\n",
       "      <td>True</td>\n",
       "      <td>C</td>\n",
       "      <td>Cherbourg</td>\n",
       "      <td>yes</td>\n",
       "      <td>True</td>\n",
       "    </tr>\n",
       "    <tr>\n",
       "      <td>890</td>\n",
       "      <td>0</td>\n",
       "      <td>3</td>\n",
       "      <td>male</td>\n",
       "      <td>32.0</td>\n",
       "      <td>0</td>\n",
       "      <td>0</td>\n",
       "      <td>7.7500</td>\n",
       "      <td>Q</td>\n",
       "      <td>Third</td>\n",
       "      <td>man</td>\n",
       "      <td>True</td>\n",
       "      <td>NaN</td>\n",
       "      <td>Queenstown</td>\n",
       "      <td>no</td>\n",
       "      <td>True</td>\n",
       "    </tr>\n",
       "  </tbody>\n",
       "</table>\n",
       "<p>891 rows × 15 columns</p>\n",
       "</div>"
      ],
      "text/plain": [
       "     survived  pclass     sex   age  sibsp  parch     fare embarked   class  \\\n",
       "0           0       3    male  22.0      1      0   7.2500        S   Third   \n",
       "1           1       1  female  38.0      1      0  71.2833        C   First   \n",
       "2           1       3  female  26.0      0      0   7.9250        S   Third   \n",
       "3           1       1  female  35.0      1      0  53.1000        S   First   \n",
       "4           0       3    male  35.0      0      0   8.0500        S   Third   \n",
       "..        ...     ...     ...   ...    ...    ...      ...      ...     ...   \n",
       "886         0       2    male  27.0      0      0  13.0000        S  Second   \n",
       "887         1       1  female  19.0      0      0  30.0000        S   First   \n",
       "888         0       3  female   NaN      1      2  23.4500        S   Third   \n",
       "889         1       1    male  26.0      0      0  30.0000        C   First   \n",
       "890         0       3    male  32.0      0      0   7.7500        Q   Third   \n",
       "\n",
       "       who  adult_male deck  embark_town alive  alone  \n",
       "0      man        True  NaN  Southampton    no  False  \n",
       "1    woman       False    C    Cherbourg   yes  False  \n",
       "2    woman       False  NaN  Southampton   yes   True  \n",
       "3    woman       False    C  Southampton   yes  False  \n",
       "4      man        True  NaN  Southampton    no   True  \n",
       "..     ...         ...  ...          ...   ...    ...  \n",
       "886    man        True  NaN  Southampton    no   True  \n",
       "887  woman       False    B  Southampton   yes   True  \n",
       "888  woman       False  NaN  Southampton    no  False  \n",
       "889    man        True    C    Cherbourg   yes   True  \n",
       "890    man        True  NaN   Queenstown    no   True  \n",
       "\n",
       "[891 rows x 15 columns]"
      ]
     },
     "execution_count": 55,
     "metadata": {},
     "output_type": "execute_result"
    }
   ],
   "source": [
    "df"
   ]
  },
  {
   "cell_type": "code",
   "execution_count": 56,
   "metadata": {},
   "outputs": [],
   "source": [
    "import pandas as pd\n",
    "new_df = pd.get_dummies(df, drop_first=True)\n",
    "new_df = new_df.dropna()"
   ]
  },
  {
   "cell_type": "code",
   "execution_count": 64,
   "metadata": {},
   "outputs": [],
   "source": [
    "y = new_df.survived\n",
    "X = new_df.drop('survived', axis=1)"
   ]
  },
  {
   "cell_type": "code",
   "execution_count": 65,
   "metadata": {},
   "outputs": [
    {
     "data": {
      "text/plain": [
       "0      0\n",
       "1      1\n",
       "2      1\n",
       "3      1\n",
       "4      0\n",
       "      ..\n",
       "885    0\n",
       "886    0\n",
       "887    1\n",
       "889    1\n",
       "890    0\n",
       "Name: survived, Length: 714, dtype: int64"
      ]
     },
     "execution_count": 65,
     "metadata": {},
     "output_type": "execute_result"
    }
   ],
   "source": [
    "y"
   ]
  },
  {
   "cell_type": "code",
   "execution_count": 66,
   "metadata": {},
   "outputs": [
    {
     "data": {
      "text/html": [
       "<div>\n",
       "<style scoped>\n",
       "    .dataframe tbody tr th:only-of-type {\n",
       "        vertical-align: middle;\n",
       "    }\n",
       "\n",
       "    .dataframe tbody tr th {\n",
       "        vertical-align: top;\n",
       "    }\n",
       "\n",
       "    .dataframe thead th {\n",
       "        text-align: right;\n",
       "    }\n",
       "</style>\n",
       "<table border=\"1\" class=\"dataframe\">\n",
       "  <thead>\n",
       "    <tr style=\"text-align: right;\">\n",
       "      <th></th>\n",
       "      <th>pclass</th>\n",
       "      <th>age</th>\n",
       "      <th>sibsp</th>\n",
       "      <th>parch</th>\n",
       "      <th>fare</th>\n",
       "      <th>adult_male</th>\n",
       "      <th>alone</th>\n",
       "      <th>sex_male</th>\n",
       "      <th>embarked_Q</th>\n",
       "      <th>embarked_S</th>\n",
       "      <th>...</th>\n",
       "      <th>who_woman</th>\n",
       "      <th>deck_B</th>\n",
       "      <th>deck_C</th>\n",
       "      <th>deck_D</th>\n",
       "      <th>deck_E</th>\n",
       "      <th>deck_F</th>\n",
       "      <th>deck_G</th>\n",
       "      <th>embark_town_Queenstown</th>\n",
       "      <th>embark_town_Southampton</th>\n",
       "      <th>alive_yes</th>\n",
       "    </tr>\n",
       "  </thead>\n",
       "  <tbody>\n",
       "    <tr>\n",
       "      <td>0</td>\n",
       "      <td>3</td>\n",
       "      <td>22.0</td>\n",
       "      <td>1</td>\n",
       "      <td>0</td>\n",
       "      <td>7.2500</td>\n",
       "      <td>True</td>\n",
       "      <td>False</td>\n",
       "      <td>1</td>\n",
       "      <td>0</td>\n",
       "      <td>1</td>\n",
       "      <td>...</td>\n",
       "      <td>0</td>\n",
       "      <td>0</td>\n",
       "      <td>0</td>\n",
       "      <td>0</td>\n",
       "      <td>0</td>\n",
       "      <td>0</td>\n",
       "      <td>0</td>\n",
       "      <td>0</td>\n",
       "      <td>1</td>\n",
       "      <td>0</td>\n",
       "    </tr>\n",
       "    <tr>\n",
       "      <td>1</td>\n",
       "      <td>1</td>\n",
       "      <td>38.0</td>\n",
       "      <td>1</td>\n",
       "      <td>0</td>\n",
       "      <td>71.2833</td>\n",
       "      <td>False</td>\n",
       "      <td>False</td>\n",
       "      <td>0</td>\n",
       "      <td>0</td>\n",
       "      <td>0</td>\n",
       "      <td>...</td>\n",
       "      <td>1</td>\n",
       "      <td>0</td>\n",
       "      <td>1</td>\n",
       "      <td>0</td>\n",
       "      <td>0</td>\n",
       "      <td>0</td>\n",
       "      <td>0</td>\n",
       "      <td>0</td>\n",
       "      <td>0</td>\n",
       "      <td>1</td>\n",
       "    </tr>\n",
       "    <tr>\n",
       "      <td>2</td>\n",
       "      <td>3</td>\n",
       "      <td>26.0</td>\n",
       "      <td>0</td>\n",
       "      <td>0</td>\n",
       "      <td>7.9250</td>\n",
       "      <td>False</td>\n",
       "      <td>True</td>\n",
       "      <td>0</td>\n",
       "      <td>0</td>\n",
       "      <td>1</td>\n",
       "      <td>...</td>\n",
       "      <td>1</td>\n",
       "      <td>0</td>\n",
       "      <td>0</td>\n",
       "      <td>0</td>\n",
       "      <td>0</td>\n",
       "      <td>0</td>\n",
       "      <td>0</td>\n",
       "      <td>0</td>\n",
       "      <td>1</td>\n",
       "      <td>1</td>\n",
       "    </tr>\n",
       "    <tr>\n",
       "      <td>3</td>\n",
       "      <td>1</td>\n",
       "      <td>35.0</td>\n",
       "      <td>1</td>\n",
       "      <td>0</td>\n",
       "      <td>53.1000</td>\n",
       "      <td>False</td>\n",
       "      <td>False</td>\n",
       "      <td>0</td>\n",
       "      <td>0</td>\n",
       "      <td>1</td>\n",
       "      <td>...</td>\n",
       "      <td>1</td>\n",
       "      <td>0</td>\n",
       "      <td>1</td>\n",
       "      <td>0</td>\n",
       "      <td>0</td>\n",
       "      <td>0</td>\n",
       "      <td>0</td>\n",
       "      <td>0</td>\n",
       "      <td>1</td>\n",
       "      <td>1</td>\n",
       "    </tr>\n",
       "    <tr>\n",
       "      <td>4</td>\n",
       "      <td>3</td>\n",
       "      <td>35.0</td>\n",
       "      <td>0</td>\n",
       "      <td>0</td>\n",
       "      <td>8.0500</td>\n",
       "      <td>True</td>\n",
       "      <td>True</td>\n",
       "      <td>1</td>\n",
       "      <td>0</td>\n",
       "      <td>1</td>\n",
       "      <td>...</td>\n",
       "      <td>0</td>\n",
       "      <td>0</td>\n",
       "      <td>0</td>\n",
       "      <td>0</td>\n",
       "      <td>0</td>\n",
       "      <td>0</td>\n",
       "      <td>0</td>\n",
       "      <td>0</td>\n",
       "      <td>1</td>\n",
       "      <td>0</td>\n",
       "    </tr>\n",
       "    <tr>\n",
       "      <td>...</td>\n",
       "      <td>...</td>\n",
       "      <td>...</td>\n",
       "      <td>...</td>\n",
       "      <td>...</td>\n",
       "      <td>...</td>\n",
       "      <td>...</td>\n",
       "      <td>...</td>\n",
       "      <td>...</td>\n",
       "      <td>...</td>\n",
       "      <td>...</td>\n",
       "      <td>...</td>\n",
       "      <td>...</td>\n",
       "      <td>...</td>\n",
       "      <td>...</td>\n",
       "      <td>...</td>\n",
       "      <td>...</td>\n",
       "      <td>...</td>\n",
       "      <td>...</td>\n",
       "      <td>...</td>\n",
       "      <td>...</td>\n",
       "      <td>...</td>\n",
       "    </tr>\n",
       "    <tr>\n",
       "      <td>885</td>\n",
       "      <td>3</td>\n",
       "      <td>39.0</td>\n",
       "      <td>0</td>\n",
       "      <td>5</td>\n",
       "      <td>29.1250</td>\n",
       "      <td>False</td>\n",
       "      <td>False</td>\n",
       "      <td>0</td>\n",
       "      <td>1</td>\n",
       "      <td>0</td>\n",
       "      <td>...</td>\n",
       "      <td>1</td>\n",
       "      <td>0</td>\n",
       "      <td>0</td>\n",
       "      <td>0</td>\n",
       "      <td>0</td>\n",
       "      <td>0</td>\n",
       "      <td>0</td>\n",
       "      <td>1</td>\n",
       "      <td>0</td>\n",
       "      <td>0</td>\n",
       "    </tr>\n",
       "    <tr>\n",
       "      <td>886</td>\n",
       "      <td>2</td>\n",
       "      <td>27.0</td>\n",
       "      <td>0</td>\n",
       "      <td>0</td>\n",
       "      <td>13.0000</td>\n",
       "      <td>True</td>\n",
       "      <td>True</td>\n",
       "      <td>1</td>\n",
       "      <td>0</td>\n",
       "      <td>1</td>\n",
       "      <td>...</td>\n",
       "      <td>0</td>\n",
       "      <td>0</td>\n",
       "      <td>0</td>\n",
       "      <td>0</td>\n",
       "      <td>0</td>\n",
       "      <td>0</td>\n",
       "      <td>0</td>\n",
       "      <td>0</td>\n",
       "      <td>1</td>\n",
       "      <td>0</td>\n",
       "    </tr>\n",
       "    <tr>\n",
       "      <td>887</td>\n",
       "      <td>1</td>\n",
       "      <td>19.0</td>\n",
       "      <td>0</td>\n",
       "      <td>0</td>\n",
       "      <td>30.0000</td>\n",
       "      <td>False</td>\n",
       "      <td>True</td>\n",
       "      <td>0</td>\n",
       "      <td>0</td>\n",
       "      <td>1</td>\n",
       "      <td>...</td>\n",
       "      <td>1</td>\n",
       "      <td>1</td>\n",
       "      <td>0</td>\n",
       "      <td>0</td>\n",
       "      <td>0</td>\n",
       "      <td>0</td>\n",
       "      <td>0</td>\n",
       "      <td>0</td>\n",
       "      <td>1</td>\n",
       "      <td>1</td>\n",
       "    </tr>\n",
       "    <tr>\n",
       "      <td>889</td>\n",
       "      <td>1</td>\n",
       "      <td>26.0</td>\n",
       "      <td>0</td>\n",
       "      <td>0</td>\n",
       "      <td>30.0000</td>\n",
       "      <td>True</td>\n",
       "      <td>True</td>\n",
       "      <td>1</td>\n",
       "      <td>0</td>\n",
       "      <td>0</td>\n",
       "      <td>...</td>\n",
       "      <td>0</td>\n",
       "      <td>0</td>\n",
       "      <td>1</td>\n",
       "      <td>0</td>\n",
       "      <td>0</td>\n",
       "      <td>0</td>\n",
       "      <td>0</td>\n",
       "      <td>0</td>\n",
       "      <td>0</td>\n",
       "      <td>1</td>\n",
       "    </tr>\n",
       "    <tr>\n",
       "      <td>890</td>\n",
       "      <td>3</td>\n",
       "      <td>32.0</td>\n",
       "      <td>0</td>\n",
       "      <td>0</td>\n",
       "      <td>7.7500</td>\n",
       "      <td>True</td>\n",
       "      <td>True</td>\n",
       "      <td>1</td>\n",
       "      <td>1</td>\n",
       "      <td>0</td>\n",
       "      <td>...</td>\n",
       "      <td>0</td>\n",
       "      <td>0</td>\n",
       "      <td>0</td>\n",
       "      <td>0</td>\n",
       "      <td>0</td>\n",
       "      <td>0</td>\n",
       "      <td>0</td>\n",
       "      <td>1</td>\n",
       "      <td>0</td>\n",
       "      <td>0</td>\n",
       "    </tr>\n",
       "  </tbody>\n",
       "</table>\n",
       "<p>714 rows × 23 columns</p>\n",
       "</div>"
      ],
      "text/plain": [
       "     pclass   age  sibsp  parch     fare  adult_male  alone  sex_male  \\\n",
       "0         3  22.0      1      0   7.2500        True  False         1   \n",
       "1         1  38.0      1      0  71.2833       False  False         0   \n",
       "2         3  26.0      0      0   7.9250       False   True         0   \n",
       "3         1  35.0      1      0  53.1000       False  False         0   \n",
       "4         3  35.0      0      0   8.0500        True   True         1   \n",
       "..      ...   ...    ...    ...      ...         ...    ...       ...   \n",
       "885       3  39.0      0      5  29.1250       False  False         0   \n",
       "886       2  27.0      0      0  13.0000        True   True         1   \n",
       "887       1  19.0      0      0  30.0000       False   True         0   \n",
       "889       1  26.0      0      0  30.0000        True   True         1   \n",
       "890       3  32.0      0      0   7.7500        True   True         1   \n",
       "\n",
       "     embarked_Q  embarked_S  ...  who_woman  deck_B  deck_C  deck_D  deck_E  \\\n",
       "0             0           1  ...          0       0       0       0       0   \n",
       "1             0           0  ...          1       0       1       0       0   \n",
       "2             0           1  ...          1       0       0       0       0   \n",
       "3             0           1  ...          1       0       1       0       0   \n",
       "4             0           1  ...          0       0       0       0       0   \n",
       "..          ...         ...  ...        ...     ...     ...     ...     ...   \n",
       "885           1           0  ...          1       0       0       0       0   \n",
       "886           0           1  ...          0       0       0       0       0   \n",
       "887           0           1  ...          1       1       0       0       0   \n",
       "889           0           0  ...          0       0       1       0       0   \n",
       "890           1           0  ...          0       0       0       0       0   \n",
       "\n",
       "     deck_F  deck_G  embark_town_Queenstown  embark_town_Southampton  \\\n",
       "0         0       0                       0                        1   \n",
       "1         0       0                       0                        0   \n",
       "2         0       0                       0                        1   \n",
       "3         0       0                       0                        1   \n",
       "4         0       0                       0                        1   \n",
       "..      ...     ...                     ...                      ...   \n",
       "885       0       0                       1                        0   \n",
       "886       0       0                       0                        1   \n",
       "887       0       0                       0                        1   \n",
       "889       0       0                       0                        0   \n",
       "890       0       0                       1                        0   \n",
       "\n",
       "     alive_yes  \n",
       "0            0  \n",
       "1            1  \n",
       "2            1  \n",
       "3            1  \n",
       "4            0  \n",
       "..         ...  \n",
       "885          0  \n",
       "886          0  \n",
       "887          1  \n",
       "889          1  \n",
       "890          0  \n",
       "\n",
       "[714 rows x 23 columns]"
      ]
     },
     "execution_count": 66,
     "metadata": {},
     "output_type": "execute_result"
    }
   ],
   "source": [
    "X"
   ]
  },
  {
   "cell_type": "code",
   "execution_count": 67,
   "metadata": {},
   "outputs": [],
   "source": [
    "from sklearn.model_selection import train_test_split\n"
   ]
  },
  {
   "cell_type": "code",
   "execution_count": 68,
   "metadata": {},
   "outputs": [],
   "source": [
    "X_train, X_test, y_train, y_test = train_test_split(X, y, test_size=.3)"
   ]
  },
  {
   "cell_type": "code",
   "execution_count": 69,
   "metadata": {},
   "outputs": [
    {
     "data": {
      "text/plain": [
       "(499, 23)"
      ]
     },
     "execution_count": 69,
     "metadata": {},
     "output_type": "execute_result"
    }
   ],
   "source": [
    "X_train.shape"
   ]
  },
  {
   "cell_type": "code",
   "execution_count": 70,
   "metadata": {},
   "outputs": [
    {
     "data": {
      "text/plain": [
       "(215, 23)"
      ]
     },
     "execution_count": 70,
     "metadata": {},
     "output_type": "execute_result"
    }
   ],
   "source": [
    "X_test.shape"
   ]
  },
  {
   "cell_type": "code",
   "execution_count": 71,
   "metadata": {},
   "outputs": [
    {
     "data": {
      "text/plain": [
       "((499,), (215,))"
      ]
     },
     "execution_count": 71,
     "metadata": {},
     "output_type": "execute_result"
    }
   ],
   "source": [
    "y_train.shape, y_test.shape"
   ]
  },
  {
   "cell_type": "code",
   "execution_count": 72,
   "metadata": {},
   "outputs": [],
   "source": [
    "from keras import Sequential\n",
    "from keras.layers import Dense, Dropout"
   ]
  },
  {
   "cell_type": "code",
   "execution_count": 73,
   "metadata": {},
   "outputs": [
    {
     "name": "stdout",
     "output_type": "stream",
     "text": [
      "Model: \"sequential_2\"\n",
      "_________________________________________________________________\n",
      "Layer (type)                 Output Shape              Param #   \n",
      "=================================================================\n",
      "dense_13 (Dense)             (None, 4)                 60        \n",
      "_________________________________________________________________\n",
      "dense_14 (Dense)             (None, 8)                 40        \n",
      "_________________________________________________________________\n",
      "dense_15 (Dense)             (None, 1)                 9         \n",
      "=================================================================\n",
      "Total params: 109\n",
      "Trainable params: 109\n",
      "Non-trainable params: 0\n",
      "_________________________________________________________________\n"
     ]
    }
   ],
   "source": [
    "model.summary()"
   ]
  },
  {
   "cell_type": "code",
   "execution_count": 74,
   "metadata": {},
   "outputs": [
    {
     "data": {
      "text/plain": [
       "23"
      ]
     },
     "execution_count": 74,
     "metadata": {},
     "output_type": "execute_result"
    }
   ],
   "source": [
    "len(X.columns)"
   ]
  },
  {
   "cell_type": "code",
   "execution_count": 80,
   "metadata": {},
   "outputs": [],
   "source": [
    "model = Sequential()\n",
    "# hidden layer 1\n",
    "model.add(Dense(4, activation='relu', input_dim=len(X.columns)))\n",
    "# hidden layer 2\n",
    "model.add(Dense(8, activation='tanh'))\n",
    "# output layer\n",
    "model.add(Dense(1, activation='sigmoid'))\n"
   ]
  },
  {
   "cell_type": "code",
   "execution_count": 81,
   "metadata": {},
   "outputs": [],
   "source": [
    "model.compile(optimizer='sgd',\n",
    "              loss='binary_crossentropy',\n",
    "              metrics=['accuracy', 'binary_accuracy'])"
   ]
  },
  {
   "cell_type": "code",
   "execution_count": 82,
   "metadata": {},
   "outputs": [
    {
     "name": "stdout",
     "output_type": "stream",
     "text": [
      "Model: \"sequential_5\"\n",
      "_________________________________________________________________\n",
      "Layer (type)                 Output Shape              Param #   \n",
      "=================================================================\n",
      "dense_22 (Dense)             (None, 4)                 96        \n",
      "_________________________________________________________________\n",
      "dense_23 (Dense)             (None, 8)                 40        \n",
      "_________________________________________________________________\n",
      "dense_24 (Dense)             (None, 1)                 9         \n",
      "=================================================================\n",
      "Total params: 145\n",
      "Trainable params: 145\n",
      "Non-trainable params: 0\n",
      "_________________________________________________________________\n"
     ]
    }
   ],
   "source": [
    "model.summary()"
   ]
  },
  {
   "cell_type": "code",
   "execution_count": 83,
   "metadata": {},
   "outputs": [
    {
     "name": "stdout",
     "output_type": "stream",
     "text": [
      "Train on 499 samples, validate on 215 samples\n",
      "Epoch 1/500\n",
      "499/499 [==============================] - 0s 405us/step - loss: 0.6515 - accuracy: 0.6493 - binary_accuracy: 0.6493 - val_loss: 0.6284 - val_accuracy: 0.6744 - val_binary_accuracy: 0.6744\n",
      "Epoch 2/500\n",
      "499/499 [==============================] - 0s 50us/step - loss: 0.6168 - accuracy: 0.6733 - binary_accuracy: 0.6733 - val_loss: 0.6076 - val_accuracy: 0.6837 - val_binary_accuracy: 0.6837\n",
      "Epoch 3/500\n",
      "499/499 [==============================] - 0s 67us/step - loss: 0.6043 - accuracy: 0.6934 - binary_accuracy: 0.6934 - val_loss: 0.6059 - val_accuracy: 0.6744 - val_binary_accuracy: 0.6744\n",
      "Epoch 4/500\n",
      "499/499 [==============================] - 0s 57us/step - loss: 0.5996 - accuracy: 0.6934 - binary_accuracy: 0.6934 - val_loss: 0.6033 - val_accuracy: 0.6744 - val_binary_accuracy: 0.6744\n",
      "Epoch 5/500\n",
      "499/499 [==============================] - 0s 63us/step - loss: 0.5960 - accuracy: 0.7074 - binary_accuracy: 0.7074 - val_loss: 0.6021 - val_accuracy: 0.6744 - val_binary_accuracy: 0.6744\n",
      "Epoch 6/500\n",
      "499/499 [==============================] - 0s 65us/step - loss: 0.5970 - accuracy: 0.7094 - binary_accuracy: 0.7094 - val_loss: 0.6004 - val_accuracy: 0.6698 - val_binary_accuracy: 0.6698\n",
      "Epoch 7/500\n",
      "499/499 [==============================] - 0s 60us/step - loss: 0.5946 - accuracy: 0.7034 - binary_accuracy: 0.7034 - val_loss: 0.6004 - val_accuracy: 0.6837 - val_binary_accuracy: 0.6837\n",
      "Epoch 8/500\n",
      "499/499 [==============================] - 0s 65us/step - loss: 0.5953 - accuracy: 0.7034 - binary_accuracy: 0.7034 - val_loss: 0.5972 - val_accuracy: 0.6791 - val_binary_accuracy: 0.6791\n",
      "Epoch 9/500\n",
      "499/499 [==============================] - 0s 64us/step - loss: 0.5917 - accuracy: 0.6934 - binary_accuracy: 0.6934 - val_loss: 0.5951 - val_accuracy: 0.6744 - val_binary_accuracy: 0.6744\n",
      "Epoch 10/500\n",
      "499/499 [==============================] - 0s 66us/step - loss: 0.5899 - accuracy: 0.6894 - binary_accuracy: 0.6894 - val_loss: 0.6034 - val_accuracy: 0.6744 - val_binary_accuracy: 0.6744\n",
      "Epoch 11/500\n",
      "499/499 [==============================] - 0s 66us/step - loss: 0.5917 - accuracy: 0.6994 - binary_accuracy: 0.6994 - val_loss: 0.5889 - val_accuracy: 0.6837 - val_binary_accuracy: 0.6837\n",
      "Epoch 12/500\n",
      "499/499 [==============================] - 0s 63us/step - loss: 0.5863 - accuracy: 0.7014 - binary_accuracy: 0.7014 - val_loss: 0.5864 - val_accuracy: 0.6837 - val_binary_accuracy: 0.6837\n",
      "Epoch 13/500\n",
      "499/499 [==============================] - 0s 66us/step - loss: 0.5824 - accuracy: 0.7034 - binary_accuracy: 0.7034 - val_loss: 0.6018 - val_accuracy: 0.6930 - val_binary_accuracy: 0.6930\n",
      "Epoch 14/500\n",
      "499/499 [==============================] - 0s 64us/step - loss: 0.5821 - accuracy: 0.6974 - binary_accuracy: 0.6974 - val_loss: 0.5764 - val_accuracy: 0.6977 - val_binary_accuracy: 0.6977\n",
      "Epoch 15/500\n",
      "499/499 [==============================] - 0s 68us/step - loss: 0.5695 - accuracy: 0.7174 - binary_accuracy: 0.7174 - val_loss: 0.5713 - val_accuracy: 0.7023 - val_binary_accuracy: 0.7023\n",
      "Epoch 16/500\n",
      "499/499 [==============================] - 0s 61us/step - loss: 0.5667 - accuracy: 0.7094 - binary_accuracy: 0.7094 - val_loss: 0.5660 - val_accuracy: 0.7256 - val_binary_accuracy: 0.7256\n",
      "Epoch 17/500\n",
      "499/499 [==============================] - 0s 56us/step - loss: 0.5585 - accuracy: 0.7154 - binary_accuracy: 0.7154 - val_loss: 0.5517 - val_accuracy: 0.7349 - val_binary_accuracy: 0.7349\n",
      "Epoch 18/500\n",
      "499/499 [==============================] - 0s 65us/step - loss: 0.5423 - accuracy: 0.7415 - binary_accuracy: 0.7415 - val_loss: 0.5496 - val_accuracy: 0.7395 - val_binary_accuracy: 0.7395\n",
      "Epoch 19/500\n",
      "499/499 [==============================] - 0s 59us/step - loss: 0.5356 - accuracy: 0.7335 - binary_accuracy: 0.7335 - val_loss: 0.5305 - val_accuracy: 0.7814 - val_binary_accuracy: 0.7814\n",
      "Epoch 20/500\n",
      "499/499 [==============================] - 0s 69us/step - loss: 0.5337 - accuracy: 0.7495 - binary_accuracy: 0.7495 - val_loss: 0.5182 - val_accuracy: 0.7488 - val_binary_accuracy: 0.7488\n",
      "Epoch 21/500\n",
      "499/499 [==============================] - 0s 70us/step - loss: 0.5278 - accuracy: 0.7635 - binary_accuracy: 0.7635 - val_loss: 0.5200 - val_accuracy: 0.7349 - val_binary_accuracy: 0.7349\n",
      "Epoch 22/500\n",
      "499/499 [==============================] - 0s 73us/step - loss: 0.5496 - accuracy: 0.7415 - binary_accuracy: 0.7415 - val_loss: 0.5153 - val_accuracy: 0.7395 - val_binary_accuracy: 0.7395\n",
      "Epoch 23/500\n",
      "499/499 [==============================] - 0s 55us/step - loss: 0.5243 - accuracy: 0.7555 - binary_accuracy: 0.7555 - val_loss: 0.5742 - val_accuracy: 0.6977 - val_binary_accuracy: 0.6977\n",
      "Epoch 24/500\n",
      "499/499 [==============================] - 0s 62us/step - loss: 0.5357 - accuracy: 0.7435 - binary_accuracy: 0.7435 - val_loss: 0.5017 - val_accuracy: 0.7395 - val_binary_accuracy: 0.7395\n",
      "Epoch 25/500\n",
      "499/499 [==============================] - 0s 56us/step - loss: 0.5279 - accuracy: 0.7595 - binary_accuracy: 0.7595 - val_loss: 0.4677 - val_accuracy: 0.8047 - val_binary_accuracy: 0.8047\n",
      "Epoch 26/500\n",
      "499/499 [==============================] - 0s 57us/step - loss: 0.5081 - accuracy: 0.7615 - binary_accuracy: 0.7615 - val_loss: 0.6638 - val_accuracy: 0.6186 - val_binary_accuracy: 0.6186\n",
      "Epoch 27/500\n",
      "499/499 [==============================] - 0s 61us/step - loss: 0.5004 - accuracy: 0.7695 - binary_accuracy: 0.7695 - val_loss: 0.4613 - val_accuracy: 0.8326 - val_binary_accuracy: 0.8326\n",
      "Epoch 28/500\n",
      "499/499 [==============================] - 0s 63us/step - loss: 0.5158 - accuracy: 0.7555 - binary_accuracy: 0.7555 - val_loss: 0.4768 - val_accuracy: 0.7907 - val_binary_accuracy: 0.7907\n",
      "Epoch 29/500\n",
      "499/499 [==============================] - 0s 60us/step - loss: 0.4579 - accuracy: 0.8096 - binary_accuracy: 0.8096 - val_loss: 0.8120 - val_accuracy: 0.6000 - val_binary_accuracy: 0.6000\n",
      "Epoch 30/500\n",
      "499/499 [==============================] - 0s 62us/step - loss: 0.5324 - accuracy: 0.7395 - binary_accuracy: 0.7395 - val_loss: 0.4454 - val_accuracy: 0.7953 - val_binary_accuracy: 0.7953\n",
      "Epoch 31/500\n",
      "499/499 [==============================] - 0s 84us/step - loss: 0.4991 - accuracy: 0.7635 - binary_accuracy: 0.7635 - val_loss: 0.4345 - val_accuracy: 0.8047 - val_binary_accuracy: 0.8047\n",
      "Epoch 32/500\n",
      "499/499 [==============================] - 0s 68us/step - loss: 0.5051 - accuracy: 0.7796 - binary_accuracy: 0.7796 - val_loss: 0.5429 - val_accuracy: 0.7488 - val_binary_accuracy: 0.7488\n",
      "Epoch 33/500\n",
      "499/499 [==============================] - 0s 54us/step - loss: 0.4955 - accuracy: 0.7675 - binary_accuracy: 0.7675 - val_loss: 0.5020 - val_accuracy: 0.7395 - val_binary_accuracy: 0.7395\n",
      "Epoch 34/500\n",
      "499/499 [==============================] - 0s 62us/step - loss: 0.4823 - accuracy: 0.7555 - binary_accuracy: 0.7555 - val_loss: 0.4069 - val_accuracy: 0.9023 - val_binary_accuracy: 0.9023\n",
      "Epoch 35/500\n",
      "499/499 [==============================] - 0s 62us/step - loss: 0.4868 - accuracy: 0.7756 - binary_accuracy: 0.7756 - val_loss: 0.7333 - val_accuracy: 0.6186 - val_binary_accuracy: 0.6186\n",
      "Epoch 36/500\n",
      "499/499 [==============================] - 0s 69us/step - loss: 0.4573 - accuracy: 0.7836 - binary_accuracy: 0.7836 - val_loss: 0.3778 - val_accuracy: 0.8977 - val_binary_accuracy: 0.8977\n",
      "Epoch 37/500\n",
      "499/499 [==============================] - 0s 62us/step - loss: 0.4484 - accuracy: 0.8136 - binary_accuracy: 0.8136 - val_loss: 0.4352 - val_accuracy: 0.7953 - val_binary_accuracy: 0.7953\n",
      "Epoch 38/500\n",
      "499/499 [==============================] - 0s 55us/step - loss: 0.4885 - accuracy: 0.7675 - binary_accuracy: 0.7675 - val_loss: 0.3823 - val_accuracy: 0.9070 - val_binary_accuracy: 0.9070\n",
      "Epoch 39/500\n",
      "499/499 [==============================] - 0s 59us/step - loss: 0.4533 - accuracy: 0.7756 - binary_accuracy: 0.7756 - val_loss: 0.5766 - val_accuracy: 0.6651 - val_binary_accuracy: 0.6651\n",
      "Epoch 40/500\n",
      "499/499 [==============================] - 0s 73us/step - loss: 0.4603 - accuracy: 0.7956 - binary_accuracy: 0.7956 - val_loss: 0.4078 - val_accuracy: 0.8047 - val_binary_accuracy: 0.8047\n",
      "Epoch 41/500\n"
     ]
    },
    {
     "name": "stdout",
     "output_type": "stream",
     "text": [
      "499/499 [==============================] - 0s 64us/step - loss: 0.4904 - accuracy: 0.7575 - binary_accuracy: 0.7575 - val_loss: 0.4000 - val_accuracy: 0.8326 - val_binary_accuracy: 0.8326\n",
      "Epoch 42/500\n",
      "499/499 [==============================] - 0s 74us/step - loss: 0.4374 - accuracy: 0.8136 - binary_accuracy: 0.8136 - val_loss: 0.3565 - val_accuracy: 0.8930 - val_binary_accuracy: 0.8930\n",
      "Epoch 43/500\n",
      "499/499 [==============================] - 0s 56us/step - loss: 0.4204 - accuracy: 0.8377 - binary_accuracy: 0.8377 - val_loss: 0.3712 - val_accuracy: 0.8977 - val_binary_accuracy: 0.8977\n",
      "Epoch 44/500\n",
      "499/499 [==============================] - ETA: 0s - loss: 0.2522 - accuracy: 1.0000 - binary_accuracy: 1.00 - 0s 58us/step - loss: 0.4033 - accuracy: 0.8437 - binary_accuracy: 0.8437 - val_loss: 0.4307 - val_accuracy: 0.7860 - val_binary_accuracy: 0.7860\n",
      "Epoch 45/500\n",
      "499/499 [==============================] - 0s 55us/step - loss: 0.3884 - accuracy: 0.8517 - binary_accuracy: 0.8517 - val_loss: 0.3377 - val_accuracy: 0.9256 - val_binary_accuracy: 0.9256\n",
      "Epoch 46/500\n",
      "499/499 [==============================] - 0s 63us/step - loss: 0.4412 - accuracy: 0.8297 - binary_accuracy: 0.8297 - val_loss: 0.3420 - val_accuracy: 0.8977 - val_binary_accuracy: 0.8977\n",
      "Epoch 47/500\n",
      "499/499 [==============================] - 0s 65us/step - loss: 0.4264 - accuracy: 0.8016 - binary_accuracy: 0.8016 - val_loss: 0.4427 - val_accuracy: 0.7860 - val_binary_accuracy: 0.7860\n",
      "Epoch 48/500\n",
      "499/499 [==============================] - 0s 57us/step - loss: 0.4269 - accuracy: 0.8216 - binary_accuracy: 0.8216 - val_loss: 0.3394 - val_accuracy: 0.8698 - val_binary_accuracy: 0.8698\n",
      "Epoch 49/500\n",
      "499/499 [==============================] - 0s 52us/step - loss: 0.4161 - accuracy: 0.8136 - binary_accuracy: 0.8136 - val_loss: 0.3904 - val_accuracy: 0.8279 - val_binary_accuracy: 0.8279\n",
      "Epoch 50/500\n",
      "499/499 [==============================] - 0s 56us/step - loss: 0.4613 - accuracy: 0.7816 - binary_accuracy: 0.7816 - val_loss: 0.3470 - val_accuracy: 0.8744 - val_binary_accuracy: 0.8744\n",
      "Epoch 51/500\n",
      "499/499 [==============================] - 0s 63us/step - loss: 0.4108 - accuracy: 0.8216 - binary_accuracy: 0.8216 - val_loss: 0.3331 - val_accuracy: 0.8837 - val_binary_accuracy: 0.8837\n",
      "Epoch 52/500\n",
      "499/499 [==============================] - 0s 58us/step - loss: 0.3740 - accuracy: 0.8517 - binary_accuracy: 0.8517 - val_loss: 0.3254 - val_accuracy: 0.8884 - val_binary_accuracy: 0.8884\n",
      "Epoch 53/500\n",
      "499/499 [==============================] - 0s 56us/step - loss: 0.3408 - accuracy: 0.8758 - binary_accuracy: 0.8758 - val_loss: 0.4289 - val_accuracy: 0.7907 - val_binary_accuracy: 0.7907\n",
      "Epoch 54/500\n",
      "499/499 [==============================] - 0s 67us/step - loss: 0.4285 - accuracy: 0.8136 - binary_accuracy: 0.8136 - val_loss: 0.5373 - val_accuracy: 0.7256 - val_binary_accuracy: 0.7256\n",
      "Epoch 55/500\n",
      "499/499 [==============================] - 0s 60us/step - loss: 0.4021 - accuracy: 0.8317 - binary_accuracy: 0.8317 - val_loss: 0.2816 - val_accuracy: 0.9349 - val_binary_accuracy: 0.9349\n",
      "Epoch 56/500\n",
      "499/499 [==============================] - 0s 56us/step - loss: 0.3685 - accuracy: 0.8577 - binary_accuracy: 0.8577 - val_loss: 0.5001 - val_accuracy: 0.7581 - val_binary_accuracy: 0.7581\n",
      "Epoch 57/500\n",
      "499/499 [==============================] - 0s 54us/step - loss: 0.3329 - accuracy: 0.8737 - binary_accuracy: 0.8737 - val_loss: 0.3419 - val_accuracy: 0.8605 - val_binary_accuracy: 0.8605\n",
      "Epoch 58/500\n",
      "499/499 [==============================] - 0s 53us/step - loss: 0.4211 - accuracy: 0.8136 - binary_accuracy: 0.8136 - val_loss: 0.3048 - val_accuracy: 0.9116 - val_binary_accuracy: 0.9116\n",
      "Epoch 59/500\n",
      "499/499 [==============================] - 0s 53us/step - loss: 0.4491 - accuracy: 0.8116 - binary_accuracy: 0.8116 - val_loss: 0.3622 - val_accuracy: 0.8372 - val_binary_accuracy: 0.8372\n",
      "Epoch 60/500\n",
      "499/499 [==============================] - 0s 54us/step - loss: 0.3666 - accuracy: 0.8597 - binary_accuracy: 0.8597 - val_loss: 0.3325 - val_accuracy: 0.8698 - val_binary_accuracy: 0.8698\n",
      "Epoch 61/500\n",
      "499/499 [==============================] - 0s 54us/step - loss: 0.3226 - accuracy: 0.8778 - binary_accuracy: 0.8778 - val_loss: 0.2457 - val_accuracy: 0.9488 - val_binary_accuracy: 0.9488\n",
      "Epoch 62/500\n",
      "499/499 [==============================] - 0s 56us/step - loss: 0.3353 - accuracy: 0.8537 - binary_accuracy: 0.8537 - val_loss: 0.3264 - val_accuracy: 0.8605 - val_binary_accuracy: 0.8605\n",
      "Epoch 63/500\n",
      "499/499 [==============================] - 0s 57us/step - loss: 0.3615 - accuracy: 0.8457 - binary_accuracy: 0.8457 - val_loss: 0.3881 - val_accuracy: 0.7767 - val_binary_accuracy: 0.7767\n",
      "Epoch 64/500\n",
      "499/499 [==============================] - 0s 55us/step - loss: 0.3728 - accuracy: 0.8417 - binary_accuracy: 0.8417 - val_loss: 0.2262 - val_accuracy: 0.9581 - val_binary_accuracy: 0.9581\n",
      "Epoch 65/500\n",
      "499/499 [==============================] - 0s 54us/step - loss: 0.5808 - accuracy: 0.6653 - binary_accuracy: 0.6653 - val_loss: 0.4016 - val_accuracy: 0.8326 - val_binary_accuracy: 0.8326\n",
      "Epoch 66/500\n",
      "499/499 [==============================] - 0s 54us/step - loss: 0.3726 - accuracy: 0.8397 - binary_accuracy: 0.8397 - val_loss: 0.4147 - val_accuracy: 0.7907 - val_binary_accuracy: 0.7907\n",
      "Epoch 67/500\n",
      "499/499 [==============================] - 0s 65us/step - loss: 0.4431 - accuracy: 0.7856 - binary_accuracy: 0.7856 - val_loss: 0.3647 - val_accuracy: 0.8326 - val_binary_accuracy: 0.8326\n",
      "Epoch 68/500\n",
      "499/499 [==============================] - 0s 70us/step - loss: 0.3245 - accuracy: 0.8677 - binary_accuracy: 0.8677 - val_loss: 0.2841 - val_accuracy: 0.9209 - val_binary_accuracy: 0.9209\n",
      "Epoch 69/500\n",
      "499/499 [==============================] - 0s 57us/step - loss: 0.2963 - accuracy: 0.8998 - binary_accuracy: 0.8998 - val_loss: 0.5009 - val_accuracy: 0.7349 - val_binary_accuracy: 0.7349\n",
      "Epoch 70/500\n",
      "499/499 [==============================] - 0s 63us/step - loss: 0.3729 - accuracy: 0.8377 - binary_accuracy: 0.8377 - val_loss: 0.2468 - val_accuracy: 0.9349 - val_binary_accuracy: 0.9349\n",
      "Epoch 71/500\n",
      "499/499 [==============================] - 0s 53us/step - loss: 0.3818 - accuracy: 0.8156 - binary_accuracy: 0.8156 - val_loss: 0.5021 - val_accuracy: 0.7116 - val_binary_accuracy: 0.7116\n",
      "Epoch 72/500\n",
      "499/499 [==============================] - 0s 53us/step - loss: 0.3340 - accuracy: 0.8517 - binary_accuracy: 0.8517 - val_loss: 0.4438 - val_accuracy: 0.7953 - val_binary_accuracy: 0.7953\n",
      "Epoch 73/500\n",
      "499/499 [==============================] - 0s 55us/step - loss: 0.3471 - accuracy: 0.8597 - binary_accuracy: 0.8597 - val_loss: 0.4938 - val_accuracy: 0.7395 - val_binary_accuracy: 0.7395\n",
      "Epoch 74/500\n",
      "499/499 [==============================] - 0s 62us/step - loss: 0.3093 - accuracy: 0.8637 - binary_accuracy: 0.8637 - val_loss: 0.2049 - val_accuracy: 0.9628 - val_binary_accuracy: 0.9628\n",
      "Epoch 75/500\n",
      "499/499 [==============================] - 0s 62us/step - loss: 0.5201 - accuracy: 0.7695 - binary_accuracy: 0.7695 - val_loss: 0.3755 - val_accuracy: 0.8326 - val_binary_accuracy: 0.8326\n",
      "Epoch 76/500\n",
      "499/499 [==============================] - 0s 54us/step - loss: 0.3061 - accuracy: 0.8778 - binary_accuracy: 0.8778 - val_loss: 0.3164 - val_accuracy: 0.8372 - val_binary_accuracy: 0.8372\n",
      "Epoch 77/500\n",
      "499/499 [==============================] - 0s 57us/step - loss: 0.3204 - accuracy: 0.8657 - binary_accuracy: 0.8657 - val_loss: 0.2705 - val_accuracy: 0.9023 - val_binary_accuracy: 0.9023\n",
      "Epoch 78/500\n",
      "499/499 [==============================] - 0s 68us/step - loss: 0.3640 - accuracy: 0.8357 - binary_accuracy: 0.8357 - val_loss: 0.4951 - val_accuracy: 0.7442 - val_binary_accuracy: 0.7442\n",
      "Epoch 79/500\n",
      "499/499 [==============================] - 0s 59us/step - loss: 0.3529 - accuracy: 0.8497 - binary_accuracy: 0.8497 - val_loss: 0.8703 - val_accuracy: 0.6186 - val_binary_accuracy: 0.6186\n",
      "Epoch 80/500\n",
      "499/499 [==============================] - 0s 51us/step - loss: 0.3435 - accuracy: 0.8778 - binary_accuracy: 0.8778 - val_loss: 0.2150 - val_accuracy: 0.9535 - val_binary_accuracy: 0.9535\n",
      "Epoch 81/500\n"
     ]
    },
    {
     "name": "stdout",
     "output_type": "stream",
     "text": [
      "499/499 [==============================] - 0s 50us/step - loss: 0.2550 - accuracy: 0.9098 - binary_accuracy: 0.9098 - val_loss: 1.0851 - val_accuracy: 0.4605 - val_binary_accuracy: 0.4605\n",
      "Epoch 82/500\n",
      "499/499 [==============================] - 0s 55us/step - loss: 0.3896 - accuracy: 0.8297 - binary_accuracy: 0.8297 - val_loss: 0.2141 - val_accuracy: 0.9628 - val_binary_accuracy: 0.9628\n",
      "Epoch 83/500\n",
      "499/499 [==============================] - 0s 57us/step - loss: 0.3571 - accuracy: 0.8477 - binary_accuracy: 0.8477 - val_loss: 0.2069 - val_accuracy: 0.9628 - val_binary_accuracy: 0.9628\n",
      "Epoch 84/500\n",
      "499/499 [==============================] - 0s 60us/step - loss: 0.2945 - accuracy: 0.8938 - binary_accuracy: 0.8938 - val_loss: 0.8152 - val_accuracy: 0.6233 - val_binary_accuracy: 0.6233\n",
      "Epoch 85/500\n",
      "499/499 [==============================] - 0s 61us/step - loss: 0.3264 - accuracy: 0.8577 - binary_accuracy: 0.8577 - val_loss: 0.2790 - val_accuracy: 0.8930 - val_binary_accuracy: 0.8930\n",
      "Epoch 86/500\n",
      "499/499 [==============================] - 0s 52us/step - loss: 0.3438 - accuracy: 0.8617 - binary_accuracy: 0.8617 - val_loss: 0.2648 - val_accuracy: 0.8977 - val_binary_accuracy: 0.8977\n",
      "Epoch 87/500\n",
      "499/499 [==============================] - 0s 59us/step - loss: 0.3501 - accuracy: 0.8477 - binary_accuracy: 0.8477 - val_loss: 0.4196 - val_accuracy: 0.7860 - val_binary_accuracy: 0.7860\n",
      "Epoch 88/500\n",
      "499/499 [==============================] - 0s 58us/step - loss: 0.3526 - accuracy: 0.8497 - binary_accuracy: 0.8497 - val_loss: 0.2395 - val_accuracy: 0.9349 - val_binary_accuracy: 0.9349\n",
      "Epoch 89/500\n",
      "499/499 [==============================] - 0s 60us/step - loss: 0.2529 - accuracy: 0.9118 - binary_accuracy: 0.9118 - val_loss: 0.3578 - val_accuracy: 0.8140 - val_binary_accuracy: 0.8140\n",
      "Epoch 90/500\n",
      "499/499 [==============================] - 0s 55us/step - loss: 0.3035 - accuracy: 0.8838 - binary_accuracy: 0.8838 - val_loss: 0.1893 - val_accuracy: 0.9767 - val_binary_accuracy: 0.9767\n",
      "Epoch 91/500\n",
      "499/499 [==============================] - 0s 58us/step - loss: 0.3101 - accuracy: 0.8577 - binary_accuracy: 0.8577 - val_loss: 0.1955 - val_accuracy: 0.9395 - val_binary_accuracy: 0.9395\n",
      "Epoch 92/500\n",
      "499/499 [==============================] - 0s 55us/step - loss: 0.3493 - accuracy: 0.8517 - binary_accuracy: 0.8517 - val_loss: 0.4501 - val_accuracy: 0.7581 - val_binary_accuracy: 0.7581\n",
      "Epoch 93/500\n",
      "499/499 [==============================] - 0s 53us/step - loss: 0.2408 - accuracy: 0.9118 - binary_accuracy: 0.9118 - val_loss: 0.1606 - val_accuracy: 0.9628 - val_binary_accuracy: 0.9628\n",
      "Epoch 94/500\n",
      "499/499 [==============================] - 0s 54us/step - loss: 0.3206 - accuracy: 0.8778 - binary_accuracy: 0.8778 - val_loss: 0.1801 - val_accuracy: 0.9628 - val_binary_accuracy: 0.9628\n",
      "Epoch 95/500\n",
      "499/499 [==============================] - 0s 59us/step - loss: 0.2209 - accuracy: 0.9238 - binary_accuracy: 0.9238 - val_loss: 0.1675 - val_accuracy: 0.9767 - val_binary_accuracy: 0.9767\n",
      "Epoch 96/500\n",
      "499/499 [==============================] - 0s 59us/step - loss: 0.2959 - accuracy: 0.8878 - binary_accuracy: 0.8878 - val_loss: 0.2290 - val_accuracy: 0.9395 - val_binary_accuracy: 0.9395\n",
      "Epoch 97/500\n",
      "499/499 [==============================] - 0s 51us/step - loss: 0.2252 - accuracy: 0.9238 - binary_accuracy: 0.9238 - val_loss: 0.1724 - val_accuracy: 0.9442 - val_binary_accuracy: 0.9442\n",
      "Epoch 98/500\n",
      "499/499 [==============================] - 0s 54us/step - loss: 0.3328 - accuracy: 0.8657 - binary_accuracy: 0.8657 - val_loss: 0.2141 - val_accuracy: 0.9209 - val_binary_accuracy: 0.9209\n",
      "Epoch 99/500\n",
      "499/499 [==============================] - 0s 57us/step - loss: 0.2456 - accuracy: 0.8938 - binary_accuracy: 0.8938 - val_loss: 0.2487 - val_accuracy: 0.8930 - val_binary_accuracy: 0.8930\n",
      "Epoch 100/500\n",
      "499/499 [==============================] - 0s 53us/step - loss: 0.3179 - accuracy: 0.8657 - binary_accuracy: 0.8657 - val_loss: 0.3092 - val_accuracy: 0.8140 - val_binary_accuracy: 0.8140\n",
      "Epoch 101/500\n",
      "499/499 [==============================] - 0s 54us/step - loss: 0.3289 - accuracy: 0.8637 - binary_accuracy: 0.8637 - val_loss: 0.1880 - val_accuracy: 0.9488 - val_binary_accuracy: 0.9488\n",
      "Epoch 102/500\n",
      "499/499 [==============================] - 0s 61us/step - loss: 0.2618 - accuracy: 0.8858 - binary_accuracy: 0.8858 - val_loss: 0.4147 - val_accuracy: 0.7860 - val_binary_accuracy: 0.7860\n",
      "Epoch 103/500\n",
      "499/499 [==============================] - 0s 58us/step - loss: 0.2869 - accuracy: 0.8758 - binary_accuracy: 0.8758 - val_loss: 0.1478 - val_accuracy: 0.9721 - val_binary_accuracy: 0.9721\n",
      "Epoch 104/500\n",
      "499/499 [==============================] - 0s 58us/step - loss: 0.2788 - accuracy: 0.8697 - binary_accuracy: 0.8697 - val_loss: 0.2615 - val_accuracy: 0.8465 - val_binary_accuracy: 0.8465\n",
      "Epoch 105/500\n",
      "499/499 [==============================] - 0s 54us/step - loss: 0.1856 - accuracy: 0.9339 - binary_accuracy: 0.9339 - val_loss: 0.2909 - val_accuracy: 0.8512 - val_binary_accuracy: 0.8512\n",
      "Epoch 106/500\n",
      "499/499 [==============================] - 0s 57us/step - loss: 0.3108 - accuracy: 0.8717 - binary_accuracy: 0.8717 - val_loss: 0.2818 - val_accuracy: 0.8791 - val_binary_accuracy: 0.8791\n",
      "Epoch 107/500\n",
      "499/499 [==============================] - 0s 61us/step - loss: 0.2343 - accuracy: 0.9018 - binary_accuracy: 0.9018 - val_loss: 0.1609 - val_accuracy: 0.9581 - val_binary_accuracy: 0.9581\n",
      "Epoch 108/500\n",
      "499/499 [==============================] - 0s 59us/step - loss: 0.2408 - accuracy: 0.9158 - binary_accuracy: 0.9158 - val_loss: 0.2717 - val_accuracy: 0.8419 - val_binary_accuracy: 0.8419\n",
      "Epoch 109/500\n",
      "499/499 [==============================] - 0s 54us/step - loss: 0.2403 - accuracy: 0.8938 - binary_accuracy: 0.8938 - val_loss: 0.1605 - val_accuracy: 0.9628 - val_binary_accuracy: 0.9628\n",
      "Epoch 110/500\n",
      "499/499 [==============================] - 0s 56us/step - loss: 0.2683 - accuracy: 0.8798 - binary_accuracy: 0.8798 - val_loss: 0.1698 - val_accuracy: 0.9535 - val_binary_accuracy: 0.9535\n",
      "Epoch 111/500\n",
      "499/499 [==============================] - 0s 52us/step - loss: 0.2537 - accuracy: 0.9138 - binary_accuracy: 0.9138 - val_loss: 0.1541 - val_accuracy: 0.9674 - val_binary_accuracy: 0.9674\n",
      "Epoch 112/500\n",
      "499/499 [==============================] - 0s 56us/step - loss: 0.2346 - accuracy: 0.9319 - binary_accuracy: 0.9319 - val_loss: 0.3655 - val_accuracy: 0.8233 - val_binary_accuracy: 0.8233\n",
      "Epoch 113/500\n",
      "499/499 [==============================] - 0s 70us/step - loss: 0.2884 - accuracy: 0.8878 - binary_accuracy: 0.8878 - val_loss: 0.1830 - val_accuracy: 0.9488 - val_binary_accuracy: 0.9488\n",
      "Epoch 114/500\n",
      "499/499 [==============================] - 0s 54us/step - loss: 0.2504 - accuracy: 0.8858 - binary_accuracy: 0.8858 - val_loss: 0.1790 - val_accuracy: 0.9395 - val_binary_accuracy: 0.9395\n",
      "Epoch 115/500\n",
      "499/499 [==============================] - 0s 55us/step - loss: 0.2345 - accuracy: 0.9138 - binary_accuracy: 0.9138 - val_loss: 0.1251 - val_accuracy: 0.9814 - val_binary_accuracy: 0.9814\n",
      "Epoch 116/500\n",
      "499/499 [==============================] - 0s 52us/step - loss: 0.2112 - accuracy: 0.9198 - binary_accuracy: 0.9198 - val_loss: 0.1273 - val_accuracy: 0.9674 - val_binary_accuracy: 0.9674\n",
      "Epoch 117/500\n",
      "499/499 [==============================] - 0s 51us/step - loss: 0.2845 - accuracy: 0.8958 - binary_accuracy: 0.8958 - val_loss: 0.1675 - val_accuracy: 0.9395 - val_binary_accuracy: 0.9395\n",
      "Epoch 118/500\n",
      "499/499 [==============================] - 0s 59us/step - loss: 0.3218 - accuracy: 0.8597 - binary_accuracy: 0.8597 - val_loss: 0.2175 - val_accuracy: 0.9395 - val_binary_accuracy: 0.9395\n",
      "Epoch 119/500\n",
      "499/499 [==============================] - 0s 60us/step - loss: 0.1748 - accuracy: 0.9539 - binary_accuracy: 0.9539 - val_loss: 0.1217 - val_accuracy: 0.9907 - val_binary_accuracy: 0.9907\n",
      "Epoch 120/500\n",
      "499/499 [==============================] - 0s 58us/step - loss: 0.2764 - accuracy: 0.8838 - binary_accuracy: 0.8838 - val_loss: 0.1712 - val_accuracy: 0.9116 - val_binary_accuracy: 0.9116\n",
      "Epoch 121/500\n",
      "499/499 [==============================] - 0s 57us/step - loss: 0.2213 - accuracy: 0.9218 - binary_accuracy: 0.9218 - val_loss: 0.5175 - val_accuracy: 0.7628 - val_binary_accuracy: 0.7628\n"
     ]
    },
    {
     "name": "stdout",
     "output_type": "stream",
     "text": [
      "Epoch 122/500\n",
      "499/499 [==============================] - 0s 56us/step - loss: 0.3076 - accuracy: 0.8657 - binary_accuracy: 0.8657 - val_loss: 0.1763 - val_accuracy: 0.9721 - val_binary_accuracy: 0.9721\n",
      "Epoch 123/500\n",
      "499/499 [==============================] - 0s 55us/step - loss: 0.2049 - accuracy: 0.9238 - binary_accuracy: 0.9238 - val_loss: 0.1331 - val_accuracy: 0.9721 - val_binary_accuracy: 0.9721\n",
      "Epoch 124/500\n",
      "499/499 [==============================] - 0s 52us/step - loss: 0.4739 - accuracy: 0.8497 - binary_accuracy: 0.8497 - val_loss: 0.3624 - val_accuracy: 0.8651 - val_binary_accuracy: 0.8651\n",
      "Epoch 125/500\n",
      "499/499 [==============================] - 0s 52us/step - loss: 0.2720 - accuracy: 0.8838 - binary_accuracy: 0.8838 - val_loss: 0.1629 - val_accuracy: 0.9767 - val_binary_accuracy: 0.9767\n",
      "Epoch 126/500\n",
      "499/499 [==============================] - 0s 52us/step - loss: 0.1907 - accuracy: 0.9299 - binary_accuracy: 0.9299 - val_loss: 0.1465 - val_accuracy: 0.9674 - val_binary_accuracy: 0.9674\n",
      "Epoch 127/500\n",
      "499/499 [==============================] - 0s 53us/step - loss: 0.1368 - accuracy: 0.9699 - binary_accuracy: 0.9699 - val_loss: 0.1122 - val_accuracy: 0.9907 - val_binary_accuracy: 0.9907\n",
      "Epoch 128/500\n",
      "499/499 [==============================] - 0s 53us/step - loss: 0.2399 - accuracy: 0.9078 - binary_accuracy: 0.9078 - val_loss: 0.1443 - val_accuracy: 0.9628 - val_binary_accuracy: 0.9628\n",
      "Epoch 129/500\n",
      "499/499 [==============================] - 0s 58us/step - loss: 0.1677 - accuracy: 0.9439 - binary_accuracy: 0.9439 - val_loss: 0.2911 - val_accuracy: 0.8186 - val_binary_accuracy: 0.8186\n",
      "Epoch 130/500\n",
      "499/499 [==============================] - 0s 53us/step - loss: 0.2034 - accuracy: 0.9279 - binary_accuracy: 0.9279 - val_loss: 0.3520 - val_accuracy: 0.8000 - val_binary_accuracy: 0.8000\n",
      "Epoch 131/500\n",
      "499/499 [==============================] - 0s 51us/step - loss: 0.2826 - accuracy: 0.8697 - binary_accuracy: 0.8697 - val_loss: 0.1681 - val_accuracy: 0.9442 - val_binary_accuracy: 0.9442\n",
      "Epoch 132/500\n",
      "499/499 [==============================] - 0s 59us/step - loss: 0.2319 - accuracy: 0.9138 - binary_accuracy: 0.9138 - val_loss: 0.1434 - val_accuracy: 0.9628 - val_binary_accuracy: 0.9628\n",
      "Epoch 133/500\n",
      "499/499 [==============================] - 0s 52us/step - loss: 0.1682 - accuracy: 0.9399 - binary_accuracy: 0.9399 - val_loss: 0.6372 - val_accuracy: 0.7163 - val_binary_accuracy: 0.7163\n",
      "Epoch 134/500\n",
      "499/499 [==============================] - 0s 55us/step - loss: 0.1325 - accuracy: 0.9619 - binary_accuracy: 0.9619 - val_loss: 0.3007 - val_accuracy: 0.8419 - val_binary_accuracy: 0.8419\n",
      "Epoch 135/500\n",
      "499/499 [==============================] - 0s 51us/step - loss: 0.2579 - accuracy: 0.9058 - binary_accuracy: 0.9058 - val_loss: 0.5615 - val_accuracy: 0.7442 - val_binary_accuracy: 0.7442\n",
      "Epoch 136/500\n",
      "499/499 [==============================] - 0s 57us/step - loss: 0.2302 - accuracy: 0.9158 - binary_accuracy: 0.9158 - val_loss: 0.2315 - val_accuracy: 0.8884 - val_binary_accuracy: 0.8884\n",
      "Epoch 137/500\n",
      "499/499 [==============================] - 0s 57us/step - loss: 0.2513 - accuracy: 0.9038 - binary_accuracy: 0.9038 - val_loss: 0.2493 - val_accuracy: 0.8465 - val_binary_accuracy: 0.8465\n",
      "Epoch 138/500\n",
      "499/499 [==============================] - 0s 53us/step - loss: 0.2083 - accuracy: 0.9118 - binary_accuracy: 0.9118 - val_loss: 0.0981 - val_accuracy: 0.9814 - val_binary_accuracy: 0.9814\n",
      "Epoch 139/500\n",
      "499/499 [==============================] - 0s 62us/step - loss: 0.2406 - accuracy: 0.9058 - binary_accuracy: 0.9058 - val_loss: 0.3863 - val_accuracy: 0.8233 - val_binary_accuracy: 0.8233\n",
      "Epoch 140/500\n",
      "499/499 [==============================] - 0s 57us/step - loss: 0.2172 - accuracy: 0.9259 - binary_accuracy: 0.9259 - val_loss: 0.1119 - val_accuracy: 0.9907 - val_binary_accuracy: 0.9907\n",
      "Epoch 141/500\n",
      "499/499 [==============================] - 0s 54us/step - loss: 0.2080 - accuracy: 0.9299 - binary_accuracy: 0.9299 - val_loss: 0.1678 - val_accuracy: 0.9349 - val_binary_accuracy: 0.9349\n",
      "Epoch 142/500\n",
      "499/499 [==============================] - 0s 52us/step - loss: 0.1922 - accuracy: 0.9439 - binary_accuracy: 0.9439 - val_loss: 0.1085 - val_accuracy: 0.9860 - val_binary_accuracy: 0.9860\n",
      "Epoch 143/500\n",
      "499/499 [==============================] - 0s 56us/step - loss: 0.2026 - accuracy: 0.9259 - binary_accuracy: 0.9259 - val_loss: 0.1986 - val_accuracy: 0.9116 - val_binary_accuracy: 0.9116\n",
      "Epoch 144/500\n",
      "499/499 [==============================] - 0s 62us/step - loss: 0.1641 - accuracy: 0.9299 - binary_accuracy: 0.9299 - val_loss: 0.0936 - val_accuracy: 0.9767 - val_binary_accuracy: 0.9767\n",
      "Epoch 145/500\n",
      "499/499 [==============================] - 0s 60us/step - loss: 0.2020 - accuracy: 0.9259 - binary_accuracy: 0.9259 - val_loss: 0.0775 - val_accuracy: 1.0000 - val_binary_accuracy: 1.0000\n",
      "Epoch 146/500\n",
      "499/499 [==============================] - 0s 52us/step - loss: 0.1887 - accuracy: 0.9419 - binary_accuracy: 0.9419 - val_loss: 0.0966 - val_accuracy: 0.9907 - val_binary_accuracy: 0.9907\n",
      "Epoch 147/500\n",
      "499/499 [==============================] - 0s 57us/step - loss: 0.2335 - accuracy: 0.9018 - binary_accuracy: 0.9018 - val_loss: 0.2029 - val_accuracy: 0.8884 - val_binary_accuracy: 0.8884\n",
      "Epoch 148/500\n",
      "499/499 [==============================] - 0s 52us/step - loss: 0.1163 - accuracy: 0.9679 - binary_accuracy: 0.9679 - val_loss: 0.0764 - val_accuracy: 0.9907 - val_binary_accuracy: 0.9907\n",
      "Epoch 149/500\n",
      "499/499 [==============================] - 0s 57us/step - loss: 0.2776 - accuracy: 0.9098 - binary_accuracy: 0.9098 - val_loss: 0.1044 - val_accuracy: 0.9814 - val_binary_accuracy: 0.9814\n",
      "Epoch 150/500\n",
      "499/499 [==============================] - 0s 55us/step - loss: 0.1325 - accuracy: 0.9619 - binary_accuracy: 0.9619 - val_loss: 0.0864 - val_accuracy: 0.9860 - val_binary_accuracy: 0.9860\n",
      "Epoch 151/500\n",
      "499/499 [==============================] - 0s 51us/step - loss: 0.1983 - accuracy: 0.9279 - binary_accuracy: 0.9279 - val_loss: 0.2749 - val_accuracy: 0.8930 - val_binary_accuracy: 0.8930\n",
      "Epoch 152/500\n",
      "499/499 [==============================] - 0s 55us/step - loss: 0.1368 - accuracy: 0.9619 - binary_accuracy: 0.9619 - val_loss: 0.5393 - val_accuracy: 0.7628 - val_binary_accuracy: 0.7628\n",
      "Epoch 153/500\n",
      "499/499 [==============================] - 0s 55us/step - loss: 0.3286 - accuracy: 0.8737 - binary_accuracy: 0.8737 - val_loss: 0.1700 - val_accuracy: 0.9535 - val_binary_accuracy: 0.9535\n",
      "Epoch 154/500\n",
      "499/499 [==============================] - 0s 57us/step - loss: 0.1650 - accuracy: 0.9419 - binary_accuracy: 0.9419 - val_loss: 0.1176 - val_accuracy: 0.9767 - val_binary_accuracy: 0.9767\n",
      "Epoch 155/500\n",
      "499/499 [==============================] - 0s 56us/step - loss: 0.2629 - accuracy: 0.9178 - binary_accuracy: 0.9178 - val_loss: 0.1097 - val_accuracy: 0.9814 - val_binary_accuracy: 0.9814\n",
      "Epoch 156/500\n",
      "499/499 [==============================] - 0s 55us/step - loss: 0.1370 - accuracy: 0.9539 - binary_accuracy: 0.9539 - val_loss: 0.1378 - val_accuracy: 0.9628 - val_binary_accuracy: 0.9628\n",
      "Epoch 157/500\n",
      "499/499 [==============================] - 0s 63us/step - loss: 0.1829 - accuracy: 0.9198 - binary_accuracy: 0.9198 - val_loss: 0.4025 - val_accuracy: 0.7721 - val_binary_accuracy: 0.7721\n",
      "Epoch 158/500\n",
      "499/499 [==============================] - 0s 58us/step - loss: 0.2769 - accuracy: 0.8978 - binary_accuracy: 0.8978 - val_loss: 0.2794 - val_accuracy: 0.8744 - val_binary_accuracy: 0.8744\n",
      "Epoch 159/500\n",
      "499/499 [==============================] - 0s 74us/step - loss: 0.1564 - accuracy: 0.9539 - binary_accuracy: 0.9539 - val_loss: 0.0977 - val_accuracy: 0.9814 - val_binary_accuracy: 0.9814\n",
      "Epoch 160/500\n",
      "499/499 [==============================] - 0s 76us/step - loss: 0.1559 - accuracy: 0.9399 - binary_accuracy: 0.9399 - val_loss: 0.1113 - val_accuracy: 0.9814 - val_binary_accuracy: 0.9814\n",
      "Epoch 161/500\n",
      "499/499 [==============================] - 0s 73us/step - loss: 0.1354 - accuracy: 0.9559 - binary_accuracy: 0.9559 - val_loss: 0.1048 - val_accuracy: 0.9721 - val_binary_accuracy: 0.9721\n",
      "Epoch 162/500\n"
     ]
    },
    {
     "name": "stdout",
     "output_type": "stream",
     "text": [
      "499/499 [==============================] - 0s 68us/step - loss: 0.2293 - accuracy: 0.9058 - binary_accuracy: 0.9058 - val_loss: 0.1174 - val_accuracy: 0.9674 - val_binary_accuracy: 0.9674\n",
      "Epoch 163/500\n",
      "499/499 [==============================] - 0s 77us/step - loss: 0.1112 - accuracy: 0.9719 - binary_accuracy: 0.9719 - val_loss: 0.2531 - val_accuracy: 0.8651 - val_binary_accuracy: 0.8651\n",
      "Epoch 164/500\n",
      "499/499 [==============================] - 0s 79us/step - loss: 0.2356 - accuracy: 0.9078 - binary_accuracy: 0.9078 - val_loss: 0.0851 - val_accuracy: 0.9767 - val_binary_accuracy: 0.9767\n",
      "Epoch 165/500\n",
      "499/499 [==============================] - 0s 56us/step - loss: 0.0845 - accuracy: 0.9820 - binary_accuracy: 0.9820 - val_loss: 0.1082 - val_accuracy: 0.9535 - val_binary_accuracy: 0.9535\n",
      "Epoch 166/500\n",
      "499/499 [==============================] - 0s 50us/step - loss: 0.1389 - accuracy: 0.9439 - binary_accuracy: 0.9439 - val_loss: 0.0729 - val_accuracy: 1.0000 - val_binary_accuracy: 1.0000\n",
      "Epoch 167/500\n",
      "499/499 [==============================] - 0s 61us/step - loss: 0.1327 - accuracy: 0.9499 - binary_accuracy: 0.9499 - val_loss: 0.2426 - val_accuracy: 0.8930 - val_binary_accuracy: 0.8930\n",
      "Epoch 168/500\n",
      "499/499 [==============================] - 0s 54us/step - loss: 0.1090 - accuracy: 0.9659 - binary_accuracy: 0.9659 - val_loss: 0.4517 - val_accuracy: 0.7814 - val_binary_accuracy: 0.7814\n",
      "Epoch 169/500\n",
      "499/499 [==============================] - 0s 51us/step - loss: 0.2345 - accuracy: 0.9259 - binary_accuracy: 0.9259 - val_loss: 0.5737 - val_accuracy: 0.7442 - val_binary_accuracy: 0.7442\n",
      "Epoch 170/500\n",
      "499/499 [==============================] - 0s 52us/step - loss: 0.2602 - accuracy: 0.8918 - binary_accuracy: 0.8918 - val_loss: 0.0967 - val_accuracy: 0.9814 - val_binary_accuracy: 0.9814\n",
      "Epoch 171/500\n",
      "499/499 [==============================] - 0s 55us/step - loss: 0.1012 - accuracy: 0.9699 - binary_accuracy: 0.9699 - val_loss: 0.0607 - val_accuracy: 0.9814 - val_binary_accuracy: 0.9814\n",
      "Epoch 172/500\n",
      "499/499 [==============================] - 0s 53us/step - loss: 0.3193 - accuracy: 0.8798 - binary_accuracy: 0.8798 - val_loss: 0.1172 - val_accuracy: 0.9767 - val_binary_accuracy: 0.9767\n",
      "Epoch 173/500\n",
      "499/499 [==============================] - 0s 46us/step - loss: 0.1256 - accuracy: 0.9659 - binary_accuracy: 0.9659 - val_loss: 0.0931 - val_accuracy: 0.9721 - val_binary_accuracy: 0.9721\n",
      "Epoch 174/500\n",
      "499/499 [==============================] - 0s 61us/step - loss: 0.2182 - accuracy: 0.9038 - binary_accuracy: 0.9038 - val_loss: 0.0984 - val_accuracy: 0.9860 - val_binary_accuracy: 0.9860\n",
      "Epoch 175/500\n",
      "499/499 [==============================] - 0s 55us/step - loss: 0.1907 - accuracy: 0.9499 - binary_accuracy: 0.9499 - val_loss: 1.5538 - val_accuracy: 0.6233 - val_binary_accuracy: 0.6233\n",
      "Epoch 176/500\n",
      "499/499 [==============================] - 0s 51us/step - loss: 0.3064 - accuracy: 0.8958 - binary_accuracy: 0.8958 - val_loss: 0.1513 - val_accuracy: 0.9535 - val_binary_accuracy: 0.9535\n",
      "Epoch 177/500\n",
      "499/499 [==============================] - 0s 57us/step - loss: 0.1569 - accuracy: 0.9519 - binary_accuracy: 0.9519 - val_loss: 0.0933 - val_accuracy: 0.9814 - val_binary_accuracy: 0.9814\n",
      "Epoch 178/500\n",
      "499/499 [==============================] - 0s 56us/step - loss: 0.2872 - accuracy: 0.8938 - binary_accuracy: 0.8938 - val_loss: 0.0991 - val_accuracy: 0.9721 - val_binary_accuracy: 0.9721\n",
      "Epoch 179/500\n",
      "499/499 [==============================] - 0s 54us/step - loss: 0.0935 - accuracy: 0.9699 - binary_accuracy: 0.9699 - val_loss: 0.0643 - val_accuracy: 0.9907 - val_binary_accuracy: 0.9907\n",
      "Epoch 180/500\n",
      "499/499 [==============================] - 0s 49us/step - loss: 0.1603 - accuracy: 0.9439 - binary_accuracy: 0.9439 - val_loss: 0.0791 - val_accuracy: 0.9767 - val_binary_accuracy: 0.9767\n",
      "Epoch 181/500\n",
      "499/499 [==============================] - 0s 59us/step - loss: 0.1599 - accuracy: 0.9459 - binary_accuracy: 0.9459 - val_loss: 0.2246 - val_accuracy: 0.8791 - val_binary_accuracy: 0.8791\n",
      "Epoch 182/500\n",
      "499/499 [==============================] - 0s 52us/step - loss: 0.1044 - accuracy: 0.9679 - binary_accuracy: 0.9679 - val_loss: 0.0597 - val_accuracy: 0.9907 - val_binary_accuracy: 0.9907\n",
      "Epoch 183/500\n",
      "499/499 [==============================] - 0s 68us/step - loss: 0.0802 - accuracy: 0.9800 - binary_accuracy: 0.9800 - val_loss: 0.0871 - val_accuracy: 0.9814 - val_binary_accuracy: 0.9814\n",
      "Epoch 184/500\n",
      "499/499 [==============================] - 0s 58us/step - loss: 0.0805 - accuracy: 0.9719 - binary_accuracy: 0.9719 - val_loss: 0.0448 - val_accuracy: 0.9953 - val_binary_accuracy: 0.9953\n",
      "Epoch 185/500\n",
      "499/499 [==============================] - 0s 46us/step - loss: 0.2607 - accuracy: 0.9279 - binary_accuracy: 0.9279 - val_loss: 0.0614 - val_accuracy: 0.9953 - val_binary_accuracy: 0.9953\n",
      "Epoch 186/500\n",
      "499/499 [==============================] - 0s 54us/step - loss: 0.1031 - accuracy: 0.9679 - binary_accuracy: 0.9679 - val_loss: 0.0843 - val_accuracy: 0.9721 - val_binary_accuracy: 0.9721\n",
      "Epoch 187/500\n",
      "499/499 [==============================] - 0s 51us/step - loss: 0.3583 - accuracy: 0.8557 - binary_accuracy: 0.8557 - val_loss: 0.0933 - val_accuracy: 0.9814 - val_binary_accuracy: 0.9814\n",
      "Epoch 188/500\n",
      "499/499 [==============================] - 0s 49us/step - loss: 0.1873 - accuracy: 0.9198 - binary_accuracy: 0.9198 - val_loss: 0.0898 - val_accuracy: 0.9907 - val_binary_accuracy: 0.9907\n",
      "Epoch 189/500\n",
      "499/499 [==============================] - 0s 60us/step - loss: 0.0752 - accuracy: 0.9840 - binary_accuracy: 0.9840 - val_loss: 0.0692 - val_accuracy: 0.9814 - val_binary_accuracy: 0.9814\n",
      "Epoch 190/500\n",
      "499/499 [==============================] - 0s 45us/step - loss: 0.5392 - accuracy: 0.8116 - binary_accuracy: 0.8116 - val_loss: 0.1578 - val_accuracy: 0.9674 - val_binary_accuracy: 0.9674\n",
      "Epoch 191/500\n",
      "499/499 [==============================] - 0s 54us/step - loss: 0.1057 - accuracy: 0.9880 - binary_accuracy: 0.9880 - val_loss: 0.0779 - val_accuracy: 0.9953 - val_binary_accuracy: 0.9953\n",
      "Epoch 192/500\n",
      "499/499 [==============================] - 0s 53us/step - loss: 0.1322 - accuracy: 0.9559 - binary_accuracy: 0.9559 - val_loss: 0.2375 - val_accuracy: 0.8698 - val_binary_accuracy: 0.8698\n",
      "Epoch 193/500\n",
      "499/499 [==============================] - 0s 53us/step - loss: 0.2538 - accuracy: 0.9078 - binary_accuracy: 0.9078 - val_loss: 0.1065 - val_accuracy: 0.9814 - val_binary_accuracy: 0.9814\n",
      "Epoch 194/500\n",
      "499/499 [==============================] - 0s 53us/step - loss: 0.1159 - accuracy: 0.9719 - binary_accuracy: 0.9719 - val_loss: 0.0980 - val_accuracy: 0.9860 - val_binary_accuracy: 0.9860\n",
      "Epoch 195/500\n",
      "499/499 [==============================] - 0s 51us/step - loss: 0.1472 - accuracy: 0.9539 - binary_accuracy: 0.9539 - val_loss: 0.0781 - val_accuracy: 0.9860 - val_binary_accuracy: 0.9860\n",
      "Epoch 196/500\n",
      "499/499 [==============================] - 0s 50us/step - loss: 0.1914 - accuracy: 0.9519 - binary_accuracy: 0.9519 - val_loss: 0.7865 - val_accuracy: 0.6837 - val_binary_accuracy: 0.6837\n",
      "Epoch 197/500\n",
      "499/499 [==============================] - 0s 54us/step - loss: 0.1426 - accuracy: 0.9559 - binary_accuracy: 0.9559 - val_loss: 0.4971 - val_accuracy: 0.7907 - val_binary_accuracy: 0.7907\n",
      "Epoch 198/500\n",
      "499/499 [==============================] - 0s 53us/step - loss: 0.1891 - accuracy: 0.9459 - binary_accuracy: 0.9459 - val_loss: 0.4008 - val_accuracy: 0.7814 - val_binary_accuracy: 0.7814\n",
      "Epoch 199/500\n",
      "499/499 [==============================] - 0s 55us/step - loss: 0.0897 - accuracy: 0.9780 - binary_accuracy: 0.9780 - val_loss: 0.0512 - val_accuracy: 0.9907 - val_binary_accuracy: 0.9907\n",
      "Epoch 200/500\n",
      "499/499 [==============================] - 0s 56us/step - loss: 0.1254 - accuracy: 0.9619 - binary_accuracy: 0.9619 - val_loss: 0.1132 - val_accuracy: 0.9628 - val_binary_accuracy: 0.9628\n",
      "Epoch 201/500\n",
      "499/499 [==============================] - 0s 57us/step - loss: 0.1112 - accuracy: 0.9719 - binary_accuracy: 0.9719 - val_loss: 0.2676 - val_accuracy: 0.8698 - val_binary_accuracy: 0.8698\n",
      "Epoch 202/500\n",
      "499/499 [==============================] - 0s 56us/step - loss: 0.1882 - accuracy: 0.9279 - binary_accuracy: 0.9279 - val_loss: 0.6405 - val_accuracy: 0.7302 - val_binary_accuracy: 0.7302\n"
     ]
    },
    {
     "name": "stdout",
     "output_type": "stream",
     "text": [
      "Epoch 203/500\n",
      "499/499 [==============================] - 0s 54us/step - loss: 0.1384 - accuracy: 0.9459 - binary_accuracy: 0.9459 - val_loss: 0.5753 - val_accuracy: 0.7488 - val_binary_accuracy: 0.7488\n",
      "Epoch 204/500\n",
      "499/499 [==============================] - 0s 55us/step - loss: 0.1394 - accuracy: 0.9479 - binary_accuracy: 0.9479 - val_loss: 0.0790 - val_accuracy: 0.9814 - val_binary_accuracy: 0.9814\n",
      "Epoch 205/500\n",
      "499/499 [==============================] - 0s 56us/step - loss: 0.0674 - accuracy: 0.9800 - binary_accuracy: 0.9800 - val_loss: 0.0982 - val_accuracy: 0.9581 - val_binary_accuracy: 0.9581\n",
      "Epoch 206/500\n",
      "499/499 [==============================] - 0s 58us/step - loss: 0.2354 - accuracy: 0.9018 - binary_accuracy: 0.9018 - val_loss: 0.0680 - val_accuracy: 0.9953 - val_binary_accuracy: 0.9953\n",
      "Epoch 207/500\n",
      "499/499 [==============================] - 0s 55us/step - loss: 0.2085 - accuracy: 0.9178 - binary_accuracy: 0.9178 - val_loss: 0.4748 - val_accuracy: 0.7488 - val_binary_accuracy: 0.7488\n",
      "Epoch 208/500\n",
      "499/499 [==============================] - 0s 48us/step - loss: 0.1187 - accuracy: 0.9579 - binary_accuracy: 0.9579 - val_loss: 0.0585 - val_accuracy: 0.9953 - val_binary_accuracy: 0.9953\n",
      "Epoch 209/500\n",
      "499/499 [==============================] - 0s 59us/step - loss: 0.1194 - accuracy: 0.9539 - binary_accuracy: 0.9539 - val_loss: 0.0511 - val_accuracy: 0.9907 - val_binary_accuracy: 0.9907\n",
      "Epoch 210/500\n",
      "499/499 [==============================] - 0s 57us/step - loss: 0.0772 - accuracy: 0.9780 - binary_accuracy: 0.9780 - val_loss: 0.2291 - val_accuracy: 0.8791 - val_binary_accuracy: 0.8791\n",
      "Epoch 211/500\n",
      "499/499 [==============================] - 0s 51us/step - loss: 0.2234 - accuracy: 0.9058 - binary_accuracy: 0.9058 - val_loss: 0.0571 - val_accuracy: 0.9907 - val_binary_accuracy: 0.9907\n",
      "Epoch 212/500\n",
      "499/499 [==============================] - 0s 51us/step - loss: 0.0678 - accuracy: 0.9820 - binary_accuracy: 0.9820 - val_loss: 0.0413 - val_accuracy: 0.9907 - val_binary_accuracy: 0.9907\n",
      "Epoch 213/500\n",
      "499/499 [==============================] - 0s 55us/step - loss: 0.1632 - accuracy: 0.9439 - binary_accuracy: 0.9439 - val_loss: 0.0439 - val_accuracy: 1.0000 - val_binary_accuracy: 1.0000\n",
      "Epoch 214/500\n",
      "499/499 [==============================] - 0s 51us/step - loss: 0.1518 - accuracy: 0.9519 - binary_accuracy: 0.9519 - val_loss: 0.0484 - val_accuracy: 0.9953 - val_binary_accuracy: 0.9953\n",
      "Epoch 215/500\n",
      "499/499 [==============================] - 0s 57us/step - loss: 0.1823 - accuracy: 0.9339 - binary_accuracy: 0.9339 - val_loss: 0.0649 - val_accuracy: 0.9953 - val_binary_accuracy: 0.9953\n",
      "Epoch 216/500\n",
      "499/499 [==============================] - 0s 58us/step - loss: 0.1063 - accuracy: 0.9719 - binary_accuracy: 0.9719 - val_loss: 0.1222 - val_accuracy: 0.9581 - val_binary_accuracy: 0.9581\n",
      "Epoch 217/500\n",
      "499/499 [==============================] - 0s 52us/step - loss: 0.0847 - accuracy: 0.9760 - binary_accuracy: 0.9760 - val_loss: 0.0498 - val_accuracy: 0.9907 - val_binary_accuracy: 0.9907\n",
      "Epoch 218/500\n",
      "499/499 [==============================] - 0s 53us/step - loss: 0.2587 - accuracy: 0.8998 - binary_accuracy: 0.8998 - val_loss: 0.8606 - val_accuracy: 0.6791 - val_binary_accuracy: 0.6791\n",
      "Epoch 219/500\n",
      "499/499 [==============================] - 0s 68us/step - loss: 0.1328 - accuracy: 0.9439 - binary_accuracy: 0.9439 - val_loss: 0.0683 - val_accuracy: 0.9814 - val_binary_accuracy: 0.9814\n",
      "Epoch 220/500\n",
      "499/499 [==============================] - 0s 60us/step - loss: 0.0940 - accuracy: 0.9699 - binary_accuracy: 0.9699 - val_loss: 0.0764 - val_accuracy: 0.9767 - val_binary_accuracy: 0.9767\n",
      "Epoch 221/500\n",
      "499/499 [==============================] - 0s 59us/step - loss: 0.0649 - accuracy: 0.9800 - binary_accuracy: 0.9800 - val_loss: 0.0527 - val_accuracy: 0.9907 - val_binary_accuracy: 0.9907\n",
      "Epoch 222/500\n",
      "499/499 [==============================] - 0s 56us/step - loss: 0.1857 - accuracy: 0.9499 - binary_accuracy: 0.9499 - val_loss: 0.0443 - val_accuracy: 1.0000 - val_binary_accuracy: 1.0000\n",
      "Epoch 223/500\n",
      "499/499 [==============================] - 0s 52us/step - loss: 0.0880 - accuracy: 0.9679 - binary_accuracy: 0.9679 - val_loss: 0.0596 - val_accuracy: 0.9860 - val_binary_accuracy: 0.9860\n",
      "Epoch 224/500\n",
      "499/499 [==============================] - 0s 64us/step - loss: 0.1771 - accuracy: 0.9379 - binary_accuracy: 0.9379 - val_loss: 0.2342 - val_accuracy: 0.9116 - val_binary_accuracy: 0.9116\n",
      "Epoch 225/500\n",
      "499/499 [==============================] - 0s 60us/step - loss: 0.0918 - accuracy: 0.9760 - binary_accuracy: 0.9760 - val_loss: 0.0441 - val_accuracy: 0.9953 - val_binary_accuracy: 0.9953\n",
      "Epoch 226/500\n",
      "499/499 [==============================] - 0s 90us/step - loss: 0.1090 - accuracy: 0.9519 - binary_accuracy: 0.9519 - val_loss: 0.0440 - val_accuracy: 1.0000 - val_binary_accuracy: 1.0000\n",
      "Epoch 227/500\n",
      "499/499 [==============================] - 0s 65us/step - loss: 0.0836 - accuracy: 0.9719 - binary_accuracy: 0.9719 - val_loss: 0.0279 - val_accuracy: 1.0000 - val_binary_accuracy: 1.0000\n",
      "Epoch 228/500\n",
      "499/499 [==============================] - 0s 58us/step - loss: 0.4623 - accuracy: 0.8677 - binary_accuracy: 0.8677 - val_loss: 0.0879 - val_accuracy: 0.9907 - val_binary_accuracy: 0.9907\n",
      "Epoch 229/500\n",
      "499/499 [==============================] - 0s 55us/step - loss: 0.0871 - accuracy: 0.9760 - binary_accuracy: 0.9760 - val_loss: 0.1129 - val_accuracy: 0.9628 - val_binary_accuracy: 0.9628\n",
      "Epoch 230/500\n",
      "499/499 [==============================] - 0s 56us/step - loss: 0.1540 - accuracy: 0.9479 - binary_accuracy: 0.9479 - val_loss: 0.0895 - val_accuracy: 0.9767 - val_binary_accuracy: 0.9767\n",
      "Epoch 231/500\n",
      "499/499 [==============================] - 0s 57us/step - loss: 0.0840 - accuracy: 0.9760 - binary_accuracy: 0.9760 - val_loss: 0.0752 - val_accuracy: 0.9767 - val_binary_accuracy: 0.9767\n",
      "Epoch 232/500\n",
      "499/499 [==============================] - 0s 55us/step - loss: 0.1931 - accuracy: 0.9299 - binary_accuracy: 0.9299 - val_loss: 0.0630 - val_accuracy: 0.9953 - val_binary_accuracy: 0.9953\n",
      "Epoch 233/500\n",
      "499/499 [==============================] - 0s 52us/step - loss: 0.1348 - accuracy: 0.9639 - binary_accuracy: 0.9639 - val_loss: 0.0965 - val_accuracy: 0.9767 - val_binary_accuracy: 0.9767\n",
      "Epoch 234/500\n",
      "499/499 [==============================] - 0s 55us/step - loss: 0.1044 - accuracy: 0.9639 - binary_accuracy: 0.9639 - val_loss: 0.1250 - val_accuracy: 0.9535 - val_binary_accuracy: 0.9535\n",
      "Epoch 235/500\n",
      "499/499 [==============================] - 0s 48us/step - loss: 0.2906 - accuracy: 0.9118 - binary_accuracy: 0.9118 - val_loss: 0.0899 - val_accuracy: 0.9814 - val_binary_accuracy: 0.9814\n",
      "Epoch 236/500\n",
      "499/499 [==============================] - 0s 51us/step - loss: 0.1187 - accuracy: 0.9539 - binary_accuracy: 0.9539 - val_loss: 0.0983 - val_accuracy: 0.9721 - val_binary_accuracy: 0.9721\n",
      "Epoch 237/500\n",
      "499/499 [==============================] - 0s 54us/step - loss: 0.0903 - accuracy: 0.9760 - binary_accuracy: 0.9760 - val_loss: 0.2787 - val_accuracy: 0.8605 - val_binary_accuracy: 0.8605\n",
      "Epoch 238/500\n",
      "499/499 [==============================] - 0s 55us/step - loss: 0.1141 - accuracy: 0.9599 - binary_accuracy: 0.9599 - val_loss: 0.0500 - val_accuracy: 0.9907 - val_binary_accuracy: 0.9907\n",
      "Epoch 239/500\n",
      "499/499 [==============================] - 0s 63us/step - loss: 0.0542 - accuracy: 0.9900 - binary_accuracy: 0.9900 - val_loss: 0.0310 - val_accuracy: 1.0000 - val_binary_accuracy: 1.0000\n",
      "Epoch 240/500\n",
      "499/499 [==============================] - 0s 52us/step - loss: 0.0931 - accuracy: 0.9659 - binary_accuracy: 0.9659 - val_loss: 0.0922 - val_accuracy: 0.9628 - val_binary_accuracy: 0.9628\n",
      "Epoch 241/500\n",
      "499/499 [==============================] - 0s 60us/step - loss: 0.1447 - accuracy: 0.9439 - binary_accuracy: 0.9439 - val_loss: 0.2962 - val_accuracy: 0.8558 - val_binary_accuracy: 0.8558\n",
      "Epoch 242/500\n",
      "499/499 [==============================] - 0s 59us/step - loss: 0.1003 - accuracy: 0.9619 - binary_accuracy: 0.9619 - val_loss: 0.0471 - val_accuracy: 0.9907 - val_binary_accuracy: 0.9907\n",
      "Epoch 243/500\n"
     ]
    },
    {
     "name": "stdout",
     "output_type": "stream",
     "text": [
      "499/499 [==============================] - 0s 58us/step - loss: 0.1570 - accuracy: 0.9539 - binary_accuracy: 0.9539 - val_loss: 0.4876 - val_accuracy: 0.7814 - val_binary_accuracy: 0.7814\n",
      "Epoch 244/500\n",
      "499/499 [==============================] - 0s 57us/step - loss: 0.1037 - accuracy: 0.9599 - binary_accuracy: 0.9599 - val_loss: 0.4188 - val_accuracy: 0.7953 - val_binary_accuracy: 0.7953\n",
      "Epoch 245/500\n",
      "499/499 [==============================] - 0s 59us/step - loss: 0.0792 - accuracy: 0.9780 - binary_accuracy: 0.9780 - val_loss: 0.0455 - val_accuracy: 0.9907 - val_binary_accuracy: 0.9907\n",
      "Epoch 246/500\n",
      "499/499 [==============================] - 0s 50us/step - loss: 0.0988 - accuracy: 0.9639 - binary_accuracy: 0.9639 - val_loss: 0.0295 - val_accuracy: 1.0000 - val_binary_accuracy: 1.0000\n",
      "Epoch 247/500\n",
      "499/499 [==============================] - 0s 50us/step - loss: 0.1121 - accuracy: 0.9679 - binary_accuracy: 0.9679 - val_loss: 0.0312 - val_accuracy: 0.9907 - val_binary_accuracy: 0.9907\n",
      "Epoch 248/500\n",
      "499/499 [==============================] - 0s 56us/step - loss: 0.1053 - accuracy: 0.9679 - binary_accuracy: 0.9679 - val_loss: 0.0323 - val_accuracy: 0.9907 - val_binary_accuracy: 0.9907\n",
      "Epoch 249/500\n",
      "499/499 [==============================] - 0s 53us/step - loss: 0.2147 - accuracy: 0.9138 - binary_accuracy: 0.9138 - val_loss: 0.1779 - val_accuracy: 0.8837 - val_binary_accuracy: 0.8837\n",
      "Epoch 250/500\n",
      "499/499 [==============================] - 0s 50us/step - loss: 0.0696 - accuracy: 0.9840 - binary_accuracy: 0.9840 - val_loss: 0.0547 - val_accuracy: 0.9860 - val_binary_accuracy: 0.9860\n",
      "Epoch 251/500\n",
      "499/499 [==============================] - 0s 51us/step - loss: 0.0828 - accuracy: 0.9780 - binary_accuracy: 0.9780 - val_loss: 0.0254 - val_accuracy: 1.0000 - val_binary_accuracy: 1.0000\n",
      "Epoch 252/500\n",
      "499/499 [==============================] - 0s 58us/step - loss: 0.3039 - accuracy: 0.8998 - binary_accuracy: 0.8998 - val_loss: 0.0893 - val_accuracy: 0.9721 - val_binary_accuracy: 0.9721\n",
      "Epoch 253/500\n",
      "499/499 [==============================] - 0s 57us/step - loss: 0.0921 - accuracy: 0.9699 - binary_accuracy: 0.9699 - val_loss: 0.9831 - val_accuracy: 0.6651 - val_binary_accuracy: 0.6651\n",
      "Epoch 254/500\n",
      "499/499 [==============================] - 0s 57us/step - loss: 0.1596 - accuracy: 0.9439 - binary_accuracy: 0.9439 - val_loss: 0.0991 - val_accuracy: 0.9628 - val_binary_accuracy: 0.9628\n",
      "Epoch 255/500\n",
      "499/499 [==============================] - 0s 55us/step - loss: 0.1372 - accuracy: 0.9539 - binary_accuracy: 0.9539 - val_loss: 0.0770 - val_accuracy: 0.9767 - val_binary_accuracy: 0.9767\n",
      "Epoch 256/500\n",
      "499/499 [==============================] - 0s 62us/step - loss: 0.0867 - accuracy: 0.9699 - binary_accuracy: 0.9699 - val_loss: 0.1005 - val_accuracy: 0.9488 - val_binary_accuracy: 0.9488\n",
      "Epoch 257/500\n",
      "499/499 [==============================] - 0s 59us/step - loss: 0.1658 - accuracy: 0.9459 - binary_accuracy: 0.9459 - val_loss: 0.2584 - val_accuracy: 0.9023 - val_binary_accuracy: 0.9023\n",
      "Epoch 258/500\n",
      "499/499 [==============================] - 0s 57us/step - loss: 0.1408 - accuracy: 0.9499 - binary_accuracy: 0.9499 - val_loss: 0.0737 - val_accuracy: 0.9814 - val_binary_accuracy: 0.9814\n",
      "Epoch 259/500\n",
      "499/499 [==============================] - 0s 51us/step - loss: 0.1187 - accuracy: 0.9499 - binary_accuracy: 0.9499 - val_loss: 0.0389 - val_accuracy: 0.9953 - val_binary_accuracy: 0.9953\n",
      "Epoch 260/500\n",
      "499/499 [==============================] - 0s 49us/step - loss: 0.1285 - accuracy: 0.9579 - binary_accuracy: 0.9579 - val_loss: 0.0483 - val_accuracy: 0.9814 - val_binary_accuracy: 0.9814\n",
      "Epoch 261/500\n",
      "499/499 [==============================] - 0s 62us/step - loss: 0.0930 - accuracy: 0.9639 - binary_accuracy: 0.9639 - val_loss: 0.0564 - val_accuracy: 1.0000 - val_binary_accuracy: 1.0000\n",
      "Epoch 262/500\n",
      "499/499 [==============================] - 0s 58us/step - loss: 0.1439 - accuracy: 0.9599 - binary_accuracy: 0.9599 - val_loss: 0.0373 - val_accuracy: 1.0000 - val_binary_accuracy: 1.0000\n",
      "Epoch 263/500\n",
      "499/499 [==============================] - 0s 59us/step - loss: 0.0549 - accuracy: 0.9840 - binary_accuracy: 0.9840 - val_loss: 0.0287 - val_accuracy: 1.0000 - val_binary_accuracy: 1.0000\n",
      "Epoch 264/500\n",
      "499/499 [==============================] - 0s 67us/step - loss: 0.1121 - accuracy: 0.9699 - binary_accuracy: 0.9699 - val_loss: 1.6804 - val_accuracy: 0.6279 - val_binary_accuracy: 0.6279\n",
      "Epoch 265/500\n",
      "499/499 [==============================] - 0s 59us/step - loss: 0.1538 - accuracy: 0.9539 - binary_accuracy: 0.9539 - val_loss: 0.0553 - val_accuracy: 0.9907 - val_binary_accuracy: 0.9907\n",
      "Epoch 266/500\n",
      "499/499 [==============================] - 0s 56us/step - loss: 0.1227 - accuracy: 0.9559 - binary_accuracy: 0.9559 - val_loss: 0.0442 - val_accuracy: 0.9953 - val_binary_accuracy: 0.9953\n",
      "Epoch 267/500\n",
      "499/499 [==============================] - 0s 55us/step - loss: 0.1601 - accuracy: 0.9459 - binary_accuracy: 0.9459 - val_loss: 0.0552 - val_accuracy: 0.9907 - val_binary_accuracy: 0.9907\n",
      "Epoch 268/500\n",
      "499/499 [==============================] - 0s 65us/step - loss: 0.1036 - accuracy: 0.9639 - binary_accuracy: 0.9639 - val_loss: 0.1638 - val_accuracy: 0.9256 - val_binary_accuracy: 0.9256\n",
      "Epoch 269/500\n",
      "499/499 [==============================] - 0s 57us/step - loss: 0.0641 - accuracy: 0.9840 - binary_accuracy: 0.9840 - val_loss: 0.0441 - val_accuracy: 0.9907 - val_binary_accuracy: 0.9907\n",
      "Epoch 270/500\n",
      "499/499 [==============================] - 0s 65us/step - loss: 0.0699 - accuracy: 0.9739 - binary_accuracy: 0.9739 - val_loss: 0.0226 - val_accuracy: 1.0000 - val_binary_accuracy: 1.0000\n",
      "Epoch 271/500\n",
      "499/499 [==============================] - 0s 59us/step - loss: 0.1888 - accuracy: 0.9439 - binary_accuracy: 0.9439 - val_loss: 0.0474 - val_accuracy: 0.9907 - val_binary_accuracy: 0.9907\n",
      "Epoch 272/500\n",
      "499/499 [==============================] - 0s 58us/step - loss: 0.0408 - accuracy: 0.9900 - binary_accuracy: 0.9900 - val_loss: 0.0266 - val_accuracy: 0.9953 - val_binary_accuracy: 0.9953\n",
      "Epoch 273/500\n",
      "499/499 [==============================] - 0s 63us/step - loss: 0.0509 - accuracy: 0.9800 - binary_accuracy: 0.9800 - val_loss: 0.0264 - val_accuracy: 1.0000 - val_binary_accuracy: 1.0000\n",
      "Epoch 274/500\n",
      "499/499 [==============================] - 0s 58us/step - loss: 0.2744 - accuracy: 0.9218 - binary_accuracy: 0.9218 - val_loss: 0.0630 - val_accuracy: 0.9860 - val_binary_accuracy: 0.9860\n",
      "Epoch 275/500\n",
      "499/499 [==============================] - 0s 53us/step - loss: 0.3656 - accuracy: 0.9038 - binary_accuracy: 0.9038 - val_loss: 0.2173 - val_accuracy: 0.9116 - val_binary_accuracy: 0.9116\n",
      "Epoch 276/500\n",
      "499/499 [==============================] - 0s 58us/step - loss: 0.1052 - accuracy: 0.9679 - binary_accuracy: 0.9679 - val_loss: 0.0637 - val_accuracy: 0.9953 - val_binary_accuracy: 0.9953\n",
      "Epoch 277/500\n",
      "499/499 [==============================] - 0s 71us/step - loss: 0.0632 - accuracy: 0.9780 - binary_accuracy: 0.9780 - val_loss: 0.1247 - val_accuracy: 0.9395 - val_binary_accuracy: 0.9395\n",
      "Epoch 278/500\n",
      "499/499 [==============================] - 0s 71us/step - loss: 0.0705 - accuracy: 0.9820 - binary_accuracy: 0.9820 - val_loss: 0.0972 - val_accuracy: 0.9767 - val_binary_accuracy: 0.9767\n",
      "Epoch 279/500\n",
      "499/499 [==============================] - 0s 64us/step - loss: 0.2378 - accuracy: 0.9238 - binary_accuracy: 0.9238 - val_loss: 0.0386 - val_accuracy: 0.9953 - val_binary_accuracy: 0.9953\n",
      "Epoch 280/500\n",
      "499/499 [==============================] - 0s 71us/step - loss: 0.1131 - accuracy: 0.9539 - binary_accuracy: 0.9539 - val_loss: 0.0507 - val_accuracy: 1.0000 - val_binary_accuracy: 1.0000\n",
      "Epoch 281/500\n",
      "499/499 [==============================] - 0s 66us/step - loss: 0.0749 - accuracy: 0.9719 - binary_accuracy: 0.9719 - val_loss: 0.0556 - val_accuracy: 0.9907 - val_binary_accuracy: 0.9907\n",
      "Epoch 282/500\n",
      "499/499 [==============================] - 0s 62us/step - loss: 0.0453 - accuracy: 0.9860 - binary_accuracy: 0.9860 - val_loss: 0.0250 - val_accuracy: 1.0000 - val_binary_accuracy: 1.0000\n",
      "Epoch 283/500\n",
      "499/499 [==============================] - 0s 62us/step - loss: 0.1042 - accuracy: 0.9679 - binary_accuracy: 0.9679 - val_loss: 0.0464 - val_accuracy: 0.9814 - val_binary_accuracy: 0.9814\n"
     ]
    },
    {
     "name": "stdout",
     "output_type": "stream",
     "text": [
      "Epoch 284/500\n",
      "499/499 [==============================] - 0s 54us/step - loss: 0.1380 - accuracy: 0.9419 - binary_accuracy: 0.9419 - val_loss: 0.4996 - val_accuracy: 0.7628 - val_binary_accuracy: 0.7628\n",
      "Epoch 285/500\n",
      "499/499 [==============================] - 0s 60us/step - loss: 0.0919 - accuracy: 0.9679 - binary_accuracy: 0.9679 - val_loss: 0.0453 - val_accuracy: 0.9953 - val_binary_accuracy: 0.9953\n",
      "Epoch 286/500\n",
      "499/499 [==============================] - 0s 57us/step - loss: 0.0600 - accuracy: 0.9860 - binary_accuracy: 0.9860 - val_loss: 0.1418 - val_accuracy: 0.9535 - val_binary_accuracy: 0.9535\n",
      "Epoch 287/500\n",
      "499/499 [==============================] - 0s 55us/step - loss: 0.0689 - accuracy: 0.9739 - binary_accuracy: 0.9739 - val_loss: 0.0289 - val_accuracy: 0.9907 - val_binary_accuracy: 0.9907\n",
      "Epoch 288/500\n",
      "499/499 [==============================] - 0s 60us/step - loss: 0.0467 - accuracy: 0.9860 - binary_accuracy: 0.9860 - val_loss: 0.1087 - val_accuracy: 0.9628 - val_binary_accuracy: 0.9628\n",
      "Epoch 289/500\n",
      "499/499 [==============================] - 0s 63us/step - loss: 0.1115 - accuracy: 0.9619 - binary_accuracy: 0.9619 - val_loss: 0.0222 - val_accuracy: 1.0000 - val_binary_accuracy: 1.0000\n",
      "Epoch 290/500\n",
      "499/499 [==============================] - 0s 59us/step - loss: 0.1729 - accuracy: 0.9479 - binary_accuracy: 0.9479 - val_loss: 0.0382 - val_accuracy: 0.9814 - val_binary_accuracy: 0.9814\n",
      "Epoch 291/500\n",
      "499/499 [==============================] - 0s 62us/step - loss: 0.0499 - accuracy: 0.9860 - binary_accuracy: 0.9860 - val_loss: 0.0470 - val_accuracy: 0.9907 - val_binary_accuracy: 0.9907\n",
      "Epoch 292/500\n",
      "499/499 [==============================] - 0s 63us/step - loss: 0.1001 - accuracy: 0.9659 - binary_accuracy: 0.9659 - val_loss: 0.0217 - val_accuracy: 1.0000 - val_binary_accuracy: 1.0000\n",
      "Epoch 293/500\n",
      "499/499 [==============================] - 0s 61us/step - loss: 0.0489 - accuracy: 0.9840 - binary_accuracy: 0.9840 - val_loss: 0.0516 - val_accuracy: 0.9860 - val_binary_accuracy: 0.9860\n",
      "Epoch 294/500\n",
      "499/499 [==============================] - 0s 64us/step - loss: 0.0882 - accuracy: 0.9739 - binary_accuracy: 0.9739 - val_loss: 0.0352 - val_accuracy: 0.9907 - val_binary_accuracy: 0.9907\n",
      "Epoch 295/500\n",
      "499/499 [==============================] - 0s 67us/step - loss: 0.1686 - accuracy: 0.9419 - binary_accuracy: 0.9419 - val_loss: 0.0234 - val_accuracy: 1.0000 - val_binary_accuracy: 1.0000\n",
      "Epoch 296/500\n",
      "499/499 [==============================] - 0s 60us/step - loss: 0.0511 - accuracy: 0.9800 - binary_accuracy: 0.9800 - val_loss: 0.1078 - val_accuracy: 0.9395 - val_binary_accuracy: 0.9395\n",
      "Epoch 297/500\n",
      "499/499 [==============================] - 0s 62us/step - loss: 0.1974 - accuracy: 0.9419 - binary_accuracy: 0.9419 - val_loss: 0.1522 - val_accuracy: 0.9535 - val_binary_accuracy: 0.9535\n",
      "Epoch 298/500\n",
      "499/499 [==============================] - 0s 55us/step - loss: 0.1353 - accuracy: 0.9499 - binary_accuracy: 0.9499 - val_loss: 0.0414 - val_accuracy: 0.9953 - val_binary_accuracy: 0.9953\n",
      "Epoch 299/500\n",
      "499/499 [==============================] - 0s 63us/step - loss: 0.0666 - accuracy: 0.9840 - binary_accuracy: 0.9840 - val_loss: 0.3721 - val_accuracy: 0.8186 - val_binary_accuracy: 0.8186\n",
      "Epoch 300/500\n",
      "499/499 [==============================] - 0s 66us/step - loss: 0.0963 - accuracy: 0.9619 - binary_accuracy: 0.9619 - val_loss: 0.0288 - val_accuracy: 0.9953 - val_binary_accuracy: 0.9953\n",
      "Epoch 301/500\n",
      "499/499 [==============================] - 0s 72us/step - loss: 0.0926 - accuracy: 0.9579 - binary_accuracy: 0.9579 - val_loss: 1.0175 - val_accuracy: 0.7209 - val_binary_accuracy: 0.7209\n",
      "Epoch 302/500\n",
      "499/499 [==============================] - 0s 62us/step - loss: 0.0954 - accuracy: 0.9679 - binary_accuracy: 0.9679 - val_loss: 0.0294 - val_accuracy: 0.9953 - val_binary_accuracy: 0.9953\n",
      "Epoch 303/500\n",
      "499/499 [==============================] - 0s 56us/step - loss: 0.0733 - accuracy: 0.9800 - binary_accuracy: 0.9800 - val_loss: 0.0612 - val_accuracy: 0.9814 - val_binary_accuracy: 0.9814\n",
      "Epoch 304/500\n",
      "499/499 [==============================] - 0s 57us/step - loss: 0.0866 - accuracy: 0.9739 - binary_accuracy: 0.9739 - val_loss: 0.0277 - val_accuracy: 0.9907 - val_binary_accuracy: 0.9907\n",
      "Epoch 305/500\n",
      "499/499 [==============================] - 0s 67us/step - loss: 0.0403 - accuracy: 0.9920 - binary_accuracy: 0.9920 - val_loss: 0.0256 - val_accuracy: 0.9907 - val_binary_accuracy: 0.9907\n",
      "Epoch 306/500\n",
      "499/499 [==============================] - 0s 63us/step - loss: 0.0469 - accuracy: 0.9880 - binary_accuracy: 0.9880 - val_loss: 0.0161 - val_accuracy: 1.0000 - val_binary_accuracy: 1.0000\n",
      "Epoch 307/500\n",
      "499/499 [==============================] - 0s 62us/step - loss: 0.0901 - accuracy: 0.9760 - binary_accuracy: 0.9760 - val_loss: 0.0374 - val_accuracy: 0.9907 - val_binary_accuracy: 0.9907\n",
      "Epoch 308/500\n",
      "499/499 [==============================] - 0s 64us/step - loss: 0.1458 - accuracy: 0.9439 - binary_accuracy: 0.9439 - val_loss: 0.0251 - val_accuracy: 1.0000 - val_binary_accuracy: 1.0000\n",
      "Epoch 309/500\n",
      "499/499 [==============================] - 0s 61us/step - loss: 0.1136 - accuracy: 0.9579 - binary_accuracy: 0.9579 - val_loss: 0.0239 - val_accuracy: 1.0000 - val_binary_accuracy: 1.0000\n",
      "Epoch 310/500\n",
      "499/499 [==============================] - 0s 61us/step - loss: 0.0939 - accuracy: 0.9679 - binary_accuracy: 0.9679 - val_loss: 0.1420 - val_accuracy: 0.9535 - val_binary_accuracy: 0.9535\n",
      "Epoch 311/500\n",
      "499/499 [==============================] - 0s 65us/step - loss: 0.0485 - accuracy: 0.9860 - binary_accuracy: 0.9860 - val_loss: 0.0241 - val_accuracy: 0.9953 - val_binary_accuracy: 0.9953\n",
      "Epoch 312/500\n",
      "499/499 [==============================] - 0s 63us/step - loss: 0.0247 - accuracy: 1.0000 - binary_accuracy: 1.0000 - val_loss: 0.0150 - val_accuracy: 1.0000 - val_binary_accuracy: 1.0000\n",
      "Epoch 313/500\n",
      "499/499 [==============================] - 0s 65us/step - loss: 0.1615 - accuracy: 0.9339 - binary_accuracy: 0.9339 - val_loss: 0.0276 - val_accuracy: 0.9907 - val_binary_accuracy: 0.9907\n",
      "Epoch 314/500\n",
      "499/499 [==============================] - 0s 65us/step - loss: 0.0320 - accuracy: 0.9940 - binary_accuracy: 0.9940 - val_loss: 0.0167 - val_accuracy: 1.0000 - val_binary_accuracy: 1.0000\n",
      "Epoch 315/500\n",
      "499/499 [==============================] - 0s 65us/step - loss: 0.2596 - accuracy: 0.9158 - binary_accuracy: 0.9158 - val_loss: 0.0861 - val_accuracy: 0.9674 - val_binary_accuracy: 0.9674\n",
      "Epoch 316/500\n",
      "499/499 [==============================] - ETA: 0s - loss: 0.0297 - accuracy: 1.0000 - binary_accuracy: 1.00 - 0s 65us/step - loss: 0.0540 - accuracy: 0.9840 - binary_accuracy: 0.9840 - val_loss: 0.0767 - val_accuracy: 0.9767 - val_binary_accuracy: 0.9767\n",
      "Epoch 317/500\n",
      "499/499 [==============================] - 0s 68us/step - loss: 0.0490 - accuracy: 0.9920 - binary_accuracy: 0.9920 - val_loss: 0.0444 - val_accuracy: 0.9907 - val_binary_accuracy: 0.9907\n",
      "Epoch 318/500\n",
      "499/499 [==============================] - 0s 71us/step - loss: 0.0282 - accuracy: 0.9960 - binary_accuracy: 0.9960 - val_loss: 0.0158 - val_accuracy: 1.0000 - val_binary_accuracy: 1.0000\n",
      "Epoch 319/500\n",
      "499/499 [==============================] - 0s 72us/step - loss: 0.0658 - accuracy: 0.9760 - binary_accuracy: 0.9760 - val_loss: 0.0994 - val_accuracy: 0.9674 - val_binary_accuracy: 0.9674\n",
      "Epoch 320/500\n",
      "499/499 [==============================] - 0s 75us/step - loss: 0.0864 - accuracy: 0.9780 - binary_accuracy: 0.9780 - val_loss: 0.2960 - val_accuracy: 0.8698 - val_binary_accuracy: 0.8698\n",
      "Epoch 321/500\n",
      "499/499 [==============================] - 0s 63us/step - loss: 0.3449 - accuracy: 0.8878 - binary_accuracy: 0.8878 - val_loss: 0.0595 - val_accuracy: 0.9860 - val_binary_accuracy: 0.9860\n",
      "Epoch 322/500\n",
      "499/499 [==============================] - 0s 75us/step - loss: 0.0727 - accuracy: 0.9800 - binary_accuracy: 0.9800 - val_loss: 0.0316 - val_accuracy: 0.9953 - val_binary_accuracy: 0.9953\n",
      "Epoch 323/500\n",
      "499/499 [==============================] - 0s 65us/step - loss: 0.0985 - accuracy: 0.9679 - binary_accuracy: 0.9679 - val_loss: 0.0328 - val_accuracy: 0.9907 - val_binary_accuracy: 0.9907\n",
      "Epoch 324/500\n"
     ]
    },
    {
     "name": "stdout",
     "output_type": "stream",
     "text": [
      "499/499 [==============================] - 0s 62us/step - loss: 0.0634 - accuracy: 0.9760 - binary_accuracy: 0.9760 - val_loss: 0.0213 - val_accuracy: 1.0000 - val_binary_accuracy: 1.0000\n",
      "Epoch 325/500\n",
      "499/499 [==============================] - 0s 70us/step - loss: 0.0707 - accuracy: 0.9800 - binary_accuracy: 0.9800 - val_loss: 0.1580 - val_accuracy: 0.9535 - val_binary_accuracy: 0.9535\n",
      "Epoch 326/500\n",
      "499/499 [==============================] - 0s 59us/step - loss: 0.2024 - accuracy: 0.9359 - binary_accuracy: 0.9359 - val_loss: 0.0573 - val_accuracy: 0.9907 - val_binary_accuracy: 0.9907\n",
      "Epoch 327/500\n",
      "499/499 [==============================] - 0s 63us/step - loss: 0.0436 - accuracy: 0.9860 - binary_accuracy: 0.9860 - val_loss: 0.0496 - val_accuracy: 0.9907 - val_binary_accuracy: 0.9907\n",
      "Epoch 328/500\n",
      "499/499 [==============================] - 0s 64us/step - loss: 0.2136 - accuracy: 0.9279 - binary_accuracy: 0.9279 - val_loss: 0.0903 - val_accuracy: 0.9721 - val_binary_accuracy: 0.9721\n",
      "Epoch 329/500\n",
      "499/499 [==============================] - 0s 62us/step - loss: 0.0783 - accuracy: 0.9699 - binary_accuracy: 0.9699 - val_loss: 0.0546 - val_accuracy: 0.9814 - val_binary_accuracy: 0.9814\n",
      "Epoch 330/500\n",
      "499/499 [==============================] - 0s 58us/step - loss: 0.0851 - accuracy: 0.9679 - binary_accuracy: 0.9679 - val_loss: 0.0243 - val_accuracy: 0.9953 - val_binary_accuracy: 0.9953\n",
      "Epoch 331/500\n",
      "499/499 [==============================] - 0s 59us/step - loss: 0.0756 - accuracy: 0.9719 - binary_accuracy: 0.9719 - val_loss: 0.0288 - val_accuracy: 1.0000 - val_binary_accuracy: 1.0000\n",
      "Epoch 332/500\n",
      "499/499 [==============================] - 0s 61us/step - loss: 0.1328 - accuracy: 0.9519 - binary_accuracy: 0.9519 - val_loss: 0.0477 - val_accuracy: 1.0000 - val_binary_accuracy: 1.0000\n",
      "Epoch 333/500\n",
      "499/499 [==============================] - 0s 66us/step - loss: 0.0470 - accuracy: 0.9840 - binary_accuracy: 0.9840 - val_loss: 0.0251 - val_accuracy: 0.9953 - val_binary_accuracy: 0.9953\n",
      "Epoch 334/500\n",
      "499/499 [==============================] - 0s 61us/step - loss: 0.0805 - accuracy: 0.9780 - binary_accuracy: 0.9780 - val_loss: 0.1231 - val_accuracy: 0.9628 - val_binary_accuracy: 0.9628\n",
      "Epoch 335/500\n",
      "499/499 [==============================] - 0s 63us/step - loss: 0.0353 - accuracy: 0.9940 - binary_accuracy: 0.9940 - val_loss: 0.0205 - val_accuracy: 1.0000 - val_binary_accuracy: 1.0000\n",
      "Epoch 336/500\n",
      "499/499 [==============================] - 0s 66us/step - loss: 0.2051 - accuracy: 0.9419 - binary_accuracy: 0.9419 - val_loss: 0.6361 - val_accuracy: 0.7442 - val_binary_accuracy: 0.7442\n",
      "Epoch 337/500\n",
      "499/499 [==============================] - 0s 66us/step - loss: 0.0724 - accuracy: 0.9780 - binary_accuracy: 0.9780 - val_loss: 0.0331 - val_accuracy: 0.9907 - val_binary_accuracy: 0.9907\n",
      "Epoch 338/500\n",
      "499/499 [==============================] - 0s 65us/step - loss: 0.1573 - accuracy: 0.9499 - binary_accuracy: 0.9499 - val_loss: 0.0344 - val_accuracy: 0.9953 - val_binary_accuracy: 0.9953\n",
      "Epoch 339/500\n",
      "499/499 [==============================] - 0s 60us/step - loss: 0.0627 - accuracy: 0.9820 - binary_accuracy: 0.9820 - val_loss: 0.0486 - val_accuracy: 0.9860 - val_binary_accuracy: 0.9860\n",
      "Epoch 340/500\n",
      "499/499 [==============================] - 0s 66us/step - loss: 0.0304 - accuracy: 0.9940 - binary_accuracy: 0.9940 - val_loss: 0.1803 - val_accuracy: 0.9070 - val_binary_accuracy: 0.9070\n",
      "Epoch 341/500\n",
      "499/499 [==============================] - 0s 60us/step - loss: 0.0659 - accuracy: 0.9820 - binary_accuracy: 0.9820 - val_loss: 0.1105 - val_accuracy: 0.9581 - val_binary_accuracy: 0.9581\n",
      "Epoch 342/500\n",
      "499/499 [==============================] - 0s 58us/step - loss: 0.0490 - accuracy: 0.9860 - binary_accuracy: 0.9860 - val_loss: 0.0170 - val_accuracy: 1.0000 - val_binary_accuracy: 1.0000\n",
      "Epoch 343/500\n",
      "499/499 [==============================] - 0s 76us/step - loss: 0.2464 - accuracy: 0.9138 - binary_accuracy: 0.9138 - val_loss: 0.0878 - val_accuracy: 0.9907 - val_binary_accuracy: 0.9907\n",
      "Epoch 344/500\n",
      "499/499 [==============================] - 0s 70us/step - loss: 0.0447 - accuracy: 0.9920 - binary_accuracy: 0.9920 - val_loss: 0.0269 - val_accuracy: 0.9953 - val_binary_accuracy: 0.9953\n",
      "Epoch 345/500\n",
      "499/499 [==============================] - 0s 62us/step - loss: 0.0638 - accuracy: 0.9820 - binary_accuracy: 0.9820 - val_loss: 0.0210 - val_accuracy: 1.0000 - val_binary_accuracy: 1.0000\n",
      "Epoch 346/500\n",
      "499/499 [==============================] - 0s 61us/step - loss: 0.0696 - accuracy: 0.9780 - binary_accuracy: 0.9780 - val_loss: 0.0210 - val_accuracy: 1.0000 - val_binary_accuracy: 1.0000\n",
      "Epoch 347/500\n",
      "499/499 [==============================] - 0s 64us/step - loss: 0.1596 - accuracy: 0.9479 - binary_accuracy: 0.9479 - val_loss: 0.0841 - val_accuracy: 0.9674 - val_binary_accuracy: 0.9674\n",
      "Epoch 348/500\n",
      "499/499 [==============================] - 0s 57us/step - loss: 0.0653 - accuracy: 0.9780 - binary_accuracy: 0.9780 - val_loss: 0.0518 - val_accuracy: 0.9860 - val_binary_accuracy: 0.9860\n",
      "Epoch 349/500\n",
      "499/499 [==============================] - 0s 60us/step - loss: 0.1127 - accuracy: 0.9659 - binary_accuracy: 0.9659 - val_loss: 0.1205 - val_accuracy: 0.9535 - val_binary_accuracy: 0.9535\n",
      "Epoch 350/500\n",
      "499/499 [==============================] - 0s 69us/step - loss: 0.1110 - accuracy: 0.9639 - binary_accuracy: 0.9639 - val_loss: 0.2276 - val_accuracy: 0.8791 - val_binary_accuracy: 0.8791\n",
      "Epoch 351/500\n",
      "499/499 [==============================] - 0s 64us/step - loss: 0.0502 - accuracy: 0.9820 - binary_accuracy: 0.9820 - val_loss: 0.0210 - val_accuracy: 1.0000 - val_binary_accuracy: 1.0000\n",
      "Epoch 352/500\n",
      "499/499 [==============================] - 0s 67us/step - loss: 0.0723 - accuracy: 0.9719 - binary_accuracy: 0.9719 - val_loss: 0.0199 - val_accuracy: 1.0000 - val_binary_accuracy: 1.0000\n",
      "Epoch 353/500\n",
      "499/499 [==============================] - 0s 65us/step - loss: 0.0918 - accuracy: 0.9679 - binary_accuracy: 0.9679 - val_loss: 0.0303 - val_accuracy: 0.9907 - val_binary_accuracy: 0.9907\n",
      "Epoch 354/500\n",
      "499/499 [==============================] - 0s 69us/step - loss: 0.0502 - accuracy: 0.9840 - binary_accuracy: 0.9840 - val_loss: 0.0188 - val_accuracy: 1.0000 - val_binary_accuracy: 1.0000\n",
      "Epoch 355/500\n",
      "499/499 [==============================] - 0s 78us/step - loss: 0.0311 - accuracy: 0.9940 - binary_accuracy: 0.9940 - val_loss: 0.0167 - val_accuracy: 1.0000 - val_binary_accuracy: 1.0000\n",
      "Epoch 356/500\n",
      "499/499 [==============================] - 0s 62us/step - loss: 0.0331 - accuracy: 0.9900 - binary_accuracy: 0.9900 - val_loss: 0.0155 - val_accuracy: 1.0000 - val_binary_accuracy: 1.0000\n",
      "Epoch 357/500\n",
      "499/499 [==============================] - 0s 63us/step - loss: 0.0749 - accuracy: 0.9760 - binary_accuracy: 0.9760 - val_loss: 0.0143 - val_accuracy: 1.0000 - val_binary_accuracy: 1.0000\n",
      "Epoch 358/500\n",
      "499/499 [==============================] - 0s 66us/step - loss: 0.0487 - accuracy: 0.9900 - binary_accuracy: 0.9900 - val_loss: 0.0140 - val_accuracy: 1.0000 - val_binary_accuracy: 1.0000\n",
      "Epoch 359/500\n",
      "499/499 [==============================] - 0s 71us/step - loss: 0.3339 - accuracy: 0.9138 - binary_accuracy: 0.9138 - val_loss: 0.5075 - val_accuracy: 0.8465 - val_binary_accuracy: 0.8465\n",
      "Epoch 360/500\n",
      "499/499 [==============================] - 0s 60us/step - loss: 0.2190 - accuracy: 0.9339 - binary_accuracy: 0.9339 - val_loss: 0.0499 - val_accuracy: 0.9953 - val_binary_accuracy: 0.9953\n",
      "Epoch 361/500\n",
      "499/499 [==============================] - 0s 65us/step - loss: 0.0912 - accuracy: 0.9739 - binary_accuracy: 0.9739 - val_loss: 0.0440 - val_accuracy: 1.0000 - val_binary_accuracy: 1.0000\n",
      "Epoch 362/500\n",
      "499/499 [==============================] - 0s 68us/step - loss: 0.0480 - accuracy: 0.9900 - binary_accuracy: 0.9900 - val_loss: 0.0361 - val_accuracy: 0.9907 - val_binary_accuracy: 0.9907\n",
      "Epoch 363/500\n",
      "499/499 [==============================] - 0s 61us/step - loss: 0.0927 - accuracy: 0.9780 - binary_accuracy: 0.9780 - val_loss: 0.0375 - val_accuracy: 0.9907 - val_binary_accuracy: 0.9907\n",
      "Epoch 364/500\n",
      "499/499 [==============================] - 0s 62us/step - loss: 0.0498 - accuracy: 0.9820 - binary_accuracy: 0.9820 - val_loss: 0.1109 - val_accuracy: 0.9628 - val_binary_accuracy: 0.9628\n"
     ]
    },
    {
     "name": "stdout",
     "output_type": "stream",
     "text": [
      "Epoch 365/500\n",
      "499/499 [==============================] - 0s 61us/step - loss: 0.0825 - accuracy: 0.9699 - binary_accuracy: 0.9699 - val_loss: 0.0264 - val_accuracy: 1.0000 - val_binary_accuracy: 1.0000\n",
      "Epoch 366/500\n",
      "499/499 [==============================] - 0s 68us/step - loss: 0.1041 - accuracy: 0.9639 - binary_accuracy: 0.9639 - val_loss: 0.0323 - val_accuracy: 0.9907 - val_binary_accuracy: 0.9907\n",
      "Epoch 367/500\n",
      "499/499 [==============================] - 0s 69us/step - loss: 0.0986 - accuracy: 0.9619 - binary_accuracy: 0.9619 - val_loss: 0.3241 - val_accuracy: 0.8465 - val_binary_accuracy: 0.8465\n",
      "Epoch 368/500\n",
      "499/499 [==============================] - 0s 60us/step - loss: 0.0619 - accuracy: 0.9739 - binary_accuracy: 0.9739 - val_loss: 0.0237 - val_accuracy: 1.0000 - val_binary_accuracy: 1.0000\n",
      "Epoch 369/500\n",
      "499/499 [==============================] - 0s 68us/step - loss: 0.0355 - accuracy: 0.9880 - binary_accuracy: 0.9880 - val_loss: 0.0208 - val_accuracy: 0.9953 - val_binary_accuracy: 0.9953\n",
      "Epoch 370/500\n",
      "499/499 [==============================] - 0s 60us/step - loss: 0.2580 - accuracy: 0.9158 - binary_accuracy: 0.9158 - val_loss: 0.0954 - val_accuracy: 0.9674 - val_binary_accuracy: 0.9674\n",
      "Epoch 371/500\n",
      "499/499 [==============================] - 0s 61us/step - loss: 0.0548 - accuracy: 0.9840 - binary_accuracy: 0.9840 - val_loss: 0.0212 - val_accuracy: 1.0000 - val_binary_accuracy: 1.0000\n",
      "Epoch 372/500\n",
      "499/499 [==============================] - 0s 62us/step - loss: 0.0259 - accuracy: 0.9940 - binary_accuracy: 0.9940 - val_loss: 0.0154 - val_accuracy: 1.0000 - val_binary_accuracy: 1.0000\n",
      "Epoch 373/500\n",
      "499/499 [==============================] - 0s 66us/step - loss: 0.1497 - accuracy: 0.9599 - binary_accuracy: 0.9599 - val_loss: 0.0180 - val_accuracy: 1.0000 - val_binary_accuracy: 1.0000\n",
      "Epoch 374/500\n",
      "499/499 [==============================] - 0s 64us/step - loss: 0.1197 - accuracy: 0.9519 - binary_accuracy: 0.9519 - val_loss: 0.0259 - val_accuracy: 1.0000 - val_binary_accuracy: 1.0000\n",
      "Epoch 375/500\n",
      "499/499 [==============================] - 0s 70us/step - loss: 0.0320 - accuracy: 0.9900 - binary_accuracy: 0.9900 - val_loss: 0.0190 - val_accuracy: 1.0000 - val_binary_accuracy: 1.0000\n",
      "Epoch 376/500\n",
      "499/499 [==============================] - 0s 64us/step - loss: 0.1694 - accuracy: 0.9299 - binary_accuracy: 0.9299 - val_loss: 0.0270 - val_accuracy: 0.9953 - val_binary_accuracy: 0.9953\n",
      "Epoch 377/500\n",
      "499/499 [==============================] - 0s 61us/step - loss: 0.0420 - accuracy: 0.9840 - binary_accuracy: 0.9840 - val_loss: 0.0914 - val_accuracy: 0.9535 - val_binary_accuracy: 0.9535\n",
      "Epoch 378/500\n",
      "499/499 [==============================] - 0s 61us/step - loss: 0.0777 - accuracy: 0.9659 - binary_accuracy: 0.9659 - val_loss: 0.0253 - val_accuracy: 1.0000 - val_binary_accuracy: 1.0000\n",
      "Epoch 379/500\n",
      "499/499 [==============================] - 0s 70us/step - loss: 0.0363 - accuracy: 0.9920 - binary_accuracy: 0.9920 - val_loss: 0.0455 - val_accuracy: 0.9907 - val_binary_accuracy: 0.9907\n",
      "Epoch 380/500\n",
      "499/499 [==============================] - 0s 77us/step - loss: 0.0549 - accuracy: 0.9860 - binary_accuracy: 0.9860 - val_loss: 0.0177 - val_accuracy: 1.0000 - val_binary_accuracy: 1.0000\n",
      "Epoch 381/500\n",
      "499/499 [==============================] - 0s 63us/step - loss: 0.0553 - accuracy: 0.9780 - binary_accuracy: 0.9780 - val_loss: 0.0795 - val_accuracy: 0.9535 - val_binary_accuracy: 0.9535\n",
      "Epoch 382/500\n",
      "499/499 [==============================] - 0s 65us/step - loss: 0.1819 - accuracy: 0.9279 - binary_accuracy: 0.9279 - val_loss: 1.5428 - val_accuracy: 0.5488 - val_binary_accuracy: 0.5488\n",
      "Epoch 383/500\n",
      "499/499 [==============================] - 0s 65us/step - loss: 0.1278 - accuracy: 0.9639 - binary_accuracy: 0.9639 - val_loss: 0.0300 - val_accuracy: 0.9953 - val_binary_accuracy: 0.9953\n",
      "Epoch 384/500\n",
      "499/499 [==============================] - 0s 61us/step - loss: 0.0435 - accuracy: 0.9900 - binary_accuracy: 0.9900 - val_loss: 0.0284 - val_accuracy: 0.9907 - val_binary_accuracy: 0.9907\n",
      "Epoch 385/500\n",
      "499/499 [==============================] - 0s 70us/step - loss: 0.0574 - accuracy: 0.9780 - binary_accuracy: 0.9780 - val_loss: 0.0194 - val_accuracy: 1.0000 - val_binary_accuracy: 1.0000\n",
      "Epoch 386/500\n",
      "499/499 [==============================] - 0s 64us/step - loss: 0.1331 - accuracy: 0.9599 - binary_accuracy: 0.9599 - val_loss: 0.0538 - val_accuracy: 0.9907 - val_binary_accuracy: 0.9907\n",
      "Epoch 387/500\n",
      "499/499 [==============================] - 0s 67us/step - loss: 0.0544 - accuracy: 0.9880 - binary_accuracy: 0.9880 - val_loss: 0.0267 - val_accuracy: 0.9907 - val_binary_accuracy: 0.9907\n",
      "Epoch 388/500\n",
      "499/499 [==============================] - 0s 66us/step - loss: 0.0610 - accuracy: 0.9840 - binary_accuracy: 0.9840 - val_loss: 0.0200 - val_accuracy: 0.9907 - val_binary_accuracy: 0.9907\n",
      "Epoch 389/500\n",
      "499/499 [==============================] - 0s 65us/step - loss: 0.0447 - accuracy: 0.9820 - binary_accuracy: 0.9820 - val_loss: 0.0198 - val_accuracy: 1.0000 - val_binary_accuracy: 1.0000\n",
      "Epoch 390/500\n",
      "499/499 [==============================] - 0s 65us/step - loss: 0.1362 - accuracy: 0.9499 - binary_accuracy: 0.9499 - val_loss: 0.0221 - val_accuracy: 0.9953 - val_binary_accuracy: 0.9953\n",
      "Epoch 391/500\n",
      "499/499 [==============================] - 0s 65us/step - loss: 0.0505 - accuracy: 0.9860 - binary_accuracy: 0.9860 - val_loss: 0.0183 - val_accuracy: 1.0000 - val_binary_accuracy: 1.0000\n",
      "Epoch 392/500\n",
      "499/499 [==============================] - 0s 73us/step - loss: 0.0579 - accuracy: 0.9840 - binary_accuracy: 0.9840 - val_loss: 0.0239 - val_accuracy: 0.9860 - val_binary_accuracy: 0.9860\n",
      "Epoch 393/500\n",
      "499/499 [==============================] - 0s 66us/step - loss: 0.0757 - accuracy: 0.9699 - binary_accuracy: 0.9699 - val_loss: 0.0260 - val_accuracy: 0.9814 - val_binary_accuracy: 0.9814\n",
      "Epoch 394/500\n",
      "499/499 [==============================] - 0s 62us/step - loss: 0.1555 - accuracy: 0.9479 - binary_accuracy: 0.9479 - val_loss: 0.3720 - val_accuracy: 0.8930 - val_binary_accuracy: 0.8930\n",
      "Epoch 395/500\n",
      "499/499 [==============================] - 0s 75us/step - loss: 0.1298 - accuracy: 0.9579 - binary_accuracy: 0.9579 - val_loss: 0.0226 - val_accuracy: 0.9953 - val_binary_accuracy: 0.9953\n",
      "Epoch 396/500\n",
      "499/499 [==============================] - 0s 69us/step - loss: 0.0396 - accuracy: 0.9900 - binary_accuracy: 0.9900 - val_loss: 0.0217 - val_accuracy: 0.9907 - val_binary_accuracy: 0.9907\n",
      "Epoch 397/500\n",
      "499/499 [==============================] - 0s 68us/step - loss: 0.0637 - accuracy: 0.9780 - binary_accuracy: 0.9780 - val_loss: 0.0274 - val_accuracy: 0.9953 - val_binary_accuracy: 0.9953\n",
      "Epoch 398/500\n",
      "499/499 [==============================] - 0s 70us/step - loss: 0.0792 - accuracy: 0.9760 - binary_accuracy: 0.9760 - val_loss: 0.0207 - val_accuracy: 0.9907 - val_binary_accuracy: 0.9907\n",
      "Epoch 399/500\n",
      "499/499 [==============================] - 0s 63us/step - loss: 0.1011 - accuracy: 0.9739 - binary_accuracy: 0.9739 - val_loss: 0.0224 - val_accuracy: 1.0000 - val_binary_accuracy: 1.0000\n",
      "Epoch 400/500\n",
      "499/499 [==============================] - 0s 64us/step - loss: 0.0289 - accuracy: 0.9900 - binary_accuracy: 0.9900 - val_loss: 0.0176 - val_accuracy: 0.9953 - val_binary_accuracy: 0.9953\n",
      "Epoch 401/500\n",
      "499/499 [==============================] - 0s 56us/step - loss: 0.0234 - accuracy: 0.9940 - binary_accuracy: 0.9940 - val_loss: 0.0159 - val_accuracy: 1.0000 - val_binary_accuracy: 1.0000\n",
      "Epoch 402/500\n",
      "499/499 [==============================] - 0s 77us/step - loss: 0.0709 - accuracy: 0.9760 - binary_accuracy: 0.9760 - val_loss: 0.0144 - val_accuracy: 1.0000 - val_binary_accuracy: 1.0000\n",
      "Epoch 403/500\n",
      "499/499 [==============================] - 0s 60us/step - loss: 0.0390 - accuracy: 0.9860 - binary_accuracy: 0.9860 - val_loss: 0.0547 - val_accuracy: 0.9860 - val_binary_accuracy: 0.9860\n",
      "Epoch 404/500\n",
      "499/499 [==============================] - 0s 63us/step - loss: 0.1222 - accuracy: 0.9619 - binary_accuracy: 0.9619 - val_loss: 0.1064 - val_accuracy: 0.9442 - val_binary_accuracy: 0.9442\n",
      "Epoch 405/500\n"
     ]
    },
    {
     "name": "stdout",
     "output_type": "stream",
     "text": [
      "499/499 [==============================] - 0s 64us/step - loss: 0.0466 - accuracy: 0.9780 - binary_accuracy: 0.9780 - val_loss: 0.0193 - val_accuracy: 0.9907 - val_binary_accuracy: 0.9907\n",
      "Epoch 406/500\n",
      "499/499 [==============================] - 0s 62us/step - loss: 0.0311 - accuracy: 0.9920 - binary_accuracy: 0.9920 - val_loss: 0.2157 - val_accuracy: 0.9256 - val_binary_accuracy: 0.9256\n",
      "Epoch 407/500\n",
      "499/499 [==============================] - 0s 59us/step - loss: 0.1382 - accuracy: 0.9499 - binary_accuracy: 0.9499 - val_loss: 0.2719 - val_accuracy: 0.9116 - val_binary_accuracy: 0.9116\n",
      "Epoch 408/500\n",
      "499/499 [==============================] - 0s 62us/step - loss: 0.0673 - accuracy: 0.9739 - binary_accuracy: 0.9739 - val_loss: 0.0248 - val_accuracy: 1.0000 - val_binary_accuracy: 1.0000\n",
      "Epoch 409/500\n",
      "499/499 [==============================] - 0s 72us/step - loss: 0.0475 - accuracy: 0.9880 - binary_accuracy: 0.9880 - val_loss: 0.0184 - val_accuracy: 1.0000 - val_binary_accuracy: 1.0000\n",
      "Epoch 410/500\n",
      "499/499 [==============================] - 0s 66us/step - loss: 0.0495 - accuracy: 0.9840 - binary_accuracy: 0.9840 - val_loss: 0.0189 - val_accuracy: 0.9907 - val_binary_accuracy: 0.9907\n",
      "Epoch 411/500\n",
      "499/499 [==============================] - 0s 63us/step - loss: 0.0273 - accuracy: 0.9920 - binary_accuracy: 0.9920 - val_loss: 0.0150 - val_accuracy: 1.0000 - val_binary_accuracy: 1.0000\n",
      "Epoch 412/500\n",
      "499/499 [==============================] - 0s 58us/step - loss: 0.0408 - accuracy: 0.9880 - binary_accuracy: 0.9880 - val_loss: 0.0123 - val_accuracy: 1.0000 - val_binary_accuracy: 1.0000\n",
      "Epoch 413/500\n",
      "499/499 [==============================] - 0s 64us/step - loss: 0.0970 - accuracy: 0.9659 - binary_accuracy: 0.9659 - val_loss: 0.0430 - val_accuracy: 0.9814 - val_binary_accuracy: 0.9814\n",
      "Epoch 414/500\n",
      "499/499 [==============================] - 0s 59us/step - loss: 0.0340 - accuracy: 0.9880 - binary_accuracy: 0.9880 - val_loss: 0.0142 - val_accuracy: 1.0000 - val_binary_accuracy: 1.0000\n",
      "Epoch 415/500\n",
      "499/499 [==============================] - 0s 56us/step - loss: 0.0207 - accuracy: 0.9960 - binary_accuracy: 0.9960 - val_loss: 0.0141 - val_accuracy: 0.9953 - val_binary_accuracy: 0.9953\n",
      "Epoch 416/500\n",
      "499/499 [==============================] - 0s 66us/step - loss: 0.2653 - accuracy: 0.9218 - binary_accuracy: 0.9218 - val_loss: 0.0345 - val_accuracy: 0.9953 - val_binary_accuracy: 0.9953\n",
      "Epoch 417/500\n",
      "499/499 [==============================] - 0s 60us/step - loss: 0.0311 - accuracy: 0.9980 - binary_accuracy: 0.9980 - val_loss: 0.0185 - val_accuracy: 1.0000 - val_binary_accuracy: 1.0000\n",
      "Epoch 418/500\n",
      "499/499 [==============================] - 0s 64us/step - loss: 0.0438 - accuracy: 0.9900 - binary_accuracy: 0.9900 - val_loss: 0.0134 - val_accuracy: 1.0000 - val_binary_accuracy: 1.0000\n",
      "Epoch 419/500\n",
      "499/499 [==============================] - 0s 55us/step - loss: 0.2127 - accuracy: 0.9299 - binary_accuracy: 0.9299 - val_loss: 0.0432 - val_accuracy: 0.9907 - val_binary_accuracy: 0.9907\n",
      "Epoch 420/500\n",
      "499/499 [==============================] - 0s 63us/step - loss: 0.0749 - accuracy: 0.9719 - binary_accuracy: 0.9719 - val_loss: 0.0240 - val_accuracy: 0.9953 - val_binary_accuracy: 0.9953\n",
      "Epoch 421/500\n",
      "499/499 [==============================] - 0s 59us/step - loss: 0.0333 - accuracy: 0.9920 - binary_accuracy: 0.9920 - val_loss: 0.0175 - val_accuracy: 1.0000 - val_binary_accuracy: 1.0000\n",
      "Epoch 422/500\n",
      "499/499 [==============================] - 0s 55us/step - loss: 0.0638 - accuracy: 0.9719 - binary_accuracy: 0.9719 - val_loss: 0.1359 - val_accuracy: 0.9581 - val_binary_accuracy: 0.9581\n",
      "Epoch 423/500\n",
      "499/499 [==============================] - 0s 57us/step - loss: 0.0559 - accuracy: 0.9820 - binary_accuracy: 0.9820 - val_loss: 0.0154 - val_accuracy: 1.0000 - val_binary_accuracy: 1.0000\n",
      "Epoch 424/500\n",
      "499/499 [==============================] - 0s 62us/step - loss: 0.0412 - accuracy: 0.9840 - binary_accuracy: 0.9840 - val_loss: 0.0142 - val_accuracy: 1.0000 - val_binary_accuracy: 1.0000\n",
      "Epoch 425/500\n",
      "499/499 [==============================] - 0s 64us/step - loss: 0.1342 - accuracy: 0.9579 - binary_accuracy: 0.9579 - val_loss: 0.0706 - val_accuracy: 0.9814 - val_binary_accuracy: 0.9814\n",
      "Epoch 426/500\n",
      "499/499 [==============================] - 0s 57us/step - loss: 0.0346 - accuracy: 0.9940 - binary_accuracy: 0.9940 - val_loss: 0.0129 - val_accuracy: 1.0000 - val_binary_accuracy: 1.0000\n",
      "Epoch 427/500\n",
      "499/499 [==============================] - 0s 65us/step - loss: 0.0524 - accuracy: 0.9840 - binary_accuracy: 0.9840 - val_loss: 0.0165 - val_accuracy: 1.0000 - val_binary_accuracy: 1.0000\n",
      "Epoch 428/500\n",
      "499/499 [==============================] - 0s 93us/step - loss: 0.0522 - accuracy: 0.9860 - binary_accuracy: 0.9860 - val_loss: 0.0202 - val_accuracy: 1.0000 - val_binary_accuracy: 1.0000\n",
      "Epoch 429/500\n",
      "499/499 [==============================] - 0s 78us/step - loss: 0.0312 - accuracy: 0.9900 - binary_accuracy: 0.9900 - val_loss: 0.0586 - val_accuracy: 0.9814 - val_binary_accuracy: 0.9814\n",
      "Epoch 430/500\n",
      "499/499 [==============================] - 0s 65us/step - loss: 0.1067 - accuracy: 0.9699 - binary_accuracy: 0.9699 - val_loss: 0.0621 - val_accuracy: 0.9814 - val_binary_accuracy: 0.9814\n",
      "Epoch 431/500\n",
      "499/499 [==============================] - 0s 69us/step - loss: 0.1806 - accuracy: 0.9379 - binary_accuracy: 0.9379 - val_loss: 0.0337 - val_accuracy: 0.9907 - val_binary_accuracy: 0.9907\n",
      "Epoch 432/500\n",
      "499/499 [==============================] - 0s 66us/step - loss: 0.0438 - accuracy: 0.9840 - binary_accuracy: 0.9840 - val_loss: 0.0202 - val_accuracy: 0.9953 - val_binary_accuracy: 0.9953\n",
      "Epoch 433/500\n",
      "499/499 [==============================] - 0s 65us/step - loss: 0.0451 - accuracy: 0.9880 - binary_accuracy: 0.9880 - val_loss: 0.0793 - val_accuracy: 0.9767 - val_binary_accuracy: 0.9767\n",
      "Epoch 434/500\n",
      "499/499 [==============================] - 0s 66us/step - loss: 0.0645 - accuracy: 0.9780 - binary_accuracy: 0.9780 - val_loss: 0.0164 - val_accuracy: 1.0000 - val_binary_accuracy: 1.0000\n",
      "Epoch 435/500\n",
      "499/499 [==============================] - 0s 75us/step - loss: 0.1274 - accuracy: 0.9619 - binary_accuracy: 0.9619 - val_loss: 0.0688 - val_accuracy: 0.9721 - val_binary_accuracy: 0.9721\n",
      "Epoch 436/500\n",
      "499/499 [==============================] - 0s 70us/step - loss: 0.0985 - accuracy: 0.9639 - binary_accuracy: 0.9639 - val_loss: 0.0245 - val_accuracy: 1.0000 - val_binary_accuracy: 1.0000\n",
      "Epoch 437/500\n",
      "499/499 [==============================] - 0s 66us/step - loss: 0.0374 - accuracy: 0.9860 - binary_accuracy: 0.9860 - val_loss: 0.0174 - val_accuracy: 1.0000 - val_binary_accuracy: 1.0000\n",
      "Epoch 438/500\n",
      "499/499 [==============================] - 0s 60us/step - loss: 0.0515 - accuracy: 0.9840 - binary_accuracy: 0.9840 - val_loss: 0.0188 - val_accuracy: 0.9953 - val_binary_accuracy: 0.9953\n",
      "Epoch 439/500\n",
      "499/499 [==============================] - 0s 70us/step - loss: 0.0826 - accuracy: 0.9719 - binary_accuracy: 0.9719 - val_loss: 1.4074 - val_accuracy: 0.6977 - val_binary_accuracy: 0.6977\n",
      "Epoch 440/500\n",
      "499/499 [==============================] - 0s 64us/step - loss: 0.0740 - accuracy: 0.9780 - binary_accuracy: 0.9780 - val_loss: 0.0165 - val_accuracy: 1.0000 - val_binary_accuracy: 1.0000\n",
      "Epoch 441/500\n",
      "499/499 [==============================] - 0s 62us/step - loss: 0.1028 - accuracy: 0.9639 - binary_accuracy: 0.9639 - val_loss: 0.0186 - val_accuracy: 1.0000 - val_binary_accuracy: 1.0000\n",
      "Epoch 442/500\n",
      "499/499 [==============================] - 0s 58us/step - loss: 0.0487 - accuracy: 0.9880 - binary_accuracy: 0.9880 - val_loss: 0.0504 - val_accuracy: 0.9907 - val_binary_accuracy: 0.9907\n",
      "Epoch 443/500\n",
      "499/499 [==============================] - 0s 63us/step - loss: 0.0365 - accuracy: 0.9880 - binary_accuracy: 0.9880 - val_loss: 0.0554 - val_accuracy: 0.9814 - val_binary_accuracy: 0.9814\n",
      "Epoch 444/500\n",
      "499/499 [==============================] - 0s 59us/step - loss: 0.1028 - accuracy: 0.9679 - binary_accuracy: 0.9679 - val_loss: 0.0904 - val_accuracy: 0.9721 - val_binary_accuracy: 0.9721\n",
      "Epoch 445/500\n",
      "499/499 [==============================] - 0s 57us/step - loss: 0.0501 - accuracy: 0.9860 - binary_accuracy: 0.9860 - val_loss: 0.0130 - val_accuracy: 1.0000 - val_binary_accuracy: 1.0000\n"
     ]
    },
    {
     "name": "stdout",
     "output_type": "stream",
     "text": [
      "Epoch 446/500\n",
      "499/499 [==============================] - 0s 52us/step - loss: 0.0377 - accuracy: 0.9860 - binary_accuracy: 0.9860 - val_loss: 0.0114 - val_accuracy: 1.0000 - val_binary_accuracy: 1.0000\n",
      "Epoch 447/500\n",
      "499/499 [==============================] - 0s 74us/step - loss: 0.0163 - accuracy: 1.0000 - binary_accuracy: 1.0000 - val_loss: 0.0579 - val_accuracy: 0.9814 - val_binary_accuracy: 0.9814\n",
      "Epoch 448/500\n",
      "499/499 [==============================] - 0s 57us/step - loss: 0.1313 - accuracy: 0.9599 - binary_accuracy: 0.9599 - val_loss: 0.0476 - val_accuracy: 0.9860 - val_binary_accuracy: 0.9860\n",
      "Epoch 449/500\n",
      "499/499 [==============================] - 0s 69us/step - loss: 0.0605 - accuracy: 0.9760 - binary_accuracy: 0.9760 - val_loss: 0.0304 - val_accuracy: 0.9907 - val_binary_accuracy: 0.9907\n",
      "Epoch 450/500\n",
      "499/499 [==============================] - 0s 58us/step - loss: 0.0248 - accuracy: 0.9940 - binary_accuracy: 0.9940 - val_loss: 0.0135 - val_accuracy: 1.0000 - val_binary_accuracy: 1.0000\n",
      "Epoch 451/500\n",
      "499/499 [==============================] - 0s 70us/step - loss: 0.0733 - accuracy: 0.9739 - binary_accuracy: 0.9739 - val_loss: 0.0117 - val_accuracy: 1.0000 - val_binary_accuracy: 1.0000\n",
      "Epoch 452/500\n",
      "499/499 [==============================] - 0s 57us/step - loss: 0.1905 - accuracy: 0.9379 - binary_accuracy: 0.9379 - val_loss: 0.0236 - val_accuracy: 0.9907 - val_binary_accuracy: 0.9907\n",
      "Epoch 453/500\n",
      "499/499 [==============================] - 0s 61us/step - loss: 0.0284 - accuracy: 0.9960 - binary_accuracy: 0.9960 - val_loss: 0.0164 - val_accuracy: 1.0000 - val_binary_accuracy: 1.0000\n",
      "Epoch 454/500\n",
      "499/499 [==============================] - 0s 59us/step - loss: 0.0266 - accuracy: 0.9980 - binary_accuracy: 0.9980 - val_loss: 0.0362 - val_accuracy: 0.9907 - val_binary_accuracy: 0.9907\n",
      "Epoch 455/500\n",
      "499/499 [==============================] - 0s 72us/step - loss: 0.1451 - accuracy: 0.9619 - binary_accuracy: 0.9619 - val_loss: 0.0132 - val_accuracy: 1.0000 - val_binary_accuracy: 1.0000\n",
      "Epoch 456/500\n",
      "499/499 [==============================] - 0s 63us/step - loss: 0.0328 - accuracy: 0.9880 - binary_accuracy: 0.9880 - val_loss: 0.3793 - val_accuracy: 0.8419 - val_binary_accuracy: 0.8419\n",
      "Epoch 457/500\n",
      "499/499 [==============================] - 0s 78us/step - loss: 0.0893 - accuracy: 0.9679 - binary_accuracy: 0.9679 - val_loss: 0.0260 - val_accuracy: 0.9907 - val_binary_accuracy: 0.9907\n",
      "Epoch 458/500\n",
      "499/499 [==============================] - 0s 64us/step - loss: 0.0252 - accuracy: 0.9960 - binary_accuracy: 0.9960 - val_loss: 0.0236 - val_accuracy: 0.9907 - val_binary_accuracy: 0.9907\n",
      "Epoch 459/500\n",
      "499/499 [==============================] - 0s 55us/step - loss: 0.0712 - accuracy: 0.9760 - binary_accuracy: 0.9760 - val_loss: 0.0143 - val_accuracy: 1.0000 - val_binary_accuracy: 1.0000\n",
      "Epoch 460/500\n",
      "499/499 [==============================] - 0s 59us/step - loss: 0.0262 - accuracy: 0.9900 - binary_accuracy: 0.9900 - val_loss: 0.0120 - val_accuracy: 1.0000 - val_binary_accuracy: 1.0000\n",
      "Epoch 461/500\n",
      "499/499 [==============================] - 0s 67us/step - loss: 0.0910 - accuracy: 0.9659 - binary_accuracy: 0.9659 - val_loss: 0.0148 - val_accuracy: 1.0000 - val_binary_accuracy: 1.0000\n",
      "Epoch 462/500\n",
      "499/499 [==============================] - 0s 63us/step - loss: 0.0735 - accuracy: 0.9860 - binary_accuracy: 0.9860 - val_loss: 0.1825 - val_accuracy: 0.9256 - val_binary_accuracy: 0.9256\n",
      "Epoch 463/500\n",
      "499/499 [==============================] - 0s 65us/step - loss: 0.0781 - accuracy: 0.9739 - binary_accuracy: 0.9739 - val_loss: 0.0154 - val_accuracy: 1.0000 - val_binary_accuracy: 1.0000\n",
      "Epoch 464/500\n",
      "499/499 [==============================] - 0s 64us/step - loss: 0.0254 - accuracy: 0.9940 - binary_accuracy: 0.9940 - val_loss: 0.0120 - val_accuracy: 1.0000 - val_binary_accuracy: 1.0000\n",
      "Epoch 465/500\n",
      "499/499 [==============================] - 0s 54us/step - loss: 0.0220 - accuracy: 0.9940 - binary_accuracy: 0.9940 - val_loss: 0.0104 - val_accuracy: 1.0000 - val_binary_accuracy: 1.0000\n",
      "Epoch 466/500\n",
      "499/499 [==============================] - 0s 61us/step - loss: 0.0801 - accuracy: 0.9719 - binary_accuracy: 0.9719 - val_loss: 0.0097 - val_accuracy: 1.0000 - val_binary_accuracy: 1.0000\n",
      "Epoch 467/500\n",
      "499/499 [==============================] - 0s 62us/step - loss: 0.0553 - accuracy: 0.9820 - binary_accuracy: 0.9820 - val_loss: 0.0104 - val_accuracy: 1.0000 - val_binary_accuracy: 1.0000\n",
      "Epoch 468/500\n",
      "499/499 [==============================] - 0s 58us/step - loss: 0.0594 - accuracy: 0.9840 - binary_accuracy: 0.9840 - val_loss: 0.1879 - val_accuracy: 0.9302 - val_binary_accuracy: 0.9302\n",
      "Epoch 469/500\n",
      "499/499 [==============================] - 0s 62us/step - loss: 0.0476 - accuracy: 0.9820 - binary_accuracy: 0.9820 - val_loss: 0.0589 - val_accuracy: 0.9814 - val_binary_accuracy: 0.9814\n",
      "Epoch 470/500\n",
      "499/499 [==============================] - 0s 62us/step - loss: 0.1287 - accuracy: 0.9579 - binary_accuracy: 0.9579 - val_loss: 0.0138 - val_accuracy: 1.0000 - val_binary_accuracy: 1.0000\n",
      "Epoch 471/500\n",
      "499/499 [==============================] - 0s 69us/step - loss: 0.0332 - accuracy: 0.9900 - binary_accuracy: 0.9900 - val_loss: 0.0104 - val_accuracy: 1.0000 - val_binary_accuracy: 1.0000\n",
      "Epoch 472/500\n",
      "499/499 [==============================] - 0s 68us/step - loss: 0.0355 - accuracy: 0.9900 - binary_accuracy: 0.9900 - val_loss: 0.0103 - val_accuracy: 1.0000 - val_binary_accuracy: 1.0000\n",
      "Epoch 473/500\n",
      "499/499 [==============================] - 0s 71us/step - loss: 0.0801 - accuracy: 0.9739 - binary_accuracy: 0.9739 - val_loss: 0.1497 - val_accuracy: 0.9535 - val_binary_accuracy: 0.9535\n",
      "Epoch 474/500\n",
      "499/499 [==============================] - 0s 67us/step - loss: 0.1178 - accuracy: 0.9559 - binary_accuracy: 0.9559 - val_loss: 0.0160 - val_accuracy: 1.0000 - val_binary_accuracy: 1.0000\n",
      "Epoch 475/500\n",
      "499/499 [==============================] - 0s 65us/step - loss: 0.0356 - accuracy: 0.9880 - binary_accuracy: 0.9880 - val_loss: 0.0191 - val_accuracy: 1.0000 - val_binary_accuracy: 1.0000\n",
      "Epoch 476/500\n",
      "499/499 [==============================] - 0s 62us/step - loss: 0.0782 - accuracy: 0.9780 - binary_accuracy: 0.9780 - val_loss: 0.0317 - val_accuracy: 0.9907 - val_binary_accuracy: 0.9907\n",
      "Epoch 477/500\n",
      "499/499 [==============================] - 0s 63us/step - loss: 0.0391 - accuracy: 0.9860 - binary_accuracy: 0.9860 - val_loss: 0.1678 - val_accuracy: 0.9209 - val_binary_accuracy: 0.9209\n",
      "Epoch 478/500\n",
      "499/499 [==============================] - 0s 54us/step - loss: 0.0591 - accuracy: 0.9840 - binary_accuracy: 0.9840 - val_loss: 0.0119 - val_accuracy: 1.0000 - val_binary_accuracy: 1.0000\n",
      "Epoch 479/500\n",
      "499/499 [==============================] - 0s 63us/step - loss: 0.0296 - accuracy: 0.9920 - binary_accuracy: 0.9920 - val_loss: 0.0096 - val_accuracy: 1.0000 - val_binary_accuracy: 1.0000\n",
      "Epoch 480/500\n",
      "499/499 [==============================] - 0s 52us/step - loss: 0.1218 - accuracy: 0.9619 - binary_accuracy: 0.9619 - val_loss: 0.0207 - val_accuracy: 0.9907 - val_binary_accuracy: 0.9907\n",
      "Epoch 481/500\n",
      "499/499 [==============================] - 0s 59us/step - loss: 0.0566 - accuracy: 0.9780 - binary_accuracy: 0.9780 - val_loss: 0.1496 - val_accuracy: 0.9256 - val_binary_accuracy: 0.9256\n",
      "Epoch 482/500\n",
      "499/499 [==============================] - 0s 63us/step - loss: 0.0406 - accuracy: 0.9860 - binary_accuracy: 0.9860 - val_loss: 0.1594 - val_accuracy: 0.9256 - val_binary_accuracy: 0.9256\n",
      "Epoch 483/500\n",
      "499/499 [==============================] - 0s 61us/step - loss: 0.0392 - accuracy: 0.9900 - binary_accuracy: 0.9900 - val_loss: 0.0107 - val_accuracy: 1.0000 - val_binary_accuracy: 1.0000\n",
      "Epoch 484/500\n",
      "499/499 [==============================] - 0s 66us/step - loss: 0.0233 - accuracy: 0.9960 - binary_accuracy: 0.9960 - val_loss: 0.0344 - val_accuracy: 0.9907 - val_binary_accuracy: 0.9907\n",
      "Epoch 485/500\n",
      "499/499 [==============================] - 0s 61us/step - loss: 0.0730 - accuracy: 0.9840 - binary_accuracy: 0.9840 - val_loss: 0.0136 - val_accuracy: 1.0000 - val_binary_accuracy: 1.0000\n",
      "Epoch 486/500\n"
     ]
    },
    {
     "name": "stdout",
     "output_type": "stream",
     "text": [
      "499/499 [==============================] - 0s 66us/step - loss: 0.0303 - accuracy: 0.9940 - binary_accuracy: 0.9940 - val_loss: 0.0154 - val_accuracy: 1.0000 - val_binary_accuracy: 1.0000\n",
      "Epoch 487/500\n",
      "499/499 [==============================] - 0s 58us/step - loss: 0.0968 - accuracy: 0.9679 - binary_accuracy: 0.9679 - val_loss: 0.0110 - val_accuracy: 1.0000 - val_binary_accuracy: 1.0000\n",
      "Epoch 488/500\n",
      "499/499 [==============================] - 0s 67us/step - loss: 0.0857 - accuracy: 0.9679 - binary_accuracy: 0.9679 - val_loss: 0.0121 - val_accuracy: 1.0000 - val_binary_accuracy: 1.0000\n",
      "Epoch 489/500\n",
      "499/499 [==============================] - 0s 57us/step - loss: 0.0733 - accuracy: 0.9820 - binary_accuracy: 0.9820 - val_loss: 0.0476 - val_accuracy: 0.9860 - val_binary_accuracy: 0.9860\n",
      "Epoch 490/500\n",
      "499/499 [==============================] - 0s 60us/step - loss: 0.0597 - accuracy: 0.9800 - binary_accuracy: 0.9800 - val_loss: 0.0179 - val_accuracy: 1.0000 - val_binary_accuracy: 1.0000\n",
      "Epoch 491/500\n",
      "499/499 [==============================] - 0s 64us/step - loss: 0.0799 - accuracy: 0.9719 - binary_accuracy: 0.9719 - val_loss: 0.0187 - val_accuracy: 0.9953 - val_binary_accuracy: 0.9953\n",
      "Epoch 492/500\n",
      "499/499 [==============================] - 0s 57us/step - loss: 0.0909 - accuracy: 0.9760 - binary_accuracy: 0.9760 - val_loss: 0.0236 - val_accuracy: 0.9907 - val_binary_accuracy: 0.9907\n",
      "Epoch 493/500\n",
      "499/499 [==============================] - 0s 61us/step - loss: 0.0183 - accuracy: 0.9980 - binary_accuracy: 0.9980 - val_loss: 0.1168 - val_accuracy: 0.9395 - val_binary_accuracy: 0.9395\n",
      "Epoch 494/500\n",
      "499/499 [==============================] - 0s 73us/step - loss: 0.1065 - accuracy: 0.9699 - binary_accuracy: 0.9699 - val_loss: 0.0118 - val_accuracy: 1.0000 - val_binary_accuracy: 1.0000\n",
      "Epoch 495/500\n",
      "499/499 [==============================] - 0s 56us/step - loss: 0.1113 - accuracy: 0.9639 - binary_accuracy: 0.9639 - val_loss: 0.0167 - val_accuracy: 0.9953 - val_binary_accuracy: 0.9953\n",
      "Epoch 496/500\n",
      "499/499 [==============================] - 0s 75us/step - loss: 0.0363 - accuracy: 0.9860 - binary_accuracy: 0.9860 - val_loss: 0.0152 - val_accuracy: 1.0000 - val_binary_accuracy: 1.0000\n",
      "Epoch 497/500\n",
      "499/499 [==============================] - 0s 61us/step - loss: 0.0413 - accuracy: 0.9880 - binary_accuracy: 0.9880 - val_loss: 0.0106 - val_accuracy: 1.0000 - val_binary_accuracy: 1.0000\n",
      "Epoch 498/500\n",
      "499/499 [==============================] - 0s 54us/step - loss: 0.1498 - accuracy: 0.9539 - binary_accuracy: 0.9539 - val_loss: 0.0245 - val_accuracy: 1.0000 - val_binary_accuracy: 1.0000\n",
      "Epoch 499/500\n",
      "499/499 [==============================] - 0s 74us/step - loss: 0.0273 - accuracy: 0.9960 - binary_accuracy: 0.9960 - val_loss: 0.0307 - val_accuracy: 0.9907 - val_binary_accuracy: 0.9907\n",
      "Epoch 500/500\n",
      "499/499 [==============================] - 0s 60us/step - loss: 0.0263 - accuracy: 0.9940 - binary_accuracy: 0.9940 - val_loss: 0.0106 - val_accuracy: 1.0000 - val_binary_accuracy: 1.0000\n"
     ]
    },
    {
     "data": {
      "text/plain": [
       "<keras.callbacks.callbacks.History at 0x155427410>"
      ]
     },
     "execution_count": 83,
     "metadata": {},
     "output_type": "execute_result"
    }
   ],
   "source": [
    "model.fit(X_train,\n",
    "          y_train,\n",
    "          epochs=500,\n",
    "          batch_size=20,\n",
    "          validation_data=(X_test, y_test))"
   ]
  },
  {
   "cell_type": "code",
   "execution_count": 84,
   "metadata": {},
   "outputs": [],
   "source": [
    "history = _"
   ]
  },
  {
   "cell_type": "code",
   "execution_count": 85,
   "metadata": {},
   "outputs": [
    {
     "data": {
      "text/plain": [
       "keras.callbacks.callbacks.History"
      ]
     },
     "execution_count": 85,
     "metadata": {},
     "output_type": "execute_result"
    }
   ],
   "source": [
    "type(history)"
   ]
  },
  {
   "cell_type": "code",
   "execution_count": 90,
   "metadata": {},
   "outputs": [
    {
     "data": {
      "text/plain": [
       "{'batch_size': 20,\n",
       " 'epochs': 500,\n",
       " 'steps': None,\n",
       " 'samples': 499,\n",
       " 'verbose': 1,\n",
       " 'do_validation': True,\n",
       " 'metrics': ['loss',\n",
       "  'accuracy',\n",
       "  'binary_accuracy',\n",
       "  'val_loss',\n",
       "  'val_accuracy',\n",
       "  'val_binary_accuracy']}"
      ]
     },
     "execution_count": 90,
     "metadata": {},
     "output_type": "execute_result"
    }
   ],
   "source": [
    "history.params"
   ]
  },
  {
   "cell_type": "code",
   "execution_count": 92,
   "metadata": {},
   "outputs": [
    {
     "data": {
      "image/png": "[encoded data removed]",
      "text/plain": [
       "<Figure size 432x288 with 1 Axes>"
      ]
     },
     "metadata": {
      "needs_background": "light"
     },
     "output_type": "display_data"
    },
    {
     "data": {
      "image/png": "[encoded data removed]",
      "text/plain": [
       "<Figure size 432x288 with 1 Axes>"
      ]
     },
     "metadata": {
      "needs_background": "light"
     },
     "output_type": "display_data"
    }
   ],
   "source": [
    "import matplotlib.pyplot as plt\n",
    "%matplotlib inline\n",
    "\n",
    "plt.plot(history.history['accuracy'])\n",
    "plt.plot(history.history['val_accuracy'])\n",
    "plt.title('Model accuracy')\n",
    "plt.ylabel('Accuracy')\n",
    "plt.xlabel('Epoch')\n",
    "plt.legend(['Train', 'Test'], loc='upper left')\n",
    "plt.show()\n",
    "\n",
    "# Plot training & validation loss values\n",
    "plt.plot(history.history['loss'])\n",
    "plt.plot(history.history['val_loss'])\n",
    "plt.title('Model loss')\n",
    "plt.ylabel('Loss')\n",
    "plt.xlabel('Epoch')\n",
    "plt.legend(['Train', 'Test'], loc='upper left')\n",
    "plt.show()"
   ]
  },
  {
   "cell_type": "code",
   "execution_count": null,
   "metadata": {},
   "outputs": [],
   "source": []
  },
  {
   "cell_type": "code",
   "execution_count": 104,
   "metadata": {},
   "outputs": [
    {
     "data": {
      "text/plain": [
       "array([[1, 58.0, 0, 0, 26.55, False, True, 0, 0, 1, 0, 0, 0, 1, 0, 1, 0,\n",
       "        0, 0, 0, 0, 1, 1]], dtype=object)"
      ]
     },
     "execution_count": 104,
     "metadata": {},
     "output_type": "execute_result"
    }
   ],
   "source": [
    "X.iloc[10, 0:].values.reshape(1, -1)"
   ]
  },
  {
   "cell_type": "code",
   "execution_count": 102,
   "metadata": {},
   "outputs": [
    {
     "data": {
      "text/plain": [
       "array([[0.99241734]], dtype=float32)"
      ]
     },
     "execution_count": 102,
     "metadata": {},
     "output_type": "execute_result"
    }
   ],
   "source": [
    "model.predict(X.iloc[10, 0:].values.reshape(1, -1))"
   ]
  },
  {
   "cell_type": "code",
   "execution_count": null,
   "metadata": {},
   "outputs": [],
   "source": []
  }
 ],
 "metadata": {
  "kernelspec": {
   "display_name": "Python 3",
   "language": "python",
   "name": "python3"
  },
  "language_info": {
   "codemirror_mode": {
    "name": "ipython",
    "version": 3
   },
   "file_extension": ".py",
   "mimetype": "text/x-python",
   "name": "python",
   "nbconvert_exporter": "python",
   "pygments_lexer": "ipython3",
   "version": "3.7.4"
  }
 },
 "nbformat": 4,
 "nbformat_minor": 2
}
