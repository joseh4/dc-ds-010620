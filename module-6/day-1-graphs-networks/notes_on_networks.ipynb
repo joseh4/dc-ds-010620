{
 "cells": [
  {
   "cell_type": "markdown",
   "metadata": {
    "slideshow": {
     "slide_type": "slide"
    }
   },
   "source": [
    "## Why Networks?\n",
    "\n",
    "* Great at modeling relationships\n",
    "* Social Networks\n",
    "* Transportation Networks"
   ]
  },
  {
   "cell_type": "markdown",
   "metadata": {},
   "source": [
    "<img src = \"./resources/graph.png\" style=\"width: 300px;\">"
   ]
  },
  {
   "cell_type": "markdown",
   "metadata": {
    "slideshow": {
     "slide_type": "slide"
    }
   },
   "source": [
    "## Components of Graphs\n",
    "\n",
    "* Nodes\n",
    "* Edges (weighted/unweighted and directed/undirected)\n",
    "* Degree\n",
    "\n",
    "#### Examples of Graphs\n",
    "\n",
    "* Undirected / Directed Graph\n",
    "<img src=\"./resources/Directed_graph.jpg\" width=\"600\">\n",
    "* Bipartite Graph\n",
    "<img src=\"./resources/bipartite.png\">"
   ]
  },
  {
   "cell_type": "markdown",
   "metadata": {},
   "source": [
    "### Moving through graphs\n",
    "\n",
    "* path : the route from one node to another\n",
    "* shortest path: the shortest possible route from one to another\n"
   ]
  },
  {
   "cell_type": "markdown",
   "metadata": {},
   "source": [
    "## Node Centrality\n",
    "\n",
    "* **Degree Centrality**: How many connections does a node have?\n",
    "\n",
    "\n",
    "## $$\\frac{\\#\\ of\\ neighbors\\ a\\ node\\ has}{\\#\\ of\\ neighbors\\ it\\ could\\ possibly\\ have}$$\n",
    "\n",
    "<img src=\"./resources/centrality.png\">\n",
    "\n",
    "\n",
    "---"
   ]
  },
  {
   "cell_type": "markdown",
   "metadata": {},
   "source": [
    " * **Betweenness Centrality**: How important is an individual node to a network? Captures bottlenecks\n",
    " \n",
    " \n",
    "<img  src =\"./resources/betweenness_formula.svg\">\n",
    " \n",
    "    \n",
    "where $\\sigma_{st}$ is the total number of shortest paths from node *s* to node *t* and $\\sigma_{st}(v)$ is the number of paths that pass through v\n",
    "\n",
    "\n",
    "\n",
    "## $$\\frac{\\#\\ of\\ shortest\\ paths\\ moving\\ from\\ one\\ node\\ to\\ another\\ including \\ node\\ of\\ interest}{\\#\\ all\\ possible\\ shortest\\ paths\\ from\\ one\\ node\\ to\\ another}$$\n",
    "\n",
    "<img src=\"./resources/betweenness.png\" width=\"400\">\n",
    "---"
   ]
  },
  {
   "cell_type": "markdown",
   "metadata": {},
   "source": [
    "* **Closeness Centrality**:  Calculated as the reciprocal of the sum of the length of the shortest paths between the node and all other nodes in the graph. Thus, the more central a node is, the closer it is to all other nodes.\n",
    "\n",
    "<img src =\"./resources/closeness.svg\">  \n",
    "where $\\displaystyle d(y,x)$ $\\displaystyle d(y,x)$ is the distance between vertices $\\displaystyle x$ and $\\displaystyle y$ \n",
    "\n",
    "<img src=\"./resources/closeness.png\" width=\"400\">\n",
    "https://journals.plos.org/plosone/article?id=10.1371/journal.pone.0165781"
   ]
  },
  {
   "cell_type": "code",
   "execution_count": 1,
   "metadata": {},
   "outputs": [],
   "source": [
    "# Let's try all this in code\n",
    "import pandas as pd\n",
    "import networkx as nx\n",
    "import matplotlib.pyplot as plt\n",
    "from operator import itemgetter\n",
    "%matplotlib inline"
   ]
  },
  {
   "cell_type": "code",
   "execution_count": 3,
   "metadata": {
    "collapsed": true,
    "jupyter": {
     "outputs_hidden": true
    }
   },
   "outputs": [
    {
     "name": "stdout",
     "output_type": "stream",
     "text": [
      "Source,Target,Type,weight,book\n",
      "Addam-Marbrand,Jaime-Lannister,Undirected,3,1\n",
      "Addam-Marbrand,Tywin-Lannister,Undirected,6,1\n",
      "Aegon-I-Targaryen,Daenerys-Targaryen,Undirected,5,1\n",
      "Aegon-I-Targaryen,Eddard-Stark,Undirected,4,1\n",
      "Aemon-Targaryen-(Maester-Aemon),Alliser-Thorne,Undirected,4,1\n",
      "Aemon-Targaryen-(Maester-Aemon),Bowen-Marsh,Undirected,4,1\n",
      "Aemon-Targaryen-(Maester-Aemon),Chett,Undirected,9,1\n",
      "Aemon-Targaryen-(Maester-Aemon),Clydas,Undirected,5,1\n",
      "Aemon-Targaryen-(Maester-Aemon),Jeor-Mormont,Undirected,13,1\n"
     ]
    }
   ],
   "source": [
    "!head resources/asiof/asoiaf-book1-edges.csv"
   ]
  },
  {
   "cell_type": "code",
   "execution_count": 2,
   "metadata": {
    "collapsed": true,
    "jupyter": {
     "outputs_hidden": true
    }
   },
   "outputs": [
    {
     "data": {
      "text/plain": [
       "NodeView(('Addam-Marbrand', 'Jaime-Lannister', 'Tywin-Lannister', 'Aegon-I-Targaryen', 'Daenerys-Targaryen', 'Eddard-Stark', 'Aemon-Targaryen-(Maester-Aemon)', 'Alliser-Thorne', 'Bowen-Marsh', 'Chett', 'Clydas', 'Jeor-Mormont', 'Jon-Snow', 'Samwell-Tarly', 'Aerys-II-Targaryen', 'Brandon-Stark', 'Gerold-Hightower', 'Jon-Arryn', 'Robert-Baratheon', 'Aggo', 'Drogo', 'Jhogo', 'Jorah-Mormont', 'Quaro', 'Rakharo', 'Albett', 'Halder', 'Rast', 'Grenn', 'Pypar', 'Tyrion-Lannister', 'Alyn', 'Harwin', 'Jory-Cassel', 'Tomard', 'Arthur-Dayne', 'Arya-Stark', 'Benjen-Stark', 'Bran-Stark', 'Catelyn-Stark', 'Cersei-Lannister', 'Desmond', 'Ilyn-Payne', 'Jeyne-Poole', 'Joffrey-Baratheon', 'Meryn-Trant', 'Mordane', 'Mycah', 'Myrcella-Baratheon', 'Petyr-Baelish', 'Rickon-Stark', 'Robb-Stark', 'Rodrik-Cassel', 'Sandor-Clegane', 'Sansa-Stark', 'Syrio-Forel', 'Tommen-Baratheon', 'Vayon-Poole', 'Yoren', 'Arys-Oakheart', 'Balon-Greyjoy', 'Balon-Swann', 'Renly-Baratheon', 'Barristan-Selmy', 'Boros-Blount', 'Pycelle', 'Varys', 'Jaremy-Rykker', 'Luwin', 'Mance-Rayder', 'Theon-Greyjoy', 'Waymar-Royce', 'Beric-Dondarrion', 'Gregor-Clegane', 'Loras-Tyrell', 'Thoros-of-Myr', 'Hali', 'Hallis-Mollen', 'Hodor', 'Hullen', 'Joseth', 'Nan', 'Osha', 'Rickard-Karstark', 'Rickard-Stark', 'Stiv', 'Lyanna-Stark', 'Bronn', 'Chiggen', 'Marillion', 'Shae', 'Shagga', 'Vardis-Egen', 'Willis-Wode', 'Brynden-Tully', 'Edmure-Tully', 'Hoster-Tully', 'Lysa-Arryn', 'Nestor-Royce', 'Walder-Frey', 'Colemon', 'Donnel-Waynwood', 'Eon-Hunter', 'Jon-Umber-(Greatjon)', 'Masha-Heddle', 'Moreo-Tumitis', 'Mya-Stone', 'Mychel-Redfort', 'Robert-Arryn', 'Stevron-Frey', 'Tytos-Blackwood', 'Wendel-Manderly', 'Cayn', 'Janos-Slynt', 'Stannis-Baratheon', 'Chella', 'Clement-Piper', 'Karyl-Vance', 'Cohollo', 'Haggo', 'Qotho', 'Conn', 'Coratt', 'Doreah', 'Eroeh', 'Illyrio-Mopatis', 'Irri', 'Jhiqui', 'Mirri-Maz-Duur', 'Rhaegar-Targaryen', 'Viserys-Targaryen', 'Danwell-Frey', 'Hosteen-Frey', 'Jared-Frey', 'Dareon', 'Daryn-Hornwood', 'Torrhen-Karstark', 'Dolf', 'Donal-Noye', 'Jommo', 'Ogo', 'Rhaego', 'Dywen', 'Galbart-Glover', 'Gendry', 'High-Septon-(fat_one)', 'Howland-Reed', 'Jacks', 'Joss', 'Marq-Piper', 'Porther', 'Raymun-Darry', 'Tobho-Mott', 'Tregar', 'Varly', 'Wyl-(guard)', 'Wylla', 'Fogo', 'Roose-Bolton', 'Gared', 'Will-(prologue)', 'Oswell-Whent', 'Todder', 'Gunthor-son-of-Gurn', 'Harys-Swyft', 'Heward', 'Hobb', 'Hugh', 'Jafer-Flowers', 'Kevan-Lannister', 'Matthar', 'Othor', 'Maege-Mormont', 'Jonos-Bracken', 'Jyck', 'Morrec', 'Kurleket', 'Lancel-Lannister', 'Leo-Lefford', 'Mace-Tyrell', 'Lyn-Corbray', 'Paxter-Redwyne', 'Maegor-I-Targaryen', 'Mord', 'Randyll-Tarly', 'Timett', 'Ulf-son-of-Umar'))"
      ]
     },
     "execution_count": 2,
     "metadata": {},
     "output_type": "execute_result"
    }
   ],
   "source": [
    "book1_df = pd.read_csv('./resources/asiof/asoiaf-book1-edges.csv')\n",
    "g1 = nx.Graph()\n",
    "for row in book1_df.iterrows():\n",
    "    g1.add_edge(row[1]['Source'], row[1]['Target'],\n",
    "                weight=row[1]['weight'], book=row[1]['book'])\n",
    "\n",
    "# see all of the nodes\n",
    "g1.nodes()"
   ]
  },
  {
   "cell_type": "code",
   "execution_count": 5,
   "metadata": {
    "collapsed": true,
    "jupyter": {
     "outputs_hidden": true
    }
   },
   "outputs": [
    {
     "data": {
      "text/plain": [
       "EdgeDataView([('Addam-Marbrand', 'Jaime-Lannister', {'weight': 3, 'book': 1}), ('Addam-Marbrand', 'Tywin-Lannister', {'weight': 6, 'book': 1}), ('Jaime-Lannister', 'Aerys-II-Targaryen', {'weight': 5, 'book': 1}), ('Jaime-Lannister', 'Barristan-Selmy', {'weight': 4, 'book': 1}), ('Jaime-Lannister', 'Brynden-Tully', {'weight': 7, 'book': 1}), ('Jaime-Lannister', 'Catelyn-Stark', {'weight': 9, 'book': 1}), ('Jaime-Lannister', 'Cersei-Lannister', {'weight': 16, 'book': 1}), ('Jaime-Lannister', 'Eddard-Stark', {'weight': 27, 'book': 1}), ('Jaime-Lannister', 'Edmure-Tully', {'weight': 4, 'book': 1}), ('Jaime-Lannister', 'Galbart-Glover', {'weight': 3, 'book': 1}), ('Jaime-Lannister', 'Gregor-Clegane', {'weight': 3, 'book': 1}), ('Jaime-Lannister', 'Harys-Swyft', {'weight': 3, 'book': 1}), ('Jaime-Lannister', 'Joffrey-Baratheon', {'weight': 12, 'book': 1}), ('Jaime-Lannister', 'Jon-Arryn', {'weight': 5, 'book': 1}), ('Jaime-Lannister', 'Jory-Cassel', {'weight': 4, 'book': 1}), ('Jaime-Lannister', 'Kevan-Lannister', {'weight': 4, 'book': 1}), ('Jaime-Lannister', 'Loras-Tyrell', {'weight': 3, 'book': 1}), ('Jaime-Lannister', 'Lysa-Arryn', {'weight': 6, 'book': 1}), ('Jaime-Lannister', 'Petyr-Baelish', {'weight': 7, 'book': 1}), ('Jaime-Lannister', 'Renly-Baratheon', {'weight': 4, 'book': 1}), ('Jaime-Lannister', 'Rickard-Karstark', {'weight': 3, 'book': 1}), ('Jaime-Lannister', 'Robb-Stark', {'weight': 9, 'book': 1}), ('Jaime-Lannister', 'Robert-Baratheon', {'weight': 24, 'book': 1}), ('Jaime-Lannister', 'Rodrik-Cassel', {'weight': 3, 'book': 1}), ('Jaime-Lannister', 'Sandor-Clegane', {'weight': 12, 'book': 1}), ('Jaime-Lannister', 'Sansa-Stark', {'weight': 3, 'book': 1}), ('Jaime-Lannister', 'Tyrion-Lannister', {'weight': 36, 'book': 1}), ('Jaime-Lannister', 'Tywin-Lannister', {'weight': 16, 'book': 1}), ('Jaime-Lannister', 'Varys', {'weight': 3, 'book': 1}), ('Jaime-Lannister', 'Wyl-(guard)', {'weight': 3, 'book': 1}), ('Tywin-Lannister', 'Bronn', {'weight': 4, 'book': 1}), ('Tywin-Lannister', 'Brynden-Tully', {'weight': 3, 'book': 1}), ('Tywin-Lannister', 'Catelyn-Stark', {'weight': 7, 'book': 1}), ('Tywin-Lannister', 'Cersei-Lannister', {'weight': 10, 'book': 1}), ('Tywin-Lannister', 'Eddard-Stark', {'weight': 18, 'book': 1}), ('Tywin-Lannister', 'Gregor-Clegane', {'weight': 6, 'book': 1}), ('Tywin-Lannister', 'Joffrey-Baratheon', {'weight': 3, 'book': 1}), ('Tywin-Lannister', 'Jon-Umber-(Greatjon)', {'weight': 3, 'book': 1}), ('Tywin-Lannister', 'Kevan-Lannister', {'weight': 9, 'book': 1}), ('Tywin-Lannister', 'Marq-Piper', {'weight': 3, 'book': 1}), ('Tywin-Lannister', 'Pycelle', {'weight': 4, 'book': 1}), ('Tywin-Lannister', 'Rhaegar-Targaryen', {'weight': 4, 'book': 1}), ('Tywin-Lannister', 'Robb-Stark', {'weight': 9, 'book': 1}), ('Tywin-Lannister', 'Robert-Baratheon', {'weight': 13, 'book': 1}), ('Tywin-Lannister', 'Roose-Bolton', {'weight': 4, 'book': 1}), ('Tywin-Lannister', 'Stannis-Baratheon', {'weight': 4, 'book': 1}), ('Tywin-Lannister', 'Theon-Greyjoy', {'weight': 3, 'book': 1}), ('Tywin-Lannister', 'Tyrion-Lannister', {'weight': 40, 'book': 1}), ('Tywin-Lannister', 'Varys', {'weight': 4, 'book': 1}), ('Tywin-Lannister', 'Walder-Frey', {'weight': 8, 'book': 1}), ('Aegon-I-Targaryen', 'Daenerys-Targaryen', {'weight': 5, 'book': 1}), ('Aegon-I-Targaryen', 'Eddard-Stark', {'weight': 4, 'book': 1}), ('Daenerys-Targaryen', 'Aggo', {'weight': 11, 'book': 1}), ('Daenerys-Targaryen', 'Cohollo', {'weight': 7, 'book': 1}), ('Daenerys-Targaryen', 'Doreah', {'weight': 15, 'book': 1}), ('Daenerys-Targaryen', 'Drogo', {'weight': 101, 'book': 1}), ('Daenerys-Targaryen', 'Eddard-Stark', {'weight': 5, 'book': 1}), ('Daenerys-Targaryen', 'Eroeh', {'weight': 5, 'book': 1}), ('Daenerys-Targaryen', 'Haggo', {'weight': 12, 'book': 1}), ('Daenerys-Targaryen', 'Illyrio-Mopatis', {'weight': 24, 'book': 1}), ('Daenerys-Targaryen', 'Irri', {'weight': 25, 'book': 1}), ('Daenerys-Targaryen', 'Jhiqui', {'weight': 26, 'book': 1}), ('Daenerys-Targaryen', 'Jhogo', {'weight': 17, 'book': 1}), ('Daenerys-Targaryen', 'Jorah-Mormont', {'weight': 75, 'book': 1}), ('Daenerys-Targaryen', 'Mirri-Maz-Duur', {'weight': 31, 'book': 1}), ('Daenerys-Targaryen', 'Qotho', {'weight': 18, 'book': 1}), ('Daenerys-Targaryen', 'Quaro', {'weight': 5, 'book': 1}), ('Daenerys-Targaryen', 'Rakharo', {'weight': 4, 'book': 1}), ('Daenerys-Targaryen', 'Rhaegar-Targaryen', {'weight': 4, 'book': 1}), ('Daenerys-Targaryen', 'Robert-Baratheon', {'weight': 11, 'book': 1}), ('Daenerys-Targaryen', 'Varys', {'weight': 5, 'book': 1}), ('Daenerys-Targaryen', 'Viserys-Targaryen', {'weight': 37, 'book': 1}), ('Eddard-Stark', 'Aerys-II-Targaryen', {'weight': 10, 'book': 1}), ('Eddard-Stark', 'Alyn', {'weight': 11, 'book': 1}), ('Eddard-Stark', 'Arya-Stark', {'weight': 30, 'book': 1}), ('Eddard-Stark', 'Balon-Greyjoy', {'weight': 3, 'book': 1}), ('Eddard-Stark', 'Barristan-Selmy', {'weight': 28, 'book': 1}), ('Eddard-Stark', 'Beric-Dondarrion', {'weight': 3, 'book': 1}), ('Eddard-Stark', 'Bran-Stark', {'weight': 19, 'book': 1}), ('Eddard-Stark', 'Brandon-Stark', {'weight': 11, 'book': 1}), ('Eddard-Stark', 'Catelyn-Stark', {'weight': 64, 'book': 1}), ('Eddard-Stark', 'Cayn', {'weight': 7, 'book': 1}), ('Eddard-Stark', 'Cersei-Lannister', {'weight': 69, 'book': 1}), ('Eddard-Stark', 'Daryn-Hornwood', {'weight': 3, 'book': 1}), ('Eddard-Stark', 'Desmond', {'weight': 4, 'book': 1}), ('Eddard-Stark', 'Edmure-Tully', {'weight': 3, 'book': 1}), ('Eddard-Stark', 'Galbart-Glover', {'weight': 4, 'book': 1}), ('Eddard-Stark', 'Gendry', {'weight': 3, 'book': 1}), ('Eddard-Stark', 'Gerold-Hightower', {'weight': 3, 'book': 1}), ('Eddard-Stark', 'Gregor-Clegane', {'weight': 10, 'book': 1}), ('Eddard-Stark', 'Harwin', {'weight': 5, 'book': 1}), ('Eddard-Stark', 'High-Septon-(fat_one)', {'weight': 4, 'book': 1}), ('Eddard-Stark', 'Howland-Reed', {'weight': 3, 'book': 1}), ('Eddard-Stark', 'Ilyn-Payne', {'weight': 6, 'book': 1}), ('Eddard-Stark', 'Jacks', {'weight': 4, 'book': 1}), ('Eddard-Stark', 'Janos-Slynt', {'weight': 4, 'book': 1}), ('Eddard-Stark', 'Joffrey-Baratheon', {'weight': 26, 'book': 1}), ('Eddard-Stark', 'Jon-Arryn', {'weight': 47, 'book': 1}), ('Eddard-Stark', 'Jon-Snow', {'weight': 38, 'book': 1}), ('Eddard-Stark', 'Jory-Cassel', {'weight': 32, 'book': 1}), ('Eddard-Stark', 'Joss', {'weight': 5, 'book': 1}), ('Eddard-Stark', 'Loras-Tyrell', {'weight': 12, 'book': 1}), ('Eddard-Stark', 'Luwin', {'weight': 16, 'book': 1}), ('Eddard-Stark', 'Lyanna-Stark', {'weight': 19, 'book': 1}), ('Eddard-Stark', 'Lysa-Arryn', {'weight': 12, 'book': 1}), ('Eddard-Stark', 'Marq-Piper', {'weight': 3, 'book': 1}), ('Eddard-Stark', 'Mordane', {'weight': 11, 'book': 1}), ('Eddard-Stark', 'Mycah', {'weight': 3, 'book': 1}), ('Eddard-Stark', 'Petyr-Baelish', {'weight': 81, 'book': 1}), ('Eddard-Stark', 'Porther', {'weight': 4, 'book': 1}), ('Eddard-Stark', 'Pycelle', {'weight': 33, 'book': 1}), ('Eddard-Stark', 'Raymun-Darry', {'weight': 4, 'book': 1}), ('Eddard-Stark', 'Renly-Baratheon', {'weight': 33, 'book': 1}), ('Eddard-Stark', 'Rhaegar-Targaryen', {'weight': 10, 'book': 1}), ('Eddard-Stark', 'Rickard-Karstark', {'weight': 4, 'book': 1}), ('Eddard-Stark', 'Rickon-Stark', {'weight': 4, 'book': 1}), ('Eddard-Stark', 'Robb-Stark', {'weight': 16, 'book': 1}), ('Eddard-Stark', 'Robert-Baratheon', {'weight': 291, 'book': 1}), ('Eddard-Stark', 'Rodrik-Cassel', {'weight': 7, 'book': 1}), ('Eddard-Stark', 'Sandor-Clegane', {'weight': 10, 'book': 1}), ('Eddard-Stark', 'Sansa-Stark', {'weight': 34, 'book': 1}), ('Eddard-Stark', 'Stannis-Baratheon', {'weight': 18, 'book': 1}), ('Eddard-Stark', 'Syrio-Forel', {'weight': 6, 'book': 1}), ('Eddard-Stark', 'Theon-Greyjoy', {'weight': 5, 'book': 1}), ('Eddard-Stark', 'Tobho-Mott', {'weight': 7, 'book': 1}), ('Eddard-Stark', 'Tomard', {'weight': 15, 'book': 1}), ('Eddard-Stark', 'Torrhen-Karstark', {'weight': 5, 'book': 1}), ('Eddard-Stark', 'Tregar', {'weight': 4, 'book': 1}), ('Eddard-Stark', 'Tyrion-Lannister', {'weight': 21, 'book': 1}), ('Eddard-Stark', 'Varly', {'weight': 4, 'book': 1}), ('Eddard-Stark', 'Varys', {'weight': 61, 'book': 1}), ('Eddard-Stark', 'Vayon-Poole', {'weight': 12, 'book': 1}), ('Eddard-Stark', 'Wyl-(guard)', {'weight': 3, 'book': 1}), ('Eddard-Stark', 'Wylla', {'weight': 3, 'book': 1}), ('Aemon-Targaryen-(Maester-Aemon)', 'Alliser-Thorne', {'weight': 4, 'book': 1}), ('Aemon-Targaryen-(Maester-Aemon)', 'Bowen-Marsh', {'weight': 4, 'book': 1}), ('Aemon-Targaryen-(Maester-Aemon)', 'Chett', {'weight': 9, 'book': 1}), ('Aemon-Targaryen-(Maester-Aemon)', 'Clydas', {'weight': 5, 'book': 1}), ('Aemon-Targaryen-(Maester-Aemon)', 'Jeor-Mormont', {'weight': 13, 'book': 1}), ('Aemon-Targaryen-(Maester-Aemon)', 'Jon-Snow', {'weight': 34, 'book': 1}), ('Aemon-Targaryen-(Maester-Aemon)', 'Samwell-Tarly', {'weight': 5, 'book': 1}), ('Alliser-Thorne', 'Bowen-Marsh', {'weight': 3, 'book': 1}), ('Alliser-Thorne', 'Grenn', {'weight': 3, 'book': 1}), ('Alliser-Thorne', 'Halder', {'weight': 4, 'book': 1}), ('Alliser-Thorne', 'Jeor-Mormont', {'weight': 10, 'book': 1}), ('Alliser-Thorne', 'Jon-Snow', {'weight': 32, 'book': 1}), ('Alliser-Thorne', 'Pypar', {'weight': 4, 'book': 1}), ('Alliser-Thorne', 'Rast', {'weight': 5, 'book': 1}), ('Alliser-Thorne', 'Samwell-Tarly', {'weight': 8, 'book': 1}), ('Alliser-Thorne', 'Tyrion-Lannister', {'weight': 7, 'book': 1}), ('Bowen-Marsh', 'Jeor-Mormont', {'weight': 8, 'book': 1}), ('Bowen-Marsh', 'Jon-Snow', {'weight': 10, 'book': 1}), ('Bowen-Marsh', 'Samwell-Tarly', {'weight': 3, 'book': 1}), ('Chett', 'Jon-Snow', {'weight': 4, 'book': 1}), ('Chett', 'Samwell-Tarly', {'weight': 6, 'book': 1}), ('Jeor-Mormont', 'Benjen-Stark', {'weight': 9, 'book': 1}), ('Jeor-Mormont', 'Bran-Stark', {'weight': 4, 'book': 1}), ('Jeor-Mormont', 'Gared', {'weight': 4, 'book': 1}), ('Jeor-Mormont', 'Grenn', {'weight': 3, 'book': 1}), ('Jeor-Mormont', 'Jaremy-Rykker', {'weight': 11, 'book': 1}), ('Jeor-Mormont', 'Jon-Snow', {'weight': 81, 'book': 1}), ('Jeor-Mormont', 'Robert-Baratheon', {'weight': 4, 'book': 1}), ('Jeor-Mormont', 'Samwell-Tarly', {'weight': 8, 'book': 1}), ('Jeor-Mormont', 'Tyrion-Lannister', {'weight': 23, 'book': 1}), ('Jeor-Mormont', 'Yoren', {'weight': 3, 'book': 1}), ('Jon-Snow', 'Albett', {'weight': 5, 'book': 1}), ('Jon-Snow', 'Arya-Stark', {'weight': 37, 'book': 1}), ('Jon-Snow', 'Benjen-Stark', {'weight': 41, 'book': 1}), ('Jon-Snow', 'Bran-Stark', {'weight': 56, 'book': 1}), ('Jon-Snow', 'Catelyn-Stark', {'weight': 14, 'book': 1}), ('Jon-Snow', 'Cersei-Lannister', {'weight': 4, 'book': 1}), ('Jon-Snow', 'Dareon', {'weight': 6, 'book': 1}), ('Jon-Snow', 'Donal-Noye', {'weight': 7, 'book': 1}), ('Jon-Snow', 'Dywen', {'weight': 4, 'book': 1}), ('Jon-Snow', 'Grenn', {'weight': 31, 'book': 1}), ('Jon-Snow', 'Halder', {'weight': 23, 'book': 1}), ('Jon-Snow', 'Hobb', {'weight': 5, 'book': 1}), ('Jon-Snow', 'Jaremy-Rykker', {'weight': 7, 'book': 1}), ('Jon-Snow', 'Joffrey-Baratheon', {'weight': 10, 'book': 1}), ('Jon-Snow', 'Jory-Cassel', {'weight': 3, 'book': 1}), ('Jon-Snow', 'Luwin', {'weight': 10, 'book': 1}), ('Jon-Snow', 'Matthar', {'weight': 3, 'book': 1}), ('Jon-Snow', 'Mordane', {'weight': 4, 'book': 1}), ('Jon-Snow', 'Othor', {'weight': 5, 'book': 1}), ('Jon-Snow', 'Pypar', {'weight': 45, 'book': 1}), ('Jon-Snow', 'Rast', {'weight': 8, 'book': 1}), ('Jon-Snow', 'Rickon-Stark', {'weight': 11, 'book': 1}), ('Jon-Snow', 'Robb-Stark', {'weight': 53, 'book': 1}), ('Jon-Snow', 'Robert-Baratheon', {'weight': 18, 'book': 1}), ('Jon-Snow', 'Rodrik-Cassel', {'weight': 3, 'book': 1}), ('Jon-Snow', 'Samwell-Tarly', {'weight': 81, 'book': 1}), ('Jon-Snow', 'Sansa-Stark', {'weight': 8, 'book': 1}), ('Jon-Snow', 'Theon-Greyjoy', {'weight': 8, 'book': 1}), ('Jon-Snow', 'Todder', {'weight': 13, 'book': 1}), ('Jon-Snow', 'Tyrion-Lannister', {'weight': 56, 'book': 1}), ('Jon-Snow', 'Yoren', {'weight': 6, 'book': 1}), ('Samwell-Tarly', 'Grenn', {'weight': 8, 'book': 1}), ('Samwell-Tarly', 'Halder', {'weight': 6, 'book': 1}), ('Samwell-Tarly', 'Pypar', {'weight': 11, 'book': 1}), ('Samwell-Tarly', 'Randyll-Tarly', {'weight': 5, 'book': 1}), ('Samwell-Tarly', 'Rast', {'weight': 3, 'book': 1}), ('Samwell-Tarly', 'Robb-Stark', {'weight': 4, 'book': 1}), ('Aerys-II-Targaryen', 'Brandon-Stark', {'weight': 4, 'book': 1}), ('Aerys-II-Targaryen', 'Gerold-Hightower', {'weight': 3, 'book': 1}), ('Aerys-II-Targaryen', 'Jon-Arryn', {'weight': 3, 'book': 1}), ('Aerys-II-Targaryen', 'Robert-Baratheon', {'weight': 12, 'book': 1}), ('Brandon-Stark', 'Lyanna-Stark', {'weight': 4, 'book': 1}), ('Brandon-Stark', 'Petyr-Baelish', {'weight': 14, 'book': 1}), ('Brandon-Stark', 'Rickard-Stark', {'weight': 3, 'book': 1}), ('Brandon-Stark', 'Robert-Baratheon', {'weight': 5, 'book': 1}), ('Gerold-Hightower', 'Arthur-Dayne', {'weight': 4, 'book': 1}), ('Gerold-Hightower', 'Oswell-Whent', {'weight': 3, 'book': 1}), ('Gerold-Hightower', 'Robert-Baratheon', {'weight': 4, 'book': 1}), ('Jon-Arryn', 'Barristan-Selmy', {'weight': 4, 'book': 1}), ('Jon-Arryn', 'Bran-Stark', {'weight': 7, 'book': 1}), ('Jon-Arryn', 'Catelyn-Stark', {'weight': 11, 'book': 1}), ('Jon-Arryn', 'Cersei-Lannister', {'weight': 7, 'book': 1}), ('Jon-Arryn', 'Hugh', {'weight': 3, 'book': 1}), ('Jon-Arryn', 'Lysa-Arryn', {'weight': 12, 'book': 1}), ('Jon-Arryn', 'Petyr-Baelish', {'weight': 4, 'book': 1}), ('Jon-Arryn', 'Pycelle', {'weight': 11, 'book': 1}), ('Jon-Arryn', 'Robert-Baratheon', {'weight': 32, 'book': 1}), ('Jon-Arryn', 'Stannis-Baratheon', {'weight': 13, 'book': 1}), ('Jon-Arryn', 'Tyrion-Lannister', {'weight': 5, 'book': 1}), ('Jon-Arryn', 'Varys', {'weight': 5, 'book': 1}), ('Robert-Baratheon', 'Alyn', {'weight': 4, 'book': 1}), ('Robert-Baratheon', 'Arya-Stark', {'weight': 8, 'book': 1}), ('Robert-Baratheon', 'Balon-Greyjoy', {'weight': 4, 'book': 1}), ('Robert-Baratheon', 'Barristan-Selmy', {'weight': 40, 'book': 1}), ('Robert-Baratheon', 'Benjen-Stark', {'weight': 3, 'book': 1}), ('Robert-Baratheon', 'Beric-Dondarrion', {'weight': 5, 'book': 1}), ('Robert-Baratheon', 'Bran-Stark', {'weight': 11, 'book': 1}), ('Robert-Baratheon', 'Catelyn-Stark', {'weight': 22, 'book': 1}), ('Robert-Baratheon', 'Cersei-Lannister', {'weight': 72, 'book': 1}), ('Robert-Baratheon', 'Drogo', {'weight': 3, 'book': 1}), ('Robert-Baratheon', 'Gregor-Clegane', {'weight': 4, 'book': 1}), ('Robert-Baratheon', 'Hoster-Tully', {'weight': 3, 'book': 1}), ('Robert-Baratheon', 'Illyrio-Mopatis', {'weight': 6, 'book': 1}), ('Robert-Baratheon', 'Ilyn-Payne', {'weight': 4, 'book': 1}), ('Robert-Baratheon', 'Janos-Slynt', {'weight': 4, 'book': 1}), ('Robert-Baratheon', 'Jeyne-Poole', {'weight': 3, 'book': 1}), ('Robert-Baratheon', 'Joffrey-Baratheon', {'weight': 30, 'book': 1}), ('Robert-Baratheon', 'Jorah-Mormont', {'weight': 3, 'book': 1}), ('Robert-Baratheon', 'Jory-Cassel', {'weight': 7, 'book': 1}), ('Robert-Baratheon', 'Lancel-Lannister', {'weight': 3, 'book': 1}), ('Robert-Baratheon', 'Loras-Tyrell', {'weight': 4, 'book': 1}), ('Robert-Baratheon', 'Lyanna-Stark', {'weight': 9, 'book': 1}), ('Robert-Baratheon', 'Lysa-Arryn', {'weight': 5, 'book': 1}), ('Robert-Baratheon', 'Meryn-Trant', {'weight': 3, 'book': 1}), ('Robert-Baratheon', 'Mordane', {'weight': 7, 'book': 1}), ('Robert-Baratheon', 'Myrcella-Baratheon', {'weight': 3, 'book': 1}), ('Robert-Baratheon', 'Petyr-Baelish', {'weight': 30, 'book': 1}), ('Robert-Baratheon', 'Pycelle', {'weight': 26, 'book': 1}), ('Robert-Baratheon', 'Raymun-Darry', {'weight': 8, 'book': 1}), ('Robert-Baratheon', 'Renly-Baratheon', {'weight': 42, 'book': 1}), ('Robert-Baratheon', 'Rhaegar-Targaryen', {'weight': 22, 'book': 1}), ('Robert-Baratheon', 'Robb-Stark', {'weight': 6, 'book': 1}), ('Robert-Baratheon', 'Sandor-Clegane', {'weight': 9, 'book': 1}), ('Robert-Baratheon', 'Sansa-Stark', {'weight': 26, 'book': 1}), ('Robert-Baratheon', 'Stannis-Baratheon', {'weight': 21, 'book': 1}), ('Robert-Baratheon', 'Tommen-Baratheon', {'weight': 3, 'book': 1}), ('Robert-Baratheon', 'Tyrion-Lannister', {'weight': 18, 'book': 1}), ('Robert-Baratheon', 'Varys', {'weight': 36, 'book': 1}), ('Robert-Baratheon', 'Vayon-Poole', {'weight': 3, 'book': 1}), ('Robert-Baratheon', 'Viserys-Targaryen', {'weight': 7, 'book': 1}), ('Aggo', 'Drogo', {'weight': 6, 'book': 1}), ('Aggo', 'Jhogo', {'weight': 4, 'book': 1}), ('Aggo', 'Jorah-Mormont', {'weight': 5, 'book': 1}), ('Aggo', 'Quaro', {'weight': 3, 'book': 1}), ('Aggo', 'Rakharo', {'weight': 7, 'book': 1}), ('Drogo', 'Cohollo', {'weight': 9, 'book': 1}), ('Drogo', 'Doreah', {'weight': 5, 'book': 1}), ('Drogo', 'Haggo', {'weight': 9, 'book': 1}), ('Drogo', 'Illyrio-Mopatis', {'weight': 16, 'book': 1}), ('Drogo', 'Irri', {'weight': 9, 'book': 1}), ('Drogo', 'Jhiqui', {'weight': 5, 'book': 1}), ('Drogo', 'Jhogo', {'weight': 7, 'book': 1}), ('Drogo', 'Jommo', {'weight': 3, 'book': 1}), ('Drogo', 'Jorah-Mormont', {'weight': 16, 'book': 1}), ('Drogo', 'Mirri-Maz-Duur', {'weight': 12, 'book': 1}), ('Drogo', 'Ogo', {'weight': 11, 'book': 1}), ('Drogo', 'Qotho', {'weight': 13, 'book': 1}), ('Drogo', 'Quaro', {'weight': 3, 'book': 1}), ('Drogo', 'Rakharo', {'weight': 4, 'book': 1}), ('Drogo', 'Rhaego', {'weight': 5, 'book': 1}), ('Drogo', 'Viserys-Targaryen', {'weight': 19, 'book': 1}), ('Jhogo', 'Irri', {'weight': 7, 'book': 1}), ('Jhogo', 'Jorah-Mormont', {'weight': 5, 'book': 1}), ('Jhogo', 'Mirri-Maz-Duur', {'weight': 3, 'book': 1}), ('Jorah-Mormont', 'Doreah', {'weight': 3, 'book': 1}), ('Jorah-Mormont', 'Illyrio-Mopatis', {'weight': 7, 'book': 1}), ('Jorah-Mormont', 'Irri', {'weight': 4, 'book': 1}), ('Jorah-Mormont', 'Jhiqui', {'weight': 4, 'book': 1}), ('Jorah-Mormont', 'Mirri-Maz-Duur', {'weight': 5, 'book': 1}), ('Jorah-Mormont', 'Qotho', {'weight': 7, 'book': 1}), ('Jorah-Mormont', 'Rhaegar-Targaryen', {'weight': 5, 'book': 1}), ('Jorah-Mormont', 'Viserys-Targaryen', {'weight': 15, 'book': 1}), ('Quaro', 'Qotho', {'weight': 4, 'book': 1}), ('Quaro', 'Rakharo', {'weight': 6, 'book': 1}), ('Rakharo', 'Haggo', {'weight': 3, 'book': 1}), ('Albett', 'Halder', {'weight': 3, 'book': 1}), ('Albett', 'Rast', {'weight': 3, 'book': 1}), ('Halder', 'Grenn', {'weight': 6, 'book': 1}), ('Halder', 'Pypar', {'weight': 8, 'book': 1}), ('Halder', 'Rast', {'weight': 3, 'book': 1}), ('Halder', 'Todder', {'weight': 3, 'book': 1}), ('Rast', 'Pypar', {'weight': 4, 'book': 1}), ('Grenn', 'Pypar', {'weight': 27, 'book': 1}), ('Grenn', 'Todder', {'weight': 7, 'book': 1}), ('Pypar', 'Todder', {'weight': 8, 'book': 1}), ('Tyrion-Lannister', 'Benjen-Stark', {'weight': 8, 'book': 1}), ('Tyrion-Lannister', 'Bran-Stark', {'weight': 31, 'book': 1}), ('Tyrion-Lannister', 'Bronn', {'weight': 61, 'book': 1}), ('Tyrion-Lannister', 'Brynden-Tully', {'weight': 4, 'book': 1}), ('Tyrion-Lannister', 'Catelyn-Stark', {'weight': 49, 'book': 1}), ('Tyrion-Lannister', 'Cersei-Lannister', {'weight': 27, 'book': 1}), ('Tyrion-Lannister', 'Chella', {'weight': 5, 'book': 1}), ('Tyrion-Lannister', 'Chiggen', {'weight': 5, 'book': 1}), ('Tyrion-Lannister', 'Conn', {'weight': 6, 'book': 1}), ('Tyrion-Lannister', 'Gregor-Clegane', {'weight': 7, 'book': 1}), ('Tyrion-Lannister', 'Gunthor-son-of-Gurn', {'weight': 7, 'book': 1}), ('Tyrion-Lannister', 'Joffrey-Baratheon', {'weight': 13, 'book': 1}), ('Tyrion-Lannister', 'Jyck', {'weight': 6, 'book': 1}), ('Tyrion-Lannister', 'Kevan-Lannister', {'weight': 15, 'book': 1}), ('Tyrion-Lannister', 'Kurleket', {'weight': 5, 'book': 1}), ('Tyrion-Lannister', 'Leo-Lefford', {'weight': 4, 'book': 1}), ('Tyrion-Lannister', 'Luwin', {'weight': 10, 'book': 1}), ('Tyrion-Lannister', 'Lysa-Arryn', {'weight': 25, 'book': 1}), ('Tyrion-Lannister', 'Marillion', {'weight': 10, 'book': 1}), ('Tyrion-Lannister', 'Mord', {'weight': 20, 'book': 1}), ('Tyrion-Lannister', 'Morrec', {'weight': 5, 'book': 1}), ('Tyrion-Lannister', 'Petyr-Baelish', {'weight': 11, 'book': 1}), ('Tyrion-Lannister', 'Renly-Baratheon', {'weight': 4, 'book': 1}), ('Tyrion-Lannister', 'Rickon-Stark', {'weight': 4, 'book': 1}), ('Tyrion-Lannister', 'Robb-Stark', {'weight': 11, 'book': 1}), ('Tyrion-Lannister', 'Robert-Arryn', {'weight': 9, 'book': 1}), ('Tyrion-Lannister', 'Rodrik-Cassel', {'weight': 10, 'book': 1}), ('Tyrion-Lannister', 'Sandor-Clegane', {'weight': 5, 'book': 1}), ('Tyrion-Lannister', 'Sansa-Stark', {'weight': 3, 'book': 1}), ('Tyrion-Lannister', 'Shae', {'weight': 12, 'book': 1}), ('Tyrion-Lannister', 'Shagga', {'weight': 17, 'book': 1}), ('Tyrion-Lannister', 'Theon-Greyjoy', {'weight': 3, 'book': 1}), ('Tyrion-Lannister', 'Timett', {'weight': 3, 'book': 1}), ('Tyrion-Lannister', 'Tommen-Baratheon', {'weight': 3, 'book': 1}), ('Tyrion-Lannister', 'Vardis-Egen', {'weight': 9, 'book': 1}), ('Tyrion-Lannister', 'Varys', {'weight': 3, 'book': 1}), ('Tyrion-Lannister', 'Willis-Wode', {'weight': 4, 'book': 1}), ('Tyrion-Lannister', 'Yoren', {'weight': 10, 'book': 1}), ('Alyn', 'Harwin', {'weight': 6, 'book': 1}), ('Alyn', 'Jory-Cassel', {'weight': 8, 'book': 1}), ('Alyn', 'Tomard', {'weight': 3, 'book': 1}), ('Harwin', 'Hullen', {'weight': 3, 'book': 1}), ('Harwin', 'Jory-Cassel', {'weight': 4, 'book': 1}), ('Jory-Cassel', 'Arya-Stark', {'weight': 12, 'book': 1}), ('Jory-Cassel', 'Bran-Stark', {'weight': 11, 'book': 1}), ('Jory-Cassel', 'Cersei-Lannister', {'weight': 5, 'book': 1}), ('Jory-Cassel', 'Heward', {'weight': 5, 'book': 1}), ('Jory-Cassel', 'Hullen', {'weight': 5, 'book': 1}), ('Jory-Cassel', 'Mordane', {'weight': 3, 'book': 1}), ('Jory-Cassel', 'Petyr-Baelish', {'weight': 8, 'book': 1}), ('Jory-Cassel', 'Robb-Stark', {'weight': 9, 'book': 1}), ('Jory-Cassel', 'Rodrik-Cassel', {'weight': 5, 'book': 1}), ('Jory-Cassel', 'Sansa-Stark', {'weight': 9, 'book': 1}), ('Jory-Cassel', 'Stannis-Baratheon', {'weight': 3, 'book': 1}), ('Jory-Cassel', 'Theon-Greyjoy', {'weight': 3, 'book': 1}), ('Jory-Cassel', 'Tomard', {'weight': 5, 'book': 1}), ('Jory-Cassel', 'Vayon-Poole', {'weight': 5, 'book': 1}), ('Jory-Cassel', 'Wyl-(guard)', {'weight': 6, 'book': 1}), ('Tomard', 'Arya-Stark', {'weight': 6, 'book': 1}), ('Tomard', 'Cayn', {'weight': 6, 'book': 1}), ('Tomard', 'Petyr-Baelish', {'weight': 4, 'book': 1}), ('Tomard', 'Sansa-Stark', {'weight': 3, 'book': 1}), ('Arya-Stark', 'Benjen-Stark', {'weight': 3, 'book': 1}), ('Arya-Stark', 'Bran-Stark', {'weight': 14, 'book': 1}), ('Arya-Stark', 'Catelyn-Stark', {'weight': 5, 'book': 1}), ('Arya-Stark', 'Cersei-Lannister', {'weight': 12, 'book': 1}), ('Arya-Stark', 'Desmond', {'weight': 3, 'book': 1}), ('Arya-Stark', 'Ilyn-Payne', {'weight': 5, 'book': 1}), ('Arya-Stark', 'Jeyne-Poole', {'weight': 10, 'book': 1}), ('Arya-Stark', 'Joffrey-Baratheon', {'weight': 39, 'book': 1}), ('Arya-Stark', 'Meryn-Trant', {'weight': 4, 'book': 1}), ('Arya-Stark', 'Mordane', {'weight': 39, 'book': 1}), ('Arya-Stark', 'Mycah', {'weight': 18, 'book': 1}), ('Arya-Stark', 'Myrcella-Baratheon', {'weight': 13, 'book': 1}), ('Arya-Stark', 'Petyr-Baelish', {'weight': 3, 'book': 1}), ('Arya-Stark', 'Rickon-Stark', {'weight': 7, 'book': 1}), ('Arya-Stark', 'Robb-Stark', {'weight': 15, 'book': 1}), ('Arya-Stark', 'Rodrik-Cassel', {'weight': 3, 'book': 1}), ('Arya-Stark', 'Sandor-Clegane', {'weight': 7, 'book': 1}), ('Arya-Stark', 'Sansa-Stark', {'weight': 104, 'book': 1}), ('Arya-Stark', 'Syrio-Forel', {'weight': 20, 'book': 1}), ('Arya-Stark', 'Tommen-Baratheon', {'weight': 5, 'book': 1}), ('Arya-Stark', 'Vayon-Poole', {'weight': 4, 'book': 1}), ('Arya-Stark', 'Yoren', {'weight': 4, 'book': 1}), ('Benjen-Stark', 'Bran-Stark', {'weight': 6, 'book': 1}), ('Benjen-Stark', 'Cersei-Lannister', {'weight': 3, 'book': 1}), ('Benjen-Stark', 'Jaremy-Rykker', {'weight': 3, 'book': 1}), ('Benjen-Stark', 'Luwin', {'weight': 7, 'book': 1}), ('Benjen-Stark', 'Mance-Rayder', {'weight': 3, 'book': 1}), ('Benjen-Stark', 'Robb-Stark', {'weight': 7, 'book': 1}), ('Benjen-Stark', 'Theon-Greyjoy', {'weight': 4, 'book': 1}), ('Benjen-Stark', 'Waymar-Royce', {'weight': 3, 'book': 1}), ('Benjen-Stark', 'Yoren', {'weight': 4, 'book': 1}), ('Bran-Stark', 'Catelyn-Stark', {'weight': 18, 'book': 1}), ('Bran-Stark', 'Cersei-Lannister', {'weight': 6, 'book': 1}), ('Bran-Stark', 'Hali', {'weight': 3, 'book': 1}), ('Bran-Stark', 'Hallis-Mollen', {'weight': 3, 'book': 1}), ('Bran-Stark', 'Hodor', {'weight': 29, 'book': 1}), ('Bran-Stark', 'Hullen', {'weight': 3, 'book': 1}), ('Bran-Stark', 'Joffrey-Baratheon', {'weight': 3, 'book': 1}), ('Bran-Stark', 'Joseth', {'weight': 4, 'book': 1}), ('Bran-Stark', 'Luwin', {'weight': 65, 'book': 1}), ('Bran-Stark', 'Nan', {'weight': 17, 'book': 1}), ('Bran-Stark', 'Osha', {'weight': 12, 'book': 1}), ('Bran-Stark', 'Petyr-Baelish', {'weight': 3, 'book': 1}), ('Bran-Stark', 'Renly-Baratheon', {'weight': 3, 'book': 1}), ('Bran-Stark', 'Rickard-Karstark', {'weight': 4, 'book': 1}), ('Bran-Stark', 'Rickard-Stark', {'weight': 4, 'book': 1}), ('Bran-Stark', 'Rickon-Stark', {'weight': 32, 'book': 1}), ('Bran-Stark', 'Robb-Stark', {'weight': 112, 'book': 1}), ('Bran-Stark', 'Rodrik-Cassel', {'weight': 6, 'book': 1}), ('Bran-Stark', 'Sansa-Stark', {'weight': 10, 'book': 1}), ('Bran-Stark', 'Stiv', {'weight': 4, 'book': 1}), ('Bran-Stark', 'Theon-Greyjoy', {'weight': 23, 'book': 1}), ('Bran-Stark', 'Tommen-Baratheon', {'weight': 5, 'book': 1}), ('Bran-Stark', 'Yoren', {'weight': 3, 'book': 1}), ('Catelyn-Stark', 'Bronn', {'weight': 6, 'book': 1}), ('Catelyn-Stark', 'Brynden-Tully', {'weight': 16, 'book': 1}), ('Catelyn-Stark', 'Cersei-Lannister', {'weight': 12, 'book': 1}), ('Catelyn-Stark', 'Colemon', {'weight': 3, 'book': 1}), ('Catelyn-Stark', 'Donnel-Waynwood', {'weight': 3, 'book': 1}), ('Catelyn-Stark', 'Edmure-Tully', {'weight': 7, 'book': 1}), ('Catelyn-Stark', 'Eon-Hunter', {'weight': 3, 'book': 1}), ('Catelyn-Stark', 'Hallis-Mollen', {'weight': 10, 'book': 1}), ('Catelyn-Stark', 'Hoster-Tully', {'weight': 6, 'book': 1}), ('Catelyn-Stark', 'Joffrey-Baratheon', {'weight': 4, 'book': 1}), ('Catelyn-Stark', 'Jon-Umber-(Greatjon)', {'weight': 4, 'book': 1}), ('Catelyn-Stark', 'Luwin', {'weight': 14, 'book': 1}), ('Catelyn-Stark', 'Lysa-Arryn', {'weight': 33, 'book': 1}), ('Catelyn-Stark', 'Marillion', {'weight': 6, 'book': 1}), ('Catelyn-Stark', 'Masha-Heddle', {'weight': 5, 'book': 1}), ('Catelyn-Stark', 'Moreo-Tumitis', {'weight': 3, 'book': 1}), ('Catelyn-Stark', 'Mya-Stone', {'weight': 9, 'book': 1}), ('Catelyn-Stark', 'Mychel-Redfort', {'weight': 3, 'book': 1}), ('Catelyn-Stark', 'Nestor-Royce', {'weight': 3, 'book': 1}), ('Catelyn-Stark', 'Petyr-Baelish', {'weight': 22, 'book': 1}), ('Catelyn-Stark', 'Rickard-Karstark', {'weight': 6, 'book': 1}), ('Catelyn-Stark', 'Rickon-Stark', {'weight': 3, 'book': 1}), ('Catelyn-Stark', 'Robb-Stark', {'weight': 49, 'book': 1}), ('Catelyn-Stark', 'Robert-Arryn', {'weight': 3, 'book': 1}), ('Catelyn-Stark', 'Rodrik-Cassel', {'weight': 25, 'book': 1}), ('Catelyn-Stark', 'Sansa-Stark', {'weight': 9, 'book': 1}), ('Catelyn-Stark', 'Stevron-Frey', {'weight': 5, 'book': 1}), ('Catelyn-Stark', 'Theon-Greyjoy', {'weight': 9, 'book': 1}), ('Catelyn-Stark', 'Tytos-Blackwood', {'weight': 4, 'book': 1}), ('Catelyn-Stark', 'Vardis-Egen', {'weight': 5, 'book': 1}), ('Catelyn-Stark', 'Varys', {'weight': 10, 'book': 1}), ('Catelyn-Stark', 'Walder-Frey', {'weight': 13, 'book': 1}), ('Catelyn-Stark', 'Wendel-Manderly', {'weight': 3, 'book': 1}), ('Catelyn-Stark', 'Willis-Wode', {'weight': 5, 'book': 1}), ('Cersei-Lannister', 'Arys-Oakheart', {'weight': 3, 'book': 1}), ('Cersei-Lannister', 'Barristan-Selmy', {'weight': 12, 'book': 1}), ('Cersei-Lannister', 'Boros-Blount', {'weight': 9, 'book': 1}), ('Cersei-Lannister', 'Ilyn-Payne', {'weight': 4, 'book': 1}), ('Cersei-Lannister', 'Janos-Slynt', {'weight': 4, 'book': 1}), ('Cersei-Lannister', 'Joffrey-Baratheon', {'weight': 42, 'book': 1}), ('Cersei-Lannister', 'Meryn-Trant', {'weight': 4, 'book': 1}), ('Cersei-Lannister', 'Mordane', {'weight': 3, 'book': 1}), ('Cersei-Lannister', 'Myrcella-Baratheon', {'weight': 7, 'book': 1}), ('Cersei-Lannister', 'Petyr-Baelish', {'weight': 13, 'book': 1}), ('Cersei-Lannister', 'Pycelle', {'weight': 9, 'book': 1}), ('Cersei-Lannister', 'Renly-Baratheon', {'weight': 5, 'book': 1}), ('Cersei-Lannister', 'Sandor-Clegane', {'weight': 5, 'book': 1}), ('Cersei-Lannister', 'Sansa-Stark', {'weight': 29, 'book': 1}), ('Cersei-Lannister', 'Stannis-Baratheon', {'weight': 5, 'book': 1}), ('Cersei-Lannister', 'Tommen-Baratheon', {'weight': 4, 'book': 1}), ('Cersei-Lannister', 'Varys', {'weight': 19, 'book': 1}), ('Cersei-Lannister', 'Vayon-Poole', {'weight': 4, 'book': 1}), ('Ilyn-Payne', 'Jeyne-Poole', {'weight': 3, 'book': 1}), ('Ilyn-Payne', 'Joffrey-Baratheon', {'weight': 4, 'book': 1}), ('Ilyn-Payne', 'Loras-Tyrell', {'weight': 3, 'book': 1}), ('Ilyn-Payne', 'Sansa-Stark', {'weight': 9, 'book': 1}), ('Ilyn-Payne', 'Varys', {'weight': 5, 'book': 1}), ('Jeyne-Poole', 'Loras-Tyrell', {'weight': 4, 'book': 1}), ('Jeyne-Poole', 'Mordane', {'weight': 7, 'book': 1}), ('Jeyne-Poole', 'Sansa-Stark', {'weight': 27, 'book': 1}), ('Joffrey-Baratheon', 'Barristan-Selmy', {'weight': 6, 'book': 1}), ('Joffrey-Baratheon', 'Boros-Blount', {'weight': 3, 'book': 1}), ('Joffrey-Baratheon', 'High-Septon-(fat_one)', {'weight': 4, 'book': 1}), ('Joffrey-Baratheon', 'Janos-Slynt', {'weight': 4, 'book': 1}), ('Joffrey-Baratheon', 'Loras-Tyrell', {'weight': 3, 'book': 1}), ('Joffrey-Baratheon', 'Meryn-Trant', {'weight': 3, 'book': 1}), ('Joffrey-Baratheon', 'Mordane', {'weight': 9, 'book': 1}), ('Joffrey-Baratheon', 'Mycah', {'weight': 14, 'book': 1}), ('Joffrey-Baratheon', 'Myrcella-Baratheon', {'weight': 5, 'book': 1}), ('Joffrey-Baratheon', 'Petyr-Baelish', {'weight': 11, 'book': 1}), ('Joffrey-Baratheon', 'Pycelle', {'weight': 4, 'book': 1}), ('Joffrey-Baratheon', 'Renly-Baratheon', {'weight': 9, 'book': 1}), ('Joffrey-Baratheon', 'Robb-Stark', {'weight': 19, 'book': 1}), ('Joffrey-Baratheon', 'Rodrik-Cassel', {'weight': 9, 'book': 1}), ('Joffrey-Baratheon', 'Sandor-Clegane', {'weight': 24, 'book': 1}), ('Joffrey-Baratheon', 'Sansa-Stark', {'weight': 87, 'book': 1}), ('Joffrey-Baratheon', 'Stannis-Baratheon', {'weight': 7, 'book': 1}), ('Joffrey-Baratheon', 'Tommen-Baratheon', {'weight': 8, 'book': 1}), ('Joffrey-Baratheon', 'Varys', {'weight': 7, 'book': 1}), ('Meryn-Trant', 'Barristan-Selmy', {'weight': 3, 'book': 1}), ('Meryn-Trant', 'Boros-Blount', {'weight': 5, 'book': 1}), ('Meryn-Trant', 'Sandor-Clegane', {'weight': 4, 'book': 1}), ('Meryn-Trant', 'Sansa-Stark', {'weight': 5, 'book': 1}), ('Meryn-Trant', 'Syrio-Forel', {'weight': 5, 'book': 1}), ('Mordane', 'Myrcella-Baratheon', {'weight': 12, 'book': 1}), ('Mordane', 'Petyr-Baelish', {'weight': 3, 'book': 1}), ('Mordane', 'Sansa-Stark', {'weight': 43, 'book': 1}), ('Mycah', 'Sandor-Clegane', {'weight': 5, 'book': 1}), ('Mycah', 'Sansa-Stark', {'weight': 10, 'book': 1}), ('Myrcella-Baratheon', 'Sansa-Stark', {'weight': 8, 'book': 1}), ('Myrcella-Baratheon', 'Tommen-Baratheon', {'weight': 6, 'book': 1}), ('Petyr-Baelish', 'Barristan-Selmy', {'weight': 7, 'book': 1}), ('Petyr-Baelish', 'Edmure-Tully', {'weight': 4, 'book': 1}), ('Petyr-Baelish', 'Gregor-Clegane', {'weight': 3, 'book': 1}), ('Petyr-Baelish', 'Janos-Slynt', {'weight': 3, 'book': 1}), ('Petyr-Baelish', 'Loras-Tyrell', {'weight': 5, 'book': 1}), ('Petyr-Baelish', 'Lysa-Arryn', {'weight': 4, 'book': 1}), ('Petyr-Baelish', 'Pycelle', {'weight': 14, 'book': 1}), ('Petyr-Baelish', 'Renly-Baratheon', {'weight': 12, 'book': 1}), ('Petyr-Baelish', 'Rodrik-Cassel', {'weight': 7, 'book': 1}), ('Petyr-Baelish', 'Sandor-Clegane', {'weight': 3, 'book': 1}), ('Petyr-Baelish', 'Sansa-Stark', {'weight': 8, 'book': 1}), ('Petyr-Baelish', 'Varys', {'weight': 29, 'book': 1}), ('Rickon-Stark', 'Luwin', {'weight': 9, 'book': 1}), ('Rickon-Stark', 'Robb-Stark', {'weight': 20, 'book': 1}), ('Rickon-Stark', 'Sansa-Stark', {'weight': 8, 'book': 1}), ('Robb-Stark', 'Brynden-Tully', {'weight': 9, 'book': 1}), ('Robb-Stark', 'Edmure-Tully', {'weight': 5, 'book': 1}), ('Robb-Stark', 'Galbart-Glover', {'weight': 5, 'book': 1}), ('Robb-Stark', 'Hallis-Mollen', {'weight': 13, 'book': 1}), ('Robb-Stark', 'Hodor', {'weight': 5, 'book': 1}), ('Robb-Stark', 'Hullen', {'weight': 3, 'book': 1}), ('Robb-Stark', 'Jon-Umber-(Greatjon)', {'weight': 8, 'book': 1}), ('Robb-Stark', 'Luwin', {'weight': 20, 'book': 1}), ('Robb-Stark', 'Nan', {'weight': 4, 'book': 1}), ('Robb-Stark', 'Osha', {'weight': 3, 'book': 1}), ('Robb-Stark', 'Renly-Baratheon', {'weight': 3, 'book': 1}), ('Robb-Stark', 'Rickard-Karstark', {'weight': 9, 'book': 1}), ('Robb-Stark', 'Rodrik-Cassel', {'weight': 15, 'book': 1}), ('Robb-Stark', 'Roose-Bolton', {'weight': 6, 'book': 1}), ('Robb-Stark', 'Sansa-Stark', {'weight': 13, 'book': 1}), ('Robb-Stark', 'Stiv', {'weight': 3, 'book': 1}), ('Robb-Stark', 'Theon-Greyjoy', {'weight': 37, 'book': 1}), ('Robb-Stark', 'Torrhen-Karstark', {'weight': 3, 'book': 1}), ('Robb-Stark', 'Walder-Frey', {'weight': 7, 'book': 1}), ('Robb-Stark', 'Wendel-Manderly', {'weight': 3, 'book': 1}), ('Robb-Stark', 'Yoren', {'weight': 3, 'book': 1}), ('Rodrik-Cassel', 'Bronn', {'weight': 4, 'book': 1}), ('Rodrik-Cassel', 'Hullen', {'weight': 3, 'book': 1}), ('Rodrik-Cassel', 'Loras-Tyrell', {'weight': 3, 'book': 1}), ('Rodrik-Cassel', 'Luwin', {'weight': 3, 'book': 1}), ('Rodrik-Cassel', 'Marillion', {'weight': 5, 'book': 1}), ('Rodrik-Cassel', 'Theon-Greyjoy', {'weight': 6, 'book': 1}), ('Rodrik-Cassel', 'Willis-Wode', {'weight': 7, 'book': 1}), ('Sandor-Clegane', 'Balon-Swann', {'weight': 3, 'book': 1}), ('Sandor-Clegane', 'Barristan-Selmy', {'weight': 3, 'book': 1}), ('Sandor-Clegane', 'Gregor-Clegane', {'weight': 11, 'book': 1}), ('Sandor-Clegane', 'Loras-Tyrell', {'weight': 4, 'book': 1}), ('Sandor-Clegane', 'Renly-Baratheon', {'weight': 7, 'book': 1}), ('Sandor-Clegane', 'Sansa-Stark', {'weight': 23, 'book': 1}), ('Sansa-Stark', 'Barristan-Selmy', {'weight': 3, 'book': 1}), ('Sansa-Stark', 'Beric-Dondarrion', {'weight': 4, 'book': 1}), ('Sansa-Stark', 'Boros-Blount', {'weight': 6, 'book': 1}), ('Sansa-Stark', 'Gregor-Clegane', {'weight': 5, 'book': 1}), ('Sansa-Stark', 'Janos-Slynt', {'weight': 3, 'book': 1}), ('Sansa-Stark', 'Loras-Tyrell', {'weight': 14, 'book': 1}), ('Sansa-Stark', 'Lyanna-Stark', {'weight': 4, 'book': 1}), ('Sansa-Stark', 'Maegor-I-Targaryen', {'weight': 4, 'book': 1}), ('Sansa-Stark', 'Pycelle', {'weight': 8, 'book': 1}), ('Sansa-Stark', 'Renly-Baratheon', {'weight': 5, 'book': 1}), ('Sansa-Stark', 'Rhaegar-Targaryen', {'weight': 3, 'book': 1}), ('Sansa-Stark', 'Stannis-Baratheon', {'weight': 3, 'book': 1}), ('Sansa-Stark', 'Varys', {'weight': 4, 'book': 1}), ('Tommen-Baratheon', 'Luwin', {'weight': 3, 'book': 1}), ('Balon-Swann', 'Renly-Baratheon', {'weight': 3, 'book': 1}), ('Renly-Baratheon', 'Barristan-Selmy', {'weight': 13, 'book': 1}), ('Renly-Baratheon', 'Cayn', {'weight': 3, 'book': 1}), ('Renly-Baratheon', 'Loras-Tyrell', {'weight': 5, 'book': 1}), ('Renly-Baratheon', 'Pycelle', {'weight': 7, 'book': 1}), ('Renly-Baratheon', 'Stannis-Baratheon', {'weight': 19, 'book': 1}), ('Renly-Baratheon', 'Varys', {'weight': 9, 'book': 1}), ('Barristan-Selmy', 'Boros-Blount', {'weight': 3, 'book': 1}), ('Barristan-Selmy', 'Pycelle', {'weight': 8, 'book': 1}), ('Barristan-Selmy', 'Varys', {'weight': 9, 'book': 1}), ('Pycelle', 'Gregor-Clegane', {'weight': 3, 'book': 1}), ('Pycelle', 'Janos-Slynt', {'weight': 3, 'book': 1}), ('Pycelle', 'Stannis-Baratheon', {'weight': 3, 'book': 1}), ('Pycelle', 'Varys', {'weight': 17, 'book': 1}), ('Varys', 'Stannis-Baratheon', {'weight': 5, 'book': 1}), ('Jaremy-Rykker', 'Jafer-Flowers', {'weight': 3, 'book': 1}), ('Luwin', 'Hallis-Mollen', {'weight': 4, 'book': 1}), ('Luwin', 'Hodor', {'weight': 10, 'book': 1}), ('Luwin', 'Hullen', {'weight': 3, 'book': 1}), ('Luwin', 'Joseth', {'weight': 3, 'book': 1}), ('Luwin', 'Nan', {'weight': 4, 'book': 1}), ('Luwin', 'Osha', {'weight': 16, 'book': 1}), ('Luwin', 'Rickard-Karstark', {'weight': 3, 'book': 1}), ('Luwin', 'Theon-Greyjoy', {'weight': 10, 'book': 1}), ('Theon-Greyjoy', 'Brynden-Tully', {'weight': 6, 'book': 1}), ('Theon-Greyjoy', 'Hallis-Mollen', {'weight': 7, 'book': 1}), ('Theon-Greyjoy', 'Jon-Umber-(Greatjon)', {'weight': 5, 'book': 1}), ('Theon-Greyjoy', 'Walder-Frey', {'weight': 4, 'book': 1}), ('Waymar-Royce', 'Gared', {'weight': 13, 'book': 1}), ('Waymar-Royce', 'Will-(prologue)', {'weight': 18, 'book': 1}), ('Beric-Dondarrion', 'Gregor-Clegane', {'weight': 6, 'book': 1}), ('Beric-Dondarrion', 'Loras-Tyrell', {'weight': 5, 'book': 1}), ('Beric-Dondarrion', 'Thoros-of-Myr', {'weight': 5, 'book': 1}), ('Gregor-Clegane', 'Loras-Tyrell', {'weight': 10, 'book': 1}), ('Gregor-Clegane', 'Marq-Piper', {'weight': 6, 'book': 1}), ('Loras-Tyrell', 'Mace-Tyrell', {'weight': 3, 'book': 1}), ('Hodor', 'Nan', {'weight': 8, 'book': 1}), ('Rickard-Karstark', 'Galbart-Glover', {'weight': 4, 'book': 1}), ('Rickard-Karstark', 'Jon-Umber-(Greatjon)', {'weight': 7, 'book': 1}), ('Rickard-Karstark', 'Maege-Mormont', {'weight': 3, 'book': 1}), ('Rickard-Karstark', 'Roose-Bolton', {'weight': 3, 'book': 1}), ('Bronn', 'Chiggen', {'weight': 8, 'book': 1}), ('Bronn', 'Marillion', {'weight': 4, 'book': 1}), ('Bronn', 'Shae', {'weight': 3, 'book': 1}), ('Bronn', 'Shagga', {'weight': 3, 'book': 1}), ('Bronn', 'Vardis-Egen', {'weight': 11, 'book': 1}), ('Bronn', 'Willis-Wode', {'weight': 5, 'book': 1}), ('Chiggen', 'Willis-Wode', {'weight': 3, 'book': 1}), ('Marillion', 'Willis-Wode', {'weight': 4, 'book': 1}), ('Shagga', 'Conn', {'weight': 9, 'book': 1}), ('Shagga', 'Dolf', {'weight': 7, 'book': 1}), ('Shagga', 'Timett', {'weight': 4, 'book': 1}), ('Shagga', 'Ulf-son-of-Umar', {'weight': 4, 'book': 1}), ('Vardis-Egen', 'Colemon', {'weight': 4, 'book': 1}), ('Vardis-Egen', 'Eon-Hunter', {'weight': 3, 'book': 1}), ('Vardis-Egen', 'Lysa-Arryn', {'weight': 5, 'book': 1}), ('Brynden-Tully', 'Edmure-Tully', {'weight': 3, 'book': 1}), ('Brynden-Tully', 'Hoster-Tully', {'weight': 5, 'book': 1}), ('Brynden-Tully', 'Lysa-Arryn', {'weight': 10, 'book': 1}), ('Brynden-Tully', 'Nestor-Royce', {'weight': 3, 'book': 1}), ('Brynden-Tully', 'Walder-Frey', {'weight': 3, 'book': 1}), ('Edmure-Tully', 'Hoster-Tully', {'weight': 7, 'book': 1}), ('Edmure-Tully', 'Karyl-Vance', {'weight': 4, 'book': 1}), ('Edmure-Tully', 'Lysa-Arryn', {'weight': 5, 'book': 1}), ('Edmure-Tully', 'Marq-Piper', {'weight': 3, 'book': 1}), ('Edmure-Tully', 'Tytos-Blackwood', {'weight': 3, 'book': 1}), ('Hoster-Tully', 'Lysa-Arryn', {'weight': 3, 'book': 1}), ('Lysa-Arryn', 'Eon-Hunter', {'weight': 3, 'book': 1}), ('Lysa-Arryn', 'Lyn-Corbray', {'weight': 3, 'book': 1}), ('Lysa-Arryn', 'Robert-Arryn', {'weight': 8, 'book': 1}), ('Lysa-Arryn', 'Stannis-Baratheon', {'weight': 4, 'book': 1}), ('Walder-Frey', 'Danwell-Frey', {'weight': 3, 'book': 1}), ('Walder-Frey', 'Stevron-Frey', {'weight': 3, 'book': 1}), ('Jon-Umber-(Greatjon)', 'Galbart-Glover', {'weight': 4, 'book': 1}), ('Jon-Umber-(Greatjon)', 'Maege-Mormont', {'weight': 5, 'book': 1}), ('Jon-Umber-(Greatjon)', 'Roose-Bolton', {'weight': 3, 'book': 1}), ('Tytos-Blackwood', 'Jonos-Bracken', {'weight': 3, 'book': 1}), ('Clement-Piper', 'Karyl-Vance', {'weight': 4, 'book': 1}), ('Karyl-Vance', 'Marq-Piper', {'weight': 3, 'book': 1}), ('Cohollo', 'Haggo', {'weight': 7, 'book': 1}), ('Cohollo', 'Qotho', {'weight': 6, 'book': 1}), ('Haggo', 'Mirri-Maz-Duur', {'weight': 3, 'book': 1}), ('Haggo', 'Qotho', {'weight': 11, 'book': 1}), ('Qotho', 'Mirri-Maz-Duur', {'weight': 9, 'book': 1}), ('Conn', 'Coratt', {'weight': 5, 'book': 1}), ('Doreah', 'Irri', {'weight': 14, 'book': 1}), ('Doreah', 'Jhiqui', {'weight': 11, 'book': 1}), ('Doreah', 'Viserys-Targaryen', {'weight': 3, 'book': 1}), ('Illyrio-Mopatis', 'Irri', {'weight': 3, 'book': 1}), ('Illyrio-Mopatis', 'Viserys-Targaryen', {'weight': 14, 'book': 1}), ('Irri', 'Jhiqui', {'weight': 14, 'book': 1}), ('Irri', 'Viserys-Targaryen', {'weight': 5, 'book': 1}), ('Rhaegar-Targaryen', 'Viserys-Targaryen', {'weight': 5, 'book': 1}), ('Danwell-Frey', 'Hosteen-Frey', {'weight': 3, 'book': 1}), ('Danwell-Frey', 'Jared-Frey', {'weight': 3, 'book': 1}), ('Hosteen-Frey', 'Jared-Frey', {'weight': 3, 'book': 1}), ('Daryn-Hornwood', 'Torrhen-Karstark', {'weight': 3, 'book': 1}), ('Jommo', 'Ogo', {'weight': 3, 'book': 1}), ('Ogo', 'Fogo', {'weight': 4, 'book': 1}), ('Galbart-Glover', 'Roose-Bolton', {'weight': 3, 'book': 1}), ('Wyl-(guard)', 'Heward', {'weight': 3, 'book': 1}), ('Gared', 'Will-(prologue)', {'weight': 12, 'book': 1}), ('Jyck', 'Morrec', {'weight': 5, 'book': 1}), ('Mace-Tyrell', 'Paxter-Redwyne', {'weight': 3, 'book': 1})])"
      ]
     },
     "execution_count": 5,
     "metadata": {},
     "output_type": "execute_result"
    }
   ],
   "source": [
    "# see all of the edges\n",
    "edges=g1.edges()\n",
    "edges.data()"
   ]
  },
  {
   "cell_type": "code",
   "execution_count": 9,
   "metadata": {
    "collapsed": true,
    "jupyter": {
     "outputs_hidden": true
    }
   },
   "outputs": [
    {
     "data": {
      "text/plain": [
       "['Alliser-Thorne',\n",
       " 'Benjen-Stark',\n",
       " 'Bran-Stark',\n",
       " 'Bronn',\n",
       " 'Brynden-Tully',\n",
       " 'Catelyn-Stark',\n",
       " 'Cersei-Lannister',\n",
       " 'Chella',\n",
       " 'Chiggen',\n",
       " 'Conn',\n",
       " 'Eddard-Stark',\n",
       " 'Gregor-Clegane',\n",
       " 'Gunthor-son-of-Gurn',\n",
       " 'Jaime-Lannister',\n",
       " 'Jeor-Mormont',\n",
       " 'Joffrey-Baratheon',\n",
       " 'Jon-Arryn',\n",
       " 'Jon-Snow',\n",
       " 'Jyck',\n",
       " 'Kevan-Lannister',\n",
       " 'Kurleket',\n",
       " 'Leo-Lefford',\n",
       " 'Luwin',\n",
       " 'Lysa-Arryn',\n",
       " 'Marillion',\n",
       " 'Mord',\n",
       " 'Morrec',\n",
       " 'Petyr-Baelish',\n",
       " 'Renly-Baratheon',\n",
       " 'Rickon-Stark',\n",
       " 'Robb-Stark',\n",
       " 'Robert-Arryn',\n",
       " 'Robert-Baratheon',\n",
       " 'Rodrik-Cassel',\n",
       " 'Sandor-Clegane',\n",
       " 'Sansa-Stark',\n",
       " 'Shae',\n",
       " 'Shagga',\n",
       " 'Theon-Greyjoy',\n",
       " 'Timett',\n",
       " 'Tommen-Baratheon',\n",
       " 'Tywin-Lannister',\n",
       " 'Vardis-Egen',\n",
       " 'Varys',\n",
       " 'Willis-Wode',\n",
       " 'Yoren']"
      ]
     },
     "execution_count": 9,
     "metadata": {},
     "output_type": "execute_result"
    }
   ],
   "source": [
    "# find neighbors of Tyrion Lannister\n",
    "[x for x in g1.neighbors('Tyrion-Lannister')]\n"
   ]
  },
  {
   "cell_type": "code",
   "execution_count": 10,
   "metadata": {
    "collapsed": true,
    "jupyter": {
     "outputs_hidden": true
    }
   },
   "outputs": [
    {
     "data": {
      "text/plain": [
       "{'Addam-Marbrand': 0.010752688172043012,\n",
       " 'Jaime-Lannister': 0.15591397849462366,\n",
       " 'Tywin-Lannister': 0.11827956989247312,\n",
       " 'Aegon-I-Targaryen': 0.010752688172043012,\n",
       " 'Daenerys-Targaryen': 0.11290322580645162,\n",
       " 'Eddard-Stark': 0.3548387096774194,\n",
       " 'Aemon-Targaryen-(Maester-Aemon)': 0.03763440860215054,\n",
       " 'Alliser-Thorne': 0.05376344086021506,\n",
       " 'Bowen-Marsh': 0.02688172043010753,\n",
       " 'Chett': 0.016129032258064516,\n",
       " 'Clydas': 0.005376344086021506,\n",
       " 'Jeor-Mormont': 0.06989247311827958,\n",
       " 'Jon-Snow': 0.19892473118279572,\n",
       " 'Samwell-Tarly': 0.06451612903225806,\n",
       " 'Aerys-II-Targaryen': 0.03225806451612903,\n",
       " 'Brandon-Stark': 0.03225806451612903,\n",
       " 'Gerold-Hightower': 0.02688172043010753,\n",
       " 'Jon-Arryn': 0.08064516129032259,\n",
       " 'Robert-Baratheon': 0.2688172043010753,\n",
       " 'Aggo': 0.03225806451612903,\n",
       " 'Drogo': 0.10215053763440861,\n",
       " 'Jhogo': 0.03225806451612903,\n",
       " 'Jorah-Mormont': 0.06989247311827958,\n",
       " 'Quaro': 0.02688172043010753,\n",
       " 'Rakharo': 0.02688172043010753,\n",
       " 'Albett': 0.016129032258064516,\n",
       " 'Halder': 0.043010752688172046,\n",
       " 'Rast': 0.03225806451612903,\n",
       " 'Grenn': 0.03763440860215054,\n",
       " 'Pypar': 0.03763440860215054,\n",
       " 'Tyrion-Lannister': 0.24731182795698928,\n",
       " 'Alyn': 0.02688172043010753,\n",
       " 'Harwin': 0.021505376344086023,\n",
       " 'Jory-Cassel': 0.11290322580645162,\n",
       " 'Tomard': 0.03763440860215054,\n",
       " 'Arthur-Dayne': 0.005376344086021506,\n",
       " 'Arya-Stark': 0.14516129032258066,\n",
       " 'Benjen-Stark': 0.07526881720430108,\n",
       " 'Bran-Stark': 0.17204301075268819,\n",
       " 'Catelyn-Stark': 0.23118279569892475,\n",
       " 'Cersei-Lannister': 0.16129032258064518,\n",
       " 'Desmond': 0.010752688172043012,\n",
       " 'Ilyn-Payne': 0.048387096774193554,\n",
       " 'Jeyne-Poole': 0.03225806451612903,\n",
       " 'Joffrey-Baratheon': 0.16129032258064518,\n",
       " 'Meryn-Trant': 0.048387096774193554,\n",
       " 'Mordane': 0.05913978494623656,\n",
       " 'Mycah': 0.02688172043010753,\n",
       " 'Myrcella-Baratheon': 0.03763440860215054,\n",
       " 'Petyr-Baelish': 0.13978494623655915,\n",
       " 'Rickon-Stark': 0.048387096774193554,\n",
       " 'Robb-Stark': 0.18817204301075272,\n",
       " 'Rodrik-Cassel': 0.09677419354838711,\n",
       " 'Sandor-Clegane': 0.08602150537634409,\n",
       " 'Sansa-Stark': 0.18817204301075272,\n",
       " 'Syrio-Forel': 0.016129032258064516,\n",
       " 'Tommen-Baratheon': 0.043010752688172046,\n",
       " 'Vayon-Poole': 0.02688172043010753,\n",
       " 'Yoren': 0.03763440860215054,\n",
       " 'Arys-Oakheart': 0.005376344086021506,\n",
       " 'Balon-Greyjoy': 0.010752688172043012,\n",
       " 'Balon-Swann': 0.010752688172043012,\n",
       " 'Renly-Baratheon': 0.09677419354838711,\n",
       " 'Barristan-Selmy': 0.07526881720430108,\n",
       " 'Boros-Blount': 0.02688172043010753,\n",
       " 'Pycelle': 0.07526881720430108,\n",
       " 'Varys': 0.0913978494623656,\n",
       " 'Jaremy-Rykker': 0.021505376344086023,\n",
       " 'Luwin': 0.09677419354838711,\n",
       " 'Mance-Rayder': 0.005376344086021506,\n",
       " 'Theon-Greyjoy': 0.08064516129032259,\n",
       " 'Waymar-Royce': 0.016129032258064516,\n",
       " 'Beric-Dondarrion': 0.03225806451612903,\n",
       " 'Gregor-Clegane': 0.06451612903225806,\n",
       " 'Loras-Tyrell': 0.07526881720430108,\n",
       " 'Thoros-of-Myr': 0.005376344086021506,\n",
       " 'Hali': 0.005376344086021506,\n",
       " 'Hallis-Mollen': 0.02688172043010753,\n",
       " 'Hodor': 0.021505376344086023,\n",
       " 'Hullen': 0.03225806451612903,\n",
       " 'Joseth': 0.010752688172043012,\n",
       " 'Nan': 0.021505376344086023,\n",
       " 'Osha': 0.016129032258064516,\n",
       " 'Rickard-Karstark': 0.05376344086021506,\n",
       " 'Rickard-Stark': 0.010752688172043012,\n",
       " 'Stiv': 0.010752688172043012,\n",
       " 'Lyanna-Stark': 0.021505376344086023,\n",
       " 'Bronn': 0.05376344086021506,\n",
       " 'Chiggen': 0.016129032258064516,\n",
       " 'Marillion': 0.02688172043010753,\n",
       " 'Shae': 0.010752688172043012,\n",
       " 'Shagga': 0.03225806451612903,\n",
       " 'Vardis-Egen': 0.03225806451612903,\n",
       " 'Willis-Wode': 0.03225806451612903,\n",
       " 'Brynden-Tully': 0.05913978494623656,\n",
       " 'Edmure-Tully': 0.05913978494623656,\n",
       " 'Hoster-Tully': 0.02688172043010753,\n",
       " 'Lysa-Arryn': 0.08064516129032259,\n",
       " 'Nestor-Royce': 0.010752688172043012,\n",
       " 'Walder-Frey': 0.03763440860215054,\n",
       " 'Colemon': 0.010752688172043012,\n",
       " 'Donnel-Waynwood': 0.005376344086021506,\n",
       " 'Eon-Hunter': 0.016129032258064516,\n",
       " 'Jon-Umber-(Greatjon)': 0.043010752688172046,\n",
       " 'Masha-Heddle': 0.005376344086021506,\n",
       " 'Moreo-Tumitis': 0.005376344086021506,\n",
       " 'Mya-Stone': 0.005376344086021506,\n",
       " 'Mychel-Redfort': 0.005376344086021506,\n",
       " 'Robert-Arryn': 0.016129032258064516,\n",
       " 'Stevron-Frey': 0.010752688172043012,\n",
       " 'Tytos-Blackwood': 0.016129032258064516,\n",
       " 'Wendel-Manderly': 0.010752688172043012,\n",
       " 'Cayn': 0.016129032258064516,\n",
       " 'Janos-Slynt': 0.03763440860215054,\n",
       " 'Stannis-Baratheon': 0.06451612903225806,\n",
       " 'Chella': 0.005376344086021506,\n",
       " 'Clement-Piper': 0.005376344086021506,\n",
       " 'Karyl-Vance': 0.016129032258064516,\n",
       " 'Cohollo': 0.021505376344086023,\n",
       " 'Haggo': 0.03225806451612903,\n",
       " 'Qotho': 0.03763440860215054,\n",
       " 'Conn': 0.016129032258064516,\n",
       " 'Coratt': 0.005376344086021506,\n",
       " 'Doreah': 0.03225806451612903,\n",
       " 'Eroeh': 0.005376344086021506,\n",
       " 'Illyrio-Mopatis': 0.03225806451612903,\n",
       " 'Irri': 0.043010752688172046,\n",
       " 'Jhiqui': 0.02688172043010753,\n",
       " 'Mirri-Maz-Duur': 0.03225806451612903,\n",
       " 'Rhaegar-Targaryen': 0.03763440860215054,\n",
       " 'Viserys-Targaryen': 0.043010752688172046,\n",
       " 'Danwell-Frey': 0.016129032258064516,\n",
       " 'Hosteen-Frey': 0.010752688172043012,\n",
       " 'Jared-Frey': 0.010752688172043012,\n",
       " 'Dareon': 0.005376344086021506,\n",
       " 'Daryn-Hornwood': 0.010752688172043012,\n",
       " 'Torrhen-Karstark': 0.016129032258064516,\n",
       " 'Dolf': 0.005376344086021506,\n",
       " 'Donal-Noye': 0.005376344086021506,\n",
       " 'Jommo': 0.010752688172043012,\n",
       " 'Ogo': 0.016129032258064516,\n",
       " 'Rhaego': 0.005376344086021506,\n",
       " 'Dywen': 0.005376344086021506,\n",
       " 'Galbart-Glover': 0.03225806451612903,\n",
       " 'Gendry': 0.005376344086021506,\n",
       " 'High-Septon-(fat_one)': 0.010752688172043012,\n",
       " 'Howland-Reed': 0.005376344086021506,\n",
       " 'Jacks': 0.005376344086021506,\n",
       " 'Joss': 0.005376344086021506,\n",
       " 'Marq-Piper': 0.02688172043010753,\n",
       " 'Porther': 0.005376344086021506,\n",
       " 'Raymun-Darry': 0.010752688172043012,\n",
       " 'Tobho-Mott': 0.005376344086021506,\n",
       " 'Tregar': 0.005376344086021506,\n",
       " 'Varly': 0.005376344086021506,\n",
       " 'Wyl-(guard)': 0.021505376344086023,\n",
       " 'Wylla': 0.005376344086021506,\n",
       " 'Fogo': 0.005376344086021506,\n",
       " 'Roose-Bolton': 0.02688172043010753,\n",
       " 'Gared': 0.016129032258064516,\n",
       " 'Will-(prologue)': 0.010752688172043012,\n",
       " 'Oswell-Whent': 0.005376344086021506,\n",
       " 'Todder': 0.021505376344086023,\n",
       " 'Gunthor-son-of-Gurn': 0.005376344086021506,\n",
       " 'Harys-Swyft': 0.005376344086021506,\n",
       " 'Heward': 0.010752688172043012,\n",
       " 'Hobb': 0.005376344086021506,\n",
       " 'Hugh': 0.005376344086021506,\n",
       " 'Jafer-Flowers': 0.005376344086021506,\n",
       " 'Kevan-Lannister': 0.016129032258064516,\n",
       " 'Matthar': 0.005376344086021506,\n",
       " 'Othor': 0.005376344086021506,\n",
       " 'Maege-Mormont': 0.010752688172043012,\n",
       " 'Jonos-Bracken': 0.005376344086021506,\n",
       " 'Jyck': 0.010752688172043012,\n",
       " 'Morrec': 0.010752688172043012,\n",
       " 'Kurleket': 0.005376344086021506,\n",
       " 'Lancel-Lannister': 0.005376344086021506,\n",
       " 'Leo-Lefford': 0.005376344086021506,\n",
       " 'Mace-Tyrell': 0.010752688172043012,\n",
       " 'Lyn-Corbray': 0.005376344086021506,\n",
       " 'Paxter-Redwyne': 0.005376344086021506,\n",
       " 'Maegor-I-Targaryen': 0.005376344086021506,\n",
       " 'Mord': 0.005376344086021506,\n",
       " 'Randyll-Tarly': 0.005376344086021506,\n",
       " 'Timett': 0.010752688172043012,\n",
       " 'Ulf-son-of-Umar': 0.005376344086021506}"
      ]
     },
     "execution_count": 10,
     "metadata": {},
     "output_type": "execute_result"
    }
   ],
   "source": [
    "# degree centrality\n",
    "nx.degree_centrality(g1)"
   ]
  },
  {
   "cell_type": "code",
   "execution_count": 8,
   "metadata": {
    "collapsed": true,
    "jupyter": {
     "outputs_hidden": true
    }
   },
   "outputs": [
    {
     "data": {
      "text/plain": [
       "{'Addam-Marbrand': 0.0,\n",
       " 'Jaime-Lannister': 0.0320095542681723,\n",
       " 'Tywin-Lannister': 0.026190475931508066,\n",
       " 'Aegon-I-Targaryen': 0.0,\n",
       " 'Daenerys-Targaryen': 0.08627015537511595,\n",
       " 'Eddard-Stark': 0.2696038913836117,\n",
       " 'Aemon-Targaryen-(Maester-Aemon)': 0.010844715683425361,\n",
       " 'Alliser-Thorne': 0.005026701469957172,\n",
       " 'Bowen-Marsh': 0.0,\n",
       " 'Chett': 0.0,\n",
       " 'Clydas': 0.0,\n",
       " 'Jeor-Mormont': 0.028345621007255038,\n",
       " 'Jon-Snow': 0.17158135899829566,\n",
       " 'Samwell-Tarly': 0.014449634885820021,\n",
       " 'Aerys-II-Targaryen': 0.00048173749786653005,\n",
       " 'Brandon-Stark': 0.002080261918971597,\n",
       " 'Gerold-Hightower': 0.02144725370531822,\n",
       " 'Jon-Arryn': 0.012525043642810938,\n",
       " 'Robert-Baratheon': 0.21403028397371796,\n",
       " 'Aggo': 7.265329845975008e-05,\n",
       " 'Drogo': 0.06481224290874964,\n",
       " 'Jhogo': 4.359197907585004e-05,\n",
       " 'Jorah-Mormont': 0.012611106728154204,\n",
       " 'Quaro': 2.906131938390003e-05,\n",
       " 'Rakharo': 3.390487261455003e-05,\n",
       " 'Albett': 0.0,\n",
       " 'Halder': 0.0002102102102102102,\n",
       " 'Rast': 7.749685169040008e-05,\n",
       " 'Grenn': 0.0002024605250411702,\n",
       " 'Pypar': 7.459071975201007e-05,\n",
       " 'Tyrion-Lannister': 0.1902124972697492,\n",
       " 'Alyn': 0.0003145710264731398,\n",
       " 'Harwin': 0.0003166711322941555,\n",
       " 'Jory-Cassel': 0.01752453849363612,\n",
       " 'Tomard': 0.0002966978204169855,\n",
       " 'Arthur-Dayne': 0.0,\n",
       " 'Arya-Stark': 0.017495289470929955,\n",
       " 'Benjen-Stark': 0.03293306050027417,\n",
       " 'Bran-Stark': 0.05579958811784442,\n",
       " 'Catelyn-Stark': 0.1513952715347627,\n",
       " 'Cersei-Lannister': 0.026434677939526103,\n",
       " 'Desmond': 0.0,\n",
       " 'Ilyn-Payne': 0.0003199575146182485,\n",
       " 'Jeyne-Poole': 6.109796432377078e-05,\n",
       " 'Joffrey-Baratheon': 0.018949350296839806,\n",
       " 'Meryn-Trant': 0.0006984119660127081,\n",
       " 'Mordane': 0.0010561655570225142,\n",
       " 'Mycah': 0.0,\n",
       " 'Myrcella-Baratheon': 2.8230995972931453e-05,\n",
       " 'Petyr-Baelish': 0.009436743202985242,\n",
       " 'Rickon-Stark': 8.984632696126533e-05,\n",
       " 'Robb-Stark': 0.07298399629664767,\n",
       " 'Rodrik-Cassel': 0.00963397409313393,\n",
       " 'Sandor-Clegane': 0.006237666841098885,\n",
       " 'Sansa-Stark': 0.03714483664326785,\n",
       " 'Syrio-Forel': 0.00012300558547174553,\n",
       " 'Tommen-Baratheon': 0.000554548184780281,\n",
       " 'Vayon-Poole': 0.0,\n",
       " 'Yoren': 0.00021138387522088702,\n",
       " 'Arys-Oakheart': 0.0,\n",
       " 'Balon-Greyjoy': 0.0,\n",
       " 'Balon-Swann': 0.0,\n",
       " 'Renly-Baratheon': 0.009635188708026638,\n",
       " 'Barristan-Selmy': 0.0012358894598099792,\n",
       " 'Boros-Blount': 0.0,\n",
       " 'Pycelle': 0.0003210706351837933,\n",
       " 'Varys': 0.010794552272183802,\n",
       " 'Jaremy-Rykker': 0.01075268817204301,\n",
       " 'Luwin': 0.013182650228125651,\n",
       " 'Mance-Rayder': 0.0,\n",
       " 'Theon-Greyjoy': 0.00980833131274694,\n",
       " 'Waymar-Royce': 0.006708358729333187,\n",
       " 'Beric-Dondarrion': 0.01075268817204301,\n",
       " 'Gregor-Clegane': 0.002923862955280991,\n",
       " 'Loras-Tyrell': 0.022409577164998796,\n",
       " 'Thoros-of-Myr': 0.0,\n",
       " 'Hali': 0.0,\n",
       " 'Hallis-Mollen': 0.0,\n",
       " 'Hodor': 0.0,\n",
       " 'Hullen': 0.0004513970364915859,\n",
       " 'Joseth': 0.0,\n",
       " 'Nan': 0.0,\n",
       " 'Osha': 0.0,\n",
       " 'Rickard-Karstark': 0.009473682089536549,\n",
       " 'Rickard-Stark': 8.86701693153306e-05,\n",
       " 'Stiv': 0.0,\n",
       " 'Lyanna-Stark': 3.321293643874289e-05,\n",
       " 'Bronn': 0.004124576359910305,\n",
       " 'Chiggen': 0.0,\n",
       " 'Marillion': 0.0,\n",
       " 'Shae': 0.0,\n",
       " 'Shagga': 0.02159256030223772,\n",
       " 'Vardis-Egen': 0.0011877067734453138,\n",
       " 'Willis-Wode': 0.00038763506505441997,\n",
       " 'Brynden-Tully': 0.00383234320543726,\n",
       " 'Edmure-Tully': 0.01963307983379491,\n",
       " 'Hoster-Tully': 0.0003909562718491462,\n",
       " 'Lysa-Arryn': 0.01821323157123013,\n",
       " 'Nestor-Royce': 0.0,\n",
       " 'Walder-Frey': 0.032338618467650716,\n",
       " 'Colemon': 0.0,\n",
       " 'Donnel-Waynwood': 0.0,\n",
       " 'Eon-Hunter': 0.0,\n",
       " 'Jon-Umber-(Greatjon)': 0.0033242714657788115,\n",
       " 'Masha-Heddle': 0.0,\n",
       " 'Moreo-Tumitis': 0.0,\n",
       " 'Mya-Stone': 0.0,\n",
       " 'Mychel-Redfort': 0.0,\n",
       " 'Robert-Arryn': 0.0,\n",
       " 'Stevron-Frey': 0.0,\n",
       " 'Tytos-Blackwood': 0.01075268817204301,\n",
       " 'Wendel-Manderly': 0.0,\n",
       " 'Cayn': 2.179598953792502e-05,\n",
       " 'Janos-Slynt': 0.0,\n",
       " 'Stannis-Baratheon': 0.0004430380168891369,\n",
       " 'Chella': 0.0,\n",
       " 'Clement-Piper': 0.0,\n",
       " 'Karyl-Vance': 0.01075268817204301,\n",
       " 'Cohollo': 0.0,\n",
       " 'Haggo': 6.780974522910006e-05,\n",
       " 'Qotho': 0.00011624527753560009,\n",
       " 'Conn': 0.01075268817204301,\n",
       " 'Coratt': 0.0,\n",
       " 'Doreah': 1.1624527753560013e-05,\n",
       " 'Eroeh': 0.0,\n",
       " 'Illyrio-Mopatis': 0.0011992863048539452,\n",
       " 'Irri': 9.590235396687009e-05,\n",
       " 'Jhiqui': 0.0,\n",
       " 'Mirri-Maz-Duur': 4.8435532306500046e-05,\n",
       " 'Rhaegar-Targaryen': 0.0028204821920682827,\n",
       " 'Viserys-Targaryen': 0.002857503691485831,\n",
       " 'Danwell-Frey': 0.02138913106655042,\n",
       " 'Hosteen-Frey': 0.0,\n",
       " 'Jared-Frey': 0.0,\n",
       " 'Dareon': 0.0,\n",
       " 'Daryn-Hornwood': 0.0,\n",
       " 'Torrhen-Karstark': 0.00027229994971930455,\n",
       " 'Dolf': 0.0,\n",
       " 'Donal-Noye': 0.0,\n",
       " 'Jommo': 0.0,\n",
       " 'Ogo': 0.01075268817204301,\n",
       " 'Rhaego': 0.0,\n",
       " 'Dywen': 0.0,\n",
       " 'Galbart-Glover': 0.0008706693487442282,\n",
       " 'Gendry': 0.0,\n",
       " 'High-Septon-(fat_one)': 0.0,\n",
       " 'Howland-Reed': 0.0,\n",
       " 'Jacks': 0.0,\n",
       " 'Joss': 0.0,\n",
       " 'Marq-Piper': 0.0062369436762998,\n",
       " 'Porther': 0.0,\n",
       " 'Raymun-Darry': 0.0,\n",
       " 'Tobho-Mott': 0.0,\n",
       " 'Tregar': 0.0,\n",
       " 'Varly': 0.0,\n",
       " 'Wyl-(guard)': 0.0016301901690895994,\n",
       " 'Wylla': 0.0,\n",
       " 'Fogo': 0.0,\n",
       " 'Roose-Bolton': 2.4944299137847526e-05,\n",
       " 'Gared': 0.004328212613689769,\n",
       " 'Will-(prologue)': 0.0,\n",
       " 'Oswell-Whent': 0.0,\n",
       " 'Todder': 0.0,\n",
       " 'Gunthor-son-of-Gurn': 0.0,\n",
       " 'Harys-Swyft': 0.0,\n",
       " 'Heward': 0.0,\n",
       " 'Hobb': 0.0,\n",
       " 'Hugh': 0.0,\n",
       " 'Jafer-Flowers': 0.0,\n",
       " 'Kevan-Lannister': 0.0,\n",
       " 'Matthar': 0.0,\n",
       " 'Othor': 0.0,\n",
       " 'Maege-Mormont': 0.0,\n",
       " 'Jonos-Bracken': 0.0,\n",
       " 'Jyck': 0.0,\n",
       " 'Morrec': 0.0,\n",
       " 'Kurleket': 0.0,\n",
       " 'Lancel-Lannister': 0.0,\n",
       " 'Leo-Lefford': 0.0,\n",
       " 'Mace-Tyrell': 0.01075268817204301,\n",
       " 'Lyn-Corbray': 0.0,\n",
       " 'Paxter-Redwyne': 0.0,\n",
       " 'Maegor-I-Targaryen': 0.0,\n",
       " 'Mord': 0.0,\n",
       " 'Randyll-Tarly': 0.0,\n",
       " 'Timett': 0.0,\n",
       " 'Ulf-son-of-Umar': 0.0}"
      ]
     },
     "execution_count": 8,
     "metadata": {},
     "output_type": "execute_result"
    }
   ],
   "source": [
    "# betweenness centrality (weighted and unweighted)\n",
    "nx.betweenness_centrality(g1)"
   ]
  },
  {
   "cell_type": "code",
   "execution_count": 12,
   "metadata": {},
   "outputs": [
    {
     "data": {
      "text/plain": [
       "6"
      ]
     },
     "execution_count": 12,
     "metadata": {},
     "output_type": "execute_result"
    }
   ],
   "source": [
    "g1.degree('Brandon-Stark')"
   ]
  },
  {
   "cell_type": "markdown",
   "metadata": {},
   "source": [
    "# Common Applications of Networks\n",
    "\n",
    "1. Community Detection (Clustering)\n",
    "2. Recommendation Engines"
   ]
  },
  {
   "cell_type": "markdown",
   "metadata": {},
   "source": [
    "## Community Detection\n",
    "### Cliques\n",
    "<img src =\"./resources/clique_mean_girls.jpg\">\n",
    "\n",
    "\n",
    "## Not this ^^^\n",
    "\n",
    "---\n",
    "\n",
    "#### Clique: a subset of vertices in an undirected graph, such that every pair of vertices are adjacent to one another\n",
    "* Maximal Clique: a clique that, if an additional vertex was added, would no longer be a clique\n",
    "* Maximum Clique: the largest clique (and by definition a maximal clique)"
   ]
  },
  {
   "cell_type": "markdown",
   "metadata": {},
   "source": [
    "How many maximal cliques are there in the diagram below? What is the maximum clique?"
   ]
  },
  {
   "cell_type": "markdown",
   "metadata": {},
   "source": [
    "<img src = \"./resources/too_many_cliques.png\">\n",
    "\n",
    "How could we create a simple recommendation system from a clique?"
   ]
  },
  {
   "cell_type": "markdown",
   "metadata": {},
   "source": [
    "\n",
    "### Clustering Techniques\n",
    "\n",
    "If we want to find nodes that are clustered together, take a look at common techniques \n",
    "\n",
    "#### k-clique community clustering algorithm\n",
    "\n"
   ]
  },
  {
   "cell_type": "markdown",
   "metadata": {},
   "source": [
    "<img src = \"./resources/k_clique_clustering.png\">"
   ]
  },
  {
   "cell_type": "markdown",
   "metadata": {},
   "source": [
    "How many clusters are in this picture here?"
   ]
  },
  {
   "cell_type": "markdown",
   "metadata": {},
   "source": [
    "###  Girvan-Newman clustering algorithm\n",
    "   1. The betweenness of all existing edges in the network is calculated first.\n",
    "   2. The edge with the highest betweenness is removed.\n",
    "   3. The betweenness of all edges affected by the removal is recalculated.\n",
    "   4. Steps 2 and 3 are repeated until no edges remain.\n",
    "    \n",
    "    \n",
    "#### What does this remind you of?\n"
   ]
  },
  {
   "cell_type": "markdown",
   "metadata": {},
   "source": [
    "<img src =\"./resources/gn.jpg\">\n",
    "\n",
    "#### Let's see which works better with the GOT network:"
   ]
  },
  {
   "cell_type": "code",
   "execution_count": 13,
   "metadata": {},
   "outputs": [
    {
     "data": {
      "text/plain": [
       "{0: frozenset({'Addam-Marbrand',\n",
       "            'Aegon-I-Targaryen',\n",
       "            'Aemon-Targaryen-(Maester-Aemon)',\n",
       "            'Aerys-II-Targaryen',\n",
       "            'Aggo',\n",
       "            'Albett',\n",
       "            'Alliser-Thorne',\n",
       "            'Alyn',\n",
       "            'Arya-Stark',\n",
       "            'Balon-Greyjoy',\n",
       "            'Balon-Swann',\n",
       "            'Barristan-Selmy',\n",
       "            'Benjen-Stark',\n",
       "            'Beric-Dondarrion',\n",
       "            'Boros-Blount',\n",
       "            'Bowen-Marsh',\n",
       "            'Bran-Stark',\n",
       "            'Brandon-Stark',\n",
       "            'Bronn',\n",
       "            'Brynden-Tully',\n",
       "            'Catelyn-Stark',\n",
       "            'Cayn',\n",
       "            'Cersei-Lannister',\n",
       "            'Chett',\n",
       "            'Chiggen',\n",
       "            'Cohollo',\n",
       "            'Colemon',\n",
       "            'Conn',\n",
       "            'Daenerys-Targaryen',\n",
       "            'Daryn-Hornwood',\n",
       "            'Desmond',\n",
       "            'Doreah',\n",
       "            'Drogo',\n",
       "            'Eddard-Stark',\n",
       "            'Edmure-Tully',\n",
       "            'Eon-Hunter',\n",
       "            'Galbart-Glover',\n",
       "            'Gerold-Hightower',\n",
       "            'Gregor-Clegane',\n",
       "            'Grenn',\n",
       "            'Haggo',\n",
       "            'Halder',\n",
       "            'Hallis-Mollen',\n",
       "            'Harwin',\n",
       "            'Heward',\n",
       "            'High-Septon-(fat_one)',\n",
       "            'Hodor',\n",
       "            'Hoster-Tully',\n",
       "            'Hullen',\n",
       "            'Illyrio-Mopatis',\n",
       "            'Ilyn-Payne',\n",
       "            'Irri',\n",
       "            'Jaime-Lannister',\n",
       "            'Janos-Slynt',\n",
       "            'Jaremy-Rykker',\n",
       "            'Jeor-Mormont',\n",
       "            'Jeyne-Poole',\n",
       "            'Jhiqui',\n",
       "            'Jhogo',\n",
       "            'Joffrey-Baratheon',\n",
       "            'Jon-Arryn',\n",
       "            'Jon-Snow',\n",
       "            'Jon-Umber-(Greatjon)',\n",
       "            'Jorah-Mormont',\n",
       "            'Jory-Cassel',\n",
       "            'Joseth',\n",
       "            'Karyl-Vance',\n",
       "            'Kevan-Lannister',\n",
       "            'Loras-Tyrell',\n",
       "            'Luwin',\n",
       "            'Lyanna-Stark',\n",
       "            'Lysa-Arryn',\n",
       "            'Maege-Mormont',\n",
       "            'Marillion',\n",
       "            'Marq-Piper',\n",
       "            'Meryn-Trant',\n",
       "            'Mirri-Maz-Duur',\n",
       "            'Mordane',\n",
       "            'Mycah',\n",
       "            'Myrcella-Baratheon',\n",
       "            'Nan',\n",
       "            'Nestor-Royce',\n",
       "            'Osha',\n",
       "            'Petyr-Baelish',\n",
       "            'Pycelle',\n",
       "            'Pypar',\n",
       "            'Qotho',\n",
       "            'Quaro',\n",
       "            'Rakharo',\n",
       "            'Rast',\n",
       "            'Raymun-Darry',\n",
       "            'Renly-Baratheon',\n",
       "            'Rhaegar-Targaryen',\n",
       "            'Rickard-Karstark',\n",
       "            'Rickon-Stark',\n",
       "            'Robb-Stark',\n",
       "            'Robert-Arryn',\n",
       "            'Robert-Baratheon',\n",
       "            'Rodrik-Cassel',\n",
       "            'Roose-Bolton',\n",
       "            'Samwell-Tarly',\n",
       "            'Sandor-Clegane',\n",
       "            'Sansa-Stark',\n",
       "            'Shae',\n",
       "            'Shagga',\n",
       "            'Stannis-Baratheon',\n",
       "            'Stevron-Frey',\n",
       "            'Stiv',\n",
       "            'Syrio-Forel',\n",
       "            'Theon-Greyjoy',\n",
       "            'Timett',\n",
       "            'Todder',\n",
       "            'Tomard',\n",
       "            'Tommen-Baratheon',\n",
       "            'Torrhen-Karstark',\n",
       "            'Tyrion-Lannister',\n",
       "            'Tytos-Blackwood',\n",
       "            'Tywin-Lannister',\n",
       "            'Vardis-Egen',\n",
       "            'Varys',\n",
       "            'Vayon-Poole',\n",
       "            'Viserys-Targaryen',\n",
       "            'Walder-Frey',\n",
       "            'Wendel-Manderly',\n",
       "            'Willis-Wode',\n",
       "            'Wyl-(guard)',\n",
       "            'Yoren'}),\n",
       " 1: frozenset({'Jyck', 'Morrec', 'Tyrion-Lannister'}),\n",
       " 2: frozenset({'Danwell-Frey', 'Hosteen-Frey', 'Jared-Frey'}),\n",
       " 3: frozenset({'Drogo', 'Jommo', 'Ogo'}),\n",
       " 4: frozenset({'Gared', 'Waymar-Royce', 'Will-(prologue)'})}"
      ]
     },
     "execution_count": 13,
     "metadata": {},
     "output_type": "execute_result"
    }
   ],
   "source": [
    "### Code Examples from GOT\n",
    "from networkx.algorithms.community import k_clique_communities\n",
    "k_clique = k_clique_communities(g1,3)\n",
    "dict(enumerate(k_clique))"
   ]
  },
  {
   "cell_type": "code",
   "execution_count": 14,
   "metadata": {},
   "outputs": [
    {
     "data": {
      "text/plain": [
       "{0: ['Addam-Marbrand',\n",
       "  'Aemon-Targaryen-(Maester-Aemon)',\n",
       "  'Aerys-II-Targaryen',\n",
       "  'Albett',\n",
       "  'Alliser-Thorne',\n",
       "  'Alyn',\n",
       "  'Arthur-Dayne',\n",
       "  'Arya-Stark',\n",
       "  'Arys-Oakheart',\n",
       "  'Balon-Greyjoy',\n",
       "  'Balon-Swann',\n",
       "  'Barristan-Selmy',\n",
       "  'Benjen-Stark',\n",
       "  'Beric-Dondarrion',\n",
       "  'Boros-Blount',\n",
       "  'Bowen-Marsh',\n",
       "  'Bran-Stark',\n",
       "  'Brandon-Stark',\n",
       "  'Bronn',\n",
       "  'Brynden-Tully',\n",
       "  'Catelyn-Stark',\n",
       "  'Cayn',\n",
       "  'Cersei-Lannister',\n",
       "  'Chella',\n",
       "  'Chett',\n",
       "  'Chiggen',\n",
       "  'Clement-Piper',\n",
       "  'Clydas',\n",
       "  'Colemon',\n",
       "  'Conn',\n",
       "  'Coratt',\n",
       "  'Danwell-Frey',\n",
       "  'Dareon',\n",
       "  'Daryn-Hornwood',\n",
       "  'Desmond',\n",
       "  'Dolf',\n",
       "  'Donal-Noye',\n",
       "  'Donnel-Waynwood',\n",
       "  'Dywen',\n",
       "  'Eddard-Stark',\n",
       "  'Edmure-Tully',\n",
       "  'Eon-Hunter',\n",
       "  'Galbart-Glover',\n",
       "  'Gared',\n",
       "  'Gendry',\n",
       "  'Gerold-Hightower',\n",
       "  'Gregor-Clegane',\n",
       "  'Grenn',\n",
       "  'Gunthor-son-of-Gurn',\n",
       "  'Halder',\n",
       "  'Hali',\n",
       "  'Hallis-Mollen',\n",
       "  'Harwin',\n",
       "  'Harys-Swyft',\n",
       "  'Heward',\n",
       "  'High-Septon-(fat_one)',\n",
       "  'Hobb',\n",
       "  'Hodor',\n",
       "  'Hosteen-Frey',\n",
       "  'Hoster-Tully',\n",
       "  'Howland-Reed',\n",
       "  'Hugh',\n",
       "  'Hullen',\n",
       "  'Ilyn-Payne',\n",
       "  'Jacks',\n",
       "  'Jafer-Flowers',\n",
       "  'Jaime-Lannister',\n",
       "  'Janos-Slynt',\n",
       "  'Jared-Frey',\n",
       "  'Jaremy-Rykker',\n",
       "  'Jeor-Mormont',\n",
       "  'Jeyne-Poole',\n",
       "  'Joffrey-Baratheon',\n",
       "  'Jon-Arryn',\n",
       "  'Jon-Snow',\n",
       "  'Jon-Umber-(Greatjon)',\n",
       "  'Jonos-Bracken',\n",
       "  'Jory-Cassel',\n",
       "  'Joseth',\n",
       "  'Joss',\n",
       "  'Jyck',\n",
       "  'Karyl-Vance',\n",
       "  'Kevan-Lannister',\n",
       "  'Kurleket',\n",
       "  'Lancel-Lannister',\n",
       "  'Leo-Lefford',\n",
       "  'Loras-Tyrell',\n",
       "  'Luwin',\n",
       "  'Lyanna-Stark',\n",
       "  'Lyn-Corbray',\n",
       "  'Lysa-Arryn',\n",
       "  'Mace-Tyrell',\n",
       "  'Maege-Mormont',\n",
       "  'Maegor-I-Targaryen',\n",
       "  'Mance-Rayder',\n",
       "  'Marillion',\n",
       "  'Marq-Piper',\n",
       "  'Masha-Heddle',\n",
       "  'Matthar',\n",
       "  'Meryn-Trant',\n",
       "  'Mord',\n",
       "  'Mordane',\n",
       "  'Moreo-Tumitis',\n",
       "  'Morrec',\n",
       "  'Mya-Stone',\n",
       "  'Mycah',\n",
       "  'Mychel-Redfort',\n",
       "  'Myrcella-Baratheon',\n",
       "  'Nan',\n",
       "  'Nestor-Royce',\n",
       "  'Osha',\n",
       "  'Oswell-Whent',\n",
       "  'Othor',\n",
       "  'Paxter-Redwyne',\n",
       "  'Petyr-Baelish',\n",
       "  'Porther',\n",
       "  'Pycelle',\n",
       "  'Pypar',\n",
       "  'Randyll-Tarly',\n",
       "  'Rast',\n",
       "  'Raymun-Darry',\n",
       "  'Renly-Baratheon',\n",
       "  'Rhaegar-Targaryen',\n",
       "  'Rickard-Karstark',\n",
       "  'Rickard-Stark',\n",
       "  'Rickon-Stark',\n",
       "  'Robb-Stark',\n",
       "  'Robert-Arryn',\n",
       "  'Robert-Baratheon',\n",
       "  'Rodrik-Cassel',\n",
       "  'Roose-Bolton',\n",
       "  'Samwell-Tarly',\n",
       "  'Sandor-Clegane',\n",
       "  'Sansa-Stark',\n",
       "  'Shae',\n",
       "  'Shagga',\n",
       "  'Stannis-Baratheon',\n",
       "  'Stevron-Frey',\n",
       "  'Stiv',\n",
       "  'Syrio-Forel',\n",
       "  'Theon-Greyjoy',\n",
       "  'Thoros-of-Myr',\n",
       "  'Timett',\n",
       "  'Tobho-Mott',\n",
       "  'Todder',\n",
       "  'Tomard',\n",
       "  'Tommen-Baratheon',\n",
       "  'Torrhen-Karstark',\n",
       "  'Tregar',\n",
       "  'Tyrion-Lannister',\n",
       "  'Tytos-Blackwood',\n",
       "  'Tywin-Lannister',\n",
       "  'Ulf-son-of-Umar',\n",
       "  'Vardis-Egen',\n",
       "  'Varly',\n",
       "  'Varys',\n",
       "  'Vayon-Poole',\n",
       "  'Walder-Frey',\n",
       "  'Waymar-Royce',\n",
       "  'Wendel-Manderly',\n",
       "  'Will-(prologue)',\n",
       "  'Willis-Wode',\n",
       "  'Wyl-(guard)',\n",
       "  'Wylla',\n",
       "  'Yoren'],\n",
       " 1: ['Aegon-I-Targaryen',\n",
       "  'Aggo',\n",
       "  'Cohollo',\n",
       "  'Daenerys-Targaryen',\n",
       "  'Doreah',\n",
       "  'Drogo',\n",
       "  'Eroeh',\n",
       "  'Fogo',\n",
       "  'Haggo',\n",
       "  'Illyrio-Mopatis',\n",
       "  'Irri',\n",
       "  'Jhiqui',\n",
       "  'Jhogo',\n",
       "  'Jommo',\n",
       "  'Jorah-Mormont',\n",
       "  'Mirri-Maz-Duur',\n",
       "  'Ogo',\n",
       "  'Qotho',\n",
       "  'Quaro',\n",
       "  'Rakharo',\n",
       "  'Rhaego',\n",
       "  'Viserys-Targaryen']}"
      ]
     },
     "execution_count": 14,
     "metadata": {},
     "output_type": "execute_result"
    }
   ],
   "source": [
    "from networkx.algorithms.community import girvan_newman\n",
    "community = girvan_newman(g1)\n",
    "comm_iter1 = tuple(sorted(c) for c in next(community))\n",
    "dict(enumerate(comm_iter1))\n"
   ]
  },
  {
   "cell_type": "markdown",
   "metadata": {},
   "source": [
    "Evaluating network clustering algorithms (https://journals.plos.org/plosone/article/file?id=10.1371/journal.pone.0159161&type=printable)"
   ]
  },
  {
   "cell_type": "markdown",
   "metadata": {},
   "source": [
    "## Recommendations\n",
    "\n",
    "####  Ego Network: A subset of a graph composed of a central node (ego) and all of the nodes the ego is connected to (alters)  \n",
    "\n",
    "A simple recommendation system is: given an ego node, recommend items that are contained with its ego network\n",
    "\n",
    "<img src = \"./resources/egonet3.jpg\">\n",
    "This could yield a lot of results! How might we create more precise recommendations?\n",
    "\n",
    "http://www.steveborgatti.com/papers/egobet.pdf"
   ]
  },
  {
   "cell_type": "code",
   "execution_count": 15,
   "metadata": {},
   "outputs": [],
   "source": [
    "!gzip -d resources/books_meta.txt.gz"
   ]
  },
  {
   "cell_type": "code",
   "execution_count": 16,
   "metadata": {},
   "outputs": [
    {
     "name": "stdout",
     "output_type": "stream",
     "text": [
      "Id\tASIN\tTitle\tCategories\tGroup\tSalesRank\tTotalReviews\tAvgRating\tDegreeCentrality\tClusteringCoeff\n",
      "1\t0827229534\tPatterns of Preaching: A Sermon Sampler\tclergi sermon subject religion preach spiritu christian book\tBook\t396585\t2\t5.0\t8\t0.8\n",
      "2\t0738700797\tCandlemas: Feast of Flames\tsubject witchcraft earth religion spiritu base book wicca\tBook\t168596\t12\t4.5\t9\t0.85\n",
      "3\t0486287785\tWorld War II Allied Fighter Planes Trading Cards\tgeneral hobbi subject craft home garden book\tBook\t1270652\t1\t5.0\t0\t0.0\n",
      "4\t0842328327\tLife Application Bible Commentary: 1 and 2 Timothy and Titus\tspiritu translat commentari christian book guid general subject testament life text applic sacr studi discipleship religion new live bibl histori refer\tBook\t631289\t1\t4.0\t6\t0.79\n",
      "5\t1577943082\tPrayers That Avail Much for Business: Executive\tsubject religion spiritu busi christian live worship book prayerbook devot\tBook\t455160\t0\t0.0\t4\t1.0\n",
      "6\t0486220125\tHow the Other Half Lives: Studies Among the Tenements of New York\tart general nonfict jewish subject essay camera america unit state sociolog photo photographi social book urban scienc histori categori\tBook\t188784\t17\t4.0\t4\t0.8\n",
      "8\t0231118597\tLosing Matt Shepard\tnonfict general subject polit criminolog crimin gay crime book lesbian u\tBook\t277409\t15\t4.5\t6\t0.59\n",
      "9\t1859677800\tMaking Bread: The Taste of Traditional Home-Baking\twine subject food bake book cook bread\tBook\t949166\t0\t0.0\t0\t0.0\n",
      "10\t0375709363\tThe Edward Said Reader\tnonfict general subject literatur anthropolog cultur polit critic social book theori scienc histori fiction\tBook\t220379\t6\t4.0\t5\t0.93\n"
     ]
    }
   ],
   "source": [
    "!head resources/books_meta.txt"
   ]
  },
  {
   "cell_type": "code",
   "execution_count": 17,
   "metadata": {},
   "outputs": [
    {
     "data": {
      "text/plain": [
       "393561"
      ]
     },
     "execution_count": 17,
     "metadata": {},
     "output_type": "execute_result"
    }
   ],
   "source": [
    "fhr = open('./resources/books_meta.txt', 'r',\n",
    "           encoding='utf-8', errors='ignore')\n",
    "books_meta_dict = {}\n",
    "fhr.readline()\n",
    "\n",
    "# Parse data from each ASIN entry\n",
    "for record in fhr:\n",
    "\n",
    "    # Split the record attributes on TAB\n",
    "    attr = record.split('\\t')\n",
    "\n",
    "    # Create a meta dictionary\n",
    "    meta = {}\n",
    "\n",
    "    # Read the attributes into key = ASIN , value= meta - where meta is a dictionary of attributes (except ASIN)\n",
    "    meta['Id'] = attr[0].strip()\n",
    "    ASIN = attr[1].strip()\n",
    "    meta['Title'] = attr[2].strip()\n",
    "    meta['Categories'] = attr[3].strip()\n",
    "    meta['Group'] = attr[4].strip()\n",
    "\n",
    "    # Convert numeric data to integers and floats accordingly\n",
    "    meta['SalesRank'] = int(attr[5].strip())\n",
    "    meta['TotalReviews'] = int(attr[6].strip())\n",
    "    meta['AvgRating'] = float(attr[7].strip())\n",
    "    meta['DegreeCentrality'] = int(attr[8].strip())\n",
    "    meta['ClusteringCoeff'] = float(attr[9].strip())\n",
    "\n",
    "    # Write metadata as value with key ASIN\n",
    "    books_meta_dict[ASIN] = meta\n",
    "\n",
    "# Close the file reader\n",
    "fhr.close()\n",
    "len(books_meta_dict)"
   ]
  },
  {
   "cell_type": "code",
   "execution_count": 18,
   "metadata": {},
   "outputs": [
    {
     "name": "stdout",
     "output_type": "stream",
     "text": [
      "Name: \n",
      "Type: Graph\n",
      "Number of nodes: 270347\n",
      "Number of edges: 741124\n",
      "Average degree:   5.4828\n"
     ]
    }
   ],
   "source": [
    "file = open(\"./resources/books_data.edgelist\", 'rb')\n",
    "books_copurchase = nx.read_weighted_edgelist(file)\n",
    "file.close()\n",
    "print(nx.info(books_copurchase))"
   ]
  },
  {
   "cell_type": "code",
   "execution_count": 19,
   "metadata": {},
   "outputs": [
    {
     "name": "stdout",
     "output_type": "stream",
     "text": [
      "Your Purchased Book\n",
      "-----------------\n",
      "\n",
      "Title =  U.S. Immigration Made Easy (8th Edition)\n",
      "ASIN =  0873376129\n",
      "SalesRank =  770576\n",
      "TotalReviews =  9\n",
      "AvgRating =  4.0\n",
      "DegreeCentrality =  4\n",
      "ClusteringCoeff =  1.0\n"
     ]
    }
   ],
   "source": [
    "print(\"Your Purchased Book\")\n",
    "print(\"-----------------\")\n",
    "asin = '0873376129'\n",
    "\n",
    "# Print out the features associates with the book\n",
    "\n",
    "print(\"\\nTitle = \", books_meta_dict[asin]['Title'])\n",
    "print(\"ASIN = \", asin)\n",
    "print(\"SalesRank = \", books_meta_dict[asin]['SalesRank'])\n",
    "print(\"TotalReviews = \", books_meta_dict[asin]['TotalReviews'])\n",
    "print(\"AvgRating = \", books_meta_dict[asin]['AvgRating'])\n",
    "print(\"DegreeCentrality = \", books_meta_dict[asin]['DegreeCentrality'])\n",
    "print(\"ClusteringCoeff = \", books_meta_dict[asin]['ClusteringCoeff'])"
   ]
  },
  {
   "cell_type": "code",
   "execution_count": 20,
   "metadata": {},
   "outputs": [
    {
     "name": "stdout",
     "output_type": "stream",
     "text": [
      "Ego Network for U.S. Immigration Made Easy (8th Edition)\n",
      "Nodes = 5\n",
      "Edges = 10\n"
     ]
    }
   ],
   "source": [
    "ego = nx.ego_graph(books_copurchase, asin, radius=1)\n",
    "print(f\"Ego Network for {books_meta_dict[asin]['Title']}\",\n",
    "      f\"Nodes = {ego.number_of_nodes()}\",\n",
    "      f\"Edges = {ego.number_of_edges()}\",\n",
    "      sep='\\n')"
   ]
  },
  {
   "cell_type": "code",
   "execution_count": 21,
   "metadata": {},
   "outputs": [
    {
     "name": "stderr",
     "output_type": "stream",
     "text": [
      "/Users/joseph/opt/anaconda3/lib/python3.7/site-packages/networkx/drawing/nx_pylab.py:579: MatplotlibDeprecationWarning: \n",
      "The iterable function was deprecated in Matplotlib 3.1 and will be removed in 3.3. Use np.iterable instead.\n",
      "  if not cb.iterable(width):\n"
     ]
    },
    {
     "data": {
      "image/png": "[encoded data removed]",
      "text/plain": [
       "<Figure size 432x288 with 1 Axes>"
      ]
     },
     "metadata": {},
     "output_type": "display_data"
    }
   ],
   "source": [
    "# Draw the ego network\n",
    "nx.draw(ego, with_labels=True)"
   ]
  },
  {
   "cell_type": "code",
   "execution_count": 22,
   "metadata": {},
   "outputs": [
    {
     "name": "stdout",
     "output_type": "stream",
     "text": [
      "Trimmed Ego Network for: U.S. Immigration Made Easy (8th Edition) \n",
      "____________________\n",
      " \n",
      "Threshold= 0.5 \n",
      "Nodes = 5 \n",
      "Edges = 6\n",
      "\n",
      "ASINs in the trimmed network: \n",
      " ['0873376129', '0873378989', '1572481617', '0314232087', '0761536280']\n"
     ]
    }
   ],
   "source": [
    "# Create empty graph instance `trimmed_ego_net` using the `nx.Graph()`to represent the trimmed network\n",
    "threshold = 0.5\n",
    "trimmed_ego = nx.Graph()\n",
    "\n",
    "# Iterate through the network, comparing each weight with threshold\n",
    "for node1, node2, edge in ego.edges(data=True):\n",
    "    if edge['weight'] >= threshold:\n",
    "        trimmed_ego.add_edge(node1, node2,\n",
    "                             weight=edge.values())\n",
    "\n",
    "# Print the trimmed statistics\n",
    "print('Trimmed Ego Network for:', books_meta_dict[asin]['Title'],\n",
    "      \"\\n____________________\\n\",\n",
    "      \"\\nThreshold=\", threshold,\n",
    "      \"\\nNodes =\", trimmed_ego.number_of_nodes(),\n",
    "      \"\\nEdges =\", trimmed_ego.number_of_edges())\n",
    "\n",
    "# Show the Altars available in the trimmed network\n",
    "print(\"\\nASINs in the trimmed network: \\n\", list(trimmed_ego))"
   ]
  },
  {
   "cell_type": "code",
   "execution_count": 23,
   "metadata": {},
   "outputs": [
    {
     "name": "stdout",
     "output_type": "stream",
     "text": [
      "Purchased Book\n",
      "--------------\n",
      "\n",
      "Title:  U.S. Immigration Made Easy (8th Edition)\n",
      "\n",
      "Customers who bought this book, also bought:\n",
      "-------------------------------------------\n",
      "\n",
      "Asin:  0873378989\n",
      "Book Title:  How to Get a Green Card: Legal Ways to Stay in the U.S.A\n",
      "Average Rating: 3.0\n",
      "Number of Reviews:  7\n",
      "\n",
      "Asin:  1572481617\n",
      "Book Title:  USA Immigration Guide (USA Immigration Guide)\n",
      "Average Rating: 5.0\n",
      "Number of Reviews:  1\n",
      "\n",
      "Asin:  0314232087\n",
      "Book Title:  Immigration Law and Procedure in a Nutshell (Nutshell Series)\n",
      "Average Rating: 3.5\n",
      "Number of Reviews:  2\n",
      "\n",
      "Asin:  0761536280\n",
      "Book Title:  U.S. Immigration & Citizenship\n",
      "Average Rating: 5.0\n",
      "Number of Reviews:  4\n"
     ]
    }
   ],
   "source": [
    "lst_neighbors = list(trimmed_ego)\n",
    "print(\"Purchased Book\")\n",
    "print(\"--------------\\n\")\n",
    "print(\"Title: \", books_meta_dict[asin]['Title'])\n",
    "\n",
    "\n",
    "print(\"\\nCustomers who bought this book, also bought:\")\n",
    "print(\"-------------------------------------------\")\n",
    "for nb_asin in lst_neighbors[1:]:\n",
    "    print(\"\\nAsin: \", nb_asin)\n",
    "    print(\"Book Title: \", books_meta_dict[nb_asin][\"Title\"])\n",
    "    print(\"Average Rating:\", books_meta_dict[nb_asin][\"AvgRating\"])\n",
    "    print(\"Number of Reviews: \", books_meta_dict[nb_asin][\"TotalReviews\"])"
   ]
  },
  {
   "cell_type": "markdown",
   "metadata": {},
   "source": [
    "\n",
    "<img src =\"./resources/social_network.jpg\">"
   ]
  },
  {
   "cell_type": "markdown",
   "metadata": {},
   "source": [
    "## Additional Resources\n",
    "\n",
    "Awesome projects related to graph theory/networks (http://snap.stanford.edu/class/cs224w-2017/projects.html)  \n",
    "Paper on recommender systems (http://citeseerx.ist.psu.edu/viewdoc/download?doi=10.1.1.480.5927&rep=rep1&type=pdf)   \n",
    "Another paper on recommender system (http://www.cs.cmu.edu/~jure/pubs/viral-tweb.pdf)  \n",
    "More on clustering networks (http://pages.di.unipi.it/marino/cluster18.pdf)"
   ]
  },
  {
   "cell_type": "markdown",
   "metadata": {},
   "source": [
    "# More NetworkX Practice"
   ]
  },
  {
   "cell_type": "markdown",
   "metadata": {},
   "source": [
    "## Graph Properties"
   ]
  },
  {
   "cell_type": "code",
   "execution_count": 24,
   "metadata": {},
   "outputs": [],
   "source": [
    "G = nx.lollipop_graph(4, 6)"
   ]
  },
  {
   "cell_type": "code",
   "execution_count": 25,
   "metadata": {},
   "outputs": [
    {
     "data": {
      "image/png": "[encoded data removed]",
      "text/plain": [
       "<Figure size 432x288 with 1 Axes>"
      ]
     },
     "metadata": {},
     "output_type": "display_data"
    }
   ],
   "source": [
    "nx.draw(G)"
   ]
  },
  {
   "cell_type": "code",
   "execution_count": null,
   "metadata": {},
   "outputs": [],
   "source": [
    "pathlengths = []"
   ]
  },
  {
   "cell_type": "code",
   "execution_count": null,
   "metadata": {},
   "outputs": [],
   "source": [
    "# This prints the source node and the dictionary of shortest lengths to various nodes\n",
    "for v in G.nodes():\n",
    "    spl = nx.single_source_shortest_path_length(G, v)\n",
    "    print(f'{v} {spl}')\n",
    "    for p in spl.values():\n",
    "        pathlengths.append(p)"
   ]
  },
  {
   "cell_type": "code",
   "execution_count": null,
   "metadata": {},
   "outputs": [],
   "source": [
    "print(f\"average shortest path length {sum(pathlengths)/len(pathlengths)}\")"
   ]
  },
  {
   "cell_type": "code",
   "execution_count": null,
   "metadata": {},
   "outputs": [],
   "source": [
    "# histogram of path lengths\n",
    "dist = {}\n",
    "for p in pathlengths:\n",
    "    if p in dist:\n",
    "        dist[p] += 1\n",
    "    else:\n",
    "        dist[p] = 1\n",
    "print(\"length #paths\")\n",
    "verts = dist.keys()\n",
    "for d in sorted(verts):\n",
    "    print(f'{d} {dist[d]}')"
   ]
  },
  {
   "cell_type": "code",
   "execution_count": null,
   "metadata": {},
   "outputs": [],
   "source": [
    "print(f\"radius: {nx.radius(G)}\")\n",
    "print(f\"diameter: {nx.diameter(G)}\")\n",
    "print(f\"eccentricity: {nx.eccentricity(G)}\")\n",
    "print(f\"center: {nx.center(G)}\")\n",
    "print(f\"periphery: {nx.periphery(G)}\")\n",
    "print(f\"density: {nx.density(G)}\")"
   ]
  },
  {
   "cell_type": "markdown",
   "metadata": {},
   "source": [
    "## Path Graphing"
   ]
  },
  {
   "cell_type": "code",
   "execution_count": null,
   "metadata": {},
   "outputs": [],
   "source": [
    "g1 = nx.path_graph(8)"
   ]
  },
  {
   "cell_type": "code",
   "execution_count": null,
   "metadata": {},
   "outputs": [],
   "source": [
    "nx.draw(g1)"
   ]
  },
  {
   "cell_type": "markdown",
   "metadata": {},
   "source": [
    "## Four Implementations of the Same Graph"
   ]
  },
  {
   "cell_type": "code",
   "execution_count": null,
   "metadata": {},
   "outputs": [],
   "source": [
    "g5 = nx.grid_2d_graph(4, 4)  # 4x4 grid"
   ]
  },
  {
   "cell_type": "code",
   "execution_count": null,
   "metadata": {},
   "outputs": [],
   "source": [
    "pos = nx.spring_layout(g5, iterations=100)"
   ]
  },
  {
   "cell_type": "code",
   "execution_count": null,
   "metadata": {},
   "outputs": [],
   "source": [
    "nx.draw(g5, pos, font_size=8)"
   ]
  },
  {
   "cell_type": "code",
   "execution_count": null,
   "metadata": {},
   "outputs": [],
   "source": [
    "nx.draw(g5, pos, node_color='k', node_size=250, with_labels=False)"
   ]
  },
  {
   "cell_type": "code",
   "execution_count": null,
   "metadata": {},
   "outputs": [],
   "source": [
    "nx.draw(g5, pos, node_color='g', node_size=250, with_labels=False, width=6)"
   ]
  },
  {
   "cell_type": "code",
   "execution_count": null,
   "metadata": {},
   "outputs": [],
   "source": [
    "h5 = g5.to_directed()\n",
    "nx.draw(h5, pos, node_color='b', node_size=250, with_labels=False)"
   ]
  },
  {
   "cell_type": "markdown",
   "metadata": {},
   "source": [
    "## Degrees"
   ]
  },
  {
   "cell_type": "code",
   "execution_count": null,
   "metadata": {},
   "outputs": [],
   "source": [
    "G = nx.gnp_random_graph(100, 0.02)"
   ]
  },
  {
   "cell_type": "code",
   "execution_count": null,
   "metadata": {},
   "outputs": [],
   "source": [
    "degree_sequence = sorted((d for n, d in G.degree()), reverse=True)"
   ]
  },
  {
   "cell_type": "code",
   "execution_count": null,
   "metadata": {},
   "outputs": [],
   "source": [
    "dmax = max(degree_sequence)"
   ]
  },
  {
   "cell_type": "code",
   "execution_count": null,
   "metadata": {},
   "outputs": [],
   "source": [
    "gcc = sorted(nx.connected_component_subgraphs(G), key=len, reverse=True)[0]"
   ]
  },
  {
   "cell_type": "code",
   "execution_count": null,
   "metadata": {},
   "outputs": [],
   "source": [
    "pos = nx.spring_layout(gcc)"
   ]
  },
  {
   "cell_type": "code",
   "execution_count": null,
   "metadata": {},
   "outputs": [],
   "source": [
    "nx.draw_networkx_nodes(gcc, pos, node_size=20)"
   ]
  },
  {
   "cell_type": "code",
   "execution_count": null,
   "metadata": {},
   "outputs": [],
   "source": [
    "nx.draw_networkx_edges(gcc, pos, alpha=0.4)"
   ]
  },
  {
   "cell_type": "code",
   "execution_count": null,
   "metadata": {},
   "outputs": [],
   "source": [
    "nx.draw_networkx_nodes(gcc, pos, node_size=20)\n",
    "nx.draw_networkx_edges(gcc, pos, alpha=0.4)"
   ]
  },
  {
   "cell_type": "code",
   "execution_count": null,
   "metadata": {},
   "outputs": [],
   "source": [
    "plt.loglog(degree_sequence,'b-',marker='o')\n",
    "plt.title(\"Degree rank plot\")\n",
    "plt.ylabel(\"degree\")\n",
    "plt.xlabel(\"rank\")\n",
    "plt.axes([0.45,0.45,0.45,0.45])\n",
    "plt.axis('off')\n",
    "plt.show()"
   ]
  },
  {
   "cell_type": "markdown",
   "metadata": {},
   "source": [
    "## Edge Colormap"
   ]
  },
  {
   "cell_type": "code",
   "execution_count": null,
   "metadata": {},
   "outputs": [],
   "source": [
    "g2 = nx.star_graph(20)"
   ]
  },
  {
   "cell_type": "code",
   "execution_count": null,
   "metadata": {},
   "outputs": [],
   "source": [
    "pos = nx.spring_layout(g2)"
   ]
  },
  {
   "cell_type": "code",
   "execution_count": null,
   "metadata": {},
   "outputs": [],
   "source": [
    "nx.draw_networkx(g2, pos, node_color='#A0CBE2',\n",
    "                 edge_color=range(20), width=4,\n",
    "                 edge_cmap=plt.cm.Blues, with_labels=False)"
   ]
  },
  {
   "cell_type": "markdown",
   "metadata": {},
   "source": [
    "## Ego Graph"
   ]
  },
  {
   "cell_type": "code",
   "execution_count": null,
   "metadata": {},
   "outputs": [],
   "source": [
    "g3 = nx.generators.barabasi_albert_graph(1000, 2)\n",
    "\n",
    "node_and_degree = dict(g3.degree())\n",
    "\n",
    "largest_hub, degree = sorted(node_and_degree.items(), key=itemgetter(1))[-1]\n",
    "\n",
    "hub_ego = nx.ego_graph(g3, largest_hub)\n",
    "\n",
    "pos = nx.spring_layout(hub_ego)\n",
    "\n",
    "nx.draw(hub_ego, pos, node_color='b', node_size=50, with_labels=False)\n",
    "nx.draw_networkx_nodes(hub_ego, pos, nodelist=[largest_hub],\n",
    "                       node_size=300, node_color='r')"
   ]
  },
  {
   "cell_type": "markdown",
   "metadata": {},
   "source": [
    "## GML Example: Football Teams"
   ]
  },
  {
   "cell_type": "markdown",
   "metadata": {},
   "source": [
    "First, we download a ZIP file containing information about United States college football teams and extract the two text files contained within."
   ]
  },
  {
   "cell_type": "code",
   "execution_count": null,
   "metadata": {},
   "outputs": [],
   "source": [
    "import io\n",
    "import zipfile\n",
    "\n",
    "import networkx\n",
    "import requests\n",
    "\n",
    "url = \"http://www-personal.umich.edu/~mejn/netdata/football.zip\"\n",
    "response = requests.get(url)\n",
    "content = io.BytesIO(response.content)\n",
    "with zipfile.ZipFile(content) as zf:  # zipfile object\n",
    "    txt = zf.read('football.txt').decode()  # read info file\n",
    "    gml = zf.read('football.gml').decode()  # read gml data\n",
    "    # throw away bogus first line with # from mejn files\n",
    "    gml = gml.split('\\n')[1:]"
   ]
  },
  {
   "cell_type": "markdown",
   "metadata": {},
   "source": [
    "Then we parse the graph information from the GML file, convert that to a NetworkX graph object, then print the degree of each node in the graph, which represents the number of games played by each team."
   ]
  },
  {
   "cell_type": "code",
   "execution_count": null,
   "metadata": {
    "scrolled": true
   },
   "outputs": [],
   "source": [
    "import networkx as nx\n",
    "\n",
    "fb = nx.parse_gml(gml) # parse gml data\n",
    "\n",
    "print(txt)\n",
    "# print degree for each team - number of games\n",
    "for n, d in fb.degree():\n",
    "    print(f'{n} {d}')"
   ]
  },
  {
   "cell_type": "code",
   "execution_count": null,
   "metadata": {},
   "outputs": [],
   "source": [
    "pos = nx.spring_layout(fb, iterations=100)"
   ]
  },
  {
   "cell_type": "code",
   "execution_count": null,
   "metadata": {},
   "outputs": [],
   "source": [
    "nx.draw(fb, pos, font_size=8)"
   ]
  },
  {
   "cell_type": "code",
   "execution_count": null,
   "metadata": {},
   "outputs": [],
   "source": []
  }
 ],
 "metadata": {
  "kernelspec": {
   "display_name": "Python 3",
   "language": "python",
   "name": "python3"
  },
  "language_info": {
   "codemirror_mode": {
    "name": "ipython",
    "version": 3
   },
   "file_extension": ".py",
   "mimetype": "text/x-python",
   "name": "python",
   "nbconvert_exporter": "python",
   "pygments_lexer": "ipython3",
   "version": "3.7.4"
  }
 },
 "nbformat": 4,
 "nbformat_minor": 4
}
