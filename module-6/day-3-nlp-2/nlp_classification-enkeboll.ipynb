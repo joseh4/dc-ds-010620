{
 "cells": [
  {
   "cell_type": "code",
   "execution_count": 1,
   "metadata": {},
   "outputs": [],
   "source": [
    "import re\n",
    "import time\n",
    "\n",
    "import numpy as np\n",
    "import pandas as pd\n",
    "import requests"
   ]
  },
  {
   "cell_type": "code",
   "execution_count": 2,
   "metadata": {},
   "outputs": [
    {
     "name": "stdout",
     "output_type": "stream",
     "text": [
      "Requirement already satisfied: progressbar2 in /opt/anaconda3/lib/python3.7/site-packages (3.47.0)\r\n",
      "Requirement already satisfied: six in /opt/anaconda3/lib/python3.7/site-packages (from progressbar2) (1.12.0)\r\n",
      "Requirement already satisfied: python-utils>=2.3.0 in /opt/anaconda3/lib/python3.7/site-packages (from progressbar2) (2.3.0)\r\n"
     ]
    }
   ],
   "source": [
    "!pip install progressbar2\n",
    "from progressbar import progressbar"
   ]
  },
  {
   "cell_type": "markdown",
   "metadata": {},
   "source": [
    "## Scraping"
   ]
  },
  {
   "cell_type": "markdown",
   "metadata": {},
   "source": [
    "### Scraping Functions"
   ]
  },
  {
   "cell_type": "code",
   "execution_count": 3,
   "metadata": {},
   "outputs": [],
   "source": [
    "# function to scrape reddit page (takes a reddit .json url)\n",
    "# returns posts \n",
    "\n",
    "def scraper_bike(url):\n",
    "    headers = {'User-Agent' : 'override this bad boy!'}\n",
    "    posts = []\n",
    "    after = {}\n",
    "\n",
    "    for page in progressbar(range(40)):\n",
    "        params = {'after': after}\n",
    "        pagepull = requests.get(url=url, params=params, headers=headers)\n",
    "        page_dict = pagepull.json()\n",
    "        posts.extend(page_dict['data']['children'])\n",
    "        after = page_dict['data']['after']\n",
    "        time.sleep(.2)\n",
    "        \n",
    "    return posts"
   ]
  },
  {
   "cell_type": "code",
   "execution_count": 4,
   "metadata": {},
   "outputs": [],
   "source": [
    "# function to convert posts to DataFrame - won't allow duplicate posts since unique id 'name' is set as index\n",
    "# Extract: name (as index) and subreddit, selftext, title (as columns)\n",
    "\n",
    "def posts_to_df(post_list):\n",
    "    i = 0\n",
    "    post_dict = {}\n",
    "    \n",
    "    for post in post_list:\n",
    "        ind = post_list[i]['data']\n",
    "        post_dict[ind['name']] = [ind['subreddit'], ind['title'], ind['selftext']]\n",
    "        i += 1\n",
    "\n",
    "    df_name = pd.DataFrame(post_dict)\n",
    "    df_name = df_name.T\n",
    "    df_name.columns = ['subreddit', 'title', 'selftext']\n",
    "    \n",
    "    return df_name"
   ]
  },
  {
   "cell_type": "code",
   "execution_count": 5,
   "metadata": {},
   "outputs": [],
   "source": [
    "# takes scraper function and url - outputs dataframe\n",
    "\n",
    "def scrape_to_df(scrape_func, url):\n",
    "    \n",
    "    return posts_to_df(scrape_func(url))"
   ]
  },
  {
   "cell_type": "code",
   "execution_count": 6,
   "metadata": {},
   "outputs": [],
   "source": [
    "#### If you want to scrape repeatedly over time and add to a csv\n",
    "# scrape, import csv, concat, drop duplicate, and output to csv\n",
    "# takes in scraper function, url, csv filename to import, csv filename to output\n",
    "# Outputs - Concatenated DataFrame as csv\n",
    "\n",
    "def scrape_add(scrape_func, url, import_file, export_file):\n",
    "    scrape_df = posts_to_df(scrape_func(url))\n",
    "    imported_df = pd.read_csv(import_file, index_col = 'Unnamed: 0')\n",
    "    concat_df = pd.concat([imported_df, scrape_df])\n",
    "    concat_df = concat_df[~concat_df.index.duplicated(keep='first')]\n",
    "    concat_df.to_csv(export_file)"
   ]
  },
  {
   "cell_type": "markdown",
   "metadata": {},
   "source": [
    "### Run Scrape"
   ]
  },
  {
   "cell_type": "code",
   "execution_count": 7,
   "metadata": {},
   "outputs": [
    {
     "name": "stderr",
     "output_type": "stream",
     "text": [
      "100% (40 of 40) |########################| Elapsed Time: 0:00:23 Time:  0:00:23\n",
      "100% (40 of 40) |########################| Elapsed Time: 0:00:23 Time:  0:00:23\n"
     ]
    }
   ],
   "source": [
    "# You can also put in any 2 subreddits in as the URL and get results for those\n",
    "\n",
    "nfltest = scrape_to_df(scraper_bike, 'https://www.reddit.com/r/nfl.json')\n",
    "nbatest = scrape_to_df(scraper_bike, 'https://www.reddit.com/r/nba.json')"
   ]
  },
  {
   "cell_type": "code",
   "execution_count": 8,
   "metadata": {},
   "outputs": [
    {
     "name": "stderr",
     "output_type": "stream",
     "text": [
      "100% (40 of 40) |########################| Elapsed Time: 0:00:24 Time:  0:00:24\n",
      "100% (40 of 40) |########################| Elapsed Time: 0:00:23 Time:  0:00:23\n"
     ]
    }
   ],
   "source": [
    "politics_test = scrape_to_df(scraper_bike, 'https://www.reddit.com/r/politics.json')\n",
    "conservative_test = scrape_to_df(scraper_bike, 'https://www.reddit.com/r/conservative.json')"
   ]
  },
  {
   "cell_type": "code",
   "execution_count": 9,
   "metadata": {},
   "outputs": [
    {
     "data": {
      "text/plain": [
       "(785, 3)"
      ]
     },
     "execution_count": 9,
     "metadata": {},
     "output_type": "execute_result"
    }
   ],
   "source": [
    "nbatest.shape"
   ]
  },
  {
   "cell_type": "code",
   "execution_count": 10,
   "metadata": {},
   "outputs": [
    {
     "data": {
      "text/plain": [
       "(889, 3)"
      ]
     },
     "execution_count": 10,
     "metadata": {},
     "output_type": "execute_result"
    }
   ],
   "source": [
    "nfltest.shape"
   ]
  },
  {
   "cell_type": "markdown",
   "metadata": {},
   "source": [
    "##### These scrape_add functions add to already built csvs"
   ]
  },
  {
   "cell_type": "code",
   "execution_count": null,
   "metadata": {},
   "outputs": [],
   "source": [
    "# scrape_add(scraper_bike, 'https://www.reddit.com/r/CollegeBasketball/new.json', 'NCAA_Posts_Update2.csv', 'NCAA_Posts_Update3.csv')\n",
    "# scrape_add(scraper_bike, 'https://www.reddit.com/r/AskScience/new.json', 'AskSci_Posts_Update2.csv', 'AskSci_Posts_Update3.csv')\n",
    "# scrape_add(scraper_bike, 'https://www.reddit.com/r/nba/new.json', 'NBA_Posts_Update2.csv', 'NBA_Posts_Update3.csv')\n",
    "# scrape_add(scraper_bike, 'https://www.reddit.com/r/nfl/new.json', 'NFL_Posts_Update2.csv', 'NFL_Posts_Update3.csv')"
   ]
  },
  {
   "cell_type": "markdown",
   "metadata": {},
   "source": [
    "### Data Cleaning / Preprocessing"
   ]
  },
  {
   "cell_type": "code",
   "execution_count": 11,
   "metadata": {},
   "outputs": [
    {
     "data": {
      "text/html": [
       "<div>\n",
       "<style scoped>\n",
       "    .dataframe tbody tr th:only-of-type {\n",
       "        vertical-align: middle;\n",
       "    }\n",
       "\n",
       "    .dataframe tbody tr th {\n",
       "        vertical-align: top;\n",
       "    }\n",
       "\n",
       "    .dataframe thead th {\n",
       "        text-align: right;\n",
       "    }\n",
       "</style>\n",
       "<table border=\"1\" class=\"dataframe\">\n",
       "  <thead>\n",
       "    <tr style=\"text-align: right;\">\n",
       "      <th></th>\n",
       "      <th>subreddit</th>\n",
       "      <th>title</th>\n",
       "      <th>selftext</th>\n",
       "    </tr>\n",
       "  </thead>\n",
       "  <tbody>\n",
       "    <tr>\n",
       "      <td>t3_fo7ihs</td>\n",
       "      <td>nfl</td>\n",
       "      <td>Talko Tuesday</td>\n",
       "      <td>Welcome to today's open thread, where /r/nfl u...</td>\n",
       "    </tr>\n",
       "    <tr>\n",
       "      <td>t3_fo9ztd</td>\n",
       "      <td>nfl</td>\n",
       "      <td>AMA with Ravens FB/DL Pat Ricard!</td>\n",
       "      <td>Check it out here:  [https://www.reddit.com/r/...</td>\n",
       "    </tr>\n",
       "    <tr>\n",
       "      <td>t3_fof7od</td>\n",
       "      <td>nfl</td>\n",
       "      <td>[Sessler] Daily reminder that SAM BRADFORD mad...</td>\n",
       "      <td></td>\n",
       "    </tr>\n",
       "    <tr>\n",
       "      <td>t3_foouha</td>\n",
       "      <td>nfl</td>\n",
       "      <td>[Schefter] Rodger Goodell has ordered all NFL ...</td>\n",
       "      <td></td>\n",
       "    </tr>\n",
       "    <tr>\n",
       "      <td>t3_fob82s</td>\n",
       "      <td>nfl</td>\n",
       "      <td>[Panthers] #Panthers have released QB Cam Newton</td>\n",
       "      <td></td>\n",
       "    </tr>\n",
       "    <tr>\n",
       "      <td>t3_fo7hft</td>\n",
       "      <td>nfl</td>\n",
       "      <td>[Mays] Glad the Bears nabbed Nick Foles while ...</td>\n",
       "      <td></td>\n",
       "    </tr>\n",
       "    <tr>\n",
       "      <td>t3_foq2ka</td>\n",
       "      <td>nfl</td>\n",
       "      <td>[Freeman] One thing to pass along: I’m increas...</td>\n",
       "      <td></td>\n",
       "    </tr>\n",
       "    <tr>\n",
       "      <td>t3_fop5nx</td>\n",
       "      <td>nfl</td>\n",
       "      <td>[OC] [Highlight] [Longform] Fans pushing and s...</td>\n",
       "      <td></td>\n",
       "    </tr>\n",
       "    <tr>\n",
       "      <td>t3_fod4n2</td>\n",
       "      <td>nfl</td>\n",
       "      <td>In Honor of Cam being Released, Here's One of ...</td>\n",
       "      <td></td>\n",
       "    </tr>\n",
       "    <tr>\n",
       "      <td>t3_fo9id8</td>\n",
       "      <td>nfl</td>\n",
       "      <td>[Sherman] do you guys ever think about how in ...</td>\n",
       "      <td></td>\n",
       "    </tr>\n",
       "  </tbody>\n",
       "</table>\n",
       "</div>"
      ],
      "text/plain": [
       "          subreddit                                              title  \\\n",
       "t3_fo7ihs       nfl                                      Talko Tuesday   \n",
       "t3_fo9ztd       nfl                  AMA with Ravens FB/DL Pat Ricard!   \n",
       "t3_fof7od       nfl  [Sessler] Daily reminder that SAM BRADFORD mad...   \n",
       "t3_foouha       nfl  [Schefter] Rodger Goodell has ordered all NFL ...   \n",
       "t3_fob82s       nfl   [Panthers] #Panthers have released QB Cam Newton   \n",
       "t3_fo7hft       nfl  [Mays] Glad the Bears nabbed Nick Foles while ...   \n",
       "t3_foq2ka       nfl  [Freeman] One thing to pass along: I’m increas...   \n",
       "t3_fop5nx       nfl  [OC] [Highlight] [Longform] Fans pushing and s...   \n",
       "t3_fod4n2       nfl  In Honor of Cam being Released, Here's One of ...   \n",
       "t3_fo9id8       nfl  [Sherman] do you guys ever think about how in ...   \n",
       "\n",
       "                                                    selftext  \n",
       "t3_fo7ihs  Welcome to today's open thread, where /r/nfl u...  \n",
       "t3_fo9ztd  Check it out here:  [https://www.reddit.com/r/...  \n",
       "t3_fof7od                                                     \n",
       "t3_foouha                                                     \n",
       "t3_fob82s                                                     \n",
       "t3_fo7hft                                                     \n",
       "t3_foq2ka                                                     \n",
       "t3_fop5nx                                                     \n",
       "t3_fod4n2                                                     \n",
       "t3_fo9id8                                                     "
      ]
     },
     "execution_count": 11,
     "metadata": {},
     "output_type": "execute_result"
    }
   ],
   "source": [
    "nfltest.head(10)"
   ]
  },
  {
   "cell_type": "code",
   "execution_count": 13,
   "metadata": {},
   "outputs": [],
   "source": [
    "import nltk\n",
    "from nltk.stem import WordNetLemmatizer\n",
    "from nltk.tokenize import RegexpTokenizer, sent_tokenize\n",
    "from nltk.corpus import stopwords\n",
    "from sklearn.feature_extraction.text import CountVectorizer, TfidfVectorizer\n",
    "\n",
    "pd.set_option('max_colwidth', 300)"
   ]
  },
  {
   "cell_type": "code",
   "execution_count": 14,
   "metadata": {},
   "outputs": [
    {
     "ename": "KeyError",
     "evalue": "\"['selftext'] not found in axis\"",
     "output_type": "error",
     "traceback": [
      "\u001b[0;31m---------------------------------------------------------------------------\u001b[0m",
      "\u001b[0;31mKeyError\u001b[0m                                  Traceback (most recent call last)",
      "\u001b[0;32m<ipython-input-14-e8d5be5c771e>\u001b[0m in \u001b[0;36m<module>\u001b[0;34m\u001b[0m\n\u001b[1;32m      1\u001b[0m \u001b[0;31m# drop column\u001b[0m\u001b[0;34m\u001b[0m\u001b[0;34m\u001b[0m\u001b[0;34m\u001b[0m\u001b[0m\n\u001b[1;32m      2\u001b[0m \u001b[0;34m\u001b[0m\u001b[0m\n\u001b[0;32m----> 3\u001b[0;31m \u001b[0mnfltest\u001b[0m \u001b[0;34m=\u001b[0m \u001b[0mnfltest\u001b[0m\u001b[0;34m.\u001b[0m\u001b[0mdrop\u001b[0m\u001b[0;34m(\u001b[0m\u001b[0mcolumns\u001b[0m \u001b[0;34m=\u001b[0m \u001b[0;34m'selftext'\u001b[0m\u001b[0;34m)\u001b[0m\u001b[0;34m\u001b[0m\u001b[0;34m\u001b[0m\u001b[0m\n\u001b[0m\u001b[1;32m      4\u001b[0m \u001b[0mnbatest\u001b[0m \u001b[0;34m=\u001b[0m \u001b[0mnbatest\u001b[0m\u001b[0;34m.\u001b[0m\u001b[0mdrop\u001b[0m\u001b[0;34m(\u001b[0m\u001b[0mcolumns\u001b[0m \u001b[0;34m=\u001b[0m \u001b[0;34m'selftext'\u001b[0m\u001b[0;34m)\u001b[0m\u001b[0;34m\u001b[0m\u001b[0;34m\u001b[0m\u001b[0m\n",
      "\u001b[0;32m/opt/anaconda3/lib/python3.7/site-packages/pandas/core/frame.py\u001b[0m in \u001b[0;36mdrop\u001b[0;34m(self, labels, axis, index, columns, level, inplace, errors)\u001b[0m\n\u001b[1;32m   4100\u001b[0m             \u001b[0mlevel\u001b[0m\u001b[0;34m=\u001b[0m\u001b[0mlevel\u001b[0m\u001b[0;34m,\u001b[0m\u001b[0;34m\u001b[0m\u001b[0;34m\u001b[0m\u001b[0m\n\u001b[1;32m   4101\u001b[0m             \u001b[0minplace\u001b[0m\u001b[0;34m=\u001b[0m\u001b[0minplace\u001b[0m\u001b[0;34m,\u001b[0m\u001b[0;34m\u001b[0m\u001b[0;34m\u001b[0m\u001b[0m\n\u001b[0;32m-> 4102\u001b[0;31m             \u001b[0merrors\u001b[0m\u001b[0;34m=\u001b[0m\u001b[0merrors\u001b[0m\u001b[0;34m,\u001b[0m\u001b[0;34m\u001b[0m\u001b[0;34m\u001b[0m\u001b[0m\n\u001b[0m\u001b[1;32m   4103\u001b[0m         )\n\u001b[1;32m   4104\u001b[0m \u001b[0;34m\u001b[0m\u001b[0m\n",
      "\u001b[0;32m/opt/anaconda3/lib/python3.7/site-packages/pandas/core/generic.py\u001b[0m in \u001b[0;36mdrop\u001b[0;34m(self, labels, axis, index, columns, level, inplace, errors)\u001b[0m\n\u001b[1;32m   3912\u001b[0m         \u001b[0;32mfor\u001b[0m \u001b[0maxis\u001b[0m\u001b[0;34m,\u001b[0m \u001b[0mlabels\u001b[0m \u001b[0;32min\u001b[0m \u001b[0maxes\u001b[0m\u001b[0;34m.\u001b[0m\u001b[0mitems\u001b[0m\u001b[0;34m(\u001b[0m\u001b[0;34m)\u001b[0m\u001b[0;34m:\u001b[0m\u001b[0;34m\u001b[0m\u001b[0;34m\u001b[0m\u001b[0m\n\u001b[1;32m   3913\u001b[0m             \u001b[0;32mif\u001b[0m \u001b[0mlabels\u001b[0m \u001b[0;32mis\u001b[0m \u001b[0;32mnot\u001b[0m \u001b[0;32mNone\u001b[0m\u001b[0;34m:\u001b[0m\u001b[0;34m\u001b[0m\u001b[0;34m\u001b[0m\u001b[0m\n\u001b[0;32m-> 3914\u001b[0;31m                 \u001b[0mobj\u001b[0m \u001b[0;34m=\u001b[0m \u001b[0mobj\u001b[0m\u001b[0;34m.\u001b[0m\u001b[0m_drop_axis\u001b[0m\u001b[0;34m(\u001b[0m\u001b[0mlabels\u001b[0m\u001b[0;34m,\u001b[0m \u001b[0maxis\u001b[0m\u001b[0;34m,\u001b[0m \u001b[0mlevel\u001b[0m\u001b[0;34m=\u001b[0m\u001b[0mlevel\u001b[0m\u001b[0;34m,\u001b[0m \u001b[0merrors\u001b[0m\u001b[0;34m=\u001b[0m\u001b[0merrors\u001b[0m\u001b[0;34m)\u001b[0m\u001b[0;34m\u001b[0m\u001b[0;34m\u001b[0m\u001b[0m\n\u001b[0m\u001b[1;32m   3915\u001b[0m \u001b[0;34m\u001b[0m\u001b[0m\n\u001b[1;32m   3916\u001b[0m         \u001b[0;32mif\u001b[0m \u001b[0minplace\u001b[0m\u001b[0;34m:\u001b[0m\u001b[0;34m\u001b[0m\u001b[0;34m\u001b[0m\u001b[0m\n",
      "\u001b[0;32m/opt/anaconda3/lib/python3.7/site-packages/pandas/core/generic.py\u001b[0m in \u001b[0;36m_drop_axis\u001b[0;34m(self, labels, axis, level, errors)\u001b[0m\n\u001b[1;32m   3944\u001b[0m                 \u001b[0mnew_axis\u001b[0m \u001b[0;34m=\u001b[0m \u001b[0maxis\u001b[0m\u001b[0;34m.\u001b[0m\u001b[0mdrop\u001b[0m\u001b[0;34m(\u001b[0m\u001b[0mlabels\u001b[0m\u001b[0;34m,\u001b[0m \u001b[0mlevel\u001b[0m\u001b[0;34m=\u001b[0m\u001b[0mlevel\u001b[0m\u001b[0;34m,\u001b[0m \u001b[0merrors\u001b[0m\u001b[0;34m=\u001b[0m\u001b[0merrors\u001b[0m\u001b[0;34m)\u001b[0m\u001b[0;34m\u001b[0m\u001b[0;34m\u001b[0m\u001b[0m\n\u001b[1;32m   3945\u001b[0m             \u001b[0;32melse\u001b[0m\u001b[0;34m:\u001b[0m\u001b[0;34m\u001b[0m\u001b[0;34m\u001b[0m\u001b[0m\n\u001b[0;32m-> 3946\u001b[0;31m                 \u001b[0mnew_axis\u001b[0m \u001b[0;34m=\u001b[0m \u001b[0maxis\u001b[0m\u001b[0;34m.\u001b[0m\u001b[0mdrop\u001b[0m\u001b[0;34m(\u001b[0m\u001b[0mlabels\u001b[0m\u001b[0;34m,\u001b[0m \u001b[0merrors\u001b[0m\u001b[0;34m=\u001b[0m\u001b[0merrors\u001b[0m\u001b[0;34m)\u001b[0m\u001b[0;34m\u001b[0m\u001b[0;34m\u001b[0m\u001b[0m\n\u001b[0m\u001b[1;32m   3947\u001b[0m             \u001b[0mresult\u001b[0m \u001b[0;34m=\u001b[0m \u001b[0mself\u001b[0m\u001b[0;34m.\u001b[0m\u001b[0mreindex\u001b[0m\u001b[0;34m(\u001b[0m\u001b[0;34m**\u001b[0m\u001b[0;34m{\u001b[0m\u001b[0maxis_name\u001b[0m\u001b[0;34m:\u001b[0m \u001b[0mnew_axis\u001b[0m\u001b[0;34m}\u001b[0m\u001b[0;34m)\u001b[0m\u001b[0;34m\u001b[0m\u001b[0;34m\u001b[0m\u001b[0m\n\u001b[1;32m   3948\u001b[0m \u001b[0;34m\u001b[0m\u001b[0m\n",
      "\u001b[0;32m/opt/anaconda3/lib/python3.7/site-packages/pandas/core/indexes/base.py\u001b[0m in \u001b[0;36mdrop\u001b[0;34m(self, labels, errors)\u001b[0m\n\u001b[1;32m   5338\u001b[0m         \u001b[0;32mif\u001b[0m \u001b[0mmask\u001b[0m\u001b[0;34m.\u001b[0m\u001b[0many\u001b[0m\u001b[0;34m(\u001b[0m\u001b[0;34m)\u001b[0m\u001b[0;34m:\u001b[0m\u001b[0;34m\u001b[0m\u001b[0;34m\u001b[0m\u001b[0m\n\u001b[1;32m   5339\u001b[0m             \u001b[0;32mif\u001b[0m \u001b[0merrors\u001b[0m \u001b[0;34m!=\u001b[0m \u001b[0;34m\"ignore\"\u001b[0m\u001b[0;34m:\u001b[0m\u001b[0;34m\u001b[0m\u001b[0;34m\u001b[0m\u001b[0m\n\u001b[0;32m-> 5340\u001b[0;31m                 \u001b[0;32mraise\u001b[0m \u001b[0mKeyError\u001b[0m\u001b[0;34m(\u001b[0m\u001b[0;34m\"{} not found in axis\"\u001b[0m\u001b[0;34m.\u001b[0m\u001b[0mformat\u001b[0m\u001b[0;34m(\u001b[0m\u001b[0mlabels\u001b[0m\u001b[0;34m[\u001b[0m\u001b[0mmask\u001b[0m\u001b[0;34m]\u001b[0m\u001b[0;34m)\u001b[0m\u001b[0;34m)\u001b[0m\u001b[0;34m\u001b[0m\u001b[0;34m\u001b[0m\u001b[0m\n\u001b[0m\u001b[1;32m   5341\u001b[0m             \u001b[0mindexer\u001b[0m \u001b[0;34m=\u001b[0m \u001b[0mindexer\u001b[0m\u001b[0;34m[\u001b[0m\u001b[0;34m~\u001b[0m\u001b[0mmask\u001b[0m\u001b[0;34m]\u001b[0m\u001b[0;34m\u001b[0m\u001b[0;34m\u001b[0m\u001b[0m\n\u001b[1;32m   5342\u001b[0m         \u001b[0;32mreturn\u001b[0m \u001b[0mself\u001b[0m\u001b[0;34m.\u001b[0m\u001b[0mdelete\u001b[0m\u001b[0;34m(\u001b[0m\u001b[0mindexer\u001b[0m\u001b[0;34m)\u001b[0m\u001b[0;34m\u001b[0m\u001b[0;34m\u001b[0m\u001b[0m\n",
      "\u001b[0;31mKeyError\u001b[0m: \"['selftext'] not found in axis\""
     ]
    }
   ],
   "source": [
    "# drop column\n",
    "\n",
    "nfltest = nfltest.drop(columns = 'selftext')\n",
    "nbatest = nbatest.drop(columns = 'selftext')"
   ]
  },
  {
   "cell_type": "code",
   "execution_count": 15,
   "metadata": {},
   "outputs": [],
   "source": [
    "# merge subreddit data\n",
    "\n",
    "train = pd.concat([nfltest, nbatest])"
   ]
  },
  {
   "cell_type": "code",
   "execution_count": 17,
   "metadata": {},
   "outputs": [
    {
     "data": {
      "text/html": [
       "<div>\n",
       "<style scoped>\n",
       "    .dataframe tbody tr th:only-of-type {\n",
       "        vertical-align: middle;\n",
       "    }\n",
       "\n",
       "    .dataframe tbody tr th {\n",
       "        vertical-align: top;\n",
       "    }\n",
       "\n",
       "    .dataframe thead th {\n",
       "        text-align: right;\n",
       "    }\n",
       "</style>\n",
       "<table border=\"1\" class=\"dataframe\">\n",
       "  <thead>\n",
       "    <tr style=\"text-align: right;\">\n",
       "      <th></th>\n",
       "      <th>subreddit</th>\n",
       "      <th>title</th>\n",
       "    </tr>\n",
       "  </thead>\n",
       "  <tbody>\n",
       "    <tr>\n",
       "      <td>t3_fnb2e8</td>\n",
       "      <td>nba</td>\n",
       "      <td>Darrell Armstrong beats the buzzer at the 1996 Slam Dunk Contest</td>\n",
       "    </tr>\n",
       "    <tr>\n",
       "      <td>t3_fn9n03</td>\n",
       "      <td>nba</td>\n",
       "      <td>Paul George takes Lance Stephenson to Moves.com to beat the buzzer. Westbrook responds with Lance's air guitar celebration.</td>\n",
       "    </tr>\n",
       "    <tr>\n",
       "      <td>t3_fnnjbp</td>\n",
       "      <td>nba</td>\n",
       "      <td>Imagine if you had a Jeff Bezos level net worth, how much do you think you would have to pay LeBron to lease him as your vehicle, so that he could give you piggy back rides everywhere?</td>\n",
       "    </tr>\n",
       "    <tr>\n",
       "      <td>t3_fnauwo</td>\n",
       "      <td>nba</td>\n",
       "      <td>Reasons why the 2011-2012 NBA season was one of the most eventful seasons in NBA history.</td>\n",
       "    </tr>\n",
       "    <tr>\n",
       "      <td>t3_fnd6b9</td>\n",
       "      <td>nba</td>\n",
       "      <td>Dwade vs KD age 23-30</td>\n",
       "    </tr>\n",
       "    <tr>\n",
       "      <td>t3_fmzfs9</td>\n",
       "      <td>nba</td>\n",
       "      <td>Steve Blake Dishes Out NBA Record 14 Assists in a Quarter (February 22, 2009)</td>\n",
       "    </tr>\n",
       "    <tr>\n",
       "      <td>t3_fmnhan</td>\n",
       "      <td>nba</td>\n",
       "      <td>Best game from every NBA team starters + sixth man this season</td>\n",
       "    </tr>\n",
       "    <tr>\n",
       "      <td>t3_fn0i95</td>\n",
       "      <td>nba</td>\n",
       "      <td>Dennis Rodman dives for the rebound in a full horizontal extent</td>\n",
       "    </tr>\n",
       "    <tr>\n",
       "      <td>t3_fn4krg</td>\n",
       "      <td>nba</td>\n",
       "      <td>The New York Knicks get absolutely obliterated by the sheer greatness of TJ “Michael Jeffrey Jordan” McConnell after Porzingis airballs the corner 3 like a dumbass</td>\n",
       "    </tr>\n",
       "    <tr>\n",
       "      <td>t3_fnp0ex</td>\n",
       "      <td>nba</td>\n",
       "      <td>Would you take prime Lebron or Andrew Wiggins with one leg and a gun?</td>\n",
       "    </tr>\n",
       "  </tbody>\n",
       "</table>\n",
       "</div>"
      ],
      "text/plain": [
       "          subreddit  \\\n",
       "t3_fnb2e8       nba   \n",
       "t3_fn9n03       nba   \n",
       "t3_fnnjbp       nba   \n",
       "t3_fnauwo       nba   \n",
       "t3_fnd6b9       nba   \n",
       "t3_fmzfs9       nba   \n",
       "t3_fmnhan       nba   \n",
       "t3_fn0i95       nba   \n",
       "t3_fn4krg       nba   \n",
       "t3_fnp0ex       nba   \n",
       "\n",
       "                                                                                                                                                                                              title  \n",
       "t3_fnb2e8                                                                                                                          Darrell Armstrong beats the buzzer at the 1996 Slam Dunk Contest  \n",
       "t3_fn9n03                                                               Paul George takes Lance Stephenson to Moves.com to beat the buzzer. Westbrook responds with Lance's air guitar celebration.  \n",
       "t3_fnnjbp  Imagine if you had a Jeff Bezos level net worth, how much do you think you would have to pay LeBron to lease him as your vehicle, so that he could give you piggy back rides everywhere?  \n",
       "t3_fnauwo                                                                                                 Reasons why the 2011-2012 NBA season was one of the most eventful seasons in NBA history.  \n",
       "t3_fnd6b9                                                                                                                                                                     Dwade vs KD age 23-30  \n",
       "t3_fmzfs9                                                                                                             Steve Blake Dishes Out NBA Record 14 Assists in a Quarter (February 22, 2009)  \n",
       "t3_fmnhan                                                                                                                            Best game from every NBA team starters + sixth man this season  \n",
       "t3_fn0i95                                                                                                                           Dennis Rodman dives for the rebound in a full horizontal extent  \n",
       "t3_fn4krg                       The New York Knicks get absolutely obliterated by the sheer greatness of TJ “Michael Jeffrey Jordan” McConnell after Porzingis airballs the corner 3 like a dumbass  \n",
       "t3_fnp0ex                                                                                                                     Would you take prime Lebron or Andrew Wiggins with one leg and a gun?  "
      ]
     },
     "execution_count": 17,
     "metadata": {},
     "output_type": "execute_result"
    }
   ],
   "source": [
    "train.tail(10)"
   ]
  },
  {
   "cell_type": "code",
   "execution_count": 19,
   "metadata": {},
   "outputs": [
    {
     "data": {
      "text/plain": [
       "(1674, 2)"
      ]
     },
     "execution_count": 19,
     "metadata": {},
     "output_type": "execute_result"
    }
   ],
   "source": [
    "train.shape"
   ]
  },
  {
   "cell_type": "markdown",
   "metadata": {},
   "source": [
    "##### Tokenize (grab only word characters)"
   ]
  },
  {
   "cell_type": "code",
   "execution_count": 20,
   "metadata": {},
   "outputs": [],
   "source": [
    "word_tokenizer = RegexpTokenizer(r'\\w+')"
   ]
  },
  {
   "cell_type": "code",
   "execution_count": 24,
   "metadata": {},
   "outputs": [
    {
     "name": "stdout",
     "output_type": "stream",
     "text": [
      "Hello\n",
      "World\n"
     ]
    }
   ],
   "source": [
    "print('Hello\\nWorld')"
   ]
  },
  {
   "cell_type": "code",
   "execution_count": 22,
   "metadata": {},
   "outputs": [
    {
     "name": "stdout",
     "output_type": "stream",
     "text": [
      "Hello\\nWorld\n"
     ]
    }
   ],
   "source": [
    "print(r'Hello\\nWorld')"
   ]
  },
  {
   "cell_type": "code",
   "execution_count": 25,
   "metadata": {},
   "outputs": [],
   "source": [
    "train['title'] = train['title'].map(lambda x: word_tokenizer.tokenize(x.lower()))"
   ]
  },
  {
   "cell_type": "code",
   "execution_count": 26,
   "metadata": {},
   "outputs": [
    {
     "data": {
      "text/html": [
       "<div>\n",
       "<style scoped>\n",
       "    .dataframe tbody tr th:only-of-type {\n",
       "        vertical-align: middle;\n",
       "    }\n",
       "\n",
       "    .dataframe tbody tr th {\n",
       "        vertical-align: top;\n",
       "    }\n",
       "\n",
       "    .dataframe thead th {\n",
       "        text-align: right;\n",
       "    }\n",
       "</style>\n",
       "<table border=\"1\" class=\"dataframe\">\n",
       "  <thead>\n",
       "    <tr style=\"text-align: right;\">\n",
       "      <th></th>\n",
       "      <th>subreddit</th>\n",
       "      <th>title</th>\n",
       "    </tr>\n",
       "  </thead>\n",
       "  <tbody>\n",
       "    <tr>\n",
       "      <td>t3_fo7ihs</td>\n",
       "      <td>nfl</td>\n",
       "      <td>[talko, tuesday]</td>\n",
       "    </tr>\n",
       "    <tr>\n",
       "      <td>t3_fo9ztd</td>\n",
       "      <td>nfl</td>\n",
       "      <td>[ama, with, ravens, fb, dl, pat, ricard]</td>\n",
       "    </tr>\n",
       "    <tr>\n",
       "      <td>t3_fof7od</td>\n",
       "      <td>nfl</td>\n",
       "      <td>[sessler, daily, reminder, that, sam, bradford, made, 129, 982, 500, to, go, 34, 48, 1, never, made, a, pro, bowl, or, all, pro, team, never, started, a, playoff, game, very, possibly, lives, in, a, castle, right, now, off, the, coast, of, some, majestic, ocean]</td>\n",
       "    </tr>\n",
       "    <tr>\n",
       "      <td>t3_foouha</td>\n",
       "      <td>nfl</td>\n",
       "      <td>[schefter, rodger, goodell, has, ordered, all, nfl, teams, to, shut, down, their, training, facilities, at, 6, p, m, local, time, today, due, to, the, covid, 19, virus, nfl, will, reassess, on, april, 8, when, they, can, open, again]</td>\n",
       "    </tr>\n",
       "    <tr>\n",
       "      <td>t3_fob82s</td>\n",
       "      <td>nfl</td>\n",
       "      <td>[panthers, panthers, have, released, qb, cam, newton]</td>\n",
       "    </tr>\n",
       "  </tbody>\n",
       "</table>\n",
       "</div>"
      ],
      "text/plain": [
       "          subreddit  \\\n",
       "t3_fo7ihs       nfl   \n",
       "t3_fo9ztd       nfl   \n",
       "t3_fof7od       nfl   \n",
       "t3_foouha       nfl   \n",
       "t3_fob82s       nfl   \n",
       "\n",
       "                                                                                                                                                                                                                                                                            title  \n",
       "t3_fo7ihs                                                                                                                                                                                                                                                        [talko, tuesday]  \n",
       "t3_fo9ztd                                                                                                                                                                                                                                [ama, with, ravens, fb, dl, pat, ricard]  \n",
       "t3_fof7od  [sessler, daily, reminder, that, sam, bradford, made, 129, 982, 500, to, go, 34, 48, 1, never, made, a, pro, bowl, or, all, pro, team, never, started, a, playoff, game, very, possibly, lives, in, a, castle, right, now, off, the, coast, of, some, majestic, ocean]  \n",
       "t3_foouha                               [schefter, rodger, goodell, has, ordered, all, nfl, teams, to, shut, down, their, training, facilities, at, 6, p, m, local, time, today, due, to, the, covid, 19, virus, nfl, will, reassess, on, april, 8, when, they, can, open, again]  \n",
       "t3_fob82s                                                                                                                                                                                                                   [panthers, panthers, have, released, qb, cam, newton]  "
      ]
     },
     "execution_count": 26,
     "metadata": {},
     "output_type": "execute_result"
    }
   ],
   "source": [
    "train.head()"
   ]
  },
  {
   "cell_type": "code",
   "execution_count": 27,
   "metadata": {},
   "outputs": [],
   "source": [
    "# rejoin list of tokenized words into single string for each row\n",
    "\n",
    "train['title'] = train['title'].map(lambda x: ' '.join(x))"
   ]
  },
  {
   "cell_type": "code",
   "execution_count": 29,
   "metadata": {},
   "outputs": [
    {
     "data": {
      "text/html": [
       "<div>\n",
       "<style scoped>\n",
       "    .dataframe tbody tr th:only-of-type {\n",
       "        vertical-align: middle;\n",
       "    }\n",
       "\n",
       "    .dataframe tbody tr th {\n",
       "        vertical-align: top;\n",
       "    }\n",
       "\n",
       "    .dataframe thead th {\n",
       "        text-align: right;\n",
       "    }\n",
       "</style>\n",
       "<table border=\"1\" class=\"dataframe\">\n",
       "  <thead>\n",
       "    <tr style=\"text-align: right;\">\n",
       "      <th></th>\n",
       "      <th>subreddit</th>\n",
       "      <th>title</th>\n",
       "    </tr>\n",
       "  </thead>\n",
       "  <tbody>\n",
       "    <tr>\n",
       "      <td>t3_fo7ihs</td>\n",
       "      <td>nfl</td>\n",
       "      <td>talko tuesday</td>\n",
       "    </tr>\n",
       "    <tr>\n",
       "      <td>t3_fo9ztd</td>\n",
       "      <td>nfl</td>\n",
       "      <td>ama with ravens fb dl pat ricard</td>\n",
       "    </tr>\n",
       "    <tr>\n",
       "      <td>t3_fof7od</td>\n",
       "      <td>nfl</td>\n",
       "      <td>sessler daily reminder that sam bradford made 129 982 500 to go 34 48 1 never made a pro bowl or all pro team never started a playoff game very possibly lives in a castle right now off the coast of some majestic ocean</td>\n",
       "    </tr>\n",
       "    <tr>\n",
       "      <td>t3_foouha</td>\n",
       "      <td>nfl</td>\n",
       "      <td>schefter rodger goodell has ordered all nfl teams to shut down their training facilities at 6 p m local time today due to the covid 19 virus nfl will reassess on april 8 when they can open again</td>\n",
       "    </tr>\n",
       "    <tr>\n",
       "      <td>t3_fob82s</td>\n",
       "      <td>nfl</td>\n",
       "      <td>panthers panthers have released qb cam newton</td>\n",
       "    </tr>\n",
       "  </tbody>\n",
       "</table>\n",
       "</div>"
      ],
      "text/plain": [
       "          subreddit  \\\n",
       "t3_fo7ihs       nfl   \n",
       "t3_fo9ztd       nfl   \n",
       "t3_fof7od       nfl   \n",
       "t3_foouha       nfl   \n",
       "t3_fob82s       nfl   \n",
       "\n",
       "                                                                                                                                                                                                                               title  \n",
       "t3_fo7ihs                                                                                                                                                                                                              talko tuesday  \n",
       "t3_fo9ztd                                                                                                                                                                                           ama with ravens fb dl pat ricard  \n",
       "t3_fof7od  sessler daily reminder that sam bradford made 129 982 500 to go 34 48 1 never made a pro bowl or all pro team never started a playoff game very possibly lives in a castle right now off the coast of some majestic ocean  \n",
       "t3_foouha                         schefter rodger goodell has ordered all nfl teams to shut down their training facilities at 6 p m local time today due to the covid 19 virus nfl will reassess on april 8 when they can open again  \n",
       "t3_fob82s                                                                                                                                                                              panthers panthers have released qb cam newton  "
      ]
     },
     "execution_count": 29,
     "metadata": {},
     "output_type": "execute_result"
    }
   ],
   "source": [
    "train.head()"
   ]
  },
  {
   "cell_type": "markdown",
   "metadata": {},
   "source": [
    "### Train test split and converting series to list of strings then to array"
   ]
  },
  {
   "cell_type": "code",
   "execution_count": 30,
   "metadata": {},
   "outputs": [],
   "source": [
    "X = train[['title']]\n",
    "y = train['subreddit']"
   ]
  },
  {
   "cell_type": "code",
   "execution_count": 31,
   "metadata": {},
   "outputs": [],
   "source": [
    "from sklearn.model_selection import train_test_split\n",
    "\n",
    "X_train, X_test, y_train, y_test = train_test_split(X,\n",
    "                                                    y,\n",
    "                                                    test_size=.25,\n",
    "                                                    random_state=42,\n",
    "                                                    stratify=y)"
   ]
  },
  {
   "cell_type": "code",
   "execution_count": 32,
   "metadata": {},
   "outputs": [
    {
     "data": {
      "text/plain": [
       "nfl    0.531063\n",
       "nba    0.468937\n",
       "Name: subreddit, dtype: float64"
      ]
     },
     "execution_count": 32,
     "metadata": {},
     "output_type": "execute_result"
    }
   ],
   "source": [
    "# baseline is\n",
    "\n",
    "y.value_counts(normalize=True)"
   ]
  },
  {
   "cell_type": "code",
   "execution_count": 33,
   "metadata": {},
   "outputs": [],
   "source": [
    "# create our training data list - this is a list of strings, with each string being a post title\n",
    "\n",
    "clean_train_data = []\n",
    "\n",
    "for traindata in X_train['title']:\n",
    "    clean_train_data.append(traindata)"
   ]
  },
  {
   "cell_type": "code",
   "execution_count": 34,
   "metadata": {},
   "outputs": [
    {
     "data": {
      "text/plain": [
       "1255"
      ]
     },
     "execution_count": 34,
     "metadata": {},
     "output_type": "execute_result"
    }
   ],
   "source": [
    "len(clean_train_data)"
   ]
  },
  {
   "cell_type": "code",
   "execution_count": 35,
   "metadata": {},
   "outputs": [],
   "source": [
    "# create test data list\n",
    "\n",
    "clean_test_data = []\n",
    "\n",
    "for testdata in X_test['title']:\n",
    "    clean_test_data.append(testdata)"
   ]
  },
  {
   "cell_type": "code",
   "execution_count": 36,
   "metadata": {},
   "outputs": [
    {
     "data": {
      "text/plain": [
       "419"
      ]
     },
     "execution_count": 36,
     "metadata": {},
     "output_type": "execute_result"
    }
   ],
   "source": [
    "len(clean_test_data)"
   ]
  },
  {
   "cell_type": "code",
   "execution_count": 37,
   "metadata": {},
   "outputs": [
    {
     "data": {
      "text/plain": [
       "['was steve nash the best player on the suns during his mvp years',\n",
       " 'keenan allen in reply to mike williams aye no cap you the best deep threat in the league facts',\n",
       " 'pelissero te seth devalve has agreed to terms with the panthers per his agent chriscabott of steinbergsports',\n",
       " 'how often do players mess up alley oops in real games',\n",
       " 'david griffin says league is focused on resuming not canceling season',\n",
       " 'charles barkley blocks kenny the jet smith in the final seconds to secure a suns victory',\n",
       " 'mystery ball theatre 3000',\n",
       " 'who is your early pick for worst team in football for 2020 and why',\n",
       " 'fiorio hearing some chatter that jadeveon clowney and the seahawks are moving toward a new deal',\n",
       " 'lebron james 4th quarter stats from 2011 nba finals',\n",
       " 'wilson bengals signed wide receiver michael thomas rams southern miss',\n",
       " 'ticket refunds',\n",
       " 'qbs at line of scrimmage including the famous omaha',\n",
       " 'rapaport the bears signed ss jordan lucas to a 1 year deal worth 1m as the former chief has a new home',\n",
       " 'garafolo ravens are in the process of finalizing a trade for dl chris wormley source says the 2017 third round pick will be moving on after baltimore acquired calais campbell and michael brockers',\n",
       " 'jason_otc wait the bears were worried about newtons health but had no concerns about foles who has never played 16 regular season games and only twice played more than 10',\n",
       " 'do you think there will ever be an nba draft prospect as hyped as lebron james was',\n",
       " 'pelissero several teams are trying to sign qb jordan ta amu source said former ole miss star could have a home as soon as today',\n",
       " 'german players who would you pick',\n",
       " 'was this not one of the best intros ever gives me chills hearing it again',\n",
       " 'chris simms qb draft rankings no 4 tua tagovailoa',\n",
       " 'keefer why choose the colts philip rivers well shoot lotta reasons heck of a football team have respected this organization for a lot of years chris ballard believe in frank reich',\n",
       " 'in honor of cam being released here s one of the greatest moments of smack talk i ve seen',\n",
       " 'oc which player grabbed x rebounds in the most games',\n",
       " 'a pre retirement larry bird high fives a clipper after a clutch three 1991',\n",
       " 'slater nice work here voiceofthestar as he first reported the deal i m told literally just happened 1 year 4m 2 5m fully guaranteed',\n",
       " 'who are the most obscure best players ever for their country players',\n",
       " 'breer per the nfl s internal cap report 10 teams with least space as of this am 1 chiefs 555k 2 patriots 2 80m 3 saints 9 02m 4 steelers 10 64m 5 falcons 14 28m 6 packers 14 80m 7 cardinals 15 71m 8 ravens 17 42m 9 niners 19 49m 10 rams 19 65m',\n",
       " 'weekend wrapup',\n",
       " 'pelissero the packers are expected to sign wr devin funchess per sources a big body on the perimeter for aaron rodgers',\n",
       " 'pp_rich_hill by snaps patriots lost 3 brady 1 135 4 karras 1 114 7 collins 1 013 10 van noy 824 16 harmon 672 19 shelton 596 28 watson 467 36 roberts 403 39 ebner 319 tbd 14 newhouse 772 21 dorsett 564 25 calhoun 504 wonder if we ve ever seen this before',\n",
       " 'nyc city council speaker corey johnson proposes closing all basketball courts playgrounds and athletic fields to maintain social distancing',\n",
       " 'lebron s playoff averages from his second stint with the cavs are truly remarkable',\n",
       " 'players ranked by how unguardable they are',\n",
       " 'the most absurd college backfield of all time',\n",
       " 'boston globe sports td garden workers already left in the financial lurch for missed bruins and celtics games received more bad news on tuesday they were officially laid off',\n",
       " 'better second option kyrie or pascal',\n",
       " '1992 dream team receives their gold medals',\n",
       " 'mcbride the patriots are releasing k stephen gostkowski today per league source three time super bowl champ is the franchise s all time leading scorer',\n",
       " 'is draymond green s ban in nba finals 2016 a non factor the cavs won g6 amp g7 with dray on the court',\n",
       " 'broncos at cowboys 2013 a shootout to remember',\n",
       " 'a year later kawhi tries his moves on kyle lowry',\n",
       " 'highlight throwback to carson wentz s first career interception on the receiving end freshly acquired darius slay',\n",
       " 'austin ekeler doing an ama stream',\n",
       " 'mo williams drops 52 points on the pacers',\n",
       " 'og the days of over focusing on lts is gone nowadays the two highest paid o linemen are rts and out of the the 10 highest paid o linemen 3 are rts 3 are lts and 3 are gs with a tie for 10th between an rt an lt and a g',\n",
       " 'why would the nba ban freedawkins',\n",
       " 'caplan chargers and former bengals lb nick vigil have agreed to terms on a contract source said',\n",
       " 'yates the xfl has canceled the rest of its season and is permitting players to begin signing with nfl teams on march 23rd some notables include qb p j walker and wr cam phillips who had 455 receiving yard and 9 td in just five games',\n",
       " 'kobe bryant and the 2010 lakers forced channing frye to smoke his first and only cigarette in his entire life',\n",
       " 'which players would make good head coaches',\n",
       " 'karl anthony towns discusses his mother getting coronavirus sharing my story in the hopes that everyone stays at home we need more equipment and we need to help those medical personnel on the front lines thank you to the medical staff who are helping my mom you are all true heroes',\n",
       " 'schefter saints hc sean payton tested positive for the coronavirus he told espn on thursday payton is the first person in the nfl world known to test positive for the virus',\n",
       " 'terrence ross does kenneth faried dirty',\n",
       " 'serious is the guaranteed part of players s contracts binding even if there s no games played',\n",
       " 'what s the worst secondary you have ever seen',\n",
       " 'what is the greatest single game performance by a player who never made the all star game',\n",
       " 'day 12 jamal murray mvp',\n",
       " 'rams jared goff andrew whitworth are each donating 250 000 to the la food bank to help fund 2 million meals for angelenos in need',\n",
       " 'a 39 year old kg turns back the clock turning defense into offense with a monstrous slam on blake griffin',\n",
       " 'garafolo browns are signing s andrew sendejo source says it s a one year 2 25 million deal',\n",
       " 'steve blake dishes out nba record 14 assists in a quarter february 22 2009',\n",
       " 'best madden summerall full games on youtube',\n",
       " 'discussion how would you fix the knicks',\n",
       " 'who is the highest ranked nba player all time w o a ring',\n",
       " 'corry todd gurley didn t play any of the new years in his rams contract extension he was scheduled to make 11 949 978 in the last 2 years of his rookie deal gurley gets 34 5m from the extension 2 5m with offset which is 22 550 022 more than playing out his rookie contract',\n",
       " 'schefter dolphins are re signing s adrian colbert to a one year 1 775 million deal per rosenhaussports colbert was not tendered yesterday as an rfa',\n",
       " 'from a little over 10 months ago who will be a starter in 5 years lamar jackson compared to josh rosen',\n",
       " 'highlights best offensive lineman in the nfl quenton nelson 2019 colts highlights',\n",
       " 'request westbrook s rebound game 4 2016 wcf',\n",
       " 'rapoport the agent for former colts qb andrew luck moves on to a new job',\n",
       " 'three years ago today 20 year old devin booker dropped 70 points on the celtics',\n",
       " 'lebron james s anatomy should be researched further',\n",
       " 'a few quick questions fouls box scores and inbounding at the start of quarters',\n",
       " 'anderson my understanding is among two of todd gurley s desirable destinations recently has been atlanta and miami per source though the dolphins just brought in jordan howard however we ll see now how other potential options open up for gurley or how the market reacts',\n",
       " 'who had the better series kawhi vs philly 2019 ecsf or dirk vs okc',\n",
       " 'what s some of the worst nba related arguments and debates you ve never seen',\n",
       " 'theory vikings are about to trade anthony harris for trent williams',\n",
       " 'pelissero the texans are signing former chargers db jaylen watkins to a two year 3 million deal source said',\n",
       " 'football perspective two years later was the jets trade for the pick that became sam darnold a good trade jets sent the following to indianapolis 2018 6 overall 2018 37 2018 49 2019 34',\n",
       " 'if the season gets cancelled could it be that the clippers traded away their entire future for a 1 year make it out break it year',\n",
       " 'how the nfl is handling the coronavirus pandemic during its offseason',\n",
       " 'highlights prime michael jordan 1994 scottsdale scorpions',\n",
       " 'is there any team right now worse than the panthers',\n",
       " 'vince carter have seen 4 decades in the nba having witnessed some major world events like 9 11 middle east war and now a global pandemic',\n",
       " 'check out bronny james s hair',\n",
       " 'who is your team s last team',\n",
       " 'of the top 15 players selected in the 2015 nfl draft only 2 of those players are still with the team that drafted them 6 brandon scherff washington and 13 andrus peat new orleans',\n",
       " 'chargers linval joseph the kinda guy we could use right now',\n",
       " 'gorman hearing that the patriots are close to an agreement with former packer fb dan vitale per source patriots',\n",
       " 'dwade vs kd age 23 30',\n",
       " 'rapoport former ravens lb josh bynes is signing a 1 year deal with the bengals source said more fa action on defense',\n",
       " 'highlights stan fletcher mix best slamball player ever',\n",
       " 'kawhi leonard has been driving his old suv clipping coupons and saving his money some players worried about making their money last now that the healthcare system is load managing',\n",
       " 'darrell armstrong beats the buzzer at the 1996 slam dunk contest',\n",
       " 'wilson quinton jefferson bills two years 13 5m 6 25m gtd 3m signing bonus salaries 3 75m 2 25m gtd 3 9m 1m 5th day 2020 roster bonus 500k 5th day 2021 roster bonus per game active roster bonus up to 750k 2020 up to 500k per game active 2021',\n",
       " 'kyrie being asked how good of a father lebron is',\n",
       " 'what would happen if knicks had a chance to draft zion',\n",
       " 'highlight week 2 josh allen throws across his body on the run to find dawson knox for the first down',\n",
       " 'mosher jets wr depth chart 1 quincy enunwa 2 jamison crowder 3 josh doctson 4 josh malone 5 braxton berriors',\n",
       " 'oc i made a chrome extension for viewing any nba player s stats by hovering over their name',\n",
       " 'i had a dream about demarcus cousins',\n",
       " 'grading trades of 2020 free agency cards bills snag wr help',\n",
       " 'is it possible we get an unlikely nba champion once this season resumes',\n",
       " 'larry nance jr with the greatest poster of all time even the opposing bench is shocked',\n",
       " 'indianapolis children s museum luck and his new baby lucy read a storybook online for children unable to attend their local libraries',\n",
       " 'the very best games this season no scores or who won please',\n",
       " 'malcolm jenkins philly can we still be friends',\n",
       " 'best remaining 2020 nfl free agents tsn ca',\n",
       " 'caplan new steelers c g stefen wisniewski s 2 year 2 85m deal 2020 375k sb 1 05m base 2021 1 425m base',\n",
       " 'only 14 players in history have scored more points in their careers than paul pierce',\n",
       " 'sportstrust jaguars sign former seahawks dt al woods',\n",
       " 'iman shumpert on getting annoyed at melo for shooting over a double team when he was wide open he was letting me know don t be mad next time cuz you ain t getting it next time either',\n",
       " 'the shot clock changes to 20 seconds at the start of the 2019 2020 season what does this season look like',\n",
       " 'blake griffin ends up on his back after the clutch and 1 in game 7 vs the warriors and follows it with one of the smoothest moves in nba history to get back on his feet',\n",
       " 'which defensive player would be the best bellcow back for a 17 game season',\n",
       " 'schefter the fact that new tampa bay qb tom brady included a clause that prevents the bucs from tagging him after two years means he has ideas of playing beyond this contract',\n",
       " 'tafur raiders have agreed to terms with guard eric kush',\n",
       " 'has any current player surpassed their historical counterparts in your opinion',\n",
       " 'joel embiid gets layuperized by jaylen brown',\n",
       " 'who has the most aesthetically pleasing game',\n",
       " 'which nba teams are most like each other',\n",
       " 'a matter of peak vs longevity whose career would you rather have cam newton or philip rivers',\n",
       " 'which player would you want to be quarantined with for 2 weeks',\n",
       " 'fowler source suspended wr josh gordon intends to play this season commissioner goodell will handle his reinstatement attempt could be a process because of his history but he wants to take necessary steps to sign as an unrestricted free agent and play',\n",
       " 'austin rivers cooks the rockets in the second half of game 3 including a james harden impression',\n",
       " 'manute bol anagrams',\n",
       " 'stephen curry has won more rings in cleveland than lebron',\n",
       " 'solomon deshaun watson will remain true to bill o brien',\n",
       " 'yates the vikings have re signed k dan bailey he drilled 27 of 29 field goals last season and held off kaare vedvik after minnesota traded for him in preseason',\n",
       " 'in the 2007 season steve nash averaged 53 2 from the field and 45 5 from 3 but missed out on the 50 40 90 club with a measly 89 9 free throw percentage',\n",
       " 'if you re unclear on how to follow social distancing just imagine you re the defender guarding ben simmons at the perimeter',\n",
       " 'zach klein wsb falcons signing laquon treadwell',\n",
       " 'has there ever been a scenario where a team seemingly completely robs another in a trade like deandre hopkins for david johnson but then the star player underperforms and the lesser player has a career year',\n",
       " 'if nba games resume with no fans in the arenas what realistic rule changes can you see the nba adopting to maintain hca in the playoffs',\n",
       " 'how the timberwolves are dealing with the covid 19 lockdown featuring d angelo russell following his team mates around with hand sanitizer to get them to clean their hands',\n",
       " 'kwame brown top 10 plays of his career',\n",
       " 'watched the gerald green video and then remembered gerald wallace what happened to wallace',\n",
       " 'pelissero this was the logical move after the panthers signed p j walker allen reunites with ron rivera and his old qb coach scott turner',\n",
       " 'rapoport interesting development as nfl physicians will stop doing physicals during the pandemic i wonder how this affects finalization of contracts and how it impacts fa going forward and even the draft',\n",
       " 'lebron james finds out klay thompson said i guess he got his feelings hurt after game 4 of the 2016 nba finals',\n",
       " 'the fork in the road game broncos vs chargers 2005 week 17',\n",
       " 'ioc member says 2020 tokyo olympics will be postponed because of coronavirus pandemic',\n",
       " 'has anyone checked on harrison barnes',\n",
       " 'texans thank you deandrehopkins',\n",
       " 'yates the browns have signed former bengals dt andrew bills per his agency _sportstrust',\n",
       " 'rapoport the jets are giving cb pierre desir a 1 year contract worth up to 5 5m max source said he lands quickly after the surprising release',\n",
       " 'first power rankings by nfl com released today',\n",
       " 'trying to watch old games',\n",
       " 'andrew luck reads a book to his child lucy',\n",
       " 'mike evans 2019 highlights',\n",
       " 'marchand peyton manning has turned down espn s monday night football the post has learned',\n",
       " 'michael jordan kenny rogers classic weekend 1988',\n",
       " 'the carolina panthers composed of players who grew up closest to charlotte',\n",
       " 'did kawhi steal the load management idea from jimmy chitwood',\n",
       " 'cb jeffrey okudah quick film review',\n",
       " 'which wing forward would you take for your team right now',\n",
       " 'the rams will be unveiling their new logo and colors in 15 minutes you can watch the official livestream on the rams official website therams com',\n",
       " 'with all the talk from former players is patricia s days numbered in detroit first guy on the hotseat for 2020',\n",
       " 'tafur they don t have much money left but with prices plummeting in wr market raiders may not be done',\n",
       " 'custom nba nike jerseys',\n",
       " 'serious is giannis the most athletic 7 footer in recorded human history',\n",
       " 'auman bucs announce they ll have a conference call for media with new quarterback tom brady on tuesday at noon lowkey compared to what you d expect but all they can do with nfl safety restrictions related to coronavirus',\n",
       " 'curry s gravity vs kd s 50 points in clippers game 6',\n",
       " 'gordon hayward jokes league of legends more toxic than nba',\n",
       " 'espnstatsinfo tom brady and jameis winston had the exact same number of completions and attempts on deep passes thrown into tight windows last year they were tied for the best completion rate in the entire league per nfl next gen stats',\n",
       " 'rapoport the redskins sent a 5th round pick to the panthers in exchange for qb kyle allen source said with carolina signing pj walker today this helps the qb room take shape',\n",
       " 'chris paul in great discussion of financial life',\n",
       " 'lebron s rookie highlights',\n",
       " 'helin stan van gundy no interest in the knicks nets the better job probasketballtalk nbc sports',\n",
       " 'shitpost saturday',\n",
       " 'klis details of melvin gordon 2 yr 16m deal 2020 4m sign 4m roster 1m salary total 9m full gua 2021 2m camp roster bonus no gua 4 5 salary full gua 500k total game day bonus gordon gets better deal than gurley broncos get nice 2nd year value fair deal',\n",
       " 'rookie sundiata gaines buzzer beater 3pt against the cavs on his 5th nba game',\n",
       " 'if the browns are where qb s go to die what position does your team appear to kill',\n",
       " 'pft emmanuel sanders can become first to play in super bowl for four franchises',\n",
       " 'who would have been the best lottery pick choice next to young lebron in 2004',\n",
       " 'from 1993 to current the broncos have employed 3 kickers jason elam 93 07 matt prater 07 14 and brandon mcmanus 14 current quite possibly the best 25 season stretch for any nfl franchise',\n",
       " 'an alternative to march madness',\n",
       " 'are rudy gobert and donovan mitchell recovered from covid19 yet',\n",
       " 'himmelsbach according to a team source the celtics remaining test results for team and staff members have tested negative for coronavirus',\n",
       " 'what 1st rounder has disappointed your fanbase that most other nfl fans don t know about',\n",
       " 'scoring in bunches',\n",
       " 'most powerful dunk i ve ever seen stromile swift',\n",
       " 'jamal murray takes a lyft with only fans',\n",
       " 'if both played together at the same time who would probably get dunked on first michael jordan or lebron james',\n",
       " 'lions we have agreed to terms with safety special teams ace miles killebrew',\n",
       " 'rapoport in pre draft news last week when the dolphins brought in players before the league closed facilities source said their first call was to bama qb tua tagovailoa to try to bring him in the logistics didn t work out for a visit but that was their goal mia picks no 5',\n",
       " 'raiders officially cut ties with oakland',\n",
       " 'otc darius slay will have a 4 3m cap hit this year',\n",
       " 'i plotted the birthplace of every player in the nba this season',\n",
       " 'will sga be the franchise cornerstone to build around to contend for a title',\n",
       " 'michael jordan hd highlights',\n",
       " 'how does a 17 cavs vs 18 warriors series go',\n",
       " 'really missing the nba today mark cuban to senate do your f ing job',\n",
       " 'what s next for former fsu rb devonte freeman',\n",
       " 'pelissero so the ravens beefed up their d line by sending a 2020 fifth round pick to the jaguars for calais campbell and now get back a 2021 fifth rounder for wormley',\n",
       " 'will stephon marbury make the hall of fame',\n",
       " 'the missing generation qbs that entered the nfl from 2006 2015',\n",
       " 'why did the wizards trade a 1st round pick for bojan bogdanovic only to let him walk for nothing that summer via indiana s offer sheet',\n",
       " 'long touchdown passes by non quarterbacks',\n",
       " '11 of the top 12 picks in the 2015 draft have changed teams',\n",
       " 'jarrett stidham throws a pick 6 against jamal adams and the jets',\n",
       " 'who is sneakily one of the worst players in the nba',\n",
       " 'nfl transactions 03 23 20',\n",
       " 'pelissero the lions are signing former vikings s jayron kearse to a one year 2 75 million deal source said',\n",
       " 'yates the patriots have signed former jaguars s cody davis a special teams stud per his agent jordanwoy he has a chance to fill in the role played by nate ebner after he signed with the giants',\n",
       " 'game 5 7 of 2016 finals on nbatv right now',\n",
       " 'jamal adams i remember everybody drafted in front of me marshon lattimore replies brah it was only 5 people lol',\n",
       " 'presidency by fmvps',\n",
       " 'bill belichick lauds stephen gostkowski in goodbye statement',\n",
       " 'schefter arthur blank family foundation donating 5 4 million for covid 19 relief',\n",
       " 'schefter todd gurley s 2020 salary per source rams 7 5 million falcons 6 million offset minus 2 5 million total earnings 11 million it keeps gurley as one of the league s three highest paid running backs',\n",
       " 'day 13 of quarantine hits hard as shaq hops on ig to show off his toes',\n",
       " 'og anunoby on twitter in 2014 if your girlfriend says hey to me that s our girlfriend now idc',\n",
       " 'do you think the giants will give saquon barkley a gigantic contract',\n",
       " 'peyton manning did not deserve 3 of his mvp awards',\n",
       " 'where if anywhere do you believe cam newton will start in the 2020 2021 season',\n",
       " 'anderson varejao highlights 11 points 7 rebounds',\n",
       " 'raptors commentators matt devlin and jack armstrong show off their hotline bring to drake',\n",
       " 'yates the wr market has moved at a glacial place so far in free agency just two wideouts have signed multi year deals amari cooper randall cobb as teams continue to focus on a loaded draft class that many believe is the best in a long long time',\n",
       " 'highlight ben roethlisberger to santonio holmes for the game winning td',\n",
       " 'daniels the patriots are still showing interest in phillip dorsett per source dorsett currently has multiple offers and is weighing his options',\n",
       " 'in one game klay thompson increased his 3 point shooting percentage by 18',\n",
       " 'peyton manning a perfectionist mindset that dominates the toughest job in sports',\n",
       " 'lebron backs down schumer for the tough mid range fadeaway',\n",
       " 'yates jets offensive line investments so far in free agency lt george fant 3 years 30m lg alex lewis 3 years 18m c connor mcgovern 3 years 27m rg greg van roten 3 years g josh andrews gm joe douglas building an improved group to protect sam darnold',\n",
       " 'if you could alter one nba game what game would it be and what would a butterfly effect be',\n",
       " '52 years ago today wes unseld became the second and last player to win mvp and rookie of the year in the same season',\n",
       " 'browns dee and jimmy haslam on behalf of the haslam family have pledged 1 5 million to covid 19 relief funds throughout the state of ohio',\n",
       " 'oc distance by car from the downtown of each nfl city to its nfl stadium and international airport',\n",
       " 'would you rather have the 15th pick in this year s draft or jarret allen',\n",
       " 'the patriots currently have 114 226 529 million in cap room heading into the 2021 season what do you predict belichick will do with all that cap',\n",
       " 'what is your favorite uniform variant that you desperately wish came back',\n",
       " 'oc analysis drew brees only has those records because saints d sucks and he has to throw a lot fact or fiction',\n",
       " 'sbnation beef history shaq amp javale mcgee',\n",
       " 'palmer will parks to the eagles on a 1 year deal',\n",
       " 'how much longer will ad be a laker',\n",
       " 'yates a lot of can change with the draft next month but as things currently stand todd gurley would be awesome with the falcons an area of need and a homecoming for gurley just 25 years old and still a really talented player',\n",
       " 'louis riddick some of the responses to this are f ing disgusting what the hell is wrong with some of you have you zero decency',\n",
       " 'wilson vikings sign lb demarquis gates who most recently played for the houston roughnecks',\n",
       " 'update cowboys are re signing lb and special teamer joe thomas to a 1 year deal per gehlkennfl',\n",
       " 'what does ilmfjg on bronny s instagram mean',\n",
       " 'highlight the bears win in overtime on a walkoff safety',\n",
       " 'the admiral goes coast to coast on the 92 bulls',\n",
       " 'espn sportscenter running out of content kevin durant vs patrick ewing who was the better college basketball player',\n",
       " '3 years ago today devin booker dropped 70 points at td garden',\n",
       " 'breaking news aquarium names penguin chick zion williamson',\n",
       " 'are there any notable nfl players with no social media',\n",
       " '49ers donate 500k to employees community amid coronavirus',\n",
       " 'yates here s how the falcons offensive skill group now shapes up qb matt ryan rb todd gurley wr julio jones calvin ridley te hayden hurst 10 of the 11 projected offensive starters entered the nfl as first round picks tons of talent and pedigree',\n",
       " 'terry bradshaw quarterback s ego drove him to bucs to prove he s more important than bill belichick',\n",
       " 'oc chalk talk understanding defensive run fits what they are and how they work',\n",
       " 'serious with brady going to tampa are we going to find the true value of a great quarterback',\n",
       " 'draymond green shutting down a fastbreak 1v2 by stopping lillard s dribble then recovering to emphatically block vonleh s dunk',\n",
       " 'pelissero the colts are re signing ol le raven clark source said',\n",
       " 'the grizzlies streak of 1 985 regular season games without a 50 point scorer is the longest active streak in the nba',\n",
       " 'the 2016 warriors in the 90s',\n",
       " 'so watson liked this post about the patriots calling him',\n",
       " 'who is the best gm in the league',\n",
       " 'how come the looney tunes only picked up mj',\n",
       " 'schefter anthers are expected to release qb cam newton today sources tell espn',\n",
       " 'can somebody check on harrison barnes beard',\n",
       " '2020 nfl free agency frenzy 3 good moves 3 head scratchers',\n",
       " 'tatum with possibly the most swagger filled 3 pointer of the year',\n",
       " 'are we seeing the end of running backs getting paid',\n",
       " 'rapoport source former cowboys and lions pass rusher kerry hyder is signing with the 49ers on a 1 year deal',\n",
       " 'chris bosh lebron dwight howard cp3 dwilliams burgers at a gas station',\n",
       " 'starting a nba highlight mixtape channel',\n",
       " 'dickman the nfl just alerted teams that we re able to announce transactions if 1 club amp player have reached an agreement on the terms of the contract 2 the written contract has been sent to the player amp agent buckle up',\n",
       " 'dinwiddie lmao if i hadve known lbj stans were this sensitive i might ve took aim a long time ago but remember guys you re only as good as your last game',\n",
       " 'oc highlight today is former jaguars rb maurice jones drew s 35th birthday the 3 time pro bowler and 2011 rushing champion scored 83 touchdowns in his career to celebrate here s all 83 of them in chronological order',\n",
       " 'top 5 nba duos of all time in your opinion',\n",
       " 'what s your all time top 20 in order',\n",
       " 'deandre hopkins trade question',\n",
       " 'joe buck response to shut up joe buck maybe this can also be a time to cleanse your ridiculous twitter hate either grow up or unfollow or even better both nobody needs that at the moment',\n",
       " 'schefter broncos just informed former super bowl mvp joe flacco that he is being waived with a failed physical designation per source flacco now joins a group of free agent qbs looking for work three super bowl mvps in headlines this week flacco waived foles traded tb to tb',\n",
       " 'best of luka doncic 2019 20 nba season',\n",
       " '30 sports legends that ended their career on a different team',\n",
       " 'schefter can t make this up',\n",
       " 'wilson dolphins discussed 17 million annual average deal at one point in process with seahawks free agent jadeveon clowney per sources didn t accept so dolphins moved on with shaq lawson clowney aiming for 20 million average but could wind up signing for less on shorter deal',\n",
       " 'dirk nowitzki with an eloquent and thought provoking suggestion on how to combat the spread of covid 19',\n",
       " 'kevin durant best highlights and moments from 2019 playoffs',\n",
       " 'we found jayson tatum s eighth grade id',\n",
       " 'underhill saints have re signed andrus peat to a five year contract',\n",
       " 'paul pierce saves the series with a block on kyle lowry',\n",
       " 'serious can someone explain why players should get paid during the nba hiatus',\n",
       " 'stein the canadian olympic committee and canadian paralympic committee will refuse to send athletes to the tokyo olympics if the event is not postponed',\n",
       " 'what would be the top 5 in a historical nba draft',\n",
       " 'serious who will you take jayson tatum or pascal siakam to start a franchise',\n",
       " 'zrebiec ravens have agreed to terms with db and special teams captain anthony levine sr as well 1 year deal',\n",
       " 'rapoport peyton barber signing with the redskins on a 2 year deal worth 3m with 600k guaranteed',\n",
       " 'nfc south wr duos',\n",
       " 'cabot browns qb baker mayfield and his wife emily are donating 50k to the cleveland foodbank and are urging others to donate',\n",
       " 'gurley my brother whats rockin in response to dante fowler',\n",
       " 'yates acknowledging that there are a ton of other factors involved economics state of the franchises position etc it s still crazy that calais campbell and kyle allen can be both traded for a fifth round pick',\n",
       " 'tafur mariota was looking for stability with raiders this is derek s team',\n",
       " 'lebron james being sued for 150 000 for posting picture of himself dunking',\n",
       " 'top 10 most attractive nba players',\n",
       " 'report nba players owners want to salvage 2019 20 season no matter what',\n",
       " 'where do andy dalton and cam newton end up at this point',\n",
       " 'kenny smith gives a word of advice to people not practicing social distancing in public places',\n",
       " 'nfl mock draft quarantine edition 1st round only',\n",
       " 'nfl throwback giants vs patriots sb rematch and preview after sb 42 before sb 46',\n",
       " 'schefter former 49ers wr emmanuel sanders reached agreement on a two year 16 milloon deal with worth up to 19 million the new orleans saints per source',\n",
       " 'fred vanvleet 21 points 7 threes full highlights 5 23 2019',\n",
       " 'a year ago today harden scores 61pts leading the rockets to a win after trailing by 19 to the spurs',\n",
       " 'best game from every nba team starters sixth man this season',\n",
       " 'if the season is over khris middleton would miss the 50 40 90 club by 1 shot',\n",
       " 'buccaneers not likely to sign wr antonio brown',\n",
       " 'at this stage what is your team s starting lineup on offense and base d and what three positions do you most hope are addressed in the draft',\n",
       " 'throwback reactions to a possible eagles trade up for wentz',\n",
       " 'reasons why terry rozier is the goat',\n",
       " 'who would you rather have prime killer b s or current brees kamara thomas 2017 present',\n",
       " 'what young player could take the next step with the time off for coronavirus distancing and change their team s outlook for the playoffs',\n",
       " 'rogers slay on wjr said he didn t respect matt patricia as a person even before the diggs trade',\n",
       " 'kawhi leonard drills a game winning shot on his now clippers teammate paul george',\n",
       " 'conspiracy post were last year s jazz and last year s pacers the same team',\n",
       " 'laine from fanatics tom brady day over day jersey sales are up 900 the buccaneers are the no 1 selling team across their network today jerseys and other merchandise more bucs gear has been sold today than the last two weeks combined',\n",
       " 'nba game list',\n",
       " 'demar and rudy gay just finished a live stream on ig called a few players to see who would answer',\n",
       " 'mehta jets are closing in on a deal with olb jordan jenkins a big move for nyj to bring back their sack leader from last year',\n",
       " 'rapoport for former rams rb todd gurley who now aims to prove he s still got it logical possible destinations include the falcons bucs and seahawks',\n",
       " 'miami dolphins are now on reddit',\n",
       " 'billionaire fertitta furloughs 40 000 workers at casino restaurant empire',\n",
       " 'mays jimmy graham cost the bears more than the steelers paid eric ebron neither is great but one is 26 years old and was decently productive two years ago the other is neither of those things',\n",
       " 'lebron hits the 180 no scope jump shot from behind the backboard',\n",
       " 'schefter tampa bay s current no 12 chris godwin said today he will defer to new bucs qb tom brady about who gets to wear no 12',\n",
       " 'jeffphowe aside from todd gurley the rams have also made brandin cooks available in a trade as they attempt to trim salary and restock their draft picks per source',\n",
       " 'can you think of any nfl teams that actually tanked for better draft position',\n",
       " 'haden joe haden on darius slay s 56 4 pff grade this is just stupid all i do is watch wide receiver and corner back tape in my humble opinion slay is top 5 easily it s a different world playing press on a teams 1 wideout each week',\n",
       " 'mysportsupdate the falcons are signing former packers and browns ol justin mccray per robdemovsky he started four games last season in cleveland',\n",
       " 'lebron should wear a crown shaped headband',\n",
       " 'after three daughters gordon hayward is expecting a boy to the family',\n",
       " 'all time who was your favorite lunch pail guy to watch',\n",
       " 'thiry the three other rams logos that complete the collection',\n",
       " 'players bums you somehow found out existed but never forgot about',\n",
       " 'pelissero nfl commissioner roger goodell sent a memo to clubs tonight saying all club facilities will close at 6 p m wednesday with limited exceptions per sources the league will reassess april 8 with advice from experts so nfl teams like many others will now stayathome',\n",
       " 'rumor the cleveland browns liked a tweet by browns rally possum teasing what could be there new uniforms',\n",
       " 'bargnani takes a 3 pointer with knicks up 2 and 15 seconds left in the game',\n",
       " 'best europeans in nba history',\n",
       " 'warren sharp the top 10 paid tes are making the same in 2020 as they were five years ago meanwhile all other offensive positions are seeing their top 10 highest paid players make at least 20 more now than they did five years ago most positions are making 40 more',\n",
       " 'eagles players sing dreams and nightmares in the locker room after winning the super bowl',\n",
       " 'hakeem olajuwon blocks the buzzer beating potential championship winning 3pa from john starks who was hot in game 6 with 27pts on 5of9 from 3',\n",
       " 'ravens bisciotti foundation give 1m to area charities',\n",
       " 'chargers trust us',\n",
       " 'what current stars will be forgotten in 20 years',\n",
       " 'if anyone hasn t listened to or forgot about this absolute gem',\n",
       " 'garrett hudson patricia cussed out kerryon johnson in front of the whole team because he didn t know what year ford field was constructed',\n",
       " 'give your favorite player a dungeons and dragons stat sheet',\n",
       " 'ioc member says that 2020 tokyo olympics will be postponed due to coronavirus pandemic',\n",
       " 'calculating the correlation between baker mayfield s passer rating and the number of cheesecake factories per capita in the state in which he played',\n",
       " 'fowler peyton barber to the redskins on a two year deal per source bucs 2018 leading rusher enters washington fray',\n",
       " 'do you guys think blake griffin looks like the zombie from i am legend',\n",
       " 'pelissero the chiefs gave chad henne a two year 3 25 million deal that will pay him 2m fully guaranteed in 2020 so henne is locked in for at least another year as patrick mahomes backup max 7 25m with incentives',\n",
       " 'why did lamelo skip hs and not play in college how is it supposed to help him',\n",
       " 'oc simulating nba player interviews using gpt 2',\n",
       " 'poll besides your own favorite team which nfl team has the most complete roster',\n",
       " 'how would social media have impacted the legacies of these legendary players',\n",
       " 'pft per source the issue is the location of the brady physical and who the doctor will be given the league s covid 19 rules',\n",
       " 'tortora marcus mariota is going to be the highest paid backup qb in the league',\n",
       " 'raanan sources i spoke with this am were under the impression that compensation for yannick ngakoue in a trade began with a first round pick or teams in the top half of the round would have to get creative this is a player who has never had a season w less than 8 0 sacks',\n",
       " 'how would you rank the nba finals game 7 s in the 21st century 2005 2010 2013 and 2016',\n",
       " 'what are your favorite mind blowing nba facts stats',\n",
       " 'rapoport the browns are giving dt andrew billings a 1 year deal worth 3 5m fully guaranteed source said some heft on their defensive line from someone they ve played against twice a year',\n",
       " 'highlight chris paul hits a three over stephen curry and then shimmies on him like a psychopath',\n",
       " 'wojnarowski members of sixers coaching staff and front office on contracts have until thursday to agree to 20 percent salary reduction sources tell espn among many so far there s apprehension on committing to giving back money especially with uncertainty surrounding employment futures',\n",
       " 'do you think the 2011 mavericks with every player in his prime could be a contender this season',\n",
       " 'so isaiah thomas nba career is done right',\n",
       " 'pabst when the helmet rule changes next year 2021 we may have some creamsicle bruce arians on the buccaneers going back to the 70 s uniforms dpshow',\n",
       " 'marc spears the clippers say capss llc has reached an agreement with the madison square garden company to purchase the forum in inglewood the formation of capss llc and the acquisition of the forum were driven by clippers chairman steve ballmer and clippers vice chairman dennis wong',\n",
       " 'rapoport a splash for philly the eagles are trading for lions star cb darius slay sources say finishing off talks that first began around the trade deadline as part of the deal slay receives a new contract that puts him among the highest paid at his position',\n",
       " 'schefter rams are releasing rb todd gurley per source cutting him today spares the rams from having to pay him an additional 10 5 million due today rams spent weeks exploring a trade for him now gurley will be free to sign with any team',\n",
       " 'which games should i watch with a woman that wants to get into american football',\n",
       " 'in honour of the overrated thread on the front page this morning here is a throwback to the supposed most overrated players in 2018 draft',\n",
       " 'pelissero the seahawks are trading a fifth round pick to the redskins for cb quinton dunbar source said josinaanderson 1st on the deal',\n",
       " 'what are some games like the suns nets one that was livestreamed today',\n",
       " 'prime dwight howard with aldridge s shooting or porzingis in giannis body who do you have a better chance to win a championship with first',\n",
       " 'olbermann source madison square garden offered the use of its entire facility to both the city and state of new york as a site for a coronavirus hospital medical facility during crisis gov cuomo s office determined msg would not be ideal for the purpose gratefully declined',\n",
       " 'why the nba should implement a one shot free throw rule',\n",
       " 'reedy logo and uniform changes rams chargers uniform changes falcons bucs patriots browns logo uniform tweaks colts usually you get only 2 or 3 per season seven is unheard of',\n",
       " 'let s change the nba a bit',\n",
       " 'i keep having recurring dreams about former nba pro shammond williams',\n",
       " 'kobe bryant mix memories',\n",
       " 'garafolo chargers cb chris harris deal two years 17 million base value 7 5 million guaranteed has 2 5 million total in added incentives the next two years',\n",
       " 'espnstatsinfo todd gurley has scored 70 touchdowns in his career the only player in nfl history to score more tds at age 25 or younger is hall of famer emmitt smith',\n",
       " 'who is the better point guard speaking as of right now klowry or kemba walker',\n",
       " 'stein sixers and devils at will employees were informed today that temporary salary reductions of up to 20 percent will be instituted for employees making more than 50 000 starting april 15 through the end of june nytsports has learned',\n",
       " 'tdn todd gurley s release completes full circle of rams roster mismanagement',\n",
       " 'garrett hudson matt patricia is literally the worst person i ve encountered in my entire football career i was excited when the lions cut me it was that bad',\n",
       " 'voth if not for the spotlight that followed him i would have never tried to start a website to cover the panthers way back when cam newton was a force of relevance this area had never experienced and the organization and fan base are better off for it',\n",
       " 'most expensive basketball card ever lebron james and michael jordan sold for 900k',\n",
       " 'why was there a huge spike in wr production in 1995',\n",
       " 'yates notable free agent all offense team qb jameis winston rb devonta freeman fb anthony sherman wr robby anderson breshad perriman devin funchess te delanie walker ot jason peters germain ifedi g josh kline ronald leary c daniel kilgore',\n",
       " 'out of all of the players that retired this year who will you miss the most and why',\n",
       " 'iman shumpert kicks it for the pinpoint soccer assist',\n",
       " 'why do classic games on nba tv not show the score',\n",
       " 'if you re missing basketball and you re into documentaries do yourself a favor and check out hoop dreams',\n",
       " '2012 celtics sixers ecsf',\n",
       " 'what is the best possible trio of current nba players',\n",
       " 'lebron james angry slam dunk on iguodala nba finals game 2',\n",
       " 'who more likely to win the nfc south next year',\n",
       " 'barstool someone on ig live told tarik cohen he needs to run north or south and he responded appropriately',\n",
       " 'reddit thread from the 2016 finals when lebron james laughed at klay s guess he got his feelings hurt comments',\n",
       " 'who was a player on your team that you absolutely loved at the time they were drafted but turned out to be terrible',\n",
       " 'this past regular season the 2010s era patriots surpassed the 2000s era colts as the most winning decade for a franchise in nfl history',\n",
       " 'what s a upset in your teams history that seemed shocking to others but wasn t for fans of that team',\n",
       " 'which of these teams will find the best successor to their legendary quarterbacks',\n",
       " 'schad at the moment kenyan drake is 5th in the nfl in average annual salary at 8 48 million for one year he s right behind derrick henry at 10 3 million for one year rolltide',\n",
       " 'james dolan should ban every nba player from madison square garden',\n",
       " 'lebron walks out of game 1 news conference after question about jr smith s blunder 2018 nba finals',\n",
       " 'auman bucs have restructured the contract of tight end cameron brate to keep him in tampa he was due to make 6 million in 2020 and 4m of that would have been guaranteed today 27 tds in last five years and a key target for tom brady this fall details to come',\n",
       " 'has there ever been a season where westbrook wad the best point gaurd in the league',\n",
       " 'lebron james with a hype celebration dance after a deep three',\n",
       " 'kobe dunks on gerald wallace and kris humphries',\n",
       " 'imagine the 2021 wide receiver class if all 2020 prospects had to reclassify due to circumstances today',\n",
       " 'highlights klay thompson drops 37pts in the 3q 1 23 15 csn bay area feed',\n",
       " 'rogers darius slay said matt patricia told him he had no business working out with guys like richard sherman and aqib talib because those guys were elite and slay was just good',\n",
       " 'the way back',\n",
       " 'is it me or does lebron james and actually most nba players kind of have a victim complex',\n",
       " 'following the theme of team names which nba team becomes the artificial intelligences first',\n",
       " 'schefter life as a defensive back in the nfc south tom brady drew brees matt ryan and teddy bridgewater at quarterback wide receivers include michael thomas julio jones chris godwin mike evans d j moore emmanuel sanders robby anderson calvin ridley and curtis samuel',\n",
       " 'name a young qb that was endlessly defended by their fanbase until they learned he just wasn t that good',\n",
       " 'oc the colts haven t won in jacksonville since 2014 their losses include a fifty burger a six point shutout and a second half collapse',\n",
       " 'nov 2015 after announcing his retirement kobe smiles after hitting a vintage clutch three against the pacers',\n",
       " 'who do you think will be the biggest bust from a top 10 prospect this year',\n",
       " 'which nba players look like nfl players',\n",
       " 'jameis winston pushes suv on street somebody sign me',\n",
       " 'garafolo texans rb david johnson s contract just keeps looking better on friday 2 1 million of his base salary next year became fully guaranteed that deal is the gift that keeps on giving',\n",
       " 'podcast drafting the perfect starting five of current historical nba players',\n",
       " 'cam newton isn t broken an analysis of his throws suggests his shoulder is probably fine',\n",
       " 'oc all nba lowest hairlines team a k a the three heads',\n",
       " 'charania for joel embiid the 500 000 donation will go toward health and medical relief the amount toward 76ers employees is to be determined based upon who is affected',\n",
       " 'discussion running list of all confirmed cases of covid 19 amongst the nba',\n",
       " 'danny green gets up for the electrifying putback dunk hawks vs lakers november 17 2019',\n",
       " 'proposal for change to nba regular season schedule',\n",
       " 'barfield bottom 5 wrs in accurate target min 100 targets this past season curtis samuel 48 6 odell beckham 49 3 john brown 52 4 robby anderson 52 4 courtland sutton 53 5',\n",
       " 'stephen a who is most valuable athlete in all of sports it s lebron james and then there s everybody else',\n",
       " 'the washington redskins have just released 5 dbs including s montae nicholson and cb coty sensabaugh',\n",
       " 'nba players careers as stocks',\n",
       " 'are nfl contracts literal',\n",
       " 'gerald wallace falls into gilbert arenas leg causing him to tear his mcl',\n",
       " 'steph curry and omri casspi combine for 59 points and 15 threes in a battle of sharpshooters',\n",
       " 'titans jayon brown jayonbrown12 practicing social distancing on tiktok_us face with medical mask',\n",
       " 'my favorite thing about mike breen he only refers to players by last name',\n",
       " 'revisiting takkarist mckinley s nfl draft thread',\n",
       " 'colin cowherd is pumped about the broncos this year don t know if that s a bad thing',\n",
       " 'which nba player has the fewest instagram followers',\n",
       " 'schefter free agent cb cj goodwin is signing back with the cowboys on a one year deal for just over 1million per rosenhaussports',\n",
       " 'maske the league does not plan to delay the nfl draft source said despite the recommendation by a gms subcommittee to do so that recommendation was first reported by espn',\n",
       " '2016 nfc divisional full game green bay packers vs dallas cowboys',\n",
       " 'fowler before the tom brady signing the bucs were focused on re signing their own players including breshad perriman they could focus in on perriman as a downfield threat for brady',\n",
       " 'best of ja morant 2019 20 nba season',\n",
       " 'you are an nba gm you can choose to build around either duo booker ayton or trae collins',\n",
       " 'nfl transactions 03 19 2020',\n",
       " 'deron williams had a nasty crossover and was breaking ankles for a long time',\n",
       " 'damian lillard nails the midrange jumper for 3 points',\n",
       " 'james johnson cocks that joint back and bangs on andre drummond',\n",
       " 'one of the best games ever played',\n",
       " 'can i offer you a cabbage in these trying times',\n",
       " 'anderson i m told there are ongoing discussions right now regarding the framework of a 3 year extension as part of a trade that would send cb darius slay to the eagles per source',\n",
       " 'about two weeks ago two star players from my favorite team tested positive for covid19 tonight both of my parents tested positive for covid19',\n",
       " 'what was your favorite teams franchise changing draft and or offseason',\n",
       " 'giannis is the most improved player of the 2010s',\n",
       " 'report nfl plans to cancel draft in vegas',\n",
       " 'would you take a 28 year old prospect in the 1st round if they were guaranteed to be top 5 at the position your team needs',\n",
       " 'rapoport source the broncos and rb melvin gordon have agreed to terms on a 2 year deal worth 16m with 13 5m guaranteed the former chargers star stays in the division creating a strong 1 2 punch with phillip lindsay',\n",
       " 'serge ibaka feeds kawhi leonard pennis pizza on his cooking show how hungry are you',\n",
       " 'on a call with trump officials police chief pleads stop testing nba players start testing first responders',\n",
       " 'name the perfect player at every position',\n",
       " 'first take debates where peyton manning ranks among the top 5 qbs of all time',\n",
       " 'question for some of the older folks on this sub what player would be the modern equivalent to oj simpson at the time of his police chase',\n",
       " 'you have 17 games to rush for 100 yards if you succeed you win 250 million if you fail you die',\n",
       " 'giardi tom brady asked if he was disappointed the patriots didn t make a greater effort to return him no i have nothing but total respect and love no one who has been a bigger fan of the patriots than me i m so grateful to mr kraft the organization and coach belichick',\n",
       " 'is it me or the league is full of terrible facial hair',\n",
       " 'jahns jimmy graham s deal is essentially a one year 9 million deal including a 6 million signing bonus with a second year added to spread out the cap and featuring bonuses including individual honors',\n",
       " 'kevin mchale and danny ainge play 1 on 1 in 1986',\n",
       " 'highlight nfl films used to release videos recapping each team s season this is how the one for the 1991 falcons began it s bizarre',\n",
       " 'msu per cam wake s agent he is not going to call it quits on his nfl career',\n",
       " 'the opposite of what players did you forget played for a different team which players are equally remembered for a team they spent less time on',\n",
       " 'replace demar defrozen with kawhi leonard in 2017 and 2018 do they make the finals',\n",
       " 'explanation of a play in any given sunday movie',\n",
       " 'jones donovan mitchell genuinely loves playing for the jazz and will sign a max contract extension at some point before next season',\n",
       " 'chris paul and blake griffin connect on back to back windmill alley oop dunks during a beatdown of the process sixers',\n",
       " 'with a lot of us being stuck at home what are some of your favorite documentaries or videos about your favorite team or player s',\n",
       " 'highlights the first win in houston texans history',\n",
       " 'pelissero the jaguars agreed to terms with former bengals te tyler eifert on a two year deal source said',\n",
       " 'ex jets tight end austin seferian jenkins allegedly was high drunk speeding when arrested for 3rd dui is he done in nfl',\n",
       " 'darius slay says he ll be wearing the no 24 jersey with the eagles to honor kobe bryant',\n",
       " 'highlight jr rider swishes impossible behind the back three saving the ball from going out of bounds in the play of the decade',\n",
       " 'so since balmer just bought the forum does this mean the clippers will move out of staples center',\n",
       " 'rogers darius slay on wjr i wanted to stay for a minute but i knew how me and matt patricia were and that wasn t going to last long slay said he disagrees with the coach on a lot of things said he was bothered by patricia saying he wasn t elite only good',\n",
       " 'bbc tokyo 2020 olympic and paralympic games postponed because of coronavirus',\n",
       " 'what s your favorite nfl announcer moment',\n",
       " 'do you consider lamelo to be the biggest boom or bust in the draft',\n",
       " 'demar derozan greatest missed dunk of all time',\n",
       " 'make the most unstoppable nba player by combining different players attributes but nothing that defies physics jokic body and westbrook speed etc',\n",
       " 'who are some of the best teams in nba history to not win a championship',\n",
       " 'if you were the gm of your team would you gamble on cam',\n",
       " 'vince carter has at least 10 better in game dunks than gerald green s windmill',\n",
       " 'do you think any nba players wear shoe insoles to increase their height',\n",
       " 'did you know in 1986 13 years after retirement wilt chamberlain 50 years old was offered 362k by the nets to the join their team for the last 7 games of the season amp playoffs',\n",
       " 'would it be a waste of time if i watch all of michael jordan s playoff games',\n",
       " 'yates the jets have exercised the 2021 option year on te ryan griffin per source no surprise there as griffin who signed an extension in november made a really strong impression last season in starting all 13 games he played',\n",
       " 'oc which player dished x assists in the most games',\n",
       " 'what s the best 5man lineup of players who never won mvp 2000 present',\n",
       " 'stephen a smith gets angry when a caller fails to answer his question who did the lakers miss',\n",
       " 'what about odell beckham jr',\n",
       " 'jarrett allen encounter long thoughts on the world',\n",
       " 'best games of the last decade',\n",
       " 'paul lukas comparison of chargers lightning bolts showing removal of navy layer and less severe curvature they ve flattened the curve old version on top new on bottom',\n",
       " 'espn s amin elhassan we aren t going to have a season it s nice to say in case the miracle cure comes out and we turn it all around and then we can be back by the end of june and the playoffs start then and the finals in august i don t think it is feasible i hope i m wrong',\n",
       " 'the new york knicks get absolutely obliterated by the sheer greatness of tj michael jeffrey jordan mcconnell after porzingis airballs the corner 3 like a dumbass',\n",
       " 'what are the most iconic nba images of this century',\n",
       " 'inside proof bronny isn t lebrons child',\n",
       " 'chris paul in his rookie year goes 1v4 and scores a beautiful layup on 2 defenders',\n",
       " 'rapoport the browns are signing wr and returner jojo natson to a 1 year 1m deal source said he spent the last two years with the rams',\n",
       " 'sportrac no signing bonuses for mike mayock s vegas raiders he s using first or second year roster bonuses to keep cap amp cash flows consistent amp dead cap at a minimum 65 of lvr s free agent contracts are guaranteed',\n",
       " 'garafolo giants have agreed to terms with qb colt mccoy source says he stays in the nfc east',\n",
       " 'what hole s does your team desperately need to fill in the draft',\n",
       " 'steph curry goes at chris paul at cp3 camp unseen footage from 2010',\n",
       " 'i m charles robinson senior nfl reporter for yahoo sports ama',\n",
       " 'would a big 3 of prime shaq lebron and curry be unstoppable how do you slow them down which team is the best',\n",
       " 'darius slay congrats to my guy hope that speeds up my trade process',\n",
       " 'caplan bills re signing wr isaiah mckenzie who was a restricted free agent not tendered',\n",
       " 'after the cba rules take effect which is the new 7 9 8 9 or 7 10',\n",
       " 'harden drops the 44 pt triple double on the warriors 01 03 19 including the cold blooded dagger over klay and dray',\n",
       " 'yates the saints and cb janoris jenkins have agreed to a renegotiated contract a sensible move for the saints to create cap space as jenkins was scheduled to count 11 25m against the cap with a base salary of 10 25m gm mickey loomis is always finding ways to create cap space',\n",
       " 'weinfuss kenyan drake signs tender offer with cardinals',\n",
       " 'schefter here s an idea for how to change the nfl draft this year',\n",
       " 'which players do you love that don t get as much love as they should show them here',\n",
       " 'jamal murray first and foremost i would like to apologize to my fans my account has been hacked currently working on the issue thanks',\n",
       " 'buccaneers from the bottom of our hearts thank you 3',\n",
       " 'gilbert arenas sneaks into nick young house',\n",
       " 'o c book review sprawlball',\n",
       " 'what are some weird facts about people s ages in this leauge',\n",
       " 'why does carmelo anthony wear so many accessories',\n",
       " 'how brady became a buc and all the signs we missed along the way',\n",
       " 'badly draw something nba related and we guess what it is',\n",
       " 'colin cowherd how the lack of otas affect the nfl amp patriots tanking for trevor lawrence',\n",
       " 'source buffalo bills interested in former cleveland browns wr rashard higgins',\n",
       " 'yahoo sports nba insider chris haynes has dropped a rap track called i got no games to cover',\n",
       " 'kobe bryant stares the ref down after a no call then hits the tough and 1 to take the lead',\n",
       " 'pelissero brian hoyer s 1 year 1 05 million contract with the patriots also includes a 2m playtime incentive he ll make at least 2m regardless thanks to remaining guarantees on his colts deal that are subject to offsets max earnings 3 05m',\n",
       " 'rams will introduce logo colors monday and say it s not what you think it is',\n",
       " 'yates dan bailey s deal with the vikings three years maximum value of 13m he gets a signing bonus of 3 15m with 5m total guaranteed comes after a strong year in 2019',\n",
       " '2014 was the most fun season in the 2010s convince me i m wrong',\n",
       " 'what song does your team play after a victory how do you feel about it',\n",
       " 'i put some historical nfl teams into a league and simulated a few seasons here s the link because someone asked',\n",
       " 'what s the worst combined qb play in a game',\n",
       " 'knicks fans chant rasheed wallace as he walks up to check in for the first time in 2 years and gives him a standing ovation after he hits his first shot back 2012 nba tipoff',\n",
       " 'grove browns fast and furious free agent tracker te austin hooper 4 year ol jack conklin 3 year qb case keenum 3 year lb bj goodson 1 year s karl joseph 1 year dl andrew billings 1 year cb kevin johnson 1 year wr jojo natson 1 year browns',\n",
       " 'joakhim noah with one of the ugliest shots i ve ever seen in my life absolutely no redeeming qualities about this one folks',\n",
       " 'oc i took every winless team in nfl history and put them in a league to sim a 16 game season',\n",
       " 'the bears all time receiving yards leader is johnny morris with 5 059 yards a rb turned wr who last played in 1967',\n",
       " 'for people who watched it what was the greater context behind peyton s rookie interception record',\n",
       " 'who are some players that people don t realize actually faced each other',\n",
       " 'all of the beef moments between russell westbrook and patrick beverley throughout the years',\n",
       " 'was daniel jones good and is he going to have a good year 2',\n",
       " 'nets bench best moments',\n",
       " 'wojnarowski other nba owners are watching sixers and weighing the pr fallout vs desire to do the same with salary reductions including some considering furloughs staff cutbacks etc no owner wants to log into twitter and see his net worth trending after announcing this kind of news',\n",
       " 'dolphins let season ticket holders defer payments',\n",
       " 'anderson varejao looks like a doodlebop',\n",
       " 'warren sharp if darius slay is traded to the eagles he s done outstanding vs amari cooper',\n",
       " 'schefter tom brady undergoing his physical this morning in nyc',\n",
       " 'playoff predictions from 8 months ago using a model that consistently predicts all 16 teams correctly',\n",
       " 'who do you think the most overrated played in this year s draft is',\n",
       " 'rank these centers from best to worst',\n",
       " 'john johnson iii ramsnfl you know jj had to get the drip first',\n",
       " '1997 chicago bulls vs los angeles lakers at the united center december 17 full game',\n",
       " 'isaiah thomas goes berserk in game 2 against the wizards in 2017 playoffs and scores career high 53 points with 29 in fourth quarter and ot',\n",
       " 'iman shumpert shares his experience playing alongside lebron',\n",
       " 'good basketball nba podcasts',\n",
       " 'givony iowa state sophomore tyrese haliburton is entering the 2020 nba draft haliburton the no 7 prospect in the espn top 100 emerged as one of the draft s elite point guards this season reporting with adrian wojnarowski',\n",
       " 'wilson status quo for seahawks free agent pass rusher jadeveon clowney who hasn t gotten the 20m average per year he s seeking per league sources weighing one year deals after injuries last season then re entering market next year when salary cap is expected to rise significantly',\n",
       " 'james harden celebrates national puppy day',\n",
       " 'the nfl has posted the full game of superbowl 52 for free on youtube',\n",
       " 'schefter once carolina releases qb cam newton today the quarterbacks that can he had through free agency or trade include cam newton jameis winston andy dalton',\n",
       " 'pft per source the rams are currently in discussions regarding a possible trade of rb todd gurley',\n",
       " 'anderson emmanuel sanders just told me he intends to go to the saints',\n",
       " 'shannon brown with the greatest blocked shot that never was',\n",
       " 'what player do you want to see win their first super bowl the most',\n",
       " 'whether you love or hate cam we can all agree that no other quarterback could do this',\n",
       " 'arthritis or not todd gurley has produced over 2800 total yards and 35 touchdowns the last 2 years',\n",
       " 'is there a website where i can see all the nfl teams uniforms and their variants',\n",
       " 'j r smith takes off and lays the pipe on george hill if we re doing favorite dunks',\n",
       " 'isaiah thomas goes berserk in game 2 against the wizards in 2017 playoffs and scores career high 53 points with 29 in fourth quarter and ot',\n",
       " 'long snapper zach wood will remain a new orleans saint',\n",
       " 'which nba players are avid gamers',\n",
       " 'if you were told 10 years ago everything that s happened in the nfl since then what would be the most surprising event to you',\n",
       " 'kevin garnett almost got traded to the clippers but it got vetoed',\n",
       " 'mullen free agent nfl dt ndamukong suh has left caa sports as a client',\n",
       " 'if you take the all time starting 5 of every franchise and they played one season would your team make the playoffs',\n",
       " 'wilson dallas cowboys are not among the teams that are looking at potentially adding seahawks free agent pass rusher jadeveon clowney according to a league source',\n",
       " 'rapoport former raiders lb tahir whitehead is signing with the panthers on a 1 year deal source said a solid signing late in free agency',\n",
       " 'bengals nfl policy currently prohibits teams from making any official announcements but we really really want to talk free agency with you',\n",
       " 'would you take prime lebron or andrew wiggins with one leg and a gun',\n",
       " 'nfl defensive highlights 2019 season',\n",
       " 'klis nick vannett deal with broncos 2 yrs 5 7 million 2020 1 75 signing bonus 1 mill salary 750k gu 250k per game roster total 3 million 2021 2 75m salary non guaranteed',\n",
       " 'charania 76ers star joel embiid says he is donating 500 000 to coronavirus relief and helping team workers who are temporarily reducing their salary during pandemic',\n",
       " 'sunday brunch',\n",
       " 'who is your top ten bbiq players ever',\n",
       " 'pff 2020 live fa deal grader',\n",
       " 'during the 2012 13 nba season dwight howard missed more free throws 366 than steve nash missed in his entire career 324',\n",
       " 'former seahawks punter jon ryan diagnosed with skin cancer',\n",
       " 'tim thomas with the clutch three to tie the game with 6 seconds left 2006 playoffs lakers suns game 6',\n",
       " 'joel do a 180 embiid in these trying times i m proud of the sixers organization for reversing course and doing a 180 let s focus on beating this coronavirus now let s be responsible and trust the process',\n",
       " 'some stray thoughts on lonzo ball',\n",
       " 'players sorted by nba finals efficiency ts',\n",
       " 'who are some of the most overpaid players in recent history',\n",
       " '7 1 shaquille o neal aka manny shaquiao takes on 5 9 shane mosley in a boxing match',\n",
       " 'steph goes off for 13 3s on just 17 attempts 11 08 16',\n",
       " 'denver broncos',\n",
       " 'urban cardinals re sign safety charles washington',\n",
       " 'highlight sterling sharpe game winning td catch in brett favre s first playoff game 1993 nfc wild card at detroit',\n",
       " 'update 5th year option action saints have exercised the 2021 fifth year options on cb marshon lattimore and rt ryan ramcyzk per fieldyates with the new cba in place both options are fully guaranteed under the old cba it would ve only been guaranteed for injury',\n",
       " 'old school edits',\n",
       " 'nfl update the arthur blank family foundation is donating 5 4m for coronavirus relief efforts',\n",
       " 'schefter qb trade jacksonville is trading qb nick foles to chicago for the bears compensatory fourth round pick sources tell espn bears coaches such as matt nagy have worked with foles in past and know him well',\n",
       " 'phillips stop save the old people',\n",
       " 'rams we have released todd gurley',\n",
       " 'can someone eli5 how compensatory picks work',\n",
       " 'rookie lebron vs lakers shaq in 2004',\n",
       " 'serious did any nba all time great have as limited success in their first 4 seasons as devin booker in his first 4 seasons he won a total of just 75 games',\n",
       " 'why aren t nfl teams interested in jameis winston',\n",
       " 'i own the full slam magazine collection and have completely indexed it from ish 1 to 226 any question any query ama in these times of quarantine',\n",
       " 'sam mitchell keeping it real with some young hoop stars',\n",
       " 'arizona cardinals welcome to arizona deandrehopkins we have agreed to a trade with the texans for wr deandre hopkins pending physicals',\n",
       " 'rondo and carlisle yell at each other',\n",
       " 'how much importance should advanced analytics hold',\n",
       " 'spurs head coach gregg popovich fights with franchise star tim duncan during practice',\n",
       " 'buccaneers hc bruce arians referring to his grand kids as 2 wild indians on the rich eisen show',\n",
       " 'paylor the chiefs have agreed to terms on a 1 year deal with mike remmers a source tells me remmers over for wisniewski he ll be a veteran ot og flex who has played lots of nfl snaps',\n",
       " 'nba playoffs',\n",
       " 'recent flashy passers',\n",
       " 'deandre jordan sends brandon knight to the shadow realm and matt barnes takes a jog',\n",
       " 'cleveland plain dealer case keenum says baker mayfield reached out to him as soon as news broke',\n",
       " 'yates the bucs are re sigining lb kevin minter to a one year deal that qualifies for the new veteran salary benefit incorporated into the cba he s appeared in 21 games in two seasons with tampa bay',\n",
       " 'auman tom brady where i ve been i ve learned a great deal as i move forward no one cares what you ve done in the past there s a lot of things i have to get up to speed on learning different terminology that s a unique challenge i haven t faced but one i look forward to',\n",
       " 'schefter broncos ol graham glasgow officially signed his 4 year 44 million deal that included 26 million guaranteed today the broncos and sportstarsnyc negotiated the deal last week',\n",
       " 'here s a highlight mix from the playoff series where kawhi established himself as among the best league wide',\n",
       " 'pelissero a portion of that roster bonus tomorrow 2 5 million is subject to offsets meaning if gurley signs elsewhere the rams can get some of the money back as it stands now l a will have paid 34 5m on the extension he signed in july 2018',\n",
       " 'wojnarowski sixers ownership statement to espn after listening to our staff and players it s clear that was the wrong decision we have reversed it and will be paying these employees their full salary',\n",
       " 'mike ruffin intercepts pass and throws the ball in the air to run out the clock it falls into morris peterson s hands who drills the buzzer beater',\n",
       " 'what are the 2021 draft implications if the season gets cancelled',\n",
       " 'my top 20 nba players of all time and top 10 players at each position',\n",
       " 'what is the biggest choke of all time',\n",
       " 'ellis cam newton posts new ig video saying he s unemployed',\n",
       " 'what matchup between any teams in history would you like to see most',\n",
       " 'sofi stadium w new rams logos virtual',\n",
       " 'yates in todd gurley s five seasons with the rams he was second in the nfl in rushing yards 5 405 first in rushing td 58 second in the nfl in yards from scrimmage 7 494 and scored an nfl best 70 total td an incredible run in la',\n",
       " 'nba shot clock clock',\n",
       " 'kleiman the buccaneers are focusing on re signing their own free agent players such as late season breakout star wr breshad perriman per jfowlerespn the deep threat receiver could add a lot of speed to tombrady offense in tampa bay',\n",
       " 'just shawn bradley in a wig playing guitar with a group of old men covering a bon jovi song but singing about jimmer fredette',\n",
       " 'who would you pick to start a franchise between jaylen brown or rj barett',\n",
       " 'schefter 49ers just informed starting guard mike person that he is being released per source a veteran guard now available',\n",
       " 'bryanpereznfl this just made the no 3 pick much more valuable nfldraft',\n",
       " 'kevin garnett impersonates gary payton shaq mj pierce duncan perk',\n",
       " 'looking back at it now was mj not careless and irresponsible playing a game with flu like symptoms',\n",
       " 'hamilton qb cam newton s latest ig comments have gotten the attention of chargers safety derwin james',\n",
       " 'payton appreciate the well wishes i m feeling better and fortunate to not have any of the respiratory symptoms 4 more days at home beatcovid',\n",
       " 'thescore report nba considering september as latest possible finals time frame',\n",
       " 'video eli manning leads a game winning drive to beat the cowboys in their inaugural game at cowboys stadium september 20 2009',\n",
       " 'roy parry orlando sentinel jonathan issac assisting project life inc s effort to feed orlando schoolchildren during coronavirus pandemic',\n",
       " 'josh rosen',\n",
       " 'when steve blake randomly tied john lucas nba record of 14 assists in a quarter 2009',\n",
       " 'when a players contact is up what makes them a restricted free agent or a non restricted free agent',\n",
       " 'highlight one of the best forgotten acrobatic td catches cowboys wr ray alexander bats the ball to himself twice while falling down before making the one handed grab cowboys bengals 1988',\n",
       " 'steve javie argued that fights have been reduced due to techs for staredowns taunting which jeff van gundy thought was bogus',\n",
       " 'patriots are betting favorites for quarterback cam newton',\n",
       " 'kevin harlan gets angry about the angry whopper during game 2 of the 76ers nets series last year',\n",
       " 'yates amongst the pass rushing free agents available jadeveon clowney everson griffen markus golden clay matthews michael bennett cameron wake benson mayowa ziggy ansah terrell suggs vinny curry',\n",
       " 'when if ever will canada ever produce a better player than steve nash',\n",
       " 'kobe bryant drops 37 points and goes full mamba in ending the suns championship window',\n",
       " 'robinson a team source tells yahoo sports that pro bowl safety adrian phillips has agreed to a two year deal with the patriots',\n",
       " 'dan patrick show you look at jameis numbers and peyton s numbers in those first 5 years there s not a lot of difference other than peyton s team won more tonydungy on jameis winston s first 5 years in the nfl',\n",
       " 'o neil chance warmack is the fifth player chosen in the top 10 of the 2013 nfl draft to join the seahawks seven of the first 15 picks of the draft that year have signed with seattle at some point',\n",
       " 'what your favorite nba documentary conspiracy theory story that is available to binge watch on youtube right now',\n",
       " 'lions reach agreement with cb tony mcrae',\n",
       " 'henderson some statistical context on jadeveon clowney s three sack season in 2019 he was fifth in espn s pass rush win rate at 24 8 and he faced double teams on 26 3 of his edge rush snaps the third highest rate among qualifying defenders',\n",
       " 'perk and zbo asking for more physicality before the game',\n",
       " 'sessler agree with those suggesting the steelers as an intriguing backup spot for jameis winston i d pick the jaguars for andy dalton who could wind up starting games for a team prepping for a long autumn',\n",
       " 'schefter over the past week jets gm joe douglas has retooled his offensive line he has added george fant conner mcgovern greg van roten josh andrews re signed alex lewis jets still scheduled to have no 11 pick',\n",
       " 'lakers shaq vs orlando shaq',\n",
       " 'schefter cam newton had a physical in atlanta yesterday coordinated by the panthers and his agency team per sources newton passed the physical and is healthy per source with both his shoulder and foot checking out well and he is hungrier than ever and eager for the next opportunity',\n",
       " 'burns if the olympics the world largest sporting event from july 24 to august 9th can be postponed you better believe that cfb and nfl seasons are in jeopardy if people don t take this seriously',\n",
       " 'highlight darius slay on when he lost respect for matt patricia he had posted a picture off my instagram to the team meeting room and told me to stop sucking this man s privates',\n",
       " 'urban de brent urban is re signing with the chicago bears on one year deal per source i m the source',\n",
       " 'yates in exactly the past year we ve seen these four players retire before the age of 30 rob gronkowski andrew luck luke kuechly travis frederick 21 combined pro bowls amongst the best players at their position prodigious talents all moved on to their next chapter',\n",
       " 'thirteen years ago kobe bryant scored 60 points in a game for the second time in his career it was the third contest in a row dropping 50 plus points for bryant',\n",
       " 'could jonathan isaac have been dpoy if he stayed healthy',\n",
       " 'dirk nowitzki 37 points 15 rebounds vs tim duncan 41 points 15 rebounds 6 assists wcsf game 7 highlights 2006 nba playoffs',\n",
       " '76ers owner josh harris reverses decision on cutting salaries',\n",
       " 'falcons we got him',\n",
       " 'espn after failing to get government approval chinese basketball association is now looking at a four month delay',\n",
       " 'what s your most underrated nfl uniform',\n",
       " 'highlight nba top 10 catch blocks of all time',\n",
       " 'likening nba teams to musical acts',\n",
       " 'what is the nba equivalent of the pats colts rivalry of the 2000s',\n",
       " 'the ringer 12 underrated nfl free agency moves that could pay off',\n",
       " 'bedard on brady patriots wouldn t guarantee him beyond one year since 2016 it was about commitment always has been',\n",
       " 'tom brady had just one request after signing with bucs',\n",
       " 'what athlete in another sport could be an nba player',\n",
       " 'wfaa mark cuban on when the season could resume if i had to guess based off the people i ve talked to at the cdc and other places i would say that the over under would be june 1 and i m taking the under',\n",
       " 'kyrie irving responds in an agressive manner when asked where s lebron',\n",
       " 'la canfora jimmy smith contract is even better for the ravens than what s been reported it is actually 1 year with just 3 5m guaranteed with playtime incentives could earn an additional 2 5m if he plays a lot',\n",
       " 'tats v no tats',\n",
       " 'derrick rose 42 points and 8 assists in his mvp year against the 46 9 spurs',\n",
       " 'the nba should do dvd commentary type replays of classic games',\n",
       " 'nba odd couple teammates as interpreted through jay z and linkin park s collision course',\n",
       " 'rapoport the jets have agreed to terms with and are re signing lb neville hewitt',\n",
       " 'griffen is gone from minnesota',\n",
       " 'what draft pick did you hate at the time but realize it was a good and correct choice for your team',\n",
       " 'are the chargers a qb away from being a legit threat to win the afc this year',\n",
       " 'oc 30 for 30 the curious case of jameis winston film breakdown of jameis 2019 season and why he fails to read defenders leverage',\n",
       " 'lac chargers teaser for their new look',\n",
       " 'pelissero how badly did the panthers want qb p j walker after he lit up the xfl source says they gave walker a two year 1 565 million contract that includes a 150 000 signing bonus and a 25 000 workout bonus next year nice deal for a street free agent',\n",
       " 'woooahly moooahly woahly',\n",
       " 'running out of creativity in the nba dunk contest',\n",
       " 'volin certainly doing something with gilmore should be on the table too either a new extension or a trade',\n",
       " 'yates the new money in this deal for darius slay checks in at 16 67m per season the richest for any cb in the nfl surpassing new dolphins cb byron jones 16 5m slay earns a massive deal from philly as part of the trade',\n",
       " 'the antetokounmpo brothers are currently streaming fifa on youtube',\n",
       " 'todd gurley on instagram',\n",
       " 'middlekauff lets be real the rams are struggling to give away gurley and cooks',\n",
       " 'rapoport on the patriots signing qb brian hoyer he gets roughly 1m from ne 1m from the colts that was already guaranteed before they released him 2m more available in incentives with ne up against the cap this makes sense',\n",
       " 'pelissero the panthers are signing qb p j walker source said another nfl shot for the star',\n",
       " 'jason_otc we have a record of 20 running backs who signed multiyear contracts since 2009 that were worth at least 7m per year here are the outcomes 8 terminated 4 traded 3 paycuts 2 expired 2 active zeke and bell 1 extended',\n",
       " 'much like the 1985 bears defense had one bad game against the dolphins the 2000 ravens defense had one bad game against the jaguars',\n",
       " 'report patriots nearing deal with danny vitale profootballtalk',\n",
       " 'derwin james jr 2020 you know how we comin',\n",
       " 'somers pretty incredible that gurley and david johnson could be traded in same year the folly of paying huge to a rb',\n",
       " 'underhill sanders average annual value of 8 million ranks 32nd in the nfl',\n",
       " 'highlight nick foles running with the grace of a wounded gazelle',\n",
       " 'draymond green full highlights 2016 wcsf game 3 at blazers 37 pts 9 rebs 8 ast 8 threes',\n",
       " 'cam jordan he s healthy and they released him want a yr or 2 to make sure adjust throwing if needed need a tm with a dynamic top tier hb wr cemented amp proven offensive line',\n",
       " 'iman shumpert on melo s leadership and work ethic calling him his rookie year to out of his hotel room to watch a specific steve nash play',\n",
       " 'kleiman steelers signed safety jordan dangerfield to a one year contract',\n",
       " 'do the patriots or chargers have anything to offer detroit for the 3rd pick',\n",
       " 'garafolo te austin hooper passed his physical and officially signed with the browns the deal negotiated by caricsportsmgt sets a new top of the market for tight ends in all metrics guaranteed money full guarantee at signing and apy pays him 23m guaranteed over the first 2 years',\n",
       " 'kyle lowry named a 6 time all star open gym moment presented by bell',\n",
       " 'here are the smallest dudes to ever lace em up',\n",
       " 'vince williams running backs might not ever get paid again',\n",
       " 'naggy difficult day for patriots fans but they need to know bb stole jarrett stidham in 4th round high end natural arm talent comes off his hand so easy also bright and mature sources say he made huge strides in system last year talented enough to be brady s long term successor',\n",
       " 'la canfora heard the eagles have a lot of interested in this guy ngakoue among others',\n",
       " 'the day after his grandfather was murdered at the age of 61 a young cp3 who was in high school dropped 61 points as a tribute in that game he had 59 points proceeded to hit an and 1 layup to reach 61 airballed the freethrow and walked off the court',\n",
       " 'bleacher report john collins talks kobe bryant donovan mitchell vince carter more in b r ama',\n",
       " 'gerald green with maybe the best dunk of all time you can see the opposing team not knowing how to react',\n",
       " 'what is a realistic ceiling for bam adebayo',\n",
       " 'rose banks in the game winning 3 against the cavs in the 2015 playoffs',\n",
       " 'yates exactly one month until the 2020 nfl draft a few reminders most picks mia 14 fewest picks kc no 5 teams with multiple 1st mia 3 jac lvr min sf teams with no 1st buf chi hou ind lar pit most top 100 picks mia 6 fewest top 100 picks pit 1',\n",
       " 'brett tessler happy to announce that g c josh andrews is signing with the new york jets 6 year vet spent his first four years with the philadelphia eagles and the last two with the colts he s excited about the opportunity to reunite with gm joe douglas in ny',\n",
       " 'nba youtube just put up some playoffs games in hd such as 2013 heat spurs finals game 6 2014 rockets blazers game 6 in round 1 and rose s 50 point game against the jazz in 2018',\n",
       " 'one of metta world peace s forgotten secret weapons a true wildcard',\n",
       " 'schefter former broncos safety will parks reached agreement on a one year deal with the philadelphia eagles per source eagles needed another safety having lost malcolm jenkins to the saints and land the former bronco parks left other deals on table for eagles opportunity',\n",
       " 'healthy boston vs healthy nets who win a 7 game series',\n",
       " 'robby anderson patience is the key',\n",
       " 'draftexpress giannis antetokounmpo giannis adetokunbo 2013 nba draft scouting report video',\n",
       " 'ramsnfl the new chapter begins live press release',\n",
       " 'best 3rd string qb',\n",
       " 'albert breer the panthers still need a replacement for greg olsen but having christian mccaffrey dj moore curtis samuel and robby anderson around teddy bridgewater isn t terrible',\n",
       " 'field yates in restructuring janoris jenkins contract the saints lowered his cap number to 4 05m by converting 9m of his pay into a signing bonus creating 7 2m in space jenkins remains a free agent after this season with the saints adding two void years',\n",
       " 'which current nba player loves the game of basketball the most',\n",
       " 'rapoport more wr news the 49ers are signing former chargers wr travis benjamin source said added depth in sf he gets a 1 year deal',\n",
       " 'tokyo 2020 olympics to be postponed until 2021 says ioc member',\n",
       " 'simpler times',\n",
       " 'bengals re sign cb tory mctyer',\n",
       " 'embiid takes a page out of jamal murray s book and serves up a nasty facial to john collins',\n",
       " 'what teams do you think will exceed or deceed expectations',\n",
       " 'allen iverson 46 points vs the spurs',\n",
       " 'has a team ever signed a player just for the sole purpose that no other team could have him',\n",
       " 'what is your favorite uniform of all time from your team',\n",
       " 'what is your playoff bracket',\n",
       " 'kevin durant with the insane reverse layup',\n",
       " 'br please give us a quarantine edition of game of zones',\n",
       " 'is there any sort of good be a gm game out there soccer has a really popular one and basketball also has one there has gotta be one for football right',\n",
       " 'die hard spurs fan s honest feelings about the 2013 finals loss youtube video included watch it let me know what you think link is included to youtube video',\n",
       " 'pro football focus cardinals most improved team early in offseason',\n",
       " 'bill russell accepting his lifetime achievement award 2017',\n",
       " 'richard jefferson trolling lebron s football instagram post',\n",
       " 'true or false there is nothing worse than a cowboys fan from philadelphia hilarious nbc article on bandwagon fans',\n",
       " 'how accurate are nielsen ratings',\n",
       " 'jamal murray is enjoying his time off it seems',\n",
       " 'tom brady vs manning brees and the nfl s best',\n",
       " 'nfl throwback walter payton vs roger staubach in a battle of legends',\n",
       " 'is there anything nice you can say about you re divisional rivals',\n",
       " 'underhill saints agree to terms with fb michael burton on a one year deal',\n",
       " 'schefter free agent linebacker jatavis brown is signing with the eagles on a one year deal per rosenhaussports',\n",
       " 'if they are not hosting an in person draft this year in what ways could a remote virtual draft be even better then what we usually get',\n",
       " 'tarik cohen day whatever of quarantine my forearms are getting unusually strong',\n",
       " 'lebron dunks on a kid',\n",
       " 'schefter bucs already adding protection got new qb tom brady tampa bay just reaches agreement with former colts ot joe haeg per source free agents flocking to tampa begins',\n",
       " 'trevor lawrence amp justin fields nfl comparisons',\n",
       " 'i found a highlight tape i made from joey crawford in game 6 of the 2013 nba finals enjoy',\n",
       " 'schefter former saints wr keith kirkwood is signing a 1 year deal with the carolina panthers where he will reunite with his college coaches from temple per the katz brothers saints did not tender kirkwood and he had four interested teams but chose carolina',\n",
       " 'rosenthal it s rough but the rams aren t cutting gurley for cap reasons they are cutting him because they don t think he can help them win',\n",
       " 'who is in your opinion the worst player the warriors would have added in the 2016 offseason and still win the 2017 and 2018 titles',\n",
       " 'lebron james ultimate football highlights',\n",
       " 'sessler lions fans must be full of questions after detroit traded away darius slay for a 3rd 5th signed a lesser cb in desmond trufant for 10 5m annually handed 50m to halapoulivaati vaitai an ot with 20 career starts since 2016 signed a clown car of burnt out patriots',\n",
       " 'norman powell with a pair of huge dunks against the bucks 2017',\n",
       " 'video request lebron james sprinting full speed vs the warriors',\n",
       " 'has there ever been a worse full season hc qb combo than hue jackson deshone kizer in 2017',\n",
       " 'kyrie with the beautiful and one layup on draymond in 2016 finals high off the class off hand supreme confidence',\n",
       " 'trey burke is ranting about vaccination conspiracies on his treyburke',\n",
       " 'what players from 2000 to the present could have averaged a triple double for a season if they stat padded wanted to',\n",
       " 'b r panthers having difficult time finding trade partner for cam newton expect to release the former mvp per jourdanrodrigue',\n",
       " 'josh smith eating breakfast',\n",
       " 'schefter eagles are trading a third and fifth round pick in 2020 draft to detroit for darius slay per source',\n",
       " 'dj mbenga saying tacos',\n",
       " 'ty lawson hits the game winner then does the bernie thunder vs nuggets 3 1 13',\n",
       " 'pft if todd gurley fails his falcons physical rams could end up on the hook for the 10 5 million they avoided by cutting him yesterday',\n",
       " 'old guy in nba advertisement',\n",
       " 'yates another raiders free agent the team has signed te nick o leary per his agency _sportstrust',\n",
       " 'would you rather have peak lebron with size of shaq without losing the speed or peak lebron with the shooting of curry',\n",
       " 'deshaun watson i don t know how i ma make it out of here clean can t even keep track of who plays for the other team iconic duos rip and split at the seams',\n",
       " 'ggn jets re sign cb bennett jackson',\n",
       " 'nba tv showing anything other than hardwood classics is baffling to me',\n",
       " 'in a alternate universe lebron was drafted by the cavs in 1986 he played for the cavs for 7 seasons then left to miami to play 4 seasons before returning to the cavs for 4 seasons and finally finishing with the lakers for 4 seasons how many rings does he have how does his legacy change',\n",
       " 'best games of the season',\n",
       " 'kyle lowry gets an epic nutmeg assist and he knows it',\n",
       " 'minnesota vikings for the memories and the miracle thank you stefondiggs',\n",
       " 'what are some colleges or international teams that will almost certainly never have a better nba player than who they already have',\n",
       " 'oc highlight today is wr brandon jones 38th birthday jones was drafted by the tennessee titans in the 3rd round of the 2005 nfl draft here s every td that jones scored in his nfl career including his game tying td in a huge comeback victory against the giants in 2006',\n",
       " 'tyrod taylor vs jacoby brissett',\n",
       " 'bacharach jurrell casey shares his thoughts on being traded to the broncos i would be lying if i said i wasn t confused amp hurt but it s a business hoping i left my mark in tn because y all will forever be in my heart',\n",
       " 'too many chefs and not enough cooks too many talented qbs',\n",
       " 'which if any playoff team do you see going under 500 in the 2020 season',\n",
       " 'everson griffen set to leave vikings browns cowboys have interest in pro bowl pass rusher',\n",
       " 'rapoport with philip rivers signing and jacoby brissett due 15m this year hoyer is on his way out i know i know ne may need another qb this is another sign indy will keep brissett',\n",
       " 'mike evans full 2019 2020 season highlights',\n",
       " 'garafolo redskins are releasing s monate nicholson',\n",
       " 'should derrick rose be in the hof',\n",
       " 'who would win if every player was in their prime team 2010 2014 vs team 2015 2019',\n",
       " 'mike reiss changes to the patriots uniform won t be dramatic with the logo remaining the same the team will reveal the subtle changes to the uniform on social media in the coming months',\n",
       " 'ross tucker we really need to stop saying guys in their late 20s that played 7 9 years of pro football retired early especially when they had a myriad of orthopedic issues gronk a significant concussion history kuechly or a rare nerve disorder travis frederick',\n",
       " 'schefter former falcons linebacker de vondre campbell is signing with the cards on a one year deal worth up to 8 5 million per rosenhaussports',\n",
       " 'yates one reality for the panthers during a period of transition is short term cap ramifications carolina is currently carrying 34 47m of dead cap space for 2020 most of any team in the nfl that number will increase by 2m when the team moves on from cam newton',\n",
       " 'esports event for nba like f1',\n",
       " 'cimini the jets have released cb darryl roberts the team announced saves them 6m on the cap had to do it today or else 2m of his salary would ve become fully guaranteed',\n",
       " 'mamadi diakite the guinean sensation 2020 nba draft prospect',\n",
       " 'would you rather just be a decent player on the los angeles lakers kuzma and be super famous an popular or be a good player on the orlando magic but be irrelevant evan fournier',\n",
       " 'p j walker cam phillips among 10 xfl players nfl teams should target in free agency',\n",
       " 'sheehy on reports of cameron wake retiring as cam s agent i can tell you this is simply not true cameron is playing this season and we are actively engaged in conversations with teams',\n",
       " 'highlight in 1994 the cowboys and oilers played a game against each other at estadio azteca the field conditions were laughably bad and dangerous',\n",
       " 'best trio under 25',\n",
       " 'kat on the coronavirus and his mother s health',\n",
       " 'anderson i m told rb dion lewis has agreed to terms with the giants on a 1 year deal per source',\n",
       " 'highlights brett kern the best punter in the nfl 2019 2020 season highlights',\n",
       " 'all nfl club facilities will be closed effective wednesday',\n",
       " 'who is on the all i was hacked team',\n",
       " 'pelissero trade the steelers are finalizing a deal to send a fifth round pick in 2021 to the ravens for dl chris wormley and a seventh round pick in 2021 source said a rare intradivision trade as mikegarafolo said wormley on the move',\n",
       " 'what was your first game',\n",
       " 'besides your team if they won one what was your favorite super bowl winning team',\n",
       " 'the all wilt awards',\n",
       " 'it has been 26 years and counting since we last saw the fourth ever recorded quadruple double what player is most likely to put up the next one',\n",
       " 'who is the best player from each team state your opinions no judging',\n",
       " 'adamschefter broncos reached agreement on a one year deal with lb jeremiah attaochu per source',\n",
       " 'what team is the best fit for clowney',\n",
       " 'best games from the 2016 season no spoilers please',\n",
       " 'reminder the 2nd best player for the 2 seed wc finalist 2015 houston rockets was donatas motiejunas ws 48 for qualified players',\n",
       " 'schefter bengals are signing cornerback torry mctyer to a one year deal per rosenhaussports he was not tendered yesterday as a restricted free agent',\n",
       " 'rapoport the jaguars signed te tyler eifert to a 2 year deal worth 15 5m source said the former first rounder is back with his old coach jay gruden and fills a big need in jax',\n",
       " 'what is the best in game dunk of all time',\n",
       " 'sb nation the shaq javale mcgee beef became so nasty their moms got involved',\n",
       " 'pelissero former eagles wr nelson agholor signed a one year veteran salary benefit deal with the raiders that included a 137 500 signing bonus source said it s worth 1 047 500 of which 887 500 is guaranteed',\n",
       " 'anyone know where i can watch the 2017 celtics wizards ecsf',\n",
       " 'the truth behind steph curry narratives',\n",
       " 'which nba player eats the most trout sandwiches',\n",
       " 'bigplayslay23 detroit ya ll have been so good to me amp my family i m going to miss all the fans amp showing the city love i appreciate the fans coaches staff amp city nothing but love amp respect to y all to my eagles fans ya boii is ready to work meekmill whats goooood eagles flyhigh',\n",
       " 'jameis it s been a great 5 seasons as a buccaneer all love and respect i love tampa and i look forward to seeing y all again in february sblv 2020vision dreamforever',\n",
       " 'michael rubin sixers ownership group 4 months ago there needs to be more pressure on wealthy to give back',\n",
       " 'rapoport source the colts are releasing pierre desir',\n",
       " 'criddle lamar jackson is the poor man s taysom hill it s not the other way around that s what we have in taysom that s why the saints aren t messing around he eventually will be taken care of bradypoppinga',\n",
       " 'pff bears are wishing they didn t trade for a star defensive end right now',\n",
       " 'schefter former jets wr robby anderson is signing a two year 20 million deal including 12 million in year one with the carolina panthers per source',\n",
       " 'mehta jets made an earnest effort to sign ol stefen wisniewski who played an integral role on the eagles super bowl team when joe douglas was in philly but he ultimately chose the steelers',\n",
       " 'from 1986 87 season to 1992 93 season michael jordan averaged 33 2 points 6 3 rebounds and 6 assists on 518 fg',\n",
       " 'richard jefferson dunks all over klay thompson',\n",
       " 'highlight jordy nelson sideline catch 2011',\n",
       " 'gridiron heights julian edelman tries to get tom brady to stay in new england parody',\n",
       " 'what are some good books to help get through the sport drought',\n",
       " 'garafolo jaguars re sign lb lerentee mccray',\n",
       " 'the best in game dunk ever belongs to dr j',\n",
       " 'will brady be able to elevate tampa bay with the current roster',\n",
       " 'charles oakley james dolan ordered by court to settle dispute over the phone on march 31',\n",
       " 'with the season in flux who would ve won the championship in your opinion and why',\n",
       " 'habib recognizing that fans might be hurting financially amid the pandemic the dolphins are offering fans the option of rolling over season ticket deposits to 2021',\n",
       " 'nagy if we re the bengals and the dolphins offer 3 first rounders for no 1 pick we take that deal joe burrow is a stud but cincy needs multiple first round impact type players justin herbert was awesome on off field for bengals staff at seniorbowl and could get him at no 5',\n",
       " 'highlight week 17 2017 i wish somebody would have took a video of the coaches on the sidelines because i could hear them they were like noooooo winston said but we scored that s how coaches are',\n",
       " 'the texans were the only team to make the playoffs in 2019 with a negative point differential but they also had the lowest point differential in the playoffs',\n",
       " 'has there been any moment in the last 20 years where 5 of the top 10 players in the nba played in the eastern conference',\n",
       " 'pelissero a fascinating deal that also includes a mountain of incentives and escalators that would pay marcus mariota like a starter if he plays and has success max value by my math 47 5 million',\n",
       " 'cj mccollum on ig live with damian lillard they said my pubes look like jamal murray s kd proceeds to catch a stray',\n",
       " 'lonzo ball and de aaron fox',\n",
       " 'highlights drew brees vs aaron rodgers',\n",
       " 'if your team ceased to exist today who would you start rooting for why',\n",
       " 'dimming down the lights',\n",
       " 'best games for a new person',\n",
       " 'you are the gm of a new team and are given the choice to pick two non qb aaron donald players to build your team around who do you go with and why',\n",
       " '2021 draft order in event of canceled season',\n",
       " 'moo a funny prop bet for 2020 would be whether the panthers give up more points in their division games than the 1 scoring d in the league in all games',\n",
       " 'schneier the nfc east has made it clear they want to win the los on d f cox dem lawrence j hargrave dex lawrence b graham l williams d tomlinson g mccoy m ioannidis kerrigan malik sweat barnett both hills j allen payne crawford giants cowboys eagles redskins',\n",
       " 'victor oladipo as thingamajig on the masked singer all performances',\n",
       " 'allen iverson with one of the most accurate bounce pass ever',\n",
       " 'new cba allows owner players to cash in on stadium sportsbooks',\n",
       " 'rapoport touched base with someone close to titans free agent cb logan ryan one of the top players available the versatile db is open to entertaining all offers and will consider a short term deal i m told he won t take less than 10m per year he earned last year',\n",
       " 'slay i do love lion fans i repeat i do love lion fans y all are the best',\n",
       " 'fann rapoport just named the seahawks as a potential suitor for todd gurley it sounds like he wants a chance to prove he s still got it he s already making 7 million this year sounds like a chance to play the rams twice a year could be intriguing for tgiii',\n",
       " '2020 nfl free agency top 10 players left on market and best landing spot for each',\n",
       " 'a complete breakdown of the office basketball game the ringer',\n",
       " 'since 2004 the vikings have made the playoffs 7 times each appearance was with a different starting quarterback',\n",
       " 'all nba teams based on which players would be the best at other sports',\n",
       " 'jeff green dunks all over kevin séraphin',\n",
       " 'who do you think is the most underrated player in the upcoming draft',\n",
       " 'john starks the dunk',\n",
       " 'sports trust advisors dallas bound congrats haha_cd6 legendslivehere dallascowboys',\n",
       " 'did the patriots really have an elite defense in the 2010s',\n",
       " 'is steph curry the most adorable superstar in the nba',\n",
       " 'james harden destroys javale mcgee',\n",
       " 'monty williams is an anagram for womanly limits head coach anagrams',\n",
       " 'palmer the patriots have only drafted 3 qbs in the 1st round in franchise history 1993 drew bledsoe 1st 63 60 with ne 4 3 in playoffs 1983 tony eason 15th 28 21 with ne 3 2 in playoffs 1971 jim plunkett 1st 23 38 with ne 0 playoff starts with ne',\n",
       " 'rapoport the saints added more than malcolm jenkins in the secondary signing dj swearinger to a 1 year 1 1m deal',\n",
       " 'toronto raptors nba finals game 2 opening tsn pregame opening narrated by chris bosh june 02 2019',\n",
       " 'schefter patriots g joe thuney signed his franchise tag tender per his agent mikemccartney7',\n",
       " 'klis i was just reassured what joe flacco said during his end of season press gathering at his broncos locker he does want to continue playing and will continue playing in 2020',\n",
       " 'which qb wr combo do you think will become prolific in the next year or so',\n",
       " 'hoopmixtapeblog steph curry goes at chris paul at cp3 camp in 2010',\n",
       " 'every team should play 2 neutral site games over the course of the season',\n",
       " 'fann why the seahawks should consider signing rb todd gurley',\n",
       " 'what should would the chiefs have done if damien williams didn t break the goal line in the super bowl 4th and inches down 3 2 46 remaining all 3 timeouts',\n",
       " 'who do you think will be a late round pick in this years class that will have a great impact',\n",
       " 'saints vikings 2017 nfc divisional full game was uploaded to the nfl youtube channel for free',\n",
       " 'caplan heck of a contract for new bills de mario addison he ll earn at least 13 25m 6m sb 5 25m base 2m rb in year one max 14m',\n",
       " 'report cam newton hungrier than ever after injuries cleared during physical',\n",
       " 'where does derozan fit now',\n",
       " '6 months ago the patriots beat the dolphins 43 0 and sports media started chalking them up to another super bowl appearance julian edelman is now the only receiver left that suited up that game',\n",
       " 'buccaneers tb x tb',\n",
       " 'kareem abdul jabbar has more wins in his career then the charlotte hornets do as a franchise',\n",
       " 'patrick beverley blocks lebron james',\n",
       " 'the 1991 eagles had 3 members of their defensive line be 1st team all pro and the 2012 49ers had 3 members of their linebackers corps be 1st team all pro has a secondary ever had 3 members be 1st team ap in a single season',\n",
       " 'official breakdown of the office basketball game',\n",
       " 'auman cameron brate remaining in tampa bay on restructured deal',\n",
       " 'paul george takes lance stephenson to moves com to beat the buzzer westbrook responds with lance s air guitar celebration',\n",
       " 'serious which superstar is was the biggest victim of circumstance team wise',\n",
       " 'tobias harris congratulates rookie matisse thybulle on ig for his career game last night that never happened',\n",
       " 'nba players with the worst facial hair',\n",
       " 'what opponents for your team next year make you go oh god no not this team',\n",
       " 'nick kwiatkoski thank you chicago',\n",
       " 'andrea bargnani since u been gone',\n",
       " 'schefter a statement from trent williams agent vincent taylor to espn',\n",
       " 'tomasson source said dominoes will need to fall before griffen ends up with a new team a lot will depend on where clowney signs and then griffen could end up being an option b for a team that doesn t get clowney',\n",
       " 'pelissero former packers fb danny vitale has agreed to terms with the patriots per his agent chriscabott of steinbergsports',\n",
       " 'if patrick mccaw wins 12 rings in his career would he make the hof',\n",
       " 'daniels pass rush help could be on the way for the patriots according to a source the patriots have shown interest and have had discussions with defensive lineman derek wolfe',\n",
       " 'pelissero the falcons released punter ryan allen today but are expected to re sign him per source procedural',\n",
       " 'schefter free agent linebacker james burgess is signing back with the jets on a one year deal per rosenhaussports',\n",
       " 'alvin kamara has caught exactly 81 receptions in each of his first three seasons in the league',\n",
       " 'silva nfl network s mikegarafolo on free agent melvin gordon he may have to wind up taking a 1 year deal on rumor of bills interest in gordon i do not believe he s going to end up as a buffalo bill',\n",
       " 'colts sign eight time pro bowl quarterback philip rivers',\n",
       " 'gordon hayward nba player on who s more toxic league of legends or nba players',\n",
       " 'i made basketball gm a basketball management video game that will help you get through your quarantine and it s free with no microtransactions or anything like that',\n",
       " 'does kd want to prove that he can win it on his own',\n",
       " 'ask an nba related question then edit it to make my answer look stupid',\n",
       " 'harmon back in january i spent some time with deandrehopkins one of the things i really wanted to ask him was how he s always been productive no matter what qb he played with this was his answer and what kyler murray can now look forward to it s really being his best friend',\n",
       " 'did kd and kyrie go to the nets just to dance on their bench',\n",
       " 'ama with ravens fb dl pat ricard',\n",
       " 'elijah hughes oranges killer 2020 nba draft prospect',\n",
       " 'almost 10 minutes of steph curry decimating the trailblazers in the 2019 western conference finals',\n",
       " 'fowler wr josh gordon is seeking reinstatement for the upcoming 2020 nfl season',\n",
       " 'doesn t the utah jazz and the denver nuggets seem like the same team',\n",
       " 'today marks two weeks since the suspension of the nba season',\n",
       " 'laine chris godwin and tom brady are working things out regarding who will wear the no 12 and there are no worries on godwin s end',\n",
       " 'mychal thompson on klay s relationship with steph he wants to go into the hall of fame with steph that s how close he feels to him',\n",
       " 'ricky davis triple double attempt off own rim i don t know what the rest of the video is but i can t stop laughing',\n",
       " 'jamario moon goes up for the rebound forgets gravity exists',\n",
       " 'what are some of the best value team friendly contracts of non rookie signings in the nfl',\n",
       " 'has the nfl or any of the teams ever put together a real time video of mic d up coordinator s calling plays in through a series of consecutive plays i ve always wanted to get into the mind of a coordinator while they contemplate every factor in the very brief time they have',\n",
       " 'if your favorite nba player had a sign taped on their back revealing their weakness what would it say',\n",
       " 'russell westbrook with his playoff career high 51 13 10 against the rockets 2017 playoffs game 2',\n",
       " 'this nba season could stretch into september brian windhorst get up',\n",
       " 'how the bucs got tom brady to leave the new england patriots for tampa bay',\n",
       " 'siciliano what if i told you tom brady is a buccaneer todd gurley is a falcon deandre hopkins is a cardinal melvin gordon is a bronco philip rivers is a colt tedd bridgewater is a panther a year ago nobody would have believed it',\n",
       " 'throwback bears matt nagy wins 2018 nfl coach of the year',\n",
       " 'pick6 a source close to the situation tells me the seahawks offer to jadeveon clowney was in fact for 13 million not the 18 5 million reported earlier teams offering right around 13 14 mill',\n",
       " 'lebron joins travis scott and drake on stage at a la concert',\n",
       " 'kawhi leonard tracked by helicopter in toronto et canada',\n",
       " 'pelissero traded the panthers sending qb kyle allen to the redskins per source',\n",
       " 'how happy are you with your team s management',\n",
       " 'why gordon hayward was an all star in utah',\n",
       " 'john tesh explains how he wrote the nba on nbc theme and recorded it on his answering machine and then plays it live with a full orchestra',\n",
       " 'yates redskins running backs under contract for 2020 adrian peterson derrius guice peyton barber bryce love josh ferguson',\n",
       " 'kyrie irving 57 points spurs full highlights 03 12 15 unbelievable',\n",
       " 'which wr prospect will be a star first',\n",
       " 'the indianapolis colts composed of players who grew up closest to indianapolis',\n",
       " '2019 nba finals game 1 introduction toronto raptors ft kyle lowry s pre game handshakes',\n",
       " 'oc quarantined without sports i made a bunch of nba jerseys with the in game pixel editor in animal crossing',\n",
       " 'it s been over 13 days since',\n",
       " 'who is jason white chocolate williams',\n",
       " 'jets free agency notebook where do things stand with robby anderson',\n",
       " 'rapoport another player making the jump to the nfl db dravon askew henry has agreed to a 2 year deal with the giants source said expect the cousin of revis24 who played for the new york guardians to compete for the nickel role',\n",
       " 'if the season gets cancelled what s the over under on how long before bill simmons counts it as the celtics winning the championship',\n",
       " 'glossary entry wonderlic',\n",
       " ...]"
      ]
     },
     "execution_count": 37,
     "metadata": {},
     "output_type": "execute_result"
    }
   ],
   "source": [
    "clean_train_data"
   ]
  },
  {
   "cell_type": "markdown",
   "metadata": {},
   "source": [
    "### Count Vectorizer"
   ]
  },
  {
   "cell_type": "code",
   "execution_count": 38,
   "metadata": {},
   "outputs": [],
   "source": [
    "# instantiate our CountVectorizer. This counts the number of appearances of all the words in our training data and\n",
    "# eliminates common english stop words. 5000 max features works well for our purposes (tested various numbers). Our\n",
    "# data is already preprocessed and tokenized manually earlier. ngram_range is 1,3, although all or nearly all our\n",
    "# features are single words\n",
    "\n",
    "vectorizer = CountVectorizer(analyzer=\"word\",\n",
    "                             tokenizer=None,\n",
    "                             preprocessor=None,\n",
    "                             stop_words='english',\n",
    "                             max_features=5000,\n",
    "                             ngram_range=(1, 3))"
   ]
  },
  {
   "cell_type": "code",
   "execution_count": 39,
   "metadata": {},
   "outputs": [],
   "source": [
    "# fit our training data and test data lists to our count_vectorizer\n",
    "\n",
    "train_data_features = vectorizer.fit_transform(clean_train_data)\n",
    "\n",
    "test_data_features = vectorizer.transform(clean_test_data)"
   ]
  },
  {
   "cell_type": "code",
   "execution_count": 40,
   "metadata": {},
   "outputs": [],
   "source": [
    "# convert to array\n",
    "\n",
    "train_data_features = train_data_features.toarray()"
   ]
  },
  {
   "cell_type": "code",
   "execution_count": 42,
   "metadata": {},
   "outputs": [
    {
     "data": {
      "text/plain": [
       "((1255, 5000), (419, 5000))"
      ]
     },
     "execution_count": 42,
     "metadata": {},
     "output_type": "execute_result"
    }
   ],
   "source": [
    "# check shapes\n",
    "\n",
    "train_data_features.shape, test_data_features.shape"
   ]
  },
  {
   "cell_type": "code",
   "execution_count": 43,
   "metadata": {
    "scrolled": true
   },
   "outputs": [],
   "source": [
    "# I wanted check that the features corpus was as expected - removed print statement for readability\n",
    "\n",
    "vocab = vectorizer.get_feature_names()"
   ]
  },
  {
   "cell_type": "code",
   "execution_count": 44,
   "metadata": {
    "scrolled": true
   },
   "outputs": [
    {
     "data": {
      "text/plain": [
       "['000',\n",
       " '00pm',\n",
       " '03',\n",
       " '03 19',\n",
       " '05m',\n",
       " '07',\n",
       " '10',\n",
       " '10 5m',\n",
       " '10 highest',\n",
       " '10 highest paid',\n",
       " '10 million',\n",
       " '10 players',\n",
       " '10 years',\n",
       " '100',\n",
       " '100 picks',\n",
       " '11',\n",
       " '114',\n",
       " '12',\n",
       " '13',\n",
       " '13 5m',\n",
       " '14',\n",
       " '14 assists',\n",
       " '14 assists quarter',\n",
       " '15',\n",
       " '15 rebounds',\n",
       " '150',\n",
       " '150 000',\n",
       " '15m',\n",
       " '15th',\n",
       " '16',\n",
       " '16m',\n",
       " '17',\n",
       " '17 game',\n",
       " '17 million',\n",
       " '18',\n",
       " '18 4m',\n",
       " '180',\n",
       " '19',\n",
       " '19 relief',\n",
       " '1983',\n",
       " '1986',\n",
       " '1988',\n",
       " '1991',\n",
       " '1992',\n",
       " '1993',\n",
       " '1994',\n",
       " '1996',\n",
       " '1997',\n",
       " '1998',\n",
       " '1m',\n",
       " '1m deal',\n",
       " '1st',\n",
       " '1st franchise',\n",
       " '1st franchise history',\n",
       " '1st round',\n",
       " '1st team',\n",
       " '1st team pro',\n",
       " '20',\n",
       " '20 million',\n",
       " '20 nba',\n",
       " '20 nba season',\n",
       " '20 percent',\n",
       " '20 season',\n",
       " '20 seconds',\n",
       " '20 years',\n",
       " '2000',\n",
       " '2000 present',\n",
       " '2000s',\n",
       " '2001',\n",
       " '2003',\n",
       " '2004',\n",
       " '2005',\n",
       " '2006',\n",
       " '2007',\n",
       " '2009',\n",
       " '2010',\n",
       " '2010s',\n",
       " '2011',\n",
       " '2012',\n",
       " '2013',\n",
       " '2013 nba',\n",
       " '2014',\n",
       " '2015',\n",
       " '2015 nfl',\n",
       " '2015 nfl draft',\n",
       " '2016',\n",
       " '2016 finals',\n",
       " '2017',\n",
       " '2017 2018',\n",
       " '2017 playoffs',\n",
       " '2017 playoffs scores',\n",
       " '2018',\n",
       " '2019',\n",
       " '2019 20',\n",
       " '2019 20 nba',\n",
       " '2019 20 season',\n",
       " '2019 2020',\n",
       " '2019 2020 season',\n",
       " '2019 season',\n",
       " '2020',\n",
       " '2020 4m',\n",
       " '2020 nba',\n",
       " '2020 nba draft',\n",
       " '2020 nfl',\n",
       " '2020 nfl free',\n",
       " '2020 season',\n",
       " '2020 season highlights',\n",
       " '2020 tokyo',\n",
       " '2020 tokyo olympics',\n",
       " '2021',\n",
       " '2021 draft',\n",
       " '2021 fifth',\n",
       " '2021 season',\n",
       " '21',\n",
       " '22',\n",
       " '226',\n",
       " '23',\n",
       " '24',\n",
       " '25',\n",
       " '25 million',\n",
       " '25 million deal',\n",
       " '250',\n",
       " '250 000',\n",
       " '25m',\n",
       " '25m gtd',\n",
       " '26',\n",
       " '26 years',\n",
       " '27',\n",
       " '28',\n",
       " '29',\n",
       " '29 fourth',\n",
       " '29 fourth quarter',\n",
       " '2m',\n",
       " '2nd',\n",
       " '30',\n",
       " '30 million',\n",
       " '31',\n",
       " '32',\n",
       " '32 teams',\n",
       " '34',\n",
       " '34 5m',\n",
       " '34 5m extension',\n",
       " '37',\n",
       " '37 points',\n",
       " '39',\n",
       " '3m',\n",
       " '3pt',\n",
       " '3rd',\n",
       " '3s',\n",
       " '40',\n",
       " '40 000',\n",
       " '40 90',\n",
       " '40 90 club',\n",
       " '41',\n",
       " '41 points',\n",
       " '42',\n",
       " '44',\n",
       " '46',\n",
       " '48',\n",
       " '49',\n",
       " '49ers',\n",
       " '4m',\n",
       " '4th',\n",
       " '4th quarter',\n",
       " '50',\n",
       " '50 40',\n",
       " '50 40 90',\n",
       " '50 point',\n",
       " '50 points',\n",
       " '500',\n",
       " '500 000',\n",
       " '500k',\n",
       " '50k',\n",
       " '52',\n",
       " '53',\n",
       " '53 points',\n",
       " '53 points 29',\n",
       " '58',\n",
       " '59',\n",
       " '59 points',\n",
       " '5m',\n",
       " '5m extension',\n",
       " '5m fully',\n",
       " '5m fully guaranteed',\n",
       " '5m guaranteed',\n",
       " '5th',\n",
       " '5th day',\n",
       " '5th round',\n",
       " '5th round pick',\n",
       " '60',\n",
       " '61',\n",
       " '63',\n",
       " '6m',\n",
       " '70',\n",
       " '70 points',\n",
       " '75',\n",
       " '750k',\n",
       " '75m',\n",
       " '76ers',\n",
       " '80m']"
      ]
     },
     "execution_count": 44,
     "metadata": {},
     "output_type": "execute_result"
    }
   ],
   "source": [
    "vocab[0:200]"
   ]
  },
  {
   "cell_type": "markdown",
   "metadata": {},
   "source": [
    "## MODELING"
   ]
  },
  {
   "cell_type": "markdown",
   "metadata": {},
   "source": [
    "### Logistic Regression"
   ]
  },
  {
   "cell_type": "code",
   "execution_count": 45,
   "metadata": {},
   "outputs": [],
   "source": [
    "from sklearn.linear_model import LogisticRegression"
   ]
  },
  {
   "cell_type": "code",
   "execution_count": 46,
   "metadata": {},
   "outputs": [],
   "source": [
    "# fit logistic regression model\n",
    "\n",
    "lr = LogisticRegression(penalty='l2')"
   ]
  },
  {
   "cell_type": "code",
   "execution_count": 47,
   "metadata": {},
   "outputs": [
    {
     "data": {
      "text/plain": [
       "((1255, 5000), (1255,))"
      ]
     },
     "execution_count": 47,
     "metadata": {},
     "output_type": "execute_result"
    }
   ],
   "source": [
    "# shape check\n",
    "\n",
    "train_data_features.shape, y_train.shape"
   ]
  },
  {
   "cell_type": "code",
   "execution_count": 48,
   "metadata": {},
   "outputs": [
    {
     "name": "stderr",
     "output_type": "stream",
     "text": [
      "/opt/anaconda3/lib/python3.7/site-packages/sklearn/linear_model/logistic.py:432: FutureWarning: Default solver will be changed to 'lbfgs' in 0.22. Specify a solver to silence this warning.\n",
      "  FutureWarning)\n"
     ]
    },
    {
     "data": {
      "text/plain": [
       "LogisticRegression(C=1.0, class_weight=None, dual=False, fit_intercept=True,\n",
       "                   intercept_scaling=1, l1_ratio=None, max_iter=100,\n",
       "                   multi_class='warn', n_jobs=None, penalty='l2',\n",
       "                   random_state=None, solver='warn', tol=0.0001, verbose=0,\n",
       "                   warm_start=False)"
      ]
     },
     "execution_count": 48,
     "metadata": {},
     "output_type": "execute_result"
    }
   ],
   "source": [
    "lr.fit(train_data_features, y_train)"
   ]
  },
  {
   "cell_type": "code",
   "execution_count": 49,
   "metadata": {},
   "outputs": [
    {
     "data": {
      "text/plain": [
       "0.9920318725099602"
      ]
     },
     "execution_count": 49,
     "metadata": {},
     "output_type": "execute_result"
    }
   ],
   "source": [
    "lr.score(train_data_features, y_train)"
   ]
  },
  {
   "cell_type": "code",
   "execution_count": 50,
   "metadata": {},
   "outputs": [
    {
     "data": {
      "text/plain": [
       "0.9045346062052506"
      ]
     },
     "execution_count": 50,
     "metadata": {},
     "output_type": "execute_result"
    }
   ],
   "source": [
    "lr.score(test_data_features, y_test)"
   ]
  },
  {
   "cell_type": "markdown",
   "metadata": {},
   "source": [
    "### Feature comparison"
   ]
  },
  {
   "cell_type": "markdown",
   "metadata": {},
   "source": [
    "Creates a dataframe that matches features to coefficients"
   ]
  },
  {
   "cell_type": "code",
   "execution_count": 51,
   "metadata": {},
   "outputs": [],
   "source": [
    "coef_list = lr.coef_.tolist()"
   ]
  },
  {
   "cell_type": "code",
   "execution_count": 52,
   "metadata": {},
   "outputs": [],
   "source": [
    "coef_list = coef_list[0]"
   ]
  },
  {
   "cell_type": "code",
   "execution_count": 53,
   "metadata": {},
   "outputs": [],
   "source": [
    "coef_df = pd.DataFrame({'features': vectorizer.get_feature_names(),\n",
    "                        'coefs': coef_list})"
   ]
  },
  {
   "cell_type": "code",
   "execution_count": 59,
   "metadata": {
    "scrolled": true
   },
   "outputs": [
    {
     "data": {
      "text/html": [
       "<div>\n",
       "<style scoped>\n",
       "    .dataframe tbody tr th:only-of-type {\n",
       "        vertical-align: middle;\n",
       "    }\n",
       "\n",
       "    .dataframe tbody tr th {\n",
       "        vertical-align: top;\n",
       "    }\n",
       "\n",
       "    .dataframe thead th {\n",
       "        text-align: right;\n",
       "    }\n",
       "</style>\n",
       "<table border=\"1\" class=\"dataframe\">\n",
       "  <thead>\n",
       "    <tr style=\"text-align: right;\">\n",
       "      <th></th>\n",
       "      <th>features</th>\n",
       "      <th>coefs</th>\n",
       "    </tr>\n",
       "  </thead>\n",
       "  <tbody>\n",
       "    <tr>\n",
       "      <td>234</td>\n",
       "      <td>agent</td>\n",
       "      <td>0.639090</td>\n",
       "    </tr>\n",
       "    <tr>\n",
       "      <td>364</td>\n",
       "      <td>bears</td>\n",
       "      <td>0.642491</td>\n",
       "    </tr>\n",
       "    <tr>\n",
       "      <td>431</td>\n",
       "      <td>bowl</td>\n",
       "      <td>0.648901</td>\n",
       "    </tr>\n",
       "    <tr>\n",
       "      <td>2501</td>\n",
       "      <td>patricia</td>\n",
       "      <td>0.650753</td>\n",
       "    </tr>\n",
       "    <tr>\n",
       "      <td>2227</td>\n",
       "      <td>million</td>\n",
       "      <td>0.652544</td>\n",
       "    </tr>\n",
       "    <tr>\n",
       "      <td>1091</td>\n",
       "      <td>gm</td>\n",
       "      <td>0.669120</td>\n",
       "    </tr>\n",
       "    <tr>\n",
       "      <td>2519</td>\n",
       "      <td>people</td>\n",
       "      <td>0.678183</td>\n",
       "    </tr>\n",
       "    <tr>\n",
       "      <td>637</td>\n",
       "      <td>colts</td>\n",
       "      <td>0.679068</td>\n",
       "    </tr>\n",
       "    <tr>\n",
       "      <td>870</td>\n",
       "      <td>eagles</td>\n",
       "      <td>0.686236</td>\n",
       "    </tr>\n",
       "    <tr>\n",
       "      <td>4706</td>\n",
       "      <td>thank</td>\n",
       "      <td>0.697081</td>\n",
       "    </tr>\n",
       "    <tr>\n",
       "      <td>3327</td>\n",
       "      <td>qbs</td>\n",
       "      <td>0.698750</td>\n",
       "    </tr>\n",
       "    <tr>\n",
       "      <td>3392</td>\n",
       "      <td>quarterbacks</td>\n",
       "      <td>0.711544</td>\n",
       "    </tr>\n",
       "    <tr>\n",
       "      <td>4490</td>\n",
       "      <td>signing</td>\n",
       "      <td>0.723162</td>\n",
       "    </tr>\n",
       "    <tr>\n",
       "      <td>1032</td>\n",
       "      <td>free</td>\n",
       "      <td>0.738092</td>\n",
       "    </tr>\n",
       "    <tr>\n",
       "      <td>2530</td>\n",
       "      <td>peyton</td>\n",
       "      <td>0.738813</td>\n",
       "    </tr>\n",
       "    <tr>\n",
       "      <td>99</td>\n",
       "      <td>2020</td>\n",
       "      <td>0.739511</td>\n",
       "    </tr>\n",
       "    <tr>\n",
       "      <td>4924</td>\n",
       "      <td>winston</td>\n",
       "      <td>0.740384</td>\n",
       "    </tr>\n",
       "    <tr>\n",
       "      <td>4969</td>\n",
       "      <td>year</td>\n",
       "      <td>0.747164</td>\n",
       "    </tr>\n",
       "    <tr>\n",
       "      <td>4614</td>\n",
       "      <td>sunday</td>\n",
       "      <td>0.757017</td>\n",
       "    </tr>\n",
       "    <tr>\n",
       "      <td>1315</td>\n",
       "      <td>jets</td>\n",
       "      <td>0.758818</td>\n",
       "    </tr>\n",
       "    <tr>\n",
       "      <td>1736</td>\n",
       "      <td>manning</td>\n",
       "      <td>0.759450</td>\n",
       "    </tr>\n",
       "    <tr>\n",
       "      <td>950</td>\n",
       "      <td>falcons</td>\n",
       "      <td>0.770004</td>\n",
       "    </tr>\n",
       "    <tr>\n",
       "      <td>468</td>\n",
       "      <td>buccaneers</td>\n",
       "      <td>0.772280</td>\n",
       "    </tr>\n",
       "    <tr>\n",
       "      <td>1061</td>\n",
       "      <td>games decade</td>\n",
       "      <td>0.774857</td>\n",
       "    </tr>\n",
       "    <tr>\n",
       "      <td>4705</td>\n",
       "      <td>texans</td>\n",
       "      <td>0.776364</td>\n",
       "    </tr>\n",
       "    <tr>\n",
       "      <td>4527</td>\n",
       "      <td>source</td>\n",
       "      <td>0.788823</td>\n",
       "    </tr>\n",
       "    <tr>\n",
       "      <td>4769</td>\n",
       "      <td>trade</td>\n",
       "      <td>0.793145</td>\n",
       "    </tr>\n",
       "    <tr>\n",
       "      <td>4637</td>\n",
       "      <td>talk</td>\n",
       "      <td>0.796563</td>\n",
       "    </tr>\n",
       "    <tr>\n",
       "      <td>4483</td>\n",
       "      <td>sign</td>\n",
       "      <td>0.806460</td>\n",
       "    </tr>\n",
       "    <tr>\n",
       "      <td>4856</td>\n",
       "      <td>vikings</td>\n",
       "      <td>0.808443</td>\n",
       "    </tr>\n",
       "    <tr>\n",
       "      <td>822</td>\n",
       "      <td>dolphins</td>\n",
       "      <td>0.827121</td>\n",
       "    </tr>\n",
       "    <tr>\n",
       "      <td>543</td>\n",
       "      <td>cb</td>\n",
       "      <td>0.854609</td>\n",
       "    </tr>\n",
       "    <tr>\n",
       "      <td>1016</td>\n",
       "      <td>football</td>\n",
       "      <td>0.865838</td>\n",
       "    </tr>\n",
       "    <tr>\n",
       "      <td>4508</td>\n",
       "      <td>slay</td>\n",
       "      <td>0.885522</td>\n",
       "    </tr>\n",
       "    <tr>\n",
       "      <td>2485</td>\n",
       "      <td>panthers</td>\n",
       "      <td>0.888401</td>\n",
       "    </tr>\n",
       "    <tr>\n",
       "      <td>456</td>\n",
       "      <td>broncos</td>\n",
       "      <td>0.898133</td>\n",
       "    </tr>\n",
       "    <tr>\n",
       "      <td>4405</td>\n",
       "      <td>schefter</td>\n",
       "      <td>0.918472</td>\n",
       "    </tr>\n",
       "    <tr>\n",
       "      <td>837</td>\n",
       "      <td>draft</td>\n",
       "      <td>0.928480</td>\n",
       "    </tr>\n",
       "    <tr>\n",
       "      <td>695</td>\n",
       "      <td>cowboys</td>\n",
       "      <td>0.993505</td>\n",
       "    </tr>\n",
       "    <tr>\n",
       "      <td>744</td>\n",
       "      <td>deal</td>\n",
       "      <td>1.005000</td>\n",
       "    </tr>\n",
       "    <tr>\n",
       "      <td>2365</td>\n",
       "      <td>new</td>\n",
       "      <td>1.050152</td>\n",
       "    </tr>\n",
       "    <tr>\n",
       "      <td>434</td>\n",
       "      <td>brady</td>\n",
       "      <td>1.055843</td>\n",
       "    </tr>\n",
       "    <tr>\n",
       "      <td>1147</td>\n",
       "      <td>gurley</td>\n",
       "      <td>1.125138</td>\n",
       "    </tr>\n",
       "    <tr>\n",
       "      <td>572</td>\n",
       "      <td>chargers</td>\n",
       "      <td>1.183059</td>\n",
       "    </tr>\n",
       "    <tr>\n",
       "      <td>2504</td>\n",
       "      <td>patriots</td>\n",
       "      <td>1.188604</td>\n",
       "    </tr>\n",
       "    <tr>\n",
       "      <td>3483</td>\n",
       "      <td>rams</td>\n",
       "      <td>1.203755</td>\n",
       "    </tr>\n",
       "    <tr>\n",
       "      <td>492</td>\n",
       "      <td>cam</td>\n",
       "      <td>1.294548</td>\n",
       "    </tr>\n",
       "    <tr>\n",
       "      <td>3257</td>\n",
       "      <td>qb</td>\n",
       "      <td>1.315252</td>\n",
       "    </tr>\n",
       "    <tr>\n",
       "      <td>4948</td>\n",
       "      <td>wr</td>\n",
       "      <td>1.368735</td>\n",
       "    </tr>\n",
       "    <tr>\n",
       "      <td>2384</td>\n",
       "      <td>nfl</td>\n",
       "      <td>2.577656</td>\n",
       "    </tr>\n",
       "  </tbody>\n",
       "</table>\n",
       "</div>"
      ],
      "text/plain": [
       "          features     coefs\n",
       "234          agent  0.639090\n",
       "364          bears  0.642491\n",
       "431           bowl  0.648901\n",
       "2501      patricia  0.650753\n",
       "2227       million  0.652544\n",
       "1091            gm  0.669120\n",
       "2519        people  0.678183\n",
       "637          colts  0.679068\n",
       "870         eagles  0.686236\n",
       "4706         thank  0.697081\n",
       "3327           qbs  0.698750\n",
       "3392  quarterbacks  0.711544\n",
       "4490       signing  0.723162\n",
       "1032          free  0.738092\n",
       "2530        peyton  0.738813\n",
       "99            2020  0.739511\n",
       "4924       winston  0.740384\n",
       "4969          year  0.747164\n",
       "4614        sunday  0.757017\n",
       "1315          jets  0.758818\n",
       "1736       manning  0.759450\n",
       "950        falcons  0.770004\n",
       "468     buccaneers  0.772280\n",
       "1061  games decade  0.774857\n",
       "4705        texans  0.776364\n",
       "4527        source  0.788823\n",
       "4769         trade  0.793145\n",
       "4637          talk  0.796563\n",
       "4483          sign  0.806460\n",
       "4856       vikings  0.808443\n",
       "822       dolphins  0.827121\n",
       "543             cb  0.854609\n",
       "1016      football  0.865838\n",
       "4508          slay  0.885522\n",
       "2485      panthers  0.888401\n",
       "456        broncos  0.898133\n",
       "4405      schefter  0.918472\n",
       "837          draft  0.928480\n",
       "695        cowboys  0.993505\n",
       "744           deal  1.005000\n",
       "2365           new  1.050152\n",
       "434          brady  1.055843\n",
       "1147        gurley  1.125138\n",
       "572       chargers  1.183059\n",
       "2504      patriots  1.188604\n",
       "3483          rams  1.203755\n",
       "492            cam  1.294548\n",
       "3257            qb  1.315252\n",
       "4948            wr  1.368735\n",
       "2384           nfl  2.577656"
      ]
     },
     "execution_count": 59,
     "metadata": {},
     "output_type": "execute_result"
    }
   ],
   "source": [
    "coef_df.sort_values(by = ['coefs']).tail(50)"
   ]
  },
  {
   "cell_type": "markdown",
   "metadata": {},
   "source": [
    "### Let's throw out these unfair words and rerun"
   ]
  },
  {
   "cell_type": "code",
   "execution_count": 60,
   "metadata": {},
   "outputs": [],
   "source": [
    "sw = set(stopwords.words('english'))\n",
    "\n",
    "extra_stopwords = ['nba', 'basketball', 'football', 'nfl']\n",
    "\n",
    "sw.update(extra_stopwords)"
   ]
  },
  {
   "cell_type": "code",
   "execution_count": 61,
   "metadata": {},
   "outputs": [
    {
     "data": {
      "text/plain": [
       "((1255, 5000), (419, 5000))"
      ]
     },
     "execution_count": 61,
     "metadata": {},
     "output_type": "execute_result"
    }
   ],
   "source": [
    "vectorizer = CountVectorizer(analyzer = \"word\",\n",
    "                             tokenizer = None,\n",
    "                             preprocessor = None,\n",
    "                             stop_words = sw,\n",
    "                             max_features = 5000,\n",
    "                             ngram_range = (1, 3))\n",
    "\n",
    "train_data_features = vectorizer.fit_transform(clean_train_data)\n",
    "\n",
    "test_data_features = vectorizer.transform(clean_test_data)\n",
    "\n",
    "train_data_features = train_data_features.toarray()\n",
    "\n",
    "train_data_features.shape, test_data_features.shape"
   ]
  },
  {
   "cell_type": "code",
   "execution_count": 62,
   "metadata": {},
   "outputs": [
    {
     "name": "stderr",
     "output_type": "stream",
     "text": [
      "/opt/anaconda3/lib/python3.7/site-packages/sklearn/linear_model/logistic.py:432: FutureWarning: Default solver will be changed to 'lbfgs' in 0.22. Specify a solver to silence this warning.\n",
      "  FutureWarning)\n"
     ]
    },
    {
     "data": {
      "text/plain": [
       "LogisticRegression(C=1.0, class_weight=None, dual=False, fit_intercept=True,\n",
       "                   intercept_scaling=1, l1_ratio=None, max_iter=100,\n",
       "                   multi_class='warn', n_jobs=None, penalty='l2',\n",
       "                   random_state=None, solver='warn', tol=0.0001, verbose=0,\n",
       "                   warm_start=False)"
      ]
     },
     "execution_count": 62,
     "metadata": {},
     "output_type": "execute_result"
    }
   ],
   "source": [
    "lr.fit(train_data_features, y_train)"
   ]
  },
  {
   "cell_type": "code",
   "execution_count": 63,
   "metadata": {},
   "outputs": [
    {
     "data": {
      "text/plain": [
       "0.9896414342629483"
      ]
     },
     "execution_count": 63,
     "metadata": {},
     "output_type": "execute_result"
    }
   ],
   "source": [
    "lr.score(train_data_features, y_train)"
   ]
  },
  {
   "cell_type": "code",
   "execution_count": 64,
   "metadata": {},
   "outputs": [
    {
     "data": {
      "text/plain": [
       "0.8591885441527446"
      ]
     },
     "execution_count": 64,
     "metadata": {},
     "output_type": "execute_result"
    }
   ],
   "source": [
    "lr.score(test_data_features, y_test)"
   ]
  },
  {
   "cell_type": "code",
   "execution_count": null,
   "metadata": {
    "scrolled": true
   },
   "outputs": [],
   "source": [
    "coef_list = lr.coef_.tolist()\n",
    "coef_list = coef_list[0]\n",
    "\n",
    "coef_df = pd.DataFrame({'features' : vectorizer.get_feature_names(),\n",
    "                       'coefs' : coef_list})\n",
    "\n",
    "coef_df.sort_values(by = ['coefs'])"
   ]
  },
  {
   "cell_type": "markdown",
   "metadata": {},
   "source": [
    "### Decision Tree"
   ]
  },
  {
   "cell_type": "code",
   "execution_count": 65,
   "metadata": {},
   "outputs": [],
   "source": [
    "from sklearn.tree import DecisionTreeClassifier"
   ]
  },
  {
   "cell_type": "code",
   "execution_count": 66,
   "metadata": {},
   "outputs": [],
   "source": [
    "tree = DecisionTreeClassifier()"
   ]
  },
  {
   "cell_type": "code",
   "execution_count": 67,
   "metadata": {},
   "outputs": [
    {
     "data": {
      "text/plain": [
       "DecisionTreeClassifier(class_weight=None, criterion='gini', max_depth=None,\n",
       "                       max_features=None, max_leaf_nodes=None,\n",
       "                       min_impurity_decrease=0.0, min_impurity_split=None,\n",
       "                       min_samples_leaf=1, min_samples_split=2,\n",
       "                       min_weight_fraction_leaf=0.0, presort=False,\n",
       "                       random_state=None, splitter='best')"
      ]
     },
     "execution_count": 67,
     "metadata": {},
     "output_type": "execute_result"
    }
   ],
   "source": [
    "tree.fit(train_data_features, y_train)"
   ]
  },
  {
   "cell_type": "code",
   "execution_count": 68,
   "metadata": {},
   "outputs": [
    {
     "data": {
      "text/plain": [
       "0.998406374501992"
      ]
     },
     "execution_count": 68,
     "metadata": {},
     "output_type": "execute_result"
    }
   ],
   "source": [
    "tree.score(train_data_features, y_train)"
   ]
  },
  {
   "cell_type": "code",
   "execution_count": 69,
   "metadata": {},
   "outputs": [
    {
     "data": {
      "text/plain": [
       "0.7995226730310262"
      ]
     },
     "execution_count": 69,
     "metadata": {},
     "output_type": "execute_result"
    }
   ],
   "source": [
    "tree.score(test_data_features, y_test)"
   ]
  },
  {
   "cell_type": "markdown",
   "metadata": {},
   "source": [
    "### Random Forest"
   ]
  },
  {
   "cell_type": "code",
   "execution_count": 70,
   "metadata": {},
   "outputs": [],
   "source": [
    "from sklearn.ensemble import RandomForestClassifier"
   ]
  },
  {
   "cell_type": "code",
   "execution_count": 75,
   "metadata": {},
   "outputs": [],
   "source": [
    "forest = RandomForestClassifier(n_estimators = 1000)"
   ]
  },
  {
   "cell_type": "code",
   "execution_count": 76,
   "metadata": {},
   "outputs": [
    {
     "data": {
      "text/plain": [
       "RandomForestClassifier(bootstrap=True, class_weight=None, criterion='gini',\n",
       "                       max_depth=None, max_features='auto', max_leaf_nodes=None,\n",
       "                       min_impurity_decrease=0.0, min_impurity_split=None,\n",
       "                       min_samples_leaf=1, min_samples_split=2,\n",
       "                       min_weight_fraction_leaf=0.0, n_estimators=1000,\n",
       "                       n_jobs=None, oob_score=False, random_state=None,\n",
       "                       verbose=0, warm_start=False)"
      ]
     },
     "execution_count": 76,
     "metadata": {},
     "output_type": "execute_result"
    }
   ],
   "source": [
    "forest.fit(train_data_features, y_train)"
   ]
  },
  {
   "cell_type": "code",
   "execution_count": 77,
   "metadata": {},
   "outputs": [
    {
     "data": {
      "text/plain": [
       "0.998406374501992"
      ]
     },
     "execution_count": 77,
     "metadata": {},
     "output_type": "execute_result"
    }
   ],
   "source": [
    "forest.score(train_data_features, y_train)"
   ]
  },
  {
   "cell_type": "code",
   "execution_count": 78,
   "metadata": {},
   "outputs": [
    {
     "data": {
      "text/plain": [
       "0.8424821002386634"
      ]
     },
     "execution_count": 78,
     "metadata": {},
     "output_type": "execute_result"
    }
   ],
   "source": [
    "forest.score(test_data_features, y_test)"
   ]
  },
  {
   "cell_type": "markdown",
   "metadata": {},
   "source": [
    "###  Matrix on Logistic Regression"
   ]
  },
  {
   "cell_type": "code",
   "execution_count": 79,
   "metadata": {},
   "outputs": [],
   "source": [
    "from sklearn.metrics import confusion_matrix"
   ]
  },
  {
   "cell_type": "code",
   "execution_count": 80,
   "metadata": {},
   "outputs": [],
   "source": [
    "y_pred = lr.predict(test_data_features)"
   ]
  },
  {
   "cell_type": "code",
   "execution_count": 81,
   "metadata": {},
   "outputs": [],
   "source": [
    "cm = confusion_matrix(y_test, y_pred)"
   ]
  },
  {
   "cell_type": "code",
   "execution_count": 82,
   "metadata": {},
   "outputs": [],
   "source": [
    "cm_df = pd.DataFrame(cm,\n",
    "                    columns=['predict_neg', 'predict_pos'],\n",
    "                    index = ['actual_neg', 'actual_pos'])"
   ]
  },
  {
   "cell_type": "code",
   "execution_count": 83,
   "metadata": {},
   "outputs": [
    {
     "data": {
      "text/html": [
       "<div>\n",
       "<style scoped>\n",
       "    .dataframe tbody tr th:only-of-type {\n",
       "        vertical-align: middle;\n",
       "    }\n",
       "\n",
       "    .dataframe tbody tr th {\n",
       "        vertical-align: top;\n",
       "    }\n",
       "\n",
       "    .dataframe thead th {\n",
       "        text-align: right;\n",
       "    }\n",
       "</style>\n",
       "<table border=\"1\" class=\"dataframe\">\n",
       "  <thead>\n",
       "    <tr style=\"text-align: right;\">\n",
       "      <th></th>\n",
       "      <th>predict_neg</th>\n",
       "      <th>predict_pos</th>\n",
       "    </tr>\n",
       "  </thead>\n",
       "  <tbody>\n",
       "    <tr>\n",
       "      <td>actual_neg</td>\n",
       "      <td>173</td>\n",
       "      <td>23</td>\n",
       "    </tr>\n",
       "    <tr>\n",
       "      <td>actual_pos</td>\n",
       "      <td>36</td>\n",
       "      <td>187</td>\n",
       "    </tr>\n",
       "  </tbody>\n",
       "</table>\n",
       "</div>"
      ],
      "text/plain": [
       "            predict_neg  predict_pos\n",
       "actual_neg          173           23\n",
       "actual_pos           36          187"
      ]
     },
     "execution_count": 83,
     "metadata": {},
     "output_type": "execute_result"
    }
   ],
   "source": [
    "cm_df"
   ]
  },
  {
   "cell_type": "markdown",
   "metadata": {},
   "source": [
    "## Checking where our model failed"
   ]
  },
  {
   "cell_type": "code",
   "execution_count": 84,
   "metadata": {},
   "outputs": [],
   "source": [
    "comparison_df = pd.DataFrame({'y_actual' : y_test,\n",
    "             'y_predicted' : y_pred})"
   ]
  },
  {
   "cell_type": "code",
   "execution_count": 85,
   "metadata": {},
   "outputs": [],
   "source": [
    "mismatch_df = comparison_df[comparison_df['y_actual'] != comparison_df['y_predicted']]"
   ]
  },
  {
   "cell_type": "code",
   "execution_count": 86,
   "metadata": {},
   "outputs": [
    {
     "name": "stderr",
     "output_type": "stream",
     "text": [
      "/opt/anaconda3/lib/python3.7/site-packages/ipykernel_launcher.py:1: FutureWarning: Sorting because non-concatenation axis is not aligned. A future version\n",
      "of pandas will change to not sort by default.\n",
      "\n",
      "To accept the future behavior, pass 'sort=False'.\n",
      "\n",
      "To retain the current behavior and silence the warning, pass 'sort=True'.\n",
      "\n",
      "  \"\"\"Entry point for launching an IPython kernel.\n"
     ]
    }
   ],
   "source": [
    "mismatch2_df = pd.concat([mismatch_df, X_test], axis = 1)"
   ]
  },
  {
   "cell_type": "code",
   "execution_count": 87,
   "metadata": {},
   "outputs": [],
   "source": [
    "# All incorrect predictions with titles\n",
    "\n",
    "mismatches = mismatch2_df.dropna()"
   ]
  },
  {
   "cell_type": "code",
   "execution_count": 88,
   "metadata": {
    "scrolled": true
   },
   "outputs": [
    {
     "data": {
      "text/html": [
       "<div>\n",
       "<style scoped>\n",
       "    .dataframe tbody tr th:only-of-type {\n",
       "        vertical-align: middle;\n",
       "    }\n",
       "\n",
       "    .dataframe tbody tr th {\n",
       "        vertical-align: top;\n",
       "    }\n",
       "\n",
       "    .dataframe thead th {\n",
       "        text-align: right;\n",
       "    }\n",
       "</style>\n",
       "<table border=\"1\" class=\"dataframe\">\n",
       "  <thead>\n",
       "    <tr style=\"text-align: right;\">\n",
       "      <th></th>\n",
       "      <th>y_actual</th>\n",
       "      <th>y_predicted</th>\n",
       "      <th>title</th>\n",
       "    </tr>\n",
       "  </thead>\n",
       "  <tbody>\n",
       "    <tr>\n",
       "      <td>t3_fkz992</td>\n",
       "      <td>nfl</td>\n",
       "      <td>nba</td>\n",
       "      <td>michael silver plan is for stidham to start next season</td>\n",
       "    </tr>\n",
       "    <tr>\n",
       "      <td>t3_flddeb</td>\n",
       "      <td>nfl</td>\n",
       "      <td>nba</td>\n",
       "      <td>happy birthday andy reid</td>\n",
       "    </tr>\n",
       "    <tr>\n",
       "      <td>t3_fle9mn</td>\n",
       "      <td>nfl</td>\n",
       "      <td>nba</td>\n",
       "      <td>ochocinco jeffokudah you ready to be a lion</td>\n",
       "    </tr>\n",
       "    <tr>\n",
       "      <td>t3_flg90k</td>\n",
       "      <td>nfl</td>\n",
       "      <td>nba</td>\n",
       "      <td>nfl network top 10 quarterback duels</td>\n",
       "    </tr>\n",
       "    <tr>\n",
       "      <td>t3_flhays</td>\n",
       "      <td>nfl</td>\n",
       "      <td>nba</td>\n",
       "      <td>seahawks kicking the tires on multiple veteran pass rushers</td>\n",
       "    </tr>\n",
       "    <tr>\n",
       "      <td>t3_flxgjm</td>\n",
       "      <td>nfl</td>\n",
       "      <td>nba</td>\n",
       "      <td>which qb would you least like belichick to have</td>\n",
       "    </tr>\n",
       "    <tr>\n",
       "      <td>t3_flxug7</td>\n",
       "      <td>nfl</td>\n",
       "      <td>nba</td>\n",
       "      <td>can a receiver tackle or contact an opposing player while in possession on purpose</td>\n",
       "    </tr>\n",
       "    <tr>\n",
       "      <td>t3_fly8mb</td>\n",
       "      <td>nfl</td>\n",
       "      <td>nba</td>\n",
       "      <td>salary cap info</td>\n",
       "    </tr>\n",
       "    <tr>\n",
       "      <td>t3_fm0lxo</td>\n",
       "      <td>nfl</td>\n",
       "      <td>nba</td>\n",
       "      <td>finn espn will air in full the academy award winning 30 for 30 documentary o j made in america over four nights in primetime from march 23 26 begins at 7 p m each night no exaggeration might be the best thing i ve ever watched on television</td>\n",
       "    </tr>\n",
       "    <tr>\n",
       "      <td>t3_fm83u3</td>\n",
       "      <td>nfl</td>\n",
       "      <td>nba</td>\n",
       "      <td>besides kyler murray who are some of the best multi sport athletes in the nfl</td>\n",
       "    </tr>\n",
       "    <tr>\n",
       "      <td>t3_fmen4x</td>\n",
       "      <td>nfl</td>\n",
       "      <td>nba</td>\n",
       "      <td>biggest draft steal of all time</td>\n",
       "    </tr>\n",
       "    <tr>\n",
       "      <td>t3_fmhnm1</td>\n",
       "      <td>nfl</td>\n",
       "      <td>nba</td>\n",
       "      <td>chris matthews sb49 highlights</td>\n",
       "    </tr>\n",
       "    <tr>\n",
       "      <td>t3_fmi3bj</td>\n",
       "      <td>nfl</td>\n",
       "      <td>nba</td>\n",
       "      <td>archived combine broadcasts</td>\n",
       "    </tr>\n",
       "    <tr>\n",
       "      <td>t3_fmjtkq</td>\n",
       "      <td>nfl</td>\n",
       "      <td>nba</td>\n",
       "      <td>what player do you think would have been great but had their potential completely wasted by the team they were on</td>\n",
       "    </tr>\n",
       "    <tr>\n",
       "      <td>t3_fmkzd0</td>\n",
       "      <td>nfl</td>\n",
       "      <td>nba</td>\n",
       "      <td>would you rather have the bosa brothers or the watt brothers on your team for the upcoming season</td>\n",
       "    </tr>\n",
       "    <tr>\n",
       "      <td>t3_fml7ly</td>\n",
       "      <td>nfl</td>\n",
       "      <td>nba</td>\n",
       "      <td>is there anyone in the nfl you are surprised is still playing</td>\n",
       "    </tr>\n",
       "    <tr>\n",
       "      <td>t3_fmo0su</td>\n",
       "      <td>nfl</td>\n",
       "      <td>nba</td>\n",
       "      <td>howe something would have to change for the pats to turn their attention to andy dalton he hasn t been discussed among the pats immediate plans</td>\n",
       "    </tr>\n",
       "    <tr>\n",
       "      <td>t3_fmsd9b</td>\n",
       "      <td>nfl</td>\n",
       "      <td>nba</td>\n",
       "      <td>i might be in the minority on this but i love the nfl intros promos teaser before games does anyone else</td>\n",
       "    </tr>\n",
       "    <tr>\n",
       "      <td>t3_fn3sxd</td>\n",
       "      <td>nba</td>\n",
       "      <td>nfl</td>\n",
       "      <td>iman shumpert on carmelo anthony he don t look for the credit but he don t get no credit and people know that s what bothers me people in the league you know</td>\n",
       "    </tr>\n",
       "    <tr>\n",
       "      <td>t3_fnaif9</td>\n",
       "      <td>nba</td>\n",
       "      <td>nfl</td>\n",
       "      <td>why hasn t any team in the nba tried the barking dog play</td>\n",
       "    </tr>\n",
       "    <tr>\n",
       "      <td>t3_fnargo</td>\n",
       "      <td>nba</td>\n",
       "      <td>nfl</td>\n",
       "      <td>who is the worst player in nba history you could convince someone in the future was a star based on a 5 minute super cut of their high lights</td>\n",
       "    </tr>\n",
       "    <tr>\n",
       "      <td>t3_fnb0ws</td>\n",
       "      <td>nba</td>\n",
       "      <td>nfl</td>\n",
       "      <td>jabari parker the start of a young journey man at just 24 years old he has already been on 5 different teams</td>\n",
       "    </tr>\n",
       "    <tr>\n",
       "      <td>t3_fneezk</td>\n",
       "      <td>nfl</td>\n",
       "      <td>nba</td>\n",
       "      <td>serious what made pat mahomes such a project compared to watson and trubisky</td>\n",
       "    </tr>\n",
       "    <tr>\n",
       "      <td>t3_fneh2r</td>\n",
       "      <td>nfl</td>\n",
       "      <td>nba</td>\n",
       "      <td>the cleveland browns own the longest streak of nfl championship game appearances 6</td>\n",
       "    </tr>\n",
       "    <tr>\n",
       "      <td>t3_fnew74</td>\n",
       "      <td>nba</td>\n",
       "      <td>nfl</td>\n",
       "      <td>tom thibodeau amp taj gibson scream at each other while leading by 31</td>\n",
       "    </tr>\n",
       "    <tr>\n",
       "      <td>t3_fnfevo</td>\n",
       "      <td>nfl</td>\n",
       "      <td>nba</td>\n",
       "      <td>what are your favourite calls by nfl commentators</td>\n",
       "    </tr>\n",
       "    <tr>\n",
       "      <td>t3_fnfpwr</td>\n",
       "      <td>nba</td>\n",
       "      <td>nfl</td>\n",
       "      <td>nba trash talk 1 18 by itsreal85</td>\n",
       "    </tr>\n",
       "    <tr>\n",
       "      <td>t3_fnjott</td>\n",
       "      <td>nba</td>\n",
       "      <td>nfl</td>\n",
       "      <td>i am a aussie and trying to find a nba team to follow</td>\n",
       "    </tr>\n",
       "    <tr>\n",
       "      <td>t3_fnjt0p</td>\n",
       "      <td>nfl</td>\n",
       "      <td>nba</td>\n",
       "      <td>if previous nfl drafts occurred during quarantine what players might have had different outcomes</td>\n",
       "    </tr>\n",
       "    <tr>\n",
       "      <td>t3_fnk4bz</td>\n",
       "      <td>nfl</td>\n",
       "      <td>nba</td>\n",
       "      <td>what is something you always respected about a particular player</td>\n",
       "    </tr>\n",
       "    <tr>\n",
       "      <td>t3_fnmx5e</td>\n",
       "      <td>nba</td>\n",
       "      <td>nfl</td>\n",
       "      <td>3 great games to rewatch per team western conference</td>\n",
       "    </tr>\n",
       "    <tr>\n",
       "      <td>t3_fnpoy6</td>\n",
       "      <td>nfl</td>\n",
       "      <td>nba</td>\n",
       "      <td>which was the better decade for football the 90 s or the 00 s</td>\n",
       "    </tr>\n",
       "    <tr>\n",
       "      <td>t3_fnpt2g</td>\n",
       "      <td>nba</td>\n",
       "      <td>nfl</td>\n",
       "      <td>is antawn jamison a hall of famer</td>\n",
       "    </tr>\n",
       "    <tr>\n",
       "      <td>t3_fnpwbh</td>\n",
       "      <td>nfl</td>\n",
       "      <td>nba</td>\n",
       "      <td>name the best position coach in the league</td>\n",
       "    </tr>\n",
       "    <tr>\n",
       "      <td>t3_fnpxv7</td>\n",
       "      <td>nfl</td>\n",
       "      <td>nba</td>\n",
       "      <td>rap i feel like the actual ram is the best part of this</td>\n",
       "    </tr>\n",
       "    <tr>\n",
       "      <td>t3_fnr0u8</td>\n",
       "      <td>nba</td>\n",
       "      <td>nfl</td>\n",
       "      <td>oc average face of top 4 scorers in league from 2010 2020</td>\n",
       "    </tr>\n",
       "    <tr>\n",
       "      <td>t3_fnr60w</td>\n",
       "      <td>nba</td>\n",
       "      <td>nfl</td>\n",
       "      <td>kyrie irving donates 323k 250k meals amid coronavirus pandemic he is also partnering with city harvest and donating 250 000 meals across the new york area irving announced he is creating the share a meal campaign in partnership with those organizations</td>\n",
       "    </tr>\n",
       "    <tr>\n",
       "      <td>t3_fnt88m</td>\n",
       "      <td>nfl</td>\n",
       "      <td>nba</td>\n",
       "      <td>matt gay you can quarantine me but you can t quarantine this ball hitting bombs</td>\n",
       "    </tr>\n",
       "    <tr>\n",
       "      <td>t3_fntyf3</td>\n",
       "      <td>nba</td>\n",
       "      <td>nfl</td>\n",
       "      <td>what happens to nba in 2020</td>\n",
       "    </tr>\n",
       "    <tr>\n",
       "      <td>t3_fnuuzn</td>\n",
       "      <td>nfl</td>\n",
       "      <td>nba</td>\n",
       "      <td>nfl throwback steve young vs joe montana</td>\n",
       "    </tr>\n",
       "    <tr>\n",
       "      <td>t3_fnuvn8</td>\n",
       "      <td>nba</td>\n",
       "      <td>nfl</td>\n",
       "      <td>heckling fan desperately wants matt bonner to look at him</td>\n",
       "    </tr>\n",
       "    <tr>\n",
       "      <td>t3_fnw3yl</td>\n",
       "      <td>nba</td>\n",
       "      <td>nfl</td>\n",
       "      <td>how would you deal with expiring free agents if the season and playoffs gets cancelled</td>\n",
       "    </tr>\n",
       "    <tr>\n",
       "      <td>t3_fnyi98</td>\n",
       "      <td>nba</td>\n",
       "      <td>nfl</td>\n",
       "      <td>jared dudley highlights from his junior year at boston college the following year he was the acc player of the year</td>\n",
       "    </tr>\n",
       "    <tr>\n",
       "      <td>t3_fnzdhp</td>\n",
       "      <td>nba</td>\n",
       "      <td>nfl</td>\n",
       "      <td>what s the most overblown moment in nba history</td>\n",
       "    </tr>\n",
       "    <tr>\n",
       "      <td>t3_fnzfpi</td>\n",
       "      <td>nba</td>\n",
       "      <td>nfl</td>\n",
       "      <td>was michael s personality a big reason why he was considered the goat by a lot of people</td>\n",
       "    </tr>\n",
       "    <tr>\n",
       "      <td>t3_fnzmxz</td>\n",
       "      <td>nfl</td>\n",
       "      <td>nba</td>\n",
       "      <td>how do you get a job in the nfl</td>\n",
       "    </tr>\n",
       "    <tr>\n",
       "      <td>t3_fo4pga</td>\n",
       "      <td>nfl</td>\n",
       "      <td>nba</td>\n",
       "      <td>this week s top r nfl highlight s</td>\n",
       "    </tr>\n",
       "    <tr>\n",
       "      <td>t3_fo7ihs</td>\n",
       "      <td>nfl</td>\n",
       "      <td>nba</td>\n",
       "      <td>talko tuesday</td>\n",
       "    </tr>\n",
       "    <tr>\n",
       "      <td>t3_foadjd</td>\n",
       "      <td>nfl</td>\n",
       "      <td>nba</td>\n",
       "      <td>historical dvoa estimates revisited</td>\n",
       "    </tr>\n",
       "    <tr>\n",
       "      <td>t3_foanoc</td>\n",
       "      <td>nba</td>\n",
       "      <td>nfl</td>\n",
       "      <td>new baby penguin named zion in new orleans</td>\n",
       "    </tr>\n",
       "    <tr>\n",
       "      <td>t3_fodzkv</td>\n",
       "      <td>nba</td>\n",
       "      <td>nfl</td>\n",
       "      <td>how come nba s standard resolution for streaming is still 720p it s 2020 is there a reason they re still so far behind</td>\n",
       "    </tr>\n",
       "    <tr>\n",
       "      <td>t3_fof7od</td>\n",
       "      <td>nfl</td>\n",
       "      <td>nba</td>\n",
       "      <td>sessler daily reminder that sam bradford made 129 982 500 to go 34 48 1 never made a pro bowl or all pro team never started a playoff game very possibly lives in a castle right now off the coast of some majestic ocean</td>\n",
       "    </tr>\n",
       "    <tr>\n",
       "      <td>t3_fofrv8</td>\n",
       "      <td>nba</td>\n",
       "      <td>nfl</td>\n",
       "      <td>game thread phoenix suns 10 6 vs new jersey nets 7 10 december 7 2006</td>\n",
       "    </tr>\n",
       "    <tr>\n",
       "      <td>t3_foilkn</td>\n",
       "      <td>nba</td>\n",
       "      <td>nfl</td>\n",
       "      <td>real talk several owners aren t really mega rich anymore the nba should take control of those teams</td>\n",
       "    </tr>\n",
       "    <tr>\n",
       "      <td>t3_foj2t3</td>\n",
       "      <td>nba</td>\n",
       "      <td>nfl</td>\n",
       "      <td>wojnarowski img academy forward kenyon martin jr has declared for the 2020 nba draft his father kenyon martin sr tells espn martin jr is eligible for draft because he did the post graduate year at img after graduating from sierra canyon h s in socal</td>\n",
       "    </tr>\n",
       "    <tr>\n",
       "      <td>t3_fom7e8</td>\n",
       "      <td>nba</td>\n",
       "      <td>nfl</td>\n",
       "      <td>is melo actually going to have his jersey retired by any team</td>\n",
       "    </tr>\n",
       "    <tr>\n",
       "      <td>t3_fopvqe</td>\n",
       "      <td>nfl</td>\n",
       "      <td>nba</td>\n",
       "      <td>this day in football history march 23 to march 29 2020</td>\n",
       "    </tr>\n",
       "    <tr>\n",
       "      <td>t3_foq2ka</td>\n",
       "      <td>nfl</td>\n",
       "      <td>nba</td>\n",
       "      <td>freeman one thing to pass along i m increasingly hearing from coaches and front office executives that they believe it will be nearly impossible for the season to start on time some believe training camp will start in the fall</td>\n",
       "    </tr>\n",
       "    <tr>\n",
       "      <td>t3_foqi9z</td>\n",
       "      <td>nfl</td>\n",
       "      <td>nba</td>\n",
       "      <td>would an all 2000s team or 2010s team be better</td>\n",
       "    </tr>\n",
       "  </tbody>\n",
       "</table>\n",
       "</div>"
      ],
      "text/plain": [
       "          y_actual y_predicted  \\\n",
       "t3_fkz992      nfl         nba   \n",
       "t3_flddeb      nfl         nba   \n",
       "t3_fle9mn      nfl         nba   \n",
       "t3_flg90k      nfl         nba   \n",
       "t3_flhays      nfl         nba   \n",
       "t3_flxgjm      nfl         nba   \n",
       "t3_flxug7      nfl         nba   \n",
       "t3_fly8mb      nfl         nba   \n",
       "t3_fm0lxo      nfl         nba   \n",
       "t3_fm83u3      nfl         nba   \n",
       "t3_fmen4x      nfl         nba   \n",
       "t3_fmhnm1      nfl         nba   \n",
       "t3_fmi3bj      nfl         nba   \n",
       "t3_fmjtkq      nfl         nba   \n",
       "t3_fmkzd0      nfl         nba   \n",
       "t3_fml7ly      nfl         nba   \n",
       "t3_fmo0su      nfl         nba   \n",
       "t3_fmsd9b      nfl         nba   \n",
       "t3_fn3sxd      nba         nfl   \n",
       "t3_fnaif9      nba         nfl   \n",
       "t3_fnargo      nba         nfl   \n",
       "t3_fnb0ws      nba         nfl   \n",
       "t3_fneezk      nfl         nba   \n",
       "t3_fneh2r      nfl         nba   \n",
       "t3_fnew74      nba         nfl   \n",
       "t3_fnfevo      nfl         nba   \n",
       "t3_fnfpwr      nba         nfl   \n",
       "t3_fnjott      nba         nfl   \n",
       "t3_fnjt0p      nfl         nba   \n",
       "t3_fnk4bz      nfl         nba   \n",
       "t3_fnmx5e      nba         nfl   \n",
       "t3_fnpoy6      nfl         nba   \n",
       "t3_fnpt2g      nba         nfl   \n",
       "t3_fnpwbh      nfl         nba   \n",
       "t3_fnpxv7      nfl         nba   \n",
       "t3_fnr0u8      nba         nfl   \n",
       "t3_fnr60w      nba         nfl   \n",
       "t3_fnt88m      nfl         nba   \n",
       "t3_fntyf3      nba         nfl   \n",
       "t3_fnuuzn      nfl         nba   \n",
       "t3_fnuvn8      nba         nfl   \n",
       "t3_fnw3yl      nba         nfl   \n",
       "t3_fnyi98      nba         nfl   \n",
       "t3_fnzdhp      nba         nfl   \n",
       "t3_fnzfpi      nba         nfl   \n",
       "t3_fnzmxz      nfl         nba   \n",
       "t3_fo4pga      nfl         nba   \n",
       "t3_fo7ihs      nfl         nba   \n",
       "t3_foadjd      nfl         nba   \n",
       "t3_foanoc      nba         nfl   \n",
       "t3_fodzkv      nba         nfl   \n",
       "t3_fof7od      nfl         nba   \n",
       "t3_fofrv8      nba         nfl   \n",
       "t3_foilkn      nba         nfl   \n",
       "t3_foj2t3      nba         nfl   \n",
       "t3_fom7e8      nba         nfl   \n",
       "t3_fopvqe      nfl         nba   \n",
       "t3_foq2ka      nfl         nba   \n",
       "t3_foqi9z      nfl         nba   \n",
       "\n",
       "                                                                                                                                                                                                                                                                  title  \n",
       "t3_fkz992                                                                                                                                                                                                       michael silver plan is for stidham to start next season  \n",
       "t3_flddeb                                                                                                                                                                                                                                      happy birthday andy reid  \n",
       "t3_fle9mn                                                                                                                                                                                                                   ochocinco jeffokudah you ready to be a lion  \n",
       "t3_flg90k                                                                                                                                                                                                                          nfl network top 10 quarterback duels  \n",
       "t3_flhays                                                                                                                                                                                                   seahawks kicking the tires on multiple veteran pass rushers  \n",
       "t3_flxgjm                                                                                                                                                                                                               which qb would you least like belichick to have  \n",
       "t3_flxug7                                                                                                                                                                            can a receiver tackle or contact an opposing player while in possession on purpose  \n",
       "t3_fly8mb                                                                                                                                                                                                                                               salary cap info  \n",
       "t3_fm0lxo              finn espn will air in full the academy award winning 30 for 30 documentary o j made in america over four nights in primetime from march 23 26 begins at 7 p m each night no exaggeration might be the best thing i ve ever watched on television  \n",
       "t3_fm83u3                                                                                                                                                                                 besides kyler murray who are some of the best multi sport athletes in the nfl  \n",
       "t3_fmen4x                                                                                                                                                                                                                               biggest draft steal of all time  \n",
       "t3_fmhnm1                                                                                                                                                                                                                                chris matthews sb49 highlights  \n",
       "t3_fmi3bj                                                                                                                                                                                                                                   archived combine broadcasts  \n",
       "t3_fmjtkq                                                                                                                                             what player do you think would have been great but had their potential completely wasted by the team they were on  \n",
       "t3_fmkzd0                                                                                                                                                             would you rather have the bosa brothers or the watt brothers on your team for the upcoming season  \n",
       "t3_fml7ly                                                                                                                                                                                                 is there anyone in the nfl you are surprised is still playing  \n",
       "t3_fmo0su                                                                                                               howe something would have to change for the pats to turn their attention to andy dalton he hasn t been discussed among the pats immediate plans  \n",
       "t3_fmsd9b                                                                                                                                                      i might be in the minority on this but i love the nfl intros promos teaser before games does anyone else  \n",
       "t3_fn3sxd                                                                                                 iman shumpert on carmelo anthony he don t look for the credit but he don t get no credit and people know that s what bothers me people in the league you know  \n",
       "t3_fnaif9                                                                                                                                                                                                     why hasn t any team in the nba tried the barking dog play  \n",
       "t3_fnargo                                                                                                                 who is the worst player in nba history you could convince someone in the future was a star based on a 5 minute super cut of their high lights  \n",
       "t3_fnb0ws                                                                                                                                                  jabari parker the start of a young journey man at just 24 years old he has already been on 5 different teams  \n",
       "t3_fneezk                                                                                                                                                                                  serious what made pat mahomes such a project compared to watson and trubisky  \n",
       "t3_fneh2r                                                                                                                                                                            the cleveland browns own the longest streak of nfl championship game appearances 6  \n",
       "t3_fnew74                                                                                                                                                                                         tom thibodeau amp taj gibson scream at each other while leading by 31  \n",
       "t3_fnfevo                                                                                                                                                                                                             what are your favourite calls by nfl commentators  \n",
       "t3_fnfpwr                                                                                                                                                                                                                              nba trash talk 1 18 by itsreal85  \n",
       "t3_fnjott                                                                                                                                                                                                         i am a aussie and trying to find a nba team to follow  \n",
       "t3_fnjt0p                                                                                                                                                              if previous nfl drafts occurred during quarantine what players might have had different outcomes  \n",
       "t3_fnk4bz                                                                                                                                                                                              what is something you always respected about a particular player  \n",
       "t3_fnmx5e                                                                                                                                                                                                          3 great games to rewatch per team western conference  \n",
       "t3_fnpoy6                                                                                                                                                                                                 which was the better decade for football the 90 s or the 00 s  \n",
       "t3_fnpt2g                                                                                                                                                                                                                             is antawn jamison a hall of famer  \n",
       "t3_fnpwbh                                                                                                                                                                                                                    name the best position coach in the league  \n",
       "t3_fnpxv7                                                                                                                                                                                                       rap i feel like the actual ram is the best part of this  \n",
       "t3_fnr0u8                                                                                                                                                                                                     oc average face of top 4 scorers in league from 2010 2020  \n",
       "t3_fnr60w  kyrie irving donates 323k 250k meals amid coronavirus pandemic he is also partnering with city harvest and donating 250 000 meals across the new york area irving announced he is creating the share a meal campaign in partnership with those organizations  \n",
       "t3_fnt88m                                                                                                                                                                               matt gay you can quarantine me but you can t quarantine this ball hitting bombs  \n",
       "t3_fntyf3                                                                                                                                                                                                                                   what happens to nba in 2020  \n",
       "t3_fnuuzn                                                                                                                                                                                                                      nfl throwback steve young vs joe montana  \n",
       "t3_fnuvn8                                                                                                                                                                                                     heckling fan desperately wants matt bonner to look at him  \n",
       "t3_fnw3yl                                                                                                                                                                        how would you deal with expiring free agents if the season and playoffs gets cancelled  \n",
       "t3_fnyi98                                                                                                                                           jared dudley highlights from his junior year at boston college the following year he was the acc player of the year  \n",
       "t3_fnzdhp                                                                                                                                                                                                               what s the most overblown moment in nba history  \n",
       "t3_fnzfpi                                                                                                                                                                      was michael s personality a big reason why he was considered the goat by a lot of people  \n",
       "t3_fnzmxz                                                                                                                                                                                                                               how do you get a job in the nfl  \n",
       "t3_fo4pga                                                                                                                                                                                                                             this week s top r nfl highlight s  \n",
       "t3_fo7ihs                                                                                                                                                                                                                                                 talko tuesday  \n",
       "t3_foadjd                                                                                                                                                                                                                           historical dvoa estimates revisited  \n",
       "t3_foanoc                                                                                                                                                                                                                    new baby penguin named zion in new orleans  \n",
       "t3_fodzkv                                                                                                                                        how come nba s standard resolution for streaming is still 720p it s 2020 is there a reason they re still so far behind  \n",
       "t3_fof7od                                     sessler daily reminder that sam bradford made 129 982 500 to go 34 48 1 never made a pro bowl or all pro team never started a playoff game very possibly lives in a castle right now off the coast of some majestic ocean  \n",
       "t3_fofrv8                                                                                                                                                                                         game thread phoenix suns 10 6 vs new jersey nets 7 10 december 7 2006  \n",
       "t3_foilkn                                                                                                                                                           real talk several owners aren t really mega rich anymore the nba should take control of those teams  \n",
       "t3_foj2t3     wojnarowski img academy forward kenyon martin jr has declared for the 2020 nba draft his father kenyon martin sr tells espn martin jr is eligible for draft because he did the post graduate year at img after graduating from sierra canyon h s in socal  \n",
       "t3_fom7e8                                                                                                                                                                                                 is melo actually going to have his jersey retired by any team  \n",
       "t3_fopvqe                                                                                                                                                                                                        this day in football history march 23 to march 29 2020  \n",
       "t3_foq2ka                            freeman one thing to pass along i m increasingly hearing from coaches and front office executives that they believe it will be nearly impossible for the season to start on time some believe training camp will start in the fall  \n",
       "t3_foqi9z                                                                                                                                                                                                               would an all 2000s team or 2010s team be better  "
      ]
     },
     "execution_count": 88,
     "metadata": {},
     "output_type": "execute_result"
    }
   ],
   "source": [
    "mismatches"
   ]
  },
  {
   "cell_type": "markdown",
   "metadata": {},
   "source": [
    "### Let's try TF-IDF"
   ]
  },
  {
   "cell_type": "markdown",
   "metadata": {},
   "source": [
    "Term Frequency / Inverse Document Frequency\n",
    "\n",
    "TF(w) = (Number of times term w appears in a document) / (Total number of terms in the document)\n",
    "\n",
    "IDF(w) = log_e(Total number of documents / Number of documents with term w in it)"
   ]
  },
  {
   "cell_type": "code",
   "execution_count": 89,
   "metadata": {},
   "outputs": [],
   "source": [
    "tfidf_vec = TfidfVectorizer(analyzer=\"word\",\n",
    "                            tokenizer=None,\n",
    "                            preprocessor=None,\n",
    "                            stop_words=sw,\n",
    "                            max_features=5000,\n",
    "                            ngram_range=(1, 3))"
   ]
  },
  {
   "cell_type": "code",
   "execution_count": 90,
   "metadata": {},
   "outputs": [
    {
     "data": {
      "text/plain": [
       "((1255, 5000), (419, 5000))"
      ]
     },
     "execution_count": 90,
     "metadata": {},
     "output_type": "execute_result"
    }
   ],
   "source": [
    "train_data_features = tfidf_vec.fit_transform(clean_train_data)\n",
    "\n",
    "test_data_features = tfidf_vec.transform(clean_test_data)\n",
    "\n",
    "train_data_features = train_data_features.toarray()\n",
    "\n",
    "train_data_features.shape, test_data_features.shape"
   ]
  },
  {
   "cell_type": "code",
   "execution_count": 91,
   "metadata": {},
   "outputs": [
    {
     "name": "stderr",
     "output_type": "stream",
     "text": [
      "/opt/anaconda3/lib/python3.7/site-packages/sklearn/linear_model/logistic.py:432: FutureWarning: Default solver will be changed to 'lbfgs' in 0.22. Specify a solver to silence this warning.\n",
      "  FutureWarning)\n"
     ]
    },
    {
     "data": {
      "text/plain": [
       "LogisticRegression(C=1.0, class_weight=None, dual=False, fit_intercept=True,\n",
       "                   intercept_scaling=1, l1_ratio=None, max_iter=100,\n",
       "                   multi_class='warn', n_jobs=None, penalty='l2',\n",
       "                   random_state=None, solver='warn', tol=0.0001, verbose=0,\n",
       "                   warm_start=False)"
      ]
     },
     "execution_count": 91,
     "metadata": {},
     "output_type": "execute_result"
    }
   ],
   "source": [
    "lr.fit(train_data_features, y_train)"
   ]
  },
  {
   "cell_type": "code",
   "execution_count": 92,
   "metadata": {},
   "outputs": [
    {
     "data": {
      "text/plain": [
       "0.9816733067729083"
      ]
     },
     "execution_count": 92,
     "metadata": {},
     "output_type": "execute_result"
    }
   ],
   "source": [
    "lr.score(train_data_features, y_train)"
   ]
  },
  {
   "cell_type": "code",
   "execution_count": 93,
   "metadata": {},
   "outputs": [
    {
     "data": {
      "text/plain": [
       "0.8758949880668258"
      ]
     },
     "execution_count": 93,
     "metadata": {},
     "output_type": "execute_result"
    }
   ],
   "source": [
    "lr.score(test_data_features, y_test)"
   ]
  },
  {
   "cell_type": "markdown",
   "metadata": {},
   "source": [
    "### Let's try on some other subreddits"
   ]
  },
  {
   "cell_type": "code",
   "execution_count": 94,
   "metadata": {},
   "outputs": [],
   "source": [
    "train = pd.concat([politics_test, conservative_test])"
   ]
  },
  {
   "cell_type": "code",
   "execution_count": 95,
   "metadata": {},
   "outputs": [],
   "source": [
    "X = train[['title']]\n",
    "y = train['subreddit']"
   ]
  },
  {
   "cell_type": "code",
   "execution_count": 96,
   "metadata": {},
   "outputs": [],
   "source": [
    "# politics_test = scrape_to_df(scraper_bike, 'https://www.reddit.com/r/politics.json')\n",
    "# conservative_test = scrape_to_df(scraper_bike, 'https://www.reddit.com/r/conservative.json')"
   ]
  },
  {
   "cell_type": "code",
   "execution_count": 97,
   "metadata": {},
   "outputs": [],
   "source": [
    "X_train, X_test, y_train, y_test = train_test_split(X, y, random_state = 42, stratify = y)"
   ]
  },
  {
   "cell_type": "code",
   "execution_count": 98,
   "metadata": {},
   "outputs": [],
   "source": [
    "politics_test = politics_test.drop(columns='selftext')\n",
    "conservative_test = conservative_test.drop(columns='selftext')\n",
    "\n",
    "train = pd.concat([politics_test, conservative_test])\n",
    "tokenizer = RegexpTokenizer(r'\\w+')\n",
    "\n",
    "train['title'] = train['title'].map(lambda x: tokenizer.tokenize(x.lower()))\n",
    "train['title'] = train['title'].map(lambda x: ' '.join(x))"
   ]
  },
  {
   "cell_type": "code",
   "execution_count": 99,
   "metadata": {},
   "outputs": [],
   "source": [
    "# create our training data list - this is a list of strings, with each string being a post title\n",
    "\n",
    "clean_train_data = []\n",
    "\n",
    "for traindata in X_train['title']:\n",
    "    clean_train_data.append(traindata)\n",
    "    \n",
    "    \n",
    "# create test data list\n",
    "\n",
    "clean_test_data = []\n",
    "\n",
    "for testdata in X_test['title']:\n",
    "    clean_test_data.append(testdata)"
   ]
  },
  {
   "cell_type": "code",
   "execution_count": 100,
   "metadata": {},
   "outputs": [],
   "source": [
    "vectorizer = CountVectorizer(analyzer=\"word\",\n",
    "                             tokenizer=None,\n",
    "                             preprocessor=None,\n",
    "                             stop_words='english',\n",
    "                             max_features=5000,\n",
    "                             ngram_range=(1, 3))\n",
    "\n",
    "train_data_features = vectorizer.fit_transform(clean_train_data)\n",
    "\n",
    "test_data_features = vectorizer.transform(clean_test_data)\n",
    "\n",
    "train_data_features = train_data_features.toarray()\n",
    "\n",
    "train_data_features.shape, test_data_features.shape\n",
    "\n",
    "vocab = vectorizer.get_feature_names()"
   ]
  },
  {
   "cell_type": "code",
   "execution_count": 101,
   "metadata": {},
   "outputs": [
    {
     "data": {
      "text/plain": [
       "['000',\n",
       " '000 masks',\n",
       " '000 student',\n",
       " '000 student debt',\n",
       " '03',\n",
       " '11',\n",
       " '12',\n",
       " '130',\n",
       " '130 000',\n",
       " '14',\n",
       " '14 day',\n",
       " '15',\n",
       " '15 day',\n",
       " '19',\n",
       " '19 crisis',\n",
       " '19 deaths',\n",
       " '19 lies',\n",
       " '19 mississippi',\n",
       " '19 mississippi going',\n",
       " '19 outbreak',\n",
       " '19 pandemic',\n",
       " '19 zero',\n",
       " '19 zero new',\n",
       " '20',\n",
       " '20 years',\n",
       " '2020',\n",
       " '2020 live',\n",
       " '2020 live 30pm',\n",
       " '2021',\n",
       " '21',\n",
       " '23',\n",
       " '23rd',\n",
       " '25',\n",
       " '25 years',\n",
       " '2nd',\n",
       " '2nd amendment',\n",
       " '30',\n",
       " '30 000',\n",
       " '30 000 student',\n",
       " '300',\n",
       " '300 deputies',\n",
       " '300 deputies patrol',\n",
       " '30pm',\n",
       " '30pm edt',\n",
       " '450',\n",
       " '450 progressive',\n",
       " '450 progressive organizations',\n",
       " '46',\n",
       " '50',\n",
       " '50 000',\n",
       " '500',\n",
       " '500 billion',\n",
       " '500 billion corporate',\n",
       " '55',\n",
       " '55 americans',\n",
       " '55 americans approve',\n",
       " '60',\n",
       " '600',\n",
       " '600 week',\n",
       " '70',\n",
       " '95',\n",
       " '99',\n",
       " 'abandon',\n",
       " 'abortion',\n",
       " 'abortion essential',\n",
       " 'abortion rights',\n",
       " 'abortion rights groups',\n",
       " 'abortions',\n",
       " 'abortions coronavirus',\n",
       " 'abortions coronavirus outbreak',\n",
       " 'absolutely',\n",
       " 'accountable',\n",
       " 'accused',\n",
       " 'accuses',\n",
       " 'acosta',\n",
       " 'act',\n",
       " 'action',\n",
       " 'actions',\n",
       " 'actor',\n",
       " 'actually',\n",
       " 'add',\n",
       " 'additional',\n",
       " 'adds',\n",
       " 'adds 300',\n",
       " 'adds 300 deputies',\n",
       " 'administration',\n",
       " 'ads',\n",
       " 'advice',\n",
       " 'advice coronavirus',\n",
       " 'advice man',\n",
       " 'advice man looked',\n",
       " 'advisers',\n",
       " 'advocate',\n",
       " 'affected',\n",
       " 'afraid',\n",
       " 'ag',\n",
       " 'ag barr',\n",
       " 'agenda',\n",
       " 'ago',\n",
       " 'agree',\n",
       " 'agree trillion',\n",
       " 'agree trillion coronavirus',\n",
       " 'agreement',\n",
       " 'ahead',\n",
       " 'aid',\n",
       " 'aid package',\n",
       " 'aides',\n",
       " 'aides say',\n",
       " 'aides say losing',\n",
       " 'air',\n",
       " 'aircraft',\n",
       " 'aircraft carrier',\n",
       " 'airlines',\n",
       " 'airplanes',\n",
       " 'alarm',\n",
       " 'alexander',\n",
       " 'allegedly',\n",
       " 'allow',\n",
       " 'ambassador',\n",
       " 'amendment',\n",
       " 'america',\n",
       " 'america work',\n",
       " 'american',\n",
       " 'american dependence',\n",
       " 'american dependence chinese',\n",
       " 'american lives',\n",
       " 'americans',\n",
       " 'americans approve',\n",
       " 'americans approve president',\n",
       " 'americans need',\n",
       " 'americans say',\n",
       " 'americans work',\n",
       " 'amid',\n",
       " 'amid coronavirus',\n",
       " 'amid coronavirus crisis',\n",
       " 'amid coronavirus outbreak',\n",
       " 'amid coronavirus pandemic',\n",
       " 'amid covid',\n",
       " 'amid covid 19',\n",
       " 'amid pandemic',\n",
       " 'amp',\n",
       " 'amy',\n",
       " 'amy klobuchar',\n",
       " 'analyst',\n",
       " 'anchors',\n",
       " 'andrew',\n",
       " 'andrew cuomo',\n",
       " 'announcement',\n",
       " 'announces',\n",
       " 'anthony',\n",
       " 'anthony fauci',\n",
       " 'anti',\n",
       " 'anti abortion',\n",
       " 'anti abortion rights',\n",
       " 'anti malaria',\n",
       " 'anti malaria drugs',\n",
       " 'anxious',\n",
       " 'aoc',\n",
       " 'appeals',\n",
       " 'appeals court',\n",
       " 'appear',\n",
       " 'applications',\n",
       " 'approach',\n",
       " 'approval',\n",
       " 'approval rating',\n",
       " 'approve',\n",
       " 'approve president',\n",
       " 'approve president trump',\n",
       " 'approve trump',\n",
       " 'april',\n",
       " 'area',\n",
       " 'aren',\n",
       " 'argues',\n",
       " 'arizona',\n",
       " 'arizona man',\n",
       " 'arizona man dies',\n",
       " 'arrested',\n",
       " 'arts',\n",
       " 'asian',\n",
       " 'ask',\n",
       " 'asked',\n",
       " 'asking',\n",
       " 'asks',\n",
       " 'assault',\n",
       " 'assault rand',\n",
       " 'assault rand paul',\n",
       " 'assistance',\n",
       " 'attack',\n",
       " 'attempt',\n",
       " 'attempting',\n",
       " 'attempts',\n",
       " 'attention',\n",
       " 'australia',\n",
       " 'average',\n",
       " 'awaiting',\n",
       " 'awaiting coronavirus',\n",
       " 'away',\n",
       " 'bad',\n",
       " 'badly',\n",
       " 'bailout',\n",
       " 'bailout let',\n",
       " 'bailout money',\n",
       " 'bailout response',\n",
       " 'bailout response coronavirus',\n",
       " 'bailouts',\n",
       " 'ballot',\n",
       " 'ban',\n",
       " 'ban abortion',\n",
       " 'bandy',\n",
       " 'bandy lee',\n",
       " 'banks',\n",
       " 'banned',\n",
       " 'banner',\n",
       " 'banning',\n",
       " 'bans',\n",
       " 'bans malaria',\n",
       " 'bans malaria drugs',\n",
       " 'barely',\n",
       " 'barely speak',\n",
       " 'barr',\n",
       " 'barring',\n",
       " 'barring use',\n",
       " 'barring use anti',\n",
       " 'bars',\n",
       " 'basically',\n",
       " 'basically pretty',\n",
       " 'basically pretty cure',\n",
       " 'beat',\n",
       " 'beat trump',\n",
       " 'beg',\n",
       " 'begin',\n",
       " 'begins',\n",
       " 'behavior',\n",
       " 'beijing',\n",
       " 'believe',\n",
       " 'believe president',\n",
       " 'believe president says',\n",
       " 'ben',\n",
       " 'ben shapiro',\n",
       " 'benefit',\n",
       " 'benefits',\n",
       " 'bernie',\n",
       " 'bernie sanders',\n",
       " 'best',\n",
       " 'betsy',\n",
       " 'betsy devos',\n",
       " 'better',\n",
       " 'biased',\n",
       " 'bid',\n",
       " 'bidding',\n",
       " 'biden',\n",
       " 'biden confusingly',\n",
       " 'biden confusingly pretends',\n",
       " 'biden says',\n",
       " 'biden trump',\n",
       " 'biden trump stop',\n",
       " 'big',\n",
       " 'big brain',\n",
       " 'big business',\n",
       " 'big deal',\n",
       " 'big oil',\n",
       " 'biggest',\n",
       " 'billion',\n",
       " 'billion corporate',\n",
       " 'billionaires',\n",
       " 'billionaires doctors',\n",
       " 'billions',\n",
       " 'bills',\n",
       " 'bipartisan',\n",
       " 'bit',\n",
       " 'black',\n",
       " 'blackout',\n",
       " 'blame',\n",
       " 'blame president',\n",
       " 'blames',\n",
       " 'blaming',\n",
       " 'blasts',\n",
       " 'block',\n",
       " 'block coronavirus',\n",
       " 'block coronavirus provides',\n",
       " 'block mammoth',\n",
       " 'block mammoth coronavirus',\n",
       " 'blocked',\n",
       " 'blocking',\n",
       " 'blocking coronavirus',\n",
       " 'blocking emergency',\n",
       " 'bloomberg',\n",
       " 'blue',\n",
       " 'blunt',\n",
       " 'board',\n",
       " 'bodies',\n",
       " 'bodies corner',\n",
       " 'boeing',\n",
       " 'boeing ceo',\n",
       " 'boeing ceo says',\n",
       " 'bolsonaro',\n",
       " 'boost',\n",
       " 'boost economy',\n",
       " 'border',\n",
       " 'borders',\n",
       " 'borrower',\n",
       " 'borrower amid',\n",
       " 'borrower amid coronavirus',\n",
       " 'brady',\n",
       " 'brain',\n",
       " 'break',\n",
       " 'breaking',\n",
       " 'breaks',\n",
       " 'briefing',\n",
       " 'briefing 03',\n",
       " 'briefings',\n",
       " 'briefings new',\n",
       " 'britain',\n",
       " 'british',\n",
       " 'broadcasting',\n",
       " 'brutal',\n",
       " 'bubble',\n",
       " 'bullet',\n",
       " 'bunch',\n",
       " 'burr',\n",
       " 'burr accused',\n",
       " 'business',\n",
       " 'businesses',\n",
       " 'busy',\n",
       " 'california',\n",
       " 'called',\n",
       " 'calling',\n",
       " 'calls',\n",
       " 'calmly',\n",
       " 'campaign',\n",
       " 'campaign rallies',\n",
       " 'cancel',\n",
       " 'cancel 30',\n",
       " 'cancel 30 000',\n",
       " 'canceled',\n",
       " 'candidate',\n",
       " 'capitalism',\n",
       " 'capitalist',\n",
       " 'capitol',\n",
       " 'cards',\n",
       " 'care',\n",
       " 'care workers',\n",
       " 'cares',\n",
       " 'carrier',\n",
       " 'carter',\n",
       " 'case',\n",
       " 'cases',\n",
       " 'cases doubling',\n",
       " 'cases doubling days',\n",
       " 'cases rise',\n",
       " 'cash',\n",
       " 'caused',\n",
       " 'causes',\n",
       " 'cbs',\n",
       " 'ccp',\n",
       " 'ccp virus',\n",
       " 'cdc',\n",
       " 'celebrities',\n",
       " 'celebrities sing',\n",
       " 'ceo',\n",
       " 'ceo says',\n",
       " 'ceos',\n",
       " 'chain',\n",
       " 'challenge',\n",
       " 'chance',\n",
       " 'change',\n",
       " 'changer',\n",
       " 'changer president',\n",
       " 'changer president trump',\n",
       " 'changes',\n",
       " 'charge',\n",
       " 'charged',\n",
       " 'charges',\n",
       " 'charles',\n",
       " 'chart',\n",
       " 'check',\n",
       " 'check trump',\n",
       " 'check trump claims',\n",
       " 'checks',\n",
       " 'chief',\n",
       " 'children',\n",
       " 'china',\n",
       " 'china china',\n",
       " 'china coronavirus',\n",
       " 'china coronavirus recovery',\n",
       " 'china covid',\n",
       " 'china covid 19',\n",
       " 'china leftist',\n",
       " 'china leftist influencers',\n",
       " 'china stopped',\n",
       " 'china stopped testing',\n",
       " 'china virus',\n",
       " 'chinese',\n",
       " 'chinese ambassador',\n",
       " 'chinese coronavirus',\n",
       " 'chinese disinformation',\n",
       " 'chinese disinformation coronavirus',\n",
       " 'chinese drugs',\n",
       " 'chinese virus',\n",
       " 'chloroquine',\n",
       " 'chloroquine warns',\n",
       " 'chloroquine warns public',\n",
       " 'choice',\n",
       " 'choice coronavirus',\n",
       " 'choose',\n",
       " 'chris',\n",
       " 'chris cuomo',\n",
       " 'christian',\n",
       " 'christian prisoners',\n",
       " 'chuck',\n",
       " 'chuck schumer',\n",
       " 'churches',\n",
       " 'citing',\n",
       " 'citizens',\n",
       " 'city',\n",
       " 'city coronavirus',\n",
       " 'civil',\n",
       " 'civil rights',\n",
       " 'claim',\n",
       " 'claiming',\n",
       " 'claims',\n",
       " 'clashes',\n",
       " 'cleaner',\n",
       " 'clear',\n",
       " 'climate',\n",
       " 'climate change',\n",
       " 'clinics',\n",
       " 'clinton',\n",
       " 'clock',\n",
       " 'clock governors',\n",
       " 'clock governors reject',\n",
       " 'close',\n",
       " 'close adds',\n",
       " 'close adds 300',\n",
       " 'closed',\n",
       " 'closer',\n",
       " 'closing',\n",
       " 'closures',\n",
       " 'clubs',\n",
       " 'clyburn',\n",
       " 'cnn',\n",
       " 'cnn jake',\n",
       " 'cnn jake tapper',\n",
       " 'cnn msnbc',\n",
       " 'coalition',\n",
       " 'cohen',\n",
       " 'colbert',\n",
       " 'collateral',\n",
       " 'collateral damage',\n",
       " 'colleagues',\n",
       " 'colleagues coronavirus',\n",
       " 'colleagues coronavirus tremendous',\n",
       " 'collins',\n",
       " 'color',\n",
       " 'colorado',\n",
       " 'combat',\n",
       " 'combat coronavirus',\n",
       " 'come',\n",
       " 'comes',\n",
       " 'comes chinese',\n",
       " 'comes chinese disinformation',\n",
       " 'comics',\n",
       " 'coming',\n",
       " 'comment',\n",
       " 'comments',\n",
       " 'commission',\n",
       " 'communist',\n",
       " 'communist china',\n",
       " 'communist party',\n",
       " 'communist propaganda',\n",
       " 'communities',\n",
       " 'community',\n",
       " 'companies',\n",
       " 'company',\n",
       " 'company won',\n",
       " 'completely',\n",
       " 'comprehensive',\n",
       " 'comprehensive timeline',\n",
       " 'comprehensive timeline china',\n",
       " 'concerned',\n",
       " 'concerns',\n",
       " 'conferences',\n",
       " 'confusing',\n",
       " 'confusingly',\n",
       " 'confusingly pretends',\n",
       " 'confusingly pretends president',\n",
       " 'congress',\n",
       " 'congressional',\n",
       " 'congressional leaders',\n",
       " 'congressional leaders join',\n",
       " 'consequences',\n",
       " 'conservative',\n",
       " 'conservatives',\n",
       " 'consider',\n",
       " 'considering',\n",
       " 'conspiracy',\n",
       " 'conspiracy theory',\n",
       " 'continue',\n",
       " 'continues',\n",
       " 'contracting',\n",
       " 'control',\n",
       " 'controls',\n",
       " 'controversial',\n",
       " 'convention',\n",
       " 'corner',\n",
       " 'corona',\n",
       " 'corona virus',\n",
       " 'coronavirus',\n",
       " 'coronavirus aid',\n",
       " 'coronavirus attack',\n",
       " 'coronavirus bailout',\n",
       " 'coronavirus briefing',\n",
       " 'coronavirus briefings',\n",
       " 'coronavirus care',\n",
       " 'coronavirus cases',\n",
       " 'coronavirus concerns',\n",
       " 'coronavirus cost',\n",
       " 'coronavirus coverage',\n",
       " 'coronavirus crash',\n",
       " 'coronavirus crash reports',\n",
       " 'coronavirus crisis',\n",
       " 'coronavirus cure',\n",
       " 'coronavirus death',\n",
       " 'coronavirus deaths',\n",
       " 'coronavirus diagnosis',\n",
       " 'coronavirus drugs',\n",
       " 'coronavirus economic',\n",
       " 'coronavirus economic rescue',\n",
       " 'coronavirus epidemic',\n",
       " 'coronavirus experts',\n",
       " 'coronavirus fight',\n",
       " 'coronavirus flu',\n",
       " 'coronavirus infection',\n",
       " 'coronavirus lessons',\n",
       " 'coronavirus live',\n",
       " 'coronavirus live updates',\n",
       " 'coronavirus outbreak',\n",
       " 'coronavirus package',\n",
       " 'coronavirus pandemic',\n",
       " 'coronavirus party',\n",
       " 'coronavirus patients',\n",
       " 'coronavirus plan',\n",
       " 'coronavirus poll',\n",
       " 'coronavirus press',\n",
       " 'coronavirus prohibits',\n",
       " 'coronavirus prohibits trump',\n",
       " 'coronavirus propaganda',\n",
       " 'coronavirus provides',\n",
       " 'coronavirus provides lifeline',\n",
       " 'coronavirus recovery',\n",
       " 'coronavirus recovery fake',\n",
       " 'coronavirus relief',\n",
       " 'coronavirus remain',\n",
       " 'coronavirus rescue',\n",
       " 'coronavirus response',\n",
       " 'coronavirus restrictions',\n",
       " 'coronavirus rise',\n",
       " 'coronavirus says',\n",
       " 'coronavirus seriously',\n",
       " 'coronavirus shutdown',\n",
       " 'coronavirus spread',\n",
       " 'coronavirus stimulus',\n",
       " 'coronavirus stimulus deal',\n",
       " 'coronavirus stimulus includes',\n",
       " 'coronavirus stimulus largest',\n",
       " 'coronavirus stimulus package',\n",
       " 'coronavirus stimulus plan',\n",
       " 'coronavirus supplies',\n",
       " 'coronavirus task',\n",
       " 'coronavirus task force',\n",
       " 'coronavirus test',\n",
       " 'coronavirus test results',\n",
       " 'coronavirus testing',\n",
       " 'coronavirus threat',\n",
       " 'coronavirus town',\n",
       " 'coronavirus town hall',\n",
       " 'coronavirus treatment',\n",
       " 'coronavirus tremendous',\n",
       " 'coronavirus tremendous opportunity',\n",
       " 'coronavirus trump',\n",
       " 'coronavirus trump says',\n",
       " 'coronavirus unemployment',\n",
       " 'coronavirus unemployment insurance',\n",
       " 'coronavirus update',\n",
       " 'corporate',\n",
       " 'corporate bailout',\n",
       " 'corporations',\n",
       " 'corrupt',\n",
       " 'cortez',\n",
       " 'cost',\n",
       " 'cost lives',\n",
       " 'cotton',\n",
       " 'coughing',\n",
       " 'counter',\n",
       " 'counties',\n",
       " 'country',\n",
       " 'country opened',\n",
       " 'country opened just',\n",
       " 'county',\n",
       " 'county sheriff',\n",
       " 'county sheriff orders',\n",
       " 'course',\n",
       " 'court',\n",
       " 'court rightly',\n",
       " 'court rightly refuses',\n",
       " 'courts',\n",
       " 'cover',\n",
       " 'coverage',\n",
       " 'covering',\n",
       " 'coverup',\n",
       " 'covid',\n",
       " 'covid 19',\n",
       " 'covid 19 crisis',\n",
       " 'covid 19 deaths',\n",
       " 'covid 19 lies',\n",
       " 'covid 19 mississippi',\n",
       " 'covid 19 outbreak',\n",
       " 'covid 19 pandemic',\n",
       " 'covid 19 zero',\n",
       " 'crackdown',\n",
       " 'crash',\n",
       " 'crash reports',\n",
       " 'create',\n",
       " 'created',\n",
       " 'creates',\n",
       " 'creating',\n",
       " 'credibility',\n",
       " 'criminal',\n",
       " 'crisis',\n",
       " 'crisis opportunity',\n",
       " 'critical',\n",
       " 'criticism',\n",
       " 'criticizes',\n",
       " 'criticizing',\n",
       " 'criticizing trump',\n",
       " 'critics',\n",
       " 'crucial',\n",
       " 'cruise',\n",
       " 'cruz',\n",
       " 'cuban',\n",
       " 'cult',\n",
       " 'cuomo',\n",
       " 'cuomo says',\n",
       " 'cuomo trump',\n",
       " 'curb',\n",
       " 'cure',\n",
       " 'cure coronavirus',\n",
       " 'cure woman',\n",
       " 'cure woman husband',\n",
       " 'cure worse',\n",
       " 'cure worse disease',\n",
       " 'curfew',\n",
       " 'curve',\n",
       " 'cut',\n",
       " 'cut american',\n",
       " 'cut american dependence',\n",
       " 'cuts',\n",
       " 'daily',\n",
       " 'daily coronavirus',\n",
       " 'damage',\n",
       " 'dan',\n",
       " 'dan patrick',\n",
       " 'dan patrick says',\n",
       " 'dan patrick suggests',\n",
       " 'dangerous',\n",
       " 'dangerous shadow',\n",
       " 'dangerous shadow briefings',\n",
       " 'data',\n",
       " 'date',\n",
       " 'daughter',\n",
       " 'day',\n",
       " 'day period',\n",
       " 'day trump',\n",
       " 'days',\n",
       " 'days coronavirus',\n",
       " 'dead',\n",
       " 'dead bodies',\n",
       " 'deadly',\n",
       " 'deal',\n",
       " 'deal close',\n",
       " 'deal massive',\n",
       " 'deal massive coronavirus',\n",
       " 'deal massive stimulus',\n",
       " 'deal reached',\n",
       " 'deal reached trillion',\n",
       " 'deal trillion',\n",
       " 'deal trillion stimulus',\n",
       " 'death',\n",
       " 'death panels',\n",
       " 'death penalty',\n",
       " 'death toll',\n",
       " 'deaths',\n",
       " 'debate',\n",
       " 'debt',\n",
       " 'debt borrower',\n",
       " 'debt borrower amid',\n",
       " 'decide',\n",
       " 'decide dies',\n",
       " 'decided',\n",
       " 'decision',\n",
       " 'declaration',\n",
       " 'declares',\n",
       " 'deep',\n",
       " 'defend',\n",
       " 'defends',\n",
       " 'defense',\n",
       " 'defense production',\n",
       " 'defense production act',\n",
       " 'definitely',\n",
       " 'defying',\n",
       " 'delay',\n",
       " 'delivery',\n",
       " 'dem',\n",
       " 'dem rep',\n",
       " 'dem rep told',\n",
       " 'demand',\n",
       " 'demand people',\n",
       " 'demand people bailout',\n",
       " 'demanding',\n",
       " 'demands',\n",
       " 'demands trump',\n",
       " 'democracy',\n",
       " 'democrat',\n",
       " 'democratic',\n",
       " 'democratic senator',\n",
       " 'democrats',\n",
       " 'democrats block',\n",
       " 'democrats block coronavirus',\n",
       " 'democrats block mammoth',\n",
       " 'democrats blocking',\n",
       " 'democrats don',\n",
       " 'democrats introduce',\n",
       " 'democrats propose',\n",
       " 'democrats really',\n",
       " 'democrats stimulus',\n",
       " 'democrats unveil',\n",
       " 'democrats unveil cancel',\n",
       " 'democrats want',\n",
       " 'dems',\n",
       " 'dems blocking',\n",
       " 'dems worried',\n",
       " 'dems worried stimulus',\n",
       " 'dependence',\n",
       " 'dependence chinese',\n",
       " 'dependence chinese drugs',\n",
       " 'depression',\n",
       " 'depths',\n",
       " 'deputies',\n",
       " 'deputies patrol',\n",
       " 'desantis',\n",
       " 'despite',\n",
       " 'despite coronavirus',\n",
       " 'despite coronavirus outbreak',\n",
       " 'despite trump',\n",
       " 'destroy',\n",
       " 'destroy country',\n",
       " 'destroying',\n",
       " 'detainee',\n",
       " 'devos',\n",
       " 'diagnosis',\n",
       " 'dianne',\n",
       " 'dianne feinstein',\n",
       " 'did',\n",
       " 'didn',\n",
       " 'die',\n",
       " 'die economy',\n",
       " 'die economy going',\n",
       " 'die save',\n",
       " 'die save economy',\n",
       " 'died',\n",
       " 'died ingesting',\n",
       " 'died ingesting chloroquine',\n",
       " 'dies',\n",
       " 'dies coronavirus',\n",
       " 'dies ingesting',\n",
       " 'dies ingesting chloroquine',\n",
       " 'digital',\n",
       " 'direct',\n",
       " 'directly',\n",
       " 'directly solar',\n",
       " 'directly solar eclipse',\n",
       " 'disaster',\n",
       " 'disastrous',\n",
       " 'discussion',\n",
       " 'discussion thread',\n",
       " 'discussion thread white',\n",
       " 'disease',\n",
       " 'disease expert',\n",
       " 'disgraceful',\n",
       " 'disinformation',\n",
       " 'disinformation coronavirus',\n",
       " 'dismisses',\n",
       " 'distancing',\n",
       " 'distancing guidelines',\n",
       " 'distract',\n",
       " 'distressed',\n",
       " 'dnc',\n",
       " 'doctor',\n",
       " 'doctors',\n",
       " 'doctors coronavirus',\n",
       " 'doctors stockpile',\n",
       " 'dodged',\n",
       " 'does',\n",
       " 'doesn',\n",
       " 'doing',\n",
       " 'doj',\n",
       " 'doj seeks',\n",
       " 'doj seeks new',\n",
       " 'dollar',\n",
       " 'dollars',\n",
       " 'don',\n",
       " 'don trust',\n",
       " 'don want',\n",
       " 'donald',\n",
       " 'donald trump',\n",
       " 'donates',\n",
       " 'dose',\n",
       " 'dose reality',\n",
       " 'doubling',\n",
       " 'doubling days',\n",
       " 'dow',\n",
       " 'downplayed',\n",
       " 'downplays',\n",
       " 'dozens',\n",
       " 'dr',\n",
       " 'dr anthony',\n",
       " 'dr anthony fauci',\n",
       " 'dr fauci',\n",
       " 'draft',\n",
       " 'drive',\n",
       " 'drop',\n",
       " 'drug',\n",
       " 'drug touted',\n",
       " 'drugs',\n",
       " 'drugs coronavirus',\n",
       " 'drugs coronavirus patients',\n",
       " 'dumb',\n",
       " 'dying',\n",
       " 'eager',\n",
       " 'early',\n",
       " 'ease',\n",
       " 'easter',\n",
       " 'eclipse',\n",
       " 'economic',\n",
       " 'economic rescue',\n",
       " 'economic shutdown',\n",
       " 'economist',\n",
       " 'economist jeffrey',\n",
       " 'economist jeffrey sachs',\n",
       " 'economy',\n",
       " 'economy families',\n",
       " 'economy going',\n",
       " 'economy human',\n",
       " 'ed',\n",
       " 'editorial',\n",
       " 'editorial board',\n",
       " 'edt',\n",
       " 'education',\n",
       " 'effort',\n",
       " 'efforts',\n",
       " 'elderly',\n",
       " 'elderly die',\n",
       " 'election',\n",
       " 'election mail',\n",
       " 'election officials',\n",
       " 'elective',\n",
       " 'eliminate',\n",
       " 'elizabeth',\n",
       " 'elizabeth warren',\n",
       " 'embarrassing',\n",
       " 'embraces',\n",
       " 'emergency',\n",
       " 'emergency coronavirus',\n",
       " 'emergency funding',\n",
       " 'emergency order',\n",
       " 'emergency order barring',\n",
       " 'emergency powers',\n",
       " 'emergency powers amid',\n",
       " 'emissions',\n",
       " 'emissions standards',\n",
       " 'emissions standards airplanes',\n",
       " 'employers',\n",
       " 'end',\n",
       " 'end social',\n",
       " 'end social distancing',\n",
       " 'ending',\n",
       " 'endorsed',\n",
       " 'endorses',\n",
       " 'enforce',\n",
       " 'environmental',\n",
       " 'epicenter',\n",
       " 'epicentre',\n",
       " 'epidemic',\n",
       " 'epidemiologist',\n",
       " 'equipment',\n",
       " 'equity',\n",
       " 'equity stake',\n",
       " 'error',\n",
       " 'escalates',\n",
       " 'essential',\n",
       " 'essential business',\n",
       " 'european',\n",
       " 'event',\n",
       " 'everybody',\n",
       " 'evidence',\n",
       " 'ex',\n",
       " 'exactly',\n",
       " 'exclusive',\n",
       " 'execs',\n",
       " 'executive',\n",
       " 'expect',\n",
       " 'expect coronavirus',\n",
       " 'expect coronavirus stimulus',\n",
       " 'expert',\n",
       " 'expert warnings',\n",
       " 'experts',\n",
       " 'experts say',\n",
       " 'experts warn',\n",
       " 'explain',\n",
       " 'explains',\n",
       " 'exploit',\n",
       " 'exploit coronavirus',\n",
       " 'extra',\n",
       " 'eyes',\n",
       " 'face',\n",
       " 'face masks',\n",
       " 'faces',\n",
       " 'fact',\n",
       " 'fact check',\n",
       " 'fact check trump',\n",
       " 'fail',\n",
       " 'failing',\n",
       " 'fails',\n",
       " 'fair',\n",
       " 'fake',\n",
       " 'fake whistleblowers',\n",
       " 'fake whistleblowers residents',\n",
       " 'falling',\n",
       " 'falls',\n",
       " 'falls far',\n",
       " 'falls far short',\n",
       " 'false',\n",
       " 'false choice',\n",
       " 'false choice coronavirus',\n",
       " 'false hope',\n",
       " 'falsely',\n",
       " 'falsely claiming',\n",
       " 'falwell',\n",
       " 'families',\n",
       " 'families act',\n",
       " 'family',\n",
       " 'far',\n",
       " 'far history',\n",
       " 'far short',\n",
       " 'fast',\n",
       " 'fauci',\n",
       " 'fauci aides',\n",
       " 'fauci aides say',\n",
       " 'fauci coronavirus',\n",
       " 'fauci media',\n",
       " 'fauci media stop',\n",
       " 'fauci says',\n",
       " 'fault',\n",
       " 'fda',\n",
       " 'fear',\n",
       " 'fears',\n",
       " 'february',\n",
       " 'fed',\n",
       " 'federal',\n",
       " 'federal government',\n",
       " 'feds',\n",
       " 'feinstein',\n",
       " 'fema',\n",
       " 'fema chief',\n",
       " 'fight',\n",
       " 'fight coronavirus',\n",
       " 'fight trump',\n",
       " 'fighting',\n",
       " 'fighting coronavirus',\n",
       " 'filed',\n",
       " 'filled',\n",
       " 'final',\n",
       " 'finally',\n",
       " 'finance',\n",
       " 'financial',\n",
       " 'finds',\n",
       " 'fine',\n",
       " 'firms',\n",
       " 'fish',\n",
       " 'fish tank',\n",
       " 'fish tank cleaner',\n",
       " 'fit',\n",
       " 'fit vision',\n",
       " 'flashback',\n",
       " 'floor',\n",
       " 'florida',\n",
       " 'florida governor',\n",
       " 'flu',\n",
       " 'flying',\n",
       " 'focus',\n",
       " ...]"
      ]
     },
     "execution_count": 101,
     "metadata": {},
     "output_type": "execute_result"
    }
   ],
   "source": [
    "vocab"
   ]
  },
  {
   "cell_type": "markdown",
   "metadata": {},
   "source": [
    "### Modeling"
   ]
  },
  {
   "cell_type": "code",
   "execution_count": 102,
   "metadata": {},
   "outputs": [],
   "source": [
    "lr = LogisticRegression(penalty = 'l2')"
   ]
  },
  {
   "cell_type": "code",
   "execution_count": 103,
   "metadata": {},
   "outputs": [
    {
     "data": {
      "text/plain": [
       "((1365, 5000), (1365,))"
      ]
     },
     "execution_count": 103,
     "metadata": {},
     "output_type": "execute_result"
    }
   ],
   "source": [
    "train_data_features.shape, y_train.shape"
   ]
  },
  {
   "cell_type": "code",
   "execution_count": 104,
   "metadata": {},
   "outputs": [
    {
     "name": "stderr",
     "output_type": "stream",
     "text": [
      "/opt/anaconda3/lib/python3.7/site-packages/sklearn/linear_model/logistic.py:432: FutureWarning: Default solver will be changed to 'lbfgs' in 0.22. Specify a solver to silence this warning.\n",
      "  FutureWarning)\n"
     ]
    },
    {
     "data": {
      "text/plain": [
       "0.9794871794871794"
      ]
     },
     "execution_count": 104,
     "metadata": {},
     "output_type": "execute_result"
    }
   ],
   "source": [
    "lr.fit(train_data_features, y_train)\n",
    "\n",
    "lr.score(train_data_features, y_train)"
   ]
  },
  {
   "cell_type": "code",
   "execution_count": 105,
   "metadata": {},
   "outputs": [
    {
     "data": {
      "text/plain": [
       "0.743421052631579"
      ]
     },
     "execution_count": 105,
     "metadata": {},
     "output_type": "execute_result"
    }
   ],
   "source": [
    "lr.score(test_data_features, y_test)"
   ]
  },
  {
   "cell_type": "code",
   "execution_count": 106,
   "metadata": {},
   "outputs": [],
   "source": [
    "coef_list = lr.coef_.tolist()\n",
    "\n",
    "coef_list = coef_list[0]"
   ]
  },
  {
   "cell_type": "code",
   "execution_count": 107,
   "metadata": {
    "scrolled": true
   },
   "outputs": [
    {
     "data": {
      "text/html": [
       "<div>\n",
       "<style scoped>\n",
       "    .dataframe tbody tr th:only-of-type {\n",
       "        vertical-align: middle;\n",
       "    }\n",
       "\n",
       "    .dataframe tbody tr th {\n",
       "        vertical-align: top;\n",
       "    }\n",
       "\n",
       "    .dataframe thead th {\n",
       "        text-align: right;\n",
       "    }\n",
       "</style>\n",
       "<table border=\"1\" class=\"dataframe\">\n",
       "  <thead>\n",
       "    <tr style=\"text-align: right;\">\n",
       "      <th></th>\n",
       "      <th>features</th>\n",
       "      <th>coefs</th>\n",
       "    </tr>\n",
       "  </thead>\n",
       "  <tbody>\n",
       "    <tr>\n",
       "      <td>1637</td>\n",
       "      <td>media</td>\n",
       "      <td>-1.593190</td>\n",
       "    </tr>\n",
       "    <tr>\n",
       "      <td>381</td>\n",
       "      <td>china</td>\n",
       "      <td>-1.592705</td>\n",
       "    </tr>\n",
       "    <tr>\n",
       "      <td>2909</td>\n",
       "      <td>president trump</td>\n",
       "      <td>-1.294702</td>\n",
       "    </tr>\n",
       "    <tr>\n",
       "      <td>738</td>\n",
       "      <td>dems</td>\n",
       "      <td>-1.193090</td>\n",
       "    </tr>\n",
       "    <tr>\n",
       "      <td>392</td>\n",
       "      <td>chinese</td>\n",
       "      <td>-1.107759</td>\n",
       "    </tr>\n",
       "    <tr>\n",
       "      <td>...</td>\n",
       "      <td>...</td>\n",
       "      <td>...</td>\n",
       "    </tr>\n",
       "    <tr>\n",
       "      <td>2311</td>\n",
       "      <td>nra</td>\n",
       "      <td>1.007092</td>\n",
       "    </tr>\n",
       "    <tr>\n",
       "      <td>4797</td>\n",
       "      <td>unemployment</td>\n",
       "      <td>1.141411</td>\n",
       "    </tr>\n",
       "    <tr>\n",
       "      <td>2219</td>\n",
       "      <td>need</td>\n",
       "      <td>1.215471</td>\n",
       "    </tr>\n",
       "    <tr>\n",
       "      <td>1465</td>\n",
       "      <td>mail</td>\n",
       "      <td>1.448735</td>\n",
       "    </tr>\n",
       "    <tr>\n",
       "      <td>4710</td>\n",
       "      <td>trump</td>\n",
       "      <td>1.911170</td>\n",
       "    </tr>\n",
       "  </tbody>\n",
       "</table>\n",
       "<p>5000 rows × 2 columns</p>\n",
       "</div>"
      ],
      "text/plain": [
       "             features     coefs\n",
       "1637            media -1.593190\n",
       "381             china -1.592705\n",
       "2909  president trump -1.294702\n",
       "738              dems -1.193090\n",
       "392           chinese -1.107759\n",
       "...               ...       ...\n",
       "2311              nra  1.007092\n",
       "4797     unemployment  1.141411\n",
       "2219             need  1.215471\n",
       "1465             mail  1.448735\n",
       "4710            trump  1.911170\n",
       "\n",
       "[5000 rows x 2 columns]"
      ]
     },
     "execution_count": 107,
     "metadata": {},
     "output_type": "execute_result"
    }
   ],
   "source": [
    "coef_df = pd.DataFrame({'features' : vectorizer.get_feature_names(),\n",
    "                       'coefs' : coef_list})\n",
    "\n",
    "coef_df.sort_values(by = ['coefs'])"
   ]
  },
  {
   "cell_type": "code",
   "execution_count": 111,
   "metadata": {},
   "outputs": [
    {
     "data": {
      "text/html": [
       "<div>\n",
       "<style scoped>\n",
       "    .dataframe tbody tr th:only-of-type {\n",
       "        vertical-align: middle;\n",
       "    }\n",
       "\n",
       "    .dataframe tbody tr th {\n",
       "        vertical-align: top;\n",
       "    }\n",
       "\n",
       "    .dataframe thead th {\n",
       "        text-align: right;\n",
       "    }\n",
       "</style>\n",
       "<table border=\"1\" class=\"dataframe\">\n",
       "  <thead>\n",
       "    <tr style=\"text-align: right;\">\n",
       "      <th></th>\n",
       "      <th>features</th>\n",
       "      <th>coefs</th>\n",
       "    </tr>\n",
       "  </thead>\n",
       "  <tbody>\n",
       "    <tr>\n",
       "      <td>44</td>\n",
       "      <td>450</td>\n",
       "      <td>0.064635</td>\n",
       "    </tr>\n",
       "    <tr>\n",
       "      <td>45</td>\n",
       "      <td>450 progressive</td>\n",
       "      <td>0.064635</td>\n",
       "    </tr>\n",
       "    <tr>\n",
       "      <td>46</td>\n",
       "      <td>450 progressive organizations</td>\n",
       "      <td>0.064635</td>\n",
       "    </tr>\n",
       "    <tr>\n",
       "      <td>1313</td>\n",
       "      <td>join 450</td>\n",
       "      <td>0.064635</td>\n",
       "    </tr>\n",
       "    <tr>\n",
       "      <td>1314</td>\n",
       "      <td>join 450 progressive</td>\n",
       "      <td>0.064635</td>\n",
       "    </tr>\n",
       "    <tr>\n",
       "      <td>1369</td>\n",
       "      <td>leaders join 450</td>\n",
       "      <td>0.064635</td>\n",
       "    </tr>\n",
       "  </tbody>\n",
       "</table>\n",
       "</div>"
      ],
      "text/plain": [
       "                           features     coefs\n",
       "44                              450  0.064635\n",
       "45                  450 progressive  0.064635\n",
       "46    450 progressive organizations  0.064635\n",
       "1313                       join 450  0.064635\n",
       "1314           join 450 progressive  0.064635\n",
       "1369               leaders join 450  0.064635"
      ]
     },
     "execution_count": 111,
     "metadata": {},
     "output_type": "execute_result"
    }
   ],
   "source": [
    "coef_df.loc[coef_df.features.str.contains('45')]"
   ]
  },
  {
   "cell_type": "code",
   "execution_count": 110,
   "metadata": {},
   "outputs": [
    {
     "name": "stdout",
     "output_type": "stream",
     "text": [
      "<class 'pandas.core.frame.DataFrame'>\n",
      "RangeIndex: 5000 entries, 0 to 4999\n",
      "Data columns (total 2 columns):\n",
      "features    5000 non-null object\n",
      "coefs       5000 non-null float64\n",
      "dtypes: float64(1), object(1)\n",
      "memory usage: 78.2+ KB\n"
     ]
    }
   ],
   "source": [
    "coef_df.info()"
   ]
  },
  {
   "cell_type": "markdown",
   "metadata": {},
   "source": [
    "# Understanding word vectors"
   ]
  },
  {
   "cell_type": "markdown",
   "metadata": {},
   "source": [
    "... for, like, actual poets. By [Allison Parrish](http://www.decontextualize.com/)\n",
    "\n",
    "\n",
    "## Why word vectors?\n",
    "\n",
    "Poetry is, at its core, the art of identifying and manipulating linguistic similarity. I have discovered a truly marvelous proof of this, which this notebook is too narrow to contain. (By which I mean: I will elaborate on this some other time)"
   ]
  },
  {
   "cell_type": "markdown",
   "metadata": {},
   "source": [
    "## Animal similarity and simple linear algebra\n",
    "\n",
    "We'll begin by considering a small subset of English: words for animals. Our task is to be able to write computer programs to find similarities among these words and the creatures they designate. To do this, we might start by making a spreadsheet of some animals and their characteristics. For example:\n",
    "\n",
    "![Animal spreadsheet](http://static.decontextualize.com/snaps/animal-spreadsheet.png)\n",
    "\n",
    "This spreadsheet associates a handful of animals with two numbers: their cuteness and their size, both in a range from zero to one hundred. (The values themselves are simply based on my own judgment. Your taste in cuteness and evaluation of size may differ significantly from mine. As with all data, these data are simply a mirror reflection of the person who collected them.)\n",
    "\n",
    "These values give us everything we need to make determinations about which animals are similar (at least, similar in the properties that we've included in the data). Try to answer the following question: Which animal is most similar to a capybara? You could go through the values one by one and do the math to make that evaluation, but visualizing the data as points in 2-dimensional space makes finding the answer very intuitive:\n",
    "\n",
    "![Animal space](http://static.decontextualize.com/snaps/animal-space.png)\n",
    "\n",
    "The plot shows us that the closest animal to the capybara is the panda bear (again, in terms of its subjective size and cuteness). One way of calculating how \"far apart\" two points are is to find their *Euclidean distance*. (This is simply the length of the line that connects the two points.) For points in two dimensions, Euclidean distance can be calculated with the following Python function:"
   ]
  },
  {
   "cell_type": "code",
   "execution_count": 112,
   "metadata": {},
   "outputs": [],
   "source": [
    "import numpy as np\n",
    "def distance2d(x1, y1, x2, y2):\n",
    "    return np.linalg.norm(np.array([x1, y1])-np.array([x2, y2]))"
   ]
  },
  {
   "cell_type": "markdown",
   "metadata": {},
   "source": [
    "So, the distance between \"capybara\" (70, 30) and \"panda\" (74, 40):"
   ]
  },
  {
   "cell_type": "code",
   "execution_count": 113,
   "metadata": {},
   "outputs": [
    {
     "data": {
      "text/plain": [
       "11.180339887498949"
      ]
     },
     "execution_count": 113,
     "metadata": {},
     "output_type": "execute_result"
    }
   ],
   "source": [
    "distance2d(70, 30, 75, 40) # panda and capybara"
   ]
  },
  {
   "cell_type": "markdown",
   "metadata": {},
   "source": [
    "... is less than the distance between \"tarantula\" and \"elephant\":"
   ]
  },
  {
   "cell_type": "code",
   "execution_count": 114,
   "metadata": {},
   "outputs": [
    {
     "data": {
      "text/plain": [
       "104.0096149401583"
      ]
     },
     "execution_count": 114,
     "metadata": {},
     "output_type": "execute_result"
    }
   ],
   "source": [
    "distance2d(8, 3, 65, 90) # tarantula and elephant"
   ]
  },
  {
   "cell_type": "markdown",
   "metadata": {},
   "source": [
    "Modeling animals in this way has a few other interesting properties. For example, you can pick an arbitrary point in \"animal space\" and then find the animal closest to that point. If you imagine an animal of size 25 and cuteness 30, you can easily look at the space to find the animal that most closely fits that description: the chicken.\n",
    "\n",
    "Reasoning visually, you can also answer questions like: what's halfway between a chicken and an elephant? Simply draw a line from \"elephant\" to \"chicken,\" mark off the midpoint and find the closest animal. (According to our chart, halfway between an elephant and a chicken is a horse.)\n",
    "\n",
    "You can also ask: what's the *difference* between a hamster and a tarantula? According to our plot, it's about seventy five units of cute (and a few units of size).\n",
    "\n",
    "The relationship of \"difference\" is an interesting one, because it allows us to reason about *analogous* relationships. In the chart below, I've drawn an arrow from \"tarantula\" to \"hamster\" (in blue):\n",
    "\n",
    "![Animal analogy](http://static.decontextualize.com/snaps/animal-space-analogy.png)\n",
    "\n",
    "You can understand this arrow as being the *relationship* between a tarantula and a hamster, in terms of their size and cuteness (i.e., hamsters and tarantulas are about the same size, but hamsters are much cuter). In the same diagram, I've also transposed this same arrow (this time in red) so that its origin point is \"chicken.\" The arrow ends closest to \"kitten.\" What we've discovered is that the animal that is about the same size as a chicken but much cuter is... a kitten. To put it in terms of an analogy:\n",
    "\n",
    "    Tarantulas are to hamsters as chickens are to kittens.\n",
    "    \n",
    "A sequence of numbers used to identify a point is called a *vector*, and the kind of math we've been doing so far is called *linear algebra.* (Linear algebra is surprisingly useful across many domains: It's the same kind of math you might do to, e.g., simulate the velocity and acceleration of a sprite in a video game.)\n",
    "\n",
    "A set of vectors that are all part of the same data set is often called a *vector space*. The vector space of animals in this section has two *dimensions*, by which I mean that each vector in the space has two numbers associated with it (i.e., two columns in the spreadsheet). The fact that this space has two dimensions just happens to make it easy to *visualize* the space by drawing a 2D plot. But most vector spaces you'll work with will have more than two dimensions—sometimes many hundreds. In those cases, it's more difficult to visualize the \"space,\" but the math works pretty much the same."
   ]
  },
  {
   "cell_type": "markdown",
   "metadata": {},
   "source": [
    "## Language with vectors: colors\n",
    "\n",
    "So far, so good. We have a system in place—albeit highly subjective—for talking about animals and the words used to name them. I want to talk about another vector space that has to do with language: the vector space of colors.\n",
    "\n",
    "Colors are often represented in computers as vectors with three dimensions: red, green, and blue. Just as with the animals in the previous section, we can use these vectors to answer questions like: which colors are similar? What's the most likely color name for an arbitrarily chosen set of values for red, green and blue? Given the names of two colors, what's the name of those colors' \"average\"?\n",
    "\n",
    "We'll be working with this [color data](https://github.com/dariusk/corpora/blob/master/data/colors/xkcd.json) from the [xkcd color survey](https://blog.xkcd.com/2010/05/03/color-survey-results/). The data relates a color name to the RGB value associated with that color. [Here's a page that shows what the colors look like](https://xkcd.com/color/rgb/). Download the color data and put it in the same directory as this notebook.\n",
    "\n",
    "A few notes before we proceed:\n",
    "\n",
    "* The linear algebra functions implemented below (`addv`, `meanv`, etc.) are slow, potentially inaccurate, and shouldn't be used for \"real\" code—I wrote them so beginner programmers can understand how these kinds of functions work behind the scenes. Use [numpy](http://www.numpy.org/) for fast and accurate math in Python.\n",
    "* If you're interested in perceptually accurate color math in Python, consider using the [colormath library](http://python-colormath.readthedocs.io/en/latest/).\n",
    "\n",
    "Now, import the `json` library and load the color data:"
   ]
  },
  {
   "cell_type": "code",
   "execution_count": 115,
   "metadata": {},
   "outputs": [],
   "source": [
    "import requests"
   ]
  },
  {
   "cell_type": "code",
   "execution_count": 116,
   "metadata": {},
   "outputs": [],
   "source": [
    "resp = requests.get('https://raw.githubusercontent.com/dariusk/corpora/master/data/colors/xkcd.json')\n",
    "color_data = resp.json()"
   ]
  },
  {
   "cell_type": "markdown",
   "metadata": {},
   "source": [
    "The following function converts colors from hex format (`#1a2b3c`) to a tuple of integers:"
   ]
  },
  {
   "cell_type": "code",
   "execution_count": 117,
   "metadata": {},
   "outputs": [],
   "source": [
    "def hex_to_int(s):\n",
    "    return int(s[1:3], 16), int(s[3:5], 16), int(s[5:7], 16)"
   ]
  },
  {
   "cell_type": "markdown",
   "metadata": {},
   "source": [
    "And the following cell creates a dictionary and populates it with mappings from color names to RGB vectors for each color in the data:"
   ]
  },
  {
   "cell_type": "code",
   "execution_count": 118,
   "metadata": {},
   "outputs": [],
   "source": [
    "colors = dict()\n",
    "for item in color_data['colors']:\n",
    "    colors[item[\"color\"]] = hex_to_int(item[\"hex\"])"
   ]
  },
  {
   "cell_type": "markdown",
   "metadata": {},
   "source": [
    "Testing it out:"
   ]
  },
  {
   "cell_type": "code",
   "execution_count": 119,
   "metadata": {},
   "outputs": [
    {
     "data": {
      "text/plain": [
       "(110, 117, 14)"
      ]
     },
     "execution_count": 119,
     "metadata": {},
     "output_type": "execute_result"
    }
   ],
   "source": [
    "colors['olive']"
   ]
  },
  {
   "cell_type": "code",
   "execution_count": 120,
   "metadata": {},
   "outputs": [
    {
     "data": {
      "text/plain": [
       "(229, 0, 0)"
      ]
     },
     "execution_count": 120,
     "metadata": {},
     "output_type": "execute_result"
    }
   ],
   "source": [
    "colors['red']"
   ]
  },
  {
   "cell_type": "code",
   "execution_count": 121,
   "metadata": {},
   "outputs": [
    {
     "data": {
      "text/plain": [
       "(0, 0, 0)"
      ]
     },
     "execution_count": 121,
     "metadata": {},
     "output_type": "execute_result"
    }
   ],
   "source": [
    "colors['black']"
   ]
  },
  {
   "cell_type": "code",
   "execution_count": 122,
   "metadata": {},
   "outputs": [
    {
     "data": {
      "text/plain": [
       "dict_keys(['cloudy blue', 'dark pastel green', 'dust', 'electric lime', 'fresh green', 'light eggplant', 'nasty green', 'really light blue', 'tea', 'warm purple', 'yellowish tan', 'cement', 'dark grass green', 'dusty teal', 'grey teal', 'macaroni and cheese', 'pinkish tan', 'spruce', 'strong blue', 'toxic green', 'windows blue', 'blue blue', 'blue with a hint of purple', 'booger', 'bright sea green', 'dark green blue', 'deep turquoise', 'green teal', 'strong pink', 'bland', 'deep aqua', 'lavender pink', 'light moss green', 'light seafoam green', 'olive yellow', 'pig pink', 'deep lilac', 'desert', 'dusty lavender', 'purpley grey', 'purply', 'candy pink', 'light pastel green', 'boring green', 'kiwi green', 'light grey green', 'orange pink', 'tea green', 'very light brown', 'egg shell', 'eggplant purple', 'powder pink', 'reddish grey', 'baby shit brown', 'liliac', 'stormy blue', 'ugly brown', 'custard', 'darkish pink', 'deep brown', 'greenish beige', 'manilla', 'off blue', 'battleship grey', 'browny green', 'bruise', 'kelley green', 'sickly yellow', 'sunny yellow', 'azul', 'darkgreen', 'green/yellow', 'lichen', 'light light green', 'pale gold', 'sun yellow', 'tan green', 'burple', 'butterscotch', 'toupe', 'dark cream', 'indian red', 'light lavendar', 'poison green', 'baby puke green', 'bright yellow green', 'charcoal grey', 'squash', 'cinnamon', 'light pea green', 'radioactive green', 'raw sienna', 'baby purple', 'cocoa', 'light royal blue', 'orangeish', 'rust brown', 'sand brown', 'swamp', 'tealish green', 'burnt siena', 'camo', 'dusk blue', 'fern', 'old rose', 'pale light green', 'peachy pink', 'rosy pink', 'light bluish green', 'light bright green', 'light neon green', 'light seafoam', 'tiffany blue', 'washed out green', 'browny orange', 'nice blue', 'sapphire', 'greyish teal', 'orangey yellow', 'parchment', 'straw', 'very dark brown', 'terracota', 'ugly blue', 'clear blue', 'creme', 'foam green', 'grey/green', 'light gold', 'seafoam blue', 'topaz', 'violet pink', 'wintergreen', 'yellow tan', 'dark fuchsia', 'indigo blue', 'light yellowish green', 'pale magenta', 'rich purple', 'sunflower yellow', 'green/blue', 'leather', 'racing green', 'vivid purple', 'dark royal blue', 'hazel', 'muted pink', 'booger green', 'canary', 'cool grey', 'dark taupe', 'darkish purple', 'true green', 'coral pink', 'dark sage', 'dark slate blue', 'flat blue', 'mushroom', 'rich blue', 'dirty purple', 'greenblue', 'icky green', 'light khaki', 'warm blue', 'dark hot pink', 'deep sea blue', 'carmine', 'dark yellow green', 'pale peach', 'plum purple', 'golden rod', 'neon red', 'old pink', 'very pale blue', 'blood orange', 'grapefruit', 'sand yellow', 'clay brown', 'dark blue grey', 'flat green', 'light green blue', 'warm pink', 'dodger blue', 'gross green', 'ice', 'metallic blue', 'pale salmon', 'sap green', 'algae', 'bluey grey', 'greeny grey', 'highlighter green', 'light light blue', 'light mint', 'raw umber', 'vivid blue', 'deep lavender', 'dull teal', 'light greenish blue', 'mud green', 'pinky', 'red wine', 'shit green', 'tan brown', 'darkblue', 'rosa', 'lipstick', 'pale mauve', 'claret', 'dandelion', 'orangered', 'poop green', 'ruby', 'dark', 'greenish turquoise', 'pastel red', 'piss yellow', 'bright cyan', 'dark coral', 'algae green', 'darkish red', 'reddy brown', 'blush pink', 'camouflage green', 'lawn green', 'putty', 'vibrant blue', 'dark sand', 'purple/blue', 'saffron', 'twilight', 'warm brown', 'bluegrey', 'bubble gum pink', 'duck egg blue', 'greenish cyan', 'petrol', 'royal', 'butter', 'dusty orange', 'off yellow', 'pale olive green', 'orangish', 'leaf', 'light blue grey', 'dried blood', 'lightish purple', 'rusty red', 'lavender blue', 'light grass green', 'light mint green', 'sunflower', 'velvet', 'brick orange', 'lightish red', 'pure blue', 'twilight blue', 'violet red', 'yellowy brown', 'carnation', 'muddy yellow', 'dark seafoam green', 'deep rose', 'dusty red', 'grey/blue', 'lemon lime', 'purple/pink', 'brown yellow', 'purple brown', 'wisteria', 'banana yellow', 'lipstick red', 'water blue', 'brown grey', 'vibrant purple', 'baby green', 'barf green', 'eggshell blue', 'sandy yellow', 'cool green', 'pale', 'blue/grey', 'hot magenta', 'greyblue', 'purpley', 'baby shit green', 'brownish pink', 'dark aquamarine', 'diarrhea', 'light mustard', 'pale sky blue', 'turtle green', 'bright olive', 'dark grey blue', 'greeny brown', 'lemon green', 'light periwinkle', 'seaweed green', 'sunshine yellow', 'ugly purple', 'medium pink', 'puke brown', 'very light pink', 'viridian', 'bile', 'faded yellow', 'very pale green', 'vibrant green', 'bright lime', 'spearmint', 'light aquamarine', 'light sage', 'yellowgreen', 'baby poo', 'dark seafoam', 'deep teal', 'heather', 'rust orange', 'dirty blue', 'fern green', 'bright lilac', 'weird green', 'peacock blue', 'avocado green', 'faded orange', 'grape purple', 'hot green', 'lime yellow', 'mango', 'shamrock', 'bubblegum', 'purplish brown', 'vomit yellow', 'pale cyan', 'key lime', 'tomato red', 'lightgreen', 'merlot', 'night blue', 'purpleish pink', 'apple', 'baby poop green', 'green apple', 'heliotrope', 'yellow/green', 'almost black', 'cool blue', 'leafy green', 'mustard brown', 'dusk', 'dull brown', 'frog green', 'vivid green', 'bright light green', 'fluro green', 'kiwi', 'seaweed', 'navy green', 'ultramarine blue', 'iris', 'pastel orange', 'yellowish orange', 'perrywinkle', 'tealish', 'dark plum', 'pear', 'pinkish orange', 'midnight purple', 'light urple', 'dark mint', 'greenish tan', 'light burgundy', 'turquoise blue', 'ugly pink', 'sandy', 'electric pink', 'muted purple', 'mid green', 'greyish', 'neon yellow', 'banana', 'carnation pink', 'tomato', 'sea', 'muddy brown', 'turquoise green', 'buff', 'fawn', 'muted blue', 'pale rose', 'dark mint green', 'amethyst', 'blue/green', 'chestnut', 'sick green', 'pea', 'rusty orange', 'stone', 'rose red', 'pale aqua', 'deep orange', 'earth', 'mossy green', 'grassy green', 'pale lime green', 'light grey blue', 'pale grey', 'asparagus', 'blueberry', 'purple red', 'pale lime', 'greenish teal', 'caramel', 'deep magenta', 'light peach', 'milk chocolate', 'ocher', 'off green', 'purply pink', 'lightblue', 'dusky blue', 'golden', 'light beige', 'butter yellow', 'dusky purple', 'french blue', 'ugly yellow', 'greeny yellow', 'orangish red', 'shamrock green', 'orangish brown', 'tree green', 'deep violet', 'gunmetal', 'blue/purple', 'cherry', 'sandy brown', 'warm grey', 'dark indigo', 'midnight', 'bluey green', 'grey pink', 'soft purple', 'blood', 'brown red', 'medium grey', 'berry', 'poo', 'purpley pink', 'light salmon', 'snot', 'easter purple', 'light yellow green', 'dark navy blue', 'drab', 'light rose', 'rouge', 'purplish red', 'slime green', 'baby poop', 'irish green', 'pink/purple', 'dark navy', 'greeny blue', 'light plum', 'pinkish grey', 'dirty orange', 'rust red', 'pale lilac', 'orangey red', 'primary blue', 'kermit green', 'brownish purple', 'murky green', 'wheat', 'very dark purple', 'bottle green', 'watermelon', 'deep sky blue', 'fire engine red', 'yellow ochre', 'pumpkin orange', 'pale olive', 'light lilac', 'lightish green', 'carolina blue', 'mulberry', 'shocking pink', 'auburn', 'bright lime green', 'celadon', 'pinkish brown', 'poo brown', 'bright sky blue', 'celery', 'dirt brown', 'strawberry', 'dark lime', 'copper', 'medium brown', 'muted green', \"robin's egg\", 'bright aqua', 'bright lavender', 'ivory', 'very light purple', 'light navy', 'pink red', 'olive brown', 'poop brown', 'mustard green', 'ocean green', 'very dark blue', 'dusty green', 'light navy blue', 'minty green', 'adobe', 'barney', 'jade green', 'bright light blue', 'light lime', 'dark khaki', 'orange yellow', 'ocre', 'maize', 'faded pink', 'british racing green', 'sandstone', 'mud brown', 'light sea green', 'robin egg blue', 'aqua marine', 'dark sea green', 'soft pink', 'orangey brown', 'cherry red', 'burnt yellow', 'brownish grey', 'camel', 'purplish grey', 'marine', 'greyish pink', 'pale turquoise', 'pastel yellow', 'bluey purple', 'canary yellow', 'faded red', 'sepia', 'coffee', 'bright magenta', 'mocha', 'ecru', 'purpleish', 'cranberry', 'darkish green', 'brown orange', 'dusky rose', 'melon', 'sickly green', 'silver', 'purply blue', 'purpleish blue', 'hospital green', 'shit brown', 'mid blue', 'amber', 'easter green', 'soft blue', 'cerulean blue', 'golden brown', 'bright turquoise', 'red pink', 'red purple', 'greyish brown', 'vermillion', 'russet', 'steel grey', 'lighter purple', 'bright violet', 'prussian blue', 'slate green', 'dirty pink', 'dark blue green', 'pine', 'yellowy green', 'dark gold', 'bluish', 'darkish blue', 'dull red', 'pinky red', 'bronze', 'pale teal', 'military green', 'barbie pink', 'bubblegum pink', 'pea soup green', 'dark mustard', 'shit', 'medium purple', 'very dark green', 'dirt', 'dusky pink', 'red violet', 'lemon yellow', 'pistachio', 'dull yellow', 'dark lime green', 'denim blue', 'teal blue', 'lightish blue', 'purpley blue', 'light indigo', 'swamp green', 'brown green', 'dark maroon', 'hot purple', 'dark forest green', 'faded blue', 'drab green', 'light lime green', 'snot green', 'yellowish', 'light blue green', 'bordeaux', 'light mauve', 'ocean', 'marigold', 'muddy green', 'dull orange', 'steel', 'electric purple', 'fluorescent green', 'yellowish brown', 'blush', 'soft green', 'bright orange', 'lemon', 'purple grey', 'acid green', 'pale lavender', 'violet blue', 'light forest green', 'burnt red', 'khaki green', 'cerise', 'faded purple', 'apricot', 'dark olive green', 'grey brown', 'green grey', 'true blue', 'pale violet', 'periwinkle blue', 'light sky blue', 'blurple', 'green brown', 'bluegreen', 'bright teal', 'brownish yellow', 'pea soup', 'forest', 'barney purple', 'ultramarine', 'purplish', 'puke yellow', 'bluish grey', 'dark periwinkle', 'dark lilac', 'reddish', 'light maroon', 'dusty purple', 'terra cotta', 'avocado', 'marine blue', 'teal green', 'slate grey', 'lighter green', 'electric green', 'dusty blue', 'golden yellow', 'bright yellow', 'light lavender', 'umber', 'poop', 'dark peach', 'jungle green', 'eggshell', 'denim', 'yellow brown', 'dull purple', 'chocolate brown', 'wine red', 'neon blue', 'dirty green', 'light tan', 'ice blue', 'cadet blue', 'dark mauve', 'very light blue', 'grey purple', 'pastel pink', 'very light green', 'dark sky blue', 'evergreen', 'dull pink', 'aubergine', 'mahogany', 'reddish orange', 'deep green', 'vomit green', 'purple pink', 'dusty pink', 'faded green', 'camo green', 'pinky purple', 'pink purple', 'brownish red', 'dark rose', 'mud', 'brownish', 'emerald green', 'pale brown', 'dull blue', 'burnt umber', 'medium green', 'clay', 'light aqua', 'light olive green', 'brownish orange', 'dark aqua', 'purplish pink', 'dark salmon', 'greenish grey', 'jade', 'ugly green', 'dark beige', 'emerald', 'pale red', 'light magenta', 'sky', 'light cyan', 'yellow orange', 'reddish purple', 'reddish pink', 'orchid', 'dirty yellow', 'orange red', 'deep red', 'orange brown', 'cobalt blue', 'neon pink', 'rose pink', 'greyish purple', 'raspberry', 'aqua green', 'salmon pink', 'tangerine', 'brownish green', 'red brown', 'greenish brown', 'pumpkin', 'pine green', 'charcoal', 'baby pink', 'cornflower', 'blue violet', 'chocolate', 'greyish green', 'scarlet', 'green yellow', 'dark olive', 'sienna', 'pastel purple', 'terracotta', 'aqua blue', 'sage green', 'blood red', 'deep pink', 'grass', 'moss', 'pastel blue', 'bluish green', 'green blue', 'dark tan', 'greenish blue', 'pale orange', 'vomit', 'forrest green', 'dark lavender', 'dark violet', 'purple blue', 'dark cyan', 'olive drab', 'pinkish', 'cobalt', 'neon purple', 'light turquoise', 'apple green', 'dull green', 'wine', 'powder blue', 'off white', 'electric blue', 'dark turquoise', 'blue purple', 'azure', 'bright red', 'pinkish red', 'cornflower blue', 'light olive', 'grape', 'greyish blue', 'purplish blue', 'yellowish green', 'greenish yellow', 'medium blue', 'dusty rose', 'light violet', 'midnight blue', 'bluish purple', 'red orange', 'dark magenta', 'greenish', 'ocean blue', 'coral', 'cream', 'reddish brown', 'burnt sienna', 'brick', 'sage', 'grey green', 'white', \"robin's egg blue\", 'moss green', 'steel blue', 'eggplant', 'light yellow', 'leaf green', 'light grey', 'puke', 'pinkish purple', 'sea blue', 'pale purple', 'slate blue', 'blue grey', 'hunter green', 'fuchsia', 'crimson', 'pale yellow', 'ochre', 'mustard yellow', 'light red', 'cerulean', 'pale pink', 'deep blue', 'rust', 'light teal', 'slate', 'goldenrod', 'dark yellow', 'dark grey', 'army green', 'grey blue', 'seafoam', 'puce', 'spring green', 'dark orange', 'sand', 'pastel green', 'mint', 'light orange', 'bright pink', 'chartreuse', 'deep purple', 'dark brown', 'taupe', 'pea green', 'puke green', 'kelly green', 'seafoam green', 'blue green', 'khaki', 'burgundy', 'dark teal', 'brick red', 'royal purple', 'plum', 'mint green', 'gold', 'baby blue', 'yellow green', 'bright purple', 'dark red', 'pale blue', 'grass green', 'navy', 'aquamarine', 'burnt orange', 'neon green', 'bright blue', 'rose', 'light pink', 'mustard', 'indigo', 'lime', 'sea green', 'periwinkle', 'dark pink', 'olive green', 'peach', 'pale green', 'light brown', 'hot pink', 'black', 'lilac', 'navy blue', 'royal blue', 'beige', 'salmon', 'olive', 'maroon', 'bright green', 'dark purple', 'mauve', 'forest green', 'aqua', 'cyan', 'tan', 'dark blue', 'lavender', 'turquoise', 'dark green', 'violet', 'light purple', 'lime green', 'grey', 'sky blue', 'yellow', 'magenta', 'light green', 'orange', 'teal', 'light blue', 'red', 'brown', 'pink', 'blue', 'green', 'purple'])"
      ]
     },
     "execution_count": 122,
     "metadata": {},
     "output_type": "execute_result"
    }
   ],
   "source": [
    "colors.keys()"
   ]
  },
  {
   "cell_type": "markdown",
   "metadata": {},
   "source": [
    "### Vector math\n",
    "\n",
    "Before we keep going, we'll need some functions for performing basic vector arithmetic. These functions will work with vectors in spaces of any number of dimensions.\n",
    "\n",
    "The first function returns the Euclidean distance between two points:"
   ]
  },
  {
   "cell_type": "code",
   "execution_count": 123,
   "metadata": {
    "scrolled": true
   },
   "outputs": [
    {
     "data": {
      "text/plain": [
       "5.0990195135927845"
      ]
     },
     "execution_count": 123,
     "metadata": {},
     "output_type": "execute_result"
    }
   ],
   "source": [
    "import math\n",
    "def distance(coord1, coord2):\n",
    "    return np.linalg.norm(np.array(coord1)-np.array(coord2))\n",
    "distance([10, 1], [5, 2])"
   ]
  },
  {
   "cell_type": "code",
   "execution_count": 126,
   "metadata": {},
   "outputs": [
    {
     "data": {
      "text/plain": [
       "5.196152422706632"
      ]
     },
     "execution_count": 126,
     "metadata": {},
     "output_type": "execute_result"
    }
   ],
   "source": [
    "distance([1,2,3], [4,5,6])"
   ]
  },
  {
   "cell_type": "markdown",
   "metadata": {},
   "source": [
    "The `subtractv` function subtracts one vector from another:"
   ]
  },
  {
   "cell_type": "code",
   "execution_count": 127,
   "metadata": {},
   "outputs": [
    {
     "data": {
      "text/plain": [
       "[5, -1]"
      ]
     },
     "execution_count": 127,
     "metadata": {},
     "output_type": "execute_result"
    }
   ],
   "source": [
    "def subtractv(coord1, coord2):\n",
    "    return list(np.array(coord1) - np.array(coord2))\n",
    "subtractv([10, 1], [5, 2])"
   ]
  },
  {
   "cell_type": "markdown",
   "metadata": {},
   "source": [
    "The `addv` vector adds two vectors together:"
   ]
  },
  {
   "cell_type": "code",
   "execution_count": 128,
   "metadata": {},
   "outputs": [
    {
     "data": {
      "text/plain": [
       "[15, 3]"
      ]
     },
     "execution_count": 128,
     "metadata": {},
     "output_type": "execute_result"
    }
   ],
   "source": [
    "def addv(coord1, coord2):\n",
    "    return list(np.array(coord1) + np.array(coord2))\n",
    "addv([10, 1], [5, 2])"
   ]
  },
  {
   "cell_type": "markdown",
   "metadata": {},
   "source": [
    "And the `meanv` function takes a list of vectors and finds their mean or average:"
   ]
  },
  {
   "cell_type": "code",
   "execution_count": 129,
   "metadata": {},
   "outputs": [
    {
     "data": {
      "text/plain": [
       "[2.0, 2.0]"
      ]
     },
     "execution_count": 129,
     "metadata": {},
     "output_type": "execute_result"
    }
   ],
   "source": [
    "def meanv(coords):\n",
    "    return list(np.mean(coords, axis=0))\n",
    "meanv([[0, 1], [2, 2], [4, 3]])"
   ]
  },
  {
   "cell_type": "markdown",
   "metadata": {},
   "source": [
    "Just as a test, the following cell shows that the distance from \"red\" to \"green\" is greater than the distance from \"red\" to \"pink\":"
   ]
  },
  {
   "cell_type": "code",
   "execution_count": 130,
   "metadata": {},
   "outputs": [
    {
     "data": {
      "text/plain": [
       "True"
      ]
     },
     "execution_count": 130,
     "metadata": {},
     "output_type": "execute_result"
    }
   ],
   "source": [
    "distance(colors['red'], colors['green']) > distance(colors['red'], colors['pink'])"
   ]
  },
  {
   "cell_type": "code",
   "execution_count": 131,
   "metadata": {},
   "outputs": [
    {
     "name": "stdout",
     "output_type": "stream",
     "text": [
      "273.70787347096905\n",
      "232.76812496559748\n"
     ]
    }
   ],
   "source": [
    "print(distance(colors['red'], colors['green']))\n",
    "print(distance(colors['red'], colors['pink']))"
   ]
  },
  {
   "cell_type": "markdown",
   "metadata": {},
   "source": [
    "### Finding the closest item\n",
    "\n",
    "Just as we wanted to find the animal that most closely matched an arbitrary point in cuteness/size space, we'll want to find the closest color name to an arbitrary point in RGB space. The easiest way to find the closest item to an arbitrary vector is simply to find the distance between the target vector and each item in the space, in turn, then sort the list from closest to farthest. The `closest()` function below does just that. By default, it returns a list of the ten closest items to the given vector.\n",
    "\n",
    "> Note: Calculating \"closest neighbors\" like this is fine for the examples in this notebook, but unmanageably slow for vector spaces of any appreciable size. As your vector space grows, you'll want to move to a faster solution, like SciPy's [kdtree](https://docs.scipy.org/doc/scipy-0.14.0/reference/generated/scipy.spatial.KDTree.html) or [Annoy](https://pypi.python.org/pypi/annoy)."
   ]
  },
  {
   "cell_type": "code",
   "execution_count": 132,
   "metadata": {},
   "outputs": [],
   "source": [
    "def closest(space, coord, n=10):\n",
    "    return sorted(space.keys(), key=lambda x: distance(coord, space[x]))[:n]"
   ]
  },
  {
   "cell_type": "markdown",
   "metadata": {},
   "source": [
    "Testing it out, we can find the ten colors closest to \"red\":"
   ]
  },
  {
   "cell_type": "code",
   "execution_count": 133,
   "metadata": {},
   "outputs": [
    {
     "data": {
      "text/plain": [
       "['red',\n",
       " 'fire engine red',\n",
       " 'bright red',\n",
       " 'tomato red',\n",
       " 'cherry red',\n",
       " 'scarlet',\n",
       " 'vermillion',\n",
       " 'orangish red',\n",
       " 'cherry',\n",
       " 'lipstick red']"
      ]
     },
     "execution_count": 133,
     "metadata": {},
     "output_type": "execute_result"
    }
   ],
   "source": [
    "closest(colors, colors['red'])"
   ]
  },
  {
   "cell_type": "markdown",
   "metadata": {},
   "source": [
    "... or the ten colors closest to (150, 60, 150):"
   ]
  },
  {
   "cell_type": "code",
   "execution_count": 136,
   "metadata": {},
   "outputs": [
    {
     "data": {
      "text/plain": [
       "['white',\n",
       " 'pale grey',\n",
       " 'very light pink',\n",
       " 'off white',\n",
       " 'ice blue',\n",
       " 'very pale blue',\n",
       " 'very light blue',\n",
       " 'really light blue',\n",
       " 'eggshell',\n",
       " 'ice']"
      ]
     },
     "execution_count": 136,
     "metadata": {},
     "output_type": "execute_result"
    }
   ],
   "source": [
    "closest(colors, [1000, 1000, 1000])"
   ]
  },
  {
   "cell_type": "markdown",
   "metadata": {},
   "source": [
    "### Color magic\n",
    "\n",
    "The magical part of representing words as vectors is that the vector operations we defined earlier appear to operate on language the same way they operate on numbers. For example, if we find the word closest to the vector resulting from subtracting \"red\" from \"purple,\" we get a series of \"blue\" colors:"
   ]
  },
  {
   "cell_type": "code",
   "execution_count": 142,
   "metadata": {},
   "outputs": [
    {
     "data": {
      "text/plain": [
       "[-255, -255, -255]"
      ]
     },
     "execution_count": 142,
     "metadata": {},
     "output_type": "execute_result"
    }
   ],
   "source": [
    "subtractv(colors['black'], colors['white'])"
   ]
  },
  {
   "cell_type": "markdown",
   "metadata": {},
   "source": [
    "This matches our intuition about RGB colors, which is that purple is a combination of red and blue. Take away the red, and blue is all you have left.\n",
    "\n",
    "You can do something similar with addition. What's blue plus green?"
   ]
  },
  {
   "cell_type": "code",
   "execution_count": 143,
   "metadata": {},
   "outputs": [
    {
     "data": {
      "text/plain": [
       "['bright turquoise',\n",
       " 'bright light blue',\n",
       " 'bright aqua',\n",
       " 'cyan',\n",
       " 'neon blue',\n",
       " 'aqua blue',\n",
       " 'bright cyan',\n",
       " 'bright sky blue',\n",
       " 'aqua',\n",
       " 'bright teal']"
      ]
     },
     "execution_count": 143,
     "metadata": {},
     "output_type": "execute_result"
    }
   ],
   "source": [
    "closest(colors, addv(colors['blue'], colors['green']))"
   ]
  },
  {
   "cell_type": "markdown",
   "metadata": {},
   "source": [
    "That's right, it's something like turquoise or cyan! What if we find the average of black and white? Predictably, we get gray:"
   ]
  },
  {
   "cell_type": "code",
   "execution_count": 144,
   "metadata": {},
   "outputs": [
    {
     "data": {
      "text/plain": [
       "['medium grey',\n",
       " 'purple grey',\n",
       " 'steel grey',\n",
       " 'battleship grey',\n",
       " 'grey purple',\n",
       " 'purplish grey',\n",
       " 'greyish purple',\n",
       " 'steel',\n",
       " 'warm grey',\n",
       " 'green grey']"
      ]
     },
     "execution_count": 144,
     "metadata": {},
     "output_type": "execute_result"
    }
   ],
   "source": [
    "# the average of black and white: medium grey\n",
    "closest(colors, meanv([colors['black'], colors['white']]))"
   ]
  },
  {
   "cell_type": "markdown",
   "metadata": {},
   "source": [
    "Just as with the tarantula/hamster example from the previous section, we can use color vectors to reason about relationships between colors. In the cell below, finding the difference between \"pink\" and \"red\" then adding it to \"blue\" seems to give us a list of colors that are to blue what pink is to red (i.e., a slightly lighter, less saturated shade):"
   ]
  },
  {
   "cell_type": "code",
   "execution_count": 145,
   "metadata": {},
   "outputs": [
    {
     "data": {
      "text/plain": [
       "['neon blue',\n",
       " 'bright sky blue',\n",
       " 'bright light blue',\n",
       " 'cyan',\n",
       " 'bright cyan',\n",
       " 'bright turquoise',\n",
       " 'clear blue',\n",
       " 'azure',\n",
       " 'dodger blue',\n",
       " 'lightish blue']"
      ]
     },
     "execution_count": 145,
     "metadata": {},
     "output_type": "execute_result"
    }
   ],
   "source": [
    "# an analogy: pink is to red as X is to blue\n",
    "pink_to_red = subtractv(colors['pink'], colors['red'])\n",
    "closest(colors, addv(pink_to_red, colors['blue']))"
   ]
  },
  {
   "cell_type": "markdown",
   "metadata": {},
   "source": [
    "Another example of color analogies: Navy is to blue as true green/dark grass green is to green:"
   ]
  },
  {
   "cell_type": "code",
   "execution_count": 146,
   "metadata": {},
   "outputs": [
    {
     "data": {
      "text/plain": [
       "['true green',\n",
       " 'dark grass green',\n",
       " 'grassy green',\n",
       " 'racing green',\n",
       " 'forest',\n",
       " 'bottle green',\n",
       " 'dark olive green',\n",
       " 'darkgreen',\n",
       " 'forrest green',\n",
       " 'grass green']"
      ]
     },
     "execution_count": 146,
     "metadata": {},
     "output_type": "execute_result"
    }
   ],
   "source": [
    "# another example: \n",
    "navy_to_blue = subtractv(colors['navy'], colors['blue'])\n",
    "closest(colors, addv(navy_to_blue, colors['green']))"
   ]
  },
  {
   "cell_type": "markdown",
   "metadata": {},
   "source": [
    "The examples above are fairly simple from a mathematical perspective but nevertheless *feel* magical: they're demonstrating that it's possible to use math to reason about how people use language."
   ]
  },
  {
   "cell_type": "markdown",
   "metadata": {},
   "source": [
    "### Interlude: A Love Poem That Loses Its Way"
   ]
  },
  {
   "cell_type": "code",
   "execution_count": 149,
   "metadata": {},
   "outputs": [
    {
     "name": "stdout",
     "output_type": "stream",
     "text": [
      "Roses are red, violets are blue\n",
      "Roses are bright red, violets are bright blue\n",
      "Roses are vermillion, violets are cerulean\n",
      "Roses are orangish red, violets are medium blue\n",
      "Roses are orangered, violets are french blue\n",
      "Roses are red orange, violets are windows blue\n",
      "Roses are bright orange, violets are dirty blue\n",
      "Roses are blood orange, violets are flat blue\n",
      "Roses are orangered, violets are dirty blue\n",
      "Roses are red orange, violets are dull blue\n",
      "Roses are bright orange, violets are muted blue\n",
      "Roses are orange red, violets are denim\n",
      "Roses are tomato, violets are dusk blue\n",
      "Roses are orangish red, violets are denim blue\n"
     ]
    }
   ],
   "source": [
    "import random\n",
    "red = colors['red']\n",
    "blue = colors['blue']\n",
    "for i in range(14):\n",
    "    rednames = closest(colors, red)\n",
    "    bluenames = closest(colors, blue)\n",
    "    print(f\"Roses are {rednames[0]}, violets are {bluenames[0]}\")\n",
    "    red = colors[random.choice(rednames[1:])]\n",
    "    blue = colors[random.choice(bluenames[1:])]"
   ]
  },
  {
   "cell_type": "markdown",
   "metadata": {},
   "source": [
    "### Doing bad digital humanities with color vectors\n",
    "\n",
    "With the tools above in hand, we can start using our vectorized knowledge of language toward academic ends. In the following example, I'm going to calculate the average color of Bram Stoker's *Dracula*.\n",
    "\n",
    "First, we'll load [spaCy](https://spacy.io/):"
   ]
  },
  {
   "cell_type": "code",
   "execution_count": 154,
   "metadata": {},
   "outputs": [],
   "source": [
    "import spacy\n",
    "# this is the normal way to do it, but doesn't work on my computer\n",
    "# !python -m spacy download en_core_web_sm\n",
    "# nlp = spacy.load('en_core_web_sm')\n",
    "\n",
    "# so I have to do it this way\n",
    "# !pip install https://github.com/explosion/spacy-models/releases/download/en_core_web_sm-2.2.5/en_core_web_sm-2.2.5.tar.gz\n",
    "import en_core_web_sm\n",
    "nlp = en_core_web_sm.load()"
   ]
  },
  {
   "cell_type": "markdown",
   "metadata": {},
   "source": [
    "To calculate the average color, we'll follow these steps:\n",
    "\n",
    "1. Parse the text into words\n",
    "2. Check every word to see if it names a color in our vector space. If it does, add it to a list of vectors.\n",
    "3. Find the average of that list of vectors.\n",
    "4. Find the color(s) closest to that average vector.\n",
    "\n",
    "The following cell performs steps 1-3:"
   ]
  },
  {
   "cell_type": "code",
   "execution_count": 155,
   "metadata": {},
   "outputs": [
    {
     "name": "stdout",
     "output_type": "stream",
     "text": [
      "[147.44839067702551, 113.65371809100999, 100.13540510543841]\n"
     ]
    }
   ],
   "source": [
    "resp = requests.get('http://www.gutenberg.org/cache/epub/345/pg345.txt')\n",
    "dracula = nlp(resp.text)\n",
    "# use word.lower_ to normalize case\n",
    "drac_colors = [colors[word.lower_] for word in dracula if word.lower_ in colors]\n",
    "avg_color = meanv(drac_colors)\n",
    "print(avg_color)"
   ]
  },
  {
   "cell_type": "markdown",
   "metadata": {},
   "source": [
    "Now, we'll pass the averaged color vector to the `closest()` function, yielding... well, it's just a brown mush, which is kinda what you'd expect from adding a bunch of colors together willy-nilly."
   ]
  },
  {
   "cell_type": "code",
   "execution_count": 156,
   "metadata": {},
   "outputs": [
    {
     "data": {
      "text/plain": [
       "['reddish grey',\n",
       " 'brownish grey',\n",
       " 'brownish',\n",
       " 'brown grey',\n",
       " 'mocha',\n",
       " 'grey brown',\n",
       " 'puce',\n",
       " 'dull brown',\n",
       " 'pinkish brown',\n",
       " 'dark taupe']"
      ]
     },
     "execution_count": 156,
     "metadata": {},
     "output_type": "execute_result"
    }
   ],
   "source": [
    "closest(colors, avg_color)"
   ]
  },
  {
   "cell_type": "markdown",
   "metadata": {},
   "source": [
    "On the other hand, here's what we get when we average the colors of Charlotte Perkins Gilman's classic *The Yellow Wallpaper*. The result definitely reflects the content of the story, so maybe we're on to something here."
   ]
  },
  {
   "cell_type": "code",
   "execution_count": 157,
   "metadata": {},
   "outputs": [
    {
     "data": {
      "text/plain": [
       "['sickly yellow',\n",
       " 'piss yellow',\n",
       " 'puke yellow',\n",
       " 'vomit yellow',\n",
       " 'dirty yellow',\n",
       " 'mustard yellow',\n",
       " 'dark yellow',\n",
       " 'olive yellow',\n",
       " 'macaroni and cheese',\n",
       " 'pea']"
      ]
     },
     "execution_count": 157,
     "metadata": {},
     "output_type": "execute_result"
    }
   ],
   "source": [
    "resp = requests.get('http://www.gutenberg.org/cache/epub/1952/pg1952.txt')\n",
    "yellow = nlp(resp.text)\n",
    "wallpaper_colors = [colors[word.lower_] for word in yellow if word.lower_ in colors]\n",
    "avg_color = meanv(wallpaper_colors)\n",
    "closest(colors, avg_color)"
   ]
  },
  {
   "cell_type": "markdown",
   "metadata": {},
   "source": [
    "Exercise for the reader: Use the vector arithmetic functions to rewrite a text, making it...\n",
    "\n",
    "* more blue (i.e., add `colors['blue']` to each occurrence of a color word); or\n",
    "* more light (i.e., add `colors['white']` to each occurrence of a color word); or\n",
    "* darker (i.e., attenuate each color. You might need to write a vector multiplication function to do this one right.)"
   ]
  },
  {
   "cell_type": "markdown",
   "metadata": {},
   "source": [
    "## Distributional semantics\n",
    "\n",
    "In the previous section, the examples are interesting because of a simple fact: colors that we think of as similar are \"closer\" to each other in RGB vector space. In our color vector space, or in our animal cuteness/size space, you can think of the words identified by vectors close to each other as being *synonyms*, in a sense: they sort of \"mean\" the same thing. They're also, for many purposes, *functionally identical*. Think of this in terms of writing, say, a search engine. If someone searches for \"mauve trousers,\" then it's probably also okay to show them results for, say,"
   ]
  },
  {
   "cell_type": "code",
   "execution_count": 158,
   "metadata": {},
   "outputs": [
    {
     "name": "stdout",
     "output_type": "stream",
     "text": [
      "mauve trousers\n",
      "dusty rose trousers\n",
      "dusky rose trousers\n",
      "brownish pink trousers\n",
      "old pink trousers\n",
      "reddish grey trousers\n",
      "dirty pink trousers\n",
      "old rose trousers\n",
      "light plum trousers\n",
      "ugly pink trousers\n"
     ]
    }
   ],
   "source": [
    "for cname in closest(colors, colors['mauve']):\n",
    "    print(cname, \"trousers\")"
   ]
  },
  {
   "cell_type": "markdown",
   "metadata": {},
   "source": [
    "That's all well and good for color words, which intuitively seem to exist in a multidimensional continuum of perception, and for our animal space, where we've written out the vectors ahead of time. But what about... arbitrary words? Is it possible to create a vector space for all English words that has this same \"closer in space is closer in meaning\" property?\n",
    "\n",
    "To answer that, we have to back up a bit and ask the question: what does *meaning* mean? No one really knows, but one theory popular among computational linguists, computer scientists and other people who make search engines is the [Distributional Hypothesis](https://en.wikipedia.org/wiki/Distributional_semantics), which states that:\n",
    "\n",
    "    Linguistic items with similar distributions have similar meanings.\n",
    "    \n",
    "What's meant by \"similar distributions\" is *similar contexts*. Take for example the following sentences:\n",
    "\n",
    "    It was really cold yesterday.\n",
    "    It will be really warm today, though.\n",
    "    It'll be really hot tomorrow!\n",
    "    Will it be really cool Tuesday?\n",
    "    \n",
    "According to the Distributional Hypothesis, the words `cold`, `warm`, `hot` and `cool` must be related in some way (i.e., be close in meaning) because they occur in a similar context, i.e., between the word \"really\" and a word indicating a particular day. (Likewise, the words `yesterday`, `today`, `tomorrow` and `Tuesday` must be related, since they occur in the context of a word indicating a temperature.)\n",
    "\n",
    "In other words, according to the Distributional Hypothesis, a word's meaning is just a big list of all the contexts it occurs in. Two words are closer in meaning if they share contexts."
   ]
  },
  {
   "cell_type": "markdown",
   "metadata": {},
   "source": [
    "## Word vectors by counting contexts\n",
    "\n",
    "So how do we turn this insight from the Distributional Hypothesis into a system for creating general-purpose vectors that capture the meaning of words? Maybe you can see where I'm going with this. What if we made a *really big* spreadsheet that had one column for every context for every word in a given source text. Let's use a small source text to begin with, such as this excerpt from Dickens:\n",
    "\n",
    "    It was the best of times, it was the worst of times.\n",
    "\n",
    "Such a spreadsheet might look something like this:\n",
    "\n",
    "![dickens contexts](http://static.decontextualize.com/snaps/best-of-times.png)\n",
    "\n",
    "The spreadsheet has one column for every possible context, and one row for every word. The values in each cell correspond with how many times the word occurs in the given context. The numbers in the columns constitute that word's vector, i.e., the vector for the word `of` is\n",
    "\n",
    "    [0, 0, 0, 0, 1, 0, 0, 0, 1, 0]\n",
    "    \n",
    "Because there are ten possible contexts, this is a ten dimensional space! It might be strange to think of it, but you can do vector arithmetic on vectors with ten dimensions just as easily as you can on vectors with two or three dimensions, and you could use the same distance formula that we defined earlier to get useful information about which vectors in this space are similar to each other. In particular, the vectors for `best` and `worst` are actually the same (a distance of zero), since they occur only in the same context (`the ___ of`):\n",
    "\n",
    "    [0, 0, 0, 1, 0, 0, 0, 0, 0, 0]\n",
    "    \n",
    "Of course, the conventional way of thinking about \"best\" and \"worst\" is that they're *antonyms*, not *synonyms*. But they're also clearly two words of the same kind, with related meanings (through opposition), a fact that is captured by this distributional model.\n",
    "\n",
    "### Contexts and dimensionality\n",
    "\n",
    "Of course, in a corpus of any reasonable size, there will be many thousands if not many millions of possible contexts. It's difficult enough working with a vector space of ten dimensions, let alone a vector space of a million dimensions! It turns out, though, that many of the dimensions end up being superfluous and can either be eliminated or combined with other dimensions without significantly affecting the predictive power of the resulting vectors. The process of getting rid of superfluous dimensions in a vector space is called [dimensionality reduction](https://en.wikipedia.org/wiki/Dimensionality_reduction), and most implementations of count-based word vectors make use of dimensionality reduction so that the resulting vector space has a reasonable number of dimensions (say, 100—300, depending on the corpus and application).\n",
    "\n",
    "The question of how to identify a \"context\" is itself very difficult to answer. In the toy example above, we've said that a \"context\" is just the word that precedes and the word that follows. Depending on your implementation of this procedure, though, you might want a context with a bigger \"window\" (e.g., two words before and after), or a non-contiguous window (skip a word before and after the given word). You might exclude certain \"function\" words like \"the\" and \"of\" when determining a word's context, or you might [lemmatize](https://en.wikipedia.org/wiki/Lemmatisation) the words before you begin your analysis, so two occurrences with different \"forms\" of the same word count as the same context. These are all questions open to research and debate, and different implementations of procedures for creating count-based word vectors make different decisions on this issue.\n",
    "\n",
    "### GloVe vectors\n",
    "\n",
    "But you don't have to create your own word vectors from scratch! Many researchers have made downloadable databases of pre-trained vectors. One such project is Stanford's [Global Vectors for Word Representation (GloVe)](https://nlp.stanford.edu/projects/glove/). These 300-dimensional vectors are included with spaCy, and they're the vectors we'll be using for the rest of this tutorial."
   ]
  },
  {
   "cell_type": "markdown",
   "metadata": {},
   "source": [
    "## Word vectors in spaCy\n",
    "\n",
    "Okay, let's have some fun with real word vectors. We're going to use the GloVe vectors that come with spaCy to creatively analyze and manipulate the text of Bram Stoker's *Dracula*. First, make sure you've got `spacy` imported:"
   ]
  },
  {
   "cell_type": "code",
   "execution_count": 159,
   "metadata": {},
   "outputs": [
    {
     "data": {
      "text/plain": [
       "hour"
      ]
     },
     "execution_count": 159,
     "metadata": {},
     "output_type": "execute_result"
    }
   ],
   "source": [
    "dracula[560]"
   ]
  },
  {
   "cell_type": "code",
   "execution_count": 160,
   "metadata": {},
   "outputs": [
    {
     "data": {
      "text/plain": [
       "array([-3.3890932 ,  3.8036323 , -2.6519728 ,  1.6794462 , -0.03245598,\n",
       "        0.34949422,  1.4263201 ,  0.7514826 ,  1.5714422 ,  6.836588  ,\n",
       "       -0.87871516, -2.5962636 ,  4.4980946 , -3.2636712 ,  0.59583217,\n",
       "        1.7193251 , -1.7698543 , -2.6230168 ,  0.32886952, -1.9750781 ,\n",
       "        3.1977305 , -2.3372014 , -2.340062  , -2.59442   , -1.707979  ,\n",
       "        1.4709201 ,  0.46112838, -4.2141914 ,  3.8767452 ,  1.9445885 ,\n",
       "        2.5187936 ,  2.709597  ,  4.9126153 , -2.4080238 ,  1.2024103 ,\n",
       "       -1.7131364 ,  2.7877707 , -4.4838257 , -1.9192042 , -2.094125  ,\n",
       "        3.3191376 ,  2.954278  , -1.6426673 , -2.4524295 , -0.97719395,\n",
       "        1.2865635 , -0.9342208 , -0.07476962, -1.0927347 ,  0.39212835,\n",
       "        2.6349268 , -3.4252431 ,  0.7364484 , -0.04758237, -0.8591391 ,\n",
       "        0.5237043 ,  3.3768516 , -0.6579486 , -0.34316725, -0.7823252 ,\n",
       "        2.7190056 , -2.2406356 , -1.2399366 , -0.10923919,  0.38356325,\n",
       "       -0.07189876,  4.31141   ,  2.5327733 ,  0.69408464, -0.5813782 ,\n",
       "        0.22487086,  1.2595627 , -1.8386738 ,  3.5870411 , -2.5341964 ,\n",
       "       -1.0141946 ,  3.171867  ,  0.07178259,  0.399449  , -0.621662  ,\n",
       "       -0.27902734, -2.2531636 , -4.4507833 ,  1.514179  , -0.8810638 ,\n",
       "        0.2055819 , -2.7417152 ,  1.314493  , -1.0518675 , -1.9557784 ,\n",
       "        1.4149687 ,  1.3410604 , -2.907415  ,  0.14844155,  1.3213062 ,\n",
       "        0.81834567], dtype=float32)"
      ]
     },
     "execution_count": 160,
     "metadata": {},
     "output_type": "execute_result"
    }
   ],
   "source": [
    "_.vector"
   ]
  },
  {
   "cell_type": "code",
   "execution_count": 161,
   "metadata": {},
   "outputs": [],
   "source": [
    "# previously we've used the _sm model, which doesn't include all vectors.\n",
    "# !pip3 install https://github.com/explosion/spacy-models/releases/download/en_core_web_lg-2.2.0/en_core_web_lg-2.2.0.tar.gz\n",
    "# almost 800mb!\n",
    "import en_core_web_lg\n",
    "nlp = en_core_web_lg.load()"
   ]
  },
  {
   "cell_type": "code",
   "execution_count": 162,
   "metadata": {},
   "outputs": [],
   "source": [
    "resp = requests.get('http://www.gutenberg.org/cache/epub/345/pg345.txt')\n",
    "dracula = nlp(resp.text)\n"
   ]
  },
  {
   "cell_type": "markdown",
   "metadata": {},
   "source": [
    "And the cell below creates a list of unique words (or tokens) in the text, as a list of strings."
   ]
  },
  {
   "cell_type": "code",
   "execution_count": 163,
   "metadata": {},
   "outputs": [],
   "source": [
    "# all of the words in the text file\n",
    "tokens = list(set([w.text for w in dracula if w.is_alpha]))"
   ]
  },
  {
   "cell_type": "markdown",
   "metadata": {},
   "source": [
    "You can see the vector of any word in spaCy's vocabulary using the `vocab` attribute, like so:"
   ]
  },
  {
   "cell_type": "code",
   "execution_count": 164,
   "metadata": {
    "scrolled": true
   },
   "outputs": [
    {
     "data": {
      "text/plain": [
       "array([-4.9304e-01,  1.2459e-01,  2.6142e-01,  3.8393e-02,  1.4018e-01,\n",
       "        5.7285e-01, -5.0449e-01,  1.5094e-01,  7.3356e-02,  2.3308e-01,\n",
       "       -1.6048e-01, -5.1184e-01, -1.4028e-01, -3.0110e-01, -4.3446e-01,\n",
       "       -2.8257e-02,  1.9100e-03,  6.5157e-01,  1.4855e-01, -3.7255e-01,\n",
       "       -4.6619e-01, -1.7223e-01, -5.1794e-01, -2.5453e-01, -2.6785e-01,\n",
       "       -6.7776e-02, -3.0085e-01, -3.3212e-01, -1.5862e-01, -1.2336e-01,\n",
       "       -3.8935e-01, -3.5551e-01, -3.6182e-01,  2.3197e-02, -1.7486e-01,\n",
       "        2.2345e-01,  6.7557e-01,  9.6939e-03, -9.5640e-02,  1.2073e-01,\n",
       "       -1.2016e-01, -1.6161e-01,  1.0661e-01, -4.5233e-01,  4.5991e-01,\n",
       "        1.0367e-02, -1.0842e-01, -3.6163e-01,  2.5105e-01,  9.5780e-03,\n",
       "       -6.1363e-01,  2.7494e-01,  2.1783e-01, -1.0663e-01, -9.5146e-03,\n",
       "        2.7570e-01,  2.5888e-02, -5.6749e-02,  6.7667e-03,  5.3735e-01,\n",
       "       -1.2224e-01,  8.8448e-02,  4.6094e-01,  4.6881e-02, -6.6557e-01,\n",
       "       -3.9493e-01,  2.7362e-01,  1.2302e-01,  2.8594e-01, -2.5274e-02,\n",
       "       -8.8458e-02, -6.5280e-01, -1.9723e-01,  2.4883e-01, -7.0509e-01,\n",
       "       -3.9357e-01,  2.1244e-01,  2.8522e-01, -1.3837e-01, -8.0399e-01,\n",
       "        4.0477e-01,  5.5522e-01,  1.3422e-01,  1.7541e-01, -2.4896e-01,\n",
       "       -3.7945e-02,  9.0174e-01,  5.7262e-01,  5.8552e-01, -2.7852e-02,\n",
       "       -3.7543e-01, -2.2329e-01, -1.7649e-01, -2.7149e-01, -1.4442e-01,\n",
       "        1.1173e-01, -7.5823e-01, -3.2636e-02,  3.8259e-01, -4.7711e-01,\n",
       "       -6.4061e-02,  7.7816e-01,  5.2918e-01, -8.8252e-02, -4.8766e-01,\n",
       "       -1.0542e+00, -1.7567e-01,  5.0561e-01, -3.2961e-01,  6.4652e-02,\n",
       "        1.6991e-01,  6.4564e-01, -1.1113e-01, -2.7329e-01,  4.5151e-01,\n",
       "        2.0905e-01,  5.5951e-01, -5.6235e-01,  6.4065e-01,  2.6138e-01,\n",
       "       -7.6238e-02, -5.7198e-01,  5.7286e-01, -6.4884e-01, -3.5580e-02,\n",
       "       -2.9065e-01, -2.3659e-01, -1.5837e-01, -3.8830e-01,  3.5099e-01,\n",
       "        1.2338e-01, -7.7062e-01, -3.2580e-01,  5.4685e-01,  9.9670e-02,\n",
       "       -1.7511e-01,  5.9578e-01,  5.7704e-02,  3.6616e-01,  7.9128e-02,\n",
       "       -2.1015e+00,  2.9241e-01,  1.6590e-01, -1.1812e-01,  3.6034e-01,\n",
       "        2.1378e-01, -3.8785e-02, -1.6689e-01,  2.5772e-01,  1.4423e-01,\n",
       "       -3.2560e-01, -4.9781e-01, -2.4736e-01, -4.5972e-01,  5.3241e-03,\n",
       "       -3.8934e-01, -5.6316e-01, -2.1875e-02,  4.6312e-01,  2.7124e-01,\n",
       "        8.2626e-02,  1.2798e-01, -1.7966e-01, -4.0142e-01,  3.9830e-01,\n",
       "        4.7246e-01, -1.7184e-02,  3.0340e-01,  7.2356e-01,  6.2398e-03,\n",
       "        1.1034e-01,  4.3798e-01, -1.8209e-01,  7.9000e-01, -8.2937e-01,\n",
       "       -2.5152e-01, -3.5818e-01,  1.9120e-01,  2.6807e-01, -4.8448e-02,\n",
       "        4.4986e-01, -1.9426e-01, -4.1831e-01, -4.7271e-01,  1.8365e-02,\n",
       "       -5.3575e-02,  2.0164e-01,  1.4613e-01, -5.2150e-01, -3.5136e-01,\n",
       "       -5.6628e-01,  5.6513e-01,  1.5970e-01,  4.9475e-01,  7.8591e-02,\n",
       "        5.8238e-01,  5.5110e-01,  4.7882e-01,  5.1979e-02, -5.8825e-01,\n",
       "       -3.1104e-01,  1.9566e-01, -3.4389e-01,  5.2565e-01,  2.7204e-01,\n",
       "       -1.9269e-01,  4.0240e-01,  3.5336e-01,  1.1571e-01, -1.7639e-01,\n",
       "        3.6528e-01,  4.7704e-01, -7.1949e-02, -2.3349e-01, -3.6303e-01,\n",
       "        1.8091e-01, -6.1703e-01,  1.0734e-01,  2.0010e-01,  4.5323e-02,\n",
       "       -1.4448e-01,  2.3747e-01, -1.0277e-01, -5.3455e-01,  1.3774e-01,\n",
       "       -2.1872e-01,  2.9646e-01,  8.5221e-01,  1.0667e-01,  8.3190e-02,\n",
       "        2.1841e-01, -2.0192e-01, -9.4416e-02,  1.7515e-01,  4.4191e-01,\n",
       "        5.8381e-01, -3.2412e-01, -2.3751e-01,  6.5186e-01,  3.9159e-01,\n",
       "        2.4443e-01, -6.5128e-01, -3.2916e-01, -5.9612e-01, -2.8962e-01,\n",
       "        1.2222e-01, -2.6307e-02,  1.1961e-01, -2.7490e-01,  2.4727e-01,\n",
       "       -1.0389e-01,  3.8307e-01, -5.0076e-01,  4.6286e-01,  4.6927e-01,\n",
       "       -3.5431e-01,  5.9146e-01,  2.0201e-01,  8.0544e-01,  2.7008e-01,\n",
       "       -5.9786e-02, -2.7738e-01, -2.3822e-01, -5.1769e-02,  2.1425e-01,\n",
       "        2.5170e-01,  1.8265e-01, -2.4323e-01, -3.2770e-01,  1.5040e-02,\n",
       "       -3.8119e-01, -5.2011e-02,  4.2345e-01,  6.3603e-01,  5.0159e-01,\n",
       "       -1.6942e-01, -2.3502e-01, -2.0667e-01, -9.0480e-02, -9.7789e-01,\n",
       "       -2.8939e-01,  2.2706e-01, -1.2613e-01,  4.4867e-02,  3.8184e-01,\n",
       "       -3.1982e-01, -1.4018e-01, -1.3953e-02, -4.4110e-01, -4.3323e-01,\n",
       "        4.6663e-01,  2.8850e-01, -8.1727e-01, -4.4984e-01,  8.9386e-02,\n",
       "        9.0084e-01, -5.8482e-02,  5.1920e-02,  1.5626e-02, -7.1096e-02],\n",
       "      dtype=float32)"
      ]
     },
     "execution_count": 164,
     "metadata": {},
     "output_type": "execute_result"
    }
   ],
   "source": [
    "nlp.vocab['alligator'].vector"
   ]
  },
  {
   "cell_type": "markdown",
   "metadata": {},
   "source": [
    "For the sake of convenience, the following function gets the vector of a given string from spaCy's vocabulary:"
   ]
  },
  {
   "cell_type": "code",
   "execution_count": 165,
   "metadata": {},
   "outputs": [],
   "source": [
    "def vec(s):\n",
    "    return nlp.vocab[s].vector"
   ]
  },
  {
   "cell_type": "markdown",
   "metadata": {},
   "source": [
    "### Cosine similarity and finding closest neighbors"
   ]
  },
  {
   "cell_type": "code",
   "execution_count": 166,
   "metadata": {},
   "outputs": [],
   "source": [
    "from sklearn.metrics.pairwise import cosine_similarity"
   ]
  },
  {
   "cell_type": "markdown",
   "metadata": {},
   "source": [
    "The following cell shows that the cosine similarity between `dog` and `puppy` is larger than the similarity between `trousers` and `octopus`, thereby demonstrating that the vectors are working how we expect them to:"
   ]
  },
  {
   "cell_type": "code",
   "execution_count": 167,
   "metadata": {},
   "outputs": [
    {
     "data": {
      "text/plain": [
       "True"
      ]
     },
     "execution_count": 167,
     "metadata": {},
     "output_type": "execute_result"
    }
   ],
   "source": [
    "(cosine_similarity(vec('dog').reshape(1, -1), vec('puppy').reshape(1, -1))[0][0] > \n",
    "    cosine_similarity(vec('trousers').reshape(1, -1), vec('octopus').reshape(1, -1))[0][0])"
   ]
  },
  {
   "cell_type": "markdown",
   "metadata": {},
   "source": [
    "The following cell defines a function that iterates through a list of tokens and returns the token whose vector is most similar to a given vector."
   ]
  },
  {
   "cell_type": "code",
   "execution_count": 168,
   "metadata": {},
   "outputs": [],
   "source": [
    "def spacy_closest(token_list, vec_to_check, n=10):\n",
    "    return sorted(token_list,\n",
    "                  key=lambda x: cosine_similarity(vec_to_check.reshape(1, -1), \n",
    "                                                  vec(x).reshape(1, -1))[0][0],\n",
    "                  reverse=True)[:n]"
   ]
  },
  {
   "cell_type": "markdown",
   "metadata": {},
   "source": [
    "Using this function, we can get a list of synonyms, or words closest in meaning (or distribution, depending on how you look at it), to any arbitrary word in spaCy's vocabulary. In the following example, we're finding the words in *Dracula* closest to \"basketball\":"
   ]
  },
  {
   "cell_type": "code",
   "execution_count": 169,
   "metadata": {
    "scrolled": true
   },
   "outputs": [
    {
     "data": {
      "text/plain": [
       "['tennis',\n",
       " 'coach',\n",
       " 'game',\n",
       " 'teams',\n",
       " 'junior',\n",
       " 'Junior',\n",
       " 'Team',\n",
       " 'school',\n",
       " 'boys',\n",
       " 'leagues']"
      ]
     },
     "execution_count": 169,
     "metadata": {},
     "output_type": "execute_result"
    }
   ],
   "source": [
    "# what's the closest equivalent of basketball?\n",
    "spacy_closest(tokens, vec(\"basketball\"))"
   ]
  },
  {
   "cell_type": "markdown",
   "metadata": {},
   "source": [
    "### Fun with spaCy, Dracula, and vector arithmetic\n",
    "\n",
    "Now we can start doing vector arithmetic and finding the closest words to the resulting vectors. For example, what word is closest to the halfway point between day and night?"
   ]
  },
  {
   "cell_type": "code",
   "execution_count": 170,
   "metadata": {},
   "outputs": [
    {
     "data": {
      "text/plain": [
       "['night',\n",
       " 'Day',\n",
       " 'day',\n",
       " 'evening',\n",
       " 'Evening',\n",
       " 'Morning',\n",
       " 'morning',\n",
       " 'afternoon',\n",
       " 'nights',\n",
       " 'Nights']"
      ]
     },
     "execution_count": 170,
     "metadata": {},
     "output_type": "execute_result"
    }
   ],
   "source": [
    "# halfway between day and night\n",
    "spacy_closest(tokens, np.array(meanv([vec(\"day\"), vec(\"night\")])))"
   ]
  },
  {
   "cell_type": "markdown",
   "metadata": {},
   "source": [
    "Variations of `night` and `day` are still closest, but after that we get words like `evening` and `morning`, which are indeed halfway between day and night!"
   ]
  },
  {
   "cell_type": "markdown",
   "metadata": {},
   "source": [
    "Here are the closest words in _Dracula_ to \"wine\":"
   ]
  },
  {
   "cell_type": "code",
   "execution_count": 171,
   "metadata": {},
   "outputs": [
    {
     "data": {
      "text/plain": [
       "['wine',\n",
       " 'beer',\n",
       " 'bottle',\n",
       " 'Drink',\n",
       " 'drink',\n",
       " 'cellar',\n",
       " 'fruit',\n",
       " 'bottles',\n",
       " 'brandy',\n",
       " 'taste']"
      ]
     },
     "execution_count": 171,
     "metadata": {},
     "output_type": "execute_result"
    }
   ],
   "source": [
    "spacy_closest(tokens, vec(\"wine\"))"
   ]
  },
  {
   "cell_type": "markdown",
   "metadata": {},
   "source": [
    "If you subtract \"alcohol\" from \"wine\" and find the closest words to the resulting vector, you're left with simply a lovely dinner:"
   ]
  },
  {
   "cell_type": "code",
   "execution_count": 172,
   "metadata": {},
   "outputs": [
    {
     "data": {
      "text/plain": [
       "['wine',\n",
       " 'cellar',\n",
       " 'exquisite',\n",
       " 'fabulous',\n",
       " 'splendid',\n",
       " 'magnificent',\n",
       " 'delightful',\n",
       " 'Dinner',\n",
       " 'dinner',\n",
       " 'sparkling']"
      ]
     },
     "execution_count": 172,
     "metadata": {},
     "output_type": "execute_result"
    }
   ],
   "source": [
    "spacy_closest(tokens, np.array(subtractv(vec(\"wine\"), vec(\"alcohol\"))))"
   ]
  },
  {
   "cell_type": "markdown",
   "metadata": {},
   "source": [
    "The closest words to \"water\":"
   ]
  },
  {
   "cell_type": "code",
   "execution_count": 173,
   "metadata": {},
   "outputs": [
    {
     "data": {
      "text/plain": [
       "['water',\n",
       " 'waters',\n",
       " 'Salt',\n",
       " 'salt',\n",
       " 'pond',\n",
       " 'dry',\n",
       " 'liquid',\n",
       " 'ocean',\n",
       " 'boiling',\n",
       " 'heat']"
      ]
     },
     "execution_count": 173,
     "metadata": {},
     "output_type": "execute_result"
    }
   ],
   "source": [
    "spacy_closest(tokens, vec(\"water\"))"
   ]
  },
  {
   "cell_type": "markdown",
   "metadata": {},
   "source": [
    "But if you add \"frozen\" to \"water,\" you get \"ice\":"
   ]
  },
  {
   "cell_type": "code",
   "execution_count": 174,
   "metadata": {},
   "outputs": [
    {
     "data": {
      "text/plain": [
       "['water',\n",
       " 'cold',\n",
       " 'ice',\n",
       " 'Salt',\n",
       " 'salt',\n",
       " 'dry',\n",
       " 'fresh',\n",
       " 'liquid',\n",
       " 'boiling',\n",
       " 'milk']"
      ]
     },
     "execution_count": 174,
     "metadata": {},
     "output_type": "execute_result"
    }
   ],
   "source": [
    "spacy_closest(tokens, np.array(addv(vec(\"water\"), vec(\"frozen\"))))"
   ]
  },
  {
   "cell_type": "markdown",
   "metadata": {},
   "source": [
    "You can even do analogies! For example, the words most similar to \"grass\":"
   ]
  },
  {
   "cell_type": "code",
   "execution_count": 175,
   "metadata": {
    "scrolled": true
   },
   "outputs": [
    {
     "data": {
      "text/plain": [
       "['grass',\n",
       " 'lawn',\n",
       " 'trees',\n",
       " 'greens',\n",
       " 'grassy',\n",
       " 'GARDEN',\n",
       " 'garden',\n",
       " 'sand',\n",
       " 'foliage',\n",
       " 'tree']"
      ]
     },
     "execution_count": 175,
     "metadata": {},
     "output_type": "execute_result"
    }
   ],
   "source": [
    "spacy_closest(tokens, vec(\"grass\"))"
   ]
  },
  {
   "cell_type": "markdown",
   "metadata": {},
   "source": [
    "If you take the difference of \"blue\" and \"sky\" and add it to grass, you get the analogous word (\"green\"):"
   ]
  },
  {
   "cell_type": "code",
   "execution_count": 176,
   "metadata": {
    "scrolled": true
   },
   "outputs": [
    {
     "data": {
      "text/plain": [
       "['grass',\n",
       " 'Green',\n",
       " 'GREEN',\n",
       " 'green',\n",
       " 'yellow',\n",
       " 'red',\n",
       " 'Red',\n",
       " 'purple',\n",
       " 'lawn',\n",
       " 'pink']"
      ]
     },
     "execution_count": 176,
     "metadata": {},
     "output_type": "execute_result"
    }
   ],
   "source": [
    "# analogy: blue is to sky as X is to grass\n",
    "blue_to_sky = subtractv(vec(\"blue\"), vec(\"sky\"))\n",
    "spacy_closest(tokens, np.array(addv(blue_to_sky, vec(\"grass\"))))"
   ]
  },
  {
   "cell_type": "markdown",
   "metadata": {},
   "source": [
    "## Further resources\n",
    "\n",
    "* [Word2vec](https://en.wikipedia.org/wiki/Word2vec) is another procedure for producing word vectors which uses a predictive approach rather than a context-counting approach. [This paper](http://clic.cimec.unitn.it/marco/publications/acl2014/baroni-etal-countpredict-acl2014.pdf) compares and contrasts the two approaches. (Spoiler: it's kind of a wash.)\n",
    "* If you want to train your own word vectors on a particular corpus, the popular Python library [gensim](https://radimrehurek.com/gensim/) has an implementation of Word2Vec that is relatively easy to use. [There's a good tutorial here.](https://rare-technologies.com/word2vec-tutorial/)\n",
    "* When you're working with vector spaces with high dimensionality and millions of vectors, iterating through your entire space calculating cosine similarities can be a drag. I use [Annoy](https://pypi.python.org/pypi/annoy) to make these calculations faster, and you should consider using it too."
   ]
  }
 ],
 "metadata": {
  "kernelspec": {
   "display_name": "Python 3",
   "language": "python",
   "name": "python3"
  },
  "language_info": {
   "codemirror_mode": {
    "name": "ipython",
    "version": 3
   },
   "file_extension": ".py",
   "mimetype": "text/x-python",
   "name": "python",
   "nbconvert_exporter": "python",
   "pygments_lexer": "ipython3",
   "version": "3.7.4"
  }
 },
 "nbformat": 4,
 "nbformat_minor": 4
}
