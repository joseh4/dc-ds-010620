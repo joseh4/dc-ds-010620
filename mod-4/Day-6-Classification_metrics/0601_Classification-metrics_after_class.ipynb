{
 "cells": [
  {
   "cell_type": "markdown",
   "metadata": {},
   "source": [
    "# Evaluating and Tuning a Binary Classification Model"
   ]
  },
  {
   "cell_type": "markdown",
   "metadata": {},
   "source": [
    "## Goals\n",
    "\n",
    "After this lesson, you should be able to:\n",
    "\n",
    "- Discussion of OneHotEncoder vs get_dummies\n",
    "- Build and explain confusion matrices from a model output\n",
    "- Calculate various binary classification metrics\n",
    "- Explain the AUC/ROC curve, why it matters, and how to use it\n",
    "- Understand when and how to optimize a model for various metrics\n",
    "- Optimize a classification model based on costs"
   ]
  },
  {
   "cell_type": "markdown",
   "metadata": {},
   "source": [
    "## Heart Disease Data Set"
   ]
  },
  {
   "cell_type": "code",
   "execution_count": 1,
   "metadata": {},
   "outputs": [],
   "source": [
    "import numpy as np\n",
    "import pandas as pd\n",
    "from sklearn.linear_model import LogisticRegression\n",
    "from sklearn.metrics import confusion_matrix, classification_report\n",
    "from sklearn.model_selection import train_test_split\n",
    "from sklearn.model_selection import cross_validate\n",
    "from sklearn.model_selection import StratifiedKFold\n",
    "\n",
    "from sklearn.preprocessing import OneHotEncoder\n",
    "\n",
    "import matplotlib.pyplot as plt"
   ]
  },
  {
   "cell_type": "markdown",
   "metadata": {},
   "source": [
    "[Dataset info](https://archive.ics.uci.edu/ml/datasets/Heart+Disease)"
   ]
  },
  {
   "cell_type": "code",
   "execution_count": 2,
   "metadata": {},
   "outputs": [],
   "source": [
    "df = pd.read_csv('./data/heart.csv')"
   ]
  },
  {
   "cell_type": "code",
   "execution_count": 3,
   "metadata": {},
   "outputs": [
    {
     "name": "stdout",
     "output_type": "stream",
     "text": [
      "(303, 14)\n"
     ]
    },
    {
     "data": {
      "text/html": [
       "<div>\n",
       "<style scoped>\n",
       "    .dataframe tbody tr th:only-of-type {\n",
       "        vertical-align: middle;\n",
       "    }\n",
       "\n",
       "    .dataframe tbody tr th {\n",
       "        vertical-align: top;\n",
       "    }\n",
       "\n",
       "    .dataframe thead th {\n",
       "        text-align: right;\n",
       "    }\n",
       "</style>\n",
       "<table border=\"1\" class=\"dataframe\">\n",
       "  <thead>\n",
       "    <tr style=\"text-align: right;\">\n",
       "      <th></th>\n",
       "      <th>age</th>\n",
       "      <th>sex</th>\n",
       "      <th>cp</th>\n",
       "      <th>trestbps</th>\n",
       "      <th>chol</th>\n",
       "      <th>fbs</th>\n",
       "      <th>restecg</th>\n",
       "      <th>thalach</th>\n",
       "      <th>exang</th>\n",
       "      <th>oldpeak</th>\n",
       "      <th>slope</th>\n",
       "      <th>ca</th>\n",
       "      <th>thal</th>\n",
       "      <th>target</th>\n",
       "    </tr>\n",
       "  </thead>\n",
       "  <tbody>\n",
       "    <tr>\n",
       "      <th>0</th>\n",
       "      <td>63</td>\n",
       "      <td>1</td>\n",
       "      <td>3</td>\n",
       "      <td>145</td>\n",
       "      <td>233</td>\n",
       "      <td>1</td>\n",
       "      <td>0</td>\n",
       "      <td>150</td>\n",
       "      <td>0</td>\n",
       "      <td>2.3</td>\n",
       "      <td>0</td>\n",
       "      <td>0</td>\n",
       "      <td>1</td>\n",
       "      <td>1</td>\n",
       "    </tr>\n",
       "    <tr>\n",
       "      <th>1</th>\n",
       "      <td>37</td>\n",
       "      <td>1</td>\n",
       "      <td>2</td>\n",
       "      <td>130</td>\n",
       "      <td>250</td>\n",
       "      <td>0</td>\n",
       "      <td>1</td>\n",
       "      <td>187</td>\n",
       "      <td>0</td>\n",
       "      <td>3.5</td>\n",
       "      <td>0</td>\n",
       "      <td>0</td>\n",
       "      <td>2</td>\n",
       "      <td>1</td>\n",
       "    </tr>\n",
       "    <tr>\n",
       "      <th>2</th>\n",
       "      <td>41</td>\n",
       "      <td>0</td>\n",
       "      <td>1</td>\n",
       "      <td>130</td>\n",
       "      <td>204</td>\n",
       "      <td>0</td>\n",
       "      <td>0</td>\n",
       "      <td>172</td>\n",
       "      <td>0</td>\n",
       "      <td>1.4</td>\n",
       "      <td>2</td>\n",
       "      <td>0</td>\n",
       "      <td>2</td>\n",
       "      <td>1</td>\n",
       "    </tr>\n",
       "  </tbody>\n",
       "</table>\n",
       "</div>"
      ],
      "text/plain": [
       "   age  sex  cp  trestbps  chol  fbs  restecg  thalach  exang  oldpeak  slope  \\\n",
       "0   63    1   3       145   233    1        0      150      0      2.3      0   \n",
       "1   37    1   2       130   250    0        1      187      0      3.5      0   \n",
       "2   41    0   1       130   204    0        0      172      0      1.4      2   \n",
       "\n",
       "   ca  thal  target  \n",
       "0   0     1       1  \n",
       "1   0     2       1  \n",
       "2   0     2       1  "
      ]
     },
     "execution_count": 3,
     "metadata": {},
     "output_type": "execute_result"
    }
   ],
   "source": [
    "print(df.shape)\n",
    "df.head(3)"
   ]
  },
  {
   "cell_type": "markdown",
   "metadata": {},
   "source": [
    "In our dataset we have 303 patients and 13 independent variables and 1 binary target variable."
   ]
  },
  {
   "cell_type": "markdown",
   "metadata": {},
   "source": [
    "When we are working with classification problems it is always good practice to check the class balance."
   ]
  },
  {
   "cell_type": "code",
   "execution_count": 19,
   "metadata": {},
   "outputs": [
    {
     "data": {
      "text/plain": [
       "1    0.544554\n",
       "0    0.455446\n",
       "Name: target, dtype: float64"
      ]
     },
     "execution_count": 19,
     "metadata": {},
     "output_type": "execute_result"
    }
   ],
   "source": [
    "df['target'].value_counts(normalize = True)"
   ]
  },
  {
   "cell_type": "markdown",
   "metadata": {},
   "source": [
    "We see that approximately %45 of the patients are in the class 0 which refers to 'no presence' of a heart disease. Consequently, %54 of the patients have a heart disease. "
   ]
  },
  {
   "cell_type": "markdown",
   "metadata": {},
   "source": [
    "## Model Selection - Model Evaluations"
   ]
  },
  {
   "cell_type": "markdown",
   "metadata": {},
   "source": [
    "- Model Selection/Model Comparison: What is the best parameters for a given model. Between different models which one is better models the reality.\n",
    "\n",
    "Ex: If we are working with an app that runs a machine learning algorithm model selection is choosing the process of choosing a final algorithm to deploy.\n",
    "\n",
    "\n",
    "- Model Evaluation: After selecting a 'best' model with model selection how this model will perform in the 'real' case.\n",
    "\n",
    "Ex: Model evaluation is where we want to predict how successful this algorithm will be."
   ]
  },
  {
   "cell_type": "markdown",
   "metadata": {},
   "source": [
    "[sklearn - Why do we need Train-Test-Validation?](https://scikit-learn.org/stable/modules/cross_validation.html#cross-validation)"
   ]
  },
  {
   "cell_type": "code",
   "execution_count": 4,
   "metadata": {},
   "outputs": [],
   "source": [
    "## For model evaluation we split our data into two parts: Train - Test\n",
    "\n",
    "X = df.drop('target', axis = 1)\n",
    "y = df['target']\n",
    "X_train, X_test, y_train, y_test = train_test_split(X,\n",
    "                                                    y,\n",
    "                                                    random_state = 77, \n",
    "                                                    stratify = y, # in classification problems \n",
    "                                                                  # when you split the data \n",
    "                                                                  # you want to keep the ratio in the classes.\n",
    "                                                    test_size = .2 # This is usually the ratio but it might change \n",
    "                                                                   # according to the problem at hand.\n",
    "                                                   )"
   ]
  },
  {
   "cell_type": "code",
   "execution_count": 24,
   "metadata": {},
   "outputs": [
    {
     "data": {
      "text/plain": [
       "(0.5454545454545454, 0.5409836065573771)"
      ]
     },
     "execution_count": 24,
     "metadata": {},
     "output_type": "execute_result"
    }
   ],
   "source": [
    "## Let's check number of 1 and 0 in both datasets\n",
    "y_train.mean(), y_test.mean()"
   ]
  },
  {
   "cell_type": "markdown",
   "metadata": {},
   "source": [
    "## Handling Categorical Variables"
   ]
  },
  {
   "cell_type": "markdown",
   "metadata": {},
   "source": [
    "[A good blog post on handling categorical variables](https://www.bogotobogo.com/python/scikit-learn/scikit_machine_learning_Data_Preprocessing-Missing-Data-Categorical-Data.php)"
   ]
  },
  {
   "cell_type": "code",
   "execution_count": 29,
   "metadata": {
    "scrolled": true
   },
   "outputs": [
    {
     "data": {
      "image/png": "[encoded data removed]",
      "text/plain": [
       "<Figure size 1008x720 with 196 Axes>"
      ]
     },
     "metadata": {
      "needs_background": "light"
     },
     "output_type": "display_data"
    }
   ],
   "source": [
    "# we can also check the categorical variables with scatter matrix plot\n",
    "# but notice that this is not practical in higher dimensions\n",
    "pd.plotting.scatter_matrix(df, figsize= (14, 10))\n",
    "plt.show()"
   ]
  },
  {
   "cell_type": "markdown",
   "metadata": {},
   "source": [
    "__Your Turn__\n",
    "\n",
    "- Write a function that finds the categorical variables."
   ]
  },
  {
   "cell_type": "code",
   "execution_count": 6,
   "metadata": {},
   "outputs": [],
   "source": [
    "# %load -r 1-7 supplement.py\n",
    "col = [c for c in df.columns if c not in ['target']]\n",
    "numclasses=[]\n",
    "for c in col:\n",
    "    numclasses.append(len(np.unique(df[[c]])))\n",
    "\n",
    "threshold=10\n",
    "categorical_variables = list(np.array(col)[np.array(numclasses)<threshold])"
   ]
  },
  {
   "cell_type": "code",
   "execution_count": 7,
   "metadata": {},
   "outputs": [
    {
     "data": {
      "text/plain": [
       "['sex', 'cp', 'fbs', 'restecg', 'exang', 'slope', 'ca', 'thal']"
      ]
     },
     "execution_count": 7,
     "metadata": {},
     "output_type": "execute_result"
    }
   ],
   "source": [
    "categorical_variables"
   ]
  },
  {
   "cell_type": "code",
   "execution_count": 9,
   "metadata": {},
   "outputs": [
    {
     "data": {
      "text/plain": [
       "['age', 'trestbps', 'chol', 'thalach', 'oldpeak']"
      ]
     },
     "execution_count": 9,
     "metadata": {},
     "output_type": "execute_result"
    }
   ],
   "source": [
    "remaining_list = [i for i in df.columns.tolist() if i not in categorical_variables]\n",
    "remaining_list.remove('target')\n",
    "\n",
    "## double check the categorical variables from data_information\n",
    "remaining_list"
   ]
  },
  {
   "cell_type": "markdown",
   "metadata": {},
   "source": [
    "__Your Turn__\n",
    "\n",
    "- Convert Categorical Variables to OneHotEncoding\n",
    "\n",
    "- [Dummies vs OneHot: Read the second answer](https://stackoverflow.com/questions/36631163/pandas-get-dummies-vs-sklearns-onehotencoder-what-are-the-pros-and-cons)"
   ]
  },
  {
   "cell_type": "code",
   "execution_count": 15,
   "metadata": {},
   "outputs": [
    {
     "data": {
      "text/plain": [
       "(242, 22)"
      ]
     },
     "execution_count": 15,
     "metadata": {},
     "output_type": "execute_result"
    }
   ],
   "source": [
    "pd.get_dummies(X_train, columns= categorical_variables, drop_first= True).shape"
   ]
  },
  {
   "cell_type": "markdown",
   "metadata": {},
   "source": [
    "Now try to transform test data with get_dummies method."
   ]
  },
  {
   "cell_type": "code",
   "execution_count": 16,
   "metadata": {},
   "outputs": [],
   "source": [
    "## your code here."
   ]
  },
  {
   "cell_type": "code",
   "execution_count": 17,
   "metadata": {},
   "outputs": [],
   "source": [
    "from sklearn.preprocessing import OneHotEncoder\n",
    "\n",
    "from sklearn.compose import ColumnTransformer"
   ]
  },
  {
   "cell_type": "code",
   "execution_count": 19,
   "metadata": {},
   "outputs": [
    {
     "data": {
      "text/html": [
       "<div>\n",
       "<style scoped>\n",
       "    .dataframe tbody tr th:only-of-type {\n",
       "        vertical-align: middle;\n",
       "    }\n",
       "\n",
       "    .dataframe tbody tr th {\n",
       "        vertical-align: top;\n",
       "    }\n",
       "\n",
       "    .dataframe thead th {\n",
       "        text-align: right;\n",
       "    }\n",
       "</style>\n",
       "<table border=\"1\" class=\"dataframe\">\n",
       "  <thead>\n",
       "    <tr style=\"text-align: right;\">\n",
       "      <th></th>\n",
       "      <th>age</th>\n",
       "      <th>sex</th>\n",
       "      <th>cp</th>\n",
       "      <th>trestbps</th>\n",
       "      <th>chol</th>\n",
       "      <th>fbs</th>\n",
       "      <th>restecg</th>\n",
       "      <th>thalach</th>\n",
       "      <th>exang</th>\n",
       "      <th>oldpeak</th>\n",
       "      <th>slope</th>\n",
       "      <th>ca</th>\n",
       "      <th>thal</th>\n",
       "      <th>target</th>\n",
       "    </tr>\n",
       "  </thead>\n",
       "  <tbody>\n",
       "    <tr>\n",
       "      <th>0</th>\n",
       "      <td>63</td>\n",
       "      <td>1</td>\n",
       "      <td>3</td>\n",
       "      <td>145</td>\n",
       "      <td>233</td>\n",
       "      <td>1</td>\n",
       "      <td>0</td>\n",
       "      <td>150</td>\n",
       "      <td>0</td>\n",
       "      <td>2.3</td>\n",
       "      <td>0</td>\n",
       "      <td>0</td>\n",
       "      <td>1</td>\n",
       "      <td>1</td>\n",
       "    </tr>\n",
       "    <tr>\n",
       "      <th>1</th>\n",
       "      <td>37</td>\n",
       "      <td>1</td>\n",
       "      <td>2</td>\n",
       "      <td>130</td>\n",
       "      <td>250</td>\n",
       "      <td>0</td>\n",
       "      <td>1</td>\n",
       "      <td>187</td>\n",
       "      <td>0</td>\n",
       "      <td>3.5</td>\n",
       "      <td>0</td>\n",
       "      <td>0</td>\n",
       "      <td>2</td>\n",
       "      <td>1</td>\n",
       "    </tr>\n",
       "    <tr>\n",
       "      <th>2</th>\n",
       "      <td>41</td>\n",
       "      <td>0</td>\n",
       "      <td>1</td>\n",
       "      <td>130</td>\n",
       "      <td>204</td>\n",
       "      <td>0</td>\n",
       "      <td>0</td>\n",
       "      <td>172</td>\n",
       "      <td>0</td>\n",
       "      <td>1.4</td>\n",
       "      <td>2</td>\n",
       "      <td>0</td>\n",
       "      <td>2</td>\n",
       "      <td>1</td>\n",
       "    </tr>\n",
       "  </tbody>\n",
       "</table>\n",
       "</div>"
      ],
      "text/plain": [
       "   age  sex  cp  trestbps  chol  fbs  restecg  thalach  exang  oldpeak  slope  \\\n",
       "0   63    1   3       145   233    1        0      150      0      2.3      0   \n",
       "1   37    1   2       130   250    0        1      187      0      3.5      0   \n",
       "2   41    0   1       130   204    0        0      172      0      1.4      2   \n",
       "\n",
       "   ca  thal  target  \n",
       "0   0     1       1  \n",
       "1   0     2       1  \n",
       "2   0     2       1  "
      ]
     },
     "execution_count": 19,
     "metadata": {},
     "output_type": "execute_result"
    }
   ],
   "source": [
    "df.head(3)"
   ]
  },
  {
   "cell_type": "code",
   "execution_count": 36,
   "metadata": {},
   "outputs": [],
   "source": [
    "# %load -r 55-68 supplement.py\n",
    "## create an encoder object. This will help us to convert\n",
    "## categorical variables to new columns\n",
    "encoder = OneHotEncoder(handle_unknown= 'error',\n",
    "                        drop='first',\n",
    "                        categories= 'auto')\n",
    "\n",
    "## Create an columntransformer object.\n",
    "## This will help us to merge transformed columns\n",
    "## with the rest of the dataset.\n",
    "\n",
    "ct = ColumnTransformer(transformers =[('ohe', encoder, categorical_variables)],\n",
    "                                    remainder= 'passthrough')\n",
    "ct.fit(X_train)\n",
    "X = ct.transform(X_train)"
   ]
  },
  {
   "cell_type": "markdown",
   "metadata": {},
   "source": [
    "Now try to transform test dataset by using ct object."
   ]
  },
  {
   "cell_type": "code",
   "execution_count": 37,
   "metadata": {},
   "outputs": [],
   "source": [
    "# your code here.\n",
    "\n",
    "Xtest = ct.transform(X_test)"
   ]
  },
  {
   "cell_type": "markdown",
   "metadata": {},
   "source": [
    "__Don't forget!!__\n",
    "\n",
    "- Apply the same transformations to the test data."
   ]
  },
  {
   "cell_type": "code",
   "execution_count": 38,
   "metadata": {},
   "outputs": [
    {
     "data": {
      "text/plain": [
       "(61, 22)"
      ]
     },
     "execution_count": 38,
     "metadata": {},
     "output_type": "execute_result"
    }
   ],
   "source": [
    "# %load -r 71-72 supplement.py\n",
    "Xtest  = ct.transform(X_test)\n",
    "Xtest.shape"
   ]
  },
  {
   "cell_type": "markdown",
   "metadata": {},
   "source": [
    "__Scaling Features__\n",
    "\n",
    "[Different Scalers and Their Effect on Data](https://scikit-learn.org/stable/auto_examples/preprocessing/plot_all_scaling.html#sphx-glr-auto-examples-preprocessing-plot-all-scaling-py)"
   ]
  },
  {
   "cell_type": "code",
   "execution_count": 39,
   "metadata": {},
   "outputs": [],
   "source": [
    "from sklearn.preprocessing import StandardScaler"
   ]
  },
  {
   "cell_type": "code",
   "execution_count": 40,
   "metadata": {},
   "outputs": [],
   "source": [
    "standard_scaler = StandardScaler()\n",
    "standard_scaler.fit(X)\n",
    "X = standard_scaler.transform(X)\n",
    "## apply the trained transformations to test.\n",
    "\n",
    "Xtest = standard_scaler.transform(Xtest)"
   ]
  },
  {
   "cell_type": "code",
   "execution_count": 41,
   "metadata": {},
   "outputs": [
    {
     "data": {
      "text/plain": [
       "(61, 22)"
      ]
     },
     "execution_count": 41,
     "metadata": {},
     "output_type": "execute_result"
    }
   ],
   "source": [
    "Xtest.shape"
   ]
  },
  {
   "cell_type": "code",
   "execution_count": 42,
   "metadata": {},
   "outputs": [
    {
     "data": {
      "text/plain": [
       "array([-1.83507938e-17, -5.18409925e-17,  8.16610324e-17,  8.25785721e-17,\n",
       "        2.24797224e-17,  0.00000000e+00,  6.99624013e-18,  3.79861432e-16,\n",
       "       -2.84437304e-17,  7.06505561e-17,  7.20268656e-17, -1.22950318e-16,\n",
       "        2.38560319e-17, -7.34031752e-18,  7.34031752e-17, -6.78979370e-17,\n",
       "       -2.38560319e-17,  4.12892860e-17, -4.17251174e-16,  5.32173020e-17,\n",
       "        6.00988497e-16, -4.49594448e-17])"
      ]
     },
     "execution_count": 42,
     "metadata": {},
     "output_type": "execute_result"
    }
   ],
   "source": [
    "np.mean(X,axis = 0)\n",
    "\n",
    "## What do you expect if you check the means of X_test? Try"
   ]
  },
  {
   "cell_type": "markdown",
   "metadata": {},
   "source": [
    "[Check sklearn for documentation of Logistic Regression](https://scikit-learn.org/stable/modules/generated/sklearn.linear_model.LogisticRegression.html)\n",
    "\n",
    "\n",
    "[For solvers](https://scikit-learn.org/stable/modules/linear_model.html#logistic-regression)"
   ]
  },
  {
   "cell_type": "code",
   "execution_count": 65,
   "metadata": {},
   "outputs": [
    {
     "data": {
      "text/plain": [
       "LogisticRegression(C=1000000000.0, class_weight=None, dual=False,\n",
       "                   fit_intercept=True, intercept_scaling=1, l1_ratio=None,\n",
       "                   max_iter=10000, multi_class='warn', n_jobs=None,\n",
       "                   penalty='l2', random_state=None, solver='saga', tol=0.0001,\n",
       "                   verbose=0, warm_start=False)"
      ]
     },
     "execution_count": 65,
     "metadata": {},
     "output_type": "execute_result"
    }
   ],
   "source": [
    "# %load -r 17-18 supplement.py\n",
    "lr = LogisticRegression(C = 1e9, solver = 'saga', max_iter=10000, penalty='l2')\n",
    "lr.fit(X, y_train)"
   ]
  },
  {
   "cell_type": "code",
   "execution_count": 66,
   "metadata": {},
   "outputs": [
    {
     "data": {
      "text/plain": [
       "0.8925619834710744"
      ]
     },
     "execution_count": 66,
     "metadata": {},
     "output_type": "execute_result"
    }
   ],
   "source": [
    "lr.score(X, y_train)"
   ]
  },
  {
   "cell_type": "code",
   "execution_count": null,
   "metadata": {},
   "outputs": [],
   "source": []
  },
  {
   "cell_type": "code",
   "execution_count": 46,
   "metadata": {
    "scrolled": true
   },
   "outputs": [
    {
     "name": "stdout",
     "output_type": "stream",
     "text": [
      "0.8925619834710744\n"
     ]
    }
   ],
   "source": [
    "## What is this score?\n",
    "print(lr.score(X, y_train))"
   ]
  },
  {
   "cell_type": "markdown",
   "metadata": {},
   "source": [
    "__Your Turn__\n",
    "\n",
    "- Fit a logistic regression with C = 1 and $\\ell_2$ regularization.\n",
    "\n",
    "- Fit a logistic regression with C = 1 and $\\ell_1$ regularization.\n",
    "\n",
    "- Use 5-fold cross-validation with sklearn cross_validate\n",
    "\n",
    "[sklearn - validation](https://scikit-learn.org/stable/modules/cross_validation.html)\n",
    "\n",
    "[sklearn -  cross_validate](https://scikit-learn.org/stable/modules/generated/sklearn.model_selection.cross_validate.html)\n",
    "\n",
    "[sklearn - cross_val_score](https://scikit-learn.org/stable/modules/generated/sklearn.model_selection.cross_val_score.html)"
   ]
  },
  {
   "cell_type": "code",
   "execution_count": 68,
   "metadata": {},
   "outputs": [],
   "source": [
    "# %load -r 20-52 supplement.py\n",
    "cv = StratifiedKFold(n_splits= 5, random_state=1019, shuffle=True)\n",
    "\n",
    "lr_vanilla = LogisticRegression(C = 1e9,\n",
    "                                solver = 'newton-cg',\n",
    "                                max_iter=1000)\n",
    "\n",
    "l2_reg = LogisticRegression(C = 1,\n",
    "                            solver = 'newton-cg',\n",
    "                            max_iter=1000)\n",
    "\n",
    "l1_reg = LogisticRegression(C = 1,\n",
    "                           solver= 'saga',\n",
    "                           penalty = 'l1',\n",
    "                            max_iter=1000)\n",
    "\n",
    "cv_vanilla = cross_validate(estimator=lr_vanilla,\n",
    "                            X = X, y = y_train,\n",
    "                            cv = cv,\n",
    "                            n_jobs=-1,\n",
    "                            return_estimator= True,\n",
    "                            return_train_score=True)\n",
    "\n",
    "cv_l2 = cross_validate(estimator=l2_reg, X = X, y = y_train,\n",
    "                    cv = cv,\n",
    "                    n_jobs=-1,\n",
    "                    return_estimator= True,\n",
    "                    return_train_score=True)\n",
    "\n",
    "cv_l1 = cross_validate(estimator=l1_reg, X = X, y = y_train,\n",
    "                    cv = cv,\n",
    "                    n_jobs=-1,\n",
    "                    return_estimator= True,\n",
    "                    return_train_score=True)"
   ]
  },
  {
   "cell_type": "code",
   "execution_count": 69,
   "metadata": {},
   "outputs": [],
   "source": [
    "## let's see train and validation scores\n",
    "vanilla_result = np.concatenate((cv_vanilla['train_score'].reshape(-1,1), \n",
    " \n",
    "                                 cv_vanilla['test_score'].reshape(-1,1)), axis=1)\n",
    "\n",
    "l2_result = np.concatenate((cv_l2['train_score'].reshape(-1,1), \n",
    "                cv_l2['test_score'].reshape(-1,1)), axis=1)\n",
    "\n",
    "l1_result = np.concatenate((cv_l1['train_score'].reshape(-1,1), \n",
    "                cv_l1['test_score'].reshape(-1,1)), axis=1)"
   ]
  },
  {
   "cell_type": "code",
   "execution_count": 70,
   "metadata": {},
   "outputs": [
    {
     "data": {
      "text/plain": [
       "array([[0.85492228, 0.85714286],\n",
       "       [0.88082902, 0.81632653],\n",
       "       [0.91237113, 0.8125    ],\n",
       "       [0.91237113, 0.8125    ],\n",
       "       [0.90206186, 0.8125    ]])"
      ]
     },
     "execution_count": 70,
     "metadata": {},
     "output_type": "execute_result"
    }
   ],
   "source": [
    "vanilla_result"
   ]
  },
  {
   "cell_type": "code",
   "execution_count": 71,
   "metadata": {},
   "outputs": [
    {
     "data": {
      "text/plain": [
       "array([[0.87046632, 0.89795918],\n",
       "       [0.88601036, 0.81632653],\n",
       "       [0.90206186, 0.8125    ],\n",
       "       [0.91237113, 0.77083333],\n",
       "       [0.90721649, 0.8125    ]])"
      ]
     },
     "execution_count": 71,
     "metadata": {},
     "output_type": "execute_result"
    }
   ],
   "source": [
    "l2_result"
   ]
  },
  {
   "cell_type": "code",
   "execution_count": 72,
   "metadata": {},
   "outputs": [
    {
     "data": {
      "text/plain": [
       "array([[0.88082902, 0.95918367],\n",
       "       [0.88082902, 0.85714286],\n",
       "       [0.90206186, 0.8125    ],\n",
       "       [0.91752577, 0.77083333],\n",
       "       [0.90206186, 0.8125    ]])"
      ]
     },
     "execution_count": 72,
     "metadata": {},
     "output_type": "execute_result"
    }
   ],
   "source": [
    "l1_result"
   ]
  },
  {
   "cell_type": "code",
   "execution_count": 211,
   "metadata": {},
   "outputs": [
    {
     "name": "stdout",
     "output_type": "stream",
     "text": [
      "[0.89251108 0.82219388] [0.8966615  0.84243197] [0.89562523 0.82202381]\n"
     ]
    }
   ],
   "source": [
    "print(vanilla_result.mean(axis=0), l1_result.mean(axis=0), l2_result.mean(axis=0))"
   ]
  },
  {
   "cell_type": "code",
   "execution_count": 73,
   "metadata": {},
   "outputs": [
    {
     "data": {
      "text/plain": [
       "0.8553719008264463"
      ]
     },
     "execution_count": 73,
     "metadata": {},
     "output_type": "execute_result"
    }
   ],
   "source": [
    "lr = cv_vanilla['estimator'][0]\n",
    "lr.score(X,y_train)"
   ]
  },
  {
   "cell_type": "markdown",
   "metadata": {},
   "source": [
    "- We got an accuracy score of .82, but what does that tell us? Just that 82% of the time we are correct, nothing about how we are correct or how we are wrong"
   ]
  },
  {
   "cell_type": "markdown",
   "metadata": {},
   "source": [
    "### The Default Measure (in most prebuilt models) - Accuracy\n",
    "\n",
    "$$ \\frac{(TP + TN)}{(TP + FP + TN + FN)} $$\n",
    "\n",
    "<img src='./images/conf_matrix_classification_metrics.png' width=650/>"
   ]
  },
  {
   "cell_type": "markdown",
   "metadata": {},
   "source": [
    "Category definitions - possible outcomes in binary classification\n",
    "\n",
    "- TP = True Positive (class 1 correctly classified as class 1) - e.g. Patient with cancer tests positive for cancer\n",
    "- TN = True Negative (class 0 correctly classified as class 0) - e.g. Patient without cancer tests negative for cancer\n",
    "- FP = False Positive (class 0 incorrectly classified as class 1) - e.g. Patient without cancer tests positive for cancer\n",
    "- FN = False Negative (class 1 incorrectly classified as class 0) - e.g. Patient with cancer tests negative for cancer"
   ]
  },
  {
   "cell_type": "markdown",
   "metadata": {},
   "source": [
    " $$ \\text{Possible misclassifications} $$\n",
    "\n",
    "<img src='./images/type-1-type-2.jpg' width=400/>\n",
    " "
   ]
  },
  {
   "cell_type": "code",
   "execution_count": 76,
   "metadata": {},
   "outputs": [],
   "source": [
    "predictions = lr.predict(X)\n",
    "actual = y_train"
   ]
  },
  {
   "cell_type": "code",
   "execution_count": 77,
   "metadata": {},
   "outputs": [
    {
     "data": {
      "text/plain": [
       "array([[ 91,  19],\n",
       "       [ 16, 116]])"
      ]
     },
     "execution_count": 77,
     "metadata": {},
     "output_type": "execute_result"
    }
   ],
   "source": [
    "confusion_matrix(actual, predictions)"
   ]
  },
  {
   "cell_type": "markdown",
   "metadata": {},
   "source": [
    "__My eyes!!!__"
   ]
  },
  {
   "cell_type": "code",
   "execution_count": 78,
   "metadata": {},
   "outputs": [
    {
     "data": {
      "text/html": [
       "<div>\n",
       "<style scoped>\n",
       "    .dataframe tbody tr th:only-of-type {\n",
       "        vertical-align: middle;\n",
       "    }\n",
       "\n",
       "    .dataframe tbody tr th {\n",
       "        vertical-align: top;\n",
       "    }\n",
       "\n",
       "    .dataframe thead th {\n",
       "        text-align: right;\n",
       "    }\n",
       "</style>\n",
       "<table border=\"1\" class=\"dataframe\">\n",
       "  <thead>\n",
       "    <tr style=\"text-align: right;\">\n",
       "      <th></th>\n",
       "      <th>predicted 0</th>\n",
       "      <th>predicted 1</th>\n",
       "    </tr>\n",
       "  </thead>\n",
       "  <tbody>\n",
       "    <tr>\n",
       "      <th>actual 0</th>\n",
       "      <td>91</td>\n",
       "      <td>19</td>\n",
       "    </tr>\n",
       "    <tr>\n",
       "      <th>actual 1</th>\n",
       "      <td>16</td>\n",
       "      <td>116</td>\n",
       "    </tr>\n",
       "  </tbody>\n",
       "</table>\n",
       "</div>"
      ],
      "text/plain": [
       "          predicted 0  predicted 1\n",
       "actual 0           91           19\n",
       "actual 1           16          116"
      ]
     },
     "execution_count": 78,
     "metadata": {},
     "output_type": "execute_result"
    }
   ],
   "source": [
    "pd.DataFrame(confusion_matrix(actual, predictions), \n",
    "             columns = ['predicted 0', 'predicted 1'], \n",
    "             index = ['actual 0', 'actual 1'])"
   ]
  },
  {
   "cell_type": "code",
   "execution_count": 80,
   "metadata": {},
   "outputs": [],
   "source": [
    "rec = 116/(16+116)\n",
    "\n",
    "pre = 116/(19+116)"
   ]
  },
  {
   "cell_type": "code",
   "execution_count": 81,
   "metadata": {},
   "outputs": [
    {
     "name": "stdout",
     "output_type": "stream",
     "text": [
      "0.8787878787878788 0.8592592592592593\n"
     ]
    }
   ],
   "source": [
    "print(rec, pre)"
   ]
  },
  {
   "cell_type": "markdown",
   "metadata": {},
   "source": [
    "- We got more false positives than false negatives. What would we likely prefer in the case of this dataset?"
   ]
  },
  {
   "cell_type": "markdown",
   "metadata": {},
   "source": [
    "## Other metrics\n",
    "\n",
    "__Misclassification Rate__\n",
    "\n",
    " $$ 1 - \\text{accuracy} $$ \n",
    "\n",
    " $$ \\text{OR} $$\n",
    "\n",
    " $$ \\frac{FP + FN}{TP + FP + TN + FN} $$"
   ]
  },
  {
   "cell_type": "markdown",
   "metadata": {},
   "source": [
    "__Sensitivity__ (AKA True Positive Rate, Recall, and Probability of Detection)\n",
    "\n",
    "$$ \\frac{TP}{TP + FN} $$"
   ]
  },
  {
   "cell_type": "markdown",
   "metadata": {},
   "source": [
    "__Specificity__ (AKA True Negative Rate)\n",
    "\n",
    "$$ \\frac{TN}{TN + FP} $$\n",
    "\n",
    "__Your Turn__\n",
    "\n",
    "- Write functions that returns the Recall, Precision and $F_1$ score."
   ]
  },
  {
   "cell_type": "code",
   "execution_count": null,
   "metadata": {},
   "outputs": [],
   "source": []
  },
  {
   "cell_type": "markdown",
   "metadata": {},
   "source": [
    "- Which of these metrics would we want to optimize for in a heart disease detection algorithm?\n",
    "\n",
    "False Positives and False Negatives each have some cost associated with them.\n",
    "\n",
    "__Write Your Own Cost Function__"
   ]
  },
  {
   "cell_type": "code",
   "execution_count": 93,
   "metadata": {},
   "outputs": [
    {
     "data": {
      "text/plain": [
       "75"
      ]
     },
     "execution_count": 93,
     "metadata": {},
     "output_type": "execute_result"
    }
   ],
   "source": [
    "def your_metric(confusion_matrix):\n",
    "    TP = confusion_matrix[0,0]\n",
    "    TN = confusion_matrix[1,1]\n",
    "    FP = confusion_matrix[0,1]\n",
    "    FN = confusion_matrix[1,0]\n",
    "    return 0*TN + 5*FP \n",
    "\n",
    "your_metric(confusion_matrix(actual, predictions))"
   ]
  },
  {
   "cell_type": "code",
   "execution_count": null,
   "metadata": {},
   "outputs": [],
   "source": []
  },
  {
   "cell_type": "markdown",
   "metadata": {},
   "source": [
    "### Let's figure out how to optimize!"
   ]
  },
  {
   "cell_type": "markdown",
   "metadata": {},
   "source": [
    "Remember that Logistic Regression gives probability predictions for each class, in addition to the final classification. By default, threshold for the prediction is set to 0.5, but we can adjust that threshold."
   ]
  },
  {
   "cell_type": "code",
   "execution_count": 83,
   "metadata": {},
   "outputs": [
    {
     "data": {
      "text/plain": [
       "array([1, 1, 1, 0, 0, 0, 1, 0, 1, 0, 1, 1, 1, 0, 0, 1, 0, 1, 1, 0, 0, 1,\n",
       "       0, 0, 1, 0, 0, 1, 0, 1, 1, 0, 1, 0, 1, 1, 1, 1, 1, 0, 0, 1, 0, 1,\n",
       "       1, 0, 0, 1, 1, 1, 1, 0, 1, 1, 1, 1, 1, 1, 0, 1, 0, 1, 1, 0, 0, 0,\n",
       "       1, 1, 0, 0, 0, 0, 1, 0, 1, 0, 0, 1, 0, 1, 0, 1, 0, 1, 0, 1, 1, 1,\n",
       "       1, 1, 1, 1, 1, 1, 0, 0, 0, 1, 0, 1, 0, 1, 1, 0, 1, 1, 0, 1, 0, 1,\n",
       "       1, 0, 0, 1, 0, 1, 0, 0, 0, 0, 0, 1, 0, 1, 1, 1, 0, 1, 0, 0, 1, 0,\n",
       "       0, 1, 0, 0, 1, 0, 1, 0, 0, 1, 1, 1, 0, 1, 0, 1, 0, 1, 1, 0, 1, 1,\n",
       "       1, 0, 0, 0, 1, 1, 1, 0, 0, 1, 1, 1, 1, 0, 1, 0, 0, 1, 0, 0, 1, 1,\n",
       "       0, 0, 1, 0, 0, 0, 1, 0, 0, 0, 1, 0, 1, 1, 0, 0, 0, 1, 1, 1, 1, 0,\n",
       "       1, 1, 1, 0, 0, 1, 0, 1, 1, 1, 0, 1, 0, 0, 1, 1, 1, 1, 1, 1, 1, 1,\n",
       "       1, 0, 1, 0, 0, 1, 1, 1, 1, 0, 0, 0, 1, 1, 1, 1, 1, 1, 0, 1, 0, 1])"
      ]
     },
     "execution_count": 83,
     "metadata": {},
     "output_type": "execute_result"
    }
   ],
   "source": [
    "predictions"
   ]
  },
  {
   "cell_type": "code",
   "execution_count": 82,
   "metadata": {},
   "outputs": [
    {
     "data": {
      "text/plain": [
       "array([[1.95763184e-01, 8.04236816e-01],\n",
       "       [2.71978363e-01, 7.28021637e-01],\n",
       "       [6.20810070e-02, 9.37918993e-01],\n",
       "       [6.21613652e-01, 3.78386348e-01],\n",
       "       [8.03644289e-01, 1.96355711e-01],\n",
       "       [9.93095481e-01, 6.90451913e-03],\n",
       "       [9.14601715e-04, 9.99085398e-01],\n",
       "       [9.57028131e-01, 4.29718686e-02],\n",
       "       [4.57038464e-02, 9.54296154e-01],\n",
       "       [9.12875225e-01, 8.71247751e-02],\n",
       "       [6.51860329e-02, 9.34813967e-01],\n",
       "       [6.22611193e-02, 9.37738881e-01],\n",
       "       [1.11131007e-01, 8.88868993e-01],\n",
       "       [7.53405169e-01, 2.46594831e-01],\n",
       "       [9.06482575e-01, 9.35174245e-02],\n",
       "       [7.77467490e-02, 9.22253251e-01],\n",
       "       [8.27298153e-01, 1.72701847e-01],\n",
       "       [2.38737893e-01, 7.61262107e-01],\n",
       "       [2.48772216e-02, 9.75122778e-01],\n",
       "       [9.88534371e-01, 1.14656285e-02],\n",
       "       [7.55895529e-01, 2.44104471e-01],\n",
       "       [1.41820945e-02, 9.85817905e-01],\n",
       "       [7.18116175e-01, 2.81883825e-01],\n",
       "       [9.94108434e-01, 5.89156556e-03],\n",
       "       [8.75562471e-02, 9.12443753e-01],\n",
       "       [9.44572662e-01, 5.54273380e-02],\n",
       "       [9.98855161e-01, 1.14483908e-03],\n",
       "       [2.23375649e-02, 9.77662435e-01],\n",
       "       [7.72387308e-01, 2.27612692e-01],\n",
       "       [2.52158342e-03, 9.97478417e-01],\n",
       "       [7.48378465e-02, 9.25162153e-01],\n",
       "       [9.97079866e-01, 2.92013367e-03],\n",
       "       [1.13850688e-02, 9.88614931e-01],\n",
       "       [7.78667997e-01, 2.21332003e-01],\n",
       "       [2.68820542e-01, 7.31179458e-01],\n",
       "       [3.54530600e-07, 9.99999645e-01],\n",
       "       [2.83660662e-01, 7.16339338e-01],\n",
       "       [2.23797876e-01, 7.76202124e-01],\n",
       "       [2.39589673e-01, 7.60410327e-01],\n",
       "       [7.56904959e-01, 2.43095041e-01],\n",
       "       [5.88149268e-01, 4.11850732e-01],\n",
       "       [2.79448985e-02, 9.72055101e-01],\n",
       "       [9.34773672e-01, 6.52263284e-02],\n",
       "       [3.18941895e-01, 6.81058105e-01],\n",
       "       [1.60254878e-02, 9.83974512e-01],\n",
       "       [8.52053569e-01, 1.47946431e-01],\n",
       "       [9.33423867e-01, 6.65761334e-02],\n",
       "       [4.79674563e-01, 5.20325437e-01],\n",
       "       [1.48087057e-01, 8.51912943e-01],\n",
       "       [4.64931318e-01, 5.35068682e-01],\n",
       "       [4.78941659e-01, 5.21058341e-01],\n",
       "       [9.98559835e-01, 1.44016507e-03],\n",
       "       [2.09686564e-02, 9.79031344e-01],\n",
       "       [4.22298097e-02, 9.57770190e-01],\n",
       "       [5.71301299e-02, 9.42869870e-01],\n",
       "       [3.12168221e-02, 9.68783178e-01],\n",
       "       [1.29882347e-05, 9.99987012e-01],\n",
       "       [3.16333156e-02, 9.68366684e-01],\n",
       "       [9.94431768e-01, 5.56823234e-03],\n",
       "       [2.11892675e-03, 9.97881073e-01],\n",
       "       [8.77090986e-01, 1.22909014e-01],\n",
       "       [1.54710078e-01, 8.45289922e-01],\n",
       "       [1.34173862e-01, 8.65826138e-01],\n",
       "       [9.83188644e-01, 1.68113560e-02],\n",
       "       [5.17529630e-01, 4.82470370e-01],\n",
       "       [9.47067650e-01, 5.29323496e-02],\n",
       "       [4.78903783e-03, 9.95210962e-01],\n",
       "       [7.51627168e-03, 9.92483728e-01],\n",
       "       [5.04154137e-01, 4.95845863e-01],\n",
       "       [5.91757553e-01, 4.08242447e-01],\n",
       "       [8.89688171e-01, 1.10311829e-01],\n",
       "       [9.97035328e-01, 2.96467229e-03],\n",
       "       [3.91051183e-01, 6.08948817e-01],\n",
       "       [9.06776915e-01, 9.32230854e-02],\n",
       "       [3.98132115e-02, 9.60186788e-01],\n",
       "       [9.99451615e-01, 5.48384812e-04],\n",
       "       [9.89279818e-01, 1.07201821e-02],\n",
       "       [2.99942891e-02, 9.70005711e-01],\n",
       "       [9.94934734e-01, 5.06526649e-03],\n",
       "       [1.63147427e-01, 8.36852573e-01],\n",
       "       [9.23509565e-01, 7.64904348e-02],\n",
       "       [3.21069610e-01, 6.78930390e-01],\n",
       "       [9.96300544e-01, 3.69945643e-03],\n",
       "       [1.11078220e-01, 8.88921780e-01],\n",
       "       [6.96175192e-01, 3.03824808e-01],\n",
       "       [2.45476327e-01, 7.54523673e-01],\n",
       "       [2.38968744e-01, 7.61031256e-01],\n",
       "       [2.99285345e-02, 9.70071466e-01],\n",
       "       [1.51561717e-02, 9.84843828e-01],\n",
       "       [7.65361732e-02, 9.23463827e-01],\n",
       "       [1.31993636e-01, 8.68006364e-01],\n",
       "       [2.06878510e-01, 7.93121490e-01],\n",
       "       [6.82929906e-02, 9.31707009e-01],\n",
       "       [3.38420657e-01, 6.61579343e-01],\n",
       "       [8.55658591e-01, 1.44341409e-01],\n",
       "       [5.07544866e-01, 4.92455134e-01],\n",
       "       [5.19835504e-01, 4.80164496e-01],\n",
       "       [3.26269056e-03, 9.96737309e-01],\n",
       "       [8.17953216e-01, 1.82046784e-01],\n",
       "       [2.44018666e-01, 7.55981334e-01],\n",
       "       [9.98419869e-01, 1.58013093e-03],\n",
       "       [3.95420098e-01, 6.04579902e-01],\n",
       "       [2.36320016e-01, 7.63679984e-01],\n",
       "       [6.96002076e-01, 3.03997924e-01],\n",
       "       [2.38515508e-01, 7.61484492e-01],\n",
       "       [2.41554799e-01, 7.58445201e-01],\n",
       "       [7.92952998e-01, 2.07047002e-01],\n",
       "       [2.29277785e-02, 9.77072222e-01],\n",
       "       [5.26976280e-01, 4.73023720e-01],\n",
       "       [1.07947176e-02, 9.89205282e-01],\n",
       "       [1.26734901e-01, 8.73265099e-01],\n",
       "       [9.15228901e-01, 8.47710987e-02],\n",
       "       [9.99209709e-01, 7.90290562e-04],\n",
       "       [8.82907931e-03, 9.91170921e-01],\n",
       "       [9.95008094e-01, 4.99190595e-03],\n",
       "       [4.13575286e-01, 5.86424714e-01],\n",
       "       [9.83596971e-01, 1.64030291e-02],\n",
       "       [9.94231112e-01, 5.76888788e-03],\n",
       "       [9.83887028e-01, 1.61129720e-02],\n",
       "       [9.84623120e-01, 1.53768804e-02],\n",
       "       [9.98460614e-01, 1.53938627e-03],\n",
       "       [2.20689105e-02, 9.77931090e-01],\n",
       "       [6.50369697e-01, 3.49630303e-01],\n",
       "       [4.46614916e-01, 5.53385084e-01],\n",
       "       [3.04718773e-01, 6.95281227e-01],\n",
       "       [4.77919807e-01, 5.22080193e-01],\n",
       "       [6.67064321e-01, 3.32935679e-01],\n",
       "       [7.13465954e-02, 9.28653405e-01],\n",
       "       [6.13388863e-01, 3.86611137e-01],\n",
       "       [9.64445622e-01, 3.55543784e-02],\n",
       "       [6.31906182e-02, 9.36809382e-01],\n",
       "       [9.98232795e-01, 1.76720520e-03],\n",
       "       [9.95757121e-01, 4.24287880e-03],\n",
       "       [1.20392510e-02, 9.87960749e-01],\n",
       "       [5.31810604e-01, 4.68189396e-01],\n",
       "       [9.96979841e-01, 3.02015869e-03],\n",
       "       [1.07227022e-02, 9.89277298e-01],\n",
       "       [9.91032557e-01, 8.96744265e-03],\n",
       "       [2.56969565e-01, 7.43030435e-01],\n",
       "       [9.92622285e-01, 7.37771515e-03],\n",
       "       [9.99350336e-01, 6.49663894e-04],\n",
       "       [5.75294871e-02, 9.42470513e-01],\n",
       "       [1.69401963e-01, 8.30598037e-01],\n",
       "       [2.04731424e-01, 7.95268576e-01],\n",
       "       [6.75960141e-01, 3.24039859e-01],\n",
       "       [6.41830380e-02, 9.35816962e-01],\n",
       "       [9.89629472e-01, 1.03705282e-02],\n",
       "       [5.63794034e-02, 9.43620597e-01],\n",
       "       [9.66020411e-01, 3.39795893e-02],\n",
       "       [2.54926309e-02, 9.74507369e-01],\n",
       "       [4.62712536e-01, 5.37287464e-01],\n",
       "       [6.69137306e-01, 3.30862694e-01],\n",
       "       [3.87923524e-02, 9.61207648e-01],\n",
       "       [1.16037784e-01, 8.83962216e-01],\n",
       "       [9.99864445e-03, 9.90001356e-01],\n",
       "       [8.35258970e-01, 1.64741030e-01],\n",
       "       [9.82977390e-01, 1.70226104e-02],\n",
       "       [9.81349734e-01, 1.86502663e-02],\n",
       "       [3.36933711e-01, 6.63066289e-01],\n",
       "       [6.03229518e-03, 9.93967705e-01],\n",
       "       [3.86705739e-02, 9.61329426e-01],\n",
       "       [8.58976392e-01, 1.41023608e-01],\n",
       "       [9.22411184e-01, 7.75888162e-02],\n",
       "       [4.29469640e-02, 9.57053036e-01],\n",
       "       [4.72508922e-01, 5.27491078e-01],\n",
       "       [3.83559730e-03, 9.96164403e-01],\n",
       "       [3.13563285e-01, 6.86436715e-01],\n",
       "       [9.59489136e-01, 4.05108639e-02],\n",
       "       [1.90416512e-01, 8.09583488e-01],\n",
       "       [9.87911491e-01, 1.20885087e-02],\n",
       "       [5.09945977e-01, 4.90054023e-01],\n",
       "       [1.06614921e-01, 8.93385079e-01],\n",
       "       [9.95715791e-01, 4.28420943e-03],\n",
       "       [7.91276197e-01, 2.08723803e-01],\n",
       "       [3.08216224e-01, 6.91783776e-01],\n",
       "       [3.75549224e-03, 9.96244508e-01],\n",
       "       [8.92703838e-01, 1.07296162e-01],\n",
       "       [9.93305565e-01, 6.69443515e-03],\n",
       "       [1.68018588e-01, 8.31981412e-01],\n",
       "       [9.99040592e-01, 9.59408318e-04],\n",
       "       [9.93412166e-01, 6.58783379e-03],\n",
       "       [8.50518703e-01, 1.49481297e-01],\n",
       "       [8.03631446e-03, 9.91963686e-01],\n",
       "       [9.99976849e-01, 2.31511793e-05],\n",
       "       [7.62460702e-01, 2.37539298e-01],\n",
       "       [9.05644854e-01, 9.43551455e-02],\n",
       "       [2.08059957e-02, 9.79194004e-01],\n",
       "       [9.69433413e-01, 3.05665870e-02],\n",
       "       [2.26750464e-01, 7.73249536e-01],\n",
       "       [3.34683149e-02, 9.66531685e-01],\n",
       "       [9.98817397e-01, 1.18260299e-03],\n",
       "       [7.19043514e-01, 2.80956486e-01],\n",
       "       [9.91581235e-01, 8.41876471e-03],\n",
       "       [2.60244209e-01, 7.39755791e-01],\n",
       "       [2.98311388e-02, 9.70168861e-01],\n",
       "       [1.37453214e-01, 8.62546786e-01],\n",
       "       [7.73767529e-02, 9.22623247e-01],\n",
       "       [9.79880643e-01, 2.01193574e-02],\n",
       "       [9.55291700e-03, 9.90447083e-01],\n",
       "       [1.70211515e-02, 9.82978849e-01],\n",
       "       [4.57276768e-01, 5.42723232e-01],\n",
       "       [6.78982872e-01, 3.21017128e-01],\n",
       "       [7.57291604e-01, 2.42708396e-01],\n",
       "       [1.42256545e-02, 9.85774345e-01],\n",
       "       [8.85324137e-01, 1.14675863e-01],\n",
       "       [6.38954013e-02, 9.36104599e-01],\n",
       "       [3.60633816e-02, 9.63936618e-01],\n",
       "       [1.97432527e-02, 9.80256747e-01],\n",
       "       [9.91761987e-01, 8.23801322e-03],\n",
       "       [1.04325000e-01, 8.95675000e-01],\n",
       "       [8.09828257e-01, 1.90171743e-01],\n",
       "       [9.72872223e-01, 2.71277771e-02],\n",
       "       [3.30191993e-01, 6.69808007e-01],\n",
       "       [4.52154183e-01, 5.47845817e-01],\n",
       "       [1.07591779e-02, 9.89240822e-01],\n",
       "       [2.58344068e-01, 7.41655932e-01],\n",
       "       [2.61796973e-01, 7.38203027e-01],\n",
       "       [1.87526460e-01, 8.12473540e-01],\n",
       "       [2.68672411e-03, 9.97313276e-01],\n",
       "       [3.32331393e-02, 9.66766861e-01],\n",
       "       [2.56260056e-02, 9.74373994e-01],\n",
       "       [6.91980696e-01, 3.08019304e-01],\n",
       "       [1.41523605e-02, 9.85847639e-01],\n",
       "       [5.61171181e-01, 4.38828819e-01],\n",
       "       [9.83345205e-01, 1.66547953e-02],\n",
       "       [4.88902703e-01, 5.11097297e-01],\n",
       "       [2.04424288e-01, 7.95575712e-01],\n",
       "       [4.49400293e-01, 5.50599707e-01],\n",
       "       [1.28542762e-02, 9.87145724e-01],\n",
       "       [7.90652388e-01, 2.09347612e-01],\n",
       "       [9.96352297e-01, 3.64770290e-03],\n",
       "       [9.88688366e-01, 1.13116336e-02],\n",
       "       [3.24087021e-03, 9.96759130e-01],\n",
       "       [1.19084424e-01, 8.80915576e-01],\n",
       "       [7.21635746e-02, 9.27836425e-01],\n",
       "       [1.78611280e-02, 9.82138872e-01],\n",
       "       [2.96506341e-03, 9.97034937e-01],\n",
       "       [4.52343054e-02, 9.54765695e-01],\n",
       "       [8.84051967e-01, 1.15948033e-01],\n",
       "       [3.46041513e-02, 9.65395849e-01],\n",
       "       [9.89270878e-01, 1.07291215e-02],\n",
       "       [1.44719682e-01, 8.55280318e-01]])"
      ]
     },
     "execution_count": 82,
     "metadata": {},
     "output_type": "execute_result"
    }
   ],
   "source": [
    "lr.predict_proba(X)"
   ]
  },
  {
   "cell_type": "code",
   "execution_count": 89,
   "metadata": {},
   "outputs": [],
   "source": []
  },
  {
   "cell_type": "code",
   "execution_count": 96,
   "metadata": {},
   "outputs": [
    {
     "data": {
      "text/plain": [
       "array([1, 1, 1, 0, 0, 0, 1, 0, 1, 0, 1, 1, 1, 0, 0, 1, 0, 1, 1, 0, 0, 1,\n",
       "       0, 0, 1, 0, 0, 1, 0, 1, 1, 0, 1, 0, 1, 1, 1, 1, 1, 0, 0, 1, 0, 1,\n",
       "       1, 0, 0, 1, 1, 1, 1, 0, 1, 1, 1, 1, 1, 1, 0, 1, 0, 1, 1, 0, 0, 0,\n",
       "       1, 1, 0, 0, 0, 0, 1, 0, 1, 0, 0, 1, 0, 1, 0, 1, 0, 1, 0, 1, 1, 1,\n",
       "       1, 1, 1, 1, 1, 1, 0, 0, 0, 1, 0, 1, 0, 1, 1, 0, 1, 1, 0, 1, 0, 1,\n",
       "       1, 0, 0, 1, 0, 1, 0, 0, 0, 0, 0, 1, 0, 1, 1, 1, 0, 1, 0, 0, 1, 0,\n",
       "       0, 1, 0, 0, 1, 0, 1, 0, 0, 1, 1, 1, 0, 1, 0, 1, 0, 1, 1, 0, 1, 1,\n",
       "       1, 0, 0, 0, 1, 1, 1, 0, 0, 1, 1, 1, 1, 0, 1, 0, 0, 1, 0, 0, 1, 1,\n",
       "       0, 0, 1, 0, 0, 0, 1, 0, 0, 0, 1, 0, 1, 1, 0, 0, 0, 1, 1, 1, 1, 0,\n",
       "       1, 1, 1, 0, 0, 1, 0, 1, 1, 1, 0, 1, 0, 0, 1, 1, 1, 1, 1, 1, 1, 1,\n",
       "       1, 0, 1, 0, 0, 1, 1, 1, 1, 0, 0, 0, 1, 1, 1, 1, 1, 1, 0, 1, 0, 1])"
      ]
     },
     "execution_count": 96,
     "metadata": {},
     "output_type": "execute_result"
    }
   ],
   "source": [
    "lr.predict(X)"
   ]
  },
  {
   "cell_type": "code",
   "execution_count": 104,
   "metadata": {},
   "outputs": [
    {
     "name": "stdout",
     "output_type": "stream",
     "text": [
      "0.5303030303030303 0.03636363636363636\n"
     ]
    }
   ],
   "source": [
    "## set threshold to a number\n",
    "threshold =0.9\n",
    "predicts = []\n",
    "for item in lr.predict_proba(X):\n",
    "    if item[1] <= threshold:\n",
    "        predicts.append(0)\n",
    "    else:\n",
    "        predicts.append(1)\n",
    "\n",
    "conf_matrix = pd.DataFrame(confusion_matrix(y_train, predicts),\n",
    "                           index = ['actual 0', 'actual 1'], \n",
    "                           columns = ['predicted 0', 'predicted 1'])\n",
    "conf_matrix\n",
    "\n",
    "fpr = FPR(confusion_matrix(y_train, predicts))\n",
    "\n",
    "tpr = TPR(confusion_matrix(y_train, predicts))\n",
    "\n",
    "print(tpr, fpr)"
   ]
  },
  {
   "cell_type": "code",
   "execution_count": 91,
   "metadata": {},
   "outputs": [
    {
     "data": {
      "text/plain": [
       "0.34545454545454546"
      ]
     },
     "execution_count": 91,
     "metadata": {},
     "output_type": "execute_result"
    }
   ],
   "source": []
  },
  {
   "cell_type": "code",
   "execution_count": 87,
   "metadata": {},
   "outputs": [
    {
     "data": {
      "text/plain": [
       "[<matplotlib.lines.Line2D at 0x1a21a43e48>]"
      ]
     },
     "execution_count": 87,
     "metadata": {},
     "output_type": "execute_result"
    },
    {
     "data": {
      "image/png": "[encoded data removed]",
      "text/plain": [
       "<Figure size 432x288 with 1 Axes>"
      ]
     },
     "metadata": {
      "needs_background": "light"
     },
     "output_type": "display_data"
    }
   ],
   "source": [
    "def FPR(confusion_matrix):\n",
    "    TN = confusion_matrix[0,0]\n",
    "    TP = confusion_matrix[1,1]\n",
    "    FP = confusion_matrix[0,1]\n",
    "    FN = confusion_matrix[1,0]\n",
    "    return FP/(FP + TN)\n",
    "\n",
    "def TPR(confusion_matrix):\n",
    "    TN = confusion_matrix[0,0]\n",
    "    TP = confusion_matrix[1,1]\n",
    "    FP = confusion_matrix[0,1]\n",
    "    FN = confusion_matrix[1,0]\n",
    "    return TP/(TP + FN)\n",
    "fprs = []\n",
    "tprs = []\n",
    "for threshold in np.linspace(0,1,100):\n",
    "    predicts = []\n",
    "    for item in lr.predict_proba(X):\n",
    "        if item[1] <= threshold:\n",
    "            predicts.append(0)\n",
    "        else:\n",
    "            predicts.append(1)\n",
    "    c = confusion_matrix(y_train, predicts)\n",
    "    fprs.append(FPR(c))\n",
    "    tprs.append(TPR(c))\n",
    "    \n",
    "plt.plot(fprs[1:], tprs[1:])"
   ]
  },
  {
   "cell_type": "markdown",
   "metadata": {},
   "source": [
    "### The AUC / ROC curve (Area Under Curve of the Receiver Operating Characteristic)"
   ]
  },
  {
   "cell_type": "markdown",
   "metadata": {},
   "source": [
    "<img src='images/pop-curve.png' width=500/>\n"
   ]
  },
  {
   "cell_type": "code",
   "execution_count": 105,
   "metadata": {},
   "outputs": [],
   "source": [
    "results_df = X_train.copy()"
   ]
  },
  {
   "cell_type": "code",
   "execution_count": 106,
   "metadata": {},
   "outputs": [],
   "source": [
    "results_df['probabilities'] = lr.predict_proba(X)[:, 0]\n",
    "results_df['target'] = y_train"
   ]
  },
  {
   "cell_type": "code",
   "execution_count": 107,
   "metadata": {},
   "outputs": [
    {
     "data": {
      "text/html": [
       "<div>\n",
       "<style scoped>\n",
       "    .dataframe tbody tr th:only-of-type {\n",
       "        vertical-align: middle;\n",
       "    }\n",
       "\n",
       "    .dataframe tbody tr th {\n",
       "        vertical-align: top;\n",
       "    }\n",
       "\n",
       "    .dataframe thead th {\n",
       "        text-align: right;\n",
       "    }\n",
       "</style>\n",
       "<table border=\"1\" class=\"dataframe\">\n",
       "  <thead>\n",
       "    <tr style=\"text-align: right;\">\n",
       "      <th></th>\n",
       "      <th>age</th>\n",
       "      <th>sex</th>\n",
       "      <th>cp</th>\n",
       "      <th>trestbps</th>\n",
       "      <th>chol</th>\n",
       "      <th>fbs</th>\n",
       "      <th>restecg</th>\n",
       "      <th>thalach</th>\n",
       "      <th>exang</th>\n",
       "      <th>oldpeak</th>\n",
       "      <th>slope</th>\n",
       "      <th>ca</th>\n",
       "      <th>thal</th>\n",
       "      <th>probabilities</th>\n",
       "      <th>target</th>\n",
       "    </tr>\n",
       "  </thead>\n",
       "  <tbody>\n",
       "    <tr>\n",
       "      <th>121</th>\n",
       "      <td>59</td>\n",
       "      <td>1</td>\n",
       "      <td>0</td>\n",
       "      <td>138</td>\n",
       "      <td>271</td>\n",
       "      <td>0</td>\n",
       "      <td>0</td>\n",
       "      <td>182</td>\n",
       "      <td>0</td>\n",
       "      <td>0.0</td>\n",
       "      <td>2</td>\n",
       "      <td>0</td>\n",
       "      <td>2</td>\n",
       "      <td>0.195763</td>\n",
       "      <td>1</td>\n",
       "    </tr>\n",
       "    <tr>\n",
       "      <th>153</th>\n",
       "      <td>66</td>\n",
       "      <td>0</td>\n",
       "      <td>2</td>\n",
       "      <td>146</td>\n",
       "      <td>278</td>\n",
       "      <td>0</td>\n",
       "      <td>0</td>\n",
       "      <td>152</td>\n",
       "      <td>0</td>\n",
       "      <td>0.0</td>\n",
       "      <td>1</td>\n",
       "      <td>1</td>\n",
       "      <td>2</td>\n",
       "      <td>0.271978</td>\n",
       "      <td>1</td>\n",
       "    </tr>\n",
       "  </tbody>\n",
       "</table>\n",
       "</div>"
      ],
      "text/plain": [
       "     age  sex  cp  trestbps  chol  fbs  restecg  thalach  exang  oldpeak  \\\n",
       "121   59    1   0       138   271    0        0      182      0      0.0   \n",
       "153   66    0   2       146   278    0        0      152      0      0.0   \n",
       "\n",
       "     slope  ca  thal  probabilities  target  \n",
       "121      2   0     2       0.195763       1  \n",
       "153      1   1     2       0.271978       1  "
      ]
     },
     "execution_count": 107,
     "metadata": {},
     "output_type": "execute_result"
    }
   ],
   "source": [
    "results_df.head(2)"
   ]
  },
  {
   "cell_type": "code",
   "execution_count": 108,
   "metadata": {},
   "outputs": [],
   "source": [
    "import seaborn as sns"
   ]
  },
  {
   "cell_type": "code",
   "execution_count": 109,
   "metadata": {},
   "outputs": [
    {
     "data": {
      "image/png": "[encoded data removed]",
      "text/plain": [
       "<Figure size 432x288 with 1 Axes>"
      ]
     },
     "metadata": {
      "needs_background": "light"
     },
     "output_type": "display_data"
    }
   ],
   "source": [
    "sns.distplot(results_df[results_df.target == 1].probabilities)\n",
    "sns.distplot(results_df[results_df.target == 0].probabilities)\n",
    "plt.axvline(x = 0.2, linestyle = '--', c = 'black')\n",
    "plt.xlim([0,1])\n",
    "plt.show()"
   ]
  },
  {
   "cell_type": "code",
   "execution_count": 110,
   "metadata": {},
   "outputs": [],
   "source": [
    "import matplotlib.pyplot as plt"
   ]
  },
  {
   "cell_type": "code",
   "execution_count": 117,
   "metadata": {},
   "outputs": [
    {
     "data": {
      "image/png": "[encoded data removed]",
      "text/plain": [
       "<Figure size 720x576 with 1 Axes>"
      ]
     },
     "metadata": {
      "needs_background": "light"
     },
     "output_type": "display_data"
    }
   ],
   "source": [
    "x_list = []\n",
    "y_list = []\n",
    "\n",
    "for x in np.linspace(0, 1, 100):\n",
    "    \n",
    "    # Same predictions based on predict_proba thresholds\n",
    "    predicts = []\n",
    "    \n",
    "    for item in lr.predict_proba(X):\n",
    "        if item[0] <= x:\n",
    "            predicts.append(1)\n",
    "        else:\n",
    "            predicts.append(0)\n",
    "\n",
    "    conf_matrix = pd.DataFrame(confusion_matrix(y_train, predicts), index = ['actual 0', 'actual 1'], \n",
    "                     columns = ['predicted 0', 'predicted 1'])\n",
    "    \n",
    "    \n",
    "    # Assign TP, TN, FP, FN\n",
    "    true_positives = conf_matrix['predicted 1'][1]\n",
    "    true_negatives = conf_matrix['predicted 0'][0]\n",
    "    false_positives = conf_matrix['predicted 1'][0]\n",
    "    false_negatives = conf_matrix['predicted 0'][1]\n",
    "\n",
    "    \n",
    "    # Calculate Sensitivity and Specificity\n",
    "    sensitivity = true_positives / (true_positives + false_negatives)\n",
    "\n",
    "    specificity = true_negatives / (true_negatives + false_positives)\n",
    "    \n",
    "    \n",
    "    # Append to lists to graph\n",
    "    x_list.append(1 - specificity)\n",
    "\n",
    "    y_list.append(sensitivity)\n",
    "\n",
    "    \n",
    "# Plot ROC curve\n",
    "\n",
    "plt.figure(figsize = (10, 8))\n",
    "plt.title('ROC Curve', fontsize = 20)\n",
    "plt.xlabel('FP_rate', fontsize = 15)\n",
    "plt.ylabel('TP_rate', fontsize = 15)\n",
    "plt.xlim(-0.01, 1)\n",
    "plt.ylim(-0.01, 1)\n",
    "plt.plot(x_list, y_list);\n",
    "plt.plot([0, 1], [0, 1]);\n",
    "\n",
    "# x = 1 - specificity\n",
    "# y = sensitivity"
   ]
  },
  {
   "cell_type": "code",
   "execution_count": 116,
   "metadata": {},
   "outputs": [],
   "source": [
    "lr = cv_l1['estimator'][0]"
   ]
  },
  {
   "cell_type": "code",
   "execution_count": 113,
   "metadata": {},
   "outputs": [],
   "source": [
    "from sklearn.metrics import auc"
   ]
  },
  {
   "cell_type": "code",
   "execution_count": 118,
   "metadata": {},
   "outputs": [
    {
     "data": {
      "text/plain": [
       "0.9480716253443527"
      ]
     },
     "execution_count": 118,
     "metadata": {},
     "output_type": "execute_result"
    }
   ],
   "source": [
    "auc(x_list, y_list)"
   ]
  },
  {
   "cell_type": "code",
   "execution_count": 114,
   "metadata": {},
   "outputs": [
    {
     "data": {
      "text/plain": [
       "0.9328512396694215"
      ]
     },
     "execution_count": 114,
     "metadata": {},
     "output_type": "execute_result"
    }
   ],
   "source": [
    "auc(x_list, y_list)"
   ]
  },
  {
   "cell_type": "markdown",
   "metadata": {},
   "source": [
    "# Play Ground"
   ]
  },
  {
   "cell_type": "markdown",
   "metadata": {},
   "source": [
    "### Let's add associated costs to our False Negatives and False Positives to our loop and minimize the cost\n",
    "This is the naive way to optimize, but works well - you could also create a closed form optimization function"
   ]
  },
  {
   "cell_type": "code",
   "execution_count": 76,
   "metadata": {},
   "outputs": [],
   "source": [
    "def my_eyes_cost_much(num_thres = 100, p_fp = 3, p_tn = 0.5, p_tp = 1, p_fn = 2):\n",
    "\n",
    "    _thres = []; tpr = [] ; fpr = [] ; cost = []\n",
    "\n",
    "    prediction = lr.predict_proba(X)\n",
    "\n",
    "    ## Different code for same objective to calculate metrics at thresholds\n",
    "    \n",
    "    for thres in np.linspace(0.01, 1, num_thres):\n",
    "        \n",
    "        _thres.append(thres)\n",
    "        predicts = np.zeros((prediction.shape[0], 1)) \n",
    "        predicts[np.where(prediction[:, 1] >= thres)] = 1\n",
    "\n",
    "        conf_matrix = confusion_matrix(y_train, predicts)\n",
    "\n",
    "        tp = conf_matrix[1, 1]\n",
    "        tn = conf_matrix[0, 0]\n",
    "        fp = conf_matrix[0, 1]\n",
    "        fn = conf_matrix[1, 0]\n",
    "\n",
    "        sensitivity = tp / (tp + fn)\n",
    "        tnr = specificity = tn / (tn + fp)\n",
    "        fnr = 1 - sensitivity\n",
    "\n",
    "        tpr.append(sensitivity)\n",
    "    \n",
    "        fpr.append(1 - specificity)\n",
    "        \n",
    "        # add a cost function (this involves domain knowledge)\n",
    "        \n",
    "        current_cost = (p_fp * fp) + (p_tn * tn) + (p_tp * tp) + (p_fn * fn)\n",
    "            \n",
    "        cost.append(current_cost)  \n",
    "\n",
    "    return fpr, tpr, cost, _thres"
   ]
  },
  {
   "cell_type": "code",
   "execution_count": 77,
   "metadata": {},
   "outputs": [],
   "source": [
    "fpr, tpr, cost, thres = my_eyes_cost_much(num_thres = 100, p_fp = 3, p_tn = 0.5, p_tp = 1, p_fn = 2)"
   ]
  },
  {
   "cell_type": "code",
   "execution_count": 78,
   "metadata": {},
   "outputs": [
    {
     "name": "stdout",
     "output_type": "stream",
     "text": [
      "(0.09090909090909094, 0.8560606060606061, 0.5800000000000001)\n"
     ]
    }
   ],
   "source": [
    "cost_idx = np.argmin(cost)\n",
    "min_cost_threshold = fpr[cost_idx], tpr[cost_idx], thres[cost_idx]\n",
    "\n",
    "print(min_cost_threshold)"
   ]
  },
  {
   "cell_type": "code",
   "execution_count": 79,
   "metadata": {},
   "outputs": [
    {
     "data": {
      "text/plain": [
       "Text(0.15090909090909094, 0.826060606060606, 'Threshold:0.58')"
      ]
     },
     "execution_count": 79,
     "metadata": {},
     "output_type": "execute_result"
    },
    {
     "data": {
      "image/png": "[encoded data removed]",
      "text/plain": [
       "<Figure size 720x576 with 1 Axes>"
      ]
     },
     "metadata": {
      "needs_background": "light"
     },
     "output_type": "display_data"
    }
   ],
   "source": [
    "ax = plt.figure(figsize = (10, 8))\n",
    "plt.title('ROC Curve', fontsize = 20)\n",
    "plt.xlabel('FP_rate (1 - specificity)', fontsize = 15)\n",
    "plt.ylabel('TP_rate (sensitivity)', fontsize = 15)\n",
    "plt.xlim(-.01, 1.01)\n",
    "plt.ylim(-.01, 1.01)\n",
    "plt.plot(fpr, tpr);\n",
    "plt.plot([0, 1], [0, 1]);\n",
    "plt.scatter(min_cost_threshold[0], min_cost_threshold[1], marker ='o', color = 'red', s=250)\n",
    "ax.text(min_cost_threshold[0] + 0.06, min_cost_threshold[1] - 0.03, 'Threshold:'+ str(round(min_cost_threshold[2], 2)))\n"
   ]
  },
  {
   "cell_type": "markdown",
   "metadata": {},
   "source": [
    "## Extra Resources\n",
    "\n",
    "- [Visualization of harmonic means for F1-scores](https://medium.com/swlh/visualizing-the-geometric-and-harmonic-means-e8b9c5a818ae)"
   ]
  },
  {
   "cell_type": "code",
   "execution_count": null,
   "metadata": {},
   "outputs": [],
   "source": []
  }
 ],
 "metadata": {
  "kernelspec": {
   "display_name": "Python 3",
   "language": "python",
   "name": "python3"
  },
  "language_info": {
   "codemirror_mode": {
    "name": "ipython",
    "version": 3
   },
   "file_extension": ".py",
   "mimetype": "text/x-python",
   "name": "python",
   "nbconvert_exporter": "python",
   "pygments_lexer": "ipython3",
   "version": "3.7.3"
  },
  "toc": {
   "base_numbering": 1,
   "nav_menu": {},
   "number_sections": true,
   "sideBar": true,
   "skip_h1_title": false,
   "title_cell": "Table of Contents",
   "title_sidebar": "Contents",
   "toc_cell": false,
   "toc_position": {},
   "toc_section_display": true,
   "toc_window_display": false
  }
 },
 "nbformat": 4,
 "nbformat_minor": 2
}
