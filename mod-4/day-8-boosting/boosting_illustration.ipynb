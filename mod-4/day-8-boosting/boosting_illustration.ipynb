{
 "cells": [
  {
   "cell_type": "markdown",
   "metadata": {},
   "source": [
    "# An Illustration of Gradient Boosting"
   ]
  },
  {
   "cell_type": "code",
   "execution_count": 102,
   "metadata": {},
   "outputs": [],
   "source": [
    "import pandas as pd\n",
    "import numpy as np\n",
    "import matplotlib.pyplot as plt\n",
    "from sklearn.tree import DecisionTreeRegressor\n",
    "from sklearn.tree import export_graphviz\n",
    "import pydotplus\n",
    "from sklearn.externals.six import StringIO\n",
    "from IPython.display import Image\n",
    "%matplotlib inline"
   ]
  },
  {
   "cell_type": "code",
   "execution_count": 104,
   "metadata": {
    "scrolled": true
   },
   "outputs": [],
   "source": [
    "X = np.linspace(0, 20, 201)\n",
    "y = np.sin(X)\n",
    "plt.plot(X, y);"
   ]
  },
  {
   "cell_type": "markdown",
   "metadata": {},
   "source": [
    "### Step 1 \n",
    "\n",
    "Here, all we are doing is using an average of our values as a model of our data. Note that the \"actual function\" of our data is a sine curve. We are going to try to approximate that by way of gradient boosting and a decision tree regressor!"
   ]
  },
  {
   "cell_type": "code",
   "execution_count": 106,
   "metadata": {
    "scrolled": true
   },
   "outputs": [],
   "source": [
    "plt.plot(X, y)\n",
    "f0 = y.mean()\n",
    "plt.hlines(f0, 0, 20);"
   ]
  },
  {
   "cell_type": "markdown",
   "metadata": {},
   "source": [
    "##### OK, so we have our extremely basic, extremely inaccurate model. Let's go ahead and build off of that."
   ]
  },
  {
   "cell_type": "code",
   "execution_count": 108,
   "metadata": {},
   "outputs": [],
   "source": [
    "# Residuals\n",
    "\n",
    "e0 = y - f0\n",
    "e0"
   ]
  },
  {
   "cell_type": "code",
   "execution_count": 72,
   "metadata": {
    "scrolled": true
   },
   "outputs": [],
   "source": [
    "## Plotting residuals\n",
    "\n",
    "plt.scatter(X, e0);"
   ]
  },
  {
   "cell_type": "markdown",
   "metadata": {},
   "source": [
    "### Step 2: fitting a \"stump\" to the residuals"
   ]
  },
  {
   "cell_type": "code",
   "execution_count": 110,
   "metadata": {
    "scrolled": false
   },
   "outputs": [],
   "source": [
    "data = X.reshape(-1, 1)\n",
    "f1 = DecisionTreeRegressor(max_depth=1)\n",
    "\n",
    "f1.fit(data, e0)\n",
    "ensemble_preds_1 = f1.predict(data) + f0\n",
    "\n",
    "plt.scatter(X, y)\n",
    "plt.scatter(X, ensemble_preds_1);"
   ]
  },
  {
   "cell_type": "code",
   "execution_count": 74,
   "metadata": {
    "scrolled": true
   },
   "outputs": [],
   "source": [
    "dot_file = StringIO()\n",
    "\n",
    "export_graphviz(f1, out_file=dot_file, filled=True,\n",
    "               rounded=True)\n",
    "\n",
    "image=pydotplus.graph_from_dot_data(dot_file.getvalue())\n",
    "Image(image.create_png())"
   ]
  },
  {
   "cell_type": "code",
   "execution_count": 75,
   "metadata": {},
   "outputs": [],
   "source": [
    "e0[:29].mean()"
   ]
  },
  {
   "cell_type": "code",
   "execution_count": 76,
   "metadata": {},
   "outputs": [],
   "source": [
    "e0[29:].mean()"
   ]
  },
  {
   "cell_type": "code",
   "execution_count": 77,
   "metadata": {
    "scrolled": true
   },
   "outputs": [],
   "source": [
    "f1.predict(data)"
   ]
  },
  {
   "cell_type": "markdown",
   "metadata": {},
   "source": [
    "### Step 3: fitting another \"stump\" to the residuals of the previous model"
   ]
  },
  {
   "cell_type": "code",
   "execution_count": 33,
   "metadata": {},
   "outputs": [],
   "source": [
    "e1 = np.sin(X) - (f0 + f1.predict(data))"
   ]
  },
  {
   "cell_type": "code",
   "execution_count": 78,
   "metadata": {},
   "outputs": [],
   "source": [
    "f2 = DecisionTreeRegressor(max_depth=1)\n",
    "f2.fit(data, e1)\n",
    "ensemble_preds_2 = f1.predict(data) + f2.predict(data) + f0\n",
    "plt.scatter(X, e1)\n",
    "plt.scatter(X, ensemble_preds_2)\n",
    "plt.title('fitting to residuals (y - (f0(x) + f1(x)))');"
   ]
  },
  {
   "cell_type": "code",
   "execution_count": 79,
   "metadata": {},
   "outputs": [],
   "source": [
    "plt.plot(X, y)\n",
    "plt.plot(X, ensemble_preds_2)\n",
    "plt.title('Model v. our data');"
   ]
  },
  {
   "cell_type": "markdown",
   "metadata": {},
   "source": [
    "### Fitting yet another \"stump\""
   ]
  },
  {
   "cell_type": "code",
   "execution_count": 80,
   "metadata": {},
   "outputs": [],
   "source": [
    "e2 = np.sin(X) - (f2.predict(data) + f1.predict(data) + f0)\n",
    "f3 = DecisionTreeRegressor(max_depth=1)\n",
    "f3.fit(data, e2)\n",
    "plt.scatter(X, e2)\n",
    "ensemble_preds_3 = f3.predict(data) + f2.predict(data) + f1.predict(data) + f0\n",
    "plt.scatter(X, ensemble_preds_3)\n",
    "plt.title('fitting to residuals (y - (f0(x) + f1(x) + f2(x)))');"
   ]
  },
  {
   "cell_type": "code",
   "execution_count": 81,
   "metadata": {
    "scrolled": true
   },
   "outputs": [],
   "source": [
    "plt.plot(X, np.sin(X))\n",
    "plt.plot(X, ensemble_preds_3)\n",
    "plt.title('Model v. our data');"
   ]
  },
  {
   "cell_type": "markdown",
   "metadata": {},
   "source": [
    "### Another one"
   ]
  },
  {
   "cell_type": "code",
   "execution_count": 82,
   "metadata": {},
   "outputs": [],
   "source": [
    "e3 = np.sin(X) - (f3.predict(data) + f2.predict(data) + f1.predict(data) + f0)\n",
    "f4 = DecisionTreeRegressor(max_depth=1)\n",
    "f4.fit(data, e3)\n",
    "plt.scatter(X, e3)\n",
    "ensemble_preds_4 = f4.predict(data) + f3.predict(data) + f2.predict(data) + f1.predict(data) + f0\n",
    "plt.scatter(X, ensemble_preds_4);"
   ]
  },
  {
   "cell_type": "code",
   "execution_count": 83,
   "metadata": {
    "scrolled": true
   },
   "outputs": [],
   "source": [
    "plt.plot(X, np.sin(X))\n",
    "plt.plot(X, ensemble_preds_4)\n",
    "plt.title('Model v. our data');"
   ]
  },
  {
   "cell_type": "markdown",
   "metadata": {},
   "source": [
    "### and another"
   ]
  },
  {
   "cell_type": "code",
   "execution_count": 84,
   "metadata": {},
   "outputs": [],
   "source": [
    "e4 = np.sin(X) - (f4.predict(data) + f3.predict(data) + f2.predict(data) + f1.predict(data) + f0)\n",
    "f5 = DecisionTreeRegressor(max_depth=1)\n",
    "f5.fit(data, e4)\n",
    "plt.scatter(X, e4)\n",
    "ensemble_preds_5 = f5.predict(data) + f4.predict(data) + f3.predict(data) + f2.predict(data) + f1.predict(data) + f0\n",
    "plt.scatter(X, ensemble_preds_5);"
   ]
  },
  {
   "cell_type": "code",
   "execution_count": 85,
   "metadata": {},
   "outputs": [],
   "source": [
    "plt.plot(X, np.sin(X))\n",
    "plt.plot(X, ensemble_preds_5)\n",
    "plt.title('Model v. our data');"
   ]
  },
  {
   "cell_type": "markdown",
   "metadata": {},
   "source": [
    "### Let's make a function already!"
   ]
  },
  {
   "cell_type": "code",
   "execution_count": 53,
   "metadata": {},
   "outputs": [],
   "source": [
    "def simple_boosting_algorithm(X, y, n_learners, learner, learning_rate, show_each_step=True):\n",
    "    \"\"\"Performs a simple ensemble boosting model \n",
    "    params: show_each_step - if True, will show with each additional learner\"\"\"\n",
    "    f0 = y.mean()\n",
    "    residuals = y - f0\n",
    "    ensemble_predictions = np.full(len(y), fill_value=f0)\n",
    "    plt.figure(figsize=(20, 10))\n",
    "    for i in range(n_learners):\n",
    "        residuals = y - ensemble_predictions\n",
    "        f = learner.fit(X.reshape(-1,1), residuals)\n",
    "        ensemble_predictions = learning_rate * f.predict(X.reshape(-1, 1)) + ensemble_predictions\n",
    "        if show_each_step:\n",
    "            plt.plot(X, y)\n",
    "            plt.plot(X, ensemble_predictions)\n",
    "            \n",
    "    plt.plot(X, y)\n",
    "    plt.plot(X, ensemble_predictions)\n",
    "            \n",
    "    plt.title('With ' + str(n_learners) + ' learners with a depth of '+ str(learner.max_depth) +\\\n",
    "              ' and a learning rate of '+ str(learning_rate))\n",
    "    \n",
    "   "
   ]
  },
  {
   "cell_type": "code",
   "execution_count": 86,
   "metadata": {
    "scrolled": true
   },
   "outputs": [],
   "source": [
    "simple_boosting_algorithm(X, y, 1, DecisionTreeRegressor(max_depth=1), 0.001, False)"
   ]
  },
  {
   "cell_type": "code",
   "execution_count": 87,
   "metadata": {},
   "outputs": [],
   "source": [
    "simple_boosting_algorithm(X, y, 100, DecisionTreeRegressor(max_depth=1), 0.01, False)"
   ]
  },
  {
   "cell_type": "code",
   "execution_count": 88,
   "metadata": {},
   "outputs": [],
   "source": [
    "simple_boosting_algorithm(X, y, 10000, DecisionTreeRegressor(max_depth=1), 0.001, False)"
   ]
  },
  {
   "cell_type": "code",
   "execution_count": 89,
   "metadata": {},
   "outputs": [],
   "source": [
    "simple_boosting_algorithm(X, y, 100000, DecisionTreeRegressor(max_depth=1), 0.01, False)"
   ]
  },
  {
   "cell_type": "code",
   "execution_count": 63,
   "metadata": {
    "scrolled": true
   },
   "outputs": [],
   "source": [
    "# This takes a while!\n",
    "simple_boosting_algorithm(X, y, 10000, DecisionTreeRegressor(max_depth=1), 0.01)"
   ]
  },
  {
   "cell_type": "code",
   "execution_count": 90,
   "metadata": {},
   "outputs": [],
   "source": [
    "simple_boosting_algorithm(X, y, 20, DecisionTreeRegressor(max_depth=1), 0.1)"
   ]
  },
  {
   "cell_type": "code",
   "execution_count": 91,
   "metadata": {},
   "outputs": [],
   "source": [
    "simple_boosting_algorithm(X, y, 60, DecisionTreeRegressor(max_depth=1), 0.1)"
   ]
  },
  {
   "cell_type": "code",
   "execution_count": 92,
   "metadata": {},
   "outputs": [],
   "source": [
    "simple_boosting_algorithm(X, y, 80, DecisionTreeRegressor(max_depth=1), 0.1)"
   ]
  },
  {
   "cell_type": "code",
   "execution_count": 93,
   "metadata": {},
   "outputs": [],
   "source": [
    "simple_boosting_algorithm(X, y, 200, DecisionTreeRegressor(max_depth=1), 0.1)"
   ]
  },
  {
   "cell_type": "code",
   "execution_count": null,
   "metadata": {},
   "outputs": [],
   "source": []
  }
 ],
 "metadata": {
  "kernelspec": {
   "display_name": "Python 3",
   "language": "python",
   "name": "python3"
  },
  "language_info": {
   "codemirror_mode": {
    "name": "ipython",
    "version": 3
   },
   "file_extension": ".py",
   "mimetype": "text/x-python",
   "name": "python",
   "nbconvert_exporter": "python",
   "pygments_lexer": "ipython3",
   "version": "3.7.2"
  }
 },
 "nbformat": 4,
 "nbformat_minor": 2
}
