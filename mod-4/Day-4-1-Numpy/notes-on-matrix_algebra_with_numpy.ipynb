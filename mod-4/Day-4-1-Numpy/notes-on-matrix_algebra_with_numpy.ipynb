{
 "cells": [
  {
   "cell_type": "code",
<<<<<<< HEAD:mod-4/Day-4-1-Numpy/notes-on-matrix_algebra_with_numpy.ipynb
   "execution_count": 1,
=======
   "execution_count": 9,
   "metadata": {},
   "outputs": [],
   "source": [
    "import math\n",
    "\n",
    "import numpy as np"
   ]
  },
  {
   "cell_type": "code",
   "execution_count": 11,
>>>>>>> 8e312658547b150c5e3add416dd048a52cedcec2:mod-4/Day-4-1-Numpy/matrix_algebra_with_numpy.ipynb
   "metadata": {},
   "outputs": [],
   "source": [
    "from scipy.stats import stats"
   ]
  },
  {
   "cell_type": "code",
   "execution_count": 12,
   "metadata": {},
   "outputs": [],
   "source": [
    "sample = np.random.normal(loc = 0, scale = 1, size = 100)"
   ]
  },
  {
   "cell_type": "code",
   "execution_count": 13,
   "metadata": {},
   "outputs": [],
   "source": [
    "import seaborn as sns\n",
    "\n",
    "%matplotlib inline\n"
   ]
  },
  {
   "cell_type": "code",
   "execution_count": 14,
   "metadata": {},
   "outputs": [
    {
     "data": {
      "text/plain": [
       "<matplotlib.axes._subplots.AxesSubplot at 0x1817118240>"
      ]
     },
     "execution_count": 14,
     "metadata": {},
     "output_type": "execute_result"
    },
    {
     "data": {
      "image/png": "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\n",
      "text/plain": [
       "<Figure size 432x288 with 1 Axes>"
      ]
     },
     "metadata": {
      "needs_background": "light"
     },
     "output_type": "display_data"
    }
   ],
   "source": [
    "sns.distplot(sample)"
   ]
  },
  {
   "cell_type": "markdown",
   "metadata": {},
   "source": [
    "### Scalars, Vectors, Matrices and Tensors\n",
    "\n",
    "- __Scalars__ A scalar is just a single number. Ex: 1, $\\pi$, $\\frac{7}{22}$, $e$. In python integers and floats are scalars."
   ]
  },
  {
   "cell_type": "code",
<<<<<<< HEAD:mod-4/Day-4-1-Numpy/notes-on-matrix_algebra_with_numpy.ipynb
<<<<<<< HEAD:mod-4/Day-4-1-Numpy/notes-on-matrix_algebra_with_numpy.ipynb
   "execution_count": 2,
=======
   "execution_count": 4,
>>>>>>> 5cc7f8de9d1aa616111f5828d22f047f36fa4477:mod-4/Day-4-1-Numpy/matrix_algebra_with_numpy.ipynb
=======
   "execution_count": 3,
>>>>>>> 8e312658547b150c5e3add416dd048a52cedcec2:mod-4/Day-4-1-Numpy/matrix_algebra_with_numpy.ipynb
   "metadata": {},
   "outputs": [
    {
     "name": "stdout",
     "output_type": "stream",
     "text": [
      "3.5 2.718281828459045 <class 'float'> <class 'float'>\n"
     ]
    }
   ],
   "source": [
    "a = 3.5\n",
    "\n",
    "b = math.e\n",
    "\n",
    "print(a,b, type(a), type(b))"
   ]
  },
  {
   "cell_type": "code",
<<<<<<< HEAD:mod-4/Day-4-1-Numpy/notes-on-matrix_algebra_with_numpy.ipynb
<<<<<<< HEAD:mod-4/Day-4-1-Numpy/notes-on-matrix_algebra_with_numpy.ipynb
   "execution_count": 3,
=======
   "execution_count": 5,
>>>>>>> 5cc7f8de9d1aa616111f5828d22f047f36fa4477:mod-4/Day-4-1-Numpy/matrix_algebra_with_numpy.ipynb
=======
   "execution_count": 15,
>>>>>>> 8e312658547b150c5e3add416dd048a52cedcec2:mod-4/Day-4-1-Numpy/matrix_algebra_with_numpy.ipynb
   "metadata": {},
   "outputs": [
    {
     "ename": "AttributeError",
     "evalue": "'float' object has no attribute 'shape'",
     "output_type": "error",
     "traceback": [
<<<<<<< HEAD:mod-4/Day-4-1-Numpy/notes-on-matrix_algebra_with_numpy.ipynb
<<<<<<< HEAD:mod-4/Day-4-1-Numpy/notes-on-matrix_algebra_with_numpy.ipynb
      "\u001b[0;31m---------------------------------------------------------------------------\u001b[0m",
      "\u001b[0;31mAttributeError\u001b[0m                            Traceback (most recent call last)",
      "\u001b[0;32m<ipython-input-3-d74f1bcdd37c>\u001b[0m in \u001b[0;36m<module>\u001b[0;34m\u001b[0m\n\u001b[0;32m----> 1\u001b[0;31m \u001b[0ma\u001b[0m\u001b[0;34m.\u001b[0m\u001b[0mshape\u001b[0m\u001b[0;34m\u001b[0m\u001b[0;34m\u001b[0m\u001b[0m\n\u001b[0m",
=======
      "\u001b[0;31m--------------------------------------------------------------------\u001b[0m",
      "\u001b[0;31mAttributeError\u001b[0m                     Traceback (most recent call last)",
      "\u001b[0;32m<ipython-input-5-d74f1bcdd37c>\u001b[0m in \u001b[0;36m<module>\u001b[0;34m\u001b[0m\n\u001b[0;32m----> 1\u001b[0;31m \u001b[0ma\u001b[0m\u001b[0;34m.\u001b[0m\u001b[0mshape\u001b[0m\u001b[0;34m\u001b[0m\u001b[0;34m\u001b[0m\u001b[0m\n\u001b[0m",
>>>>>>> 5cc7f8de9d1aa616111f5828d22f047f36fa4477:mod-4/Day-4-1-Numpy/matrix_algebra_with_numpy.ipynb
=======
      "\u001b[0;31m---------------------------------------------------------------------------\u001b[0m",
      "\u001b[0;31mAttributeError\u001b[0m                            Traceback (most recent call last)",
      "\u001b[0;32m<ipython-input-15-d74f1bcdd37c>\u001b[0m in \u001b[0;36m<module>\u001b[0;34m\u001b[0m\n\u001b[0;32m----> 1\u001b[0;31m \u001b[0ma\u001b[0m\u001b[0;34m.\u001b[0m\u001b[0mshape\u001b[0m\u001b[0;34m\u001b[0m\u001b[0;34m\u001b[0m\u001b[0m\n\u001b[0m",
>>>>>>> 8e312658547b150c5e3add416dd048a52cedcec2:mod-4/Day-4-1-Numpy/matrix_algebra_with_numpy.ipynb
      "\u001b[0;31mAttributeError\u001b[0m: 'float' object has no attribute 'shape'"
     ]
    }
   ],
   "source": [
    "a.shape"
   ]
  },
  {
   "cell_type": "markdown",
   "metadata": {},
   "source": [
    "- __Vectors__: A vector is an array of numbers. In python we can consider numpy ndarray's as the representatives of the vectors. Possible notations for the vectors: bold letters $\\textbf{X}, \\textbf{x}$, with an arrow $\\vec{X}, \\vec{x}$ or just $V, v$ when it is clear from the context that these are vectors."
   ]
  },
  {
   "cell_type": "code",
<<<<<<< HEAD:mod-4/Day-4-1-Numpy/notes-on-matrix_algebra_with_numpy.ipynb
<<<<<<< HEAD:mod-4/Day-4-1-Numpy/notes-on-matrix_algebra_with_numpy.ipynb
   "execution_count": 4,
=======
   "execution_count": 8,
=======
   "execution_count": 16,
   "metadata": {},
   "outputs": [],
   "source": [
    "l = [1,2,3]\n",
    "\n"
   ]
  },
  {
   "cell_type": "code",
   "execution_count": 17,
   "metadata": {},
   "outputs": [],
   "source": [
    "joe = [8,6,7,5,3,0,9]\n",
    "\n",
    "joe_1D_vector = np.array(joe)"
   ]
  },
  {
   "cell_type": "code",
   "execution_count": 19,
>>>>>>> 8e312658547b150c5e3add416dd048a52cedcec2:mod-4/Day-4-1-Numpy/matrix_algebra_with_numpy.ipynb
   "metadata": {},
   "outputs": [
    {
     "data": {
      "text/plain": [
       "(7,)"
      ]
     },
     "execution_count": 19,
     "metadata": {},
     "output_type": "execute_result"
    }
   ],
   "source": [
    "joe_1D_vector.shape"
   ]
  },
  {
   "cell_type": "code",
<<<<<<< HEAD:mod-4/Day-4-1-Numpy/notes-on-matrix_algebra_with_numpy.ipynb
   "execution_count": 7,
>>>>>>> 5cc7f8de9d1aa616111f5828d22f047f36fa4477:mod-4/Day-4-1-Numpy/matrix_algebra_with_numpy.ipynb
=======
   "execution_count": 6,
>>>>>>> 8e312658547b150c5e3add416dd048a52cedcec2:mod-4/Day-4-1-Numpy/matrix_algebra_with_numpy.ipynb
   "metadata": {},
   "outputs": [
    {
     "name": "stdout",
     "output_type": "stream",
     "text": [
      "Type of x is ndarray:  <class 'numpy.ndarray'> \n",
      "x is a ndarray:  [11  2  5] \n",
      "numpy array has shape attribute: (3,)\n"
     ]
    }
   ],
   "source": [
    "import numpy as np\n",
    "\n",
    "x = np.array([11, 2, 5])\n",
    "\n",
    "\n",
    "## note the shape is just (3,)\n",
    "## we will see that this is different than (3,1)\n",
    "\n",
    "print(\"Type of x is ndarray: \", type(x), \"\\nx is a ndarray: \", x,\n",
    "      \"\\nnumpy array has shape attribute:\" , x.shape)"
   ]
  },
  {
   "cell_type": "code",
   "execution_count": 9,
   "metadata": {},
   "outputs": [
    {
     "name": "stdout",
     "output_type": "stream",
     "text": [
      "First index is: 11 \n",
      "The second index is: 2 \n",
      "the third index is: 5\n"
     ]
    }
   ],
   "source": [
    "## note that vectors has indices or coefficients:\n",
    "\n",
    "x_1 = x[0]\n",
    "\n",
    "x_2 = x[1]\n",
    "\n",
    "x_3 = x[2]\n",
    "\n",
    "print(\n",
    "\"\"\"First index is: {} \n",
    "The second index is: {} \n",
    "the third index is: {}\"\"\".format(x_1,x_2, x_3)\n",
    ")"
   ]
  },
  {
   "cell_type": "code",
   "execution_count": 7,
   "metadata": {},
   "outputs": [
    {
     "data": {
      "text/plain": [
       "8"
      ]
     },
     "execution_count": 7,
     "metadata": {},
     "output_type": "execute_result"
    }
   ],
   "source": [
    "l1 = [4,5,7,8,9]\n",
    "l1 = np.array(l1)\n",
    "type(l1)\n",
    "l1[3]"
   ]
  },
  {
   "cell_type": "markdown",
   "metadata": {},
   "source": [
    "Create a numpy array of 1D with your 5 fav numbers\n",
    "\n",
    "-  Access the fourth element"
   ]
  },
  {
   "cell_type": "markdown",
   "metadata": {},
   "source": [
    "- __Matrices__ A matrix is a 2D array of numbers: Again we will use ndarrays for matrices.\n"
   ]
  },
  {
   "cell_type": "code",
<<<<<<< HEAD:mod-4/Day-4-1-Numpy/notes-on-matrix_algebra_with_numpy.ipynb
<<<<<<< HEAD:mod-4/Day-4-1-Numpy/notes-on-matrix_algebra_with_numpy.ipynb
   "execution_count": 8,
=======
   "execution_count": 14,
>>>>>>> 5cc7f8de9d1aa616111f5828d22f047f36fa4477:mod-4/Day-4-1-Numpy/matrix_algebra_with_numpy.ipynb
=======
   "execution_count": 7,
>>>>>>> 8e312658547b150c5e3add416dd048a52cedcec2:mod-4/Day-4-1-Numpy/matrix_algebra_with_numpy.ipynb
   "metadata": {},
   "outputs": [
    {
     "name": "stdout",
     "output_type": "stream",
     "text": [
      "\n",
      "A is a matrix: \n",
      "[[ 1  2  3]\n",
      " [11  5  7]\n",
      " [13 17 19]\n",
      " [ 1  0  2]]\n",
      "The shape of A is:\n",
      "(4, 3)\n",
      "The type of A is: \n",
      "<class 'numpy.ndarray'>\n",
      "\n"
     ]
    }
   ],
   "source": [
    "A = np.array([[1,2,3], [11,5,7], [13,17,19], [1,0,2]])\n",
    "print(\n",
    "\"\"\"\n",
    "A is a matrix: \n",
    "{}\n",
    "The shape of A is:\n",
    "{}\n",
    "The type of A is: \n",
    "{}\n",
    "\"\"\".format(A, A.shape, type(A)))\n",
    "    "
   ]
  },
  {
   "cell_type": "code",
<<<<<<< HEAD:mod-4/Day-4-1-Numpy/notes-on-matrix_algebra_with_numpy.ipynb
<<<<<<< HEAD:mod-4/Day-4-1-Numpy/notes-on-matrix_algebra_with_numpy.ipynb
   "execution_count": 9,
=======
   "execution_count": 19,
>>>>>>> 5cc7f8de9d1aa616111f5828d22f047f36fa4477:mod-4/Day-4-1-Numpy/matrix_algebra_with_numpy.ipynb
=======
   "execution_count": 26,
>>>>>>> 8e312658547b150c5e3add416dd048a52cedcec2:mod-4/Day-4-1-Numpy/matrix_algebra_with_numpy.ipynb
   "metadata": {},
   "outputs": [
    {
     "data": {
      "text/plain": [
       "array([ 2,  5, 17,  0])"
      ]
     },
<<<<<<< HEAD:mod-4/Day-4-1-Numpy/notes-on-matrix_algebra_with_numpy.ipynb
<<<<<<< HEAD:mod-4/Day-4-1-Numpy/notes-on-matrix_algebra_with_numpy.ipynb
     "execution_count": 9,
=======
     "execution_count": 19,
>>>>>>> 5cc7f8de9d1aa616111f5828d22f047f36fa4477:mod-4/Day-4-1-Numpy/matrix_algebra_with_numpy.ipynb
=======
     "execution_count": 26,
>>>>>>> 8e312658547b150c5e3add416dd048a52cedcec2:mod-4/Day-4-1-Numpy/matrix_algebra_with_numpy.ipynb
     "metadata": {},
     "output_type": "execute_result"
    }
   ],
   "source": [
    "A[:, 1]"
   ]
  },
  {
   "cell_type": "code",
   "execution_count": 22,
   "metadata": {},
   "outputs": [
    {
     "data": {
      "text/plain": [
       "array([11,  5,  7])"
      ]
     },
     "execution_count": 22,
     "metadata": {},
     "output_type": "execute_result"
    }
   ],
   "source": [
    "A[1]"
   ]
  },
  {
   "cell_type": "code",
   "execution_count": 5,
   "metadata": {},
   "outputs": [
    {
     "name": "stdout",
     "output_type": "stream",
     "text": [
      "2 3 19\n"
     ]
    }
   ],
   "source": [
    "## note that we can access the entries within a matrix with the indices too.\n",
    "## Also note that python starts counting from 0\n",
    "print(A[0,1], A[0, 2], A[2, 2])"
   ]
  },
  {
   "cell_type": "code",
<<<<<<< HEAD:mod-4/Day-4-1-Numpy/notes-on-matrix_algebra_with_numpy.ipynb
   "execution_count": 10,
=======
   "execution_count": 24,
>>>>>>> 5cc7f8de9d1aa616111f5828d22f047f36fa4477:mod-4/Day-4-1-Numpy/matrix_algebra_with_numpy.ipynb
   "metadata": {},
   "outputs": [
    {
     "data": {
      "text/plain": [
<<<<<<< HEAD:mod-4/Day-4-1-Numpy/notes-on-matrix_algebra_with_numpy.ipynb
       "13"
      ]
     },
     "execution_count": 10,
=======
       "array([[ 2,  3],\n",
       "       [ 5,  7],\n",
       "       [17, 19],\n",
       "       [ 0,  2]])"
      ]
     },
     "execution_count": 24,
>>>>>>> 5cc7f8de9d1aa616111f5828d22f047f36fa4477:mod-4/Day-4-1-Numpy/matrix_algebra_with_numpy.ipynb
     "metadata": {},
     "output_type": "execute_result"
    }
   ],
   "source": [
<<<<<<< HEAD:mod-4/Day-4-1-Numpy/notes-on-matrix_algebra_with_numpy.ipynb
    "A[2,0]"
   ]
  },
  {
   "cell_type": "code",
   "execution_count": 21,
   "metadata": {},
   "outputs": [
    {
     "data": {
      "text/plain": [
       "array([ 3,  7, 19,  2])"
      ]
     },
     "execution_count": 21,
     "metadata": {},
     "output_type": "execute_result"
    }
   ],
   "source": [
    "A[:,2]"
   ]
  },
  {
   "cell_type": "code",
   "execution_count": 23,
   "metadata": {},
   "outputs": [
    {
     "data": {
      "text/plain": [
       "array([[ 2,  3],\n",
       "       [ 5,  7],\n",
       "       [17, 19],\n",
       "       [ 0,  2]])"
      ]
     },
     "execution_count": 23,
     "metadata": {},
     "output_type": "execute_result"
    }
   ],
   "source": [
    "A[:,1:]"
=======
    "A[ :,1:]"
>>>>>>> 5cc7f8de9d1aa616111f5828d22f047f36fa4477:mod-4/Day-4-1-Numpy/matrix_algebra_with_numpy.ipynb
   ]
  },
  {
   "cell_type": "markdown",
   "metadata": {},
   "source": [
    "__Your Turn__\n",
    "\n",
    "- Find the number at the second column and the third row\n",
    "\n",
    "- Find all the elements in the first column and keep it as a 1D array"
   ]
  },
  {
   "cell_type": "code",
<<<<<<< HEAD:mod-4/Day-4-1-Numpy/notes-on-matrix_algebra_with_numpy.ipynb
   "execution_count": 24,
=======
   "execution_count": 25,
>>>>>>> 5cc7f8de9d1aa616111f5828d22f047f36fa4477:mod-4/Day-4-1-Numpy/matrix_algebra_with_numpy.ipynb
   "metadata": {},
   "outputs": [
    {
     "data": {
      "text/plain": [
       "array([2, 3, 4, 5])"
      ]
     },
<<<<<<< HEAD:mod-4/Day-4-1-Numpy/notes-on-matrix_algebra_with_numpy.ipynb
     "execution_count": 24,
=======
     "execution_count": 25,
>>>>>>> 5cc7f8de9d1aa616111f5828d22f047f36fa4477:mod-4/Day-4-1-Numpy/matrix_algebra_with_numpy.ipynb
     "metadata": {},
     "output_type": "execute_result"
    }
   ],
   "source": [
    "l = [2,3,4,5]\n",
    "array_l= np.array(l)\n",
    "\n",
    "array_l"
   ]
  },
  {
   "cell_type": "markdown",
   "metadata": {},
   "source": [
    "Note that numpy is really handy in terms of basic operations."
   ]
  },
  {
   "cell_type": "code",
<<<<<<< HEAD:mod-4/Day-4-1-Numpy/notes-on-matrix_algebra_with_numpy.ipynb
   "execution_count": 25,
=======
   "execution_count": 27,
>>>>>>> 5cc7f8de9d1aa616111f5828d22f047f36fa4477:mod-4/Day-4-1-Numpy/matrix_algebra_with_numpy.ipynb
   "metadata": {},
   "outputs": [
    {
     "data": {
      "text/plain": [
       "array([11,  2,  5])"
      ]
     },
<<<<<<< HEAD:mod-4/Day-4-1-Numpy/notes-on-matrix_algebra_with_numpy.ipynb
     "execution_count": 25,
=======
     "execution_count": 27,
>>>>>>> 5cc7f8de9d1aa616111f5828d22f047f36fa4477:mod-4/Day-4-1-Numpy/matrix_algebra_with_numpy.ipynb
     "metadata": {},
     "output_type": "execute_result"
    }
   ],
   "source": [
    "## Recall x is an 1D ndarray: \n",
    "## This can be a row of a dataset or residual errors\n",
    "\n",
    "x"
   ]
  },
  {
   "cell_type": "code",
<<<<<<< HEAD:mod-4/Day-4-1-Numpy/notes-on-matrix_algebra_with_numpy.ipynb
   "execution_count": 26,
=======
   "execution_count": 31,
>>>>>>> 5cc7f8de9d1aa616111f5828d22f047f36fa4477:mod-4/Day-4-1-Numpy/matrix_algebra_with_numpy.ipynb
   "metadata": {},
   "outputs": [
    {
     "name": "stdout",
     "output_type": "stream",
     "text": [
      "x is: [11  2  5]\n",
      "y is: [4 7 9]\n",
      "6.0\n",
      "3.7416573867739413\n",
      "14.0\n",
      "x: [11  2  5]\n",
      "5 times x: [55 10 25]\n",
<<<<<<< HEAD:mod-4/Day-4-1-Numpy/notes-on-matrix_algebra_with_numpy.ipynb
      "x times x: [121   4  25]\n",
=======
      "x times x: [1331    8  125]\n",
>>>>>>> 5cc7f8de9d1aa616111f5828d22f047f36fa4477:mod-4/Day-4-1-Numpy/matrix_algebra_with_numpy.ipynb
      "y-x: [-7  5  4]\n"
     ]
    }
   ],
   "source": [
    "## there are built-in methods we can use easily.\n",
    "y = np.array([4,7,9])\n",
    "print(\"x is:\",x )\n",
    "print(\"y is:\", y)\n",
    "\n",
    "print(x.mean())\n",
    "## find the mean of numbers in y\n",
    "print(x.std())\n",
    "#find the mean of numbers in y\n",
    "print(x.var())\n",
    "# find the variance of numbers in y\n",
    "print(\"x:\", x)\n",
    "\n",
    "## we can multiply vectors with scalars\n",
    "print(\"5 times x:\", 5*x)\n",
    "## we can multiply vector with each other:\n",
    "print(\"x times x:\", x**3)\n",
    "## We can add and subtract vectors\n",
    "print(\"y-x:\", y - x)"
   ]
  },
  {
   "cell_type": "markdown",
   "metadata": {},
   "source": [
    "In addition to item by item multiplication we have another way of \n",
    "multiplying vectors and matrices. This is called dot product."
   ]
  },
  {
   "cell_type": "code",
   "execution_count": 32,
   "metadata": {},
   "outputs": [
    {
     "data": {
      "text/plain": [
       "array([ 3, 10, 21])"
      ]
     },
     "execution_count": 32,
     "metadata": {},
     "output_type": "execute_result"
    }
   ],
   "source": [
    "x = np.array([1,2,3])\n",
    "\n",
    "y = np.array([3,5,7])\n",
    "\n",
    "x*y"
   ]
  },
  {
   "cell_type": "code",
   "execution_count": 40,
   "metadata": {},
   "outputs": [
    {
     "data": {
      "text/plain": [
       "0"
      ]
     },
     "execution_count": 40,
     "metadata": {},
     "output_type": "execute_result"
    }
   ],
   "source": [
    "u = np.array([-4,3])\n",
    "\n",
    "v = np.array([3,4])\n",
    "\n",
    "v.dot(u)"
   ]
  },
  {
   "cell_type": "code",
   "execution_count": 35,
   "metadata": {},
   "outputs": [],
   "source": [
    "u = np.array([3,4])\n",
    "\n"
   ]
  },
  {
   "cell_type": "code",
   "execution_count": 76,
   "metadata": {},
   "outputs": [
    {
     "name": "stdout",
     "output_type": "stream",
     "text": [
      "The dot product of x with itself: 74\n"
     ]
    }
   ],
   "source": [
    "print(\"The dot product of x with itself:\", x.dot(x))"
   ]
  },
  {
   "cell_type": "code",
   "execution_count": 77,
   "metadata": {},
   "outputs": [
    {
     "name": "stdout",
     "output_type": "stream",
     "text": [
      "The dot product of x with y: 26\n"
     ]
    }
   ],
   "source": [
    "print(\"The dot product of x with y:\", x.dot(y))"
   ]
  },
  {
   "cell_type": "markdown",
   "metadata": {},
   "source": [
    "Now find the dot product of y with x:"
   ]
  },
  {
   "cell_type": "code",
   "execution_count": 27,
   "metadata": {},
   "outputs": [
    {
     "data": {
      "text/plain": [
       "0"
      ]
     },
     "execution_count": 27,
     "metadata": {},
     "output_type": "execute_result"
    }
   ],
   "source": [
    "u = np.array([-4,3])\n",
    "v = np.array([3,4])\n",
    "\n",
    "u.dot(v)"
   ]
  },
  {
   "cell_type": "markdown",
   "metadata": {},
   "source": [
    "## the zero means they are perpindicular"
   ]
  },
  {
   "cell_type": "code",
   "execution_count": 78,
   "metadata": {},
   "outputs": [],
   "source": [
    "## your code is here"
   ]
  },
  {
   "cell_type": "code",
   "execution_count": 81,
   "metadata": {},
   "outputs": [],
   "source": [
    "## note that we cannot dot product two different shape vectors\n",
    "u = np.array([0,-1, 5,7])\n",
    "#x.dot(u)\n",
    "# u.dot(x)"
   ]
  },
  {
   "cell_type": "code",
   "execution_count": 6,
   "metadata": {},
   "outputs": [
    {
     "name": "stdout",
     "output_type": "stream",
     "text": [
      "The second row of A:  [11  5  7] \n",
      "The third row of A:  [13 17 19]\n",
      "The second column of A:  [ 2  5 17  0] \n",
      "The third column of A:  [ 3  7 19  2]\n"
     ]
    }
   ],
   "source": [
    "## We can also access a row in a matrix\n",
    "\n",
    "print('The second row of A: ', A[1,: ],'\\nThe third row of A: ', A[2, :])\n",
    "\n",
    "\n",
    "## We can also access the columns\n",
    "\n",
    "print('The second column of A: ', A[:,1],'\\nThe third column of A: ', A[:,2])\n"
   ]
  },
  {
   "cell_type": "code",
   "execution_count": 90,
   "metadata": {},
   "outputs": [
    {
     "name": "stdout",
     "output_type": "stream",
     "text": [
      "(1, 3)\n"
     ]
    },
    {
     "data": {
      "text/plain": [
       "(3, 1)"
      ]
     },
     "execution_count": 90,
     "metadata": {},
     "output_type": "execute_result"
    }
   ],
   "source": [
    "a = np.array([1,2,3])\n",
    "\n",
    "\n",
    "## From a (3,) dimensional array we can create\n",
    "## column and row vectors in different ways\n",
    "new_a = a[np.newaxis, :]\n",
    "print(new_a.shape)\n",
    "\n",
    "new_a = a[:, np.newaxis]\n",
    "new_a.shape"
   ]
  },
  {
   "cell_type": "markdown",
   "metadata": {},
   "source": [
    "- __Tensors__ An array of numbers arranged on a regular grid with a variable number of axis is known as a tensor. We can create tensors with numpy but there will be other libraries also that is using tensors. "
   ]
  },
  {
   "cell_type": "code",
   "execution_count": 8,
   "metadata": {},
   "outputs": [
    {
     "data": {
      "text/plain": [
       "(3, 3, 3)"
      ]
     },
     "execution_count": 8,
     "metadata": {},
     "output_type": "execute_result"
    }
   ],
   "source": [
    "## Properties of the tensors will not be discussed in this notebook\n",
    "\n",
    "T = np.array([[[1,2,3],    [4,5,6],    [7,8,9]],\n",
    "              [[11,12,13], [14,15,16], [17,18,19]],\n",
    "              [[21,22,23], [24,25,26], [27,28,29]]\n",
    "             ])\n",
    "T.shape"
   ]
  },
  {
   "cell_type": "markdown",
   "metadata": {},
   "source": [
    "## Multiplying Vectors and Matrices"
   ]
  },
  {
   "cell_type": "code",
<<<<<<< HEAD:mod-4/Day-4-1-Numpy/notes-on-matrix_algebra_with_numpy.ipynb
   "execution_count": 29,
=======
   "execution_count": 42,
>>>>>>> 5cc7f8de9d1aa616111f5828d22f047f36fa4477:mod-4/Day-4-1-Numpy/matrix_algebra_with_numpy.ipynb
   "metadata": {},
   "outputs": [
    {
     "data": {
      "text/plain": [
       "(4, 3)"
      ]
     },
<<<<<<< HEAD:mod-4/Day-4-1-Numpy/notes-on-matrix_algebra_with_numpy.ipynb
     "execution_count": 29,
=======
     "execution_count": 42,
>>>>>>> 5cc7f8de9d1aa616111f5828d22f047f36fa4477:mod-4/Day-4-1-Numpy/matrix_algebra_with_numpy.ipynb
     "metadata": {},
     "output_type": "execute_result"
    }
   ],
   "source": [
    "A.shape"
   ]
  },
  {
   "cell_type": "code",
<<<<<<< HEAD:mod-4/Day-4-1-Numpy/notes-on-matrix_algebra_with_numpy.ipynb
   "execution_count": 35,
=======
   "execution_count": 54,
   "metadata": {},
   "outputs": [],
   "source": [
    "x = np.array([2,5,7])\n",
    "x = x.reshape(3,1)"
   ]
  },
  {
   "cell_type": "code",
   "execution_count": 55,
>>>>>>> 5cc7f8de9d1aa616111f5828d22f047f36fa4477:mod-4/Day-4-1-Numpy/matrix_algebra_with_numpy.ipynb
   "metadata": {},
   "outputs": [
    {
     "data": {
      "text/plain": [
       "(3, 1)"
      ]
     },
<<<<<<< HEAD:mod-4/Day-4-1-Numpy/notes-on-matrix_algebra_with_numpy.ipynb
     "execution_count": 35,
=======
     "execution_count": 55,
>>>>>>> 5cc7f8de9d1aa616111f5828d22f047f36fa4477:mod-4/Day-4-1-Numpy/matrix_algebra_with_numpy.ipynb
     "metadata": {},
     "output_type": "execute_result"
    }
   ],
   "source": [
<<<<<<< HEAD:mod-4/Day-4-1-Numpy/notes-on-matrix_algebra_with_numpy.ipynb
    "x = np.array([2,5,7])\n",
    "x= x[:, np.newaxis]\n",
=======
>>>>>>> 5cc7f8de9d1aa616111f5828d22f047f36fa4477:mod-4/Day-4-1-Numpy/matrix_algebra_with_numpy.ipynb
    "x.shape"
   ]
  },
  {
   "cell_type": "code",
<<<<<<< HEAD:mod-4/Day-4-1-Numpy/notes-on-matrix_algebra_with_numpy.ipynb
   "execution_count": 37,
=======
   "execution_count": 57,
>>>>>>> 5cc7f8de9d1aa616111f5828d22f047f36fa4477:mod-4/Day-4-1-Numpy/matrix_algebra_with_numpy.ipynb
   "metadata": {},
   "outputs": [
    {
     "data": {
      "text/plain": [
       "(4, 1)"
      ]
     },
<<<<<<< HEAD:mod-4/Day-4-1-Numpy/notes-on-matrix_algebra_with_numpy.ipynb
     "execution_count": 37,
=======
     "execution_count": 57,
>>>>>>> 5cc7f8de9d1aa616111f5828d22f047f36fa4477:mod-4/Day-4-1-Numpy/matrix_algebra_with_numpy.ipynb
     "metadata": {},
     "output_type": "execute_result"
    }
   ],
   "source": [
    "A.dot(x).shape"
   ]
  },
  {
   "cell_type": "code",
   "execution_count": 30,
   "metadata": {},
   "outputs": [
    {
     "data": {
      "text/plain": [
       "array([[ 1,  2,  3],\n",
       "       [11,  5,  7],\n",
       "       [13, 17, 19],\n",
       "       [ 1,  0,  2]])"
      ]
     },
     "metadata": {},
     "output_type": "display_data"
    },
    {
     "data": {
      "text/plain": [
       "array([[1, 0],\n",
       "       [1, 2],\n",
       "       [0, 2]])"
      ]
     },
     "metadata": {},
     "output_type": "display_data"
    },
    {
     "data": {
      "text/plain": [
       "array([[ 3, 10],\n",
       "       [16, 24],\n",
       "       [30, 72],\n",
       "       [ 1,  4]])"
      ]
     },
     "metadata": {},
     "output_type": "display_data"
    },
    {
     "data": {
      "text/plain": [
       "(4, 3)"
      ]
     },
     "metadata": {},
     "output_type": "display_data"
    },
    {
     "data": {
      "text/plain": [
       "(3, 2)"
      ]
     },
     "metadata": {},
     "output_type": "display_data"
    },
    {
     "data": {
      "text/plain": [
       "(4, 2)"
      ]
     },
     "metadata": {},
     "output_type": "display_data"
    }
   ],
   "source": [
    "B = np.array([[1,0], \n",
    "              [1,2], \n",
    "              [0,2]\n",
    "             ])\n",
    "display(A, B, A.dot(B))\n",
    "\n",
    "display(A.shape, B.shape, A.dot(B).shape)"
   ]
  },
  {
   "cell_type": "code",
   "execution_count": 31,
   "metadata": {},
   "outputs": [
    {
     "data": {
      "text/plain": [
       "(3, 2)"
      ]
     },
     "execution_count": 31,
     "metadata": {},
     "output_type": "execute_result"
    }
   ],
   "source": [
    "B.shape"
   ]
  },
  {
   "cell_type": "code",
   "execution_count": 32,
   "metadata": {},
   "outputs": [
    {
     "data": {
      "text/plain": [
       "(4, 3)"
      ]
     },
     "execution_count": 32,
     "metadata": {},
     "output_type": "execute_result"
    }
   ],
   "source": [
    "A.shape"
   ]
  },
  {
   "cell_type": "code",
   "execution_count": null,
   "metadata": {},
   "outputs": [],
   "source": []
  },
  {
   "cell_type": "code",
   "execution_count": 37,
   "metadata": {},
   "outputs": [
    {
     "data": {
      "text/plain": [
       "4"
      ]
     },
     "execution_count": 37,
     "metadata": {},
     "output_type": "execute_result"
    }
   ],
   "source": [
    "## we can use 'dot' product to multiply two vectors.\n",
    "## here a, b are of shape (3,)\n",
    "## Note that the result will be a scalar\n",
    "\n",
    "a = np.array([1,2,3])\n",
    "b = np.array([1,0,1])\n",
    "\n",
    "a.dot(b)"
   ]
  },
  {
   "cell_type": "code",
   "execution_count": 40,
   "metadata": {},
   "outputs": [
    {
     "data": {
      "text/plain": [
       "array([[1, 0, 1],\n",
       "       [2, 0, 2],\n",
       "       [3, 0, 3]])"
      ]
     },
     "execution_count": 40,
     "metadata": {},
     "output_type": "execute_result"
    }
   ],
   "source": [
    "## If the vectors have shape (1,3) then this method would not work\n",
    "\n",
    "a = np.array([[1,2,3]])\n",
    "\n",
    "b = np.array([[1,0,1]])\n",
    "\n",
    "a.T.dot(b)"
   ]
  },
  {
   "cell_type": "code",
   "execution_count": null,
   "metadata": {},
   "outputs": [],
   "source": []
  },
  {
   "cell_type": "code",
   "execution_count": 13,
   "metadata": {},
   "outputs": [
    {
     "name": "stdout",
     "output_type": "stream",
     "text": [
      "[[4]] (1, 1)\n"
     ]
    }
   ],
   "source": [
    "## instead we can use transpose first and then dot\n",
    "\n",
    "## here a is of shape (1,3) and b.transpose is of shape (3,1)\n",
    "## so the result will be of shape (1,1)\n",
    "\n",
    "print(a.dot(b.transpose()),a.dot(b.transpose()).shape )"
   ]
  },
  {
   "cell_type": "code",
   "execution_count": 14,
   "metadata": {},
   "outputs": [
    {
     "name": "stdout",
     "output_type": "stream",
     "text": [
      "[[1 0 1]\n",
      " [2 0 2]\n",
      " [3 0 3]] (3, 3)\n"
     ]
    }
   ],
   "source": [
    "## If we take first a.transpose what do we get?\n",
    "\n",
    "print(a.transpose().dot(b),a.transpose().dot(b).shape )"
   ]
  },
  {
   "cell_type": "code",
   "execution_count": 44,
   "metadata": {},
   "outputs": [
    {
     "data": {
      "text/plain": [
       "array([[ 1.18181818, -0.18181818, -1.18181818],\n",
       "       [ 0.04545455, -0.04545455,  0.45454545],\n",
       "       [-0.09090909,  0.09090909,  0.09090909]])"
      ]
     },
     "execution_count": 44,
     "metadata": {},
     "output_type": "execute_result"
    }
   ],
   "source": [
    "## we can use np.linalg module to do some linear algebra\n",
    "## for example let's use np.linalg.inv for taking inverse of a matrix\n",
    "\n",
    "A = np.array([[1,2,3], [1,0,13], [0,2,1]])\n",
    "\n",
    "np.linalg.inv(A)"
   ]
  },
  {
   "cell_type": "code",
   "execution_count": 48,
   "metadata": {},
   "outputs": [
    {
     "ename": "LinAlgError",
     "evalue": "Singular matrix",
     "output_type": "error",
     "traceback": [
      "\u001b[0;31m---------------------------------------------------------------------------\u001b[0m",
      "\u001b[0;31mLinAlgError\u001b[0m                               Traceback (most recent call last)",
      "\u001b[0;32m<ipython-input-48-973339196cd4>\u001b[0m in \u001b[0;36m<module>\u001b[0;34m\u001b[0m\n\u001b[1;32m      4\u001b[0m \u001b[0mA\u001b[0m \u001b[0;34m=\u001b[0m \u001b[0mnp\u001b[0m\u001b[0;34m.\u001b[0m\u001b[0marray\u001b[0m\u001b[0;34m(\u001b[0m\u001b[0;34m[\u001b[0m\u001b[0;34m[\u001b[0m\u001b[0;36m1\u001b[0m\u001b[0;34m,\u001b[0m\u001b[0;36m2\u001b[0m\u001b[0;34m,\u001b[0m\u001b[0;36m3\u001b[0m\u001b[0;34m]\u001b[0m\u001b[0;34m,\u001b[0m \u001b[0;34m[\u001b[0m\u001b[0;36m1\u001b[0m\u001b[0;34m,\u001b[0m\u001b[0;36m0\u001b[0m\u001b[0;34m,\u001b[0m\u001b[0;36m2\u001b[0m\u001b[0;34m]\u001b[0m\u001b[0;34m,\u001b[0m \u001b[0;34m[\u001b[0m\u001b[0;36m0\u001b[0m\u001b[0;34m,\u001b[0m\u001b[0;36m2\u001b[0m\u001b[0;34m,\u001b[0m\u001b[0;36m1\u001b[0m\u001b[0;34m]\u001b[0m\u001b[0;34m]\u001b[0m\u001b[0;34m)\u001b[0m\u001b[0;34m\u001b[0m\u001b[0;34m\u001b[0m\u001b[0m\n\u001b[1;32m      5\u001b[0m \u001b[0;34m\u001b[0m\u001b[0m\n\u001b[0;32m----> 6\u001b[0;31m \u001b[0mnp\u001b[0m\u001b[0;34m.\u001b[0m\u001b[0mlinalg\u001b[0m\u001b[0;34m.\u001b[0m\u001b[0minv\u001b[0m\u001b[0;34m(\u001b[0m\u001b[0mA\u001b[0m\u001b[0;34m)\u001b[0m\u001b[0;34m\u001b[0m\u001b[0;34m\u001b[0m\u001b[0m\n\u001b[0m\u001b[1;32m      7\u001b[0m \u001b[0;34m\u001b[0m\u001b[0m\n",
      "\u001b[0;32m//anaconda3/lib/python3.7/site-packages/numpy/linalg/linalg.py\u001b[0m in \u001b[0;36minv\u001b[0;34m(a)\u001b[0m\n\u001b[1;32m    549\u001b[0m     \u001b[0msignature\u001b[0m \u001b[0;34m=\u001b[0m \u001b[0;34m'D->D'\u001b[0m \u001b[0;32mif\u001b[0m \u001b[0misComplexType\u001b[0m\u001b[0;34m(\u001b[0m\u001b[0mt\u001b[0m\u001b[0;34m)\u001b[0m \u001b[0;32melse\u001b[0m \u001b[0;34m'd->d'\u001b[0m\u001b[0;34m\u001b[0m\u001b[0;34m\u001b[0m\u001b[0m\n\u001b[1;32m    550\u001b[0m     \u001b[0mextobj\u001b[0m \u001b[0;34m=\u001b[0m \u001b[0mget_linalg_error_extobj\u001b[0m\u001b[0;34m(\u001b[0m\u001b[0m_raise_linalgerror_singular\u001b[0m\u001b[0;34m)\u001b[0m\u001b[0;34m\u001b[0m\u001b[0;34m\u001b[0m\u001b[0m\n\u001b[0;32m--> 551\u001b[0;31m     \u001b[0mainv\u001b[0m \u001b[0;34m=\u001b[0m \u001b[0m_umath_linalg\u001b[0m\u001b[0;34m.\u001b[0m\u001b[0minv\u001b[0m\u001b[0;34m(\u001b[0m\u001b[0ma\u001b[0m\u001b[0;34m,\u001b[0m \u001b[0msignature\u001b[0m\u001b[0;34m=\u001b[0m\u001b[0msignature\u001b[0m\u001b[0;34m,\u001b[0m \u001b[0mextobj\u001b[0m\u001b[0;34m=\u001b[0m\u001b[0mextobj\u001b[0m\u001b[0;34m)\u001b[0m\u001b[0;34m\u001b[0m\u001b[0;34m\u001b[0m\u001b[0m\n\u001b[0m\u001b[1;32m    552\u001b[0m     \u001b[0;32mreturn\u001b[0m \u001b[0mwrap\u001b[0m\u001b[0;34m(\u001b[0m\u001b[0mainv\u001b[0m\u001b[0;34m.\u001b[0m\u001b[0mastype\u001b[0m\u001b[0;34m(\u001b[0m\u001b[0mresult_t\u001b[0m\u001b[0;34m,\u001b[0m \u001b[0mcopy\u001b[0m\u001b[0;34m=\u001b[0m\u001b[0;32mFalse\u001b[0m\u001b[0;34m)\u001b[0m\u001b[0;34m)\u001b[0m\u001b[0;34m\u001b[0m\u001b[0;34m\u001b[0m\u001b[0m\n\u001b[1;32m    553\u001b[0m \u001b[0;34m\u001b[0m\u001b[0m\n",
      "\u001b[0;32m//anaconda3/lib/python3.7/site-packages/numpy/linalg/linalg.py\u001b[0m in \u001b[0;36m_raise_linalgerror_singular\u001b[0;34m(err, flag)\u001b[0m\n\u001b[1;32m     95\u001b[0m \u001b[0;34m\u001b[0m\u001b[0m\n\u001b[1;32m     96\u001b[0m \u001b[0;32mdef\u001b[0m \u001b[0m_raise_linalgerror_singular\u001b[0m\u001b[0;34m(\u001b[0m\u001b[0merr\u001b[0m\u001b[0;34m,\u001b[0m \u001b[0mflag\u001b[0m\u001b[0;34m)\u001b[0m\u001b[0;34m:\u001b[0m\u001b[0;34m\u001b[0m\u001b[0;34m\u001b[0m\u001b[0m\n\u001b[0;32m---> 97\u001b[0;31m     \u001b[0;32mraise\u001b[0m \u001b[0mLinAlgError\u001b[0m\u001b[0;34m(\u001b[0m\u001b[0;34m\"Singular matrix\"\u001b[0m\u001b[0;34m)\u001b[0m\u001b[0;34m\u001b[0m\u001b[0;34m\u001b[0m\u001b[0m\n\u001b[0m\u001b[1;32m     98\u001b[0m \u001b[0;34m\u001b[0m\u001b[0m\n\u001b[1;32m     99\u001b[0m \u001b[0;32mdef\u001b[0m \u001b[0m_raise_linalgerror_nonposdef\u001b[0m\u001b[0;34m(\u001b[0m\u001b[0merr\u001b[0m\u001b[0;34m,\u001b[0m \u001b[0mflag\u001b[0m\u001b[0;34m)\u001b[0m\u001b[0;34m:\u001b[0m\u001b[0;34m\u001b[0m\u001b[0;34m\u001b[0m\u001b[0m\n",
      "\u001b[0;31mLinAlgError\u001b[0m: Singular matrix"
     ]
    }
   ],
   "source": [
    "## note that not all matrices are invertible\n",
    "## np.linalg.inv gives an error when we try to \n",
    "## invert a non-invertible matrix\n",
    "A = np.array([[1,2,3], [1,0,2], [0,2,1]])\n",
    "\n",
    "np.linalg.inv(A)\n",
    "\n"
   ]
  },
  {
   "cell_type": "code",
   "execution_count": 17,
   "metadata": {
    "scrolled": true
   },
   "outputs": [
    {
     "data": {
      "text/plain": [
       "array([-1.44948974e+00,  3.05311332e-16,  3.44948974e+00])"
      ]
     },
     "metadata": {},
     "output_type": "display_data"
    },
    {
     "data": {
      "text/plain": [
       "array([[-0.14072662,  0.87287156,  0.81511137],\n",
       "       [-0.76688827,  0.21821789,  0.44872717],\n",
       "       [ 0.62616165, -0.43643578,  0.3663842 ]])"
      ]
     },
     "metadata": {},
     "output_type": "display_data"
    }
   ],
   "source": [
    "## There is also .eig method that allow\n",
    "## allow us to find eigenvalues and eigenvectors\n",
    "## note that the matrix should be a square matrix\n",
    "\n",
    "eig_val, eig_vec = np.linalg.eig(A)\n",
    "\n",
    "display(eig_val, eig_vec)"
   ]
  },
  {
   "cell_type": "code",
   "execution_count": 18,
   "metadata": {},
   "outputs": [
    {
     "data": {
      "text/plain": [
       "array([ 0.20398179,  1.11159667, -0.90761488])"
      ]
     },
     "metadata": {},
     "output_type": "display_data"
    },
    {
     "data": {
      "text/plain": [
       "array([ 0.20398179,  1.11159667, -0.90761488])"
      ]
     },
     "metadata": {},
     "output_type": "display_data"
    }
   ],
   "source": [
    "## Two things returned from np.linalg.eig \n",
    "## 1: an array of shape (n, ) for the eigenvalues\n",
    "## 2: an array of shape (n,n) for eigenvectors as columns\n",
    "\n",
    "c = eig_val[0]*eig_vec[:,0]\n",
    "\n",
    "d = A.dot(eig_vec[:,0])\n",
    "\n",
    "display(c,d)"
   ]
  },
  {
   "cell_type": "markdown",
   "metadata": {},
   "source": [
    "Now we can see how to use matrix algrebra to solve least square problem."
   ]
  },
  {
   "cell_type": "code",
   "execution_count": 58,
   "metadata": {},
   "outputs": [],
   "source": [
    "import pandas as pd\n",
    "\n",
    "import numpy as np"
   ]
  },
  {
   "cell_type": "code",
   "execution_count": 59,
   "metadata": {},
   "outputs": [],
   "source": [
    "df = pd.read_csv('data/Income1.csv', index_col = 0)"
   ]
  },
  {
   "cell_type": "code",
   "execution_count": 60,
   "metadata": {},
   "outputs": [
    {
     "data": {
      "text/html": [
       "<div>\n",
       "<style scoped>\n",
       "    .dataframe tbody tr th:only-of-type {\n",
       "        vertical-align: middle;\n",
       "    }\n",
       "\n",
       "    .dataframe tbody tr th {\n",
       "        vertical-align: top;\n",
       "    }\n",
       "\n",
       "    .dataframe thead th {\n",
       "        text-align: right;\n",
       "    }\n",
       "</style>\n",
       "<table border=\"1\" class=\"dataframe\">\n",
       "  <thead>\n",
       "    <tr style=\"text-align: right;\">\n",
       "      <th></th>\n",
       "      <th>Education</th>\n",
       "      <th>Income</th>\n",
       "    </tr>\n",
       "  </thead>\n",
       "  <tbody>\n",
       "    <tr>\n",
       "      <th>1</th>\n",
       "      <td>10.000000</td>\n",
       "      <td>26.658839</td>\n",
       "    </tr>\n",
       "    <tr>\n",
       "      <th>2</th>\n",
       "      <td>10.401338</td>\n",
       "      <td>27.306435</td>\n",
       "    </tr>\n",
       "    <tr>\n",
       "      <th>3</th>\n",
       "      <td>10.842809</td>\n",
       "      <td>22.132410</td>\n",
       "    </tr>\n",
       "    <tr>\n",
       "      <th>4</th>\n",
       "      <td>11.244147</td>\n",
       "      <td>21.169841</td>\n",
       "    </tr>\n",
       "    <tr>\n",
       "      <th>5</th>\n",
       "      <td>11.645485</td>\n",
       "      <td>15.192634</td>\n",
       "    </tr>\n",
       "  </tbody>\n",
       "</table>\n",
       "</div>"
      ],
      "text/plain": [
       "   Education     Income\n",
       "1  10.000000  26.658839\n",
       "2  10.401338  27.306435\n",
       "3  10.842809  22.132410\n",
       "4  11.244147  21.169841\n",
       "5  11.645485  15.192634"
      ]
     },
     "execution_count": 60,
     "metadata": {},
     "output_type": "execute_result"
    }
   ],
   "source": [
    "df.head()"
   ]
  },
  {
   "cell_type": "code",
   "execution_count": 61,
   "metadata": {},
   "outputs": [],
   "source": [
    "df['intercept'] = np.zeros(len(df))"
   ]
  },
  {
   "cell_type": "code",
   "execution_count": 62,
   "metadata": {},
   "outputs": [],
   "source": [
    "df['intercept'] = 1"
   ]
  },
  {
   "cell_type": "code",
   "execution_count": 63,
   "metadata": {},
   "outputs": [],
   "source": [
    "X = df[['Education', 'intercept']].values\n",
    "\n",
    "y = df['Income'].values"
   ]
  },
  {
   "cell_type": "code",
   "execution_count": null,
   "metadata": {},
   "outputs": [],
   "source": []
  },
  {
   "cell_type": "markdown",
   "metadata": {},
   "source": [
    "One (who?) can show that the solution $\\beta$ to the least square regression given as: \n",
    "\n",
    "$$ \\beta = (X^{\\top}X)^{-1}X^{\\top}y$$\n",
    "\n",
    "(I know this is a little bit hard to buy but you can check [Wikipedia-Linear Regression](https://en.wikipedia.org/wiki/Linear_regression))"
   ]
  },
  {
   "cell_type": "code",
   "execution_count": 65,
   "metadata": {},
   "outputs": [],
   "source": [
    "X_tr_X_inv = np.linalg.inv(X.transpose().dot(X))"
   ]
  },
  {
   "cell_type": "code",
   "execution_count": 66,
   "metadata": {},
   "outputs": [
    {
     "data": {
      "text/plain": [
       "array([  5.59948287, -39.44625668])"
      ]
     },
     "execution_count": 66,
     "metadata": {},
     "output_type": "execute_result"
    }
   ],
   "source": [
    "X_tr_X_inv.dot(X.transpose()).dot(y)"
   ]
  },
  {
   "cell_type": "code",
   "execution_count": 67,
   "metadata": {},
   "outputs": [],
   "source": [
    "from sklearn.linear_model import LinearRegression"
   ]
  },
  {
   "cell_type": "code",
   "execution_count": 68,
   "metadata": {},
   "outputs": [
    {
     "data": {
      "text/plain": [
       "LinearRegression(copy_X=True, fit_intercept=True, n_jobs=None, normalize=False)"
      ]
     },
     "execution_count": 68,
     "metadata": {},
     "output_type": "execute_result"
    }
   ],
   "source": [
    "X  = df.Education.values.reshape(-1,1)\n",
    "lr = LinearRegression()\n",
    "\n",
    "lr.fit(X,y)\n",
    "\n"
   ]
  },
  {
   "cell_type": "code",
   "execution_count": 69,
   "metadata": {},
   "outputs": [
    {
     "name": "stdout",
     "output_type": "stream",
     "text": [
      "[5.59948287] -39.446256679096194\n"
     ]
    }
   ],
   "source": [
    "print(lr.coef_, lr.intercept_)"
   ]
  },
  {
   "cell_type": "code",
   "execution_count": 65,
   "metadata": {},
   "outputs": [
    {
     "data": {
      "text/plain": [
       "array([[1, 4, 9],\n",
       "       [1, 0, 4],\n",
       "       [0, 4, 1]])"
      ]
     },
     "execution_count": 65,
     "metadata": {},
     "output_type": "execute_result"
    }
   ],
   "source": [
    "A*A"
   ]
  },
  {
   "cell_type": "code",
   "execution_count": 66,
   "metadata": {},
   "outputs": [
    {
     "data": {
      "text/plain": [
       "array([[1, 2, 3],\n",
       "       [1, 0, 2],\n",
       "       [0, 2, 1]])"
      ]
     },
     "execution_count": 66,
     "metadata": {},
     "output_type": "execute_result"
    }
   ],
   "source": [
    "A"
   ]
  },
  {
   "cell_type": "markdown",
   "metadata": {},
   "source": [
    "## Extra Sources\n",
    "\n",
    "[Penn State Matrix Algebra Review](https://newonlinecourses.science.psu.edu/statprogram/reviews/matrix-algebra)\n",
    "\n",
    "[IBM's matrix algebra class](https://cognitiveclass.ai/blog/nested-lists-multidimensional-numpy-arrays)"
   ]
  }
 ],
 "metadata": {
  "kernelspec": {
   "display_name": "Python 3",
   "language": "python",
   "name": "python3"
  },
  "language_info": {
   "codemirror_mode": {
    "name": "ipython",
    "version": 3
   },
   "file_extension": ".py",
   "mimetype": "text/x-python",
   "name": "python",
   "nbconvert_exporter": "python",
   "pygments_lexer": "ipython3",
   "version": "3.7.4"
  },
  "toc": {
   "base_numbering": 1,
   "nav_menu": {},
   "number_sections": true,
   "sideBar": true,
   "skip_h1_title": false,
   "title_cell": "Table of Contents",
   "title_sidebar": "Contents",
   "toc_cell": false,
   "toc_position": {},
   "toc_section_display": true,
   "toc_window_display": false
  }
 },
 "nbformat": 4,
 "nbformat_minor": 4
}
