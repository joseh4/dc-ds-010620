{
 "cells": [
  {
   "cell_type": "markdown",
   "metadata": {},
   "source": [
    "# Linear Algebra, Calculus, and Gradient Descent\n",
    "\n",
    "__Objectives__\n",
    "* Use operations with vectors and matrices to solve systems of linear equations\n",
    "* Identify and describe of scalars, vectors,  matrices, using appropriate mathematical jargon\n",
    "* Set up and solve systems of linear equations with real life examples\n",
    "* Describe gradient descent in relation to slope, derivatives, and step size\n",
    "\n",
    "\n",
    "## Why Linear Algebra?\n",
    "\n",
    "Linear Algebra is the basis of many machine learning models.\n",
    "\n",
    "Data is usually already set up into a matrix by default!\n",
    "\n",
    "<img src= \"./resources/dataset.jpeg\">\n"
   ]
  },
  {
   "cell_type": "markdown",
   "metadata": {},
   "source": [
    "\n",
    "It can be used to model complicated things like language\n",
    "\n",
    "<img src = \"./resources/Word-Vectors.png\">"
   ]
  },
  {
   "cell_type": "markdown",
   "metadata": {},
   "source": [
    "Important for image compression and recognition\n",
    "\n",
    "<img src = \"./resources/images.gif\">"
   ]
  },
  {
   "cell_type": "markdown",
   "metadata": {},
   "source": [
    "Also matrices are the common notation used in the popular libraries like numpy, scipy and sklearn.\n",
    "\n",
    "<img src = \"./resources/matrix_multiplication.png\">\n"
   ]
  },
  {
   "cell_type": "markdown",
   "metadata": {},
   "source": [
    "This is an image from Andrew Ng's Neural Networks and Deep Learning course.\n",
    "\n",
    "<img src = \"./resources/gradient_descent.png\" width  = 500>"
   ]
  },
  {
   "cell_type": "markdown",
   "metadata": {},
   "source": [
    "This is an image from Andrew Ng's Sequence Model's Course. \n",
    "\n",
    "<img src = \"./resources/lstm.png\" width  = 500>"
   ]
  },
  {
   "cell_type": "markdown",
   "metadata": {},
   "source": [
    "## Linear algebra and Linear Regression\n",
    "\n",
    "- Let's move to the notebook matrix algebra with numpy :)"
   ]
  },
  {
   "cell_type": "markdown",
   "metadata": {},
   "source": [
    "## Gradient Descent"
   ]
  },
  {
   "cell_type": "markdown",
   "metadata": {},
   "source": [
    "[Gradient slide](https://www.youtube.com/watch?v=vWFjqgb-ylQ)"
   ]
  },
  {
   "cell_type": "markdown",
   "metadata": {},
   "source": [
    "## Gradient in Action"
   ]
  },
  {
   "cell_type": "code",
   "execution_count": 1,
   "metadata": {},
   "outputs": [],
   "source": [
    "import pandas as pd\n",
    "import numpy as np\n",
    "from matplotlib import pyplot as plt\n",
    "import random\n",
    "import seaborn as sns"
   ]
  },
  {
   "cell_type": "code",
   "execution_count": 2,
   "metadata": {},
   "outputs": [
    {
     "data": {
      "text/plain": [
       "array([0., 0., 0., 0., 0., 0., 0., 0., 0., 0.])"
      ]
     },
     "execution_count": 2,
     "metadata": {},
     "output_type": "execute_result"
    }
   ],
   "source": [
    "numPoints=10\n",
    "np.zeros(shape=numPoints)"
   ]
  },
  {
   "cell_type": "code",
   "execution_count": 3,
   "metadata": {},
   "outputs": [],
   "source": [
    "def genData(numPoints, bias, variance):\n",
    "    x = np.zeros(shape=(numPoints, 2))\n",
    "    y = np.zeros(shape=numPoints)\n",
    "    # basically a straight line\n",
    "    for i in range(0, numPoints):\n",
    "        # bias feature\n",
    "        x[i][0] = 1\n",
    "        x[i][1] = i\n",
    "        # our target variable\n",
    "        y[i] = (i + bias) + np.random.uniform(0, 1) * variance\n",
    "    return x, y"
   ]
  },
  {
   "cell_type": "code",
   "execution_count": 4,
   "metadata": {},
   "outputs": [],
   "source": [
    "x = np.random.uniform(low =0, high=1, size = 1000)\n",
    "\n",
    "y = 10*x + 25 + np.random.normal(loc = 0, scale = 1, size = 1000)"
   ]
  },
  {
   "cell_type": "code",
   "execution_count": 5,
   "metadata": {},
   "outputs": [],
   "source": [
    "# gen 100 points with a bias of 25 and 10 variance as a bit of noise\n",
    "x, y = genData(100, 25, 25)\n",
    "m, n = np.shape(x)"
   ]
  },
  {
   "cell_type": "code",
   "execution_count": 6,
   "metadata": {},
   "outputs": [
    {
     "data": {
      "image/png": "[encoded data removed]",
      "text/plain": [
       "<Figure size 432x288 with 1 Axes>"
      ]
     },
     "metadata": {
      "needs_background": "light"
     },
     "output_type": "display_data"
    }
   ],
   "source": [
    "sns.scatterplot(x=x[:, 1], y=y)\n",
    "\n",
    "plt.show()"
   ]
  },
  {
   "cell_type": "code",
   "execution_count": 7,
   "metadata": {},
   "outputs": [
    {
     "data": {
      "text/plain": [
       "(100,)"
      ]
     },
     "execution_count": 7,
     "metadata": {},
     "output_type": "execute_result"
    }
   ],
   "source": [
    "x\n",
    "theta = np.array([1.90595185,1.5342646])\n",
    "np.dot(x, theta).shape"
   ]
  },
  {
   "cell_type": "markdown",
   "metadata": {},
   "source": [
    "__Your Turn__\n",
    "\n",
    "Write a gradient descent function for this linear problem\n",
    "\n",
    "- Inputs:\n",
    "x, y, theta: initialized with some random values, alpha: learning rate, m: length of data, numiterations: number of iterations\n",
    "\n",
    "- return: plot the errors for each iterations\n",
    "- return the final theta values"
   ]
  },
  {
   "cell_type": "code",
   "execution_count": 8,
   "metadata": {},
   "outputs": [],
   "source": [
    "# %load -r 1-20 supplement.py\n",
    "def gradientDescent(x, y, theta, alpha, m, numIterations):\n",
    "    xTrans = x.transpose()\n",
    "    costs = []\n",
    "    for i in range(0, numIterations):\n",
    "        hypothesis = np.dot(x, theta)\n",
    "        loss = hypothesis - y\n",
    "        # avg cost per example (the 2 in 2*m doesn't really matter here.\n",
    "        # But to be consistent with the gradient, I include it)\n",
    "        cost = np.sum(loss ** 2) / (2 * m)\n",
    "        if i % (numIterations // 40) == 0:\n",
    "            print(\"Iteration %d | Cost: %f\" % (i, cost))\n",
    "            print(theta)\n",
    "        costs.append(cost)\n",
    "        # avg gradient per example\n",
    "        gradient = np.dot(xTrans, loss) / m\n",
    "        # update\n",
    "        theta = theta - alpha * gradient\n",
    "    sns.scatterplot(y=costs, x=[i for i in range(len(costs))])\n",
    "\n",
    "    return theta"
   ]
  },
  {
   "cell_type": "code",
   "execution_count": 9,
   "metadata": {},
   "outputs": [
    {
     "name": "stdout",
     "output_type": "stream",
     "text": [
      "Iteration 0 | Cost: 519.345985\n",
      "[37.0595185  1.5342646]\n",
      "Iteration 2500 | Cost: 29.438309\n",
      "[37.03644412  0.98834767]\n",
      "Iteration 5000 | Cost: 29.437533\n",
      "[37.02251574  0.98855767]\n",
      "Iteration 7500 | Cost: 29.436849\n",
      "[37.00944338  0.98875475]\n",
      "Iteration 10000 | Cost: 29.436246\n",
      "[36.99717443  0.98893973]\n",
      "Iteration 12500 | Cost: 29.435716\n",
      "[36.98565951  0.98911333]\n",
      "Iteration 15000 | Cost: 29.435248\n",
      "[36.97485229  0.98927627]\n",
      "Iteration 17500 | Cost: 29.434836\n",
      "[36.96470927  0.98942919]\n",
      "Iteration 20000 | Cost: 29.434474\n",
      "[36.95518963  0.98957271]\n",
      "Iteration 22500 | Cost: 29.434154\n",
      "[36.94625505  0.98970741]\n",
      "Iteration 25000 | Cost: 29.433873\n",
      "[36.93786959  0.98983384]\n",
      "Iteration 27500 | Cost: 29.433625\n",
      "[36.92999948  0.98995249]\n",
      "Iteration 30000 | Cost: 29.433407\n",
      "[36.92261307  0.99006385]\n",
      "Iteration 32500 | Cost: 29.433214\n",
      "[36.91568061  0.99016837]\n",
      "Iteration 35000 | Cost: 29.433045\n",
      "[36.90917421  0.99026646]\n",
      "Iteration 37500 | Cost: 29.432896\n",
      "[36.90306769  0.99035853]\n",
      "Iteration 40000 | Cost: 29.432764\n",
      "[36.89733647  0.99044494]\n",
      "Iteration 42500 | Cost: 29.432648\n",
      "[36.89195749  0.99052603]\n",
      "Iteration 45000 | Cost: 29.432546\n",
      "[36.88690909  0.99060215]\n",
      "Iteration 47500 | Cost: 29.432456\n",
      "[36.88217096  0.99067358]\n",
      "Iteration 50000 | Cost: 29.432377\n",
      "[36.87772403  0.99074062]\n",
      "Iteration 52500 | Cost: 29.432308\n",
      "[36.8735504   0.99080355]\n",
      "Iteration 55000 | Cost: 29.432246\n",
      "[36.86963328  0.9908626 ]\n",
      "Iteration 57500 | Cost: 29.432192\n",
      "[36.8659569   0.99091803]\n",
      "Iteration 60000 | Cost: 29.432144\n",
      "[36.86250647  0.99097005]\n",
      "Iteration 62500 | Cost: 29.432102\n",
      "[36.85926809  0.99101888]\n",
      "Iteration 65000 | Cost: 29.432065\n",
      "[36.85622875  0.9910647 ]\n",
      "Iteration 67500 | Cost: 29.432033\n",
      "[36.8533762   0.99110771]\n",
      "Iteration 70000 | Cost: 29.432004\n",
      "[36.85069896  0.99114807]\n",
      "Iteration 72500 | Cost: 29.431979\n",
      "[36.84818626  0.99118595]\n",
      "Iteration 75000 | Cost: 29.431957\n",
      "[36.84582799  0.99122151]\n",
      "Iteration 77500 | Cost: 29.431937\n",
      "[36.84361466  0.99125488]\n",
      "Iteration 80000 | Cost: 29.431920\n",
      "[36.84153736  0.99128619]\n",
      "Iteration 82500 | Cost: 29.431905\n",
      "[36.83958772  0.99131559]\n",
      "Iteration 85000 | Cost: 29.431891\n",
      "[36.83775791  0.99134318]\n",
      "Iteration 87500 | Cost: 29.431879\n",
      "[36.83604055  0.99136907]\n",
      "Iteration 90000 | Cost: 29.431869\n",
      "[36.83442875  0.99139337]\n",
      "Iteration 92500 | Cost: 29.431860\n",
      "[36.832916    0.99141617]\n",
      "Iteration 95000 | Cost: 29.431852\n",
      "[36.83149622  0.99143758]\n",
      "Iteration 97500 | Cost: 29.431845\n",
      "[36.8301637   0.99145767]\n"
     ]
    },
    {
     "data": {
      "text/plain": [
       "array([36.82891308,  0.99147652])"
      ]
     },
     "execution_count": 9,
     "metadata": {},
     "output_type": "execute_result"
    },
    {
     "data": {
      "image/png": "[encoded data removed]",
      "text/plain": [
       "<Figure size 432x288 with 1 Axes>"
      ]
     },
     "metadata": {
      "needs_background": "light"
     },
     "output_type": "display_data"
    }
   ],
   "source": [
    "numIterations = 100000\n",
    "alpha = 0.0001\n",
    "theta = np.array([37.0595185,1.5342646])\n",
    "a = gradientDescent(x, y, theta, alpha, m, numIterations)\n",
    "a"
   ]
  },
  {
   "cell_type": "markdown",
   "metadata": {},
   "source": [
    "Let's compare the results with the sklearn."
   ]
  },
  {
   "cell_type": "code",
   "execution_count": 12,
   "metadata": {},
   "outputs": [],
   "source": [
    "from sklearn.linear_model import LinearRegression"
   ]
  },
  {
   "cell_type": "code",
   "execution_count": 13,
   "metadata": {},
   "outputs": [
    {
     "name": "stdout",
     "output_type": "stream",
     "text": [
      "[36.23478054  1.00327207]\n"
     ]
    }
   ],
   "source": [
    "lr = LinearRegression(fit_intercept= False)\n",
    "lr.fit(x,y)\n",
    "print(lr.coef_)\n"
   ]
  },
  {
   "cell_type": "code",
   "execution_count": null,
   "metadata": {},
   "outputs": [],
   "source": []
  }
 ],
 "metadata": {
  "kernelspec": {
   "display_name": "Python 3",
   "language": "python",
   "name": "python3"
  },
  "language_info": {
   "codemirror_mode": {
    "name": "ipython",
    "version": 3
   },
   "file_extension": ".py",
   "mimetype": "text/x-python",
   "name": "python",
   "nbconvert_exporter": "python",
   "pygments_lexer": "ipython3",
   "version": "3.7.3"
  },
  "toc": {
   "base_numbering": 1,
   "nav_menu": {},
   "number_sections": true,
   "sideBar": true,
   "skip_h1_title": false,
   "title_cell": "Table of Contents",
   "title_sidebar": "Contents",
   "toc_cell": false,
   "toc_position": {},
   "toc_section_display": true,
   "toc_window_display": false
  }
 },
 "nbformat": 4,
 "nbformat_minor": 2
}
