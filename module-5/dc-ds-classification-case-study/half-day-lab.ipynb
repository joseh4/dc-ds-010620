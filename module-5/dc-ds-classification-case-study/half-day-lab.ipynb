{
 "cells": [
  {
   "cell_type": "code",
   "execution_count": 1,
   "metadata": {},
   "outputs": [],
   "source": [
    "import pandas as pd\n",
    "import numpy as np\n",
    "import matplotlib.pyplot as plt\n",
    "%matplotlib inline\n",
    "from sklearn.linear_model import LogisticRegression\n",
    "from sklearn.model_selection import train_test_split, cross_val_score, GridSearchCV\n",
    "from sklearn.metrics import precision_score, accuracy_score\n",
    "from sklearn.ensemble import AdaBoostClassifier, GradientBoostingClassifier\n",
    "from sklearn.preprocessing import OneHotEncoder\n",
    "from sklearn import preprocessing\n",
    "from xgboost import XGBClassifier\n",
    "import statistics"
   ]
  },
  {
   "cell_type": "markdown",
   "metadata": {},
   "source": [
    "# EDA"
   ]
  },
  {
   "cell_type": "code",
   "execution_count": 2,
   "metadata": {},
   "outputs": [
    {
     "data": {
      "text/html": [
       "<div>\n",
       "<style scoped>\n",
       "    .dataframe tbody tr th:only-of-type {\n",
       "        vertical-align: middle;\n",
       "    }\n",
       "\n",
       "    .dataframe tbody tr th {\n",
       "        vertical-align: top;\n",
       "    }\n",
       "\n",
       "    .dataframe thead th {\n",
       "        text-align: right;\n",
       "    }\n",
       "</style>\n",
       "<table border=\"1\" class=\"dataframe\">\n",
       "  <thead>\n",
       "    <tr style=\"text-align: right;\">\n",
       "      <th></th>\n",
       "      <th>customerID</th>\n",
       "      <th>gender</th>\n",
       "      <th>SeniorCitizen</th>\n",
       "      <th>MaritalStatus</th>\n",
       "      <th>Dependents</th>\n",
       "      <th>tenure</th>\n",
       "      <th>PhoneService</th>\n",
       "      <th>MultipleLines</th>\n",
       "      <th>InternetService</th>\n",
       "      <th>OnlineSecurity</th>\n",
       "      <th>...</th>\n",
       "      <th>TotalNightMinutes</th>\n",
       "      <th>TotalNightCalls</th>\n",
       "      <th>TotalIntlMinutes</th>\n",
       "      <th>TotalIntlCalls</th>\n",
       "      <th>CustomerServiceCalls</th>\n",
       "      <th>TotalCall</th>\n",
       "      <th>TotalHighBandwidthMinutes</th>\n",
       "      <th>TotalHighLatencyMinutes</th>\n",
       "      <th>TotalRevenue</th>\n",
       "      <th>Churn</th>\n",
       "    </tr>\n",
       "  </thead>\n",
       "  <tbody>\n",
       "    <tr>\n",
       "      <td>0</td>\n",
       "      <td>0002-ORFBO</td>\n",
       "      <td>Female</td>\n",
       "      <td>0</td>\n",
       "      <td>Yes</td>\n",
       "      <td>Yes</td>\n",
       "      <td>9</td>\n",
       "      <td>Yes</td>\n",
       "      <td>No</td>\n",
       "      <td>DSL</td>\n",
       "      <td>No</td>\n",
       "      <td>...</td>\n",
       "      <td>204.8</td>\n",
       "      <td>106</td>\n",
       "      <td>15.5</td>\n",
       "      <td>4</td>\n",
       "      <td>0</td>\n",
       "      <td>354</td>\n",
       "      <td>705</td>\n",
       "      <td>119</td>\n",
       "      <td>593.3</td>\n",
       "      <td>No</td>\n",
       "    </tr>\n",
       "    <tr>\n",
       "      <td>1</td>\n",
       "      <td>0004-TLHLJ</td>\n",
       "      <td>Male</td>\n",
       "      <td>0</td>\n",
       "      <td>No</td>\n",
       "      <td>No</td>\n",
       "      <td>4</td>\n",
       "      <td>Yes</td>\n",
       "      <td>No</td>\n",
       "      <td>Fiber optic</td>\n",
       "      <td>No</td>\n",
       "      <td>...</td>\n",
       "      <td>169.5</td>\n",
       "      <td>106</td>\n",
       "      <td>10.3</td>\n",
       "      <td>9</td>\n",
       "      <td>5</td>\n",
       "      <td>326</td>\n",
       "      <td>292</td>\n",
       "      <td>75</td>\n",
       "      <td>280.9</td>\n",
       "      <td>Yes</td>\n",
       "    </tr>\n",
       "    <tr>\n",
       "      <td>2</td>\n",
       "      <td>0013-MHZWF</td>\n",
       "      <td>Female</td>\n",
       "      <td>0</td>\n",
       "      <td>No</td>\n",
       "      <td>Yes</td>\n",
       "      <td>9</td>\n",
       "      <td>Yes</td>\n",
       "      <td>No</td>\n",
       "      <td>DSL</td>\n",
       "      <td>No</td>\n",
       "      <td>...</td>\n",
       "      <td>126.8</td>\n",
       "      <td>82</td>\n",
       "      <td>8.0</td>\n",
       "      <td>4</td>\n",
       "      <td>2</td>\n",
       "      <td>324</td>\n",
       "      <td>1840</td>\n",
       "      <td>257</td>\n",
       "      <td>571.5</td>\n",
       "      <td>No</td>\n",
       "    </tr>\n",
       "    <tr>\n",
       "      <td>3</td>\n",
       "      <td>0013-SMEOE</td>\n",
       "      <td>Female</td>\n",
       "      <td>1</td>\n",
       "      <td>Yes</td>\n",
       "      <td>No</td>\n",
       "      <td>71</td>\n",
       "      <td>Yes</td>\n",
       "      <td>No</td>\n",
       "      <td>Fiber optic</td>\n",
       "      <td>Yes</td>\n",
       "      <td>...</td>\n",
       "      <td>130.0</td>\n",
       "      <td>92</td>\n",
       "      <td>8.8</td>\n",
       "      <td>4</td>\n",
       "      <td>0</td>\n",
       "      <td>228</td>\n",
       "      <td>1389</td>\n",
       "      <td>180</td>\n",
       "      <td>7904.3</td>\n",
       "      <td>No</td>\n",
       "    </tr>\n",
       "    <tr>\n",
       "      <td>4</td>\n",
       "      <td>0015-UOCOJ</td>\n",
       "      <td>Female</td>\n",
       "      <td>1</td>\n",
       "      <td>No</td>\n",
       "      <td>No</td>\n",
       "      <td>7</td>\n",
       "      <td>Yes</td>\n",
       "      <td>No</td>\n",
       "      <td>DSL</td>\n",
       "      <td>Yes</td>\n",
       "      <td>...</td>\n",
       "      <td>236.5</td>\n",
       "      <td>137</td>\n",
       "      <td>12.0</td>\n",
       "      <td>2</td>\n",
       "      <td>1</td>\n",
       "      <td>294</td>\n",
       "      <td>170</td>\n",
       "      <td>1</td>\n",
       "      <td>340.4</td>\n",
       "      <td>No</td>\n",
       "    </tr>\n",
       "  </tbody>\n",
       "</table>\n",
       "<p>5 rows × 35 columns</p>\n",
       "</div>"
      ],
      "text/plain": [
       "   customerID  gender  SeniorCitizen MaritalStatus Dependents  tenure  \\\n",
       "0  0002-ORFBO  Female              0           Yes        Yes       9   \n",
       "1  0004-TLHLJ    Male              0            No         No       4   \n",
       "2  0013-MHZWF  Female              0            No        Yes       9   \n",
       "3  0013-SMEOE  Female              1           Yes         No      71   \n",
       "4  0015-UOCOJ  Female              1            No         No       7   \n",
       "\n",
       "  PhoneService MultipleLines InternetService OnlineSecurity  ...  \\\n",
       "0          Yes            No             DSL             No  ...   \n",
       "1          Yes            No     Fiber optic             No  ...   \n",
       "2          Yes            No             DSL             No  ...   \n",
       "3          Yes            No     Fiber optic            Yes  ...   \n",
       "4          Yes            No             DSL            Yes  ...   \n",
       "\n",
       "  TotalNightMinutes TotalNightCalls TotalIntlMinutes TotalIntlCalls  \\\n",
       "0             204.8             106             15.5              4   \n",
       "1             169.5             106             10.3              9   \n",
       "2             126.8              82              8.0              4   \n",
       "3             130.0              92              8.8              4   \n",
       "4             236.5             137             12.0              2   \n",
       "\n",
       "  CustomerServiceCalls TotalCall TotalHighBandwidthMinutes  \\\n",
       "0                    0       354                       705   \n",
       "1                    5       326                       292   \n",
       "2                    2       324                      1840   \n",
       "3                    0       228                      1389   \n",
       "4                    1       294                       170   \n",
       "\n",
       "  TotalHighLatencyMinutes TotalRevenue Churn  \n",
       "0                     119        593.3    No  \n",
       "1                      75        280.9   Yes  \n",
       "2                     257        571.5    No  \n",
       "3                     180       7904.3    No  \n",
       "4                       1        340.4    No  \n",
       "\n",
       "[5 rows x 35 columns]"
      ]
     },
     "execution_count": 2,
     "metadata": {},
     "output_type": "execute_result"
    }
   ],
   "source": [
    "df = pd.read_csv('telco_churn_dataset - telco_churn_dataset.csv')\n",
    "df.head()"
   ]
  },
  {
   "cell_type": "code",
   "execution_count": 3,
   "metadata": {},
   "outputs": [
    {
     "name": "stdout",
     "output_type": "stream",
     "text": [
      "<class 'pandas.core.frame.DataFrame'>\n",
      "RangeIndex: 3333 entries, 0 to 3332\n",
      "Data columns (total 35 columns):\n",
      "customerID                   3333 non-null object\n",
      "gender                       3333 non-null object\n",
      "SeniorCitizen                3333 non-null int64\n",
      "MaritalStatus                3333 non-null object\n",
      "Dependents                   3333 non-null object\n",
      "tenure                       3333 non-null int64\n",
      "PhoneService                 3333 non-null object\n",
      "MultipleLines                3333 non-null object\n",
      "InternetService              3333 non-null object\n",
      "OnlineSecurity               3333 non-null object\n",
      "OnlineBackup                 3333 non-null object\n",
      "DeviceProtection             3333 non-null object\n",
      "TechSupport                  3333 non-null object\n",
      "StreamingTV                  3333 non-null object\n",
      "StreamingMovies              3333 non-null object\n",
      "Contract                     3333 non-null object\n",
      "PaperlessBilling             3333 non-null object\n",
      "PaymentMethod                3333 non-null object\n",
      "InternationalPlan            3333 non-null object\n",
      "VoiceMailPlan                3333 non-null object\n",
      "NumbervMailMessages          3333 non-null int64\n",
      "TotalDayMinutes              3333 non-null float64\n",
      "TotalDayCalls                3333 non-null int64\n",
      "TotalEveMinutes              3333 non-null float64\n",
      "TotalEveCalls                3333 non-null int64\n",
      "TotalNightMinutes            3333 non-null float64\n",
      "TotalNightCalls              3333 non-null int64\n",
      "TotalIntlMinutes             3333 non-null float64\n",
      "TotalIntlCalls               3333 non-null int64\n",
      "CustomerServiceCalls         3333 non-null int64\n",
      "TotalCall                    3333 non-null int64\n",
      "TotalHighBandwidthMinutes    3333 non-null int64\n",
      "TotalHighLatencyMinutes      3333 non-null int64\n",
      "TotalRevenue                 3328 non-null float64\n",
      "Churn                        3333 non-null object\n",
      "dtypes: float64(5), int64(11), object(19)\n",
      "memory usage: 911.5+ KB\n"
     ]
    }
   ],
   "source": [
    "df.info()"
   ]
  },
  {
   "cell_type": "code",
   "execution_count": 4,
   "metadata": {},
   "outputs": [
    {
     "data": {
      "text/plain": [
       "customerID                   0\n",
       "gender                       0\n",
       "SeniorCitizen                0\n",
       "MaritalStatus                0\n",
       "Dependents                   0\n",
       "tenure                       0\n",
       "PhoneService                 0\n",
       "MultipleLines                0\n",
       "InternetService              0\n",
       "OnlineSecurity               0\n",
       "OnlineBackup                 0\n",
       "DeviceProtection             0\n",
       "TechSupport                  0\n",
       "StreamingTV                  0\n",
       "StreamingMovies              0\n",
       "Contract                     0\n",
       "PaperlessBilling             0\n",
       "PaymentMethod                0\n",
       "InternationalPlan            0\n",
       "VoiceMailPlan                0\n",
       "NumbervMailMessages          0\n",
       "TotalDayMinutes              0\n",
       "TotalDayCalls                0\n",
       "TotalEveMinutes              0\n",
       "TotalEveCalls                0\n",
       "TotalNightMinutes            0\n",
       "TotalNightCalls              0\n",
       "TotalIntlMinutes             0\n",
       "TotalIntlCalls               0\n",
       "CustomerServiceCalls         0\n",
       "TotalCall                    0\n",
       "TotalHighBandwidthMinutes    0\n",
       "TotalHighLatencyMinutes      0\n",
       "TotalRevenue                 5\n",
       "Churn                        0\n",
       "dtype: int64"
      ]
     },
     "execution_count": 4,
     "metadata": {},
     "output_type": "execute_result"
    }
   ],
   "source": [
    "df.isna().sum()"
   ]
  },
  {
   "cell_type": "code",
   "execution_count": 5,
   "metadata": {},
   "outputs": [],
   "source": [
    "df.dropna(inplace = True)"
   ]
  },
  {
   "cell_type": "code",
   "execution_count": 6,
   "metadata": {},
   "outputs": [
    {
     "data": {
      "text/plain": [
       "(3328, 35)"
      ]
     },
     "execution_count": 6,
     "metadata": {},
     "output_type": "execute_result"
    }
   ],
   "source": [
    "df.shape"
   ]
  },
  {
   "cell_type": "code",
   "execution_count": 7,
   "metadata": {},
   "outputs": [
    {
     "data": {
      "text/plain": [
       "No     2675\n",
       "Yes     653\n",
       "Name: Churn, dtype: int64"
      ]
     },
     "execution_count": 7,
     "metadata": {},
     "output_type": "execute_result"
    }
   ],
   "source": [
    "df.Churn.value_counts()"
   ]
  },
  {
   "cell_type": "code",
   "execution_count": 8,
   "metadata": {},
   "outputs": [
    {
     "data": {
      "text/plain": [
       "Index(['SeniorCitizen', 'tenure', 'NumbervMailMessages', 'TotalDayMinutes',\n",
       "       'TotalDayCalls', 'TotalEveMinutes', 'TotalEveCalls',\n",
       "       'TotalNightMinutes', 'TotalNightCalls', 'TotalIntlMinutes',\n",
       "       'TotalIntlCalls', 'CustomerServiceCalls', 'TotalCall',\n",
       "       'TotalHighBandwidthMinutes', 'TotalHighLatencyMinutes', 'TotalRevenue'],\n",
       "      dtype='object')"
      ]
     },
     "execution_count": 8,
     "metadata": {},
     "output_type": "execute_result"
    }
   ],
   "source": [
    "continuous = df.describe().columns\n",
    "continuous"
   ]
  },
  {
   "cell_type": "markdown",
   "metadata": {},
   "source": [
    "## Is there a higher average tenure with people who stay or leave?"
   ]
  },
  {
   "cell_type": "code",
   "execution_count": 9,
   "metadata": {},
   "outputs": [],
   "source": [
    "tenure_churn = df.drop(df.columns.difference(['tenure','Churn']), 1)"
   ]
  },
  {
   "cell_type": "code",
   "execution_count": 10,
   "metadata": {},
   "outputs": [
    {
     "data": {
      "text/plain": [
       "31.377570093457944"
      ]
     },
     "execution_count": 10,
     "metadata": {},
     "output_type": "execute_result"
    }
   ],
   "source": [
    "no_churn = tenure_churn.loc[tenure_churn['Churn'] == 'No']\n",
    "no_churn.tenure.mean()"
   ]
  },
  {
   "cell_type": "code",
   "execution_count": 11,
   "metadata": {},
   "outputs": [
    {
     "data": {
      "text/plain": [
       "14.385911179173048"
      ]
     },
     "execution_count": 11,
     "metadata": {},
     "output_type": "execute_result"
    }
   ],
   "source": [
    "yes_churn = tenure_churn.loc[tenure_churn['Churn'] == 'Yes']\n",
    "yes_churn.tenure.mean()"
   ]
  },
  {
   "cell_type": "code",
   "execution_count": 12,
   "metadata": {},
   "outputs": [],
   "source": [
    "# There is a higher average tenure amongst no churn group, meaning people leave quicker"
   ]
  },
  {
   "cell_type": "markdown",
   "metadata": {},
   "source": [
    "## Are more people leaving with a higher average or median bill?"
   ]
  },
  {
   "cell_type": "markdown",
   "metadata": {},
   "source": [
    "### Average"
   ]
  },
  {
   "cell_type": "code",
   "execution_count": 13,
   "metadata": {},
   "outputs": [
    {
     "data": {
      "text/html": [
       "<div>\n",
       "<style scoped>\n",
       "    .dataframe tbody tr th:only-of-type {\n",
       "        vertical-align: middle;\n",
       "    }\n",
       "\n",
       "    .dataframe tbody tr th {\n",
       "        vertical-align: top;\n",
       "    }\n",
       "\n",
       "    .dataframe thead th {\n",
       "        text-align: right;\n",
       "    }\n",
       "</style>\n",
       "<table border=\"1\" class=\"dataframe\">\n",
       "  <thead>\n",
       "    <tr style=\"text-align: right;\">\n",
       "      <th></th>\n",
       "      <th>TotalRevenue</th>\n",
       "      <th>Churn</th>\n",
       "    </tr>\n",
       "  </thead>\n",
       "  <tbody>\n",
       "    <tr>\n",
       "      <td>0</td>\n",
       "      <td>593.3</td>\n",
       "      <td>No</td>\n",
       "    </tr>\n",
       "    <tr>\n",
       "      <td>1</td>\n",
       "      <td>280.9</td>\n",
       "      <td>Yes</td>\n",
       "    </tr>\n",
       "    <tr>\n",
       "      <td>2</td>\n",
       "      <td>571.5</td>\n",
       "      <td>No</td>\n",
       "    </tr>\n",
       "    <tr>\n",
       "      <td>3</td>\n",
       "      <td>7904.3</td>\n",
       "      <td>No</td>\n",
       "    </tr>\n",
       "    <tr>\n",
       "      <td>4</td>\n",
       "      <td>340.4</td>\n",
       "      <td>No</td>\n",
       "    </tr>\n",
       "  </tbody>\n",
       "</table>\n",
       "</div>"
      ],
      "text/plain": [
       "   TotalRevenue Churn\n",
       "0         593.3    No\n",
       "1         280.9   Yes\n",
       "2         571.5    No\n",
       "3        7904.3    No\n",
       "4         340.4    No"
      ]
     },
     "execution_count": 13,
     "metadata": {},
     "output_type": "execute_result"
    }
   ],
   "source": [
    "revenue_churn = df.drop(df.columns.difference(['Churn', 'TotalRevenue']), 1)\n",
    "revenue_churn.head()"
   ]
  },
  {
   "cell_type": "code",
   "execution_count": 14,
   "metadata": {},
   "outputs": [
    {
     "data": {
      "text/plain": [
       "1797.4495700934567"
      ]
     },
     "execution_count": 14,
     "metadata": {},
     "output_type": "execute_result"
    }
   ],
   "source": [
    "no_churn = revenue_churn.loc[revenue_churn['Churn'] == 'No']\n",
    "no_churn.TotalRevenue.mean()"
   ]
  },
  {
   "cell_type": "code",
   "execution_count": 15,
   "metadata": {},
   "outputs": [
    {
     "data": {
      "text/plain": [
       "1164.7442572741188"
      ]
     },
     "execution_count": 15,
     "metadata": {},
     "output_type": "execute_result"
    }
   ],
   "source": [
    "yes_churn = revenue_churn.loc[tenure_churn['Churn'] == 'Yes']\n",
    "yes_churn.TotalRevenue.mean()"
   ]
  },
  {
   "cell_type": "code",
   "execution_count": 16,
   "metadata": {},
   "outputs": [],
   "source": [
    "# A higher average total_revenue amongst customers who do not leave"
   ]
  },
  {
   "cell_type": "markdown",
   "metadata": {},
   "source": [
    "### Median"
   ]
  },
  {
   "cell_type": "code",
   "execution_count": 17,
   "metadata": {},
   "outputs": [
    {
     "name": "stdout",
     "output_type": "stream",
     "text": [
      "978.0\n",
      "487.1\n"
     ]
    }
   ],
   "source": [
    "print(statistics.median(no_churn.TotalRevenue))\n",
    "print(statistics.median(yes_churn.TotalRevenue))"
   ]
  },
  {
   "cell_type": "code",
   "execution_count": 18,
   "metadata": {},
   "outputs": [],
   "source": [
    "# The people who leave have a lower median total_revenue then people who stay"
   ]
  },
  {
   "cell_type": "markdown",
   "metadata": {},
   "source": [
    "## Make ints astype floats"
   ]
  },
  {
   "cell_type": "code",
   "execution_count": 19,
   "metadata": {},
   "outputs": [],
   "source": [
    "def float_columns(df):\n",
    "    for col in df.columns:\n",
    "        if df[col].dtypes == 'int64':\n",
    "            df[col] = df[col].astype(float)"
   ]
  },
  {
   "cell_type": "code",
   "execution_count": 20,
   "metadata": {},
   "outputs": [],
   "source": [
    "float_columns(df)"
   ]
  },
  {
   "cell_type": "code",
   "execution_count": 21,
   "metadata": {},
   "outputs": [
    {
     "name": "stdout",
     "output_type": "stream",
     "text": [
      "<class 'pandas.core.frame.DataFrame'>\n",
      "Int64Index: 3328 entries, 0 to 3332\n",
      "Data columns (total 35 columns):\n",
      "customerID                   3328 non-null object\n",
      "gender                       3328 non-null object\n",
      "SeniorCitizen                3328 non-null float64\n",
      "MaritalStatus                3328 non-null object\n",
      "Dependents                   3328 non-null object\n",
      "tenure                       3328 non-null float64\n",
      "PhoneService                 3328 non-null object\n",
      "MultipleLines                3328 non-null object\n",
      "InternetService              3328 non-null object\n",
      "OnlineSecurity               3328 non-null object\n",
      "OnlineBackup                 3328 non-null object\n",
      "DeviceProtection             3328 non-null object\n",
      "TechSupport                  3328 non-null object\n",
      "StreamingTV                  3328 non-null object\n",
      "StreamingMovies              3328 non-null object\n",
      "Contract                     3328 non-null object\n",
      "PaperlessBilling             3328 non-null object\n",
      "PaymentMethod                3328 non-null object\n",
      "InternationalPlan            3328 non-null object\n",
      "VoiceMailPlan                3328 non-null object\n",
      "NumbervMailMessages          3328 non-null float64\n",
      "TotalDayMinutes              3328 non-null float64\n",
      "TotalDayCalls                3328 non-null float64\n",
      "TotalEveMinutes              3328 non-null float64\n",
      "TotalEveCalls                3328 non-null float64\n",
      "TotalNightMinutes            3328 non-null float64\n",
      "TotalNightCalls              3328 non-null float64\n",
      "TotalIntlMinutes             3328 non-null float64\n",
      "TotalIntlCalls               3328 non-null float64\n",
      "CustomerServiceCalls         3328 non-null float64\n",
      "TotalCall                    3328 non-null float64\n",
      "TotalHighBandwidthMinutes    3328 non-null float64\n",
      "TotalHighLatencyMinutes      3328 non-null float64\n",
      "TotalRevenue                 3328 non-null float64\n",
      "Churn                        3328 non-null object\n",
      "dtypes: float64(16), object(19)\n",
      "memory usage: 936.0+ KB\n"
     ]
    }
   ],
   "source": [
    "# check results to verify function worked correctly\n",
    "\n",
    "df.info()"
   ]
  },
  {
   "cell_type": "code",
   "execution_count": 22,
   "metadata": {},
   "outputs": [],
   "source": [
    "# look at all columns and drop unncessary ones\n",
    "pd.set_option('display.max_columns', None)\n",
    "df.drop(columns = ['gender', 'customerID'], inplace = True)"
   ]
  },
  {
   "cell_type": "markdown",
   "metadata": {},
   "source": [
    "## Split data and run a logistic regression model"
   ]
  },
  {
   "cell_type": "code",
   "execution_count": 23,
   "metadata": {},
   "outputs": [
    {
     "data": {
      "text/html": [
       "<div>\n",
       "<style scoped>\n",
       "    .dataframe tbody tr th:only-of-type {\n",
       "        vertical-align: middle;\n",
       "    }\n",
       "\n",
       "    .dataframe tbody tr th {\n",
       "        vertical-align: top;\n",
       "    }\n",
       "\n",
       "    .dataframe thead th {\n",
       "        text-align: right;\n",
       "    }\n",
       "</style>\n",
       "<table border=\"1\" class=\"dataframe\">\n",
       "  <thead>\n",
       "    <tr style=\"text-align: right;\">\n",
       "      <th></th>\n",
       "      <th>SeniorCitizen</th>\n",
       "      <th>MaritalStatus</th>\n",
       "      <th>Dependents</th>\n",
       "      <th>tenure</th>\n",
       "      <th>PhoneService</th>\n",
       "      <th>MultipleLines</th>\n",
       "      <th>InternetService</th>\n",
       "      <th>OnlineSecurity</th>\n",
       "      <th>OnlineBackup</th>\n",
       "      <th>DeviceProtection</th>\n",
       "      <th>TechSupport</th>\n",
       "      <th>StreamingTV</th>\n",
       "      <th>StreamingMovies</th>\n",
       "      <th>Contract</th>\n",
       "      <th>PaperlessBilling</th>\n",
       "      <th>PaymentMethod</th>\n",
       "      <th>InternationalPlan</th>\n",
       "      <th>VoiceMailPlan</th>\n",
       "      <th>NumbervMailMessages</th>\n",
       "      <th>TotalDayMinutes</th>\n",
       "      <th>TotalDayCalls</th>\n",
       "      <th>TotalEveMinutes</th>\n",
       "      <th>TotalEveCalls</th>\n",
       "      <th>TotalNightMinutes</th>\n",
       "      <th>TotalNightCalls</th>\n",
       "      <th>TotalIntlMinutes</th>\n",
       "      <th>TotalIntlCalls</th>\n",
       "      <th>CustomerServiceCalls</th>\n",
       "      <th>TotalCall</th>\n",
       "      <th>TotalHighBandwidthMinutes</th>\n",
       "      <th>TotalHighLatencyMinutes</th>\n",
       "      <th>TotalRevenue</th>\n",
       "      <th>Churn</th>\n",
       "    </tr>\n",
       "  </thead>\n",
       "  <tbody>\n",
       "    <tr>\n",
       "      <td>0</td>\n",
       "      <td>0.0</td>\n",
       "      <td>Yes</td>\n",
       "      <td>Yes</td>\n",
       "      <td>9.0</td>\n",
       "      <td>Yes</td>\n",
       "      <td>No</td>\n",
       "      <td>DSL</td>\n",
       "      <td>No</td>\n",
       "      <td>Yes</td>\n",
       "      <td>No</td>\n",
       "      <td>Yes</td>\n",
       "      <td>Yes</td>\n",
       "      <td>No</td>\n",
       "      <td>One year</td>\n",
       "      <td>Yes</td>\n",
       "      <td>Mailed check</td>\n",
       "      <td>No</td>\n",
       "      <td>No</td>\n",
       "      <td>0.0</td>\n",
       "      <td>168.8</td>\n",
       "      <td>137.0</td>\n",
       "      <td>241.4</td>\n",
       "      <td>107.0</td>\n",
       "      <td>204.8</td>\n",
       "      <td>106.0</td>\n",
       "      <td>15.5</td>\n",
       "      <td>4.0</td>\n",
       "      <td>0.0</td>\n",
       "      <td>354.0</td>\n",
       "      <td>705.0</td>\n",
       "      <td>119.0</td>\n",
       "      <td>593.3</td>\n",
       "      <td>No</td>\n",
       "    </tr>\n",
       "    <tr>\n",
       "      <td>1</td>\n",
       "      <td>0.0</td>\n",
       "      <td>No</td>\n",
       "      <td>No</td>\n",
       "      <td>4.0</td>\n",
       "      <td>Yes</td>\n",
       "      <td>No</td>\n",
       "      <td>Fiber optic</td>\n",
       "      <td>No</td>\n",
       "      <td>No</td>\n",
       "      <td>Yes</td>\n",
       "      <td>No</td>\n",
       "      <td>No</td>\n",
       "      <td>No</td>\n",
       "      <td>Month-to-month</td>\n",
       "      <td>Yes</td>\n",
       "      <td>Electronic check</td>\n",
       "      <td>Yes</td>\n",
       "      <td>No</td>\n",
       "      <td>0.0</td>\n",
       "      <td>122.2</td>\n",
       "      <td>112.0</td>\n",
       "      <td>131.7</td>\n",
       "      <td>94.0</td>\n",
       "      <td>169.5</td>\n",
       "      <td>106.0</td>\n",
       "      <td>10.3</td>\n",
       "      <td>9.0</td>\n",
       "      <td>5.0</td>\n",
       "      <td>326.0</td>\n",
       "      <td>292.0</td>\n",
       "      <td>75.0</td>\n",
       "      <td>280.9</td>\n",
       "      <td>Yes</td>\n",
       "    </tr>\n",
       "    <tr>\n",
       "      <td>2</td>\n",
       "      <td>0.0</td>\n",
       "      <td>No</td>\n",
       "      <td>Yes</td>\n",
       "      <td>9.0</td>\n",
       "      <td>Yes</td>\n",
       "      <td>No</td>\n",
       "      <td>DSL</td>\n",
       "      <td>No</td>\n",
       "      <td>No</td>\n",
       "      <td>No</td>\n",
       "      <td>Yes</td>\n",
       "      <td>Yes</td>\n",
       "      <td>Yes</td>\n",
       "      <td>Month-to-month</td>\n",
       "      <td>Yes</td>\n",
       "      <td>Credit card (automatic)</td>\n",
       "      <td>No</td>\n",
       "      <td>Yes</td>\n",
       "      <td>36.0</td>\n",
       "      <td>178.7</td>\n",
       "      <td>134.0</td>\n",
       "      <td>178.6</td>\n",
       "      <td>102.0</td>\n",
       "      <td>126.8</td>\n",
       "      <td>82.0</td>\n",
       "      <td>8.0</td>\n",
       "      <td>4.0</td>\n",
       "      <td>2.0</td>\n",
       "      <td>324.0</td>\n",
       "      <td>1840.0</td>\n",
       "      <td>257.0</td>\n",
       "      <td>571.5</td>\n",
       "      <td>No</td>\n",
       "    </tr>\n",
       "    <tr>\n",
       "      <td>3</td>\n",
       "      <td>1.0</td>\n",
       "      <td>Yes</td>\n",
       "      <td>No</td>\n",
       "      <td>71.0</td>\n",
       "      <td>Yes</td>\n",
       "      <td>No</td>\n",
       "      <td>Fiber optic</td>\n",
       "      <td>Yes</td>\n",
       "      <td>Yes</td>\n",
       "      <td>Yes</td>\n",
       "      <td>Yes</td>\n",
       "      <td>Yes</td>\n",
       "      <td>Yes</td>\n",
       "      <td>Two year</td>\n",
       "      <td>Yes</td>\n",
       "      <td>Bank transfer (automatic)</td>\n",
       "      <td>No</td>\n",
       "      <td>No</td>\n",
       "      <td>0.0</td>\n",
       "      <td>190.2</td>\n",
       "      <td>68.0</td>\n",
       "      <td>262.2</td>\n",
       "      <td>64.0</td>\n",
       "      <td>130.0</td>\n",
       "      <td>92.0</td>\n",
       "      <td>8.8</td>\n",
       "      <td>4.0</td>\n",
       "      <td>0.0</td>\n",
       "      <td>228.0</td>\n",
       "      <td>1389.0</td>\n",
       "      <td>180.0</td>\n",
       "      <td>7904.3</td>\n",
       "      <td>No</td>\n",
       "    </tr>\n",
       "    <tr>\n",
       "      <td>4</td>\n",
       "      <td>1.0</td>\n",
       "      <td>No</td>\n",
       "      <td>No</td>\n",
       "      <td>7.0</td>\n",
       "      <td>Yes</td>\n",
       "      <td>No</td>\n",
       "      <td>DSL</td>\n",
       "      <td>Yes</td>\n",
       "      <td>No</td>\n",
       "      <td>No</td>\n",
       "      <td>No</td>\n",
       "      <td>No</td>\n",
       "      <td>No</td>\n",
       "      <td>Month-to-month</td>\n",
       "      <td>Yes</td>\n",
       "      <td>Electronic check</td>\n",
       "      <td>No</td>\n",
       "      <td>No</td>\n",
       "      <td>0.0</td>\n",
       "      <td>67.7</td>\n",
       "      <td>68.0</td>\n",
       "      <td>195.7</td>\n",
       "      <td>86.0</td>\n",
       "      <td>236.5</td>\n",
       "      <td>137.0</td>\n",
       "      <td>12.0</td>\n",
       "      <td>2.0</td>\n",
       "      <td>1.0</td>\n",
       "      <td>294.0</td>\n",
       "      <td>170.0</td>\n",
       "      <td>1.0</td>\n",
       "      <td>340.4</td>\n",
       "      <td>No</td>\n",
       "    </tr>\n",
       "  </tbody>\n",
       "</table>\n",
       "</div>"
      ],
      "text/plain": [
       "   SeniorCitizen MaritalStatus Dependents  tenure PhoneService MultipleLines  \\\n",
       "0            0.0           Yes        Yes     9.0          Yes            No   \n",
       "1            0.0            No         No     4.0          Yes            No   \n",
       "2            0.0            No        Yes     9.0          Yes            No   \n",
       "3            1.0           Yes         No    71.0          Yes            No   \n",
       "4            1.0            No         No     7.0          Yes            No   \n",
       "\n",
       "  InternetService OnlineSecurity OnlineBackup DeviceProtection TechSupport  \\\n",
       "0             DSL             No          Yes               No         Yes   \n",
       "1     Fiber optic             No           No              Yes          No   \n",
       "2             DSL             No           No               No         Yes   \n",
       "3     Fiber optic            Yes          Yes              Yes         Yes   \n",
       "4             DSL            Yes           No               No          No   \n",
       "\n",
       "  StreamingTV StreamingMovies        Contract PaperlessBilling  \\\n",
       "0         Yes              No        One year              Yes   \n",
       "1          No              No  Month-to-month              Yes   \n",
       "2         Yes             Yes  Month-to-month              Yes   \n",
       "3         Yes             Yes        Two year              Yes   \n",
       "4          No              No  Month-to-month              Yes   \n",
       "\n",
       "               PaymentMethod InternationalPlan VoiceMailPlan  \\\n",
       "0               Mailed check                No            No   \n",
       "1           Electronic check               Yes            No   \n",
       "2    Credit card (automatic)                No           Yes   \n",
       "3  Bank transfer (automatic)                No            No   \n",
       "4           Electronic check                No            No   \n",
       "\n",
       "   NumbervMailMessages  TotalDayMinutes  TotalDayCalls  TotalEveMinutes  \\\n",
       "0                  0.0            168.8          137.0            241.4   \n",
       "1                  0.0            122.2          112.0            131.7   \n",
       "2                 36.0            178.7          134.0            178.6   \n",
       "3                  0.0            190.2           68.0            262.2   \n",
       "4                  0.0             67.7           68.0            195.7   \n",
       "\n",
       "   TotalEveCalls  TotalNightMinutes  TotalNightCalls  TotalIntlMinutes  \\\n",
       "0          107.0              204.8            106.0              15.5   \n",
       "1           94.0              169.5            106.0              10.3   \n",
       "2          102.0              126.8             82.0               8.0   \n",
       "3           64.0              130.0             92.0               8.8   \n",
       "4           86.0              236.5            137.0              12.0   \n",
       "\n",
       "   TotalIntlCalls  CustomerServiceCalls  TotalCall  TotalHighBandwidthMinutes  \\\n",
       "0             4.0                   0.0      354.0                      705.0   \n",
       "1             9.0                   5.0      326.0                      292.0   \n",
       "2             4.0                   2.0      324.0                     1840.0   \n",
       "3             4.0                   0.0      228.0                     1389.0   \n",
       "4             2.0                   1.0      294.0                      170.0   \n",
       "\n",
       "   TotalHighLatencyMinutes  TotalRevenue Churn  \n",
       "0                    119.0         593.3    No  \n",
       "1                     75.0         280.9   Yes  \n",
       "2                    257.0         571.5    No  \n",
       "3                    180.0        7904.3    No  \n",
       "4                      1.0         340.4    No  "
      ]
     },
     "execution_count": 23,
     "metadata": {},
     "output_type": "execute_result"
    }
   ],
   "source": [
    "df.head()"
   ]
  },
  {
   "cell_type": "code",
   "execution_count": 24,
   "metadata": {},
   "outputs": [],
   "source": [
    "y = df['Churn']\n",
    "X = df.drop(columns = ['Churn', 'tenure'], axis = 1)"
   ]
  },
  {
   "cell_type": "markdown",
   "metadata": {},
   "source": [
    "## Make categorical variable ordinal with LabelEncoder then OneHotEncoder"
   ]
  },
  {
   "cell_type": "code",
   "execution_count": 25,
   "metadata": {},
   "outputs": [],
   "source": [
    "cat = X.select_dtypes(include=['object','category'])\n",
    "cont = X.select_dtypes(exclude=['object','category'])"
   ]
  },
  {
   "cell_type": "code",
   "execution_count": 26,
   "metadata": {},
   "outputs": [],
   "source": [
    "enc = OneHotEncoder(categories='auto', drop = 'first')\n",
    "X = enc.fit_transform(cat).toarray()"
   ]
  },
  {
   "cell_type": "code",
   "execution_count": 27,
   "metadata": {},
   "outputs": [
    {
     "data": {
      "text/plain": [
       "array([[1., 1., 0., ..., 1., 0., 0.],\n",
       "       [0., 0., 0., ..., 0., 1., 0.],\n",
       "       [0., 1., 0., ..., 0., 0., 1.],\n",
       "       ...,\n",
       "       [0., 0., 0., ..., 1., 0., 0.],\n",
       "       [0., 0., 0., ..., 1., 0., 1.],\n",
       "       [1., 1., 0., ..., 1., 0., 0.]])"
      ]
     },
     "execution_count": 27,
     "metadata": {},
     "output_type": "execute_result"
    }
   ],
   "source": [
    "X"
   ]
  },
  {
   "cell_type": "code",
   "execution_count": 28,
   "metadata": {},
   "outputs": [],
   "source": [
    "cat_df=pd.DataFrame(X, columns = enc.get_feature_names(cat.columns))"
   ]
  },
  {
   "cell_type": "code",
   "execution_count": 29,
   "metadata": {},
   "outputs": [
    {
     "data": {
      "text/plain": [
       "SeniorCitizen                0\n",
       "NumbervMailMessages          0\n",
       "TotalDayMinutes              0\n",
       "TotalDayCalls                0\n",
       "TotalEveMinutes              0\n",
       "TotalEveCalls                0\n",
       "TotalNightMinutes            0\n",
       "TotalNightCalls              0\n",
       "TotalIntlMinutes             0\n",
       "TotalIntlCalls               0\n",
       "CustomerServiceCalls         0\n",
       "TotalCall                    0\n",
       "TotalHighBandwidthMinutes    0\n",
       "TotalHighLatencyMinutes      0\n",
       "TotalRevenue                 0\n",
       "dtype: int64"
      ]
     },
     "execution_count": 29,
     "metadata": {},
     "output_type": "execute_result"
    }
   ],
   "source": [
    "cont.isna().sum()"
   ]
  },
  {
   "cell_type": "code",
   "execution_count": 30,
   "metadata": {},
   "outputs": [],
   "source": [
    "combined = pd.concat([cat_df, cont, y], axis = 1)"
   ]
  },
  {
   "cell_type": "code",
   "execution_count": 31,
   "metadata": {},
   "outputs": [],
   "source": [
    "combined.dropna(inplace = True)"
   ]
  },
  {
   "cell_type": "markdown",
   "metadata": {},
   "source": [
    "## Logistic Regression on Data"
   ]
  },
  {
   "cell_type": "code",
   "execution_count": 32,
   "metadata": {},
   "outputs": [],
   "source": [
    "X_train, X_test, y_train, y_test = train_test_split(X,y , test_size = 0.2)"
   ]
  },
  {
   "cell_type": "code",
   "execution_count": 33,
   "metadata": {},
   "outputs": [],
   "source": [
    "lr = LogisticRegression()"
   ]
  },
  {
   "cell_type": "code",
   "execution_count": 34,
   "metadata": {},
   "outputs": [
    {
     "name": "stderr",
     "output_type": "stream",
     "text": [
      "/Users/joseph/opt/anaconda3/lib/python3.7/site-packages/sklearn/linear_model/logistic.py:432: FutureWarning: Default solver will be changed to 'lbfgs' in 0.22. Specify a solver to silence this warning.\n",
      "  FutureWarning)\n"
     ]
    },
    {
     "data": {
      "text/plain": [
       "LogisticRegression(C=1.0, class_weight=None, dual=False, fit_intercept=True,\n",
       "                   intercept_scaling=1, l1_ratio=None, max_iter=100,\n",
       "                   multi_class='warn', n_jobs=None, penalty='l2',\n",
       "                   random_state=None, solver='warn', tol=0.0001, verbose=0,\n",
       "                   warm_start=False)"
      ]
     },
     "execution_count": 34,
     "metadata": {},
     "output_type": "execute_result"
    }
   ],
   "source": [
    "lr.fit(X_train,y_train)"
   ]
  },
  {
   "cell_type": "code",
   "execution_count": 35,
   "metadata": {},
   "outputs": [],
   "source": [
    "y_hat = lr.predict(X_train)"
   ]
  },
  {
   "cell_type": "code",
   "execution_count": 36,
   "metadata": {},
   "outputs": [
    {
     "data": {
      "text/plain": [
       "array([[1., 1., 0., ..., 0., 0., 0.],\n",
       "       [0., 0., 0., ..., 0., 1., 1.],\n",
       "       [0., 0., 0., ..., 0., 0., 0.],\n",
       "       ...,\n",
       "       [1., 0., 1., ..., 0., 0., 1.],\n",
       "       [0., 0., 0., ..., 1., 0., 0.],\n",
       "       [1., 1., 0., ..., 1., 0., 1.]])"
      ]
     },
     "execution_count": 36,
     "metadata": {},
     "output_type": "execute_result"
    }
   ],
   "source": [
    "X_train"
   ]
  },
  {
   "cell_type": "code",
   "execution_count": 37,
   "metadata": {},
   "outputs": [
    {
     "data": {
      "text/plain": [
       "array(['No', 'Yes', 'Yes', ..., 'No', 'No', 'No'], dtype=object)"
      ]
     },
     "execution_count": 37,
     "metadata": {},
     "output_type": "execute_result"
    }
   ],
   "source": [
    "y_hat"
   ]
  },
  {
   "cell_type": "code",
   "execution_count": 38,
   "metadata": {},
   "outputs": [],
   "source": [
    "from sklearn.metrics import f1_score, accuracy_score, confusion_matrix"
   ]
  },
  {
   "cell_type": "code",
   "execution_count": 39,
   "metadata": {},
   "outputs": [
    {
     "data": {
      "text/html": [
       "<div>\n",
       "<style scoped>\n",
       "    .dataframe tbody tr th:only-of-type {\n",
       "        vertical-align: middle;\n",
       "    }\n",
       "\n",
       "    .dataframe tbody tr th {\n",
       "        vertical-align: top;\n",
       "    }\n",
       "\n",
       "    .dataframe thead th {\n",
       "        text-align: right;\n",
       "    }\n",
       "</style>\n",
       "<table border=\"1\" class=\"dataframe\">\n",
       "  <thead>\n",
       "    <tr style=\"text-align: right;\">\n",
       "      <th>Predicted</th>\n",
       "      <th>No</th>\n",
       "      <th>Yes</th>\n",
       "    </tr>\n",
       "    <tr>\n",
       "      <th>True</th>\n",
       "      <th></th>\n",
       "      <th></th>\n",
       "    </tr>\n",
       "  </thead>\n",
       "  <tbody>\n",
       "    <tr>\n",
       "      <td>No</td>\n",
       "      <td>1988</td>\n",
       "      <td>141</td>\n",
       "    </tr>\n",
       "    <tr>\n",
       "      <td>Yes</td>\n",
       "      <td>272</td>\n",
       "      <td>261</td>\n",
       "    </tr>\n",
       "  </tbody>\n",
       "</table>\n",
       "</div>"
      ],
      "text/plain": [
       "Predicted    No  Yes\n",
       "True                \n",
       "No         1988  141\n",
       "Yes         272  261"
      ]
     },
     "execution_count": 39,
     "metadata": {},
     "output_type": "execute_result"
    }
   ],
   "source": [
    "con_mat = pd.crosstab(y_train, y_hat, rownames = ['True'], colnames = ['Predicted'])\n",
    "con_mat"
   ]
  },
  {
   "cell_type": "code",
   "execution_count": 40,
   "metadata": {},
   "outputs": [
    {
     "data": {
      "text/plain": [
       "0.5582887700534759"
      ]
     },
     "execution_count": 40,
     "metadata": {},
     "output_type": "execute_result"
    }
   ],
   "source": [
    "f1 = f1_score(y_train, y_hat, pos_label = 'Yes')\n",
    "f1"
   ]
  },
  {
   "cell_type": "code",
   "execution_count": 41,
   "metadata": {},
   "outputs": [
    {
     "data": {
      "text/plain": [
       "0.8448534936138242"
      ]
     },
     "execution_count": 41,
     "metadata": {},
     "output_type": "execute_result"
    }
   ],
   "source": [
    "acc = accuracy_score(y_train, y_hat)\n",
    "acc"
   ]
  },
  {
   "cell_type": "markdown",
   "metadata": {},
   "source": [
    "## Using AdaBoostClassifier, GradientBoostingClassifier, and XGBClassifier"
   ]
  },
  {
   "cell_type": "code",
   "execution_count": 42,
   "metadata": {},
   "outputs": [
    {
     "data": {
      "text/plain": [
       "AdaBoostClassifier(algorithm='SAMME.R', base_estimator=None, learning_rate=1.0,\n",
       "                   n_estimators=50, random_state=42)"
      ]
     },
     "execution_count": 42,
     "metadata": {},
     "output_type": "execute_result"
    }
   ],
   "source": [
    "abc = AdaBoostClassifier(random_state= 42)\n",
    "abc.fit(X_train, y_train)"
   ]
  },
  {
   "cell_type": "code",
   "execution_count": 43,
   "metadata": {},
   "outputs": [
    {
     "name": "stderr",
     "output_type": "stream",
     "text": [
      "/Users/joseph/opt/anaconda3/lib/python3.7/site-packages/sklearn/model_selection/_split.py:1978: FutureWarning: The default value of cv will change from 3 to 5 in version 0.22. Specify it explicitly to silence this warning.\n",
      "  warnings.warn(CV_WARNING, FutureWarning)\n"
     ]
    },
    {
     "name": "stdout",
     "output_type": "stream",
     "text": [
      "average cross val score is :0.8362083867162874\n",
      "abc score is: 0.8433508640120211\n"
     ]
    }
   ],
   "source": [
    "print(f'average cross val score is :{cross_val_score(abc, X_train,y_train).mean()}')\n",
    "print(f'abc score is: {abc.score(X_train, y_train)}')"
   ]
  },
  {
   "cell_type": "code",
   "execution_count": 44,
   "metadata": {},
   "outputs": [
    {
     "data": {
      "text/plain": [
       "array([0.06, 0.02, 0.02, 0.1 , 0.  , 0.  , 0.06, 0.  , 0.04, 0.02, 0.06,\n",
       "       0.  , 0.02, 0.  , 0.08, 0.02, 0.08, 0.04, 0.04, 0.02, 0.08, 0.1 ,\n",
       "       0.06, 0.04, 0.04])"
      ]
     },
     "execution_count": 44,
     "metadata": {},
     "output_type": "execute_result"
    }
   ],
   "source": [
    "abc.feature_importances_"
   ]
  },
  {
   "cell_type": "code",
   "execution_count": 45,
   "metadata": {},
   "outputs": [
    {
     "data": {
      "text/plain": [
       "Text(0.5, 0, \"['SeniorCitizen', 'MaritalStatus', 'Dependents', 'PhoneService', 'MultipleLines', 'InternetService', 'OnlineSecurity', 'OnlineBackup', 'DeviceProtection', 'TechSupport', 'StreamingTV', 'StreamingMovies', 'Contract', 'PaperlessBilling', 'PaymentMethod', 'InternationalPlan', 'VoiceMailPlan', 'NumbervMailMessages', 'TotalDayMinutes', 'TotalDayCalls', 'TotalEveMinutes', 'TotalEveCalls', 'TotalNightMinutes', 'TotalNightCalls', 'TotalIntlMinutes', 'TotalIntlCalls', 'CustomerServiceCalls', 'TotalCall', 'TotalHighBandwidthMinutes', 'TotalHighLatencyMinutes', 'TotalRevenue']\")"
      ]
     },
     "execution_count": 45,
     "metadata": {},
     "output_type": "execute_result"
    },
    {
     "data": {
      "image/png": "[encoded data removed]",
      "text/plain": [
       "<Figure size 1512x576 with 1 Axes>"
      ]
     },
     "metadata": {
      "needs_background": "light"
     },
     "output_type": "display_data"
    }
   ],
   "source": [
    "X = df.drop(columns = ['Churn', 'tenure'], axis = 1)\n",
    "plt.figure(figsize = (21,8))\n",
    "plt.bar(range(len(abc.feature_importances_)), abc.feature_importances_)\n",
    "plt.xlabel([Xi for Xi in X.columns])"
   ]
  },
  {
   "cell_type": "code",
   "execution_count": 315,
   "metadata": {},
   "outputs": [
    {
     "data": {
      "text/plain": [
       "'PaperlessBilling'"
      ]
     },
     "execution_count": 315,
     "metadata": {},
     "output_type": "execute_result"
    }
   ],
   "source": [
    "columns[14\n",
    "       ]"
   ]
  },
  {
   "cell_type": "code",
   "execution_count": 47,
   "metadata": {},
   "outputs": [
    {
     "data": {
      "text/plain": [
       "GradientBoostingClassifier(criterion='friedman_mse', init=None,\n",
       "                           learning_rate=0.1, loss='deviance', max_depth=3,\n",
       "                           max_features=None, max_leaf_nodes=None,\n",
       "                           min_impurity_decrease=0.0, min_impurity_split=None,\n",
       "                           min_samples_leaf=1, min_samples_split=2,\n",
       "                           min_weight_fraction_leaf=0.0, n_estimators=100,\n",
       "                           n_iter_no_change=None, presort='auto',\n",
       "                           random_state=42, subsample=1.0, tol=0.0001,\n",
       "                           validation_fraction=0.1, verbose=0,\n",
       "                           warm_start=False)"
      ]
     },
     "execution_count": 47,
     "metadata": {},
     "output_type": "execute_result"
    }
   ],
   "source": [
    "gbc = GradientBoostingClassifier(random_state=42)\n",
    "gbc.fit(X_train, y_train)"
   ]
  },
  {
   "cell_type": "code",
   "execution_count": 48,
   "metadata": {},
   "outputs": [
    {
     "name": "stderr",
     "output_type": "stream",
     "text": [
      "/Users/joseph/opt/anaconda3/lib/python3.7/site-packages/sklearn/model_selection/_split.py:1978: FutureWarning: The default value of cv will change from 3 to 5 in version 0.22. Specify it explicitly to silence this warning.\n",
      "  warnings.warn(CV_WARNING, FutureWarning)\n"
     ]
    },
    {
     "name": "stdout",
     "output_type": "stream",
     "text": [
      "average cross val score is:  0.839225794643402\n",
      "gbc score is:  0.8598797896318557\n"
     ]
    }
   ],
   "source": [
    "print('average cross val score is: ',cross_val_score(gbc, X_train, y_train).mean())\n",
    "print('gbc score is: ', gbc.score(X_train,y_train))"
   ]
  },
  {
   "cell_type": "code",
   "execution_count": 49,
   "metadata": {},
   "outputs": [
    {
     "data": {
      "text/plain": [
       "array([0.01044112, 0.00241828, 0.00902243, 0.26584428, 0.00183978,\n",
       "       0.00777875, 0.01038759, 0.00044371, 0.00390411, 0.00295097,\n",
       "       0.00956195, 0.00364062, 0.01453604, 0.00475736, 0.02125084,\n",
       "       0.00048849, 0.05447476, 0.20612488, 0.18269504, 0.014329  ,\n",
       "       0.00908639, 0.05443262, 0.00298574, 0.06955051, 0.03705474])"
      ]
     },
     "execution_count": 49,
     "metadata": {},
     "output_type": "execute_result"
    }
   ],
   "source": [
    "gbc.feature_importances_"
   ]
  },
  {
   "cell_type": "code",
   "execution_count": 50,
   "metadata": {},
   "outputs": [
    {
     "data": {
      "text/plain": [
       "Text(0.5, 0, \"['SeniorCitizen', 'MaritalStatus', 'Dependents', 'PhoneService', 'MultipleLines', 'InternetService', 'OnlineSecurity', 'OnlineBackup', 'DeviceProtection', 'TechSupport', 'StreamingTV', 'StreamingMovies', 'Contract', 'PaperlessBilling', 'PaymentMethod', 'InternationalPlan', 'VoiceMailPlan', 'NumbervMailMessages', 'TotalDayMinutes', 'TotalDayCalls', 'TotalEveMinutes', 'TotalEveCalls', 'TotalNightMinutes', 'TotalNightCalls', 'TotalIntlMinutes', 'TotalIntlCalls', 'CustomerServiceCalls', 'TotalCall', 'TotalHighBandwidthMinutes', 'TotalHighLatencyMinutes', 'TotalRevenue']\")"
      ]
     },
     "execution_count": 50,
     "metadata": {},
     "output_type": "execute_result"
    },
    {
     "data": {
      "image/png": "[encoded data removed]",
      "text/plain": [
       "<Figure size 1512x576 with 1 Axes>"
      ]
     },
     "metadata": {
      "needs_background": "light"
     },
     "output_type": "display_data"
    }
   ],
   "source": [
    "X = df.drop(columns = ['Churn', 'tenure'], axis = 1)\n",
    "plt.figure(figsize = (21,8))\n",
    "plt.bar(range(len(gbc.feature_importances_)), gbc.feature_importances_)\n",
    "plt.xlabel([Xi for Xi in X.columns])"
   ]
  },
  {
   "cell_type": "code",
   "execution_count": 53,
   "metadata": {},
   "outputs": [
    {
     "data": {
      "text/plain": [
       "'PhoneService'"
      ]
     },
     "execution_count": 53,
     "metadata": {},
     "output_type": "execute_result"
    }
   ],
   "source": [
    "columns = [Xi for Xi in X.columns]\n",
    "columns[3]"
   ]
  },
  {
   "cell_type": "code",
   "execution_count": 54,
   "metadata": {},
   "outputs": [
    {
     "data": {
      "text/plain": [
       "'NumbervMailMessages'"
      ]
     },
     "execution_count": 54,
     "metadata": {},
     "output_type": "execute_result"
    }
   ],
   "source": [
    "columns[17]"
   ]
  },
  {
   "cell_type": "code",
   "execution_count": 55,
   "metadata": {},
   "outputs": [
    {
     "data": {
      "text/plain": [
       "'TotalDayMinutes'"
      ]
     },
     "execution_count": 55,
     "metadata": {},
     "output_type": "execute_result"
    }
   ],
   "source": [
    "columns[18]"
   ]
  },
  {
   "cell_type": "code",
   "execution_count": 320,
   "metadata": {},
   "outputs": [],
   "source": [
    "# Based on the graph, the most important features are: Tenure, VoicemailPlan, NumberVmailMessages,\n",
    "# Totaleveminutes, and Totalnightmin"
   ]
  },
  {
   "cell_type": "code",
   "execution_count": 154,
   "metadata": {},
   "outputs": [],
   "source": [
    "xc = XGBClassifier()"
   ]
  },
  {
   "cell_type": "code",
   "execution_count": 155,
   "metadata": {},
   "outputs": [
    {
     "data": {
      "text/plain": [
       "XGBClassifier(base_score=0.5, booster='gbtree', colsample_bylevel=1,\n",
       "              colsample_bynode=1, colsample_bytree=1, gamma=0,\n",
       "              learning_rate=0.1, max_delta_step=0, max_depth=3,\n",
       "              min_child_weight=1, missing=None, n_estimators=100, n_jobs=1,\n",
       "              nthread=None, objective='binary:logistic', random_state=0,\n",
       "              reg_alpha=0, reg_lambda=1, scale_pos_weight=1, seed=None,\n",
       "              silent=None, subsample=1, verbosity=1)"
      ]
     },
     "execution_count": 155,
     "metadata": {},
     "output_type": "execute_result"
    }
   ],
   "source": [
    "xc.fit(X_train, y_train)"
   ]
  },
  {
   "cell_type": "code",
   "execution_count": 159,
   "metadata": {},
   "outputs": [
    {
     "name": "stderr",
     "output_type": "stream",
     "text": [
      "/Users/joseph/opt/anaconda3/lib/python3.7/site-packages/sklearn/model_selection/_split.py:1978: FutureWarning: The default value of cv will change from 3 to 5 in version 0.22. Specify it explicitly to silence this warning.\n",
      "  warnings.warn(CV_WARNING, FutureWarning)\n"
     ]
    },
    {
     "name": "stdout",
     "output_type": "stream",
     "text": [
      "average xc cross val score:  0.8418467791353924\n",
      "xc score:  0.8632607062359129\n"
     ]
    }
   ],
   "source": [
    "print('average xc cross val score: ', cross_val_score(xc, X_train, y_train).mean())\n",
    "print('xc score: ', xc.score(X_train,y_train))"
   ]
  },
  {
   "cell_type": "code",
   "execution_count": 182,
   "metadata": {},
   "outputs": [
    {
     "data": {
      "text/plain": [
       "numpy.ndarray"
      ]
     },
     "execution_count": 182,
     "metadata": {},
     "output_type": "execute_result"
    }
   ],
   "source": [
    "type(xc.feature_importances_ )"
   ]
  },
  {
   "cell_type": "code",
   "execution_count": 280,
   "metadata": {},
   "outputs": [
    {
     "data": {
      "text/plain": [
       "'MultipleLines'"
      ]
     },
     "execution_count": 280,
     "metadata": {},
     "output_type": "execute_result"
    }
   ],
   "source": [
    "columns[5]"
   ]
  },
  {
   "cell_type": "code",
   "execution_count": 181,
   "metadata": {},
   "outputs": [
    {
     "data": {
      "text/plain": [
       "Text(0.5, 0, \"['SeniorCitizen', 'MaritalStatus', 'Dependents', 'tenure', 'PhoneService', 'MultipleLines', 'InternetService', 'OnlineSecurity', 'OnlineBackup', 'DeviceProtection', 'TechSupport', 'StreamingTV', 'StreamingMovies', 'Contract', 'PaperlessBilling', 'PaymentMethod', 'InternationalPlan', 'VoiceMailPlan', 'NumbervMailMessages', 'TotalDayMinutes', 'TotalDayCalls', 'TotalEveMinutes', 'TotalEveCalls', 'TotalNightMinutes', 'TotalNightCalls', 'TotalIntlMinutes', 'TotalIntlCalls', 'CustomerServiceCalls', 'TotalCall', 'TotalHighBandwidthMinutes', 'TotalHighLatencyMinutes', 'TotalRevenue']\")"
      ]
     },
     "execution_count": 181,
     "metadata": {},
     "output_type": "execute_result"
    },
    {
     "data": {
      "image/png": "[encoded data removed]",
      "text/plain": [
       "<Figure size 1512x576 with 1 Axes>"
      ]
     },
     "metadata": {
      "needs_background": "light"
     },
     "output_type": "display_data"
    }
   ],
   "source": [
    "X = df.drop(columns = ['Churn'], axis = 1)\n",
    "plt.figure(figsize = (21,8))\n",
    "plt.bar(range(len(xc.feature_importances_)), xc.feature_importances_)\n",
    "plt.xlabel([Xi for Xi in X.columns])"
   ]
  },
  {
   "cell_type": "code",
   "execution_count": 282,
   "metadata": {},
   "outputs": [],
   "source": [
    "# Based on this graph, the most important features are: Tenure, MultipleLines, NumberVmailmessage, VoicemailPlan, \n",
    "#  and Totaleveminutes"
   ]
  },
  {
   "cell_type": "markdown",
   "metadata": {},
   "source": [
    "## Attempting to make scores better by dropping features"
   ]
  },
  {
   "cell_type": "code",
   "execution_count": 203,
   "metadata": {},
   "outputs": [],
   "source": [
    "X = df.drop(columns = ['Churn', 'MultipleLines', 'OnlineSecurity', 'DeviceProtection',\n",
    "                       'StreamingTV', 'Contract', 'PaymentMethod', 'TotalRevenue'])\n",
    "y = df['Churn']"
   ]
  },
  {
   "cell_type": "code",
   "execution_count": 190,
   "metadata": {
    "collapsed": true,
    "jupyter": {
     "outputs_hidden": true
    }
   },
   "outputs": [
    {
     "ename": "AttributeError",
     "evalue": "'numpy.ndarray' object has no attribute 'select_dtypes'",
     "output_type": "error",
     "traceback": [
      "\u001b[0;31m---------------------------------------------------------------------------\u001b[0m",
      "\u001b[0;31mAttributeError\u001b[0m                            Traceback (most recent call last)",
      "\u001b[0;32m<ipython-input-190-2dfb63605850>\u001b[0m in \u001b[0;36m<module>\u001b[0;34m\u001b[0m\n\u001b[0;32m----> 1\u001b[0;31m \u001b[0mcat\u001b[0m \u001b[0;34m=\u001b[0m \u001b[0mX\u001b[0m\u001b[0;34m.\u001b[0m\u001b[0mselect_dtypes\u001b[0m\u001b[0;34m(\u001b[0m\u001b[0minclude\u001b[0m\u001b[0;34m=\u001b[0m\u001b[0;34m[\u001b[0m\u001b[0;34m'object'\u001b[0m\u001b[0;34m,\u001b[0m\u001b[0;34m'category'\u001b[0m\u001b[0;34m]\u001b[0m\u001b[0;34m)\u001b[0m\u001b[0;34m\u001b[0m\u001b[0;34m\u001b[0m\u001b[0m\n\u001b[0m\u001b[1;32m      2\u001b[0m \u001b[0mcont\u001b[0m \u001b[0;34m=\u001b[0m \u001b[0mX\u001b[0m\u001b[0;34m.\u001b[0m\u001b[0mselect_dtypes\u001b[0m\u001b[0;34m(\u001b[0m\u001b[0mexclude\u001b[0m\u001b[0;34m=\u001b[0m\u001b[0;34m[\u001b[0m\u001b[0;34m'object'\u001b[0m\u001b[0;34m,\u001b[0m\u001b[0;34m'category'\u001b[0m\u001b[0;34m]\u001b[0m\u001b[0;34m)\u001b[0m\u001b[0;34m\u001b[0m\u001b[0;34m\u001b[0m\u001b[0m\n\u001b[1;32m      3\u001b[0m \u001b[0menc\u001b[0m \u001b[0;34m=\u001b[0m \u001b[0mOneHotEncoder\u001b[0m\u001b[0;34m(\u001b[0m\u001b[0mcategories\u001b[0m\u001b[0;34m=\u001b[0m\u001b[0;34m'auto'\u001b[0m\u001b[0;34m,\u001b[0m \u001b[0mdrop\u001b[0m \u001b[0;34m=\u001b[0m \u001b[0;34m'first'\u001b[0m\u001b[0;34m)\u001b[0m\u001b[0;34m\u001b[0m\u001b[0;34m\u001b[0m\u001b[0m\n\u001b[1;32m      4\u001b[0m \u001b[0mX\u001b[0m \u001b[0;34m=\u001b[0m \u001b[0menc\u001b[0m\u001b[0;34m.\u001b[0m\u001b[0mfit_transform\u001b[0m\u001b[0;34m(\u001b[0m\u001b[0mcat\u001b[0m\u001b[0;34m)\u001b[0m\u001b[0;34m.\u001b[0m\u001b[0mtoarray\u001b[0m\u001b[0;34m(\u001b[0m\u001b[0;34m)\u001b[0m\u001b[0;34m\u001b[0m\u001b[0;34m\u001b[0m\u001b[0m\n\u001b[1;32m      5\u001b[0m \u001b[0mcat_df\u001b[0m\u001b[0;34m=\u001b[0m\u001b[0mpd\u001b[0m\u001b[0;34m.\u001b[0m\u001b[0mDataFrame\u001b[0m\u001b[0;34m(\u001b[0m\u001b[0mX\u001b[0m\u001b[0;34m,\u001b[0m \u001b[0mcolumns\u001b[0m \u001b[0;34m=\u001b[0m \u001b[0menc\u001b[0m\u001b[0;34m.\u001b[0m\u001b[0mget_feature_names\u001b[0m\u001b[0;34m(\u001b[0m\u001b[0mcat\u001b[0m\u001b[0;34m.\u001b[0m\u001b[0mcolumns\u001b[0m\u001b[0;34m)\u001b[0m\u001b[0;34m)\u001b[0m\u001b[0;34m\u001b[0m\u001b[0;34m\u001b[0m\u001b[0m\n",
      "\u001b[0;31mAttributeError\u001b[0m: 'numpy.ndarray' object has no attribute 'select_dtypes'"
     ]
    }
   ],
   "source": [
    "cat = X.select_dtypes(include=['object','category'])\n",
    "cont = X.select_dtypes(exclude=['object','category'])\n",
    "enc = OneHotEncoder(categories='auto', drop = 'first')\n",
    "X = enc.fit_transform(cat).toarray()\n",
    "cat_df=pd.DataFrame(X, columns = enc.get_feature_names(cat.columns))\n",
    "combined = pd.concat([cat_df, cont, y], axis = 1)\n",
    "combined.dropna(inplace = True)\n"
   ]
  },
  {
   "cell_type": "code",
   "execution_count": 201,
   "metadata": {},
   "outputs": [],
   "source": [
    "X_train, X_test, y_train, y_test = train_test_split(X,y , test_size = 0.2)"
   ]
  },
  {
   "cell_type": "markdown",
   "metadata": {},
   "source": [
    "## Modeling on new transformed data and graphing"
   ]
  },
  {
   "cell_type": "code",
   "execution_count": 204,
   "metadata": {},
   "outputs": [
    {
     "name": "stderr",
     "output_type": "stream",
     "text": [
      "/Users/joseph/opt/anaconda3/lib/python3.7/site-packages/sklearn/linear_model/logistic.py:432: FutureWarning: Default solver will be changed to 'lbfgs' in 0.22. Specify a solver to silence this warning.\n",
      "  FutureWarning)\n"
     ]
    },
    {
     "data": {
      "text/plain": [
       "LogisticRegression(C=1.0, class_weight=None, dual=False, fit_intercept=True,\n",
       "                   intercept_scaling=1, l1_ratio=None, max_iter=100,\n",
       "                   multi_class='warn', n_jobs=None, penalty='l2',\n",
       "                   random_state=None, solver='warn', tol=0.0001, verbose=0,\n",
       "                   warm_start=False)"
      ]
     },
     "execution_count": 204,
     "metadata": {},
     "output_type": "execute_result"
    }
   ],
   "source": [
    "lr.fit(X_train,y_train)"
   ]
  },
  {
   "cell_type": "code",
   "execution_count": 205,
   "metadata": {},
   "outputs": [],
   "source": [
    "y_pred = lr.predict(X_train)"
   ]
  },
  {
   "cell_type": "code",
   "execution_count": 208,
   "metadata": {},
   "outputs": [
    {
     "data": {
      "text/plain": [
       "0.8129226145755072"
      ]
     },
     "execution_count": 208,
     "metadata": {},
     "output_type": "execute_result"
    }
   ],
   "source": [
    "# LogisticRegression on dropped features\n",
    "\n",
    "lr.score(X_train, y_train)"
   ]
  },
  {
   "cell_type": "code",
   "execution_count": 211,
   "metadata": {},
   "outputs": [
    {
     "data": {
      "text/plain": [
       "0.8223140495867769"
      ]
     },
     "execution_count": 211,
     "metadata": {},
     "output_type": "execute_result"
    }
   ],
   "source": [
    "gbc.fit(X_train, y_train)\n",
    "gbc.score(X_train, y_train)"
   ]
  },
  {
   "cell_type": "code",
   "execution_count": 213,
   "metadata": {},
   "outputs": [
    {
     "data": {
      "text/plain": [
       "0.8144252441773103"
      ]
     },
     "execution_count": 213,
     "metadata": {},
     "output_type": "execute_result"
    }
   ],
   "source": [
    "abc.fit(X_train, y_train)\n",
    "abc.score(X_train, y_train)"
   ]
  },
  {
   "cell_type": "code",
   "execution_count": 215,
   "metadata": {},
   "outputs": [
    {
     "data": {
      "text/plain": [
       "0.8223140495867769"
      ]
     },
     "execution_count": 215,
     "metadata": {},
     "output_type": "execute_result"
    }
   ],
   "source": [
    "xc.fit(X_train, y_train)\n",
    "xc.score(X_train, y_train)"
   ]
  },
  {
   "cell_type": "code",
   "execution_count": 218,
   "metadata": {},
   "outputs": [
    {
     "data": {
      "text/plain": [
       "Text(0.5, 0, \"['SeniorCitizen', 'MaritalStatus', 'Dependents', 'tenure', 'PhoneService', 'InternetService', 'OnlineBackup', 'TechSupport', 'StreamingMovies', 'PaperlessBilling', 'InternationalPlan', 'VoiceMailPlan', 'NumbervMailMessages', 'TotalDayMinutes', 'TotalDayCalls', 'TotalEveMinutes', 'TotalEveCalls', 'TotalNightMinutes', 'TotalNightCalls', 'TotalIntlMinutes', 'TotalIntlCalls', 'CustomerServiceCalls', 'TotalCall', 'TotalHighBandwidthMinutes', 'TotalHighLatencyMinutes']\")"
      ]
     },
     "execution_count": 218,
     "metadata": {},
     "output_type": "execute_result"
    },
    {
     "data": {
      "image/png": "[encoded data removed]",
      "text/plain": [
       "<Figure size 432x288 with 1 Axes>"
      ]
     },
     "metadata": {
      "needs_background": "light"
     },
     "output_type": "display_data"
    }
   ],
   "source": [
    "names = [Xi for Xi in X.columns]\n",
    "plt.bar(range(len(xc.feature_importances_)), xc.feature_importances_)\n",
    "plt.xlabel(names)"
   ]
  },
  {
   "cell_type": "markdown",
   "metadata": {},
   "source": [
    "Based on the graphs and scores, highest reason for churn is tenure. Followed by "
   ]
  },
  {
   "cell_type": "code",
   "execution_count": null,
   "metadata": {},
   "outputs": [],
   "source": []
  }
 ],
 "metadata": {
  "kernelspec": {
   "display_name": "Python 3",
   "language": "python",
   "name": "python3"
  },
  "language_info": {
   "codemirror_mode": {
    "name": "ipython",
    "version": 3
   },
   "file_extension": ".py",
   "mimetype": "text/x-python",
   "name": "python",
   "nbconvert_exporter": "python",
   "pygments_lexer": "ipython3",
   "version": "3.7.4"
  }
 },
 "nbformat": 4,
 "nbformat_minor": 4
}
