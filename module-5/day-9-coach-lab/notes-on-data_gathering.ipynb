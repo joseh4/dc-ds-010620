{
 "cells": [
  {
   "cell_type": "markdown",
   "metadata": {},
   "source": [
    "Goals/Objectives\n",
    "\n",
    "- extracting tables from html\n",
    "- extracting comments from html\n",
    "- pdf parser (?)"
   ]
  },
  {
   "cell_type": "code",
   "execution_count": 1,
   "metadata": {},
   "outputs": [
    {
     "name": "stdout",
     "output_type": "stream",
     "text": [
      "Collecting PyPDF2\n",
      "  Downloading PyPDF2-1.26.0.tar.gz (77 kB)\n",
      "\u001b[K     |████████████████████████████████| 77 kB 3.8 MB/s eta 0:00:01\n",
      "\u001b[?25hBuilding wheels for collected packages: PyPDF2\n",
      "  Building wheel for PyPDF2 (setup.py) ... \u001b[?25ldone\n",
      "\u001b[?25h  Created wheel for PyPDF2: filename=PyPDF2-1.26.0-py3-none-any.whl size=61084 sha256=d232e06919cb97a0855dcaae5e084a179752e13baf884bf2d81f8573ea65ac67\n",
      "  Stored in directory: /Users/joseph/Library/Caches/pip/wheels/80/1a/24/648467ade3a77ed20f35cfd2badd32134e96dd25ca811e64b3\n",
      "Successfully built PyPDF2\n",
      "Installing collected packages: PyPDF2\n",
      "Successfully installed PyPDF2-1.26.0\n"
     ]
    }
   ],
   "source": [
    "!pip install PyPDF2\n",
    "import PyPDF2"
   ]
  },
  {
   "cell_type": "markdown",
   "metadata": {},
   "source": [
    "https://www.archives.gov/files/research/order/standard-form-180.pdf"
   ]
  },
  {
   "cell_type": "code",
   "execution_count": 2,
   "metadata": {},
   "outputs": [
    {
     "data": {
      "text/plain": [
       "3"
      ]
     },
     "execution_count": 2,
     "metadata": {},
     "output_type": "execute_result"
    }
   ],
   "source": [
    "pdfFileObj = open('standard-form-180.pdf', 'rb')\n",
    "# pdf reader object\n",
    "pdfReader = PyPDF2.PdfFileReader(pdfFileObj)\n",
    "# number of pages in pdf\n",
    "pages = pdfReader.numPages\n",
    "pages"
   ]
  },
  {
   "cell_type": "code",
   "execution_count": 4,
   "metadata": {},
   "outputs": [],
   "source": [
    "pdfobj = pdfReader.getPage(2)"
   ]
  },
  {
   "cell_type": "code",
   "execution_count": 13,
   "metadata": {},
   "outputs": [],
   "source": [
    "data_place_parse = pdfobj.extractText().split('Where to write/send this form')[1]"
   ]
  },
  {
   "cell_type": "code",
   "execution_count": 16,
   "metadata": {},
   "outputs": [],
   "source": [
    "parse_list = list(data_place_parse.split())"
   ]
  },
  {
   "cell_type": "code",
   "execution_count": 26,
   "metadata": {},
   "outputs": [],
   "source": [
    "list_of_addys = []\n",
    "start = 0\n",
    "stop = 0\n",
    "for line in parse_list:\n",
    "    stop += 1\n",
    "    if len(line) == 4 and line.isnumeric():\n",
    "        list_of_addys.append(parse_list[start:stop])\n",
    "        start = stop"
   ]
  },
  {
   "cell_type": "code",
   "execution_count": 28,
   "metadata": {},
   "outputs": [
    {
     "data": {
      "text/plain": [
       "['St.', 'Louis,', 'MO', '63115', '-', '5020']"
      ]
     },
     "execution_count": 28,
     "metadata": {},
     "output_type": "execute_result"
    }
   ],
   "source": [
    "list_of_addys[3]"
   ]
  },
  {
   "cell_type": "markdown",
   "metadata": {},
   "source": [
    "___\n",
    "___\n",
    "___"
   ]
  },
  {
   "cell_type": "code",
   "execution_count": 29,
   "metadata": {},
   "outputs": [],
   "source": [
    "from bs4 import BeautifulSoup\n",
    "import requests"
   ]
  },
  {
   "cell_type": "markdown",
   "metadata": {},
   "source": [
    "Scraping"
   ]
  },
  {
   "cell_type": "code",
   "execution_count": 34,
   "metadata": {},
   "outputs": [],
   "source": [
    "url_thes = \"https://www.thesaurus.com/browse/impossible\"\n",
    "page = requests.get(url_thes)\n",
    "soup = BeautifulSoup(page.content, \"html.parser\")"
   ]
  },
  {
   "cell_type": "code",
   "execution_count": 39,
   "metadata": {},
   "outputs": [],
   "source": [
    "synonym_list = soup.find_all('span', class_= 'css-133coio etbu2a32')"
   ]
  },
  {
   "cell_type": "code",
   "execution_count": 41,
   "metadata": {},
   "outputs": [
    {
     "data": {
      "text/plain": [
       "'futile'"
      ]
     },
     "execution_count": 41,
     "metadata": {},
     "output_type": "execute_result"
    }
   ],
   "source": [
    "synonym_list[1].text"
   ]
  },
  {
   "cell_type": "code",
   "execution_count": 45,
   "metadata": {},
   "outputs": [],
   "source": [
    "list_df = []\n",
    "\n",
    "for index in synonym_list:\n",
    "    list_df.append(index.text)\n"
   ]
  },
  {
   "cell_type": "code",
   "execution_count": 49,
   "metadata": {},
   "outputs": [
    {
     "data": {
      "text/html": [
       "<div>\n",
       "<style scoped>\n",
       "    .dataframe tbody tr th:only-of-type {\n",
       "        vertical-align: middle;\n",
       "    }\n",
       "\n",
       "    .dataframe tbody tr th {\n",
       "        vertical-align: top;\n",
       "    }\n",
       "\n",
       "    .dataframe thead th {\n",
       "        text-align: right;\n",
       "    }\n",
       "</style>\n",
       "<table border=\"1\" class=\"dataframe\">\n",
       "  <thead>\n",
       "    <tr style=\"text-align: right;\">\n",
       "      <th></th>\n",
       "      <th>0</th>\n",
       "    </tr>\n",
       "  </thead>\n",
       "  <tbody>\n",
       "    <tr>\n",
       "      <td>39</td>\n",
       "      <td>believable</td>\n",
       "    </tr>\n",
       "  </tbody>\n",
       "</table>\n",
       "</div>"
      ],
      "text/plain": [
       "             0\n",
       "39  believable"
      ]
     },
     "execution_count": 49,
     "metadata": {},
     "output_type": "execute_result"
    }
   ],
   "source": [
    "import pandas as pd\n",
    "df = pd.DataFrame(list_df)\n",
    "df.head()\n",
    "df.loc[df[0] == 'believable']"
   ]
  },
  {
   "cell_type": "code",
   "execution_count": null,
   "metadata": {},
   "outputs": [],
   "source": [
    "url_disney = \"https://www.shopdisney.com/toys/shop-by-category/action-figures/\"\n",
    "page = requests.get(url_disney)\n",
    "soup = BeautifulSoup(page.content, \"html.parser\")"
   ]
  },
  {
   "cell_type": "markdown",
   "metadata": {},
   "source": [
    "___\n",
    "___\n",
    "___"
   ]
  },
  {
   "cell_type": "code",
   "execution_count": null,
   "metadata": {},
   "outputs": [],
   "source": [
    "url = \"https://www.imdb.com/chart/moviemeter/?ref_=nv_mv_mpm\"\n",
    "page = requests.get(url)\n",
    "soup = BeautifulSoup(page.content, 'html.parser')"
   ]
  },
  {
   "cell_type": "code",
   "execution_count": 50,
   "metadata": {},
   "outputs": [
    {
     "name": "stdout",
     "output_type": "stream",
     "text": [
      "   Unnamed: 0                            Rank & Title  IMDb Rating  \\\n",
      "0         NaN       The Invisible Man  (2020)  1 ( 1)          7.5   \n",
      "1         NaN              Knives Out  (2019)  2 ( 1)          8.0   \n",
      "2         NaN                Parasite  (2019)  3 ( 2)          8.6   \n",
      "3         NaN  Spenser Confidential  (2020)  4 ( 114)          6.3   \n",
      "4         NaN         Candyman  (2020)  5 (no change)          NaN   \n",
      "\n",
      "                          Your Rating  Unnamed: 4  \n",
      "0  12345678910 NOT YET RELEASED  Seen         NaN  \n",
      "1  12345678910 NOT YET RELEASED  Seen         NaN  \n",
      "2  12345678910 NOT YET RELEASED  Seen         NaN  \n",
      "3  12345678910 NOT YET RELEASED  Seen         NaN  \n",
      "4  12345678910 NOT YET RELEASED  Seen         NaN  \n"
     ]
    }
   ],
   "source": [
    "dfs = pd.read_html(\"https://www.imdb.com/chart/moviemeter/?ref_=nv_mv_mpm\")\n",
    "for df in dfs:\n",
    "    print(df.head())"
   ]
  },
  {
   "cell_type": "code",
   "execution_count": 51,
   "metadata": {},
   "outputs": [
    {
     "data": {
      "text/html": [
       "<div>\n",
       "<style scoped>\n",
       "    .dataframe tbody tr th:only-of-type {\n",
       "        vertical-align: middle;\n",
       "    }\n",
       "\n",
       "    .dataframe tbody tr th {\n",
       "        vertical-align: top;\n",
       "    }\n",
       "\n",
       "    .dataframe thead th {\n",
       "        text-align: right;\n",
       "    }\n",
       "</style>\n",
       "<table border=\"1\" class=\"dataframe\">\n",
       "  <thead>\n",
       "    <tr style=\"text-align: right;\">\n",
       "      <th></th>\n",
       "      <th>Unnamed: 0</th>\n",
       "      <th>Rank &amp; Title</th>\n",
       "      <th>IMDb Rating</th>\n",
       "      <th>Your Rating</th>\n",
       "      <th>Unnamed: 4</th>\n",
       "    </tr>\n",
       "  </thead>\n",
       "  <tbody>\n",
       "    <tr>\n",
       "      <td>0</td>\n",
       "      <td>NaN</td>\n",
       "      <td>The Invisible Man  (2020)  1 ( 1)</td>\n",
       "      <td>7.5</td>\n",
       "      <td>12345678910 NOT YET RELEASED  Seen</td>\n",
       "      <td>NaN</td>\n",
       "    </tr>\n",
       "    <tr>\n",
       "      <td>1</td>\n",
       "      <td>NaN</td>\n",
       "      <td>Knives Out  (2019)  2 ( 1)</td>\n",
       "      <td>8.0</td>\n",
       "      <td>12345678910 NOT YET RELEASED  Seen</td>\n",
       "      <td>NaN</td>\n",
       "    </tr>\n",
       "    <tr>\n",
       "      <td>2</td>\n",
       "      <td>NaN</td>\n",
       "      <td>Parasite  (2019)  3 ( 2)</td>\n",
       "      <td>8.6</td>\n",
       "      <td>12345678910 NOT YET RELEASED  Seen</td>\n",
       "      <td>NaN</td>\n",
       "    </tr>\n",
       "    <tr>\n",
       "      <td>3</td>\n",
       "      <td>NaN</td>\n",
       "      <td>Spenser Confidential  (2020)  4 ( 114)</td>\n",
       "      <td>6.3</td>\n",
       "      <td>12345678910 NOT YET RELEASED  Seen</td>\n",
       "      <td>NaN</td>\n",
       "    </tr>\n",
       "    <tr>\n",
       "      <td>4</td>\n",
       "      <td>NaN</td>\n",
       "      <td>Candyman  (2020)  5 (no change)</td>\n",
       "      <td>NaN</td>\n",
       "      <td>12345678910 NOT YET RELEASED  Seen</td>\n",
       "      <td>NaN</td>\n",
       "    </tr>\n",
       "    <tr>\n",
       "      <td>...</td>\n",
       "      <td>...</td>\n",
       "      <td>...</td>\n",
       "      <td>...</td>\n",
       "      <td>...</td>\n",
       "      <td>...</td>\n",
       "    </tr>\n",
       "    <tr>\n",
       "      <td>95</td>\n",
       "      <td>NaN</td>\n",
       "      <td>Top Gun: Maverick  (2020)  96 ( 5)</td>\n",
       "      <td>NaN</td>\n",
       "      <td>12345678910 NOT YET RELEASED  Seen</td>\n",
       "      <td>NaN</td>\n",
       "    </tr>\n",
       "    <tr>\n",
       "      <td>96</td>\n",
       "      <td>NaN</td>\n",
       "      <td>Queen &amp; Slim  (2019)  97 ( 22)</td>\n",
       "      <td>7.0</td>\n",
       "      <td>12345678910 NOT YET RELEASED  Seen</td>\n",
       "      <td>NaN</td>\n",
       "    </tr>\n",
       "    <tr>\n",
       "      <td>97</td>\n",
       "      <td>NaN</td>\n",
       "      <td>Us  (2019)  98 ( 15)</td>\n",
       "      <td>6.9</td>\n",
       "      <td>12345678910 NOT YET RELEASED  Seen</td>\n",
       "      <td>NaN</td>\n",
       "    </tr>\n",
       "    <tr>\n",
       "      <td>98</td>\n",
       "      <td>NaN</td>\n",
       "      <td>After  (2019)  99 ( 25)</td>\n",
       "      <td>5.4</td>\n",
       "      <td>12345678910 NOT YET RELEASED  Seen</td>\n",
       "      <td>NaN</td>\n",
       "    </tr>\n",
       "    <tr>\n",
       "      <td>99</td>\n",
       "      <td>NaN</td>\n",
       "      <td>The Matrix 4  (2021)  100 ( 34)</td>\n",
       "      <td>NaN</td>\n",
       "      <td>12345678910 NOT YET RELEASED  Seen</td>\n",
       "      <td>NaN</td>\n",
       "    </tr>\n",
       "  </tbody>\n",
       "</table>\n",
       "<p>100 rows × 5 columns</p>\n",
       "</div>"
      ],
      "text/plain": [
       "    Unnamed: 0                            Rank & Title  IMDb Rating  \\\n",
       "0          NaN       The Invisible Man  (2020)  1 ( 1)          7.5   \n",
       "1          NaN              Knives Out  (2019)  2 ( 1)          8.0   \n",
       "2          NaN                Parasite  (2019)  3 ( 2)          8.6   \n",
       "3          NaN  Spenser Confidential  (2020)  4 ( 114)          6.3   \n",
       "4          NaN         Candyman  (2020)  5 (no change)          NaN   \n",
       "..         ...                                     ...          ...   \n",
       "95         NaN      Top Gun: Maverick  (2020)  96 ( 5)          NaN   \n",
       "96         NaN          Queen & Slim  (2019)  97 ( 22)          7.0   \n",
       "97         NaN                    Us  (2019)  98 ( 15)          6.9   \n",
       "98         NaN                 After  (2019)  99 ( 25)          5.4   \n",
       "99         NaN         The Matrix 4  (2021)  100 ( 34)          NaN   \n",
       "\n",
       "                           Your Rating  Unnamed: 4  \n",
       "0   12345678910 NOT YET RELEASED  Seen         NaN  \n",
       "1   12345678910 NOT YET RELEASED  Seen         NaN  \n",
       "2   12345678910 NOT YET RELEASED  Seen         NaN  \n",
       "3   12345678910 NOT YET RELEASED  Seen         NaN  \n",
       "4   12345678910 NOT YET RELEASED  Seen         NaN  \n",
       "..                                 ...         ...  \n",
       "95  12345678910 NOT YET RELEASED  Seen         NaN  \n",
       "96  12345678910 NOT YET RELEASED  Seen         NaN  \n",
       "97  12345678910 NOT YET RELEASED  Seen         NaN  \n",
       "98  12345678910 NOT YET RELEASED  Seen         NaN  \n",
       "99  12345678910 NOT YET RELEASED  Seen         NaN  \n",
       "\n",
       "[100 rows x 5 columns]"
      ]
     },
     "execution_count": 51,
     "metadata": {},
     "output_type": "execute_result"
    }
   ],
   "source": [
    "dfs[0]"
   ]
  },
  {
   "cell_type": "code",
   "execution_count": null,
   "metadata": {},
   "outputs": [],
   "source": []
  }
 ],
 "metadata": {
  "kernelspec": {
   "display_name": "Python 3",
   "language": "python",
   "name": "python3"
  },
  "language_info": {
   "codemirror_mode": {
    "name": "ipython",
    "version": 3
   },
   "file_extension": ".py",
   "mimetype": "text/x-python",
   "name": "python",
   "nbconvert_exporter": "python",
   "pygments_lexer": "ipython3",
   "version": "3.7.4"
  }
 },
 "nbformat": 4,
 "nbformat_minor": 4
}
