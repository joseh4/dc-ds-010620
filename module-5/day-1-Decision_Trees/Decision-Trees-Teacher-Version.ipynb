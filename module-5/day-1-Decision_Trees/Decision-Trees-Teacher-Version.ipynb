{
 "cells": [
  {
   "cell_type": "markdown",
   "metadata": {
    "slideshow": {
     "slide_type": "slide"
    }
   },
   "source": [
    "# On Decision Trees\n",
    "\n",
    "### We use them every day\n",
    "\n",
    "![tree](img/tree.jpeg)"
   ]
  },
  {
   "cell_type": "markdown",
   "metadata": {
    "slideshow": {
     "slide_type": "slide"
    }
   },
   "source": [
    "## Outcomes\n",
    "\n",
    "- summarize the intuitive logic behind decision trees\n",
    "- solve a small example with metric\n",
    "- explore the fine-tuning options in `sklearn` for decision trees\n",
    "- build a decision tree in `sklearn`\n"
   ]
  },
  {
   "cell_type": "markdown",
   "metadata": {
    "slideshow": {
     "slide_type": "slide"
    }
   },
   "source": [
    "The key tool of decision trees is that some attributes provide more _information_ than others when trying to make a decision.<br>\n",
    "And we rank attributes in the hierarchy based on how useful they are."
   ]
  },
  {
   "cell_type": "markdown",
   "metadata": {
    "slideshow": {
     "slide_type": "slide"
    }
   },
   "source": [
    "### Example 1 - when looking to monogamously date someone\n",
    "Which is more important?"
   ]
  },
  {
   "cell_type": "markdown",
   "metadata": {
    "slideshow": {
     "slide_type": "slide"
    }
   },
   "source": [
    "Their taste in music?\n",
    "![music](img/music.png)"
   ]
  },
  {
   "cell_type": "markdown",
   "metadata": {
    "slideshow": {
     "slide_type": "slide"
    }
   },
   "source": [
    "Or if they are married already?\n",
    "![married2](img/married2.png)"
   ]
  },
  {
   "cell_type": "markdown",
   "metadata": {
    "slideshow": {
     "slide_type": "slide"
    }
   },
   "source": [
    "### Example 3 with some vocab\n",
    "Rory is a teenager trying to decide if he wants to go to a party, and this is the decision tree represtinging his process:"
   ]
  },
  {
   "cell_type": "markdown",
   "metadata": {
    "slideshow": {
     "slide_type": "slide"
    }
   },
   "source": [
    "#### His decision tree\n",
    "![party](img/party.png)\n",
    "\n",
    "( image from this [site](https://chunml.github.io/ChunML.github.io/tutorial/Decision-Tree/) )"
   ]
  },
  {
   "cell_type": "markdown",
   "metadata": {
    "slideshow": {
     "slide_type": "slide"
    }
   },
   "source": [
    "### Vocabulary: nodes\n",
    "\n",
    "![nodes](img/terminology1.png)"
   ]
  },
  {
   "cell_type": "markdown",
   "metadata": {
    "slideshow": {
     "slide_type": "slide"
    }
   },
   "source": [
    "### Vocabulary: splits & branches\n",
    "\n",
    "![split](img/terminology2.png)"
   ]
  },
  {
   "cell_type": "markdown",
   "metadata": {
    "slideshow": {
     "slide_type": "slide"
    }
   },
   "source": [
    "### Example 4: with data\n",
    "\n",
    "Suppose we're working on a classification algorithm designed to **sort customers into two classes: those who pay their sales bills and those who don't**.\n",
    "\n",
    "Each row in my dataframe represents a customer, and I have many predictors (columns) in my dataframe, including:\n",
    "\n",
    "- salary\n",
    "- total_bill\n",
    "- club_member (boolean)\n",
    "- years_post-sec_ed\n",
    "\n",
    "Let's look at a simple set of data. **The 'paid' column is our target or dependent variable.**"
   ]
  },
  {
   "cell_type": "code",
<<<<<<< HEAD
   "execution_count": 11,
=======
   "execution_count": 1,
>>>>>>> 7a8c8eb08eaf71e3bccdfcfe9d3079cd3aa48311
   "metadata": {
    "slideshow": {
     "slide_type": "notes"
    }
   },
   "outputs": [],
   "source": [
    "import pandas as pd\n",
    "custs = pd.DataFrame([[45000, 1000, True, 2, False], [70000, 100, True, 10, True],\n",
    "             [30000, 2000, False, 0, False], [90000, 500, True, 2, True],\n",
    "             [70000, 200, True, 5, False]],\n",
    "            columns=['salary', 'total_bill', 'club_member', 'years_post-sec_ed',\n",
    "                    'paid'])\n"
   ]
  },
  {
   "cell_type": "code",
<<<<<<< HEAD
   "execution_count": 12,
=======
   "execution_count": 2,
>>>>>>> 7a8c8eb08eaf71e3bccdfcfe9d3079cd3aa48311
   "metadata": {},
   "outputs": [
    {
     "data": {
      "text/html": [
       "<div>\n",
       "<style scoped>\n",
       "    .dataframe tbody tr th:only-of-type {\n",
       "        vertical-align: middle;\n",
       "    }\n",
       "\n",
       "    .dataframe tbody tr th {\n",
       "        vertical-align: top;\n",
       "    }\n",
       "\n",
       "    .dataframe thead th {\n",
       "        text-align: right;\n",
       "    }\n",
       "</style>\n",
       "<table border=\"1\" class=\"dataframe\">\n",
       "  <thead>\n",
       "    <tr style=\"text-align: right;\">\n",
       "      <th></th>\n",
       "      <th>salary</th>\n",
       "      <th>total_bill</th>\n",
       "      <th>club_member</th>\n",
       "      <th>years_post-sec_ed</th>\n",
       "      <th>paid</th>\n",
       "    </tr>\n",
       "  </thead>\n",
       "  <tbody>\n",
       "    <tr>\n",
       "      <td>0</td>\n",
       "      <td>45000</td>\n",
       "      <td>1000</td>\n",
       "      <td>True</td>\n",
       "      <td>2</td>\n",
       "      <td>False</td>\n",
       "    </tr>\n",
       "    <tr>\n",
       "      <td>1</td>\n",
       "      <td>70000</td>\n",
       "      <td>100</td>\n",
       "      <td>True</td>\n",
       "      <td>10</td>\n",
       "      <td>True</td>\n",
       "    </tr>\n",
       "    <tr>\n",
       "      <td>2</td>\n",
       "      <td>30000</td>\n",
       "      <td>2000</td>\n",
       "      <td>False</td>\n",
       "      <td>0</td>\n",
       "      <td>False</td>\n",
       "    </tr>\n",
       "    <tr>\n",
       "      <td>3</td>\n",
       "      <td>90000</td>\n",
       "      <td>500</td>\n",
       "      <td>True</td>\n",
       "      <td>2</td>\n",
       "      <td>True</td>\n",
       "    </tr>\n",
       "    <tr>\n",
       "      <td>4</td>\n",
       "      <td>70000</td>\n",
       "      <td>200</td>\n",
       "      <td>True</td>\n",
       "      <td>5</td>\n",
       "      <td>False</td>\n",
       "    </tr>\n",
       "  </tbody>\n",
       "</table>\n",
       "</div>"
      ],
      "text/plain": [
       "   salary  total_bill  club_member  years_post-sec_ed   paid\n",
       "0   45000        1000         True                  2  False\n",
       "1   70000         100         True                 10   True\n",
       "2   30000        2000        False                  0  False\n",
       "3   90000         500         True                  2   True\n",
       "4   70000         200         True                  5  False"
      ]
     },
<<<<<<< HEAD
     "execution_count": 12,
=======
     "execution_count": 2,
>>>>>>> 7a8c8eb08eaf71e3bccdfcfe9d3079cd3aa48311
     "metadata": {},
     "output_type": "execute_result"
    }
   ],
   "source": [
    "custs"
   ]
  },
  {
   "cell_type": "markdown",
   "metadata": {
    "slideshow": {
     "slide_type": "slide"
    }
   },
   "source": [
    "## Partitioning\n",
    "\n",
    "I partition my data by asking a question about the independent variables. The goal is to ask the right questions in the right order so that the resultant groups are \"pure\" with respect to the dependent variable. More on this below!\n"
   ]
  },
  {
   "cell_type": "markdown",
   "metadata": {
    "slideshow": {
     "slide_type": "slide"
    }
   },
   "source": [
    "### Let's explore some variables below:"
   ]
  },
  {
   "cell_type": "code",
   "execution_count": 13,
   "metadata": {
    "slideshow": {
     "slide_type": "slide"
    }
   },
   "outputs": [
    {
     "data": {
      "text/html": [
       "<div>\n",
       "<style scoped>\n",
       "    .dataframe tbody tr th:only-of-type {\n",
       "        vertical-align: middle;\n",
       "    }\n",
       "\n",
       "    .dataframe tbody tr th {\n",
       "        vertical-align: top;\n",
       "    }\n",
       "\n",
       "    .dataframe thead th {\n",
       "        text-align: right;\n",
       "    }\n",
       "</style>\n",
       "<table border=\"1\" class=\"dataframe\">\n",
       "  <thead>\n",
       "    <tr style=\"text-align: right;\">\n",
       "      <th></th>\n",
       "      <th>salary</th>\n",
       "      <th>total_bill</th>\n",
       "      <th>club_member</th>\n",
       "      <th>years_post-sec_ed</th>\n",
       "      <th>paid</th>\n",
       "    </tr>\n",
       "  </thead>\n",
       "  <tbody>\n",
       "    <tr>\n",
       "      <td>2</td>\n",
       "      <td>30000</td>\n",
       "      <td>2000</td>\n",
       "      <td>False</td>\n",
       "      <td>0</td>\n",
       "      <td>False</td>\n",
       "    </tr>\n",
       "    <tr>\n",
       "      <td>0</td>\n",
       "      <td>45000</td>\n",
       "      <td>1000</td>\n",
       "      <td>True</td>\n",
       "      <td>2</td>\n",
       "      <td>False</td>\n",
       "    </tr>\n",
       "    <tr>\n",
       "      <td>1</td>\n",
       "      <td>70000</td>\n",
       "      <td>100</td>\n",
       "      <td>True</td>\n",
       "      <td>10</td>\n",
       "      <td>True</td>\n",
       "    </tr>\n",
       "    <tr>\n",
       "      <td>4</td>\n",
       "      <td>70000</td>\n",
       "      <td>200</td>\n",
       "      <td>True</td>\n",
       "      <td>5</td>\n",
       "      <td>False</td>\n",
       "    </tr>\n",
       "    <tr>\n",
       "      <td>3</td>\n",
       "      <td>90000</td>\n",
       "      <td>500</td>\n",
       "      <td>True</td>\n",
       "      <td>2</td>\n",
       "      <td>True</td>\n",
       "    </tr>\n",
       "  </tbody>\n",
       "</table>\n",
       "</div>"
      ],
      "text/plain": [
       "   salary  total_bill  club_member  years_post-sec_ed   paid\n",
       "2   30000        2000        False                  0  False\n",
       "0   45000        1000         True                  2  False\n",
       "1   70000         100         True                 10   True\n",
       "4   70000         200         True                  5  False\n",
       "3   90000         500         True                  2   True"
      ]
     },
     "execution_count": 13,
     "metadata": {},
     "output_type": "execute_result"
    }
   ],
   "source": [
    "test = custs.sort_values(['salary'])\n",
    "test"
   ]
  },
  {
   "cell_type": "markdown",
   "metadata": {
    "slideshow": {
     "slide_type": "slide"
    }
   },
   "source": [
    "### Is the customer a club member?\n",
    "\n",
    "This would divide my data into two groups:\n",
    "\n",
    "- Group 1:\n",
    "\n",
    "data points: 0, 1, 3, 4 (dep. var.: False, True, True, False)\n",
    "\n",
    "- Group 2:\n",
    "\n",
    "data points: 2 (dep. var.: False)\n",
    "\n",
    "While I've isolated one of the customers who haven't paid in the second group, the first group is an even mix of payers and non-payers. So this split is not particularly good.\n",
    "\n",
    "Would a different question split our data more effectively? Let's try:"
   ]
  },
  {
   "cell_type": "markdown",
   "metadata": {
    "slideshow": {
     "slide_type": "slide"
    }
   },
   "source": [
    "### \"Is the customer's salary less than $60k?\"\n",
    "\n",
    "This would divide my data into two groups:\n",
    "\n",
    "- Group 1:\n",
    "\n",
    "data points: 0, 2 (dep. var.: False, False)\n",
    "\n",
    "-  Group 2:\n",
    "\n",
    "data points: 1, 3, 4 (dep. var.: True, True, False)"
   ]
  },
  {
   "cell_type": "markdown",
   "metadata": {
    "slideshow": {
     "slide_type": "slide"
    }
   },
   "source": [
    "## Which feature is more accurate in predicting whether and individual pays their bill?"
   ]
  },
  {
   "cell_type": "markdown",
   "metadata": {
    "slideshow": {
     "slide_type": "notes"
    }
   },
   "source": [
    "This does a better job of partitioning my data according to the values of the dependent variable: The first group contains only customers who have not paid their bills, and the second group contains only one customer who has not paid her bill.\n",
    "\n",
    "So a (very simple!) model that predicts:\n",
    "(i) that customers who make less than $60k *won't* pay their bill, and\n",
    "(ii) that customers who make $60k or more *will* pay their bill\n",
    "\n",
    "would perform fairly well.\n",
    "\n",
    "But how would my partition be *best* split? And how do I really know that the second split is better than the first? Can I do better than intuition here?"
   ]
  },
  {
   "cell_type": "markdown",
   "metadata": {
    "slideshow": {
     "slide_type": "slide"
    }
   },
   "source": [
    "## Entropy and Information Gain\n",
    "\n",
    "The goal is to have our ultimate classes be fully \"ordered\" (for a binary dependent variable, we'd have the 1's in one group and the 0's in the other). So one way to assess the value of a split is to measure how *disordered* our groups are, and there is a notion of *entropy* that measures precisely this.\n",
    "\n",
    "The entropy of the whole dataset is given by:\n",
    "\n",
    "$\\large E = -\\Sigma_i p_i\\log_2(p_i)$,\n",
    "\n",
    "where $p_i$ is the probability of belonging to the $i$th group."
   ]
  },
  {
   "cell_type": "markdown",
   "metadata": {
    "slideshow": {
     "slide_type": "slide"
    }
   },
   "source": [
    "**Entropy will always be between 0 and 1. The closer to 1, the more disordered your group.**\n",
    "\n",
    "To repeat, in the present case we have only two groups of interest: the payers (2/5) and the non-payers (3/5).\n",
    "\n",
    "So our entropy for this toy dataset is:\n",
    "\n",
    "$-0.4*\\log_2(0.4) -0.6*\\log_2(0.6)$.\n",
    "\n",
    "Let's use the ```math``` library to calculate this:"
   ]
  },
  {
   "cell_type": "code",
<<<<<<< HEAD
   "execution_count": 5,
   "metadata": {},
   "outputs": [
    {
     "data": {
      "text/plain": [
       "0.546"
      ]
     },
     "execution_count": 5,
     "metadata": {},
     "output_type": "execute_result"
    }
   ],
   "source": [
    "(3/5)*0.91"
   ]
  },
  {
   "cell_type": "code",
   "execution_count": 6,
   "metadata": {},
   "outputs": [
    {
     "data": {
      "text/plain": [
       "0.9460000000000001"
      ]
     },
     "execution_count": 6,
     "metadata": {},
     "output_type": "execute_result"
    }
   ],
   "source": [
    "_ + .4"
   ]
  },
  {
   "cell_type": "code",
   "execution_count": 4,
=======
   "execution_count": 7,
>>>>>>> 7a8c8eb08eaf71e3bccdfcfe9d3079cd3aa48311
   "metadata": {},
   "outputs": [
    {
     "data": {
      "text/plain": [
       "0.9182958340544896"
      ]
     },
<<<<<<< HEAD
     "execution_count": 4,
=======
     "execution_count": 7,
>>>>>>> 7a8c8eb08eaf71e3bccdfcfe9d3079cd3aa48311
     "metadata": {},
     "output_type": "execute_result"
    }
   ],
   "source": [
<<<<<<< HEAD
    "ent = -((3/5)*log(3/5,2) + (2/3)*log(2/3,2))\n",
=======
    "## we are calculating the entropy of a box with p_0 = 1/3, p_1 = 2/3\n",
    "\n",
    "ent = -((1/3)*log((1/3),2) + (2/3)*log((2/3), 2))\n",
    "\n",
>>>>>>> 7a8c8eb08eaf71e3bccdfcfe9d3079cd3aa48311
    "ent"
   ]
  },
  {
   "cell_type": "code",
<<<<<<< HEAD
   "execution_count": 1,
=======
   "execution_count": 3,
>>>>>>> 7a8c8eb08eaf71e3bccdfcfe9d3079cd3aa48311
   "metadata": {
    "slideshow": {
     "slide_type": "skip"
    }
   },
   "outputs": [
    {
     "data": {
      "text/plain": [
       "0.9709505944546686"
      ]
     },
<<<<<<< HEAD
     "execution_count": 1,
=======
     "execution_count": 3,
>>>>>>> 7a8c8eb08eaf71e3bccdfcfe9d3079cd3aa48311
     "metadata": {},
     "output_type": "execute_result"
    }
   ],
   "source": [
    "from math import log\n",
    "\n",
    "# Your code here!\n",
    "\n",
    "ent_whole = -.4*log(.4,2)-0.6*log(.6,2)\n",
    "ent_whole"
   ]
  },
  {
   "cell_type": "markdown",
   "metadata": {
    "slideshow": {
     "slide_type": "notes"
    }
   },
   "source": [
    "That's pretty disordered!"
   ]
  },
  {
   "cell_type": "markdown",
   "metadata": {
    "slideshow": {
     "slide_type": "slide"
    }
   },
   "source": [
    "To calculate the entropy of a *split*, we're going to want to calculate the entropy of each of the groups made by the split, and then calculate a weighted average of those groups' entropies––weighted, that is, by the size of the groups. Let's calculate the entropy of the split produced by our question above about salary:\n",
    "\n",
    "Group 1:\n",
    "\n",
    "$E_{g1} = 0 * \\log_2(0) - 1 * \\log_2(1) = 0$. This is a pure group! The probability of being a payer in Group 1 is 0 and the probability of being a non-payer in Group 1 is 1.\n",
    "\n",
    "Group 2:\n",
    "\n",
    "$E_{g2} = \\frac{2}{3} * \\log_2\\left(\\frac{2}{3}\\right) - \\frac{1}{3} * \\log_2\\left(\\frac{1}{3}\\right)$.\n",
    "\n",
    "Once again, using ```math```:"
   ]
  },
  {
   "cell_type": "code",
   "execution_count": 32,
   "metadata": {
    "slideshow": {
     "slide_type": "skip"
    }
   },
   "outputs": [
    {
     "data": {
      "text/plain": [
       "0.9182958340544896"
      ]
     },
     "execution_count": 32,
     "metadata": {},
     "output_type": "execute_result"
    }
   ],
   "source": [
    "# Your code here!\n",
    "\n",
    "ent_grp2 = -(2/3)*log(2/3,2)-1/3*log(1/3,2)\n",
    "ent_grp2"
   ]
  },
  {
   "cell_type": "markdown",
   "metadata": {
    "slideshow": {
     "slide_type": "slide"
    }
   },
   "source": [
    "To get the whole entropy for this split, we'll do a weighted sum of the two group entropies:"
   ]
  },
  {
   "cell_type": "code",
   "execution_count": 33,
   "metadata": {
    "slideshow": {
     "slide_type": "notes"
    }
   },
   "outputs": [
    {
     "data": {
      "text/plain": [
       "0.5509775004326937"
      ]
     },
     "execution_count": 33,
     "metadata": {},
     "output_type": "execute_result"
    }
   ],
   "source": [
    "# Your code here!\n",
    "\n",
    "(2/5)*0 + (3/5)*ent_grp2"
   ]
  },
  {
   "cell_type": "markdown",
   "metadata": {
    "slideshow": {
     "slide_type": "slide"
    }
   },
   "source": [
    "For a given split, the **information gain** is simply the entropy of the parent group less the entropy of the split.\n",
    "\n",
    "For a given parent, then, we maximize our model's performance by *minimizing* the split's entropy.\n",
    "\n",
    "What we'd like to do then is:\n",
    "\n",
    "1. to look at the entropies of all possible splits, and\n",
    "2. to choose the split with the lowest entropy.\n",
    "\n",
    "In practice there are far too many splits for it to be practical for a person to calculate all these different entropies ...\n",
    "\n",
    "... but we can make computers do these calculations for us!"
   ]
  },
  {
   "cell_type": "markdown",
   "metadata": {
    "slideshow": {
     "slide_type": "slide"
    }
   },
   "source": [
    "## Gini Impurity\n",
    "\n",
    "An alternative metric to entropy comes from the work of Corrado Gini. The Gini Impurity is defined as:\n",
    "\n",
    "$\\large G = 1 - \\Sigma_i p_i^2$,\n",
    "\n",
    "where, again, $p_i$ is the probability of belonging to the $i$th group.\n",
    "\n",
    "**Gini Impurity will always be between 0 and 0.5. The closer to 0.5, the more disordered your group.**"
   ]
  },
  {
   "cell_type": "markdown",
   "metadata": {
    "slideshow": {
     "slide_type": "slide"
    }
   },
   "source": [
    "Exercise: Calculate the Gini Impurity for our toy dataset above."
   ]
  },
  {
   "cell_type": "code",
   "execution_count": 53,
   "metadata": {
    "slideshow": {
     "slide_type": "notes"
    }
   },
   "outputs": [],
   "source": [
    "# Your code here!\n",
    "\n"
   ]
  },
  {
   "cell_type": "code",
   "execution_count": 9,
   "metadata": {},
   "outputs": [
    {
     "data": {
      "text/plain": [
       "-14.287712379549449"
      ]
     },
     "execution_count": 9,
     "metadata": {},
     "output_type": "execute_result"
    }
   ],
   "source": [
    "log(0.00005, 2)"
   ]
  },
  {
   "cell_type": "markdown",
   "metadata": {
    "slideshow": {
     "slide_type": "slide"
    }
   },
   "source": [
    "## Coding Trees in Python\n",
    "\n",
    "Scikit-learn has a tree module, which houses both a DecisionTreeClassifier and a DecisionTreeRegressor. The difference, as is probably clear by now, is that the former is for classification problems (discrete target) and the latter is for regression problems (continuous target). Let's use the classifier."
   ]
  },
  {
   "cell_type": "code",
<<<<<<< HEAD
   "execution_count": 7,
=======
   "execution_count": 11,
>>>>>>> 7a8c8eb08eaf71e3bccdfcfe9d3079cd3aa48311
   "metadata": {
    "slideshow": {
     "slide_type": "slide"
    }
   },
   "outputs": [],
   "source": [
    "from sklearn.tree import DecisionTreeClassifier\n"
   ]
  },
  {
   "cell_type": "code",
<<<<<<< HEAD
=======
   "execution_count": 14,
   "metadata": {},
   "outputs": [
    {
     "data": {
      "text/html": [
       "<div>\n",
       "<style scoped>\n",
       "    .dataframe tbody tr th:only-of-type {\n",
       "        vertical-align: middle;\n",
       "    }\n",
       "\n",
       "    .dataframe tbody tr th {\n",
       "        vertical-align: top;\n",
       "    }\n",
       "\n",
       "    .dataframe thead th {\n",
       "        text-align: right;\n",
       "    }\n",
       "</style>\n",
       "<table border=\"1\" class=\"dataframe\">\n",
       "  <thead>\n",
       "    <tr style=\"text-align: right;\">\n",
       "      <th></th>\n",
       "      <th>salary</th>\n",
       "      <th>total_bill</th>\n",
       "      <th>club_member</th>\n",
       "      <th>years_post-sec_ed</th>\n",
       "      <th>paid</th>\n",
       "    </tr>\n",
       "  </thead>\n",
       "  <tbody>\n",
       "    <tr>\n",
       "      <th>0</th>\n",
       "      <td>45000</td>\n",
       "      <td>1000</td>\n",
       "      <td>True</td>\n",
       "      <td>2</td>\n",
       "      <td>False</td>\n",
       "    </tr>\n",
       "    <tr>\n",
       "      <th>1</th>\n",
       "      <td>70000</td>\n",
       "      <td>100</td>\n",
       "      <td>True</td>\n",
       "      <td>10</td>\n",
       "      <td>True</td>\n",
       "    </tr>\n",
       "    <tr>\n",
       "      <th>2</th>\n",
       "      <td>30000</td>\n",
       "      <td>2000</td>\n",
       "      <td>False</td>\n",
       "      <td>0</td>\n",
       "      <td>False</td>\n",
       "    </tr>\n",
       "    <tr>\n",
       "      <th>3</th>\n",
       "      <td>90000</td>\n",
       "      <td>500</td>\n",
       "      <td>True</td>\n",
       "      <td>2</td>\n",
       "      <td>True</td>\n",
       "    </tr>\n",
       "    <tr>\n",
       "      <th>4</th>\n",
       "      <td>70000</td>\n",
       "      <td>200</td>\n",
       "      <td>True</td>\n",
       "      <td>5</td>\n",
       "      <td>False</td>\n",
       "    </tr>\n",
       "  </tbody>\n",
       "</table>\n",
       "</div>"
      ],
      "text/plain": [
       "   salary  total_bill  club_member  years_post-sec_ed   paid\n",
       "0   45000        1000         True                  2  False\n",
       "1   70000         100         True                 10   True\n",
       "2   30000        2000        False                  0  False\n",
       "3   90000         500         True                  2   True\n",
       "4   70000         200         True                  5  False"
      ]
     },
     "execution_count": 14,
     "metadata": {},
     "output_type": "execute_result"
    }
   ],
   "source": [
    "custs.head()"
   ]
  },
  {
   "cell_type": "code",
>>>>>>> 7a8c8eb08eaf71e3bccdfcfe9d3079cd3aa48311
   "execution_count": 17,
   "metadata": {},
   "outputs": [],
   "source": [
    "X = custs[['salary', 'total_bill', 'club_member', 'years_post-sec_ed']]\n",
    "\n",
<<<<<<< HEAD
    "y = custs[['paid']]"
=======
    "y = custs.paid"
>>>>>>> 7a8c8eb08eaf71e3bccdfcfe9d3079cd3aa48311
   ]
  },
  {
   "cell_type": "code",
<<<<<<< HEAD
   "execution_count": 19,
=======
   "execution_count": 31,
>>>>>>> 7a8c8eb08eaf71e3bccdfcfe9d3079cd3aa48311
   "metadata": {},
   "outputs": [
    {
     "data": {
      "text/plain": [
<<<<<<< HEAD
       "DecisionTreeClassifier(class_weight=None, criterion='gini', max_depth=None,\n",
=======
       "DecisionTreeClassifier(class_weight=None, criterion='gini', max_depth=2,\n",
>>>>>>> 7a8c8eb08eaf71e3bccdfcfe9d3079cd3aa48311
       "                       max_features=None, max_leaf_nodes=None,\n",
       "                       min_impurity_decrease=0.0, min_impurity_split=None,\n",
       "                       min_samples_leaf=1, min_samples_split=2,\n",
       "                       min_weight_fraction_leaf=0.0, presort=False,\n",
       "                       random_state=None, splitter='best')"
      ]
     },
<<<<<<< HEAD
     "execution_count": 19,
=======
     "execution_count": 31,
>>>>>>> 7a8c8eb08eaf71e3bccdfcfe9d3079cd3aa48311
     "metadata": {},
     "output_type": "execute_result"
    }
   ],
   "source": [
<<<<<<< HEAD
    "clf = DecisionTreeClassifier()\n",
    "\n",
    "clf.fit(X, y)"
=======
    "clf = DecisionTreeClassifier(max_depth=2)\n",
    "\n",
    "clf.fit(X,y)"
>>>>>>> 7a8c8eb08eaf71e3bccdfcfe9d3079cd3aa48311
   ]
  },
  {
   "cell_type": "code",
<<<<<<< HEAD
   "execution_count": 22,
=======
   "execution_count": 32,
>>>>>>> 7a8c8eb08eaf71e3bccdfcfe9d3079cd3aa48311
   "metadata": {},
   "outputs": [],
   "source": [
    "from sklearn import tree\n",
    "\n",
    "%matplotlib inline"
   ]
  },
  {
   "cell_type": "code",
<<<<<<< HEAD
   "execution_count": 48,
=======
   "execution_count": 33,
   "metadata": {},
   "outputs": [
    {
     "data": {
      "image/png": "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\n",
      "text/plain": [
       "<Figure size 432x288 with 1 Axes>"
      ]
     },
     "metadata": {
      "needs_background": "light"
     },
     "output_type": "display_data"
    }
   ],
   "source": [
    "tree.plot_tree(clf.fit(custs.drop('paid', axis=1), custs['paid']),\n",
    "               feature_names= ['salary', 'total_bill', 'club_member', 'years_post-sec_ed'],\n",
    "               filled = True );"
   ]
  },
  {
   "cell_type": "code",
   "execution_count": 24,
>>>>>>> 7a8c8eb08eaf71e3bccdfcfe9d3079cd3aa48311
   "metadata": {
    "slideshow": {
     "slide_type": "slide"
    }
   },
   "outputs": [],
   "source": [
    "ct = DecisionTreeClassifier(max_depth=8) # Check out all the\n",
    "                              # hyperparameter options here!\n",
    "\n",
    "# dt_mod = ct.fit(custs.drop('paid', axis=1), custs['paid'])\n",
    "# dt_mod.score(custs.drop('paid', axis=1), custs['paid'])"
   ]
  },
  {
   "cell_type": "code",
   "execution_count": 25,
   "metadata": {},
   "outputs": [],
   "source": [
    "from sklearn import tree\n",
    "\n",
    "%matplotlib inline"
   ]
  },
  {
   "cell_type": "code",
<<<<<<< HEAD
   "execution_count": 24,
=======
   "execution_count": 26,
>>>>>>> 7a8c8eb08eaf71e3bccdfcfe9d3079cd3aa48311
   "metadata": {},
   "outputs": [
    {
     "data": {
<<<<<<< HEAD
      "image/png": "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\n",
=======
      "image/png": "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\n",
>>>>>>> 7a8c8eb08eaf71e3bccdfcfe9d3079cd3aa48311
      "text/plain": [
       "<Figure size 432x288 with 1 Axes>"
      ]
     },
     "metadata": {
      "needs_background": "light"
     },
     "output_type": "display_data"
    }
   ],
   "source": [
    "tree.plot_tree(clf.fit(custs.drop('paid', axis=1), custs['paid']),\n",
    "               feature_names= ['salary', 'total_bill', 'club_member', 'years_post-sec_ed'],\n",
    "               filled = True );"
   ]
  },
  {
   "cell_type": "code",
   "execution_count": 19,
   "metadata": {},
   "outputs": [
    {
     "data": {
      "text/plain": [
       "Index(['salary', 'total_bill', 'club_member', 'years_post-sec_ed', 'paid'], dtype='object')"
      ]
     },
     "execution_count": 19,
     "metadata": {},
     "output_type": "execute_result"
    }
   ],
   "source": [
    "custs.columns"
   ]
  },
  {
   "cell_type": "code",
<<<<<<< HEAD
   "execution_count": 26,
=======
   "execution_count": 27,
>>>>>>> 7a8c8eb08eaf71e3bccdfcfe9d3079cd3aa48311
   "metadata": {},
   "outputs": [
    {
     "name": "stdout",
     "output_type": "stream",
     "text": [
      "Collecting graphviz\n",
      "  Downloading https://files.pythonhosted.org/packages/f5/74/dbed754c0abd63768d3a7a7b472da35b08ac442cf87d73d5850a6f32391e/graphviz-0.13.2-py2.py3-none-any.whl\n",
      "Installing collected packages: graphviz\n",
      "Successfully installed graphviz-0.13.2\n"
     ]
    }
   ],
   "source": [
    "! pip install graphviz\n"
   ]
  },
  {
   "cell_type": "code",
   "execution_count": 31,
   "metadata": {},
   "outputs": [
    {
     "ename": "ExecutableNotFound",
     "evalue": "failed to execute ['dot', '-Tsvg'], make sure the Graphviz executables are on your systems' PATH",
     "output_type": "error",
     "traceback": [
      "\u001b[0;31m---------------------------------------------------------------------------\u001b[0m",
      "\u001b[0;31mFileNotFoundError\u001b[0m                         Traceback (most recent call last)",
      "\u001b[0;32m~/opt/anaconda3/lib/python3.7/site-packages/graphviz/backend.py\u001b[0m in \u001b[0;36mrun\u001b[0;34m(cmd, input, capture_output, check, quiet, **kwargs)\u001b[0m\n\u001b[1;32m    158\u001b[0m     \u001b[0;32mtry\u001b[0m\u001b[0;34m:\u001b[0m\u001b[0;34m\u001b[0m\u001b[0;34m\u001b[0m\u001b[0m\n\u001b[0;32m--> 159\u001b[0;31m         \u001b[0mproc\u001b[0m \u001b[0;34m=\u001b[0m \u001b[0msubprocess\u001b[0m\u001b[0;34m.\u001b[0m\u001b[0mPopen\u001b[0m\u001b[0;34m(\u001b[0m\u001b[0mcmd\u001b[0m\u001b[0;34m,\u001b[0m \u001b[0mstartupinfo\u001b[0m\u001b[0;34m=\u001b[0m\u001b[0mget_startupinfo\u001b[0m\u001b[0;34m(\u001b[0m\u001b[0;34m)\u001b[0m\u001b[0;34m,\u001b[0m \u001b[0;34m**\u001b[0m\u001b[0mkwargs\u001b[0m\u001b[0;34m)\u001b[0m\u001b[0;34m\u001b[0m\u001b[0;34m\u001b[0m\u001b[0m\n\u001b[0m\u001b[1;32m    160\u001b[0m     \u001b[0;32mexcept\u001b[0m \u001b[0mOSError\u001b[0m \u001b[0;32mas\u001b[0m \u001b[0me\u001b[0m\u001b[0;34m:\u001b[0m\u001b[0;34m\u001b[0m\u001b[0;34m\u001b[0m\u001b[0m\n",
      "\u001b[0;32m~/opt/anaconda3/lib/python3.7/subprocess.py\u001b[0m in \u001b[0;36m__init__\u001b[0;34m(self, args, bufsize, executable, stdin, stdout, stderr, preexec_fn, close_fds, shell, cwd, env, universal_newlines, startupinfo, creationflags, restore_signals, start_new_session, pass_fds, encoding, errors, text)\u001b[0m\n\u001b[1;32m    774\u001b[0m                                 \u001b[0merrread\u001b[0m\u001b[0;34m,\u001b[0m \u001b[0merrwrite\u001b[0m\u001b[0;34m,\u001b[0m\u001b[0;34m\u001b[0m\u001b[0;34m\u001b[0m\u001b[0m\n\u001b[0;32m--> 775\u001b[0;31m                                 restore_signals, start_new_session)\n\u001b[0m\u001b[1;32m    776\u001b[0m         \u001b[0;32mexcept\u001b[0m\u001b[0;34m:\u001b[0m\u001b[0;34m\u001b[0m\u001b[0;34m\u001b[0m\u001b[0m\n",
      "\u001b[0;32m~/opt/anaconda3/lib/python3.7/subprocess.py\u001b[0m in \u001b[0;36m_execute_child\u001b[0;34m(self, args, executable, preexec_fn, close_fds, pass_fds, cwd, env, startupinfo, creationflags, shell, p2cread, p2cwrite, c2pread, c2pwrite, errread, errwrite, restore_signals, start_new_session)\u001b[0m\n\u001b[1;32m   1521\u001b[0m                             \u001b[0merr_msg\u001b[0m \u001b[0;34m+=\u001b[0m \u001b[0;34m': '\u001b[0m \u001b[0;34m+\u001b[0m \u001b[0mrepr\u001b[0m\u001b[0;34m(\u001b[0m\u001b[0merr_filename\u001b[0m\u001b[0;34m)\u001b[0m\u001b[0;34m\u001b[0m\u001b[0;34m\u001b[0m\u001b[0m\n\u001b[0;32m-> 1522\u001b[0;31m                     \u001b[0;32mraise\u001b[0m \u001b[0mchild_exception_type\u001b[0m\u001b[0;34m(\u001b[0m\u001b[0merrno_num\u001b[0m\u001b[0;34m,\u001b[0m \u001b[0merr_msg\u001b[0m\u001b[0;34m,\u001b[0m \u001b[0merr_filename\u001b[0m\u001b[0;34m)\u001b[0m\u001b[0;34m\u001b[0m\u001b[0;34m\u001b[0m\u001b[0m\n\u001b[0m\u001b[1;32m   1523\u001b[0m                 \u001b[0;32mraise\u001b[0m \u001b[0mchild_exception_type\u001b[0m\u001b[0;34m(\u001b[0m\u001b[0merr_msg\u001b[0m\u001b[0;34m)\u001b[0m\u001b[0;34m\u001b[0m\u001b[0;34m\u001b[0m\u001b[0m\n",
      "\u001b[0;31mFileNotFoundError\u001b[0m: [Errno 2] No such file or directory: 'dot': 'dot'",
      "\nDuring handling of the above exception, another exception occurred:\n",
      "\u001b[0;31mExecutableNotFound\u001b[0m                        Traceback (most recent call last)",
      "\u001b[0;32m~/opt/anaconda3/lib/python3.7/site-packages/IPython/core/formatters.py\u001b[0m in \u001b[0;36m__call__\u001b[0;34m(self, obj)\u001b[0m\n\u001b[1;32m    343\u001b[0m             \u001b[0mmethod\u001b[0m \u001b[0;34m=\u001b[0m \u001b[0mget_real_method\u001b[0m\u001b[0;34m(\u001b[0m\u001b[0mobj\u001b[0m\u001b[0;34m,\u001b[0m \u001b[0mself\u001b[0m\u001b[0;34m.\u001b[0m\u001b[0mprint_method\u001b[0m\u001b[0;34m)\u001b[0m\u001b[0;34m\u001b[0m\u001b[0;34m\u001b[0m\u001b[0m\n\u001b[1;32m    344\u001b[0m             \u001b[0;32mif\u001b[0m \u001b[0mmethod\u001b[0m \u001b[0;32mis\u001b[0m \u001b[0;32mnot\u001b[0m \u001b[0;32mNone\u001b[0m\u001b[0;34m:\u001b[0m\u001b[0;34m\u001b[0m\u001b[0;34m\u001b[0m\u001b[0m\n\u001b[0;32m--> 345\u001b[0;31m                 \u001b[0;32mreturn\u001b[0m \u001b[0mmethod\u001b[0m\u001b[0;34m(\u001b[0m\u001b[0;34m)\u001b[0m\u001b[0;34m\u001b[0m\u001b[0;34m\u001b[0m\u001b[0m\n\u001b[0m\u001b[1;32m    346\u001b[0m             \u001b[0;32mreturn\u001b[0m \u001b[0;32mNone\u001b[0m\u001b[0;34m\u001b[0m\u001b[0;34m\u001b[0m\u001b[0m\n\u001b[1;32m    347\u001b[0m         \u001b[0;32melse\u001b[0m\u001b[0;34m:\u001b[0m\u001b[0;34m\u001b[0m\u001b[0;34m\u001b[0m\u001b[0m\n",
      "\u001b[0;32m~/opt/anaconda3/lib/python3.7/site-packages/graphviz/files.py\u001b[0m in \u001b[0;36m_repr_svg_\u001b[0;34m(self)\u001b[0m\n\u001b[1;32m    111\u001b[0m \u001b[0;34m\u001b[0m\u001b[0m\n\u001b[1;32m    112\u001b[0m     \u001b[0;32mdef\u001b[0m \u001b[0m_repr_svg_\u001b[0m\u001b[0;34m(\u001b[0m\u001b[0mself\u001b[0m\u001b[0;34m)\u001b[0m\u001b[0;34m:\u001b[0m\u001b[0;34m\u001b[0m\u001b[0;34m\u001b[0m\u001b[0m\n\u001b[0;32m--> 113\u001b[0;31m         \u001b[0;32mreturn\u001b[0m \u001b[0mself\u001b[0m\u001b[0;34m.\u001b[0m\u001b[0mpipe\u001b[0m\u001b[0;34m(\u001b[0m\u001b[0mformat\u001b[0m\u001b[0;34m=\u001b[0m\u001b[0;34m'svg'\u001b[0m\u001b[0;34m)\u001b[0m\u001b[0;34m.\u001b[0m\u001b[0mdecode\u001b[0m\u001b[0;34m(\u001b[0m\u001b[0mself\u001b[0m\u001b[0;34m.\u001b[0m\u001b[0m_encoding\u001b[0m\u001b[0;34m)\u001b[0m\u001b[0;34m\u001b[0m\u001b[0;34m\u001b[0m\u001b[0m\n\u001b[0m\u001b[1;32m    114\u001b[0m \u001b[0;34m\u001b[0m\u001b[0m\n\u001b[1;32m    115\u001b[0m     \u001b[0;32mdef\u001b[0m \u001b[0mpipe\u001b[0m\u001b[0;34m(\u001b[0m\u001b[0mself\u001b[0m\u001b[0;34m,\u001b[0m \u001b[0mformat\u001b[0m\u001b[0;34m=\u001b[0m\u001b[0;32mNone\u001b[0m\u001b[0;34m,\u001b[0m \u001b[0mrenderer\u001b[0m\u001b[0;34m=\u001b[0m\u001b[0;32mNone\u001b[0m\u001b[0;34m,\u001b[0m \u001b[0mformatter\u001b[0m\u001b[0;34m=\u001b[0m\u001b[0;32mNone\u001b[0m\u001b[0;34m,\u001b[0m \u001b[0mquiet\u001b[0m\u001b[0;34m=\u001b[0m\u001b[0;32mFalse\u001b[0m\u001b[0;34m)\u001b[0m\u001b[0;34m:\u001b[0m\u001b[0;34m\u001b[0m\u001b[0;34m\u001b[0m\u001b[0m\n",
      "\u001b[0;32m~/opt/anaconda3/lib/python3.7/site-packages/graphviz/files.py\u001b[0m in \u001b[0;36mpipe\u001b[0;34m(self, format, renderer, formatter, quiet)\u001b[0m\n\u001b[1;32m    136\u001b[0m         out = backend.pipe(self._engine, format, data,\n\u001b[1;32m    137\u001b[0m                            \u001b[0mrenderer\u001b[0m\u001b[0;34m=\u001b[0m\u001b[0mrenderer\u001b[0m\u001b[0;34m,\u001b[0m \u001b[0mformatter\u001b[0m\u001b[0;34m=\u001b[0m\u001b[0mformatter\u001b[0m\u001b[0;34m,\u001b[0m\u001b[0;34m\u001b[0m\u001b[0;34m\u001b[0m\u001b[0m\n\u001b[0;32m--> 138\u001b[0;31m                            quiet=quiet)\n\u001b[0m\u001b[1;32m    139\u001b[0m \u001b[0;34m\u001b[0m\u001b[0m\n\u001b[1;32m    140\u001b[0m         \u001b[0;32mreturn\u001b[0m \u001b[0mout\u001b[0m\u001b[0;34m\u001b[0m\u001b[0;34m\u001b[0m\u001b[0m\n",
      "\u001b[0;32m~/opt/anaconda3/lib/python3.7/site-packages/graphviz/backend.py\u001b[0m in \u001b[0;36mpipe\u001b[0;34m(engine, format, data, renderer, formatter, quiet)\u001b[0m\n\u001b[1;32m    227\u001b[0m     \"\"\"\n\u001b[1;32m    228\u001b[0m     \u001b[0mcmd\u001b[0m\u001b[0;34m,\u001b[0m \u001b[0m_\u001b[0m \u001b[0;34m=\u001b[0m \u001b[0mcommand\u001b[0m\u001b[0;34m(\u001b[0m\u001b[0mengine\u001b[0m\u001b[0;34m,\u001b[0m \u001b[0mformat\u001b[0m\u001b[0;34m,\u001b[0m \u001b[0;32mNone\u001b[0m\u001b[0;34m,\u001b[0m \u001b[0mrenderer\u001b[0m\u001b[0;34m,\u001b[0m \u001b[0mformatter\u001b[0m\u001b[0;34m)\u001b[0m\u001b[0;34m\u001b[0m\u001b[0;34m\u001b[0m\u001b[0m\n\u001b[0;32m--> 229\u001b[0;31m     \u001b[0mout\u001b[0m\u001b[0;34m,\u001b[0m \u001b[0m_\u001b[0m \u001b[0;34m=\u001b[0m \u001b[0mrun\u001b[0m\u001b[0;34m(\u001b[0m\u001b[0mcmd\u001b[0m\u001b[0;34m,\u001b[0m \u001b[0minput\u001b[0m\u001b[0;34m=\u001b[0m\u001b[0mdata\u001b[0m\u001b[0;34m,\u001b[0m \u001b[0mcapture_output\u001b[0m\u001b[0;34m=\u001b[0m\u001b[0;32mTrue\u001b[0m\u001b[0;34m,\u001b[0m \u001b[0mcheck\u001b[0m\u001b[0;34m=\u001b[0m\u001b[0;32mTrue\u001b[0m\u001b[0;34m,\u001b[0m \u001b[0mquiet\u001b[0m\u001b[0;34m=\u001b[0m\u001b[0mquiet\u001b[0m\u001b[0;34m)\u001b[0m\u001b[0;34m\u001b[0m\u001b[0;34m\u001b[0m\u001b[0m\n\u001b[0m\u001b[1;32m    230\u001b[0m     \u001b[0;32mreturn\u001b[0m \u001b[0mout\u001b[0m\u001b[0;34m\u001b[0m\u001b[0;34m\u001b[0m\u001b[0m\n\u001b[1;32m    231\u001b[0m \u001b[0;34m\u001b[0m\u001b[0m\n",
      "\u001b[0;32m~/opt/anaconda3/lib/python3.7/site-packages/graphviz/backend.py\u001b[0m in \u001b[0;36mrun\u001b[0;34m(cmd, input, capture_output, check, quiet, **kwargs)\u001b[0m\n\u001b[1;32m    160\u001b[0m     \u001b[0;32mexcept\u001b[0m \u001b[0mOSError\u001b[0m \u001b[0;32mas\u001b[0m \u001b[0me\u001b[0m\u001b[0;34m:\u001b[0m\u001b[0;34m\u001b[0m\u001b[0;34m\u001b[0m\u001b[0m\n\u001b[1;32m    161\u001b[0m         \u001b[0;32mif\u001b[0m \u001b[0me\u001b[0m\u001b[0;34m.\u001b[0m\u001b[0merrno\u001b[0m \u001b[0;34m==\u001b[0m \u001b[0merrno\u001b[0m\u001b[0;34m.\u001b[0m\u001b[0mENOENT\u001b[0m\u001b[0;34m:\u001b[0m\u001b[0;34m\u001b[0m\u001b[0;34m\u001b[0m\u001b[0m\n\u001b[0;32m--> 162\u001b[0;31m             \u001b[0;32mraise\u001b[0m \u001b[0mExecutableNotFound\u001b[0m\u001b[0;34m(\u001b[0m\u001b[0mcmd\u001b[0m\u001b[0;34m)\u001b[0m\u001b[0;34m\u001b[0m\u001b[0;34m\u001b[0m\u001b[0m\n\u001b[0m\u001b[1;32m    163\u001b[0m         \u001b[0;32melse\u001b[0m\u001b[0;34m:\u001b[0m\u001b[0;34m\u001b[0m\u001b[0;34m\u001b[0m\u001b[0m\n\u001b[1;32m    164\u001b[0m             \u001b[0;32mraise\u001b[0m\u001b[0;34m\u001b[0m\u001b[0;34m\u001b[0m\u001b[0m\n",
      "\u001b[0;31mExecutableNotFound\u001b[0m: failed to execute ['dot', '-Tsvg'], make sure the Graphviz executables are on your systems' PATH"
     ]
    },
    {
     "data": {
<<<<<<< HEAD
      "text/plain": [
       "<graphviz.files.Source at 0x1a21306690>"
      ]
     },
     "execution_count": 31,
=======
      "image/svg+xml": [
       "<?xml version=\"1.0\" encoding=\"UTF-8\" standalone=\"no\"?>\n",
       "<!DOCTYPE svg PUBLIC \"-//W3C//DTD SVG 1.1//EN\"\n",
       " \"http://www.w3.org/Graphics/SVG/1.1/DTD/svg11.dtd\">\n",
       "<!-- Generated by graphviz version 2.40.1 (20161225.0304)\n",
       " -->\n",
       "<!-- Title: Tree Pages: 1 -->\n",
       "<svg width=\"351pt\" height=\"433pt\"\n",
       " viewBox=\"0.00 0.00 351.00 433.00\" xmlns=\"http://www.w3.org/2000/svg\" xmlns:xlink=\"http://www.w3.org/1999/xlink\">\n",
       "<g id=\"graph0\" class=\"graph\" transform=\"scale(1 1) rotate(0) translate(4 429)\">\n",
       "<title>Tree</title>\n",
       "<polygon fill=\"#ffffff\" stroke=\"transparent\" points=\"-4,4 -4,-429 347,-429 347,4 -4,4\"/>\n",
       "<!-- 0 -->\n",
       "<g id=\"node1\" class=\"node\">\n",
       "<title>0</title>\n",
       "<path fill=\"#f6d5bd\" stroke=\"#000000\" d=\"M159.5,-425C159.5,-425 63.5,-425 63.5,-425 57.5,-425 51.5,-419 51.5,-413 51.5,-413 51.5,-354 51.5,-354 51.5,-348 57.5,-342 63.5,-342 63.5,-342 159.5,-342 159.5,-342 165.5,-342 171.5,-348 171.5,-354 171.5,-354 171.5,-413 171.5,-413 171.5,-419 165.5,-425 159.5,-425\"/>\n",
       "<text text-anchor=\"start\" x=\"59.5\" y=\"-409.8\" font-family=\"Helvetica,sans-Serif\" font-size=\"14.00\" fill=\"#000000\">salary ≤ 57500.0</text>\n",
       "<text text-anchor=\"start\" x=\"79\" y=\"-394.8\" font-family=\"Helvetica,sans-Serif\" font-size=\"14.00\" fill=\"#000000\">gini = 0.48</text>\n",
       "<text text-anchor=\"start\" x=\"73.5\" y=\"-379.8\" font-family=\"Helvetica,sans-Serif\" font-size=\"14.00\" fill=\"#000000\">samples = 5</text>\n",
       "<text text-anchor=\"start\" x=\"71\" y=\"-364.8\" font-family=\"Helvetica,sans-Serif\" font-size=\"14.00\" fill=\"#000000\">value = [3, 2]</text>\n",
       "<text text-anchor=\"start\" x=\"79.5\" y=\"-349.8\" font-family=\"Helvetica,sans-Serif\" font-size=\"14.00\" fill=\"#000000\">class = no</text>\n",
       "</g>\n",
       "<!-- 1 -->\n",
       "<g id=\"node2\" class=\"node\">\n",
       "<title>1</title>\n",
       "<path fill=\"#e58139\" stroke=\"#000000\" d=\"M85,-298.5C85,-298.5 12,-298.5 12,-298.5 6,-298.5 0,-292.5 0,-286.5 0,-286.5 0,-242.5 0,-242.5 0,-236.5 6,-230.5 12,-230.5 12,-230.5 85,-230.5 85,-230.5 91,-230.5 97,-236.5 97,-242.5 97,-242.5 97,-286.5 97,-286.5 97,-292.5 91,-298.5 85,-298.5\"/>\n",
       "<text text-anchor=\"start\" x=\"19.5\" y=\"-283.3\" font-family=\"Helvetica,sans-Serif\" font-size=\"14.00\" fill=\"#000000\">gini = 0.0</text>\n",
       "<text text-anchor=\"start\" x=\"10.5\" y=\"-268.3\" font-family=\"Helvetica,sans-Serif\" font-size=\"14.00\" fill=\"#000000\">samples = 2</text>\n",
       "<text text-anchor=\"start\" x=\"8\" y=\"-253.3\" font-family=\"Helvetica,sans-Serif\" font-size=\"14.00\" fill=\"#000000\">value = [2, 0]</text>\n",
       "<text text-anchor=\"start\" x=\"16.5\" y=\"-238.3\" font-family=\"Helvetica,sans-Serif\" font-size=\"14.00\" fill=\"#000000\">class = no</text>\n",
       "</g>\n",
       "<!-- 0&#45;&gt;1 -->\n",
       "<g id=\"edge1\" class=\"edge\">\n",
       "<title>0&#45;&gt;1</title>\n",
       "<path fill=\"none\" stroke=\"#000000\" d=\"M89.4657,-341.8796C83.6442,-330.8835 77.3473,-318.9893 71.4773,-307.9015\"/>\n",
       "<polygon fill=\"#000000\" stroke=\"#000000\" points=\"74.4389,-306.0152 66.6667,-298.8149 68.2524,-309.2905 74.4389,-306.0152\"/>\n",
       "<text text-anchor=\"middle\" x=\"59.3146\" y=\"-319.0094\" font-family=\"Helvetica,sans-Serif\" font-size=\"14.00\" fill=\"#000000\">True</text>\n",
       "</g>\n",
       "<!-- 2 -->\n",
       "<g id=\"node3\" class=\"node\">\n",
       "<title>2</title>\n",
       "<path fill=\"#9ccef2\" stroke=\"#000000\" d=\"M221.5,-306C221.5,-306 127.5,-306 127.5,-306 121.5,-306 115.5,-300 115.5,-294 115.5,-294 115.5,-235 115.5,-235 115.5,-229 121.5,-223 127.5,-223 127.5,-223 221.5,-223 221.5,-223 227.5,-223 233.5,-229 233.5,-235 233.5,-235 233.5,-294 233.5,-294 233.5,-300 227.5,-306 221.5,-306\"/>\n",
       "<text text-anchor=\"start\" x=\"123.5\" y=\"-290.8\" font-family=\"Helvetica,sans-Serif\" font-size=\"14.00\" fill=\"#000000\">total_bill ≤ 150.0</text>\n",
       "<text text-anchor=\"start\" x=\"138\" y=\"-275.8\" font-family=\"Helvetica,sans-Serif\" font-size=\"14.00\" fill=\"#000000\">gini = 0.444</text>\n",
       "<text text-anchor=\"start\" x=\"136.5\" y=\"-260.8\" font-family=\"Helvetica,sans-Serif\" font-size=\"14.00\" fill=\"#000000\">samples = 3</text>\n",
       "<text text-anchor=\"start\" x=\"134\" y=\"-245.8\" font-family=\"Helvetica,sans-Serif\" font-size=\"14.00\" fill=\"#000000\">value = [1, 2]</text>\n",
       "<text text-anchor=\"start\" x=\"139.5\" y=\"-230.8\" font-family=\"Helvetica,sans-Serif\" font-size=\"14.00\" fill=\"#000000\">class = yes</text>\n",
       "</g>\n",
       "<!-- 0&#45;&gt;2 -->\n",
       "<g id=\"edge2\" class=\"edge\">\n",
       "<title>0&#45;&gt;2</title>\n",
       "<path fill=\"none\" stroke=\"#000000\" d=\"M133.5343,-341.8796C138.064,-333.3236 142.8815,-324.2238 147.5618,-315.3833\"/>\n",
       "<polygon fill=\"#000000\" stroke=\"#000000\" points=\"150.7859,-316.7736 152.3716,-306.2981 144.5994,-313.4983 150.7859,-316.7736\"/>\n",
       "<text text-anchor=\"middle\" x=\"159.7238\" y=\"-326.4925\" font-family=\"Helvetica,sans-Serif\" font-size=\"14.00\" fill=\"#000000\">False</text>\n",
       "</g>\n",
       "<!-- 3 -->\n",
       "<g id=\"node4\" class=\"node\">\n",
       "<title>3</title>\n",
       "<path fill=\"#399de5\" stroke=\"#000000\" d=\"M148,-179.5C148,-179.5 75,-179.5 75,-179.5 69,-179.5 63,-173.5 63,-167.5 63,-167.5 63,-123.5 63,-123.5 63,-117.5 69,-111.5 75,-111.5 75,-111.5 148,-111.5 148,-111.5 154,-111.5 160,-117.5 160,-123.5 160,-123.5 160,-167.5 160,-167.5 160,-173.5 154,-179.5 148,-179.5\"/>\n",
       "<text text-anchor=\"start\" x=\"82.5\" y=\"-164.3\" font-family=\"Helvetica,sans-Serif\" font-size=\"14.00\" fill=\"#000000\">gini = 0.0</text>\n",
       "<text text-anchor=\"start\" x=\"73.5\" y=\"-149.3\" font-family=\"Helvetica,sans-Serif\" font-size=\"14.00\" fill=\"#000000\">samples = 1</text>\n",
       "<text text-anchor=\"start\" x=\"71\" y=\"-134.3\" font-family=\"Helvetica,sans-Serif\" font-size=\"14.00\" fill=\"#000000\">value = [0, 1]</text>\n",
       "<text text-anchor=\"start\" x=\"76.5\" y=\"-119.3\" font-family=\"Helvetica,sans-Serif\" font-size=\"14.00\" fill=\"#000000\">class = yes</text>\n",
       "</g>\n",
       "<!-- 2&#45;&gt;3 -->\n",
       "<g id=\"edge3\" class=\"edge\">\n",
       "<title>2&#45;&gt;3</title>\n",
       "<path fill=\"none\" stroke=\"#000000\" d=\"M152.4657,-222.8796C146.6442,-211.8835 140.3473,-199.9893 134.4773,-188.9015\"/>\n",
       "<polygon fill=\"#000000\" stroke=\"#000000\" points=\"137.4389,-187.0152 129.6667,-179.8149 131.2524,-190.2905 137.4389,-187.0152\"/>\n",
       "</g>\n",
       "<!-- 4 -->\n",
       "<g id=\"node5\" class=\"node\">\n",
       "<title>4</title>\n",
       "<path fill=\"#ffffff\" stroke=\"#000000\" d=\"M284.5,-187C284.5,-187 190.5,-187 190.5,-187 184.5,-187 178.5,-181 178.5,-175 178.5,-175 178.5,-116 178.5,-116 178.5,-110 184.5,-104 190.5,-104 190.5,-104 284.5,-104 284.5,-104 290.5,-104 296.5,-110 296.5,-116 296.5,-116 296.5,-175 296.5,-175 296.5,-181 290.5,-187 284.5,-187\"/>\n",
       "<text text-anchor=\"start\" x=\"186.5\" y=\"-171.8\" font-family=\"Helvetica,sans-Serif\" font-size=\"14.00\" fill=\"#000000\">total_bill ≤ 350.0</text>\n",
       "<text text-anchor=\"start\" x=\"208.5\" y=\"-156.8\" font-family=\"Helvetica,sans-Serif\" font-size=\"14.00\" fill=\"#000000\">gini = 0.5</text>\n",
       "<text text-anchor=\"start\" x=\"199.5\" y=\"-141.8\" font-family=\"Helvetica,sans-Serif\" font-size=\"14.00\" fill=\"#000000\">samples = 2</text>\n",
       "<text text-anchor=\"start\" x=\"197\" y=\"-126.8\" font-family=\"Helvetica,sans-Serif\" font-size=\"14.00\" fill=\"#000000\">value = [1, 1]</text>\n",
       "<text text-anchor=\"start\" x=\"205.5\" y=\"-111.8\" font-family=\"Helvetica,sans-Serif\" font-size=\"14.00\" fill=\"#000000\">class = no</text>\n",
       "</g>\n",
       "<!-- 2&#45;&gt;4 -->\n",
       "<g id=\"edge4\" class=\"edge\">\n",
       "<title>2&#45;&gt;4</title>\n",
       "<path fill=\"none\" stroke=\"#000000\" d=\"M196.5343,-222.8796C201.064,-214.3236 205.8815,-205.2238 210.5618,-196.3833\"/>\n",
       "<polygon fill=\"#000000\" stroke=\"#000000\" points=\"213.7859,-197.7736 215.3716,-187.2981 207.5994,-194.4983 213.7859,-197.7736\"/>\n",
       "</g>\n",
       "<!-- 5 -->\n",
       "<g id=\"node6\" class=\"node\">\n",
       "<title>5</title>\n",
       "<path fill=\"#e58139\" stroke=\"#000000\" d=\"M216,-68C216,-68 143,-68 143,-68 137,-68 131,-62 131,-56 131,-56 131,-12 131,-12 131,-6 137,0 143,0 143,0 216,0 216,0 222,0 228,-6 228,-12 228,-12 228,-56 228,-56 228,-62 222,-68 216,-68\"/>\n",
       "<text text-anchor=\"start\" x=\"150.5\" y=\"-52.8\" font-family=\"Helvetica,sans-Serif\" font-size=\"14.00\" fill=\"#000000\">gini = 0.0</text>\n",
       "<text text-anchor=\"start\" x=\"141.5\" y=\"-37.8\" font-family=\"Helvetica,sans-Serif\" font-size=\"14.00\" fill=\"#000000\">samples = 1</text>\n",
       "<text text-anchor=\"start\" x=\"139\" y=\"-22.8\" font-family=\"Helvetica,sans-Serif\" font-size=\"14.00\" fill=\"#000000\">value = [1, 0]</text>\n",
       "<text text-anchor=\"start\" x=\"147.5\" y=\"-7.8\" font-family=\"Helvetica,sans-Serif\" font-size=\"14.00\" fill=\"#000000\">class = no</text>\n",
       "</g>\n",
       "<!-- 4&#45;&gt;5 -->\n",
       "<g id=\"edge5\" class=\"edge\">\n",
       "<title>4&#45;&gt;5</title>\n",
       "<path fill=\"none\" stroke=\"#000000\" d=\"M215.9029,-103.9815C211.3612,-95.2504 206.5598,-86.0202 201.9863,-77.2281\"/>\n",
       "<polygon fill=\"#000000\" stroke=\"#000000\" points=\"205.0431,-75.52 197.3233,-68.2637 198.8331,-78.7504 205.0431,-75.52\"/>\n",
       "</g>\n",
       "<!-- 6 -->\n",
       "<g id=\"node7\" class=\"node\">\n",
       "<title>6</title>\n",
       "<path fill=\"#399de5\" stroke=\"#000000\" d=\"M331,-68C331,-68 258,-68 258,-68 252,-68 246,-62 246,-56 246,-56 246,-12 246,-12 246,-6 252,0 258,0 258,0 331,0 331,0 337,0 343,-6 343,-12 343,-12 343,-56 343,-56 343,-62 337,-68 331,-68\"/>\n",
       "<text text-anchor=\"start\" x=\"265.5\" y=\"-52.8\" font-family=\"Helvetica,sans-Serif\" font-size=\"14.00\" fill=\"#000000\">gini = 0.0</text>\n",
       "<text text-anchor=\"start\" x=\"256.5\" y=\"-37.8\" font-family=\"Helvetica,sans-Serif\" font-size=\"14.00\" fill=\"#000000\">samples = 1</text>\n",
       "<text text-anchor=\"start\" x=\"254\" y=\"-22.8\" font-family=\"Helvetica,sans-Serif\" font-size=\"14.00\" fill=\"#000000\">value = [0, 1]</text>\n",
       "<text text-anchor=\"start\" x=\"259.5\" y=\"-7.8\" font-family=\"Helvetica,sans-Serif\" font-size=\"14.00\" fill=\"#000000\">class = yes</text>\n",
       "</g>\n",
       "<!-- 4&#45;&gt;6 -->\n",
       "<g id=\"edge6\" class=\"edge\">\n",
       "<title>4&#45;&gt;6</title>\n",
       "<path fill=\"none\" stroke=\"#000000\" d=\"M258.7247,-103.9815C263.1881,-95.2504 267.9067,-86.0202 272.4013,-77.2281\"/>\n",
       "<polygon fill=\"#000000\" stroke=\"#000000\" points=\"275.5486,-78.7608 276.984,-68.2637 269.3158,-75.5745 275.5486,-78.7608\"/>\n",
       "</g>\n",
       "</g>\n",
       "</svg>\n"
      ],
      "text/plain": [
       "<graphviz.files.Source at 0x1a1ad3c048>"
      ]
     },
     "execution_count": 27,
>>>>>>> 7a8c8eb08eaf71e3bccdfcfe9d3079cd3aa48311
     "metadata": {},
     "output_type": "execute_result"
    }
   ],
   "source": [
    "import graphviz \n",
    "dot_data = tree.export_graphviz(clf, out_file=None, feature_names= ['salary', \n",
    "                                                                   'total_bill', \n",
    "                                                                   'club_member',\n",
    "                                                                   'years_post-sec_ed'],\n",
    "                     class_names=['no', 'yes'],\n",
    "                        filled=True, rounded=True,  \n",
    "                     special_characters=True)  \n",
    "\n",
    "graph = graphviz.Source(dot_data) \n",
    "graph"
   ]
  },
  {
   "cell_type": "code",
   "execution_count": 30,
   "metadata": {},
   "outputs": [
    {
     "data": {
      "text/plain": [
       "['salary', 'total_bill', 'club_member', 'years_post-sec_ed']"
      ]
     },
     "execution_count": 30,
     "metadata": {},
     "output_type": "execute_result"
    }
   ],
   "source": [
    "features = custs.columns.tolist()\n",
    "features.remove('paid')\n",
    "features"
   ]
  },
  {
   "cell_type": "code",
   "execution_count": 47,
   "metadata": {},
   "outputs": [
    {
     "name": "stdout",
     "output_type": "stream",
     "text": [
      "|--- total_bill <= 750.00\n",
      "|   |--- years_post-sec_ed <= 3.50\n",
      "|   |   |--- class: True\n",
      "|   |--- years_post-sec_ed >  3.50\n",
      "|   |   |--- class: False\n",
      "|--- total_bill >  750.00\n",
      "|   |--- class: False\n",
      "\n"
     ]
    }
   ],
   "source": [
    "from sklearn.tree.export import export_text\n",
    "\n",
    "r = export_text(ct, feature_names= features)\n",
    "print(r)"
   ]
  },
  {
   "cell_type": "code",
   "execution_count": 48,
   "metadata": {
    "slideshow": {
     "slide_type": "skip"
    }
   },
   "outputs": [
    {
     "data": {
      "text/plain": [
       "5"
      ]
     },
     "execution_count": 48,
     "metadata": {},
     "output_type": "execute_result"
    }
   ],
   "source": [
    "dt_mod.tree_.node_count"
   ]
  },
  {
   "cell_type": "code",
   "execution_count": 49,
   "metadata": {
    "slideshow": {
     "slide_type": "skip"
    }
   },
   "outputs": [],
   "source": [
    "import numpy as np"
   ]
  },
  {
   "cell_type": "code",
   "execution_count": 50,
   "metadata": {
    "slideshow": {
     "slide_type": "skip"
    }
   },
   "outputs": [
    {
     "name": "stdout",
     "output_type": "stream",
     "text": [
      "The binary tree structure has 5 nodes and has the following tree structure:\n",
      "node=0 test node: go to node 1 if X[:, 1] <= 750.0 else to node 4.\n",
      "\tnode=1 test node: go to node 2 if X[:, 3] <= 3.5 else to node 3.\n",
      "\t\tnode=2 leaf node.\n",
      "\t\tnode=3 leaf node.\n",
      "\tnode=4 leaf node.\n",
      "\n"
     ]
    }
   ],
   "source": [
    "n_nodes = dt_mod.tree_.node_count\n",
    "children_left = dt_mod.tree_.children_left\n",
    "children_right = dt_mod.tree_.children_right\n",
    "feature = dt_mod.tree_.feature\n",
    "threshold = dt_mod.tree_.threshold\n",
    "\n",
    "# This code courtesy of sklearn:\n",
    "# https://scikit-learn.org/stable/auto_examples/tree/plot_unveil_tree_structure.html\n",
    "\n",
    "\n",
    "# The tree structure can be traversed to compute various properties such\n",
    "# as the depth of each node and whether or not it is a leaf.\n",
    "node_depth = np.zeros(shape=n_nodes, dtype=np.int64)\n",
    "is_leaves = np.zeros(shape=n_nodes, dtype=bool)\n",
    "stack = [(0, -1)]  # seed is the root node id and its parent depth\n",
    "while len(stack) > 0:\n",
    "    node_id, parent_depth = stack.pop()\n",
    "    node_depth[node_id] = parent_depth + 1\n",
    "\n",
    "    # If we have a test node\n",
    "    if (children_left[node_id] != children_right[node_id]):\n",
    "        stack.append((children_left[node_id], parent_depth + 1))\n",
    "        stack.append((children_right[node_id], parent_depth + 1))\n",
    "    else:\n",
    "        is_leaves[node_id] = True\n",
    "\n",
    "print(\"The binary tree structure has %s nodes and has \"\n",
    "      \"the following tree structure:\"\n",
    "      % n_nodes)\n",
    "for i in range(n_nodes):\n",
    "    if is_leaves[i]:\n",
    "        print(\"%snode=%s leaf node.\" % (node_depth[i] * \"\\t\", i))\n",
    "    else:\n",
    "        print(\"%snode=%s test node: go to node %s if X[:, %s] <= %s else to \"\n",
    "              \"node %s.\"\n",
    "              % (node_depth[i] * \"\\t\",\n",
    "                 i,\n",
    "                 children_left[i],\n",
    "                 feature[i],\n",
    "                 threshold[i],\n",
    "                 children_right[i],\n",
    "                 ))\n",
    "print()"
   ]
  },
  {
   "cell_type": "markdown",
   "metadata": {
    "slideshow": {
     "slide_type": "notes"
    }
   },
   "source": [
    "### Interpretation\n",
    "\n",
    "Let's unpack this:\n",
    "\n",
    "The first question (\"test\") is: \"Is Salary $\\leq$ 57500?\" If so, then stop: All (i.e. both) such customers are *non-payers*.\n",
    "\n",
    "If not: The next test (for those whose salary > 57500) is: \"Is Total Bill $\\leq$ 150?\" If so, then stop: All such customers (i.e. customer 1) are *payers*. Notice how 150 is midway between the total bills of customer 1 (a payer) and customer 4 (a non-payer).\n",
    "\n",
    "If not: The next test (for those whose total bill > 150) is: \"Is the number of Years of Post-Sec Ed $\\leq$ 3.5?\" If so, then stop: All such customers (i.e. customer 3) are *payers*. If not, then stop: All such customers (i.e. customer 4) are *non-payers*. Notice how 3.5 is midway between the numbers of years of post-sec ed of customer 3 (a payer) and customer 4 (a non-payer)."
   ]
  },
  {
   "cell_type": "code",
   "execution_count": null,
   "metadata": {},
   "outputs": [],
   "source": [
    "ct = DecisionTreeClassifier()"
   ]
  },
  {
   "cell_type": "code",
   "execution_count": 34,
   "metadata": {
    "slideshow": {
     "slide_type": "notes"
    }
   },
   "outputs": [
    {
     "data": {
      "text/plain": [
       "array([0, 1, 2, 2, 3, 3, 1])"
      ]
     },
     "execution_count": 34,
     "metadata": {},
     "output_type": "execute_result"
    }
   ],
   "source": [
    "node_depth"
   ]
  },
  {
   "cell_type": "code",
   "execution_count": 35,
   "metadata": {
    "slideshow": {
     "slide_type": "notes"
    }
   },
   "outputs": [
    {
     "data": {
      "text/plain": [
       "[]"
      ]
     },
     "execution_count": 35,
     "metadata": {},
     "output_type": "execute_result"
    }
   ],
   "source": [
    "stack"
   ]
  },
  {
   "cell_type": "code",
   "execution_count": 21,
   "metadata": {
    "slideshow": {
     "slide_type": "notes"
    }
   },
   "outputs": [
    {
     "data": {
      "text/plain": [
       "array([ 1, -1,  3, -1,  5, -1, -1])"
      ]
     },
     "execution_count": 21,
     "metadata": {},
     "output_type": "execute_result"
    }
   ],
   "source": [
    "ct.tree_.children_left"
   ]
  },
  {
   "cell_type": "code",
   "execution_count": 22,
   "metadata": {
    "slideshow": {
     "slide_type": "notes"
    }
   },
   "outputs": [
    {
     "data": {
      "text/plain": [
       "array([ 2, -1,  4, -1,  6, -1, -1])"
      ]
     },
     "execution_count": 22,
     "metadata": {},
     "output_type": "execute_result"
    }
   ],
   "source": [
    "ct.tree_.children_right"
   ]
  },
  {
   "cell_type": "markdown",
   "metadata": {
    "slideshow": {
     "slide_type": "slide"
    }
   },
   "source": [
    "### Evaluating a decision tree:\n",
    "- Train and test - use predict to compare auc of test and train\n",
    "- \"prune\" the tree: adjust minimum number of samples required at a leaf node or a split as well as setting the maximum depth of the tree.\n"
   ]
  },
  {
   "cell_type": "markdown",
   "metadata": {
    "slideshow": {
     "slide_type": "slide"
    }
   },
   "source": [
    "### Pros and Cons of Decision Trees"
   ]
  },
  {
   "cell_type": "markdown",
   "metadata": {
    "slideshow": {
     "slide_type": "slide"
    }
   },
   "source": [
    "#### Pros:\n",
    "- Easy to Understand\n",
    "- Useful in Data exploration\n",
    "- Less data cleaning required\n",
    "- Data type is not a constraint\n",
    "- Non Parametric Method\n"
   ]
  },
  {
   "cell_type": "markdown",
   "metadata": {
    "slideshow": {
     "slide_type": "slide"
    }
   },
   "source": [
    "#### Cons:\n",
    "- Prone to over-fitting\n",
    "- Struggles with creating cut-off splits with continuous variables\n"
   ]
  },
  {
   "cell_type": "markdown",
   "metadata": {
    "slideshow": {
     "slide_type": "slide"
    }
   },
   "source": [
    "## Outcome Review\n",
    "\n",
    "- summarize the intuitive logic behind decision trees\n",
    "- solve a small example with metric\n",
    "- explore the fine-tuning options in `sklearn` for decision trees\n",
    "- build a decision tree in `sklearn`\n"
   ]
  }
 ],
 "metadata": {
  "celltoolbar": "Slideshow",
  "kernelspec": {
   "display_name": "Python 3",
   "language": "python",
   "name": "python3"
  },
  "language_info": {
   "codemirror_mode": {
    "name": "ipython",
    "version": 3
   },
   "file_extension": ".py",
   "mimetype": "text/x-python",
   "name": "python",
   "nbconvert_exporter": "python",
   "pygments_lexer": "ipython3",
   "version": "3.7.4"
  },
  "toc": {
   "base_numbering": 1,
   "nav_menu": {},
   "number_sections": true,
   "sideBar": true,
   "skip_h1_title": false,
   "title_cell": "Table of Contents",
   "title_sidebar": "Contents",
   "toc_cell": false,
   "toc_position": {},
   "toc_section_display": true,
   "toc_window_display": false
  }
 },
 "nbformat": 4,
 "nbformat_minor": 4
}
